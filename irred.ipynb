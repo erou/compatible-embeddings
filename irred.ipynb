{
 "cells": [
  {
   "cell_type": "code",
   "execution_count": 1,
   "metadata": {
    "collapsed": true,
    "deletable": true,
    "editable": true
   },
   "outputs": [],
   "source": [
    "from itertools import izip_longest\n",
    "\n",
    "def composed_product(P, Q):\n",
    "    '''\n",
    "    Composed product of P and Q\n",
    "    '''\n",
    "    A = P.parent()\n",
    "    x = A.gen()\n",
    "    m, n = P.degree(), Q.degree()\n",
    "    dual = lambda R, d: R.derivative().reverse().multiplication_trunc(R.reverse().inverse_series_trunc(d), d)\n",
    "    lift = A([(a*b) for a,b in izip_longest(dual(P, 2*m*n+1), dual(Q, 2*m*n+1), fillvalue=0)])\n",
    "    R = lift.rational_reconstruct(x^(2*m*n+1), m*n, m*n)[1].reverse().monic()\n",
    "    assert R.degree() == m*n\n",
    "    return R"
   ]
  },
  {
   "cell_type": "code",
   "execution_count": 2,
   "metadata": {
    "collapsed": true,
    "deletable": true,
    "editable": true
   },
   "outputs": [],
   "source": [
    "# Test\n",
    "A.<x> = GF(5)[]\n",
    "\n",
    "B.<X,Y> = GF(5)[]\n",
    "\n",
    "for i in range(20):\n",
    "    n = randrange(2,10)\n",
    "    m = randrange(1,4)\n",
    "    P = A.irreducible_element(n)\n",
    "    Q = A.irreducible_element(n+m)\n",
    "    R = composed_product(P, Q)\n",
    "    assert R.degree() == P.degree() * Q.degree()\n",
    "    assert P(X).resultant(Q.reverse()(X*Y)).univariate_polynomial()(x).reverse() == R"
   ]
  },
  {
   "cell_type": "code",
   "execution_count": 3,
   "metadata": {
    "collapsed": true,
    "deletable": true,
    "editable": true
   },
   "outputs": [],
   "source": [
    "def primary_irred(A, q, e):\n",
    "    return A.irreducible_element(q^e)\n",
    "def cyclo_deg(k, n):\n",
    "    return Zmod(n)(k.characteristic()).multiplicative_order()"
   ]
  },
  {
   "cell_type": "code",
   "execution_count": 4,
   "metadata": {
    "collapsed": true,
    "deletable": true,
    "editable": true
   },
   "outputs": [],
   "source": [
    "def irred(k, n):\n",
    "    A = PolynomialRing(k, 'x')\n",
    "    P = A.gen() - 1\n",
    "    for q, e in n.factor():\n",
    "        P = composed_product(P, primary_irred(A, q, e))\n",
    "    return P"
   ]
  },
  {
   "cell_type": "code",
   "execution_count": 5,
   "metadata": {
    "collapsed": true,
    "deletable": true,
    "editable": true
   },
   "outputs": [],
   "source": [
    "def complete_algebra(k, n):\n",
    "    \n",
    "    q = k.order()\n",
    "    P = irred(k, q^n-1)\n",
    "    \n",
    "    m = GF(q^n).multiplicative_generator().minimal_polynomial()\n",
    "    K.<z> = GF(q^(q^n-1), modulus = P, check_irreducible = False)\n",
    "    A = K['z']\n",
    "    h = A(m)\n",
    "    \n",
    "    return sage.rings.polynomial.polynomial_quotient_ring.PolynomialQuotientRing_domain(A, h, 'z')"
   ]
  },
  {
   "cell_type": "code",
   "execution_count": 6,
   "metadata": {
    "collapsed": true,
    "deletable": true,
    "editable": true
   },
   "outputs": [],
   "source": [
    "def frob_l(a, i=1):\n",
    "    A = a.parent()\n",
    "    q = a.base_ring().base_ring().order()\n",
    "    return A(list(c^(q^i) for c in a))\n",
    "\n",
    "def frob_r(a, i=1):\n",
    "    A = a.parent()\n",
    "    z = A.gen()\n",
    "    q = a.base_ring().base_ring().order()\n",
    "    return sum(c*z^(j*q^i) for j, c in enumerate(a))\n",
    "\n",
    "def norm_r(x, a, b):\n",
    "    d = b//a\n",
    "    return product(frob_r(x, a*j) for j in range(d))\n",
    "\n",
    "def nth_root_r(x, n):\n",
    "    A = x.parent()\n",
    "    k = A.base_ring().base_ring()\n",
    "    C = k.extension(A.modulus().change_ring(k), 'x')\n",
    "    y = C([k(a) for a in x.list()])\n",
    "    return A(y.nth_root(n))"
   ]
  },
  {
   "cell_type": "code",
   "execution_count": 7,
   "metadata": {
    "collapsed": true,
    "deletable": true,
    "editable": true
   },
   "outputs": [],
   "source": [
    "def change_basis(elem, basis, d2):\n",
    "    \n",
    "    k = elem.base_ring()\n",
    "    d1 = elem.parent().degree()\n",
    "    A = MatrixSpace(k, d1, d2)()\n",
    "    \n",
    "    for i in range(d2):\n",
    "        L = (basis^i).list()\n",
    "        for j in range(d1):\n",
    "            A[j,i] = L[j]\n",
    "            \n",
    "    S2 = MatrixSpace(k, d1, 1)\n",
    "    B = S2(elem.list())\n",
    "    X = A.solve_right(B)\n",
    "    \n",
    "    return X[0,0]\n",
    "\n",
    "\"\"\"\n",
    "Express `elem` in the base `newbase`. Outputs a column matrix.\n",
    "\"\"\"\n",
    "def base_change(elem, newbase):\n",
    "    k = elem.base_ring()\n",
    "    d = elem.parent().degree()\n",
    "    A = MatrixSpace(k, d, d)()\n",
    "    \n",
    "    for i in range(d):\n",
    "        L = (newbase^i).list()\n",
    "        for j in range(d):\n",
    "            A[j,i] = L[j]\n",
    "            \n",
    "    B = A^-1\n",
    "    S = MatrixSpace(k, d, 1)\n",
    "    X = S(elem.list())\n",
    "    Y = B*X\n",
    "    return Y"
   ]
  },
  {
   "cell_type": "code",
   "execution_count": 8,
   "metadata": {
    "collapsed": false,
    "deletable": true,
    "editable": true
   },
   "outputs": [],
   "source": [
    "def is_h90(a, zeta):\n",
    "    return frob_l(a) == zeta * a\n",
    "\n",
    "def solve_h90(A, z = None):\n",
    "    x = A(1)\n",
    "    n = A.base_ring().degree()\n",
    "    if z == None:\n",
    "        z = A.gen()\n",
    "    while not is_h90(x, z):\n",
    "        x = A.random_element()\n",
    "        x = sum(frob_l(x, i)*z^-i for i in range(n))\n",
    "    return x\n",
    "\n",
    "def solve_h90bis(A, z = None, more = False, l = None):\n",
    "    x = A(1)\n",
    "    n = A.base_ring().degree()\n",
    "    if l == None:\n",
    "        l = n\n",
    "    if z == None:\n",
    "        z = A.gen()\n",
    "    while not is_h90(x, z):\n",
    "        x = A.random_element()\n",
    "        y = x\n",
    "        zinv = z^-1\n",
    "        zz = A.one()\n",
    "        for i in range(1, n):\n",
    "            zz *= zinv\n",
    "            y = frob_l(y)\n",
    "            x += y*zz\n",
    "    \n",
    "    if not more:\n",
    "        return x\n",
    "    else:\n",
    "        k = A.base_ring().base_ring()\n",
    "        t = (A.gen()^A.degree())/(x^l)\n",
    "        return x*nth_root_r(t, l)\n",
    "\n",
    "def test_h90(A, x, n = 10):\n",
    "    z = A.gen()\n",
    "    x1, x2 = x, x\n",
    "    x1 = sum(frob_l(x1, i)*z^-i for i in range(n))\n",
    "    \n",
    "    y = x\n",
    "    zinv = z^-1\n",
    "    zz = A.one()\n",
    "    for i in range(1, n):\n",
    "        zz *= zinv\n",
    "        y = frob_l(y)\n",
    "        x2 += y*zz\n",
    "    \n",
    "    return x1 == x2\n",
    "\n",
    "def time_h90(A, x, n = 10):\n",
    "    z = A.gen()\n",
    "    return sum(frob_l(x, i)*z^-i for i in range(n))\n",
    "\n",
    "def time_h90bis(A, x, n = 10):\n",
    "    z = A.gen()\n",
    "    y = x\n",
    "    zinv = z^-1\n",
    "    zz = A.one()\n",
    "    for i in range(1, n):\n",
    "        zz *= zinv\n",
    "        y = frob_l(y)\n",
    "        x += y*zz\n",
    "    return x"
   ]
  },
  {
   "cell_type": "code",
   "execution_count": 9,
   "metadata": {
    "collapsed": false,
    "deletable": true,
    "editable": true
   },
   "outputs": [],
   "source": [
    "def trans(x, v):\n",
    "    n, l = v.dimensions()\n",
    "    for j in range(l):\n",
    "        L = x[j].polynomial().list()\n",
    "        for i in range(len(L)):\n",
    "            v[i, j] = L[i]\n",
    "    return v\n",
    "    \n",
    "\n",
    "def frob_lbis(x, M):\n",
    "    \n",
    "    A = x.parent()\n",
    "    n = A.base_ring().degree()\n",
    "    l = A.degree()\n",
    "    V = MatrixSpace(A.base_ring().base_ring(), n, l)\n",
    "    v = V()\n",
    "\n",
    "    %time v = trans(x, v) # 90+ % spent here ... too bad\n",
    "    Y = M*v\n",
    "    \n",
    "    return Y"
   ]
  },
  {
   "cell_type": "code",
   "execution_count": 10,
   "metadata": {
    "collapsed": true,
    "deletable": true,
    "editable": true
   },
   "outputs": [],
   "source": [
    "def basis_matrix(a, n = None):\n",
    "    K = a.parent()\n",
    "    m = K.degree()\n",
    "    \n",
    "    if n == None:\n",
    "        n = m\n",
    "    \n",
    "    k = K.prime_subfield()\n",
    "    S = MatrixSpace(k, m, n)()\n",
    "    for j in range(n):\n",
    "        L = (a^j).polynomial().list()\n",
    "        i = 0\n",
    "        for l in L:\n",
    "            S[i, j] = l\n",
    "            i += 1\n",
    "    return S\n",
    "\n",
    "def fflist(x):\n",
    "    L = x.polynomial().list()\n",
    "    l = len(L)\n",
    "    k = x.parent()\n",
    "    d = k.degree()\n",
    "    if l < d:\n",
    "        L += (d-l)*[k()]\n",
    "        \n",
    "    return L\n",
    "\n",
    "def compute_map(a, b):\n",
    "    \n",
    "    A = basis_matrix(a)\n",
    "    B = basis_matrix(b, a.parent().degree())\n",
    "    C = B*A^(-1)\n",
    "    \n",
    "    K = b.parent()\n",
    "    k = K.prime_subfield()\n",
    "    S = MatrixSpace(k, a.parent().degree(), 1)\n",
    "\n",
    "    return lambda x : K((C*S(fflist(x))).column(0))\n",
    "\n",
    "def compute_emb(h1, h2):\n",
    "    \n",
    "    A, B = h1.parent(), h2.parent()\n",
    "    a, b = A.degree(), B.degree()\n",
    "    l, m = h1.base_ring().degree(), h2.base_ring().degree()\n",
    "\n",
    "    p = h1.parent().characteristic()\n",
    "    \n",
    "    zeta_l, ZETA_L = A.gen()^((p^a-1)/l), B.gen()^((p^b-1)/l)\n",
    "\n",
    "    u = base_change(h1, zeta_l)[0, 0]\n",
    "    v = change_basis(h2, ZETA_L, a)\n",
    "    return compute_map(u, v)"
   ]
  },
  {
   "cell_type": "code",
   "execution_count": 11,
   "metadata": {
    "collapsed": true,
    "deletable": true,
    "editable": true
   },
   "outputs": [],
   "source": [
    "def allombert(hl, hm):\n",
    "    Al, Am = hl.parent(), hm.parent()\n",
    "    a, b = Al.degree(), Am.degree()\n",
    "    za = Am.gen()^((p^b-1)/(p^a-1))\n",
    "    k = Al.base_ring().base_ring()\n",
    "    R = k['x']\n",
    "    l, m = Al.base_ring().degree(), Am.base_ring().degree()\n",
    "    al, am = Am(R((hl^(l)).list()).subs(za)), hm^(m)\n",
    "    r = nth_root_r(al/am, l)\n",
    "    return r * hm^(m//l)\n",
    "\n",
    "def factor_refinement(l, m):\n",
    "    \n",
    "    t = gcd(l, m)\n",
    "    u, v = m//t, t\n",
    "    d = gcd(u, v)\n",
    "    \n",
    "    while d != 1: \n",
    "        u, v = u//d, v*d\n",
    "        d = gcd(u, v)\n",
    "    \n",
    "    return v, u\n",
    "\"\"\"\n",
    "Return N, e, t such that Norm( (alpha_N)^e ) = (a_l)^t · alpha_l\n",
    "and m | N.\n",
    "\"\"\"\n",
    "def height(p, l, m):\n",
    "    k = GF(p)\n",
    "    a, b = cyclo_deg(k, l), cyclo_deg(k, m)\n",
    "    S = p^a-1\n",
    "    x, y = m//l, (p^b-1)//S\n",
    "    \n",
    "    xl, (yl, ym) = factor_refinement(l, x)[0], factor_refinement(l, y)\n",
    "    t = (yl/xl).denominator()\n",
    "    \n",
    "    u = factor_refinement(l, m)[1]\n",
    "        \n",
    "    N = l*yl*t*u\n",
    "    f = ym/u\n",
    "    \n",
    "    e = inverse_mod(f.numerator(), l)\n",
    "    \n",
    "    return N, t*e*f.denominator(), ((f.numerator()*e)//l)%S\n",
    "\n",
    "def test_height(p, l, m):\n",
    "    k = GF(p)\n",
    "    R = k['z']\n",
    "    N, e, c = height(p, l, m)\n",
    "    a, b = cyclo_deg(k, l), cyclo_deg(k, m)\n",
    "    Fpb = GF(p^b)\n",
    "    zb = Fpb.multiplicative_generator()\n",
    "    Pb = zb.minimal_polynomial()\n",
    "    Pa = (zb^((p^b-1)//(p^a-1))).minimal_polynomial()\n",
    "    Ab = PolynomialQuotientRing(GF(p^N)[\"x\"], Pb.change_ring(GF(p^N)))\n",
    "    Aa = PolynomialQuotientRing(GF(p^l)[\"x\"], Pa.change_ring(GF(p^l)))\n",
    "    \n",
    "    hl = solve_h90bis(Aa, Aa.gen()^((p^a-1)//l), True)\n",
    "    hN = solve_h90bis(Ab, Ab.gen()^((p^b-1)//N), True)\n",
    "        \n",
    "    CN = k.extension(Pb, 'z')\n",
    "    za = CN.gen()^((p^b-1)//(p^a-1))\n",
    "    al = Ab(R((hl^l).list()).subs(za))\n",
    "    \n",
    "    HL = allombert(hl, hN)\n",
    "    \n",
    "    t = (al^c)^-1 * (norm_r(hN, a, b))^e\n",
    "    \n",
    "    return Aa, Ab, t, HL, hl, hN"
   ]
  },
  {
   "cell_type": "code",
   "execution_count": null,
   "metadata": {
    "collapsed": true
   },
   "outputs": [],
   "source": [
    "def test_same_r(p, l, m):\n",
    "    k = GF(p)\n",
    "    R = k['z']\n",
    "    a = cyclo_deg(k, l)\n",
    "    Fpa = GF(p^a)\n",
    "    za = Fpa.multiplicative_generator()\n",
    "    Pa = za.minimal_polynomial()\n",
    "\n",
    "    Am = PolynomialQuotientRing(GF(p^m)[\"x\"], Pa.change_ring(GF(p^m)))\n",
    "    Al = PolynomialQuotientRing(GF(p^l)[\"x\"], Pa.change_ring(GF(p^l)))\n",
    "    \n",
    "    \n",
    "    hl = solve_h90bis(Am, Am.gen()^((p^a-1)//l), True, l)\n",
    "    hm = solve_h90bis(Am, Am.gen()^((p^a-1)//m), True)\n",
    "    \n",
    "    C = k.extension(Pa, 'z')\n",
    "    al = hl^l # Am(R((hl^l).list()).subs(C.gen()))\n",
    "    am = hm^m\n",
    "    \n",
    "    u = hl/(hm^(m//l))\n",
    "    r = nth_root_r(u, m//l)\n",
    "    \n",
    "    t = r * hm\n",
    "    \n",
    "    return hl, t"
   ]
  },
  {
   "cell_type": "code",
   "execution_count": 190,
   "metadata": {
    "collapsed": true,
    "deletable": true,
    "editable": true
   },
   "outputs": [],
   "source": [
    "def test_triplet(p, l, m, n):\n",
    "\n",
    "    k = GF(p)\n",
    "    R = k['z']\n",
    "    a, b, c = cyclo_deg(k, l), cyclo_deg(k, m), cyclo_deg(k, n)\n",
    "    \n",
    "    Fpc = GF(p^c)\n",
    "    zc = Fpc.multiplicative_generator()\n",
    "    Pc = zc.minimal_polynomial()\n",
    "    Pb = (zc^((p^c-1)//(p^b-1))).minimal_polynomial()\n",
    "    Pa = (zc^((p^c-1)//(p^a-1))).minimal_polynomial()\n",
    "    \n",
    "    Nb, eb, cb = height(p, l, m)\n",
    "    Nc, ec, cc = height(p, m, n)\n",
    "    Nbc, ebc, cbc = height(p, l, n)\n",
    "    \n",
    "    Ac = PolynomialQuotientRing(GF(p^Nc)[\"x\"], Pc.change_ring(GF(p^Nc)))\n",
    "    Ab = PolynomialQuotientRing(GF(p^Nb)[\"x\"], Pb.change_ring(GF(p^Nb)))\n",
    "    Aa = PolynomialQuotientRing(GF(p^l)[\"x\"], Pa.change_ring(GF(p^l)))\n",
    "    \n",
    "    hl = solve_h90bis(Aa, Aa.gen()^((p^a-1)//l), True)\n",
    "    hNb = solve_h90bis(Ab, Ab.gen()^((p^b-1)//Nb), True)\n",
    "    hNc = solve_h90bis(Ac, Ac.gen()^((p^c-1)//Nc), True)\n",
    "    \n",
    "    CNb = k.extension(Pb, 'z')\n",
    "    za = CNb.gen()^((p^b-1)//(p^a-1))\n",
    "    al = Ab(R((hl^l).list()).subs(za))\n",
    "    \n",
    "    CNc = k.extension(Pc, 'z')\n",
    "    ZA = CNc.gen()^((p^c-1)//(p^a-1))\n",
    "    AL = Ac(R((hl^l).list()).subs(ZA))\n",
    "    ZB = CNc.gen()^((p^c-1)//(p^b-1))\n",
    "    AM = Ac(R((hNb^m).list()).subs(ZB))\n",
    "    \n",
    "    HLb = (al^cb)^-1 * norm_r(hNb, a, b)^eb\n",
    "    HLc = (AL^cbc)^-1 * norm_r(hNc, a, c)^ebc\n",
    "    HM = (AM^cc)^-1 * norm_r(hNc, b, c)^ec\n",
    "    \n",
    "    f = compute_emb(hl, HLb)\n",
    "    g = compute_emb(hNb, HM)\n",
    "    h = compute_emb(hl, HLc)\n",
    "     \n",
    "    return f, g, h"
   ]
  },
  {
   "cell_type": "code",
   "execution_count": 186,
   "metadata": {
    "collapsed": false,
    "deletable": true,
    "editable": true
   },
   "outputs": [],
   "source": [
    "p, l, m, n = 5, 3, 9, 27"
   ]
  },
  {
   "cell_type": "code",
   "execution_count": 187,
   "metadata": {
    "collapsed": false
   },
   "outputs": [
    {
     "data": {
      "text/plain": [
       "((9, 1, 0), (27, 1, 12152), (27, 1, 0))"
      ]
     },
     "execution_count": 187,
     "metadata": {},
     "output_type": "execute_result"
    }
   ],
   "source": [
    "height(p, l, m), height(p, m, n), height(p, l, n)"
   ]
  },
  {
   "cell_type": "code",
   "execution_count": 188,
   "metadata": {
    "collapsed": false,
    "scrolled": false
   },
   "outputs": [],
   "source": [
    "f, g, h = test_triplet(p, l, m, n)\n",
    "K = GF(p^l)\n",
    "x = K.gen()"
   ]
  },
  {
   "cell_type": "code",
   "execution_count": 189,
   "metadata": {
    "collapsed": false
   },
   "outputs": [
    {
     "data": {
      "text/plain": [
       "True"
      ]
     },
     "execution_count": 189,
     "metadata": {},
     "output_type": "execute_result"
    }
   ],
   "source": [
    "g(f(x)) == h(x)"
   ]
  }
 ],
 "metadata": {
  "kernelspec": {
   "display_name": "SageMath 8.1",
   "language": "",
   "name": "sagemath"
  },
  "language_info": {
   "codemirror_mode": {
    "name": "ipython",
    "version": 2
   },
   "file_extension": ".py",
   "mimetype": "text/x-python",
   "name": "python",
   "nbconvert_exporter": "python",
   "pygments_lexer": "ipython2",
   "version": "2.7.14"
  }
 },
 "nbformat": 4,
 "nbformat_minor": 2
}
