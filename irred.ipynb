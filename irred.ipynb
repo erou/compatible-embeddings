{
 "cells": [
  {
   "cell_type": "code",
   "execution_count": 1,
   "metadata": {
    "collapsed": true,
    "deletable": true,
    "editable": true
   },
   "outputs": [],
   "source": [
    "from itertools import izip_longest\n",
    "\n",
    "def composed_product(P, Q):\n",
    "    '''\n",
    "    Composed product of P and Q\n",
    "    '''\n",
    "    A = P.parent()\n",
    "    x = A.gen()\n",
    "    m, n = P.degree(), Q.degree()\n",
    "    dual = lambda R, d: R.derivative().reverse().multiplication_trunc(R.reverse().inverse_series_trunc(d), d)\n",
    "    lift = A([(a*b) for a,b in izip_longest(dual(P, 2*m*n+1), dual(Q, 2*m*n+1), fillvalue=0)])\n",
    "    R = lift.rational_reconstruct(x^(2*m*n+1), m*n, m*n)[1].reverse().monic()\n",
    "    assert R.degree() == m*n\n",
    "    return R"
   ]
  },
  {
   "cell_type": "code",
   "execution_count": 2,
   "metadata": {
    "collapsed": true,
    "deletable": true,
    "editable": true
   },
   "outputs": [],
   "source": [
    "# Test\n",
    "A.<x> = GF(5)[]\n",
    "\n",
    "B.<X,Y> = GF(5)[]\n",
    "\n",
    "for i in range(20):\n",
    "    n = randrange(2,10)\n",
    "    m = randrange(1,4)\n",
    "    P = A.irreducible_element(n)\n",
    "    Q = A.irreducible_element(n+m)\n",
    "    R = composed_product(P, Q)\n",
    "    assert R.degree() == P.degree() * Q.degree()\n",
    "    assert P(X).resultant(Q.reverse()(X*Y)).univariate_polynomial()(x).reverse() == R"
   ]
  },
  {
   "cell_type": "code",
   "execution_count": 3,
   "metadata": {
    "collapsed": true,
    "deletable": true,
    "editable": true
   },
   "outputs": [],
   "source": [
    "def primary_irred(A, q, e):\n",
    "    return A.irreducible_element(q^e)\n",
    "def cyclo_deg(k, n):\n",
    "    return Zmod(n)(k.characteristic()).multiplicative_order()"
   ]
  },
  {
   "cell_type": "code",
   "execution_count": 4,
   "metadata": {
    "collapsed": true,
    "deletable": true,
    "editable": true
   },
   "outputs": [],
   "source": [
    "def irred(k, n):\n",
    "    A = PolynomialRing(k, 'x')\n",
    "    P = A.gen() - 1\n",
    "    for q, e in n.factor():\n",
    "        P = composed_product(P, primary_irred(A, q, e))\n",
    "    return P"
   ]
  },
  {
   "cell_type": "code",
   "execution_count": 5,
   "metadata": {
    "collapsed": true,
    "deletable": true,
    "editable": true
   },
   "outputs": [],
   "source": [
    "def complete_algebra(k, n):\n",
    "    \n",
    "    q = k.order()\n",
    "    P = irred(k, q^n-1)\n",
    "    \n",
    "    m = GF(q^n).multiplicative_generator().minimal_polynomial()\n",
    "    K.<z> = GF(q^(q^n-1), modulus = P, check_irreducible = False)\n",
    "    A = K['z']\n",
    "    h = A(m)\n",
    "    \n",
    "    return sage.rings.polynomial.polynomial_quotient_ring.PolynomialQuotientRing_domain(A, h, 'z')"
   ]
  },
  {
   "cell_type": "code",
   "execution_count": 6,
   "metadata": {
    "collapsed": true,
    "deletable": true,
    "editable": true
   },
   "outputs": [],
   "source": [
    "def frob_l(a, i=1):\n",
    "    A = a.parent()\n",
    "    q = a.base_ring().base_ring().order()\n",
    "    return A(list(c^(q^i) for c in a))\n",
    "\n",
    "def frob_r(a, i=1):\n",
    "    A = a.parent()\n",
    "    z = A.gen()\n",
    "    q = a.base_ring().base_ring().order()\n",
    "    return sum(c*z^(j*q^i) for j, c in enumerate(a))\n",
    "\n",
    "def norm_r(x, a, b):\n",
    "    d = b//a\n",
    "    return product(frob_r(x, a*j) for j in range(d))\n",
    "\n",
    "def nth_root_r(x, n):\n",
    "    A = x.parent()\n",
    "    k = A.base_ring().base_ring()\n",
    "    C = k.extension(A.modulus().change_ring(k), 'x')\n",
    "    L = [k(a) for a in x.list()]\n",
    "    y = C(L) if (len(L) > 1) else C(L[0])\n",
    "    return A(y.nth_root(n))"
   ]
  },
  {
   "cell_type": "code",
   "execution_count": 7,
   "metadata": {
    "collapsed": true,
    "deletable": true,
    "editable": true
   },
   "outputs": [],
   "source": [
    "\"\"\"\n",
    "Express `elem` in the base `newbase`. Outputs a column matrix.\n",
    "\"\"\"\n",
    "def base_change(elem, newbase, d2 = None):\n",
    "    k = elem.base_ring()\n",
    "    d1 = elem.parent().degree()\n",
    "    \n",
    "    if d2 == None:\n",
    "        d2 = d1\n",
    "        \n",
    "    A = MatrixSpace(k, d1, d2)()\n",
    "    \n",
    "    for i in range(d2):\n",
    "        L = (newbase^i).list()\n",
    "        for j in range(d1):\n",
    "            A[j,i] = L[j]\n",
    "            \n",
    "    S = MatrixSpace(k, d1, 1)\n",
    "    B = S(elem.list())\n",
    "    X = A.solve_right(B)\n",
    "    return X"
   ]
  },
  {
   "cell_type": "code",
   "execution_count": 8,
   "metadata": {
    "collapsed": false,
    "deletable": true,
    "editable": true
   },
   "outputs": [],
   "source": [
    "def is_h90(a, zeta):\n",
    "    return a != 0 and frob_l(a) == zeta * a\n",
    "\n",
    "def solve_h90(A, z = None):\n",
    "    x = A(1)\n",
    "    n = A.base_ring().degree()\n",
    "    if z == None:\n",
    "        z = A.gen()\n",
    "    while not is_h90(x, z):\n",
    "        x = A.random_element()\n",
    "        x = sum(frob_l(x, i)*z^-i for i in range(n))\n",
    "    return x\n",
    "\n",
    "def solve_h90bis(A, z = None, more = False, l = None):\n",
    "    x = A(1)\n",
    "    n = A.base_ring().degree()\n",
    "    if l == None:\n",
    "        l = n\n",
    "    if z == None:\n",
    "        z = A.gen()\n",
    "    while not is_h90(x, z):\n",
    "        x = A.random_element()\n",
    "        y = x\n",
    "        zinv = z^-1\n",
    "        zz = A.one()\n",
    "        for i in range(1, n):\n",
    "            zz *= zinv\n",
    "            y = frob_l(y)\n",
    "            x += y*zz\n",
    "    \n",
    "    if not more:\n",
    "        return x\n",
    "    else:\n",
    "        k = A.base_ring().base_ring()\n",
    "        t = (A.gen()^A.degree())/(x^l)\n",
    "        return x*nth_root_r(t, l)\n",
    "\n",
    "def test_h90(A, x, n = 10):\n",
    "    z = A.gen()\n",
    "    x1, x2 = x, x\n",
    "    x1 = sum(frob_l(x1, i)*z^-i for i in range(n))\n",
    "    \n",
    "    y = x\n",
    "    zinv = z^-1\n",
    "    zz = A.one()\n",
    "    for i in range(1, n):\n",
    "        zz *= zinv\n",
    "        y = frob_l(y)\n",
    "        x2 += y*zz\n",
    "    \n",
    "    return x1 == x2\n",
    "\n",
    "def time_h90(A, x, n = 10):\n",
    "    z = A.gen()\n",
    "    return sum(frob_l(x, i)*z^-i for i in range(n))\n",
    "\n",
    "def time_h90bis(A, x, n = 10):\n",
    "    z = A.gen()\n",
    "    y = x\n",
    "    zinv = z^-1\n",
    "    zz = A.one()\n",
    "    for i in range(1, n):\n",
    "        zz *= zinv\n",
    "        y = frob_l(y)\n",
    "        x += y*zz\n",
    "    return x"
   ]
  },
  {
   "cell_type": "code",
   "execution_count": 9,
   "metadata": {
    "collapsed": false,
    "deletable": true,
    "editable": true
   },
   "outputs": [],
   "source": [
    "def trans(x, v):\n",
    "    n, l = v.dimensions()\n",
    "    for j in range(l):\n",
    "        L = x[j].polynomial().list()\n",
    "        for i in range(len(L)):\n",
    "            v[i, j] = L[i]\n",
    "    return v\n",
    "    \n",
    "\n",
    "def frob_lbis(x, M):\n",
    "    \n",
    "    A = x.parent()\n",
    "    n = A.base_ring().degree()\n",
    "    l = A.degree()\n",
    "    V = MatrixSpace(A.base_ring().base_ring(), n, l)\n",
    "    v = V()\n",
    "\n",
    "    %time v = trans(x, v) # 90+ % spent here ... too bad\n",
    "    Y = M*v\n",
    "    \n",
    "    return Y"
   ]
  },
  {
   "cell_type": "code",
   "execution_count": 10,
   "metadata": {
    "collapsed": true,
    "deletable": true,
    "editable": true
   },
   "outputs": [],
   "source": [
    "def basis_matrix(a, n = None):\n",
    "    K = a.parent()\n",
    "    m = K.degree()\n",
    "    \n",
    "    if n == None:\n",
    "        n = m\n",
    "    \n",
    "    k = K.prime_subfield()\n",
    "    S = MatrixSpace(k, m, n)()\n",
    "    for j in range(n):\n",
    "        L = (a^j).polynomial().list()\n",
    "        i = 0\n",
    "        for l in L:\n",
    "            S[i, j] = l\n",
    "            i += 1\n",
    "    return S\n",
    "\n",
    "def fflist(x):\n",
    "    L = x.polynomial().list()\n",
    "    l = len(L)\n",
    "    k = x.parent()\n",
    "    d = k.degree()\n",
    "    if l < d:\n",
    "        L += (d-l)*[k()]\n",
    "        \n",
    "    return L\n",
    "\n",
    "def compute_map(a, b):\n",
    "    \n",
    "    A = basis_matrix(a)\n",
    "    B = basis_matrix(b, a.parent().degree())\n",
    "    C = B*A^(-1)\n",
    "    \n",
    "    K = b.parent()\n",
    "    k = K.prime_subfield()\n",
    "    S = MatrixSpace(k, a.parent().degree(), 1)\n",
    "\n",
    "    return lambda x : K((C*S(fflist(x))).column(0))\n",
    "\n",
    "def compute_emb(h1, h2):\n",
    "    \n",
    "    A, B = h1.parent(), h2.parent()\n",
    "    a, b = A.degree(), B.degree()\n",
    "    l, m = h1.base_ring().degree(), h2.base_ring().degree()\n",
    "\n",
    "    p = h1.parent().characteristic()\n",
    "    \n",
    "    zeta_l, ZETA_L = A.gen()^((p^a-1)/l), B.gen()^((p^b-1)/l)\n",
    "\n",
    "    u = base_change(h1, zeta_l)[0, 0]\n",
    "    v = base_change(h2, ZETA_L, a)[0, 0]\n",
    "    return compute_map(u, v)"
   ]
  },
  {
   "cell_type": "code",
   "execution_count": 11,
   "metadata": {
    "collapsed": true,
    "deletable": true,
    "editable": true
   },
   "outputs": [],
   "source": [
    "def compute_inv_map(a, b):\n",
    "    \n",
    "    A = basis_matrix(a)\n",
    "    B = basis_matrix(b, a.parent().degree())\n",
    "    C = B*A^(-1)\n",
    "    \n",
    "    K = a.parent()\n",
    "    k = K.prime_subfield()\n",
    "    S = MatrixSpace(k, b.parent().degree(), 1)\n",
    "\n",
    "    return lambda x : K(C.solve_right(S(fflist(x))).column(0))\n",
    "\n",
    "def compute_inv_emb(h1, h2):\n",
    "    \n",
    "    A, B = h1.parent(), h2.parent()\n",
    "    a, b = A.degree(), B.degree()\n",
    "    l, m = h1.base_ring().degree(), h2.base_ring().degree()\n",
    "\n",
    "    p = h1.parent().characteristic()\n",
    "    \n",
    "    zeta_l, ZETA_L = A.gen()^((p^a-1)/l), B.gen()^((p^b-1)/l)\n",
    "\n",
    "    u = base_change(h1, zeta_l)[0, 0]\n",
    "    v = base_change(h2, ZETA_L, a)[0, 0]\n",
    "    return compute_inv_map(u, v)"
   ]
  },
  {
   "cell_type": "code",
   "execution_count": 12,
   "metadata": {
    "collapsed": true,
    "deletable": true,
    "editable": true
   },
   "outputs": [],
   "source": [
    "def allombert(hl, hm):\n",
    "    Al, Am = hl.parent(), hm.parent()\n",
    "    a, b = Al.degree(), Am.degree()\n",
    "    za = Am.gen()^((p^b-1)/(p^a-1))\n",
    "    k = Al.base_ring().base_ring()\n",
    "    R = k['x']\n",
    "    l, m = Al.base_ring().degree(), Am.base_ring().degree()\n",
    "    al, am = Am(R((hl^(l)).list()).subs(za)), hm^(m)\n",
    "    r = nth_root_r(al/am, l)\n",
    "    return r * hm^(m//l)\n",
    "\n",
    "def factor_refinement(l, m):\n",
    "    \n",
    "    t = gcd(l, m)\n",
    "    u, v = m//t, t\n",
    "    d = gcd(u, v)\n",
    "    \n",
    "    while d != 1: \n",
    "        u, v = u//d, v*d\n",
    "        d = gcd(u, v)\n",
    "    \n",
    "    return v, u\n",
    "\"\"\"\n",
    "Return N, e, t such that Norm( (alpha_N)^e ) = (a_l)^t · alpha_l\n",
    "and m | N.\n",
    "\"\"\"\n",
    "def height(p, l, m):\n",
    "    k = GF(p)\n",
    "    a, b = cyclo_deg(k, l), cyclo_deg(k, m)\n",
    "    S = p^a-1\n",
    "    x, y = m//l, (p^b-1)//S\n",
    "    \n",
    "    xl, (yl, ym) = factor_refinement(l, x)[0], factor_refinement(l, y)\n",
    "    t = (yl/xl).denominator()\n",
    "    \n",
    "    u = factor_refinement(l, m)[1]\n",
    "        \n",
    "    N = l*yl*t*u\n",
    "    f = ym/u\n",
    "    \n",
    "    e = inverse_mod(f.numerator(), l)\n",
    "    \n",
    "    return N, t*e*f.denominator(), ((f.numerator()*e)//l)%S\n",
    "\n",
    "def test_height(p, l, m):\n",
    "    k = GF(p)\n",
    "    R = k['z']\n",
    "    N, e, c = height(p, l, m)\n",
    "    a, b = cyclo_deg(k, l), cyclo_deg(k, m)\n",
    "    Fpb = GF(p^b)\n",
    "    zb = Fpb.multiplicative_generator()\n",
    "    Pb = zb.minimal_polynomial()\n",
    "    Pa = (zb^((p^b-1)//(p^a-1))).minimal_polynomial()\n",
    "    Ab = PolynomialQuotientRing(GF(p^N)[\"x\"], Pb.change_ring(GF(p^N)))\n",
    "    Aa = PolynomialQuotientRing(GF(p^l)[\"x\"], Pa.change_ring(GF(p^l)))\n",
    "    \n",
    "    hl = solve_h90bis(Aa, Aa.gen()^((p^a-1)//l), True)\n",
    "    hN = solve_h90bis(Ab, Ab.gen()^((p^b-1)//N), True)\n",
    "        \n",
    "    CN = k.extension(Pb, 'z')\n",
    "    za = CN.gen()^((p^b-1)//(p^a-1))\n",
    "    al = Ab(R((hl^l).list()).subs(za))\n",
    "    \n",
    "    HL = allombert(hl, hN)\n",
    "    \n",
    "    t = (al^c)^-1 * (norm_r(hN, a, b))^e\n",
    "    \n",
    "    return Aa, Ab, t, HL, hl, hN"
   ]
  },
  {
   "cell_type": "code",
   "execution_count": 13,
   "metadata": {
    "collapsed": true,
    "deletable": true,
    "editable": true
   },
   "outputs": [],
   "source": [
    "def test_triplet_same_r(p, l, m, n): \n",
    "    \n",
    "    k = GF(p)\n",
    "    \n",
    "    assert cyclo_deg(k, l) == cyclo_deg(k, m) == cyclo_deg(k, n), \"Not the same right part\"\n",
    "    \n",
    "    # COMPUTATION OF CONSTANTS AND ZETAS\n",
    "    \n",
    "    R = k['z']\n",
    "    a = cyclo_deg(k, l)\n",
    "    Fpa = GF(p^a)\n",
    "    za = Fpa.multiplicative_generator()\n",
    "    Pa = za.minimal_polynomial()\n",
    "\n",
    "    # COMPUTATION OF THE ALGEBRAS\n",
    "    \n",
    "    Al = PolynomialQuotientRing(GF(p^l)[\"x\"], Pa.change_ring(GF(p^l)))\n",
    "    Am = PolynomialQuotientRing(GF(p^m)[\"x\"], Pa.change_ring(GF(p^m)))\n",
    "    An = PolynomialQuotientRing(GF(p^n)[\"x\"], Pa.change_ring(GF(p^n)))\n",
    "    \n",
    "    # COMPUTATION OF H90 SOLUTIONS\n",
    "    \n",
    "    hl = solve_h90bis(Al, Al.gen()^((p^a-1)//l), True)\n",
    "    hm = solve_h90bis(Am, Am.gen()^((p^a-1)//m), True)\n",
    "    hn = solve_h90bis(An, An.gen()^((p^a-1)//n), True)\n",
    "    \n",
    "    # COMPUTATION OF THE EMBEDDINGS\n",
    "    \n",
    "    f = compute_emb(hl, hm^(m/l))\n",
    "    g = compute_emb(hm, hn^(n/m))\n",
    "    h = compute_emb(hl, hn^(n/l))\n",
    "    \n",
    "    # TESTS\n",
    "    \n",
    "    x = GF(p^l).gen()\n",
    "    r = GF(p^l).random_element()\n",
    "    \n",
    "    assert g(f(x)) == h(x), \"Not compatible\"\n",
    "    assert g(f(r)) == h(r), \"Not compatible\"\n",
    "    assert h(x).minpoly() == x.minpoly() == f(x).minpoly(), \"Not a morphism\"\n",
    "    \n",
    "    return f, g, h\n",
    "\n",
    "def test_same_r(p, l, m):\n",
    "    k = GF(p)\n",
    "    R = k['z']\n",
    "    a = cyclo_deg(k, l)\n",
    "    Fpa = GF(p^a)\n",
    "    za = Fpa.multiplicative_generator()\n",
    "    Pa = za.minimal_polynomial()\n",
    "\n",
    "    Am = PolynomialQuotientRing(GF(p^m)[\"x\"], Pa.change_ring(GF(p^m)))\n",
    "    Al = PolynomialQuotientRing(GF(p^l)[\"x\"], Pa.change_ring(GF(p^l)))\n",
    "    \n",
    "    \n",
    "    hl = solve_h90bis(Am, Am.gen()^((p^a-1)//l), True, l)\n",
    "    hm = solve_h90bis(Am, Am.gen()^((p^a-1)//m), True)\n",
    "    \n",
    "    C = k.extension(Pa, 'z')\n",
    "    al = hl^l # Am(R((hl^l).list()).subs(C.gen()))\n",
    "    am = hm^m\n",
    "    \n",
    "    u = hl/(hm^(m//l))\n",
    "    r = nth_root_r(u, m//l)\n",
    "    \n",
    "    t = r * hm\n",
    "    \n",
    "    return hl, t"
   ]
  },
  {
   "cell_type": "code",
   "execution_count": 14,
   "metadata": {
    "collapsed": true,
    "deletable": true,
    "editable": true
   },
   "outputs": [],
   "source": [
    "def test_triplet(p, l, m, n):\n",
    "\n",
    "    # FIRST COMPUTATIONS\n",
    "    \n",
    "    k = GF(p)\n",
    "    R = k['z']\n",
    "    a, b, c = cyclo_deg(k, l), cyclo_deg(k, m), cyclo_deg(k, n)\n",
    "    \n",
    "    # COMPUTATION OF THE ZETAS\n",
    "    \n",
    "    Fpc = GF(p^c)\n",
    "    zc = Fpc.multiplicative_generator()\n",
    "    Pc = zc.minimal_polynomial()\n",
    "    Pb = (zc^((p^c-1)//(p^b-1))).minimal_polynomial()\n",
    "    Pa = (zc^((p^c-1)//(p^a-1))).minimal_polynomial()\n",
    "    \n",
    "    # DIFFERENT HEIGHTS INVOLVED\n",
    "    \n",
    "    Nb, eb, cb = height(p, l, m)\n",
    "    Nc, ec, cc = height(p, m, n)\n",
    "    Nbc, ebc, cbc = height(p, l, n)\n",
    "    \n",
    "    assert Nc == Nbc, \"Unexpected thing: not implemented\"\n",
    "    \n",
    "    # COMPUTATION OF THE ALGEBRAS\n",
    "    \n",
    "    Ac = PolynomialQuotientRing(GF(p^Nc)[\"x\"], Pc.change_ring(GF(p^Nc)))\n",
    "    Ab = PolynomialQuotientRing(GF(p^Nb)[\"x\"], Pb.change_ring(GF(p^Nb)))\n",
    "    Aa = PolynomialQuotientRing(GF(p^l)[\"x\"], Pa.change_ring(GF(p^l)))\n",
    "    \n",
    "    # SOME H90 SOLUTIONS\n",
    "    \n",
    "    hl = solve_h90bis(Aa, Aa.gen()^((p^a-1)//l), True)                 \n",
    "    hNb = solve_h90bis(Ab, Ab.gen()^((p^b-1)//Nb), True)\n",
    "    hNc = solve_h90bis(Ac, Ac.gen()^((p^c-1)//Nc), True)\n",
    "    \n",
    "    # SOME CONSTANTS TRANSLATIONS\n",
    "    \n",
    "    CNb = k.extension(Pb, 'z')\n",
    "    za = CNb.gen()^((p^b-1)//(p^a-1))\n",
    "    al = Ab(R((hl^l).list()).subs(za))\n",
    "    \n",
    "    CNc = k.extension(Pc, 'z')\n",
    "    ZA = CNc.gen()^((p^c-1)//(p^a-1))\n",
    "    ZB = CNc.gen()^((p^c-1)//(p^b-1))\n",
    "    AL = Ac(R((hl^l).list()).subs(ZA))\n",
    "    \n",
    "    if (Nb > m):\n",
    "        Am = PolynomialQuotientRing(GF(p^m)[\"x\"], Pb.change_ring(GF(p^m)))\n",
    "        hm = solve_h90bis(Am, Am.gen()^((p^b-1)//m), True)\n",
    "        AM = Ac(R((hm^m).list()).subs(ZB))\n",
    "    else:\n",
    "        AM = Ac(R((hNb^Nb).list()).subs(ZB))\n",
    "        \n",
    "    # COMPUTATIONS OF THE EMBEDDINGS\n",
    "    \n",
    "    HLb = (al^cb)^-1 * norm_r(hNb, a, b)^eb\n",
    "    HLc = (AL^cbc)^-1 * norm_r(hNc, a, c)^ebc\n",
    "    HM = (AM^cc)^-1 * norm_r(hNc, b, c)^ec\n",
    "    \n",
    "    ff = compute_emb(hl, HLb)\n",
    "    if (Nb > m):\n",
    "        gg = compute_emb(hm, HM)\n",
    "    else:\n",
    "        gg = compute_emb(hNb, HM)\n",
    "    hh = compute_emb(hl, HLc)\n",
    "    \n",
    "    if (Nb > m):\n",
    "        f = lambda x : compute_inv_emb(hm, hNb^(Nb/m))(ff(x))\n",
    "    else:\n",
    "        f = ff\n",
    "        \n",
    "    if (Nc > n):\n",
    "        An = PolynomialQuotientRing(GF(p^n)[\"x\"], Pc.change_ring(GF(p^n)))\n",
    "        hn = solve_h90bis(An, An.gen()^((p^c-1)//n), True)\n",
    "        inv = compute_inv_emb(hn, hNc^(Nc/n))\n",
    "        g = lambda x : inv(gg(x))\n",
    "        h = lambda x : inv(hh(x))\n",
    "    else:\n",
    "        g, h = gg, hh\n",
    "    \n",
    "    # SOME TESTS\n",
    "    \n",
    "    K = GF(p^l)\n",
    "    x, r = K.gen(), K.random_element()\n",
    "                              \n",
    "    assert g(f(x)) == h(x)\n",
    "    assert g(f(r)) == h(r)\n",
    "    assert x.minpoly() == h(x).minpoly()\n",
    "    assert r.minpoly() == h(r).minpoly()\n",
    "                              \n",
    "    return f, g, h"
   ]
  },
  {
   "cell_type": "code",
   "execution_count": 15,
   "metadata": {
    "collapsed": true,
    "deletable": true,
    "editable": true
   },
   "outputs": [],
   "source": [
    "def make_context(n):\n",
    "    \n",
    "    global p, ZETAS, H90_ELEMENTS, EMBEDDINGS\n",
    "    \n",
    "    ZETAS = dict()\n",
    "    H90_ELEMENTS = dict()\n",
    "    EMBEDDINGS = dict()\n",
    "    p = n\n",
    "    \n",
    "def compute_zetas(n):\n",
    "    k = GF(p^n)\n",
    "    zeta_pn = k.multiplicative_generator()\n",
    "    \n",
    "    for d in n.divisors():\n",
    "        ZETAS[d] = (zeta_pn^((p^n-1)//(p^d-1))).minpoly()"
   ]
  },
  {
   "cell_type": "code",
   "execution_count": 16,
   "metadata": {
    "collapsed": true,
    "deletable": true,
    "editable": true
   },
   "outputs": [],
   "source": [
    "def embed(K, L):\n",
    "    \n",
    "    k = K.prime_subfield()\n",
    "    l, m = K.degree(), L.degree()\n",
    "    a, b = cyclo_deg(k, l), cyclo_deg(k, m)\n",
    "    \n",
    "    assert b in ZETAS.keys(), \"The corresponding zeta is not computed: not implemented\"\n",
    "    \n",
    "    if (l, m) in EMBEDDINGS.keys():\n",
    "        return EMBEDDINGS[(l, m)]\n",
    "    \n",
    "    if l in H90_ELEMENTS.keys():\n",
    "        hl = H90_ELEMENTS[l]\n",
    "    else:\n",
    "        Al = PolynomialQuotientRing(GF(p^l)[\"x\"], ZETAS[a].change_ring(GF(p^l)))\n",
    "        hl = solve_h90bis(Al, Al.gen()^((p^a-1)//l), True)\n",
    "        H90_ELEMENTS[l] = hl\n",
    "    \n",
    "    if m in H90_ELEMENTS.keys():\n",
    "        hm = H90_ELEMENTS[m]\n",
    "    else:\n",
    "        Am = PolynomialQuotientRing(GF(p^m)[\"x\"], ZETAS[b].change_ring(GF(p^m)))\n",
    "        hm = solve_h90bis(Am, Am.gen()^((p^b-1)//m), True)\n",
    "        H90_ELEMENTS[m] = hm\n",
    "\n",
    "    if a == b:\n",
    "        f = compute_emb(hl, hm^(m//l))\n",
    "        EMBEDDINGS[(l, m)] = f\n",
    "        return f\n",
    "    else:\n",
    "        R = k['z']\n",
    "        N, e, c = height(p, l, m)\n",
    "        C = k.extension(ZETAS[b], 'z')\n",
    "        ZA = C.gen()^((p^b-1)//(p^a-1))\n",
    "        \n",
    "        if N > m:\n",
    "            if N in H90_ELEMENTS.keys():\n",
    "                hN = H90_ELEMENTS[N]\n",
    "            else:\n",
    "                AN = PolynomialQuotientRing(GF(p^N)[\"x\"], ZETAS[b].change_ring(GF(p^N)))\n",
    "                hN = solve_h90bis(AN, AN.gen()^((p^b-1)//N), True)\n",
    "                H90_ELEMENTS[N] = hN\n",
    "\n",
    "            al = (hN.parent())(R((hl^l).list()).subs(ZA))\n",
    "            HL = (al^c)^-1 * norm_r(hN, a, b)^e\n",
    "            g = compute_emb(hl, HL)\n",
    "            inv = compute_inv_emb(hm, hN^(N//m))\n",
    "            f = lambda x : inv(g(x))\n",
    "            EMBEDDINGS[(l, m)] = f\n",
    "            return f\n",
    "        else:\n",
    "            al = (hm.parent())(R((hl^l).list()).subs(ZA))\n",
    "            HL = (al^c)^-1 * norm_r(hm, a, b)^e\n",
    "            f = compute_emb(hl, HL)\n",
    "            EMBEDDINGS[(l, m)] = f\n",
    "            return f"
   ]
  },
  {
   "cell_type": "markdown",
   "metadata": {
    "deletable": true,
    "editable": true
   },
   "source": [
    "# Tests\n",
    "\n",
    "- **On triche** parce qu'on calcule d'abord les racines p^n-1 ièmes de l'unité par le haut, pour se simplifier la vie niveau compatibilité...\n",
    "- On ne traite pas le cas Artin-Schreier"
   ]
  },
  {
   "cell_type": "code",
   "execution_count": 141,
   "metadata": {
    "collapsed": false,
    "deletable": true,
    "editable": true
   },
   "outputs": [
    {
     "data": {
      "text/plain": [
       "2^5 * 3^3 * 5^2 * 13 * 19 * 37 * 43 * 181 * 1063 * 117307 * 13841169553"
      ]
     },
     "execution_count": 141,
     "metadata": {},
     "output_type": "execute_result"
    }
   ],
   "source": [
    "MAX = 36\n",
    "p = 7\n",
    "make_context(p)\n",
    "compute_zetas(MAX)\n",
    "factor(p^(MAX)-1)"
   ]
  },
  {
   "cell_type": "code",
   "execution_count": 142,
   "metadata": {
    "collapsed": false,
    "deletable": true,
    "editable": true
   },
   "outputs": [],
   "source": [
    "k2.<x2> = GF(p^2)\n",
    "k3.<x3> = GF(p^3)\n",
    "k4.<x4> = GF(p^4)\n",
    "k5.<x5> = GF(p^5)\n",
    "k6.<x6> = GF(p^6)\n",
    "k8.<x8> = GF(p^8)\n",
    "k9.<x9> = GF(p^9)\n",
    "k10.<x10> = GF(p^10)\n",
    "k12.<x12> = GF(p^12)\n",
    "k16.<x16> = GF(p^16)\n",
    "k18.<x18> = GF(p^18)\n",
    "k20.<x20> = GF(p^20)\n",
    "k21.<x21> = GF(p^21)\n",
    "k24.<x24> = GF(p^24)\n",
    "k35.<x35> = GF(p^35)\n",
    "k42.<x42> = GF(p^42)\n",
    "k70.<x70> = GF(p^70)"
   ]
  },
  {
   "cell_type": "code",
   "execution_count": 109,
   "metadata": {
    "collapsed": false,
    "deletable": true,
    "editable": true
   },
   "outputs": [],
   "source": [
    "f3_12 = embed(k3, k12)\n",
    "f3_6 = embed(k3, k6)\n",
    "f6_24 = embed(k6, k24)\n",
    "f12_24 = embed(k12, k24)\n",
    "f3_18 = embed(k3, k18)\n",
    "f4_16 = embed(k4, k16)\n",
    "f6_24 = embed(k6, k24)\n",
    "f4_8 = embed(k4, k8)\n",
    "f2_12 = embed(k2, k12)\n",
    "f6_12 = embed(k6, k12)\n",
    "f5_10 = embed(k5, k10)\n",
    "f5_20 = embed(k5, k20)\n",
    "f3_24 = embed(k3, k24)\n",
    "f2_24 = embed(k2, k24)\n",
    "f6_18 = embed(k6, k18)\n",
    "f2_6 = embed(k2, k6)\n",
    "f9_18 = embed(k9, k18)\n",
    "f2_4 = embed(k2, k4)\n",
    "f10_20 = embed(k10, k20)\n",
    "f4_24 = embed(k4, k24)\n",
    "f8_16 = embed(k8, k16)\n",
    "f3_21 = embed(k3, k21)\n",
    "f3_18 = embed(k3, k18)\n",
    "f3_9 = embed(k3, k9)\n",
    "f2_8 = embed(k2, k8)\n",
    "f21_42 = embed(k21, k42)\n",
    "f3_42 = embed(k3, k42)\n",
    "f6_42 = embed(k6, k42)\n",
    "f8_24 = embed(k8, k24)"
   ]
  },
  {
   "cell_type": "code",
   "execution_count": 110,
   "metadata": {
    "collapsed": false,
    "deletable": true,
    "editable": true
   },
   "outputs": [
    {
     "name": "stdout",
     "output_type": "stream",
     "text": [
      "PASS\n"
     ]
    }
   ],
   "source": [
    "assert f3_12(x3) == f6_12(f3_6(x3))\n",
    "assert f6_24(f3_6(x3)) == f12_24(f3_12(x3))\n",
    "assert f10_20(f5_10(x5)) == f5_20(x5)\n",
    "assert f21_42(f3_21(x3)) == f3_42(x3)\n",
    "assert f6_42(f3_6(x3)) == f3_42(x3)\n",
    "assert f4_8(f2_4(x2)) == f2_8(x2)\n",
    "assert f8_16(f4_8(x4)) == f4_16(x4)\n",
    "assert f4_16(f2_4(x2)) == f8_16(f2_8(x2))\n",
    "assert f6_18(f3_6(x3)) == f3_18(x3)\n",
    "assert f12_24(f6_12(x6)) == f6_24(x6)\n",
    "assert f9_18(f3_9(x3)) == f3_18(x3)\n",
    "assert f6_24(f3_6(x3)) == f3_24(x3)\n",
    "assert f6_12(f2_6(x2)) == f2_12(x2)\n",
    "assert f12_24(f3_12(x3)) == f3_24(x3)\n",
    "assert f6_24(f2_6(x2)) == f2_24(x2)\n",
    "assert f8_16(f4_8(x4)) == f4_16(x4)\n",
    "assert f8_24(f4_8(x4)) == f4_24(x4)\n",
    "print(\"PASS\")"
   ]
  },
  {
   "cell_type": "code",
   "execution_count": 138,
   "metadata": {
    "collapsed": false
   },
   "outputs": [
    {
     "name": "stdout",
     "output_type": "stream",
     "text": [
      "0.015695810318\n"
     ]
    }
   ],
   "source": [
    "from time import time\n",
    "t0 = time()\n",
    "f4_12 = embed(k4, k12)\n",
    "f6_24 = embed(k6, k24)\n",
    "f8_16 = embed(k8, k16)\n",
    "f2_16 = embed(k2, k16)\n",
    "f3_6 = embed(k3, k6)\n",
    "f9_18 = embed(k9, k18)\n",
    "f6_12 = embed(k6, k12)\n",
    "f3_18 = embed(k3, k18)\n",
    "f4_16 = embed(k4, k16)\n",
    "f6_18 = embed(k6, k18)\n",
    "f2_8 = embed(k2, k8)\n",
    "f12_24 = embed(k12, k24)\n",
    "f3_9 = embed(k3, k9)\n",
    "f2_6 = embed(k2, k6)\n",
    "f8_24 = embed(k8, k24)\n",
    "f3_24 = embed(k3, k24)\n",
    "f2_12 = embed(k2, k12)\n",
    "f3_12 = embed(k3, k12)\n",
    "f2_24 = embed(k2, k24)\n",
    "f2_4 = embed(k2, k4)\n",
    "f4_24 = embed(k4, k24)\n",
    "f4_8 = embed(k4, k8)\n",
    "print time() - t0"
   ]
  },
  {
   "cell_type": "code",
   "execution_count": 147,
   "metadata": {
    "collapsed": false
   },
   "outputs": [
    {
     "data": {
      "text/plain": [
       "5.07720685005188"
      ]
     },
     "execution_count": 147,
     "metadata": {},
     "output_type": "execute_result"
    }
   ],
   "source": [
    "k90 = GF(p^90)\n",
    "k180 = GF(p^180)\n",
    "t0 = time()\n",
    "f90_180 = embed(k90, k180)\n",
    "time() - t0"
   ]
  },
  {
   "cell_type": "code",
   "execution_count": 146,
   "metadata": {
    "collapsed": false
   },
   "outputs": [
    {
     "data": {
      "text/plain": [
       "12"
      ]
     },
     "execution_count": 146,
     "metadata": {},
     "output_type": "execute_result"
    }
   ],
   "source": [
    "cyclo_deg(GF(p), 180)"
   ]
  },
  {
   "cell_type": "code",
   "execution_count": null,
   "metadata": {
    "collapsed": true
   },
   "outputs": [],
   "source": []
  },
  {
   "cell_type": "code",
   "execution_count": null,
   "metadata": {
    "collapsed": true
   },
   "outputs": [],
   "source": []
  },
  {
   "cell_type": "code",
   "execution_count": 94,
   "metadata": {
    "collapsed": false
   },
   "outputs": [
    {
     "data": {
      "text/plain": [
       "[24, 3, 12, 6]"
      ]
     },
     "execution_count": 94,
     "metadata": {},
     "output_type": "execute_result"
    }
   ],
   "source": [
    "H90_ELEMENTS.keys()"
   ]
  },
  {
   "cell_type": "code",
   "execution_count": 98,
   "metadata": {
    "collapsed": false
   },
   "outputs": [],
   "source": [
    "f3_12 = embed(k3, k12)"
   ]
  },
  {
   "cell_type": "code",
   "execution_count": 99,
   "metadata": {
    "collapsed": true
   },
   "outputs": [],
   "source": [
    "f3_6 = embed(k3, k6)"
   ]
  },
  {
   "cell_type": "code",
   "execution_count": null,
   "metadata": {
    "collapsed": true
   },
   "outputs": [],
   "source": [
    "f6_12 = embed(k6, k12)"
   ]
  },
  {
   "cell_type": "code",
   "execution_count": 100,
   "metadata": {
    "collapsed": false
   },
   "outputs": [
    {
     "data": {
      "text/plain": [
       "[(3, 12), (3, 6)]"
      ]
     },
     "execution_count": 100,
     "metadata": {},
     "output_type": "execute_result"
    }
   ],
   "source": [
    "EMBEDDINGS.keys()"
   ]
  },
  {
   "cell_type": "code",
   "execution_count": 101,
   "metadata": {
    "collapsed": false
   },
   "outputs": [
    {
     "data": {
      "text/plain": [
       "(192, 1, 0)"
      ]
     },
     "execution_count": 101,
     "metadata": {},
     "output_type": "execute_result"
    }
   ],
   "source": [
    "height(p, 6, 12)"
   ]
  },
  {
   "cell_type": "code",
   "execution_count": 103,
   "metadata": {
    "collapsed": false
   },
   "outputs": [
    {
     "data": {
      "text/plain": [
       "2"
      ]
     },
     "execution_count": 103,
     "metadata": {},
     "output_type": "execute_result"
    }
   ],
   "source": [
    "cyclo_deg(GF(p), 12)"
   ]
  },
  {
   "cell_type": "code",
   "execution_count": 104,
   "metadata": {
    "collapsed": false
   },
   "outputs": [
    {
     "data": {
      "text/plain": [
       "2^5"
      ]
     },
     "execution_count": 104,
     "metadata": {},
     "output_type": "execute_result"
    }
   ],
   "source": [
    "factor((p^2-1)//(p-1))"
   ]
  },
  {
   "cell_type": "code",
   "execution_count": 106,
   "metadata": {
    "collapsed": false
   },
   "outputs": [
    {
     "data": {
      "text/plain": [
       "192"
      ]
     },
     "execution_count": 106,
     "metadata": {},
     "output_type": "execute_result"
    }
   ],
   "source": [
    "2^4 * 12"
   ]
  },
  {
   "cell_type": "code",
   "execution_count": 40,
   "metadata": {
    "collapsed": false
   },
   "outputs": [
    {
     "data": {
      "text/plain": [
       "2^2 * 3 * 5 * 7^3 * 127"
      ]
     },
     "execution_count": 40,
     "metadata": {},
     "output_type": "execute_result"
    }
   ],
   "source": [
    "factor((p^6-1)//(p-1))"
   ]
  },
  {
   "cell_type": "code",
   "execution_count": 41,
   "metadata": {
    "collapsed": false
   },
   "outputs": [
    {
     "data": {
      "text/plain": [
       "(126, 1, 7)"
      ]
     },
     "execution_count": 41,
     "metadata": {},
     "output_type": "execute_result"
    }
   ],
   "source": [
    "height(p, 3, 42)"
   ]
  },
  {
   "cell_type": "code",
   "execution_count": 42,
   "metadata": {
    "collapsed": false
   },
   "outputs": [
    {
     "data": {
      "text/plain": [
       "84"
      ]
     },
     "execution_count": 42,
     "metadata": {},
     "output_type": "execute_result"
    }
   ],
   "source": [
    "factor(p^12*7"
   ]
  },
  {
   "cell_type": "code",
   "execution_count": 46,
   "metadata": {
    "collapsed": false
   },
   "outputs": [
    {
     "data": {
      "text/plain": [
       "(1512, 5, 3)"
      ]
     },
     "execution_count": 46,
     "metadata": {},
     "output_type": "execute_result"
    }
   ],
   "source": [
    "height(p, 18, 18*7)"
   ]
  },
  {
   "cell_type": "code",
   "execution_count": 47,
   "metadata": {
    "collapsed": false
   },
   "outputs": [
    {
     "data": {
      "text/plain": [
       "126"
      ]
     },
     "execution_count": 47,
     "metadata": {},
     "output_type": "execute_result"
    }
   ],
   "source": [
    "18*7"
   ]
  },
  {
   "cell_type": "code",
   "execution_count": 51,
   "metadata": {
    "collapsed": false
   },
   "outputs": [
    {
     "data": {
      "text/plain": [
       "535.238866693892"
      ]
     },
     "execution_count": 51,
     "metadata": {},
     "output_type": "execute_result"
    }
   ],
   "source": [
    "numerical_approx(p^126).log2()"
   ]
  },
  {
   "cell_type": "code",
   "execution_count": 53,
   "metadata": {
    "collapsed": false
   },
   "outputs": [
    {
     "name": "stdout",
     "output_type": "stream",
     "text": [
      "CPU times: user 883 ms, sys: 35 µs, total: 883 ms\n",
      "Wall time: 876 ms\n"
     ]
    }
   ],
   "source": [
    "A126 = H90_ELEMENTS[126].parent()\n",
    "%time g126 = solve_h90bis(A126, A126.gen()^((p^cyclo_deg(GF(p),126)-1)//126), True)"
   ]
  },
  {
   "cell_type": "code",
   "execution_count": 61,
   "metadata": {
    "collapsed": false
   },
   "outputs": [
    {
     "data": {
      "text/plain": [
       "[1, 2, 3, 4, 6, 9, 12, 18, 36]"
      ]
     },
     "execution_count": 61,
     "metadata": {},
     "output_type": "execute_result"
    }
   ],
   "source": [
    "ZETAS.keys()"
   ]
  },
  {
   "cell_type": "code",
   "execution_count": 65,
   "metadata": {
    "collapsed": false
   },
   "outputs": [],
   "source": [
    "A252 = PolynomialQuotientRing(GF(p^252)['x'], ZETAS[cyclo_deg(GF(p), 252)].change_ring(GF(p^252)))"
   ]
  },
  {
   "cell_type": "code",
   "execution_count": 68,
   "metadata": {
    "collapsed": false
   },
   "outputs": [
    {
     "data": {
      "text/plain": [
       "6"
      ]
     },
     "execution_count": 68,
     "metadata": {},
     "output_type": "execute_result"
    }
   ],
   "source": [
    "cyclo_deg(GF(p), 252)"
   ]
  },
  {
   "cell_type": "code",
   "execution_count": 69,
   "metadata": {
    "collapsed": false
   },
   "outputs": [
    {
     "name": "stdout",
     "output_type": "stream",
     "text": [
      "CPU times: user 3.6 s, sys: 36.1 ms, total: 3.63 s\n",
      "Wall time: 3.64 s\n"
     ]
    }
   ],
   "source": [
    "%time g252 = solve_h90bis(A252, A252.gen()^((p^6-1)//252), True)"
   ]
  },
  {
   "cell_type": "code",
   "execution_count": 72,
   "metadata": {
    "collapsed": false
   },
   "outputs": [
    {
     "name": "stdout",
     "output_type": "stream",
     "text": [
      "CPU times: user 253 ms, sys: 142 µs, total: 253 ms\n",
      "Wall time: 262 ms\n"
     ]
    },
    {
     "data": {
      "text/plain": [
       "(17*z252^251 + 11*z252^250 + 12*z252^249 + 13*z252^248 + 13*z252^247 + 4*z252^246 + z252^245 + 12*z252^244 + 8*z252^243 + 18*z252^242 + 17*z252^241 + 17*z252^240 + 6*z252^239 + 14*z252^238 + 12*z252^237 + 16*z252^236 + 4*z252^235 + 3*z252^234 + 15*z252^233 + 4*z252^232 + z252^231 + 4*z252^230 + 4*z252^229 + 11*z252^228 + 9*z252^227 + 17*z252^226 + 16*z252^225 + 7*z252^224 + 8*z252^223 + 3*z252^222 + 15*z252^221 + 11*z252^219 + 12*z252^218 + 14*z252^217 + 11*z252^216 + 12*z252^215 + 11*z252^214 + 6*z252^213 + 12*z252^212 + 10*z252^211 + 14*z252^210 + 15*z252^209 + 14*z252^208 + 8*z252^207 + 18*z252^206 + 10*z252^205 + 15*z252^204 + 11*z252^203 + 18*z252^202 + 10*z252^201 + 17*z252^200 + 3*z252^199 + 13*z252^198 + 8*z252^197 + 12*z252^196 + 7*z252^195 + 3*z252^194 + 17*z252^193 + 12*z252^192 + z252^191 + 3*z252^190 + 5*z252^189 + z252^188 + 17*z252^187 + 15*z252^186 + 17*z252^185 + 18*z252^184 + 17*z252^183 + 10*z252^181 + 7*z252^180 + 9*z252^179 + 10*z252^178 + 6*z252^177 + 6*z252^176 + 13*z252^175 + 2*z252^174 + 12*z252^173 + 3*z252^172 + 6*z252^171 + 14*z252^170 + 7*z252^169 + 14*z252^168 + 5*z252^167 + 3*z252^166 + 6*z252^165 + 7*z252^164 + 12*z252^163 + 13*z252^162 + 2*z252^161 + 14*z252^160 + z252^159 + 6*z252^158 + 18*z252^157 + 13*z252^156 + 10*z252^155 + 7*z252^154 + 5*z252^153 + 8*z252^152 + 15*z252^151 + 2*z252^150 + 14*z252^149 + 14*z252^148 + 11*z252^147 + 10*z252^146 + 5*z252^145 + 14*z252^144 + 8*z252^143 + 10*z252^141 + 16*z252^140 + z252^139 + 9*z252^138 + 8*z252^137 + 17*z252^136 + 17*z252^135 + 9*z252^134 + 8*z252^133 + 16*z252^132 + 2*z252^131 + z252^130 + 18*z252^128 + 4*z252^127 + 4*z252^126 + 18*z252^125 + 9*z252^124 + 17*z252^123 + 9*z252^122 + z252^121 + 6*z252^120 + 13*z252^118 + 6*z252^117 + 18*z252^116 + 15*z252^115 + 10*z252^114 + 8*z252^113 + 16*z252^112 + 2*z252^111 + z252^110 + 11*z252^109 + 18*z252^108 + 5*z252^107 + 18*z252^106 + 10*z252^105 + 6*z252^104 + 2*z252^103 + 6*z252^102 + 12*z252^100 + z252^99 + 12*z252^98 + 11*z252^97 + 17*z252^96 + 9*z252^95 + 11*z252^94 + 6*z252^93 + 6*z252^92 + 14*z252^91 + 16*z252^90 + 5*z252^89 + 12*z252^88 + 6*z252^87 + 17*z252^86 + z252^85 + 6*z252^84 + 9*z252^83 + 17*z252^82 + 14*z252^81 + 8*z252^80 + 18*z252^79 + 15*z252^78 + 10*z252^77 + 8*z252^76 + 18*z252^75 + 11*z252^74 + 5*z252^72 + 2*z252^71 + 13*z252^70 + 16*z252^69 + 15*z252^68 + 17*z252^67 + 4*z252^66 + 17*z252^65 + 18*z252^64 + 17*z252^63 + 18*z252^62 + 8*z252^61 + 14*z252^60 + 11*z252^59 + 9*z252^58 + 11*z252^57 + 13*z252^56 + z252^55 + 3*z252^54 + 8*z252^53 + 13*z252^51 + 8*z252^50 + 9*z252^49 + 3*z252^48 + 8*z252^47 + 16*z252^46 + z252^45 + 8*z252^44 + 18*z252^43 + 3*z252^42 + 9*z252^41 + 4*z252^40 + 5*z252^39 + 16*z252^38 + 16*z252^37 + z252^35 + 17*z252^34 + 12*z252^33 + 10*z252^32 + 4*z252^31 + 15*z252^30 + 14*z252^29 + 2*z252^28 + 16*z252^27 + 14*z252^26 + 15*z252^25 + 11*z252^24 + 6*z252^23 + 7*z252^22 + z252^21 + 9*z252^20 + 17*z252^19 + 15*z252^18 + 7*z252^17 + 13*z252^16 + 3*z252^15 + 10*z252^14 + 13*z252^13 + 9*z252^12 + 4*z252^11 + 18*z252^10 + 8*z252^9 + 4*z252^8 + 4*z252^7 + 5*z252^6 + 3*z252^5 + 12*z252^4 + 10*z252^3 + 10*z252 + 14)*xbar^4 + (7*z252^251 + 9*z252^250 + 15*z252^249 + 2*z252^248 + 2*z252^247 + 5*z252^246 + 6*z252^245 + 15*z252^244 + 10*z252^243 + 13*z252^242 + 7*z252^241 + 7*z252^240 + 17*z252^239 + 8*z252^238 + 15*z252^237 + z252^236 + 5*z252^235 + 18*z252^234 + 14*z252^233 + 5*z252^232 + 6*z252^231 + 5*z252^230 + 5*z252^229 + 9*z252^228 + 16*z252^227 + 7*z252^226 + z252^225 + 4*z252^224 + 10*z252^223 + 18*z252^222 + 14*z252^221 + 9*z252^219 + 15*z252^218 + 8*z252^217 + 9*z252^216 + 15*z252^215 + 9*z252^214 + 17*z252^213 + 15*z252^212 + 3*z252^211 + 8*z252^210 + 14*z252^209 + 8*z252^208 + 10*z252^207 + 13*z252^206 + 3*z252^205 + 14*z252^204 + 9*z252^203 + 13*z252^202 + 3*z252^201 + 7*z252^200 + 18*z252^199 + 2*z252^198 + 10*z252^197 + 15*z252^196 + 4*z252^195 + 18*z252^194 + 7*z252^193 + 15*z252^192 + 6*z252^191 + 18*z252^190 + 11*z252^189 + 6*z252^188 + 7*z252^187 + 14*z252^186 + 7*z252^185 + 13*z252^184 + 7*z252^183 + 3*z252^181 + 4*z252^180 + 16*z252^179 + 3*z252^178 + 17*z252^177 + 17*z252^176 + 2*z252^175 + 12*z252^174 + 15*z252^173 + 18*z252^172 + 17*z252^171 + 8*z252^170 + 4*z252^169 + 8*z252^168 + 11*z252^167 + 18*z252^166 + 17*z252^165 + 4*z252^164 + 15*z252^163 + 2*z252^162 + 12*z252^161 + 8*z252^160 + 6*z252^159 + 17*z252^158 + 13*z252^157 + 2*z252^156 + 3*z252^155 + 4*z252^154 + 11*z252^153 + 10*z252^152 + 14*z252^151 + 12*z252^150 + 8*z252^149 + 8*z252^148 + 9*z252^147 + 3*z252^146 + 11*z252^145 + 8*z252^144 + 10*z252^143 + 3*z252^141 + z252^140 + 6*z252^139 + 16*z252^138 + 10*z252^137 + 7*z252^136 + 7*z252^135 + 16*z252^134 + 10*z252^133 + z252^132 + 12*z252^131 + 6*z252^130 + 13*z252^128 + 5*z252^127 + 5*z252^126 + 13*z252^125 + 16*z252^124 + 7*z252^123 + 16*z252^122 + 6*z252^121 + 17*z252^120 + 2*z252^118 + 17*z252^117 + 13*z252^116 + 14*z252^115 + 3*z252^114 + 10*z252^113 + z252^112 + 12*z252^111 + 6*z252^110 + 9*z252^109 + 13*z252^108 + 11*z252^107 + 13*z252^106 + 3*z252^105 + 17*z252^104 + 12*z252^103 + 17*z252^102 + 15*z252^100 + 6*z252^99 + 15*z252^98 + 9*z252^97 + 7*z252^96 + 16*z252^95 + 9*z252^94 + 17*z252^93 + 17*z252^92 + 8*z252^91 + z252^90 + 11*z252^89 + 15*z252^88 + 17*z252^87 + 7*z252^86 + 6*z252^85 + 17*z252^84 + 16*z252^83 + 7*z252^82 + 8*z252^81 + 10*z252^80 + 13*z252^79 + 14*z252^78 + 3*z252^77 + 10*z252^76 + 13*z252^75 + 9*z252^74 + 11*z252^72 + 12*z252^71 + 2*z252^70 + z252^69 + 14*z252^68 + 7*z252^67 + 5*z252^66 + 7*z252^65 + 13*z252^64 + 7*z252^63 + 13*z252^62 + 10*z252^61 + 8*z252^60 + 9*z252^59 + 16*z252^58 + 9*z252^57 + 2*z252^56 + 6*z252^55 + 18*z252^54 + 10*z252^53 + 2*z252^51 + 10*z252^50 + 16*z252^49 + 18*z252^48 + 10*z252^47 + z252^46 + 6*z252^45 + 10*z252^44 + 13*z252^43 + 18*z252^42 + 16*z252^41 + 5*z252^40 + 11*z252^39 + z252^38 + z252^37 + 6*z252^35 + 7*z252^34 + 15*z252^33 + 3*z252^32 + 5*z252^31 + 14*z252^30 + 8*z252^29 + 12*z252^28 + z252^27 + 8*z252^26 + 14*z252^25 + 9*z252^24 + 17*z252^23 + 4*z252^22 + 6*z252^21 + 16*z252^20 + 7*z252^19 + 14*z252^18 + 4*z252^17 + 2*z252^16 + 18*z252^15 + 3*z252^14 + 2*z252^13 + 16*z252^12 + 5*z252^11 + 13*z252^10 + 10*z252^9 + 5*z252^8 + 5*z252^7 + 11*z252^6 + 18*z252^5 + 15*z252^4 + 3*z252^3 + 3*z252 + 8)*xbar^3 + (7*z252^251 + 9*z252^250 + 15*z252^249 + 2*z252^248 + 2*z252^247 + 5*z252^246 + 6*z252^245 + 15*z252^244 + 10*z252^243 + 13*z252^242 + 7*z252^241 + 7*z252^240 + 17*z252^239 + 8*z252^238 + 15*z252^237 + z252^236 + 5*z252^235 + 18*z252^234 + 14*z252^233 + 5*z252^232 + 6*z252^231 + 5*z252^230 + 5*z252^229 + 9*z252^228 + 16*z252^227 + 7*z252^226 + z252^225 + 4*z252^224 + 10*z252^223 + 18*z252^222 + 14*z252^221 + 9*z252^219 + 15*z252^218 + 8*z252^217 + 9*z252^216 + 15*z252^215 + 9*z252^214 + 17*z252^213 + 15*z252^212 + 3*z252^211 + 8*z252^210 + 14*z252^209 + 8*z252^208 + 10*z252^207 + 13*z252^206 + 3*z252^205 + 14*z252^204 + 9*z252^203 + 13*z252^202 + 3*z252^201 + 7*z252^200 + 18*z252^199 + 2*z252^198 + 10*z252^197 + 15*z252^196 + 4*z252^195 + 18*z252^194 + 7*z252^193 + 15*z252^192 + 6*z252^191 + 18*z252^190 + 11*z252^189 + 6*z252^188 + 7*z252^187 + 14*z252^186 + 7*z252^185 + 13*z252^184 + 7*z252^183 + 3*z252^181 + 4*z252^180 + 16*z252^179 + 3*z252^178 + 17*z252^177 + 17*z252^176 + 2*z252^175 + 12*z252^174 + 15*z252^173 + 18*z252^172 + 17*z252^171 + 8*z252^170 + 4*z252^169 + 8*z252^168 + 11*z252^167 + 18*z252^166 + 17*z252^165 + 4*z252^164 + 15*z252^163 + 2*z252^162 + 12*z252^161 + 8*z252^160 + 6*z252^159 + 17*z252^158 + 13*z252^157 + 2*z252^156 + 3*z252^155 + 4*z252^154 + 11*z252^153 + 10*z252^152 + 14*z252^151 + 12*z252^150 + 8*z252^149 + 8*z252^148 + 9*z252^147 + 3*z252^146 + 11*z252^145 + 8*z252^144 + 10*z252^143 + 3*z252^141 + z252^140 + 6*z252^139 + 16*z252^138 + 10*z252^137 + 7*z252^136 + 7*z252^135 + 16*z252^134 + 10*z252^133 + z252^132 + 12*z252^131 + 6*z252^130 + 13*z252^128 + 5*z252^127 + 5*z252^126 + 13*z252^125 + 16*z252^124 + 7*z252^123 + 16*z252^122 + 6*z252^121 + 17*z252^120 + 2*z252^118 + 17*z252^117 + 13*z252^116 + 14*z252^115 + 3*z252^114 + 10*z252^113 + z252^112 + 12*z252^111 + 6*z252^110 + 9*z252^109 + 13*z252^108 + 11*z252^107 + 13*z252^106 + 3*z252^105 + 17*z252^104 + 12*z252^103 + 17*z252^102 + 15*z252^100 + 6*z252^99 + 15*z252^98 + 9*z252^97 + 7*z252^96 + 16*z252^95 + 9*z252^94 + 17*z252^93 + 17*z252^92 + 8*z252^91 + z252^90 + 11*z252^89 + 15*z252^88 + 17*z252^87 + 7*z252^86 + 6*z252^85 + 17*z252^84 + 16*z252^83 + 7*z252^82 + 8*z252^81 + 10*z252^80 + 13*z252^79 + 14*z252^78 + 3*z252^77 + 10*z252^76 + 13*z252^75 + 9*z252^74 + 11*z252^72 + 12*z252^71 + 2*z252^70 + z252^69 + 14*z252^68 + 7*z252^67 + 5*z252^66 + 7*z252^65 + 13*z252^64 + 7*z252^63 + 13*z252^62 + 10*z252^61 + 8*z252^60 + 9*z252^59 + 16*z252^58 + 9*z252^57 + 2*z252^56 + 6*z252^55 + 18*z252^54 + 10*z252^53 + 2*z252^51 + 10*z252^50 + 16*z252^49 + 18*z252^48 + 10*z252^47 + z252^46 + 6*z252^45 + 10*z252^44 + 13*z252^43 + 18*z252^42 + 16*z252^41 + 5*z252^40 + 11*z252^39 + z252^38 + z252^37 + 6*z252^35 + 7*z252^34 + 15*z252^33 + 3*z252^32 + 5*z252^31 + 14*z252^30 + 8*z252^29 + 12*z252^28 + z252^27 + 8*z252^26 + 14*z252^25 + 9*z252^24 + 17*z252^23 + 4*z252^22 + 6*z252^21 + 16*z252^20 + 7*z252^19 + 14*z252^18 + 4*z252^17 + 2*z252^16 + 18*z252^15 + 3*z252^14 + 2*z252^13 + 16*z252^12 + 5*z252^11 + 13*z252^10 + 10*z252^9 + 5*z252^8 + 5*z252^7 + 11*z252^6 + 18*z252^5 + 15*z252^4 + 3*z252^3 + 3*z252 + 8)*xbar^2 + (14*z252^251 + 18*z252^250 + 11*z252^249 + 4*z252^248 + 4*z252^247 + 10*z252^246 + 12*z252^245 + 11*z252^244 + z252^243 + 7*z252^242 + 14*z252^241 + 14*z252^240 + 15*z252^239 + 16*z252^238 + 11*z252^237 + 2*z252^236 + 10*z252^235 + 17*z252^234 + 9*z252^233 + 10*z252^232 + 12*z252^231 + 10*z252^230 + 10*z252^229 + 18*z252^228 + 13*z252^227 + 14*z252^226 + 2*z252^225 + 8*z252^224 + z252^223 + 17*z252^222 + 9*z252^221 + 18*z252^219 + 11*z252^218 + 16*z252^217 + 18*z252^216 + 11*z252^215 + 18*z252^214 + 15*z252^213 + 11*z252^212 + 6*z252^211 + 16*z252^210 + 9*z252^209 + 16*z252^208 + z252^207 + 7*z252^206 + 6*z252^205 + 9*z252^204 + 18*z252^203 + 7*z252^202 + 6*z252^201 + 14*z252^200 + 17*z252^199 + 4*z252^198 + z252^197 + 11*z252^196 + 8*z252^195 + 17*z252^194 + 14*z252^193 + 11*z252^192 + 12*z252^191 + 17*z252^190 + 3*z252^189 + 12*z252^188 + 14*z252^187 + 9*z252^186 + 14*z252^185 + 7*z252^184 + 14*z252^183 + 6*z252^181 + 8*z252^180 + 13*z252^179 + 6*z252^178 + 15*z252^177 + 15*z252^176 + 4*z252^175 + 5*z252^174 + 11*z252^173 + 17*z252^172 + 15*z252^171 + 16*z252^170 + 8*z252^169 + 16*z252^168 + 3*z252^167 + 17*z252^166 + 15*z252^165 + 8*z252^164 + 11*z252^163 + 4*z252^162 + 5*z252^161 + 16*z252^160 + 12*z252^159 + 15*z252^158 + 7*z252^157 + 4*z252^156 + 6*z252^155 + 8*z252^154 + 3*z252^153 + z252^152 + 9*z252^151 + 5*z252^150 + 16*z252^149 + 16*z252^148 + 18*z252^147 + 6*z252^146 + 3*z252^145 + 16*z252^144 + z252^143 + 6*z252^141 + 2*z252^140 + 12*z252^139 + 13*z252^138 + z252^137 + 14*z252^136 + 14*z252^135 + 13*z252^134 + z252^133 + 2*z252^132 + 5*z252^131 + 12*z252^130 + 7*z252^128 + 10*z252^127 + 10*z252^126 + 7*z252^125 + 13*z252^124 + 14*z252^123 + 13*z252^122 + 12*z252^121 + 15*z252^120 + 4*z252^118 + 15*z252^117 + 7*z252^116 + 9*z252^115 + 6*z252^114 + z252^113 + 2*z252^112 + 5*z252^111 + 12*z252^110 + 18*z252^109 + 7*z252^108 + 3*z252^107 + 7*z252^106 + 6*z252^105 + 15*z252^104 + 5*z252^103 + 15*z252^102 + 11*z252^100 + 12*z252^99 + 11*z252^98 + 18*z252^97 + 14*z252^96 + 13*z252^95 + 18*z252^94 + 15*z252^93 + 15*z252^92 + 16*z252^91 + 2*z252^90 + 3*z252^89 + 11*z252^88 + 15*z252^87 + 14*z252^86 + 12*z252^85 + 15*z252^84 + 13*z252^83 + 14*z252^82 + 16*z252^81 + z252^80 + 7*z252^79 + 9*z252^78 + 6*z252^77 + z252^76 + 7*z252^75 + 18*z252^74 + 3*z252^72 + 5*z252^71 + 4*z252^70 + 2*z252^69 + 9*z252^68 + 14*z252^67 + 10*z252^66 + 14*z252^65 + 7*z252^64 + 14*z252^63 + 7*z252^62 + z252^61 + 16*z252^60 + 18*z252^59 + 13*z252^58 + 18*z252^57 + 4*z252^56 + 12*z252^55 + 17*z252^54 + z252^53 + 4*z252^51 + z252^50 + 13*z252^49 + 17*z252^48 + z252^47 + 2*z252^46 + 12*z252^45 + z252^44 + 7*z252^43 + 17*z252^42 + 13*z252^41 + 10*z252^40 + 3*z252^39 + 2*z252^38 + 2*z252^37 + 12*z252^35 + 14*z252^34 + 11*z252^33 + 6*z252^32 + 10*z252^31 + 9*z252^30 + 16*z252^29 + 5*z252^28 + 2*z252^27 + 16*z252^26 + 9*z252^25 + 18*z252^24 + 15*z252^23 + 8*z252^22 + 12*z252^21 + 13*z252^20 + 14*z252^19 + 9*z252^18 + 8*z252^17 + 4*z252^16 + 17*z252^15 + 6*z252^14 + 4*z252^13 + 13*z252^12 + 10*z252^11 + 7*z252^10 + z252^9 + 10*z252^8 + 10*z252^7 + 3*z252^6 + 17*z252^5 + 11*z252^4 + 6*z252^3 + 6*z252 + 16)*xbar + 2*z252^251 + 8*z252^250 + 7*z252^249 + 6*z252^248 + 6*z252^247 + 15*z252^246 + 18*z252^245 + 7*z252^244 + 11*z252^243 + z252^242 + 2*z252^241 + 2*z252^240 + 13*z252^239 + 5*z252^238 + 7*z252^237 + 3*z252^236 + 15*z252^235 + 16*z252^234 + 4*z252^233 + 15*z252^232 + 18*z252^231 + 15*z252^230 + 15*z252^229 + 8*z252^228 + 10*z252^227 + 2*z252^226 + 3*z252^225 + 12*z252^224 + 11*z252^223 + 16*z252^222 + 4*z252^221 + 8*z252^219 + 7*z252^218 + 5*z252^217 + 8*z252^216 + 7*z252^215 + 8*z252^214 + 13*z252^213 + 7*z252^212 + 9*z252^211 + 5*z252^210 + 4*z252^209 + 5*z252^208 + 11*z252^207 + z252^206 + 9*z252^205 + 4*z252^204 + 8*z252^203 + z252^202 + 9*z252^201 + 2*z252^200 + 16*z252^199 + 6*z252^198 + 11*z252^197 + 7*z252^196 + 12*z252^195 + 16*z252^194 + 2*z252^193 + 7*z252^192 + 18*z252^191 + 16*z252^190 + 14*z252^189 + 18*z252^188 + 2*z252^187 + 4*z252^186 + 2*z252^185 + z252^184 + 2*z252^183 + 9*z252^181 + 12*z252^180 + 10*z252^179 + 9*z252^178 + 13*z252^177 + 13*z252^176 + 6*z252^175 + 17*z252^174 + 7*z252^173 + 16*z252^172 + 13*z252^171 + 5*z252^170 + 12*z252^169 + 5*z252^168 + 14*z252^167 + 16*z252^166 + 13*z252^165 + 12*z252^164 + 7*z252^163 + 6*z252^162 + 17*z252^161 + 5*z252^160 + 18*z252^159 + 13*z252^158 + z252^157 + 6*z252^156 + 9*z252^155 + 12*z252^154 + 14*z252^153 + 11*z252^152 + 4*z252^151 + 17*z252^150 + 5*z252^149 + 5*z252^148 + 8*z252^147 + 9*z252^146 + 14*z252^145 + 5*z252^144 + 11*z252^143 + 9*z252^141 + 3*z252^140 + 18*z252^139 + 10*z252^138 + 11*z252^137 + 2*z252^136 + 2*z252^135 + 10*z252^134 + 11*z252^133 + 3*z252^132 + 17*z252^131 + 18*z252^130 + z252^128 + 15*z252^127 + 15*z252^126 + z252^125 + 10*z252^124 + 2*z252^123 + 10*z252^122 + 18*z252^121 + 13*z252^120 + 6*z252^118 + 13*z252^117 + z252^116 + 4*z252^115 + 9*z252^114 + 11*z252^113 + 3*z252^112 + 17*z252^111 + 18*z252^110 + 8*z252^109 + z252^108 + 14*z252^107 + z252^106 + 9*z252^105 + 13*z252^104 + 17*z252^103 + 13*z252^102 + 7*z252^100 + 18*z252^99 + 7*z252^98 + 8*z252^97 + 2*z252^96 + 10*z252^95 + 8*z252^94 + 13*z252^93 + 13*z252^92 + 5*z252^91 + 3*z252^90 + 14*z252^89 + 7*z252^88 + 13*z252^87 + 2*z252^86 + 18*z252^85 + 13*z252^84 + 10*z252^83 + 2*z252^82 + 5*z252^81 + 11*z252^80 + z252^79 + 4*z252^78 + 9*z252^77 + 11*z252^76 + z252^75 + 8*z252^74 + 14*z252^72 + 17*z252^71 + 6*z252^70 + 3*z252^69 + 4*z252^68 + 2*z252^67 + 15*z252^66 + 2*z252^65 + z252^64 + 2*z252^63 + z252^62 + 11*z252^61 + 5*z252^60 + 8*z252^59 + 10*z252^58 + 8*z252^57 + 6*z252^56 + 18*z252^55 + 16*z252^54 + 11*z252^53 + 6*z252^51 + 11*z252^50 + 10*z252^49 + 16*z252^48 + 11*z252^47 + 3*z252^46 + 18*z252^45 + 11*z252^44 + z252^43 + 16*z252^42 + 10*z252^41 + 15*z252^40 + 14*z252^39 + 3*z252^38 + 3*z252^37 + 18*z252^35 + 2*z252^34 + 7*z252^33 + 9*z252^32 + 15*z252^31 + 4*z252^30 + 5*z252^29 + 17*z252^28 + 3*z252^27 + 5*z252^26 + 4*z252^25 + 8*z252^24 + 13*z252^23 + 12*z252^22 + 18*z252^21 + 10*z252^20 + 2*z252^19 + 4*z252^18 + 12*z252^17 + 6*z252^16 + 16*z252^15 + 9*z252^14 + 6*z252^13 + 10*z252^12 + 15*z252^11 + z252^10 + 11*z252^9 + 15*z252^8 + 15*z252^7 + 14*z252^6 + 16*z252^5 + 7*z252^4 + 9*z252^3 + 9*z252 + 5"
      ]
     },
     "execution_count": 72,
     "metadata": {},
     "output_type": "execute_result"
    }
   ],
   "source": [
    "%time norm_r(g252, 3, 6)"
   ]
  },
  {
   "cell_type": "code",
   "execution_count": null,
   "metadata": {
    "collapsed": true
   },
   "outputs": [],
   "source": [
    "A252 = PolynomialQuotientRing(GF(p^252)['x'], ZETAS[cyclo_deg(GF(p), 252)].change_ring(GF(p^252)))"
   ]
  },
  {
   "cell_type": "code",
   "execution_count": 77,
   "metadata": {
    "collapsed": false
   },
   "outputs": [
    {
     "data": {
      "text/plain": [
       "2132.45961174868"
      ]
     },
     "execution_count": 77,
     "metadata": {},
     "output_type": "execute_result"
    }
   ],
   "source": [
    "numerical_approx(p^502).log2()"
   ]
  },
  {
   "cell_type": "code",
   "execution_count": 78,
   "metadata": {
    "collapsed": false
   },
   "outputs": [
    {
     "data": {
      "text/plain": [
       "2140"
      ]
     },
     "execution_count": 78,
     "metadata": {},
     "output_type": "execute_result"
    }
   ],
   "source": []
  },
  {
   "cell_type": "code",
   "execution_count": null,
   "metadata": {
    "collapsed": true
   },
   "outputs": [],
   "source": []
  }
 ],
 "metadata": {
  "kernelspec": {
   "display_name": "SageMath 8.1",
   "language": "",
   "name": "sagemath"
  },
  "language_info": {
   "codemirror_mode": {
    "name": "ipython",
    "version": 2
   },
   "file_extension": ".py",
   "mimetype": "text/x-python",
   "name": "python",
   "nbconvert_exporter": "python",
   "pygments_lexer": "ipython2",
   "version": "2.7.14"
  }
 },
 "nbformat": 4,
 "nbformat_minor": 2
}
