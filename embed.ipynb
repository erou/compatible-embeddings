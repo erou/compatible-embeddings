{
 "cells": [
  {
   "cell_type": "markdown",
   "metadata": {
    "deletable": true,
    "editable": true
   },
   "source": [
    "# Compatible embeddings using Allombert's algorithm"
   ]
  },
  {
   "cell_type": "markdown",
   "metadata": {
    "collapsed": false,
    "deletable": true,
    "editable": true,
    "scrolled": true
   },
   "source": [
    "In the following we represent $K\\otimes C$ as $K[t]/\\Phi(t)$ where $\\Phi(t)$ is the polynomial defining \n",
    "the field $C = k(\\zeta)$."
   ]
  },
  {
   "cell_type": "code",
   "execution_count": 208,
   "metadata": {
    "collapsed": false,
    "deletable": true,
    "editable": true
   },
   "outputs": [],
   "source": [
    "\"\"\"\n",
    "Compute the frobenius σ' of `elem` in K⊗C defined by σ'(x⊗y) = σ(x)⊗y with \n",
    "σ the frobenius of K/k with k the prime subfield.\n",
    "\"\"\"\n",
    "def froby(elem):\n",
    "    l = elem.list()\n",
    "    f = parent(l[0]).frobenius_endomorphism()\n",
    "    res = parent(elem)()\n",
    "    t = parent(elem).gen()\n",
    "    for j in range(len(l)):\n",
    "        res += f(l[j])*t^j\n",
    "    return res  \n",
    "\n",
    "\"\"\"\n",
    "Compute the matrix representing the frobenius σ' in K⊗C, over the basis B⊗1\n",
    "where B is a basis of K over k. The coefficients are in C=k(ζ).\n",
    "\"\"\"\n",
    "def frob_mat(K, C = None):\n",
    "    \n",
    "    if C == None:\n",
    "        C = K.prime_subfield()\n",
    "    \n",
    "    frob = K.frobenius_endomorphism()\n",
    "    n = K.degree()\n",
    "    S = MatrixSpace(C, n)\n",
    "    g = K.gen()\n",
    "    \n",
    "    cols = []\n",
    "    \n",
    "    for j in range(n):\n",
    "        s = frob(g^j)\n",
    "        l = s.polynomial().list()\n",
    "        l = l + (n-len(l))*[C()]\n",
    "        cols.append(l)\n",
    "        \n",
    "    return S(cols).transpose()\n",
    "\n",
    "\"\"\"\n",
    "Compute a solution of the equation ``σ'(x) = (1⊗ζ)x`` in K⊗C = T.\n",
    "\"\"\"\n",
    "def hilbert90(K, C, T):\n",
    "    \n",
    "    M = frob_mat(K, C)\n",
    "    t = C.gen()\n",
    "    eigen = M.right_eigenvectors()\n",
    "    \n",
    "    for e in eigen:\n",
    "        if e[0] == t:\n",
    "            v = e[1][0]\n",
    "            break\n",
    "    \n",
    "    res = T()\n",
    "    g = K.gen()\n",
    "    for j in range(K.degree()):\n",
    "        res += T(v[j])*g^j\n",
    "        \n",
    "    return res\n",
    "\n",
    "\"\"\"\n",
    "Compute the first coordinate of `elem` in `basis`, knowing that\n",
    "`elem` is in fact in a subspace of degree `d2`.\n",
    "\"\"\"\n",
    "def change_basis(elem, basis, d2):\n",
    "    \n",
    "    k = elem.base_ring()\n",
    "    d1 = elem.parent().degree()\n",
    "    S = MatrixSpace(k, d1, d2)\n",
    "    A = S()\n",
    "    \n",
    "    for i in range(d2):\n",
    "        L = (basis^i).list()\n",
    "        for j in range(d1):\n",
    "            A[j,i] = L[j]\n",
    "            \n",
    "    S2 = MatrixSpace(k, d1, 1)\n",
    "    B = S2(elem.list())\n",
    "    X = A.solve_right(B)\n",
    "    \n",
    "    return X[0,0]\n",
    "\n",
    "\n",
    "\"\"\"\n",
    "Compute two elements β and γ such that k1 = k(β) can be embedded\n",
    "in k2 via the map β |-> γ. \n",
    "\"\"\"\n",
    "def allombert_gens(k1, k2):\n",
    "    \n",
    "    # We first set some usefull variables\n",
    "    k = k1.prime_subfield()\n",
    "    R = PolynomialRing(k, \"x\")\n",
    "    Rxy.<x,y> = PolynomialRing(k, \"x, y\")\n",
    "    m, n = k1.degree(), k2.degree()\n",
    "    \n",
    "    # Then we create the spaces necessary to solve Hilbert 90\n",
    "    # C1 = k(ζ1), T1 = k1 ⊗ C1\n",
    "    # and we solve Hilbert 90 in T1\n",
    "    f1 = factor(R(cyclotomic_polynomial(m)))[0][0]\n",
    "    C1 = k.extension(f1, \"t\")\n",
    "    T1 = k1.extension(f1, \"t\")\n",
    "    a1 = hilbert90(k1, C1, T1)\n",
    "    \n",
    "    # After that we find a compatible polynomial f2 defining our root of unity ζ2\n",
    "    f1xy = Rxy(f1)\n",
    "    res = f1xy.resultant(y^(n/m)-x, x)\n",
    "    P = gcd(R(res.polynomial(y).list()), R(cyclotomic_polynomial(n)))\n",
    "    f2 = factor(P)[0][0]\n",
    "    \n",
    "    # We create the spaces relative to k2 and ζ2\n",
    "    # and solve Hilbert 90 in T2 = k2 ⊗ k(ζ2)\n",
    "    C2 = k.extension(f2, \"t\")\n",
    "    T2 = k2.extension(f2, \"t\")\n",
    "    a2 = hilbert90(k2, C2, T2)\n",
    "    \n",
    "    \n",
    "    # We then coerce a1^m, which lives in T1, in C2 = k(ζ2) using\n",
    "    # the embedding ζ1 |-> ζ2^(n/m) to see k(ζ1) in k(ζ2)\n",
    "    b1 = C2([k(x) for x in (a1^m).list()]).polynomial().subs(C2.gen()^(n/m))\n",
    "    \n",
    "    # We coerce a2^n, which lives in T2, in C2 = k(ζ2)\n",
    "    b2 = C2([k(x) for x in (a2^n).list()])\n",
    "    \n",
    "    # We compute an m-th root of b1/b2 = a1^m/a2^n\n",
    "    c = (b1*b2^(-1)).nth_root(m)\n",
    "    \n",
    "    # And we finally return the first coefficient of a1 and c × a2 in\n",
    "    # the base (1 ⊗ ζ2) PROBLEM HERE ?? \n",
    "    \n",
    "    # --! PROBLEM !--\n",
    "    # Maybe we are computing the first coefficient of c × a2 in the basis \n",
    "    # (1 ⊗ ζ2) and that should be (1 ⊗ ζ1) = (1 ⊗ ζ2^(n/m)) ???\n",
    "    return a1.list()[0], change_basis(T2(c)*a2^(n/m), T2.gen()^(n/m), C1.degree())"
   ]
  },
  {
   "cell_type": "code",
   "execution_count": 209,
   "metadata": {
    "collapsed": false,
    "deletable": true,
    "editable": true
   },
   "outputs": [],
   "source": [
    "p = 5\n",
    "k = GF(p)\n",
    "k12 = GF(p^12)\n",
    "k24 = GF(p^24)\n",
    "k48 = GF(p^48)\n",
    "\n",
    "R = PolynomialRing(k, \"x\")\n",
    "Rxy.<x, y> = PolynomialRing(k, \"x, y\")"
   ]
  },
  {
   "cell_type": "code",
   "execution_count": 237,
   "metadata": {
    "collapsed": false,
    "deletable": true,
    "editable": true
   },
   "outputs": [
    {
     "data": {
      "text/plain": [
       "True"
      ]
     },
     "execution_count": 237,
     "metadata": {},
     "output_type": "execute_result"
    }
   ],
   "source": [
    "a, b = allombert_gens(k12, k48)\n",
    "a.minpoly() == b.minpoly()"
   ]
  },
  {
   "cell_type": "markdown",
   "metadata": {
    "collapsed": true,
    "deletable": true,
    "editable": true
   },
   "source": [
    "# Tests"
   ]
  },
  {
   "cell_type": "code",
   "execution_count": null,
   "metadata": {
    "collapsed": true
   },
   "outputs": [],
   "source": []
  }
 ],
 "metadata": {
  "kernelspec": {
   "display_name": "SageMath 8.1",
   "language": "",
   "name": "sagemath"
  },
  "language_info": {
   "codemirror_mode": {
    "name": "ipython",
    "version": 2
   },
   "file_extension": ".py",
   "mimetype": "text/x-python",
   "name": "python",
   "nbconvert_exporter": "python",
   "pygments_lexer": "ipython2",
   "version": "2.7.14"
  }
 },
 "nbformat": 4,
 "nbformat_minor": 2
}
