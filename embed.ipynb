{
 "cells": [
  {
   "cell_type": "markdown",
   "metadata": {
    "deletable": true,
    "editable": true
   },
   "source": [
    "# Compatible embeddings using Allombert's algorithm"
   ]
  },
  {
   "cell_type": "markdown",
   "metadata": {
    "collapsed": false,
    "deletable": true,
    "editable": true,
    "scrolled": true
   },
   "source": [
    "## Code\n",
    "\n",
    "We start by defining some basic classes to represent \n",
    "\n",
    "1. triple $(K, \\chi, \\alpha)$, where $K\\cong\\mathbb F_{p^n}$ is a finite field, $\\chi$ is the minimal polynomial over $k=\\mathbb F_p$ of a $n$-th primitive root of unity $\\zeta$, and $\\alpha$ is a solution of Hilbert 90 in the algebra $K\\otimes k(\\zeta)$.\n",
    "2. a couple $(c, f)$, where $f:K_1\\hookrightarrow K_2$ is an embedding between two finite fields $K_1$ and $K_2$ and $c$ is the constant used in Allombert's algorithm to define the embedding."
   ]
  },
  {
   "cell_type": "code",
   "execution_count": 1,
   "metadata": {
    "collapsed": true,
    "deletable": true,
    "editable": true
   },
   "outputs": [],
   "source": [
    "class ffembed:\n",
    "    \n",
    "    def __init__(self, k):\n",
    "        self._field = k\n",
    "        self._root = None\n",
    "        self._hilbert_gen = None\n",
    "    def __repr__(self):\n",
    "        return self._field.__repr__()\n",
    "    \n",
    "    def has_root(self):\n",
    "        return self._root != None\n",
    "    \n",
    "    def root(self):\n",
    "        return self._root\n",
    "    \n",
    "    def hilbert_gen(self):\n",
    "        return self._hilbert_gen\n",
    "    \n",
    "    def field(self):\n",
    "        return self._field\n",
    "    \n",
    "    def assign_root(self, r, g):\n",
    "        self._root = r\n",
    "        self._hilbert_gen = g\n",
    "\n",
    "class embedding:\n",
    "    \n",
    "    def __init__(self, c, f):\n",
    "        self._constant = c\n",
    "        self._map = f\n",
    "        \n",
    "    def __call__(self, x):\n",
    "        return self._map(x)\n",
    "    \n",
    "    def constant(self):\n",
    "        return self._constant\n",
    "    \n",
    "    def get_map(self):\n",
    "        return self._map"
   ]
  },
  {
   "cell_type": "markdown",
   "metadata": {
    "deletable": true,
    "editable": true
   },
   "source": [
    "We define functions to solve Hilbert 90."
   ]
  },
  {
   "cell_type": "code",
   "execution_count": 2,
   "metadata": {
    "collapsed": true,
    "deletable": true,
    "editable": true
   },
   "outputs": [],
   "source": [
    "\"\"\"\n",
    "Compute the frobenius σ' of `elem` in K⊗C defined by σ'(x⊗y) = σ(x)⊗y with \n",
    "σ the frobenius of K/k with k the prime subfield.\n",
    "\"\"\"\n",
    "def froby(elem):\n",
    "    l = elem.list()\n",
    "    f = parent(l[0]).frobenius_endomorphism()\n",
    "    res = parent(elem)()\n",
    "    t = parent(elem).gen()\n",
    "    for j in range(len(l)):\n",
    "        res += f(l[j])*t^j\n",
    "    return res  \n",
    "\n",
    "\"\"\"\n",
    "Compute the matrix representing the frobenius σ⊗Id in K⊗C, over the basis B⊗1\n",
    "where B is a basis of K over k. The coefficients are in C=k(ζ).\n",
    "\"\"\"\n",
    "def frob_mat(K, C = None):\n",
    "    \n",
    "    if C == None:\n",
    "        C = K.prime_subfield()\n",
    "    \n",
    "    frob = K.frobenius_endomorphism()\n",
    "    n = K.degree()\n",
    "    S = MatrixSpace(C, n)\n",
    "    g = K.gen()\n",
    "    \n",
    "    cols = []\n",
    "    \n",
    "    for j in range(n):\n",
    "        s = frob(g^j)\n",
    "        l = s.polynomial().list()\n",
    "        l = l + (n-len(l))*[C()]\n",
    "        cols.append(l)\n",
    "        \n",
    "    return S(cols).transpose()\n",
    "\n",
    "\"\"\"\n",
    "Compute a solution of the equation ``σ'(x) = (1⊗ζ)x`` in K⊗C = T.\n",
    "\"\"\"\n",
    "def hilbert90(K, C, T):\n",
    "    \n",
    "    M = frob_mat(K, C)\n",
    "    t = C.gen()\n",
    "    eigen = M.right_eigenvectors()\n",
    "    \n",
    "    for e in eigen:\n",
    "        if e[0] == t:\n",
    "            v = e[1][0]\n",
    "            break\n",
    "    \n",
    "    res = T()\n",
    "    g = K.gen()\n",
    "    for j in range(K.degree()):\n",
    "        res += T(v[j])*g^j\n",
    "        \n",
    "    return res"
   ]
  },
  {
   "cell_type": "markdown",
   "metadata": {
    "deletable": true,
    "editable": true
   },
   "source": [
    "We define functions to compute compatible roots of unity."
   ]
  },
  {
   "cell_type": "code",
   "execution_count": 3,
   "metadata": {
    "collapsed": false,
    "deletable": true,
    "editable": true
   },
   "outputs": [],
   "source": [
    "\"\"\"\n",
    "Compute the first coordinate of `elem` in `basis`, knowing that\n",
    "`elem` is in fact in a subspace of degree `d2`.\n",
    "\"\"\"\n",
    "def change_basis(elem, basis, d2):\n",
    "    \n",
    "    k = elem.base_ring()\n",
    "    d1 = elem.parent().degree()\n",
    "    A = MatrixSpace(k, d1, d2)()\n",
    "    \n",
    "    for i in range(d2):\n",
    "        L = (basis^i).list()\n",
    "        for j in range(d1):\n",
    "            A[j,i] = L[j]\n",
    "            \n",
    "    S2 = MatrixSpace(k, d1, 1)\n",
    "    B = S2(elem.list())\n",
    "    X = A.solve_right(B)\n",
    "    \n",
    "    return X[0,0]\n",
    "\n",
    "\"\"\"\n",
    "Compute a n-th primitive root of unity, where n is equal to the degree of `K1`. \n",
    "We do not impose any condition on that root.\n",
    "\"\"\"\n",
    "def compute_root_no_cond(K1):\n",
    "    \n",
    "    k1 = K1.field()\n",
    "    m = k1.degree()\n",
    "    k = k1.prime_subfield()\n",
    "    R = PolynomialRing(k, \"x\")\n",
    "    f1 = factor(R(cyclotomic_polynomial(m)))[0][0]\n",
    "    C1 = k.extension(f1, \"t\")\n",
    "    T1 = k1.extension(f1, \"t\")\n",
    "    a1 = hilbert90(k1, C1, T1)\n",
    "    \n",
    "    K1.assign_root(f1, a1)\n",
    "\n",
    "\"\"\"\n",
    "Compute a n-th primitive root of unity, where n is equal to the degree of `K2`.\n",
    "The root must be compatible with the root in `K1`, a smaller field of degree m.\n",
    "This means we want that ζ2^(n/m) = ζ1, where ζi is the root chosen for Ki.\n",
    "\"\"\"\n",
    "def compute_root_compatible1(K2, K1):\n",
    "    \n",
    "    k1, k2 = K1.field(), K2.field()\n",
    "    m, n = k1.degree(), k2.degree()\n",
    "    k = k1.prime_subfield()\n",
    "    R = PolynomialRing(k, \"x\")\n",
    "    Rxy.<x,y> = PolynomialRing(k, \"x, y\")\n",
    "    f1 = K1.root()\n",
    "    f1xy = Rxy(f1)\n",
    "    res = f1xy.resultant(y^(n/m)-x, x)\n",
    "    P = gcd(R(res.polynomial(y).list()), R(cyclotomic_polynomial(n)))\n",
    "    f2 = factor(P)[0][0]\n",
    "    C2 = k.extension(f2, \"t\")\n",
    "    T2 = k2.extension(f2, \"t\")\n",
    "    a2 = hilbert90(k2, C2, T2)\n",
    "    \n",
    "    K2.assign_root(f2, a2)\n",
    "        \n",
    "\"\"\"\n",
    "Compute a m-th primitive root of unity, where m is equal to the degree of `K1`.\n",
    "The root must be compatible with the root in `K2`, a bigger field of degree n.\n",
    "This means we want that ζ2^(n/m) = ζ1, where ζi is the root chosen for Ki.\n",
    "\"\"\"\n",
    "def compute_root_compatible2(K1, K2):\n",
    "    \n",
    "    k1, k2 = K1.field(), K2.field()\n",
    "    m, n = k1.degree(), k2.degree()\n",
    "    k = k1.prime_subfield()\n",
    "    R = PolynomialRing(k, \"x\")\n",
    "    Rxy.<x,y> = PolynomialRing(k, \"x, y\")\n",
    "    f2 = K2.root()\n",
    "    f2xy = Rxy(f2)\n",
    "    res = f2xy.resultant(x^(n/m)-y, x)\n",
    "    P = gcd(R(res.polynomial(y).list()), R(cyclotomic_polynomial(m)))\n",
    "    f1 = factor(P)[0][0]\n",
    "    C1 = k.extension(f1, \"t\")\n",
    "    T1 = k1.extension(f1, \"t\")\n",
    "    a1 = hilbert90(k1, C1, T1)\n",
    "    \n",
    "    K1.assign_root(f1, a1)\n",
    "\n",
    "\"\"\"\n",
    "Compute a n-th primitive root of unity, where n is equal to the degree of `K2`.\n",
    "If L = [], we do not impose any compatibility condition, otherwise we impose the conditions \n",
    "relative to the roots of the fields in L.\n",
    "\"\"\"\n",
    "def compute_root(K2, L = []):\n",
    "    \n",
    "    if type(L) != list:\n",
    "        L = [L]\n",
    "    \n",
    "    if L == []:\n",
    "        compute_root_no_cond(K2)\n",
    "        \n",
    "    elif len(L) == 1:\n",
    "        if K2.field().degree() >= L[0].field().degree():\n",
    "            compute_root_compatible1(K2, L[0])\n",
    "        else:\n",
    "            compute_root_compatible2(K2, L[0])\n",
    "                \n",
    "    else:\n",
    "        \n",
    "        k2 = K2.field()\n",
    "        n = k2.degree()\n",
    "        k = k2.prime_subfield()\n",
    "        R = PolynomialRing(k, \"x\")\n",
    "        Rxy.<x,y> = PolynomialRing(k, \"x, y\")\n",
    "        P = R(cyclotomic_polynomial(n))\n",
    "        \n",
    "        for K1 in L:\n",
    "\n",
    "            k1 = K1.field()\n",
    "            m =  k1.degree()\n",
    "            f1 = K1.root()\n",
    "            f1xy = Rxy(f1)\n",
    "            res = f1xy.resultant(y^(n/m)-x, x)\n",
    "            P = gcd(R(res.polynomial(y).list()), P)\n",
    "            \n",
    "        f2 = factor(P)[0][0]    \n",
    "        C2 = k.extension(f2, \"t\")\n",
    "        T2 = k2.extension(f2, \"t\")\n",
    "        a2 = hilbert90(k2, C2, T2)\n",
    "\n",
    "        K2.assign_root(f2, a2)\n"
   ]
  },
  {
   "cell_type": "markdown",
   "metadata": {
    "deletable": true,
    "editable": true
   },
   "source": [
    "Finally we define functions to compute embeddings."
   ]
  },
  {
   "cell_type": "code",
   "execution_count": 4,
   "metadata": {
    "collapsed": false,
    "deletable": true,
    "editable": true
   },
   "outputs": [],
   "source": [
    "\"\"\"\n",
    "Compute the matrix whose columns are the powers of a form a^0 to a^(n-1).\n",
    "\"\"\"\n",
    "def basis_matrix(a, n = None):\n",
    "    K = a.parent()\n",
    "    m = K.degree()\n",
    "    \n",
    "    if n == None:\n",
    "        n = m\n",
    "    \n",
    "    k = K.prime_subfield()\n",
    "    S = MatrixSpace(k, m, n)()\n",
    "    for j in range(n):\n",
    "        L = (a^j).polynomial().list()\n",
    "        i = 0\n",
    "        for l in L:\n",
    "            S[i, j] = l\n",
    "            i += 1\n",
    "    return S\n",
    "\n",
    "def fflist(x):\n",
    "    L = x.polynomial().list()\n",
    "    l = len(L)\n",
    "    k = x.parent()\n",
    "    d = k.degree()\n",
    "    if l < d:\n",
    "        L += (d-l)*[k()]\n",
    "        \n",
    "    return L\n",
    "\n",
    "\"\"\"\n",
    "Compute the linear map φ: a|-> b sending a to b.\n",
    "\"\"\"\n",
    "def compute_map(a, b):\n",
    "    \n",
    "    A = basis_matrix(a)\n",
    "    B = basis_matrix(b, a.parent().degree())\n",
    "    C = B*A^(-1)\n",
    "    \n",
    "    K = b.parent()\n",
    "    k = K.prime_subfield()\n",
    "    S = MatrixSpace(k, a.parent().degree(), 1)\n",
    "\n",
    "    return lambda x : K((C*S(fflist(x))).column(0))\n",
    "\n",
    "\"\"\"\n",
    "Compute an embedding from K1 to K2.\n",
    "\"\"\"\n",
    "def compute_embedding_no_cond(K1, K2):\n",
    "    \n",
    "    a1 = K1.hilbert_gen()\n",
    "    a2 = K2.hilbert_gen()\n",
    "    k1, k2 = K1.field(), K2.field()\n",
    "    k = k1.prime_subfield()\n",
    "    m, n = k1.degree(), k2.degree()\n",
    "    C1 = k.extension(K1.root(), \"t\")\n",
    "    C2 = k.extension(K2.root(), \"t\")\n",
    "    T2 = a2.parent()\n",
    "       \n",
    "    b1 = C2([k(x) for x in (a1^m).list()]).polynomial().subs(C2.gen()^(n/m))\n",
    "    b2 = C2([k(x) for x in (a2^n).list()])\n",
    "    c = (b1*b2^(-1)).nth_root(m)\n",
    "    \n",
    "    a, b = a1.list()[0], change_basis(T2(c)*a2^(n/m), T2.gen()^(n/m), C1.degree())\n",
    "    f = compute_map(a, b)\n",
    "    return embedding(c, f)\n",
    "\n",
    "\"\"\"\n",
    "Compute an embedding from K1 to K2. The resulting embedding is compatible with \n",
    "the existing morphism f01 from K0 to K1 and f02 from K0 to K2.\n",
    "\"\"\"\n",
    "def compute_embedding_compatible(K1, K2, f01, f02, K0):\n",
    "    \n",
    "    a1 = K1.hilbert_gen()\n",
    "    a2 = K2.hilbert_gen()\n",
    "    k1, k2 = K1.field(), K2.field()\n",
    "    k = k1.prime_subfield()\n",
    "    l, m, n = K0.field().degree(), k1.degree(), k2.degree()\n",
    "    C1 = k.extension(K1.root(), \"t\")\n",
    "    C2 = k.extension(K2.root(), \"t\")\n",
    "    T2 = a2.parent()\n",
    "       \n",
    "    b1 = C2([k(x) for x in (a1^m).list()]).polynomial().subs(C2.gen()^(n/m))\n",
    "    b2 = C2([k(x) for x in (a2^n).list()])\n",
    "    e = (b1*b2^(-1)).nth_root(m)\n",
    "    c, d = f01.constant().polynomial().subs(C2.gen()^(n/m)), f02.constant()\n",
    "    \n",
    "    zeta = (e^(m/l)*c*d^(-1)).nth_root(m/l)\n",
    "    e = e*zeta^(-1)\n",
    "    \n",
    "    a, b = a1.list()[0], change_basis(T2(e)*a2^(n/m), T2.gen()^(n/m), C1.degree())\n",
    "    f = compute_map(a, b)\n",
    "    return embedding(e, f)"
   ]
  },
  {
   "cell_type": "markdown",
   "metadata": {
    "collapsed": false,
    "deletable": true,
    "editable": true
   },
   "source": [
    "## Examples\n",
    "\n",
    "### Triangle"
   ]
  },
  {
   "cell_type": "code",
   "execution_count": 5,
   "metadata": {
    "collapsed": false,
    "deletable": true,
    "editable": true
   },
   "outputs": [],
   "source": [
    "p = 5\n",
    "k = GF(p)\n",
    "k12 = GF(p^12)\n",
    "k24 = GF(p^24)\n",
    "k48 = GF(p^48)"
   ]
  },
  {
   "cell_type": "code",
   "execution_count": 6,
   "metadata": {
    "collapsed": false,
    "deletable": true,
    "editable": true
   },
   "outputs": [],
   "source": [
    "K12 = ffembed(k12)\n",
    "K24 = ffembed(k24)\n",
    "K48 = ffembed(k48)"
   ]
  },
  {
   "cell_type": "code",
   "execution_count": 7,
   "metadata": {
    "collapsed": false,
    "deletable": true,
    "editable": true
   },
   "outputs": [],
   "source": [
    "compute_root(K12)\n",
    "compute_root(K48, K12)\n",
    "f = compute_embedding_no_cond(K12, K48)\n",
    "compute_root(K24, K48)\n",
    "g = compute_embedding_no_cond(K12, K24)\n",
    "h = compute_embedding_compatible(K24, K48, g, f, K12)\n",
    "hh = compute_embedding_no_cond(K24, K48)"
   ]
  },
  {
   "cell_type": "code",
   "execution_count": 8,
   "metadata": {
    "collapsed": false,
    "deletable": true,
    "editable": true
   },
   "outputs": [
    {
     "data": {
      "text/plain": [
       "z12"
      ]
     },
     "execution_count": 8,
     "metadata": {},
     "output_type": "execute_result"
    }
   ],
   "source": [
    "z = k12.gen(); z"
   ]
  },
  {
   "cell_type": "code",
   "execution_count": 9,
   "metadata": {
    "collapsed": false,
    "deletable": true,
    "editable": true
   },
   "outputs": [
    {
     "data": {
      "text/plain": [
       "True"
      ]
     },
     "execution_count": 9,
     "metadata": {},
     "output_type": "execute_result"
    }
   ],
   "source": [
    "f(z) == h(g(z))"
   ]
  },
  {
   "cell_type": "code",
   "execution_count": 10,
   "metadata": {
    "collapsed": false,
    "deletable": true,
    "editable": true
   },
   "outputs": [
    {
     "data": {
      "text/plain": [
       "False"
      ]
     },
     "execution_count": 10,
     "metadata": {},
     "output_type": "execute_result"
    }
   ],
   "source": [
    "f(z) == hh(g(z))"
   ]
  },
  {
   "cell_type": "markdown",
   "metadata": {
    "deletable": true,
    "editable": true
   },
   "source": [
    "### Diamond"
   ]
  },
  {
   "cell_type": "code",
   "execution_count": 11,
   "metadata": {
    "collapsed": false,
    "deletable": true,
    "editable": true
   },
   "outputs": [],
   "source": [
    "k7 = GF(p^7)\n",
    "k21 = GF(p^21)\n",
    "k14 = GF(p^14)\n",
    "k42 = GF(p^42)\n",
    "\n",
    "K7 = ffembed(k7)\n",
    "K14 = ffembed(k14)\n",
    "K21 = ffembed(k21)\n",
    "K42 = ffembed(k42)"
   ]
  },
  {
   "cell_type": "code",
   "execution_count": 12,
   "metadata": {
    "collapsed": true,
    "deletable": true,
    "editable": true
   },
   "outputs": [],
   "source": [
    "compute_root(K14)\n",
    "compute_root(K21)\n",
    "compute_root(K42, [K14, K21])"
   ]
  },
  {
   "cell_type": "code",
   "execution_count": 13,
   "metadata": {
    "collapsed": true,
    "deletable": true,
    "editable": true
   },
   "outputs": [],
   "source": [
    "C.<t> = k.extension(K42.root(), \"t\")"
   ]
  },
  {
   "cell_type": "code",
   "execution_count": 14,
   "metadata": {
    "collapsed": false,
    "deletable": true,
    "editable": true
   },
   "outputs": [
    {
     "data": {
      "text/plain": [
       "True"
      ]
     },
     "execution_count": 14,
     "metadata": {},
     "output_type": "execute_result"
    }
   ],
   "source": [
    "(t^2).minpoly() == K21.root()"
   ]
  },
  {
   "cell_type": "code",
   "execution_count": 15,
   "metadata": {
    "collapsed": false,
    "deletable": true,
    "editable": true
   },
   "outputs": [
    {
     "data": {
      "text/plain": [
       "True"
      ]
     },
     "execution_count": 15,
     "metadata": {},
     "output_type": "execute_result"
    }
   ],
   "source": [
    "(t^3).minpoly() == K14.root()"
   ]
  },
  {
   "cell_type": "code",
   "execution_count": 16,
   "metadata": {
    "collapsed": true,
    "deletable": true,
    "editable": true
   },
   "outputs": [],
   "source": [
    "compute_root(K7, K14)"
   ]
  },
  {
   "cell_type": "code",
   "execution_count": 17,
   "metadata": {
    "collapsed": false,
    "deletable": true,
    "editable": true
   },
   "outputs": [
    {
     "data": {
      "text/plain": [
       "True"
      ]
     },
     "execution_count": 17,
     "metadata": {},
     "output_type": "execute_result"
    }
   ],
   "source": [
    "(t^6).minpoly() == K7.root()"
   ]
  },
  {
   "cell_type": "code",
   "execution_count": 18,
   "metadata": {
    "collapsed": true,
    "deletable": true,
    "editable": true
   },
   "outputs": [],
   "source": [
    "f = compute_embedding_no_cond(K7, K42)\n",
    "g = compute_embedding_no_cond(K7, K21)\n",
    "h = compute_embedding_compatible(K21, K42, g, f, K7)\n",
    "i = compute_embedding_no_cond(K7, K14)\n",
    "j = compute_embedding_compatible(K14, K42, i, f, K7)"
   ]
  },
  {
   "cell_type": "code",
   "execution_count": 19,
   "metadata": {
    "collapsed": true,
    "deletable": true,
    "editable": true
   },
   "outputs": [],
   "source": [
    "x = k7.gen()"
   ]
  },
  {
   "cell_type": "code",
   "execution_count": 20,
   "metadata": {
    "collapsed": false,
    "deletable": true,
    "editable": true
   },
   "outputs": [
    {
     "data": {
      "text/plain": [
       "True"
      ]
     },
     "execution_count": 20,
     "metadata": {},
     "output_type": "execute_result"
    }
   ],
   "source": [
    "f(x) == h(g(x))"
   ]
  },
  {
   "cell_type": "code",
   "execution_count": 21,
   "metadata": {
    "collapsed": false,
    "deletable": true,
    "editable": true
   },
   "outputs": [
    {
     "data": {
      "text/plain": [
       "True"
      ]
     },
     "execution_count": 21,
     "metadata": {},
     "output_type": "execute_result"
    }
   ],
   "source": [
    "j(i(x)) == h(g(x))"
   ]
  },
  {
   "cell_type": "code",
   "execution_count": 22,
   "metadata": {
    "collapsed": false,
    "deletable": true,
    "editable": true
   },
   "outputs": [
    {
     "data": {
      "text/plain": [
       "3*t^5 + 2*t^4 + 3*t^3 + 3*t^2 + 4*t + 3"
      ]
     },
     "execution_count": 22,
     "metadata": {},
     "output_type": "execute_result"
    }
   ],
   "source": [
    "f.constant()"
   ]
  },
  {
   "cell_type": "markdown",
   "metadata": {
    "collapsed": true,
    "deletable": true,
    "editable": true
   },
   "source": [
    "# Tests"
   ]
  },
  {
   "cell_type": "code",
   "execution_count": 14,
   "metadata": {
    "collapsed": true,
    "deletable": true,
    "editable": true
   },
   "outputs": [],
   "source": [
    "k = GF(3)\n",
    "r = PolynomialRing(k, \"t\")\n",
    "p = r.gen()^2-2"
   ]
  },
  {
   "cell_type": "code",
   "execution_count": 24,
   "metadata": {
    "collapsed": false,
    "deletable": true,
    "editable": true
   },
   "outputs": [],
   "source": [
    "k2.<t> = k.extension(p)\n",
    "R = PolynomialRing(k2, \"w\")"
   ]
  },
  {
   "cell_type": "code",
   "execution_count": 27,
   "metadata": {
    "collapsed": false,
    "deletable": true,
    "editable": true
   },
   "outputs": [
    {
     "data": {
      "text/plain": [
       "w^2 + 2*t + 2"
      ]
     },
     "execution_count": 27,
     "metadata": {},
     "output_type": "execute_result"
    }
   ],
   "source": [
    "P = R.gen()^2-(t+1)\n",
    "factor(P)"
   ]
  },
  {
   "cell_type": "code",
   "execution_count": 26,
   "metadata": {
    "collapsed": false,
    "deletable": true,
    "editable": true
   },
   "outputs": [
    {
     "data": {
      "text/plain": [
       "True"
      ]
     },
     "execution_count": 26,
     "metadata": {},
     "output_type": "execute_result"
    }
   ],
   "source": [
    "P.is_irreducible()"
   ]
  },
  {
   "cell_type": "code",
   "execution_count": 28,
   "metadata": {
    "collapsed": false,
    "deletable": true,
    "editable": true
   },
   "outputs": [],
   "source": [
    "k4.<w> = k2.extension(P)"
   ]
  },
  {
   "cell_type": "code",
   "execution_count": 30,
   "metadata": {
    "collapsed": false,
    "deletable": true,
    "editable": true
   },
   "outputs": [
    {
     "data": {
      "text/plain": [
       "True"
      ]
     },
     "execution_count": 30,
     "metadata": {},
     "output_type": "execute_result"
    }
   ],
   "source": [
    "k4.is_field()"
   ]
  },
  {
   "cell_type": "code",
   "execution_count": 34,
   "metadata": {
    "collapsed": false,
    "deletable": true,
    "editable": true
   },
   "outputs": [
    {
     "data": {
      "text/plain": [
       "2"
      ]
     },
     "execution_count": 34,
     "metadata": {},
     "output_type": "execute_result"
    }
   ],
   "source": [
    "(-t)^2"
   ]
  },
  {
   "cell_type": "code",
   "execution_count": 40,
   "metadata": {
    "collapsed": false,
    "deletable": true,
    "editable": true
   },
   "outputs": [
    {
     "data": {
      "text/plain": [
       "True"
      ]
     },
     "execution_count": 40,
     "metadata": {},
     "output_type": "execute_result"
    }
   ],
   "source": [
    "(t-1)^3 == t*(t-1)"
   ]
  },
  {
   "cell_type": "code",
   "execution_count": 41,
   "metadata": {
    "collapsed": false,
    "deletable": true,
    "editable": true
   },
   "outputs": [
    {
     "data": {
      "text/plain": [
       "x^2 + 1"
      ]
     },
     "execution_count": 41,
     "metadata": {},
     "output_type": "execute_result"
    }
   ],
   "source": [
    "t.minpoly()"
   ]
  },
  {
   "cell_type": "code",
   "execution_count": 42,
   "metadata": {
    "collapsed": false,
    "deletable": true,
    "editable": true
   },
   "outputs": [
    {
     "data": {
      "text/plain": [
       "x^2 + 2*x + 2"
      ]
     },
     "execution_count": 42,
     "metadata": {},
     "output_type": "execute_result"
    }
   ],
   "source": [
    "(t-1).minpoly()"
   ]
  },
  {
   "cell_type": "code",
   "execution_count": 47,
   "metadata": {
    "collapsed": false,
    "deletable": true,
    "editable": true
   },
   "outputs": [
    {
     "data": {
      "text/plain": [
       "Univariate Quotient Polynomial Ring in w over Finite Field in t of size 3^2 with modulus w^2 + 2*t + 2"
      ]
     },
     "execution_count": 47,
     "metadata": {},
     "output_type": "execute_result"
    }
   ],
   "source": [
    "k4"
   ]
  },
  {
   "cell_type": "code",
   "execution_count": 48,
   "metadata": {
    "collapsed": true,
    "deletable": true,
    "editable": true
   },
   "outputs": [],
   "source": [
    "R4.<T> = PolynomialRing(k4, \"T\")"
   ]
  },
  {
   "cell_type": "code",
   "execution_count": 52,
   "metadata": {
    "collapsed": true,
    "deletable": true,
    "editable": true
   },
   "outputs": [],
   "source": [
    "P = (T^3-T)^3 + (T^3-T) -2*T"
   ]
  },
  {
   "cell_type": "code",
   "execution_count": 54,
   "metadata": {
    "collapsed": false,
    "deletable": true,
    "editable": true
   },
   "outputs": [
    {
     "data": {
      "text/plain": [
       "T^9"
      ]
     },
     "execution_count": 54,
     "metadata": {},
     "output_type": "execute_result"
    }
   ],
   "source": [
    "P"
   ]
  },
  {
   "cell_type": "markdown",
   "metadata": {
    "deletable": true,
    "editable": true
   },
   "source": [
    "# Understanding something\n",
    "\n",
    "About a tower of extension\n",
    "\n",
    "or\n",
    "\n",
    "# Case $p=3$ and $\\ell = 2$"
   ]
  },
  {
   "cell_type": "code",
   "execution_count": 2,
   "metadata": {
    "collapsed": true,
    "deletable": true,
    "editable": true
   },
   "outputs": [],
   "source": [
    "p = 3\n",
    "k = GF(p)\n",
    "k4 = GF(p^4)\n",
    "R = PolynomialRing(k, \"x\")\n",
    "R4 = PolynomialRing(k4, \"x\")\n",
    "z4 = k4.gen()"
   ]
  },
  {
   "cell_type": "code",
   "execution_count": 3,
   "metadata": {
    "collapsed": false,
    "deletable": true,
    "editable": true
   },
   "outputs": [],
   "source": [
    "C = k.extension(R(cyclotomic_polynomial(4)), \"t\")"
   ]
  },
  {
   "cell_type": "code",
   "execution_count": 7,
   "metadata": {
    "collapsed": false,
    "deletable": true,
    "editable": true
   },
   "outputs": [],
   "source": [
    "T = k4.extension(R4(cyclotomic_polynomial(4)), \"t\")"
   ]
  },
  {
   "cell_type": "code",
   "execution_count": 8,
   "metadata": {
    "collapsed": false,
    "deletable": true,
    "editable": true
   },
   "outputs": [
    {
     "data": {
      "text/plain": [
       "(x + z4^3 + z4^2 + 1) * (x + 2*z4^3 + 2*z4^2 + 2)"
      ]
     },
     "execution_count": 8,
     "metadata": {},
     "output_type": "execute_result"
    }
   ],
   "source": [
    "factor(R4(cyclotomic_polynomial(4)))"
   ]
  },
  {
   "cell_type": "code",
   "execution_count": 9,
   "metadata": {
    "collapsed": true,
    "deletable": true,
    "editable": true
   },
   "outputs": [],
   "source": [
    "zeta1 = -(z4^3 + z4^2 + 1)"
   ]
  },
  {
   "cell_type": "code",
   "execution_count": 10,
   "metadata": {
    "collapsed": false,
    "deletable": true,
    "editable": true
   },
   "outputs": [],
   "source": [
    "zeta2 = -(2*z4^3 + 2*z4^2 + 2)"
   ]
  },
  {
   "cell_type": "code",
   "execution_count": 11,
   "metadata": {
    "collapsed": false,
    "deletable": true,
    "editable": true
   },
   "outputs": [],
   "source": [
    "M = frob_mat(k4, C)\n",
    "t = C.gen()\n",
    "eigen = M.right_eigenvectors()"
   ]
  },
  {
   "cell_type": "code",
   "execution_count": 20,
   "metadata": {
    "collapsed": false,
    "deletable": true,
    "editable": true
   },
   "outputs": [
    {
     "data": {
      "text/plain": [
       "t"
      ]
     },
     "execution_count": 20,
     "metadata": {},
     "output_type": "execute_result"
    }
   ],
   "source": [
    "eigen[3][0]"
   ]
  },
  {
   "cell_type": "code",
   "execution_count": 25,
   "metadata": {
    "collapsed": false,
    "deletable": true,
    "editable": true
   },
   "outputs": [
    {
     "data": {
      "text/plain": [
       "True"
      ]
     },
     "execution_count": 25,
     "metadata": {},
     "output_type": "execute_result"
    }
   ],
   "source": [
    "zeta1 + zeta2 == 0"
   ]
  },
  {
   "cell_type": "code",
   "execution_count": 22,
   "metadata": {
    "collapsed": false,
    "deletable": true,
    "editable": true
   },
   "outputs": [
    {
     "data": {
      "text/plain": [
       "[(2, [\n",
       "  (1, 0, 1, 1)\n",
       "  ], 1), (1, [\n",
       "  (1, 0, 0, 0)\n",
       "  ], 1), (2*t, [\n",
       "  (1, 2*t, 2*t + 2, 2*t)\n",
       "  ], 1), (t, [\n",
       "  (1, t, t + 2, t)\n",
       "  ], 1)]"
      ]
     },
     "execution_count": 22,
     "metadata": {},
     "output_type": "execute_result"
    }
   ],
   "source": [
    "eigen"
   ]
  },
  {
   "cell_type": "code",
   "execution_count": 24,
   "metadata": {
    "collapsed": false,
    "deletable": true,
    "editable": true
   },
   "outputs": [
    {
     "data": {
      "text/plain": [
       "x^2 + 1"
      ]
     },
     "execution_count": 24,
     "metadata": {},
     "output_type": "execute_result"
    }
   ],
   "source": [
    "(2*t).minpoly()"
   ]
  },
  {
   "cell_type": "code",
   "execution_count": 7,
   "metadata": {
    "collapsed": false,
    "deletable": true,
    "editable": true
   },
   "outputs": [],
   "source": [
    "def hilbert91(K, C, T):\n",
    "    \n",
    "    M = frob_mat(K, C)\n",
    "    t = C.gen()\n",
    "    eigen = M.right_eigenvectors()\n",
    "    p = K.characteristic()\n",
    "    \n",
    "    N = C.modulus().degree()\n",
    "    L = []\n",
    "    zetas = [t^(p^j) for j in range(N)]\n",
    "    \n",
    "    for e in eigen:\n",
    "        v = e[1][0]\n",
    "        res = T()\n",
    "        g = K.gen()\n",
    "        for j in range(K.degree()):\n",
    "            res += T(v[j])*g^j\n",
    "\n",
    "        L.append((e[0], res))\n",
    "    return L"
   ]
  },
  {
   "cell_type": "code",
   "execution_count": 12,
   "metadata": {
    "collapsed": false,
    "deletable": true,
    "editable": true
   },
   "outputs": [
    {
     "data": {
      "text/plain": [
       "[(2, z4^3 + z4^2 + 1),\n",
       " (1, 1),\n",
       " (2*t, (2*z4^3 + 2*z4^2 + 2*z4)*t + 2*z4^2 + 1),\n",
       " (t, (z4^3 + z4^2 + z4)*t + 2*z4^2 + 1)]"
      ]
     },
     "execution_count": 12,
     "metadata": {},
     "output_type": "execute_result"
    }
   ],
   "source": [
    "L = hilbert91(k4, C, T); L"
   ]
  },
  {
   "cell_type": "code",
   "execution_count": 13,
   "metadata": {
    "collapsed": false,
    "deletable": true,
    "editable": true
   },
   "outputs": [
    {
     "data": {
      "text/plain": [
       "((z4^3 + z4^2 + z4)*t + 2*z4^2 + 1, (2*z4^3 + 2*z4^2 + 2*z4)*t + 2*z4^2 + 1)"
      ]
     },
     "execution_count": 13,
     "metadata": {},
     "output_type": "execute_result"
    }
   ],
   "source": [
    "a0 = L[3][1]; a1 = L[2][1]; a0, a1"
   ]
  },
  {
   "cell_type": "code",
   "execution_count": 14,
   "metadata": {
    "collapsed": false,
    "deletable": true,
    "editable": true
   },
   "outputs": [
    {
     "data": {
      "text/plain": [
       "(2*z4^3 + 2*z4^2 + 2)*t + 2*z4^3 + 2*z4^2 + 2"
      ]
     },
     "execution_count": 14,
     "metadata": {},
     "output_type": "execute_result"
    }
   ],
   "source": [
    "a0^2"
   ]
  },
  {
   "cell_type": "code",
   "execution_count": 15,
   "metadata": {
    "collapsed": false,
    "deletable": true,
    "editable": true
   },
   "outputs": [
    {
     "data": {
      "text/plain": [
       "t"
      ]
     },
     "execution_count": 15,
     "metadata": {},
     "output_type": "execute_result"
    }
   ],
   "source": [
    "(a0^2)/(a1^2)"
   ]
  },
  {
   "cell_type": "code",
   "execution_count": 16,
   "metadata": {
    "collapsed": false,
    "deletable": true,
    "editable": true
   },
   "outputs": [
    {
     "data": {
      "text/plain": [
       "z4^3 + z4^2 + 1"
      ]
     },
     "execution_count": 16,
     "metadata": {},
     "output_type": "execute_result"
    }
   ],
   "source": [
    "b = L[0][1];b"
   ]
  },
  {
   "cell_type": "code",
   "execution_count": 17,
   "metadata": {
    "collapsed": false,
    "deletable": true,
    "editable": true
   },
   "outputs": [
    {
     "data": {
      "text/plain": [
       "2*t + 2"
      ]
     },
     "execution_count": 17,
     "metadata": {},
     "output_type": "execute_result"
    }
   ],
   "source": [
    "c0 = a0^2/b; c0"
   ]
  },
  {
   "cell_type": "code",
   "execution_count": 18,
   "metadata": {
    "collapsed": false,
    "deletable": true,
    "editable": true
   },
   "outputs": [
    {
     "data": {
      "text/plain": [
       "t + 2"
      ]
     },
     "execution_count": 18,
     "metadata": {},
     "output_type": "execute_result"
    }
   ],
   "source": [
    "c1 = a1^2/b; c1"
   ]
  },
  {
   "cell_type": "code",
   "execution_count": 67,
   "metadata": {
    "collapsed": false,
    "deletable": true,
    "editable": true
   },
   "outputs": [],
   "source": [
    "z4 = k4.gen()"
   ]
  },
  {
   "cell_type": "code",
   "execution_count": 77,
   "metadata": {
    "collapsed": false,
    "deletable": true,
    "editable": true
   },
   "outputs": [
    {
     "data": {
      "text/plain": [
       "2"
      ]
     },
     "execution_count": 77,
     "metadata": {},
     "output_type": "execute_result"
    }
   ],
   "source": [
    "(z4^3 + z4^2 + 1)^2"
   ]
  },
  {
   "cell_type": "code",
   "execution_count": null,
   "metadata": {
    "collapsed": false,
    "deletable": true,
    "editable": true
   },
   "outputs": [],
   "source": []
  },
  {
   "cell_type": "code",
   "execution_count": 84,
   "metadata": {
    "collapsed": false,
    "deletable": true,
    "editable": true
   },
   "outputs": [
    {
     "data": {
      "text/plain": [
       "2*t"
      ]
     },
     "execution_count": 84,
     "metadata": {},
     "output_type": "execute_result"
    }
   ],
   "source": [
    "c = (2/C([k(s) for s in (a0^4).list()])); c"
   ]
  },
  {
   "cell_type": "code",
   "execution_count": 85,
   "metadata": {
    "collapsed": false,
    "deletable": true,
    "editable": true
   },
   "outputs": [
    {
     "data": {
      "text/plain": [
       "2*t + 2"
      ]
     },
     "execution_count": 85,
     "metadata": {},
     "output_type": "execute_result"
    }
   ],
   "source": [
    "c.nth_root(2)"
   ]
  },
  {
   "cell_type": "code",
   "execution_count": 74,
   "metadata": {
    "collapsed": false,
    "deletable": true,
    "editable": true
   },
   "outputs": [
    {
     "data": {
      "text/plain": [
       "2"
      ]
     },
     "execution_count": 74,
     "metadata": {},
     "output_type": "execute_result"
    }
   ],
   "source": [
    "(2*t)^2"
   ]
  },
  {
   "cell_type": "code",
   "execution_count": 75,
   "metadata": {
    "collapsed": false,
    "deletable": true,
    "editable": true
   },
   "outputs": [
    {
     "data": {
      "text/plain": [
       "Finite Field in t of size 3^2"
      ]
     },
     "execution_count": 75,
     "metadata": {},
     "output_type": "execute_result"
    }
   ],
   "source": [
    "t.parent()"
   ]
  },
  {
   "cell_type": "code",
   "execution_count": 47,
   "metadata": {
    "collapsed": false,
    "deletable": true,
    "editable": true
   },
   "outputs": [
    {
     "name": "stdout",
     "output_type": "stream",
     "text": [
      "0\n",
      "t\n",
      "2\n",
      "2*t\n",
      "1\n",
      "t\n",
      "2\n",
      "2*t\n",
      "1\n"
     ]
    }
   ],
   "source": [
    "for g in C:\n",
    "    print g^2"
   ]
  },
  {
   "cell_type": "code",
   "execution_count": 21,
   "metadata": {
    "collapsed": false,
    "deletable": true,
    "editable": true
   },
   "outputs": [
    {
     "data": {
      "text/plain": [
       "True"
      ]
     },
     "execution_count": 21,
     "metadata": {},
     "output_type": "execute_result"
    }
   ],
   "source": [
    "(z4^3 + z4^2 + 1)^p == -((z4^3 + z4^2 + 1))"
   ]
  },
  {
   "cell_type": "code",
   "execution_count": 25,
   "metadata": {
    "collapsed": false,
    "deletable": true,
    "editable": true
   },
   "outputs": [
    {
     "data": {
      "text/plain": [
       "2"
      ]
     },
     "execution_count": 25,
     "metadata": {},
     "output_type": "execute_result"
    }
   ],
   "source": [
    "zeta1^2"
   ]
  },
  {
   "cell_type": "code",
   "execution_count": 4,
   "metadata": {
    "collapsed": true,
    "deletable": true,
    "editable": true
   },
   "outputs": [],
   "source": [
    "Rxy.<x, y> = PolynomialRing(k)"
   ]
  },
  {
   "cell_type": "code",
   "execution_count": 5,
   "metadata": {
    "collapsed": true,
    "deletable": true,
    "editable": true
   },
   "outputs": [],
   "source": [
    "P = x^2+1"
   ]
  },
  {
   "cell_type": "code",
   "execution_count": 6,
   "metadata": {
    "collapsed": false,
    "deletable": true,
    "editable": true
   },
   "outputs": [
    {
     "data": {
      "text/plain": [
       "y^4 + y^2 - 1"
      ]
     },
     "execution_count": 6,
     "metadata": {},
     "output_type": "execute_result"
    }
   ],
   "source": [
    "P.resultant(y^2-x-1, x)"
   ]
  },
  {
   "cell_type": "code",
   "execution_count": 7,
   "metadata": {
    "collapsed": true,
    "deletable": true,
    "editable": true
   },
   "outputs": [],
   "source": [
    "X = R.gen()"
   ]
  },
  {
   "cell_type": "code",
   "execution_count": 8,
   "metadata": {
    "collapsed": true,
    "deletable": true,
    "editable": true
   },
   "outputs": [],
   "source": [
    "irr = X^4+X^2-1"
   ]
  },
  {
   "cell_type": "code",
   "execution_count": 9,
   "metadata": {
    "collapsed": false,
    "deletable": true,
    "editable": true
   },
   "outputs": [
    {
     "data": {
      "text/plain": [
       "True"
      ]
     },
     "execution_count": 9,
     "metadata": {},
     "output_type": "execute_result"
    }
   ],
   "source": [
    "irr.is_irreducible()"
   ]
  },
  {
   "cell_type": "code",
   "execution_count": 10,
   "metadata": {
    "collapsed": true,
    "deletable": true,
    "editable": true
   },
   "outputs": [],
   "source": [
    "Qt.<t> = PolynomialQuotientRing(R, X^2+1)"
   ]
  },
  {
   "cell_type": "code",
   "execution_count": 46,
   "metadata": {
    "collapsed": false,
    "deletable": true,
    "editable": true
   },
   "outputs": [
    {
     "data": {
      "text/plain": [
       "Univariate Quotient Polynomial Ring in t over Finite Field of size 3 with modulus x^2 + 1"
      ]
     },
     "execution_count": 46,
     "metadata": {},
     "output_type": "execute_result"
    }
   ],
   "source": [
    "Qt"
   ]
  },
  {
   "cell_type": "code",
   "execution_count": 47,
   "metadata": {
    "collapsed": true,
    "deletable": true,
    "editable": true
   },
   "outputs": [],
   "source": [
    "Rt.<T> = Qt[]"
   ]
  },
  {
   "cell_type": "code",
   "execution_count": 50,
   "metadata": {
    "collapsed": false,
    "deletable": true,
    "editable": true
   },
   "outputs": [],
   "source": [
    "Qtt.<u> = PolynomialQuotientRing(Rt, T^2-(t+1))"
   ]
  },
  {
   "cell_type": "code",
   "execution_count": 56,
   "metadata": {
    "collapsed": false,
    "deletable": true,
    "editable": true
   },
   "outputs": [
    {
     "data": {
      "text/plain": [
       "0"
      ]
     },
     "execution_count": 56,
     "metadata": {},
     "output_type": "execute_result"
    }
   ],
   "source": [
    "u^4+u^2-1"
   ]
  },
  {
   "cell_type": "code",
   "execution_count": 11,
   "metadata": {
    "collapsed": false,
    "deletable": true,
    "editable": true
   },
   "outputs": [],
   "source": [
    "r = R.gen()\n",
    "f4.<a> = k.extension(r^4+r^2-1)"
   ]
  },
  {
   "cell_type": "code",
   "execution_count": 12,
   "metadata": {
    "collapsed": false,
    "deletable": true,
    "editable": true
   },
   "outputs": [
    {
     "data": {
      "text/plain": [
       "x^4 + x^2 + 2"
      ]
     },
     "execution_count": 12,
     "metadata": {},
     "output_type": "execute_result"
    }
   ],
   "source": [
    "f4.modulus()"
   ]
  },
  {
   "cell_type": "code",
   "execution_count": 13,
   "metadata": {
    "collapsed": false,
    "deletable": true,
    "editable": true
   },
   "outputs": [],
   "source": [
    "t = (-a^4)"
   ]
  },
  {
   "cell_type": "code",
   "execution_count": 14,
   "metadata": {
    "collapsed": false,
    "deletable": true,
    "editable": true
   },
   "outputs": [
    {
     "data": {
      "text/plain": [
       "True"
      ]
     },
     "execution_count": 14,
     "metadata": {},
     "output_type": "execute_result"
    }
   ],
   "source": [
    "(t-1)^3 == t*(t-1)"
   ]
  },
  {
   "cell_type": "code",
   "execution_count": 15,
   "metadata": {
    "collapsed": false,
    "deletable": true,
    "editable": true
   },
   "outputs": [],
   "source": [
    "P = X^2+1"
   ]
  },
  {
   "cell_type": "code",
   "execution_count": 16,
   "metadata": {
    "collapsed": false,
    "deletable": true,
    "editable": true
   },
   "outputs": [],
   "source": [
    "U = f4.extension(P)"
   ]
  },
  {
   "cell_type": "code",
   "execution_count": 17,
   "metadata": {
    "collapsed": false,
    "deletable": true,
    "editable": true
   },
   "outputs": [
    {
     "data": {
      "text/plain": [
       "Univariate Quotient Polynomial Ring in x over Finite Field in a of size 3^4 with modulus x^2 + 1"
      ]
     },
     "execution_count": 17,
     "metadata": {},
     "output_type": "execute_result"
    }
   ],
   "source": [
    "U"
   ]
  },
  {
   "cell_type": "code",
   "execution_count": 23,
   "metadata": {
    "collapsed": false,
    "deletable": true,
    "editable": true
   },
   "outputs": [
    {
     "data": {
      "text/plain": [
       "[(2, 2*a^2 + 1), (1, 1), (2*t, a^3*x + a), (t, 2*a^3*x + a)]"
      ]
     },
     "execution_count": 23,
     "metadata": {},
     "output_type": "execute_result"
    }
   ],
   "source": [
    "M = hilbert91(f4, C, U); M"
   ]
  },
  {
   "cell_type": "code",
   "execution_count": 24,
   "metadata": {
    "collapsed": false,
    "deletable": true,
    "editable": true
   },
   "outputs": [
    {
     "data": {
      "text/plain": [
       "(2*a^3*x + a, a^3*x + a)"
      ]
     },
     "execution_count": 24,
     "metadata": {},
     "output_type": "execute_result"
    }
   ],
   "source": [
    "a0 = M[3][1]; a1 = M[2][1]; a0,a1"
   ]
  },
  {
   "cell_type": "code",
   "execution_count": 25,
   "metadata": {
    "collapsed": false,
    "deletable": true,
    "editable": true
   },
   "outputs": [
    {
     "data": {
      "text/plain": [
       "2*a^2 + 1"
      ]
     },
     "execution_count": 25,
     "metadata": {},
     "output_type": "execute_result"
    }
   ],
   "source": [
    "b0 = M[0][1]; b0"
   ]
  },
  {
   "cell_type": "code",
   "execution_count": 26,
   "metadata": {
    "collapsed": false,
    "deletable": true,
    "editable": true
   },
   "outputs": [
    {
     "data": {
      "text/plain": [
       "x + 1"
      ]
     },
     "execution_count": 26,
     "metadata": {},
     "output_type": "execute_result"
    }
   ],
   "source": [
    "a0^2/b0"
   ]
  },
  {
   "cell_type": "code",
   "execution_count": 27,
   "metadata": {
    "collapsed": false,
    "deletable": true,
    "editable": true
   },
   "outputs": [
    {
     "data": {
      "text/plain": [
       "2*x + 1"
      ]
     },
     "execution_count": 27,
     "metadata": {},
     "output_type": "execute_result"
    }
   ],
   "source": [
    "a1^2/b0"
   ]
  },
  {
   "cell_type": "code",
   "execution_count": 28,
   "metadata": {
    "collapsed": false,
    "deletable": true,
    "editable": true
   },
   "outputs": [],
   "source": [
    "y = a0.parent().gen()"
   ]
  },
  {
   "cell_type": "code",
   "execution_count": 105,
   "metadata": {
    "collapsed": false,
    "deletable": true,
    "editable": true
   },
   "outputs": [
    {
     "data": {
      "text/plain": [
       "True"
      ]
     },
     "execution_count": 105,
     "metadata": {},
     "output_type": "execute_result"
    }
   ],
   "source": [
    "froby(b0) == -b0"
   ]
  },
  {
   "cell_type": "code",
   "execution_count": 29,
   "metadata": {
    "collapsed": false,
    "deletable": true,
    "editable": true
   },
   "outputs": [
    {
     "data": {
      "text/plain": [
       "x^4 + x^2 + 2"
      ]
     },
     "execution_count": 29,
     "metadata": {},
     "output_type": "execute_result"
    }
   ],
   "source": [
    "f4.modulus()"
   ]
  },
  {
   "cell_type": "code",
   "execution_count": 31,
   "metadata": {
    "collapsed": false,
    "deletable": true,
    "editable": true
   },
   "outputs": [
    {
     "data": {
      "text/plain": [
       "2"
      ]
     },
     "execution_count": 31,
     "metadata": {},
     "output_type": "execute_result"
    }
   ],
   "source": [
    "a^8"
   ]
  },
  {
   "cell_type": "code",
   "execution_count": 34,
   "metadata": {
    "collapsed": false,
    "deletable": true,
    "editable": true
   },
   "outputs": [
    {
     "data": {
      "text/plain": [
       "True"
      ]
     },
     "execution_count": 34,
     "metadata": {},
     "output_type": "execute_result"
    }
   ],
   "source": [
    "-t*(t+1) == 1-t"
   ]
  },
  {
   "cell_type": "code",
   "execution_count": 36,
   "metadata": {
    "collapsed": false,
    "deletable": true,
    "editable": true
   },
   "outputs": [
    {
     "data": {
      "text/plain": [
       "(2*a^2 + 1)*x + 2*a^2 + 1"
      ]
     },
     "execution_count": 36,
     "metadata": {},
     "output_type": "execute_result"
    }
   ],
   "source": [
    "a0^2"
   ]
  },
  {
   "cell_type": "code",
   "execution_count": 37,
   "metadata": {
    "collapsed": false,
    "deletable": true,
    "editable": true
   },
   "outputs": [
    {
     "data": {
      "text/plain": [
       "2*a^2 + 1"
      ]
     },
     "execution_count": 37,
     "metadata": {},
     "output_type": "execute_result"
    }
   ],
   "source": [
    "-t"
   ]
  },
  {
   "cell_type": "code",
   "execution_count": 42,
   "metadata": {
    "collapsed": false,
    "deletable": true,
    "editable": true
   },
   "outputs": [
    {
     "data": {
      "text/plain": [
       "2*a^2 + 1"
      ]
     },
     "execution_count": 42,
     "metadata": {},
     "output_type": "execute_result"
    }
   ],
   "source": [
    "b0"
   ]
  },
  {
   "cell_type": "code",
   "execution_count": 51,
   "metadata": {
    "collapsed": false,
    "deletable": true,
    "editable": true
   },
   "outputs": [
    {
     "data": {
      "text/plain": [
       "(2*a^2 + 1)*x + 2*a^2 + 1"
      ]
     },
     "execution_count": 51,
     "metadata": {},
     "output_type": "execute_result"
    }
   ],
   "source": [
    "a0^2"
   ]
  },
  {
   "cell_type": "code",
   "execution_count": 53,
   "metadata": {
    "collapsed": false,
    "deletable": true,
    "editable": true
   },
   "outputs": [
    {
     "data": {
      "text/plain": [
       "2*a^2 + 1"
      ]
     },
     "execution_count": 53,
     "metadata": {},
     "output_type": "execute_result"
    }
   ],
   "source": [
    "-t"
   ]
  },
  {
   "cell_type": "markdown",
   "metadata": {
    "collapsed": true,
    "deletable": true,
    "editable": true
   },
   "source": [
    "# Case $p=5$ and $\\ell=2$"
   ]
  },
  {
   "cell_type": "code",
   "execution_count": 26,
   "metadata": {
    "collapsed": true,
    "deletable": true,
    "editable": true
   },
   "outputs": [],
   "source": [
    "p = 5\n",
    "k = GF(p)\n",
    "k4 = GF(p^4)\n",
    "R = PolynomialRing(k, \"x\")\n",
    "R4 = PolynomialRing(k4, \"x\")\n",
    "z4 = k4.gen()"
   ]
  },
  {
   "cell_type": "code",
   "execution_count": 51,
   "metadata": {
    "collapsed": true,
    "deletable": true,
    "editable": true
   },
   "outputs": [],
   "source": [
    "x = R.gen()"
   ]
  },
  {
   "cell_type": "code",
   "execution_count": 28,
   "metadata": {
    "collapsed": true,
    "deletable": true,
    "editable": true
   },
   "outputs": [],
   "source": [
    "q = x^2-2"
   ]
  },
  {
   "cell_type": "code",
   "execution_count": 29,
   "metadata": {
    "collapsed": false,
    "deletable": true,
    "editable": true
   },
   "outputs": [
    {
     "data": {
      "text/plain": [
       "True"
      ]
     },
     "execution_count": 29,
     "metadata": {},
     "output_type": "execute_result"
    }
   ],
   "source": [
    "q.is_irreducible()"
   ]
  },
  {
   "cell_type": "code",
   "execution_count": 30,
   "metadata": {
    "collapsed": true,
    "deletable": true,
    "editable": true
   },
   "outputs": [],
   "source": [
    "kt.<t> = k.extension(q)"
   ]
  },
  {
   "cell_type": "code",
   "execution_count": 31,
   "metadata": {
    "collapsed": true,
    "deletable": true,
    "editable": true
   },
   "outputs": [],
   "source": [
    "rt.<y> = kt[]"
   ]
  },
  {
   "cell_type": "code",
   "execution_count": 32,
   "metadata": {
    "collapsed": true,
    "deletable": true,
    "editable": true
   },
   "outputs": [],
   "source": [
    "w = y^2-t"
   ]
  },
  {
   "cell_type": "code",
   "execution_count": 33,
   "metadata": {
    "collapsed": false,
    "deletable": true,
    "editable": true
   },
   "outputs": [
    {
     "data": {
      "text/plain": [
       "True"
      ]
     },
     "execution_count": 33,
     "metadata": {},
     "output_type": "execute_result"
    }
   ],
   "source": [
    "w.is_irreducible()"
   ]
  },
  {
   "cell_type": "code",
   "execution_count": 34,
   "metadata": {
    "collapsed": false,
    "deletable": true,
    "editable": true
   },
   "outputs": [],
   "source": [
    "ku.<u> = kt.extension(w)"
   ]
  },
  {
   "cell_type": "code",
   "execution_count": 35,
   "metadata": {
    "collapsed": false,
    "deletable": true,
    "editable": true
   },
   "outputs": [],
   "source": [
    "ru.<z> = ku[]"
   ]
  },
  {
   "cell_type": "code",
   "execution_count": 36,
   "metadata": {
    "collapsed": true,
    "deletable": true,
    "editable": true
   },
   "outputs": [],
   "source": [
    "r = z^2-u"
   ]
  },
  {
   "cell_type": "code",
   "execution_count": 37,
   "metadata": {
    "collapsed": false,
    "deletable": true,
    "editable": true
   },
   "outputs": [
    {
     "data": {
      "text/plain": [
       "True"
      ]
     },
     "execution_count": 37,
     "metadata": {},
     "output_type": "execute_result"
    }
   ],
   "source": [
    "r.is_irreducible()"
   ]
  },
  {
   "cell_type": "code",
   "execution_count": 38,
   "metadata": {
    "collapsed": false,
    "deletable": true,
    "editable": true
   },
   "outputs": [
    {
     "data": {
      "text/plain": [
       "x^2 + 4*t"
      ]
     },
     "execution_count": 38,
     "metadata": {},
     "output_type": "execute_result"
    }
   ],
   "source": [
    "u.minpoly()"
   ]
  },
  {
   "cell_type": "code",
   "execution_count": 39,
   "metadata": {
    "collapsed": false,
    "deletable": true,
    "editable": true
   },
   "outputs": [
    {
     "data": {
      "text/plain": [
       "x^2 + 3"
      ]
     },
     "execution_count": 39,
     "metadata": {},
     "output_type": "execute_result"
    }
   ],
   "source": [
    "t.minpoly()"
   ]
  },
  {
   "cell_type": "code",
   "execution_count": 40,
   "metadata": {
    "collapsed": true,
    "deletable": true,
    "editable": true
   },
   "outputs": [],
   "source": [
    "kv.<v> = ku.extension(r)"
   ]
  },
  {
   "cell_type": "code",
   "execution_count": 43,
   "metadata": {
    "collapsed": false,
    "deletable": true,
    "editable": true
   },
   "outputs": [
    {
     "data": {
      "text/plain": [
       "x^2 + 4*u"
      ]
     },
     "execution_count": 43,
     "metadata": {},
     "output_type": "execute_result"
    }
   ],
   "source": [
    "v.minpoly()"
   ]
  },
  {
   "cell_type": "code",
   "execution_count": 46,
   "metadata": {
    "collapsed": false,
    "deletable": true,
    "editable": true
   },
   "outputs": [
    {
     "data": {
      "text/plain": [
       "y^4 - 2"
      ]
     },
     "execution_count": 46,
     "metadata": {},
     "output_type": "execute_result"
    }
   ],
   "source": [
    "Rxy.<x, y> = k[]\n",
    "P = x^2-2\n",
    "P.resultant(y^2-x, x)"
   ]
  },
  {
   "cell_type": "code",
   "execution_count": 50,
   "metadata": {
    "collapsed": false,
    "deletable": true,
    "editable": true
   },
   "outputs": [
    {
     "data": {
      "text/plain": [
       "2"
      ]
     },
     "execution_count": 50,
     "metadata": {},
     "output_type": "execute_result"
    }
   ],
   "source": [
    "v^8"
   ]
  },
  {
   "cell_type": "code",
   "execution_count": 52,
   "metadata": {
    "collapsed": false,
    "deletable": true,
    "editable": true
   },
   "outputs": [
    {
     "data": {
      "text/plain": [
       "x^8 + 3"
      ]
     },
     "execution_count": 52,
     "metadata": {},
     "output_type": "execute_result"
    }
   ],
   "source": [
    "factor(x^8-2)"
   ]
  },
  {
   "cell_type": "code",
   "execution_count": 53,
   "metadata": {
    "collapsed": true,
    "deletable": true,
    "editable": true
   },
   "outputs": [],
   "source": [
    "k8.<V> = k.extension(x^8-2)"
   ]
  },
  {
   "cell_type": "code",
   "execution_count": 54,
   "metadata": {
    "collapsed": false,
    "deletable": true,
    "editable": true
   },
   "outputs": [
    {
     "data": {
      "text/plain": [
       "Finite Field in V of size 5^8"
      ]
     },
     "execution_count": 54,
     "metadata": {},
     "output_type": "execute_result"
    }
   ],
   "source": [
    "k8"
   ]
  },
  {
   "cell_type": "code",
   "execution_count": 78,
   "metadata": {
    "collapsed": false,
    "deletable": true,
    "editable": true
   },
   "outputs": [
    {
     "data": {
      "text/plain": [
       "(x^16 + 2) * (x^16 + 3)"
      ]
     },
     "execution_count": 78,
     "metadata": {},
     "output_type": "execute_result"
    }
   ],
   "source": [
    "factor(R(cyclotomic_polynomial(64)))"
   ]
  },
  {
   "cell_type": "code",
   "execution_count": 61,
   "metadata": {
    "collapsed": false,
    "deletable": true,
    "editable": true
   },
   "outputs": [],
   "source": [
    "C = k.extension(x^2-2, \"t\")\n",
    "T = k8.extension(x^2-2, \"t\")"
   ]
  },
  {
   "cell_type": "code",
   "execution_count": 62,
   "metadata": {
    "collapsed": false,
    "deletable": true,
    "editable": true
   },
   "outputs": [
    {
     "data": {
      "text/plain": [
       "[(4, V^4),\n",
       " (3, V^6),\n",
       " (2, V^2),\n",
       " (1, 1),\n",
       " (4*t, 4*V^7*t + V^3),\n",
       " (3*t, V^5*t + V),\n",
       " (2*t, 4*V^5*t + V),\n",
       " (t, V^7*t + V^3)]"
      ]
     },
     "execution_count": 62,
     "metadata": {},
     "output_type": "execute_result"
    }
   ],
   "source": [
    "hilbert91(k8, C, T)"
   ]
  },
  {
   "cell_type": "code",
   "execution_count": 64,
   "metadata": {
    "collapsed": false,
    "deletable": true,
    "editable": true
   },
   "outputs": [],
   "source": [
    "bar = hilbert91(k8, C, T)"
   ]
  },
  {
   "cell_type": "code",
   "execution_count": 66,
   "metadata": {
    "collapsed": false,
    "deletable": true,
    "editable": true
   },
   "outputs": [],
   "source": [
    "foo = bar[-1][1]"
   ]
  },
  {
   "cell_type": "code",
   "execution_count": 67,
   "metadata": {
    "collapsed": false,
    "deletable": true,
    "editable": true
   },
   "outputs": [
    {
     "data": {
      "text/plain": [
       "4*V^2*t"
      ]
     },
     "execution_count": 67,
     "metadata": {},
     "output_type": "execute_result"
    }
   ],
   "source": [
    "foo^2"
   ]
  },
  {
   "cell_type": "code",
   "execution_count": 69,
   "metadata": {
    "collapsed": false,
    "deletable": true,
    "editable": true
   },
   "outputs": [
    {
     "data": {
      "text/plain": [
       "4*t*u*v"
      ]
     },
     "execution_count": 69,
     "metadata": {},
     "output_type": "execute_result"
    }
   ],
   "source": [
    "(2*v)^-1"
   ]
  },
  {
   "cell_type": "code",
   "execution_count": 70,
   "metadata": {
    "collapsed": false,
    "deletable": true,
    "editable": true
   },
   "outputs": [
    {
     "data": {
      "text/plain": [
       "V^7*t + V^3"
      ]
     },
     "execution_count": 70,
     "metadata": {},
     "output_type": "execute_result"
    }
   ],
   "source": [
    "foo"
   ]
  },
  {
   "cell_type": "code",
   "execution_count": 72,
   "metadata": {
    "collapsed": false,
    "deletable": true,
    "editable": true
   },
   "outputs": [
    {
     "data": {
      "text/plain": [
       "Finite Field in t of size 5^2"
      ]
     },
     "execution_count": 72,
     "metadata": {},
     "output_type": "execute_result"
    }
   ],
   "source": [
    "t.parent()"
   ]
  },
  {
   "cell_type": "code",
   "execution_count": 74,
   "metadata": {
    "collapsed": false,
    "deletable": true,
    "editable": true
   },
   "outputs": [
    {
     "data": {
      "text/plain": [
       "False"
      ]
     },
     "execution_count": 74,
     "metadata": {},
     "output_type": "execute_result"
    }
   ],
   "source": [
    "(-t).is_square()"
   ]
  },
  {
   "cell_type": "markdown",
   "metadata": {
    "collapsed": true,
    "deletable": true,
    "editable": true
   },
   "source": [
    "# Composita with $p = 7, m = 2, n = 3$"
   ]
  },
  {
   "cell_type": "code",
   "execution_count": 6,
   "metadata": {
    "collapsed": true,
    "deletable": true,
    "editable": true
   },
   "outputs": [],
   "source": [
    "k = GF(7)\n",
    "R.<x> = k[]\n",
    "k2.<u> = k.extension(x^2-3)\n",
    "k3.<t> = k.extension(x^3-2)\n",
    "k6.<w> = k.extension(x^6-3)\n",
    "r6.<t> = k6[]"
   ]
  },
  {
   "cell_type": "code",
   "execution_count": 26,
   "metadata": {
    "collapsed": false,
    "deletable": true,
    "editable": true
   },
   "outputs": [
    {
     "data": {
      "text/plain": [
       "6"
      ]
     },
     "execution_count": 26,
     "metadata": {},
     "output_type": "execute_result"
    }
   ],
   "source": [
    "k(3)^3"
   ]
  },
  {
   "cell_type": "code",
   "execution_count": 27,
   "metadata": {
    "collapsed": false,
    "deletable": true,
    "editable": true
   },
   "outputs": [
    {
     "data": {
      "text/plain": [
       "True"
      ]
     },
     "execution_count": 27,
     "metadata": {},
     "output_type": "execute_result"
    }
   ],
   "source": [
    "P = x^6-3\n",
    "P.is_irreducible()"
   ]
  },
  {
   "cell_type": "code",
   "execution_count": 34,
   "metadata": {
    "collapsed": false,
    "deletable": true,
    "editable": true
   },
   "outputs": [
    {
     "data": {
      "text/plain": [
       "5*w^5"
      ]
     },
     "execution_count": 34,
     "metadata": {},
     "output_type": "execute_result"
    }
   ],
   "source": [
    "(w^5)^7"
   ]
  },
  {
   "cell_type": "code",
   "execution_count": 19,
   "metadata": {
    "collapsed": false,
    "deletable": true,
    "editable": true
   },
   "outputs": [
    {
     "data": {
      "text/plain": [
       "(t + 3*w^4) * (t + 5*w^4) * (t + 6*w^4)"
      ]
     },
     "execution_count": 19,
     "metadata": {},
     "output_type": "execute_result"
    }
   ],
   "source": [
    "factor(t^3-2)"
   ]
  },
  {
   "cell_type": "code",
   "execution_count": 11,
   "metadata": {
    "collapsed": false,
    "deletable": true,
    "editable": true
   },
   "outputs": [
    {
     "data": {
      "text/plain": [
       "5*w^4"
      ]
     },
     "execution_count": 11,
     "metadata": {},
     "output_type": "execute_result"
    }
   ],
   "source": [
    "(3*w^4)^7"
   ]
  },
  {
   "cell_type": "code",
   "execution_count": 12,
   "metadata": {
    "collapsed": false,
    "deletable": true,
    "editable": true
   },
   "outputs": [
    {
     "data": {
      "text/plain": [
       "6*w^4"
      ]
     },
     "execution_count": 12,
     "metadata": {},
     "output_type": "execute_result"
    }
   ],
   "source": [
    "_^7"
   ]
  },
  {
   "cell_type": "code",
   "execution_count": 14,
   "metadata": {
    "collapsed": true,
    "deletable": true,
    "editable": true
   },
   "outputs": [],
   "source": [
    "j = k(4)"
   ]
  },
  {
   "cell_type": "code",
   "execution_count": 18,
   "metadata": {
    "collapsed": false,
    "deletable": true,
    "editable": true
   },
   "outputs": [
    {
     "name": "stdout",
     "output_type": "stream",
     "text": [
      "0\n",
      "1\n",
      "4\n",
      "2\n",
      "2\n",
      "4\n",
      "1\n"
     ]
    }
   ],
   "source": [
    "for j in k:\n",
    "    print j^2"
   ]
  },
  {
   "cell_type": "markdown",
   "metadata": {
    "collapsed": true,
    "deletable": true,
    "editable": true
   },
   "source": [
    "# Some other tests"
   ]
  },
  {
   "cell_type": "code",
   "execution_count": 6,
   "metadata": {
    "collapsed": false,
    "deletable": true,
    "editable": true
   },
   "outputs": [
    {
     "data": {
      "text/plain": [
       "6"
      ]
     },
     "execution_count": 6,
     "metadata": {},
     "output_type": "execute_result"
    }
   ],
   "source": [
    "p = 5\n",
    "n = 9\n",
    "r = Zmod(n)(p).multiplicative_order()\n",
    "K = GF(p^n)\n",
    "C = GF(p^r)\n",
    "T = K.extension(C.modulus())\n",
    "R.<x> = C[]\n",
    "r"
   ]
  },
  {
   "cell_type": "code",
   "execution_count": 26,
   "metadata": {
    "collapsed": false,
    "deletable": true,
    "editable": true
   },
   "outputs": [
    {
     "data": {
      "text/plain": [
       "(x + z6^4 + 4*z6^3 + 4*z6^2 + 4*z6 + 3) * (x + 2*z6^4 + 3*z6^3 + 3*z6^2 + 1) * (x + 2*z6^5 + 2*z6^4 + 4*z6^3 + 2*z6 + 2) * (x + 2*z6^5 + 4*z6^4 + z6^3 + z6^2 + 2) * (x + 3*z6^5 + z6) * (x + 3*z6^5 + z6^4 + 3*z6^3 + 2*z6^2 + 3*z6 + 2)"
      ]
     },
     "execution_count": 26,
     "metadata": {},
     "output_type": "execute_result"
    }
   ],
   "source": [
    "factor(R(cyclotomic_polynomial(n)))"
   ]
  },
  {
   "cell_type": "code",
   "execution_count": 28,
   "metadata": {
    "collapsed": false,
    "deletable": true,
    "editable": true
   },
   "outputs": [],
   "source": [
    "L = hilbert91(K, C, T)"
   ]
  },
  {
   "cell_type": "code",
   "execution_count": 43,
   "metadata": {
    "collapsed": false,
    "deletable": true,
    "editable": true
   },
   "outputs": [
    {
     "data": {
      "text/plain": [
       "4*z6^4 + z6^3 + z6^2 + z6 + 2"
      ]
     },
     "execution_count": 43,
     "metadata": {},
     "output_type": "execute_result"
    }
   ],
   "source": [
    "zeta = L[1][0]; zeta"
   ]
  },
  {
   "cell_type": "code",
   "execution_count": 37,
   "metadata": {
    "collapsed": false,
    "deletable": true,
    "editable": true
   },
   "outputs": [
    {
     "data": {
      "text/plain": [
       "(2*z9^8 + 4*z9^7 + 2*z9^6 + z9^5 + 4*z9^4 + 4*z9^3 + z9^2 + 2*z9)*x^5 + (z9^8 + z9^6 + 4*z9^4 + 2*z9^3 + z9^2 + 3*z9)*x^4 + (3*z9^8 + 3*z9^6 + 4*z9^5 + 2*z9^4 + 2*z9^3)*x^3 + (3*z9^7 + 2*z9^5 + 2*z9^3 + 2*z9)*x^2 + (4*z9^8 + 4*z9^7 + 4*z9^6 + 3*z9^5 + 4*z9^4 + 2*z9^3 + 4*z9)*x + 3*z9^7 + 2*z9^6 + z9^4 + z9^2 + 3*z9 + 1"
      ]
     },
     "execution_count": 37,
     "metadata": {},
     "output_type": "execute_result"
    }
   ],
   "source": [
    "a = L[1][1]; a"
   ]
  },
  {
   "cell_type": "code",
   "execution_count": 44,
   "metadata": {
    "collapsed": false,
    "deletable": true,
    "editable": true
   },
   "outputs": [
    {
     "data": {
      "text/plain": [
       "4*x^4 + x^3 + x^2 + x + 2"
      ]
     },
     "execution_count": 44,
     "metadata": {},
     "output_type": "execute_result"
    }
   ],
   "source": [
    "t = froby(a)/a; t"
   ]
  },
  {
   "cell_type": "code",
   "execution_count": 47,
   "metadata": {
    "collapsed": false,
    "deletable": true,
    "editable": true
   },
   "outputs": [
    {
     "data": {
      "text/plain": [
       "(2*x^5 + x^4 + 2*x^2 + 3*x + 3, 1)"
      ]
     },
     "execution_count": 47,
     "metadata": {},
     "output_type": "execute_result"
    }
   ],
   "source": [
    "t^3, t^9"
   ]
  },
  {
   "cell_type": "code",
   "execution_count": 50,
   "metadata": {
    "collapsed": false,
    "deletable": true,
    "editable": true
   },
   "outputs": [
    {
     "data": {
      "text/plain": [
       "Finite Field in z9 of size 5^9"
      ]
     },
     "execution_count": 50,
     "metadata": {},
     "output_type": "execute_result"
    }
   ],
   "source": [
    "a.base_ring()"
   ]
  },
  {
   "cell_type": "code",
   "execution_count": 66,
   "metadata": {
    "collapsed": false,
    "deletable": true,
    "editable": true
   },
   "outputs": [],
   "source": [
    "def riso(a, K, C):\n",
    "    \n",
    "    p = K.characteristic()\n",
    "    \n",
    "    n = K.degree()\n",
    "    r = C.degree()\n",
    "    \n",
    "    g = C.gen()\n",
    "    \n",
    "    m = lcm(n, r)\n",
    "    d = gcd(n, r)\n",
    "    \n",
    "    A = GF(p^m)\n",
    "    alg = A^d\n",
    "    res = alg()\n",
    "    \n",
    "    cpt = -1\n",
    "    for j in a:\n",
    "        cpt += 1\n",
    "        y = A(g^cpt)\n",
    "        for i in range(d):\n",
    "            x = A(j^(p^i))\n",
    "            res[i] += x*y\n",
    "    \n",
    "    return res"
   ]
  },
  {
   "cell_type": "code",
   "execution_count": 51,
   "metadata": {
    "collapsed": true,
    "deletable": true,
    "editable": true
   },
   "outputs": [],
   "source": [
    "kk = GF(p^30)"
   ]
  },
  {
   "cell_type": "code",
   "execution_count": 53,
   "metadata": {
    "collapsed": false,
    "deletable": true,
    "editable": true
   },
   "outputs": [],
   "source": [
    "V = kk^3"
   ]
  },
  {
   "cell_type": "code",
   "execution_count": 60,
   "metadata": {
    "collapsed": false,
    "deletable": true,
    "editable": true
   },
   "outputs": [
    {
     "data": {
      "text/plain": [
       "(3*z30^29 + 2*z30^28 + z30^27 + z30^25 + 2*z30^23 + 4*z30^21 + z30^20 + 2*z30^19 + 3*z30^18 + 4*z30^17 + 4*z30^16 + 3*z30^15 + 3*z30^14 + 4*z30^13 + z30^12 + z30^11 + z30^10 + 2*z30^9 + 4*z30^8 + z30^7 + 2*z30^4 + 3*z30^3 + 2*z30^2 + z30 + 1, z30^28 + 2*z30^27 + 2*z30^24 + z30^23 + z30^22 + z30^21 + 3*z30^20 + 4*z30^19 + z30^18 + z30^16 + 3*z30^15 + 3*z30^14 + z30^12 + z30^10 + z30^9 + 2*z30^8 + z30^7 + 3*z30^5 + z30^4 + z30^3 + 3*z30^2 + 4*z30 + 1, 4*z30^29 + 4*z30^28 + 4*z30^27 + z30^25 + 4*z30^23 + z30^22 + 2*z30^21 + 2*z30^20 + 2*z30^19 + 2*z30^18 + 3*z30^17 + z30^16 + z30^14 + 4*z30^13 + z30^11 + 2*z30^10 + 4*z30^9 + 3*z30^8 + z30^7 + 4*z30^5 + 3*z30^4 + 3*z30^3 + z30^2 + 3*z30 + 2)"
      ]
     },
     "execution_count": 60,
     "metadata": {},
     "output_type": "execute_result"
    }
   ],
   "source": [
    "v = V.random_element(); v"
   ]
  },
  {
   "cell_type": "code",
   "execution_count": 61,
   "metadata": {
    "collapsed": false,
    "deletable": true,
    "editable": true
   },
   "outputs": [
    {
     "data": {
      "text/plain": [
       "(3*z30^29 + 2*z30^28 + z30^27 + z30^25 + 2*z30^23 + 4*z30^21 + z30^20 + 2*z30^19 + 3*z30^18 + 4*z30^17 + 4*z30^16 + 3*z30^15 + 3*z30^14 + 4*z30^13 + z30^12 + z30^11 + z30^10 + 2*z30^9 + 4*z30^8 + z30^7 + 2*z30^4 + 3*z30^3 + 2*z30^2 + z30 + 1, 0, 0)"
      ]
     },
     "execution_count": 61,
     "metadata": {},
     "output_type": "execute_result"
    }
   ],
   "source": [
    "v.pairwise_product(V.an_element())"
   ]
  },
  {
   "cell_type": "code",
   "execution_count": 62,
   "metadata": {
    "collapsed": false,
    "deletable": true,
    "editable": true
   },
   "outputs": [
    {
     "data": {
      "text/plain": [
       "(2*z9^8 + 4*z9^7 + 2*z9^6 + z9^5 + 4*z9^4 + 4*z9^3 + z9^2 + 2*z9)*x^5 + (z9^8 + z9^6 + 4*z9^4 + 2*z9^3 + z9^2 + 3*z9)*x^4 + (3*z9^8 + 3*z9^6 + 4*z9^5 + 2*z9^4 + 2*z9^3)*x^3 + (3*z9^7 + 2*z9^5 + 2*z9^3 + 2*z9)*x^2 + (4*z9^8 + 4*z9^7 + 4*z9^6 + 3*z9^5 + 4*z9^4 + 2*z9^3 + 4*z9)*x + 3*z9^7 + 2*z9^6 + z9^4 + z9^2 + 3*z9 + 1"
      ]
     },
     "execution_count": 62,
     "metadata": {},
     "output_type": "execute_result"
    }
   ],
   "source": [
    "a"
   ]
  },
  {
   "cell_type": "code",
   "execution_count": 64,
   "metadata": {
    "collapsed": false,
    "deletable": true,
    "editable": true
   },
   "outputs": [
    {
     "data": {
      "text/plain": [
       "Vector space of dimension 1 over Finite Field in z30 of size 5^30"
      ]
     },
     "execution_count": 64,
     "metadata": {},
     "output_type": "execute_result"
    }
   ],
   "source": [
    "kk^1"
   ]
  },
  {
   "cell_type": "code",
   "execution_count": 68,
   "metadata": {
    "collapsed": false,
    "deletable": true,
    "editable": true
   },
   "outputs": [
    {
     "ename": "IndexError",
     "evalue": "vector index out of range",
     "output_type": "error",
     "traceback": [
      "\u001b[1;31m---------------------------------------------------------------------------\u001b[0m",
      "\u001b[1;31mIndexError\u001b[0m                                Traceback (most recent call last)",
      "\u001b[1;32m<ipython-input-68-3001fe87a93c>\u001b[0m in \u001b[0;36m<module>\u001b[1;34m()\u001b[0m\n\u001b[1;32m----> 1\u001b[1;33m \u001b[0mv\u001b[0m\u001b[1;33m[\u001b[0m\u001b[0mInteger\u001b[0m\u001b[1;33m(\u001b[0m\u001b[1;36m3\u001b[0m\u001b[1;33m)\u001b[0m\u001b[1;33m]\u001b[0m\u001b[1;33m\u001b[0m\u001b[0m\n\u001b[0m",
      "\u001b[1;32m/home/erou/sage/src/sage/modules/free_module_element.pyx\u001b[0m in \u001b[0;36msage.modules.free_module_element.FreeModuleElement.__getitem__ (build/cythonized/sage/modules/free_module_element.c:13449)\u001b[1;34m()\u001b[0m\n\u001b[0;32m   1765\u001b[0m                 \u001b[0mn\u001b[0m \u001b[1;33m+=\u001b[0m \u001b[0md\u001b[0m\u001b[1;33m\u001b[0m\u001b[0m\n\u001b[0;32m   1766\u001b[0m             \u001b[1;32mif\u001b[0m \u001b[0mn\u001b[0m \u001b[1;33m<\u001b[0m \u001b[1;36m0\u001b[0m \u001b[1;32mor\u001b[0m \u001b[0mn\u001b[0m \u001b[1;33m>=\u001b[0m \u001b[0md\u001b[0m\u001b[1;33m:\u001b[0m\u001b[1;33m\u001b[0m\u001b[0m\n\u001b[1;32m-> 1767\u001b[1;33m                 \u001b[1;32mraise\u001b[0m \u001b[0mIndexError\u001b[0m\u001b[1;33m(\u001b[0m\u001b[1;34m\"vector index out of range\"\u001b[0m\u001b[1;33m)\u001b[0m\u001b[1;33m\u001b[0m\u001b[0m\n\u001b[0m\u001b[0;32m   1768\u001b[0m             \u001b[1;32mreturn\u001b[0m \u001b[0mself\u001b[0m\u001b[1;33m.\u001b[0m\u001b[0mget_unsafe\u001b[0m\u001b[1;33m(\u001b[0m\u001b[0mn\u001b[0m\u001b[1;33m)\u001b[0m\u001b[1;33m\u001b[0m\u001b[0m\n\u001b[0;32m   1769\u001b[0m \u001b[1;33m\u001b[0m\u001b[0m\n",
      "\u001b[1;31mIndexError\u001b[0m: vector index out of range"
     ]
    }
   ],
   "source": [
    "v[3]"
   ]
  },
  {
   "cell_type": "code",
   "execution_count": 78,
   "metadata": {
    "collapsed": false,
    "deletable": true,
    "editable": true
   },
   "outputs": [
    {
     "data": {
      "text/plain": [
       "(4*z18^17 + 2*z18^16 + 4*z18^15 + 2*z18^14 + 2*z18^13 + 2*z18^12 + 2*z18^10 + 2*z18^9 + 2*z18^8 + 4*z18^7 + z18^6 + 2*z18^5 + 4*z18^4 + 3*z18^3 + 3*z18^2 + 3*z18, z18^17 + z18^16 + 4*z18^15 + 2*z18^14 + 4*z18^13 + z18^12 + 2*z18^10 + 3*z18^9 + z18^8 + 4*z18^7 + 3*z18^5 + z18^3 + z18^2 + z18 + 3, 3*z18^17 + 4*z18^16 + z18^15 + 2*z18^13 + 4*z18^12 + z18^11 + z18^8 + 2*z18^7 + 2*z18^5 + z18^4 + 3*z18^3 + 4*z18^2 + 4*z18)"
      ]
     },
     "execution_count": 78,
     "metadata": {},
     "output_type": "execute_result"
    }
   ],
   "source": [
    "b = riso(a, K, C); b"
   ]
  },
  {
   "cell_type": "code",
   "execution_count": 79,
   "metadata": {
    "collapsed": false,
    "deletable": true,
    "editable": true
   },
   "outputs": [
    {
     "data": {
      "text/plain": [
       "[z18^17 + z18^16 + 3*z18^15 + 3*z18^14 + z18^13 + 2*z18^12 + 2*z18^11 + 2*z18^10 + 2*z18^9 + 4*z18^8 + 2*z18^7 + 3*z18^5 + 3*z18^4 + 4*z18 + 4,\n",
       " z18^17 + z18^16 + 3*z18^15 + 3*z18^14 + z18^13 + 2*z18^12 + 2*z18^11 + 2*z18^10 + 2*z18^9 + 4*z18^8 + 2*z18^7 + 3*z18^5 + 3*z18^4 + 4*z18 + 4,\n",
       " z18^17 + z18^16 + 3*z18^15 + 3*z18^14 + z18^13 + 2*z18^12 + 2*z18^11 + 2*z18^10 + 2*z18^9 + 4*z18^8 + 2*z18^7 + 3*z18^5 + 3*z18^4 + 4*z18 + 4]"
      ]
     },
     "execution_count": 79,
     "metadata": {},
     "output_type": "execute_result"
    }
   ],
   "source": [
    "l = [c^n for c in b]; l"
   ]
  },
  {
   "cell_type": "code",
   "execution_count": 81,
   "metadata": {
    "collapsed": false,
    "deletable": true,
    "editable": true
   },
   "outputs": [
    {
     "data": {
      "text/plain": [
       "z18^17 + z18^16 + 3*z18^15 + 3*z18^14 + z18^13 + 2*z18^12 + 2*z18^11 + 2*z18^10 + 2*z18^9 + 4*z18^8 + 2*z18^7 + 3*z18^5 + 3*z18^4 + 4*z18 + 4"
      ]
     },
     "execution_count": 81,
     "metadata": {},
     "output_type": "execute_result"
    }
   ],
   "source": [
    "s = l[0]; s"
   ]
  },
  {
   "cell_type": "code",
   "execution_count": 85,
   "metadata": {
    "collapsed": false,
    "deletable": true,
    "editable": true
   },
   "outputs": [
    {
     "data": {
      "text/plain": [
       "True"
      ]
     },
     "execution_count": 85,
     "metadata": {},
     "output_type": "execute_result"
    }
   ],
   "source": [
    "s^(p^6) == s"
   ]
  },
  {
   "cell_type": "code",
   "execution_count": 87,
   "metadata": {
    "collapsed": false,
    "deletable": true,
    "editable": true
   },
   "outputs": [
    {
     "data": {
      "text/plain": [
       "(2*z9^8 + 2*z9^6 + z9^5 + z9^4 + z9^3 + 2*z9^2 + 1)*x^5 + (2*z9^8 + 4*z9^7 + 3*z9^5 + z9^4 + z9^3 + 2*z9)*x^4 + (3*z9^8 + 2*z9^6 + z9^5 + 4*z9^4 + 2*z9^3 + 2*z9^2 + 3*z9)*x^3 + (2*z9^7 + 2*z9^6 + 4*z9^4 + 3*z9^3 + 3*z9^2 + 3)*x^2 + (2*z9^8 + 2*z9^6 + z9^5 + 2*z9^4 + 4*z9^3 + 4*z9^2 + 4)*x + 2*z9^8 + 3*z9^7 + z9^6 + 4*z9^5 + 3*z9^4 + 3*z9^3 + z9 + 4"
      ]
     },
     "execution_count": 87,
     "metadata": {},
     "output_type": "execute_result"
    }
   ],
   "source": [
    "aa = T.random_element(); aa"
   ]
  },
  {
   "cell_type": "code",
   "execution_count": 88,
   "metadata": {
    "collapsed": false,
    "deletable": true,
    "editable": true
   },
   "outputs": [
    {
     "data": {
      "text/plain": [
       "(2*z18^17 + 4*z18^16 + 4*z18^15 + 2*z18^13 + 4*z18^12 + 2*z18^11 + 4*z18^10 + z18^9 + 4*z18^8 + 2*z18^7 + 2*z18^6 + z18^5 + z18^4 + z18^2 + z18 + 1, z18^17 + 4*z18^16 + 2*z18^15 + z18^14 + 3*z18^13 + 4*z18^12 + 3*z18^11 + 2*z18^10 + z18^9 + 4*z18^8 + 3*z18^7 + 3*z18^6 + 2*z18^5 + 4*z18^4 + 3*z18^2 + 3*z18, 4*z18^17 + z18^15 + 2*z18^14 + 2*z18^13 + 2*z18^12 + 3*z18^11 + 4*z18^10 + 2*z18^8 + z18^7 + z18^6 + 2*z18^5 + 4*z18^4 + z18^3 + 3*z18^2 + 3*z18 + 2)"
      ]
     },
     "execution_count": 88,
     "metadata": {},
     "output_type": "execute_result"
    }
   ],
   "source": [
    "bb = riso(aa, K, C); bb"
   ]
  },
  {
   "cell_type": "code",
   "execution_count": 89,
   "metadata": {
    "collapsed": false,
    "deletable": true,
    "editable": true
   },
   "outputs": [
    {
     "data": {
      "text/plain": [
       "[z18^17 + 3*z18^16 + 4*z18^15 + 3*z18^14 + z18^13 + 4*z18^10 + z18^8 + 4*z18^7 + 2*z18^6 + z18^5 + 3*z18^4 + 2*z18^3 + z18^2 + z18 + 2,\n",
       " 2*z18^17 + 2*z18^16 + 4*z18^15 + z18^14 + z18^13 + 3*z18^12 + 2*z18^11 + 4*z18^10 + 3*z18^9 + 4*z18^8 + 4*z18^7 + 2*z18^6 + z18^5 + 2*z18^4 + 4*z18^2 + 2*z18,\n",
       " 4*z18^17 + 2*z18^16 + z18^15 + 3*z18^14 + 4*z18^13 + z18^12 + 3*z18^9 + 2*z18^8 + 2*z18^6 + 3*z18^5 + 3*z18^4 + z18^3 + 2*z18^2 + 4]"
      ]
     },
     "execution_count": 89,
     "metadata": {},
     "output_type": "execute_result"
    }
   ],
   "source": [
    "ll = [cc^n for cc in bb]; ll"
   ]
  },
  {
   "cell_type": "code",
   "execution_count": 90,
   "metadata": {
    "collapsed": false,
    "deletable": true,
    "editable": true
   },
   "outputs": [
    {
     "data": {
      "text/plain": [
       "[z18^17 + z18^16 + 3*z18^15 + 3*z18^14 + z18^13 + 2*z18^12 + 2*z18^11 + 2*z18^10 + 2*z18^9 + 4*z18^8 + 2*z18^7 + 3*z18^5 + 3*z18^4 + 4*z18 + 4,\n",
       " z18^17 + z18^16 + 3*z18^15 + 3*z18^14 + z18^13 + 2*z18^12 + 2*z18^11 + 2*z18^10 + 2*z18^9 + 4*z18^8 + 2*z18^7 + 3*z18^5 + 3*z18^4 + 4*z18 + 4,\n",
       " z18^17 + z18^16 + 3*z18^15 + 3*z18^14 + z18^13 + 2*z18^12 + 2*z18^11 + 2*z18^10 + 2*z18^9 + 4*z18^8 + 2*z18^7 + 3*z18^5 + 3*z18^4 + 4*z18 + 4]"
      ]
     },
     "execution_count": 90,
     "metadata": {},
     "output_type": "execute_result"
    }
   ],
   "source": [
    "l"
   ]
  },
  {
   "cell_type": "code",
   "execution_count": 107,
   "metadata": {
    "collapsed": false,
    "deletable": true,
    "editable": true
   },
   "outputs": [
    {
     "data": {
      "text/plain": [
       "True"
      ]
     },
     "execution_count": 107,
     "metadata": {},
     "output_type": "execute_result"
    }
   ],
   "source": [
    "(b[1]/b[0])^2 == (b[2]/b[0])"
   ]
  },
  {
   "cell_type": "code",
   "execution_count": 7,
   "metadata": {
    "collapsed": false,
    "deletable": true,
    "editable": true
   },
   "outputs": [
    {
     "data": {
      "text/plain": [
       "Univariate Quotient Polynomial Ring in x over Finite Field in z9 of size 5^9 with modulus x^6 + x^4 + 4*x^3 + x^2 + 2"
      ]
     },
     "execution_count": 7,
     "metadata": {},
     "output_type": "execute_result"
    }
   ],
   "source": [
    "T"
   ]
  },
  {
   "cell_type": "code",
   "execution_count": 57,
   "metadata": {
    "collapsed": false,
    "deletable": true,
    "editable": true
   },
   "outputs": [],
   "source": [
    "p = 3\n",
    "n = 4\n",
    "r = Zmod(n)(p).multiplicative_order()\n",
    "K = GF(p^n)\n",
    "C = GF(p^r)\n",
    "T = K.extension(C.modulus())\n",
    "R.<x> = C[]\n",
    "S.<y> = T[]"
   ]
  },
  {
   "cell_type": "code",
   "execution_count": 58,
   "metadata": {
    "collapsed": false,
    "deletable": true,
    "editable": true
   },
   "outputs": [
    {
     "data": {
      "text/plain": [
       "y^4 + 2"
      ]
     },
     "execution_count": 58,
     "metadata": {},
     "output_type": "execute_result"
    }
   ],
   "source": [
    "Z = y^n-1; Z"
   ]
  },
  {
   "cell_type": "code",
   "execution_count": 59,
   "metadata": {
    "collapsed": false,
    "deletable": true,
    "editable": true
   },
   "outputs": [
    {
     "data": {
      "text/plain": [
       "True"
      ]
     },
     "execution_count": 59,
     "metadata": {},
     "output_type": "execute_result"
    }
   ],
   "source": [
    "T.is_finite()"
   ]
  },
  {
   "cell_type": "code",
   "execution_count": 60,
   "metadata": {
    "collapsed": false,
    "deletable": true,
    "editable": true
   },
   "outputs": [
    {
     "data": {
      "text/plain": [
       "(6561, 12.6797000057692)"
      ]
     },
     "execution_count": 60,
     "metadata": {},
     "output_type": "execute_result"
    }
   ],
   "source": [
    "T.order(), log(T.order()*1., 2)"
   ]
  },
  {
   "cell_type": "code",
   "execution_count": 61,
   "metadata": {
    "collapsed": false,
    "deletable": true,
    "editable": true
   },
   "outputs": [
    {
     "data": {
      "text/plain": [
       "False"
      ]
     },
     "execution_count": 61,
     "metadata": {},
     "output_type": "execute_result"
    }
   ],
   "source": [
    "T.is_field()"
   ]
  },
  {
   "cell_type": "code",
   "execution_count": 63,
   "metadata": {
    "collapsed": false,
    "deletable": true,
    "editable": true
   },
   "outputs": [
    {
     "name": "stdout",
     "output_type": "stream",
     "text": [
      "2*z4^3 + 2*z4^2 + 2\n",
      "2\n",
      "z4^3 + z4^2 + 1\n",
      "1\n",
      "(2*z4^3 + 2*z4^2 + 1)*x\n",
      "(2*z4^3 + 2*z4^2 + 1)*x + z4^3 + z4^2 + 2\n",
      "(2*z4^3 + 2*z4^2 + 2)*x + 2*z4^3 + 2*z4^2 + 2\n",
      "(z4^3 + z4^2)*x\n",
      "(z4^3 + z4^2)*x + 2*z4^3 + 2*z4^2\n",
      "2*x + 2\n",
      "(z4^3 + z4^2 + 2)*x\n",
      "(z4^3 + z4^2 + 2)*x + 2*z4^3 + 2*z4^2 + 1\n",
      "(z4^3 + z4^2 + 1)*x + z4^3 + z4^2 + 1\n",
      "(2*z4^3 + 2*z4^2)*x\n",
      "(2*z4^3 + 2*z4^2)*x + z4^3 + z4^2\n",
      "x + 1\n"
     ]
    }
   ],
   "source": [
    "cpt = 0\n",
    "for t in T:\n",
    "    if Z(t) == 0:\n",
    "        cpt += 1\n",
    "        print t"
   ]
  },
  {
   "cell_type": "code",
   "execution_count": 64,
   "metadata": {
    "collapsed": false,
    "deletable": true,
    "editable": true
   },
   "outputs": [
    {
     "data": {
      "text/plain": [
       "16"
      ]
     },
     "execution_count": 64,
     "metadata": {},
     "output_type": "execute_result"
    }
   ],
   "source": [
    "cpt"
   ]
  },
  {
   "cell_type": "code",
   "execution_count": 68,
   "metadata": {
    "collapsed": false,
    "deletable": true,
    "editable": true
   },
   "outputs": [
    {
     "data": {
      "text/plain": [
       "(2*z4 + 1, z4^3 + 2*z4 + 1)"
      ]
     },
     "execution_count": 68,
     "metadata": {},
     "output_type": "execute_result"
    }
   ],
   "source": [
    "elem = riso(T.random_element(), K, C); elem"
   ]
  },
  {
   "cell_type": "code",
   "execution_count": 69,
   "metadata": {
    "collapsed": false,
    "deletable": true,
    "editable": true
   },
   "outputs": [
    {
     "data": {
      "text/plain": [
       "Vector space of dimension 2 over Finite Field in z4 of size 3^4"
      ]
     },
     "execution_count": 69,
     "metadata": {},
     "output_type": "execute_result"
    }
   ],
   "source": [
    "elem.parent()"
   ]
  },
  {
   "cell_type": "markdown",
   "metadata": {
    "collapsed": true,
    "deletable": true,
    "editable": true
   },
   "source": [
    "# Some other tests with norms\n",
    "About constructing compatible roots of unity with respect to the relative norms"
   ]
  },
  {
   "cell_type": "code",
   "execution_count": 48,
   "metadata": {
    "collapsed": true,
    "deletable": true,
    "editable": true
   },
   "outputs": [],
   "source": [
    "p = 19\n",
    "l = 3\n",
    "k = GF(p)\n",
    "R = PolynomialRing(k, \"x\")"
   ]
  },
  {
   "cell_type": "code",
   "execution_count": 60,
   "metadata": {
    "collapsed": false,
    "deletable": true,
    "editable": true
   },
   "outputs": [
    {
     "data": {
      "text/plain": [
       "(x + 8) * (x + 12)"
      ]
     },
     "execution_count": 60,
     "metadata": {},
     "output_type": "execute_result"
    }
   ],
   "source": [
    "f2 = R(cyclotomic_polynomial(21)).factor(); f2\n",
    "f1 = R(cyclotomic_polynomial(3)).factor(); f1"
   ]
  },
  {
   "cell_type": "code",
   "execution_count": 61,
   "metadata": {
    "collapsed": false,
    "deletable": true,
    "editable": true
   },
   "outputs": [
    {
     "data": {
      "text/plain": [
       "x + 8"
      ]
     },
     "execution_count": 61,
     "metadata": {},
     "output_type": "execute_result"
    }
   ],
   "source": [
    "z = f1[0][0]; z"
   ]
  },
  {
   "cell_type": "code",
   "execution_count": 62,
   "metadata": {
    "collapsed": false,
    "deletable": true,
    "editable": true
   },
   "outputs": [
    {
     "data": {
      "text/plain": [
       "x^6 + 7*x^5 + 11*x^4 + x^3 + 7*x^2 + 11*x + 1"
      ]
     },
     "execution_count": 62,
     "metadata": {},
     "output_type": "execute_result"
    }
   ],
   "source": [
    "u = f2[0][0]; u"
   ]
  },
  {
   "cell_type": "code",
   "execution_count": 63,
   "metadata": {
    "collapsed": true,
    "deletable": true,
    "editable": true
   },
   "outputs": [],
   "source": [
    "k2.<z2> = k.extension(u)\n",
    "k1.<z1> = k.extension(z)"
   ]
  },
  {
   "cell_type": "code",
   "execution_count": 56,
   "metadata": {
    "collapsed": false,
    "deletable": true,
    "editable": true
   },
   "outputs": [
    {
     "data": {
      "text/plain": [
       "1"
      ]
     },
     "execution_count": 56,
     "metadata": {},
     "output_type": "execute_result"
    }
   ],
   "source": [
    "z2.norm()"
   ]
  },
  {
   "cell_type": "code",
   "execution_count": 64,
   "metadata": {
    "collapsed": true,
    "deletable": true,
    "editable": true
   },
   "outputs": [],
   "source": [
    "def relative_norm(x, k):\n",
    "    K = x.parent()\n",
    "    d = K.degree()//k.degree()\n",
    "    q = k.cardinality()\n",
    "    N = product([x^(q^j) for j in range(d)])\n",
    "    return N"
   ]
  },
  {
   "cell_type": "code",
   "execution_count": 65,
   "metadata": {
    "collapsed": false,
    "deletable": true,
    "editable": true
   },
   "outputs": [
    {
     "data": {
      "text/plain": [
       "1"
      ]
     },
     "execution_count": 65,
     "metadata": {},
     "output_type": "execute_result"
    }
   ],
   "source": [
    "relative_norm(z2, k1)"
   ]
  },
  {
   "cell_type": "code",
   "execution_count": 37,
   "metadata": {
    "collapsed": false,
    "deletable": true,
    "editable": true
   },
   "outputs": [
    {
     "data": {
      "text/plain": [
       "x^4 + 2*x^3 + x^2 + 2*x + 1"
      ]
     },
     "execution_count": 37,
     "metadata": {},
     "output_type": "execute_result"
    }
   ],
   "source": [
    "z1.minpoly()"
   ]
  },
  {
   "cell_type": "code",
   "execution_count": 29,
   "metadata": {
    "collapsed": false,
    "deletable": true,
    "editable": true
   },
   "outputs": [
    {
     "data": {
      "text/plain": [
       "24"
      ]
     },
     "execution_count": 29,
     "metadata": {},
     "output_type": "execute_result"
    }
   ],
   "source": [
    "product(range(1,5))"
   ]
  },
  {
   "cell_type": "code",
   "execution_count": 42,
   "metadata": {
    "collapsed": true,
    "deletable": true,
    "editable": true
   },
   "outputs": [],
   "source": [
    "p = 5\n",
    "l = 13\n",
    "r = Zmod(l^1)(p).multiplicative_order()\n"
   ]
  },
  {
   "cell_type": "code",
   "execution_count": 43,
   "metadata": {
    "collapsed": false,
    "deletable": true,
    "editable": true
   },
   "outputs": [
    {
     "data": {
      "text/plain": [
       "4"
      ]
     },
     "execution_count": 43,
     "metadata": {},
     "output_type": "execute_result"
    }
   ],
   "source": [
    "r"
   ]
  },
  {
   "cell_type": "code",
   "execution_count": 44,
   "metadata": {
    "collapsed": false,
    "deletable": true,
    "editable": true
   },
   "outputs": [
    {
     "data": {
      "text/plain": [
       "[2, 3, 5, 7, 11, 13, 17, 19, 23, 29, 31, 37, 41, 43, 47, 53, 59, 61, 67, 71]"
      ]
     },
     "execution_count": 44,
     "metadata": {},
     "output_type": "execute_result"
    }
   ],
   "source": [
    "for p in primes_first_n(20)"
   ]
  },
  {
   "cell_type": "markdown",
   "metadata": {
    "deletable": true,
    "editable": true
   },
   "source": [
    "Case $p=19$, with $\\zeta_3$ and $\\zeta_{21}$"
   ]
  },
  {
   "cell_type": "code",
   "execution_count": null,
   "metadata": {
    "collapsed": true,
    "deletable": true,
    "editable": true
   },
   "outputs": [],
   "source": []
  }
 ],
 "metadata": {
  "kernelspec": {
   "display_name": "SageMath 8.1",
   "language": "",
   "name": "sagemath"
  },
  "language_info": {
   "codemirror_mode": {
    "name": "ipython",
    "version": 2
   },
   "file_extension": ".py",
   "mimetype": "text/x-python",
   "name": "python",
   "nbconvert_exporter": "python",
   "pygments_lexer": "ipython2",
   "version": "2.7.14"
  }
 },
 "nbformat": 4,
 "nbformat_minor": 2
}
