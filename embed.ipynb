{
 "cells": [
  {
   "cell_type": "markdown",
   "metadata": {
    "deletable": true,
    "editable": true
   },
   "source": [
    "# Compatible embeddings using Allombert's algorithm"
   ]
  },
  {
   "cell_type": "markdown",
   "metadata": {
    "collapsed": false,
    "deletable": true,
    "editable": true,
    "scrolled": true
   },
   "source": [
    "In the following we represent $K\\otimes C$ as $K[t]/\\Phi(t)$ where $\\Phi(t)$ is the polynomial defining \n",
    "the field $C = k(\\zeta)$."
   ]
  },
  {
   "cell_type": "code",
   "execution_count": 1,
   "metadata": {
    "collapsed": true
   },
   "outputs": [],
   "source": [
    "class ffembed:\n",
    "    \n",
    "    def __init__(self, k):\n",
    "        self._field = k\n",
    "        self._root = None\n",
    "        self._hilbert_gen = None\n",
    "    def __repr__(self):\n",
    "        return self._field.__repr__()\n",
    "    \n",
    "    def has_root(self):\n",
    "        return self._root != None\n",
    "    \n",
    "    def root(self):\n",
    "        return self._root\n",
    "    \n",
    "    def hilbert_gen(self):\n",
    "        return self._hilbert_gen\n",
    "    \n",
    "    def field(self):\n",
    "        return self._field\n",
    "    \n",
    "    def assign_root(self, r, g):\n",
    "        self._root = r\n",
    "        self._hilbert_gen = g\n",
    "\n",
    "class embedding:\n",
    "    \n",
    "    def __init__(self, c, f):\n",
    "        self._constant = c\n",
    "        self._map = f\n",
    "        \n",
    "    def __call__(self, x):\n",
    "        return self._map(x)\n",
    "    \n",
    "    def constant(self):\n",
    "        return self._constant\n",
    "    \n",
    "    def get_map(self):\n",
    "        return self._map"
   ]
  },
  {
   "cell_type": "code",
   "execution_count": 2,
   "metadata": {
    "collapsed": true
   },
   "outputs": [],
   "source": [
    "\"\"\"\n",
    "Compute the frobenius σ' of `elem` in K⊗C defined by σ'(x⊗y) = σ(x)⊗y with \n",
    "σ the frobenius of K/k with k the prime subfield.\n",
    "\"\"\"\n",
    "def froby(elem):\n",
    "    l = elem.list()\n",
    "    f = parent(l[0]).frobenius_endomorphism()\n",
    "    res = parent(elem)()\n",
    "    t = parent(elem).gen()\n",
    "    for j in range(len(l)):\n",
    "        res += f(l[j])*t^j\n",
    "    return res  \n",
    "\n",
    "\"\"\"\n",
    "Compute the matrix representing the frobenius σ' in K⊗C, over the basis B⊗1\n",
    "where B is a basis of K over k. The coefficients are in C=k(ζ).\n",
    "\"\"\"\n",
    "def frob_mat(K, C = None):\n",
    "    \n",
    "    if C == None:\n",
    "        C = K.prime_subfield()\n",
    "    \n",
    "    frob = K.frobenius_endomorphism()\n",
    "    n = K.degree()\n",
    "    S = MatrixSpace(C, n)\n",
    "    g = K.gen()\n",
    "    \n",
    "    cols = []\n",
    "    \n",
    "    for j in range(n):\n",
    "        s = frob(g^j)\n",
    "        l = s.polynomial().list()\n",
    "        l = l + (n-len(l))*[C()]\n",
    "        cols.append(l)\n",
    "        \n",
    "    return S(cols).transpose()\n",
    "\n",
    "\"\"\"\n",
    "Compute a solution of the equation ``σ'(x) = (1⊗ζ)x`` in K⊗C = T.\n",
    "\"\"\"\n",
    "def hilbert90(K, C, T):\n",
    "    \n",
    "    M = frob_mat(K, C)\n",
    "    t = C.gen()\n",
    "    eigen = M.right_eigenvectors()\n",
    "    \n",
    "    for e in eigen:\n",
    "        if e[0] == t:\n",
    "            v = e[1][0]\n",
    "            break\n",
    "    \n",
    "    res = T()\n",
    "    g = K.gen()\n",
    "    for j in range(K.degree()):\n",
    "        res += T(v[j])*g^j\n",
    "        \n",
    "    return res\n",
    "\n",
    "\n"
   ]
  },
  {
   "cell_type": "code",
   "execution_count": 10,
   "metadata": {
    "collapsed": false
   },
   "outputs": [],
   "source": [
    "\"\"\"\n",
    "Compute the first coordinate of `elem` in `basis`, knowing that\n",
    "`elem` is in fact in a subspace of degree `d2`.\n",
    "\"\"\"\n",
    "def change_basis(elem, basis, d2):\n",
    "    \n",
    "    k = elem.base_ring()\n",
    "    d1 = elem.parent().degree()\n",
    "    A = MatrixSpace(k, d1, d2)()\n",
    "    \n",
    "    for i in range(d2):\n",
    "        L = (basis^i).list()\n",
    "        for j in range(d1):\n",
    "            A[j,i] = L[j]\n",
    "            \n",
    "    S2 = MatrixSpace(k, d1, 1)\n",
    "    B = S2(elem.list())\n",
    "    X = A.solve_right(B)\n",
    "    \n",
    "    return X[0,0]\n",
    "\n",
    "def compute_root_no_cond(K1):\n",
    "    \n",
    "    k1 = K1.field()\n",
    "    m = k1.degree()\n",
    "    k = k1.prime_subfield()\n",
    "    R = PolynomialRing(k, \"x\")\n",
    "    f1 = factor(R(cyclotomic_polynomial(m)))[0][0]\n",
    "    C1 = k.extension(f1, \"t\")\n",
    "    T1 = k1.extension(f1, \"t\")\n",
    "    a1 = hilbert90(k1, C1, T1)\n",
    "    \n",
    "    K1.assign_root(f1, a1)\n",
    "\n",
    "    \n",
    "def compute_root_compatible1(K2, K1):\n",
    "    \n",
    "    k1, k2 = K1.field(), K2.field()\n",
    "    m, n = k1.degree(), k2.degree()\n",
    "    k = k1.prime_subfield()\n",
    "    R = PolynomialRing(k, \"x\")\n",
    "    Rxy.<x,y> = PolynomialRing(k, \"x, y\")\n",
    "    f1 = K1.root()\n",
    "    f1xy = Rxy(f1)\n",
    "    res = f1xy.resultant(y^(n/m)-x, x)\n",
    "    P = gcd(R(res.polynomial(y).list()), R(cyclotomic_polynomial(n)))\n",
    "    f2 = factor(P)[0][0]\n",
    "    C2 = k.extension(f2, \"t\")\n",
    "    T2 = k2.extension(f2, \"t\")\n",
    "    a2 = hilbert90(k2, C2, T2)\n",
    "    \n",
    "    K2.assign_root(f2, a2)\n",
    "        \n",
    "def compute_root_compatible2(K1, K2):\n",
    "    \n",
    "    k1, k2 = K1.field(), K2.field()\n",
    "    m, n = k1.degree(), k2.degree()\n",
    "    k = k1.prime_subfield()\n",
    "    R = PolynomialRing(k, \"x\")\n",
    "    Rxy.<x,y> = PolynomialRing(k, \"x, y\")\n",
    "    f2 = K2.root()\n",
    "    f2xy = Rxy(f2)\n",
    "    res = f2xy.resultant(x^(n/m)-y, x)\n",
    "    P = gcd(R(res.polynomial(y).list()), R(cyclotomic_polynomial(m)))\n",
    "    f1 = factor(P)[0][0]\n",
    "    C1 = k.extension(f1, \"t\")\n",
    "    T1 = k1.extension(f1, \"t\")\n",
    "    a1 = hilbert90(k1, C1, T1)\n",
    "    \n",
    "    K1.assign_root(f1, a1)\n",
    "        \n",
    "def compute_root(K2, L = []):\n",
    "    \n",
    "    if type(L) != list:\n",
    "        L = [L]\n",
    "    \n",
    "    if L == []:\n",
    "        compute_root_no_cond(K2)\n",
    "        \n",
    "    elif len(L) == 1:\n",
    "        if K2.field().degree() >= L[0].field().degree():\n",
    "            compute_root_compatible1(K2, L[0])\n",
    "        else:\n",
    "            compute_root_compatible2(K2, L[0])\n",
    "                \n",
    "    else:\n",
    "        \n",
    "        k2 = K2.field()\n",
    "        n = k2.degree()\n",
    "        k = k2.prime_subfield()\n",
    "        R = PolynomialRing(k, \"x\")\n",
    "        Rxy.<x,y> = PolynomialRing(k, \"x, y\")\n",
    "        P = R(cyclotomic_polynomial(n))\n",
    "        \n",
    "        for K1 in L:\n",
    "\n",
    "            k1 = K1.field()\n",
    "            m =  k1.degree()\n",
    "            f1 = K1.root()\n",
    "            f1xy = Rxy(f1)\n",
    "            res = f1xy.resultant(y^(n/m)-x, x)\n",
    "            P = gcd(R(res.polynomial(y).list()), P)\n",
    "            \n",
    "        f2 = factor(P)[0][0]    \n",
    "        C2 = k.extension(f2, \"t\")\n",
    "        T2 = k2.extension(f2, \"t\")\n",
    "        a2 = hilbert90(k2, C2, T2)\n",
    "\n",
    "        K2.assign_root(f2, a2)\n"
   ]
  },
  {
   "cell_type": "code",
   "execution_count": 4,
   "metadata": {
    "collapsed": false,
    "deletable": true,
    "editable": true
   },
   "outputs": [],
   "source": [
    "\"\"\"\n",
    "Compute two elements β and γ such that k1 = k(β) can be embedded\n",
    "in k2 via the map β |-> γ. \n",
    "\"\"\"\n",
    "def allombert_gens(k1, k2):\n",
    "    \n",
    "    # We first set some usefull variables\n",
    "    k = k1.prime_subfield()\n",
    "    R = PolynomialRing(k, \"x\")\n",
    "    Rxy.<x,y> = PolynomialRing(k, \"x, y\")\n",
    "    m, n = k1.degree(), k2.degree()\n",
    "    \n",
    "    # Then we create the spaces necessary to solve Hilbert 90\n",
    "    # C1 = k(ζ1), T1 = k1 ⊗ C1\n",
    "    # and we solve Hilbert 90 in T1\n",
    "    f1 = factor(R(cyclotomic_polynomial(m)))[0][0]\n",
    "    C1 = k.extension(f1, \"t\")\n",
    "    T1 = k1.extension(f1, \"t\")\n",
    "    a1 = hilbert90(k1, C1, T1)\n",
    "    \n",
    "    # After that we find a compatible polynomial f2 defining our root of unity ζ2\n",
    "    f1xy = Rxy(f1)\n",
    "    res = f1xy.resultant(y^(n/m)-x, x)\n",
    "    P = gcd(R(res.polynomial(y).list()), R(cyclotomic_polynomial(n)))\n",
    "    f2 = factor(P)[0][0]\n",
    "    \n",
    "    # We create the spaces relative to k2 and ζ2\n",
    "    # and solve Hilbert 90 in T2 = k2 ⊗ k(ζ2)\n",
    "    C2 = k.extension(f2, \"t\")\n",
    "    T2 = k2.extension(f2, \"t\")\n",
    "    a2 = hilbert90(k2, C2, T2)\n",
    "    \n",
    "    \n",
    "    # We then coerce a1^m, which lives in T1, in C2 = k(ζ2) using\n",
    "    # the embedding ζ1 |-> ζ2^(n/m) to see k(ζ1) in k(ζ2)\n",
    "    b1 = C2([k(x) for x in (a1^m).list()]).polynomial().subs(C2.gen()^(n/m))\n",
    "    \n",
    "    # We coerce a2^n, which lives in T2, in C2 = k(ζ2)\n",
    "    b2 = C2([k(x) for x in (a2^n).list()])\n",
    "    \n",
    "    # We compute an m-th root of b1/b2 = a1^m/a2^n\n",
    "    c = (b1*b2^(-1)).nth_root(m)\n",
    "    \n",
    "    # And we finally return the first coefficient of a1 and c × a2 in\n",
    "    # the base (1 ⊗ ζ2^(n/m)) \n",
    "    \n",
    "    return a1.list()[0], change_basis(T2(c)*a2^(n/m), T2.gen()^(n/m), C1.degree())\n",
    "\n",
    "\"\"\"\n",
    "Compute the matrix whose columns are the powers of a form a^0 to a^(n-1).\n",
    "\"\"\"\n",
    "def basis_matrix(a, n = None):\n",
    "    K = a.parent()\n",
    "    m = K.degree()\n",
    "    \n",
    "    if n == None:\n",
    "        n = m\n",
    "    \n",
    "    k = K.prime_subfield()\n",
    "    S = MatrixSpace(k, m, n)()\n",
    "    for j in range(n):\n",
    "        L = (a^j).polynomial().list()\n",
    "        i = 0\n",
    "        for l in L:\n",
    "            S[i, j] = l\n",
    "            i += 1\n",
    "    return S\n",
    "\n",
    "def fflist(x):\n",
    "    L = x.polynomial().list()\n",
    "    l = len(L)\n",
    "    k = x.parent()\n",
    "    d = k.degree()\n",
    "    if l < d:\n",
    "        L += (d-l)*[k()]\n",
    "        \n",
    "    return L\n",
    "\n",
    "\"\"\"\n",
    "Compute the linear map φ: a|-> b sending a to b.\n",
    "\"\"\"\n",
    "def compute_map(a, b):\n",
    "    \n",
    "    A = basis_matrix(a)\n",
    "    B = basis_matrix(b, a.parent().degree())\n",
    "    C = B*A^(-1)\n",
    "    \n",
    "    K = b.parent()\n",
    "    k = K.prime_subfield()\n",
    "    S = MatrixSpace(k, a.parent().degree(), 1)\n",
    "\n",
    "    return lambda x : K((C*S(fflist(x))).column(0))\n",
    "\n",
    "def compute_embedding_no_cond(K1, K2):\n",
    "    \n",
    "    a1 = K1.hilbert_gen()\n",
    "    a2 = K2.hilbert_gen()\n",
    "    k1, k2 = K1.field(), K2.field()\n",
    "    k = k1.prime_subfield()\n",
    "    m, n = k1.degree(), k2.degree()\n",
    "    C1 = k.extension(K1.root(), \"t\")\n",
    "    C2 = k.extension(K2.root(), \"t\")\n",
    "    T2 = a2.parent()\n",
    "       \n",
    "    b1 = C2([k(x) for x in (a1^m).list()]).polynomial().subs(C2.gen()^(n/m))\n",
    "    b2 = C2([k(x) for x in (a2^n).list()])\n",
    "    c = (b1*b2^(-1)).nth_root(m)\n",
    "    \n",
    "    a, b = a1.list()[0], change_basis(T2(c)*a2^(n/m), T2.gen()^(n/m), C1.degree())\n",
    "    f = compute_map(a, b)\n",
    "    return embedding(c, f)\n",
    "\n",
    "def compute_embedding_compatible(K1, K2, f01, f02, K0):\n",
    "    \n",
    "    a1 = K1.hilbert_gen()\n",
    "    a2 = K2.hilbert_gen()\n",
    "    k1, k2 = K1.field(), K2.field()\n",
    "    k = k1.prime_subfield()\n",
    "    l, m, n = K0.field().degree(), k1.degree(), k2.degree()\n",
    "    C1 = k.extension(K1.root(), \"t\")\n",
    "    C2 = k.extension(K2.root(), \"t\")\n",
    "    T2 = a2.parent()\n",
    "       \n",
    "    b1 = C2([k(x) for x in (a1^m).list()]).polynomial().subs(C2.gen()^(n/m))\n",
    "    b2 = C2([k(x) for x in (a2^n).list()])\n",
    "    e = (b1*b2^(-1)).nth_root(m)\n",
    "    c, d = f01.constant().polynomial().subs(C2.gen()^(n/m)), f02.constant()\n",
    "    \n",
    "    zeta = (e^(m/l)*c*d^(-1)).nth_root(m/l)\n",
    "    e = e*zeta^(-1)\n",
    "    \n",
    "    a, b = a1.list()[0], change_basis(T2(e)*a2^(n/m), T2.gen()^(n/m), C1.degree())\n",
    "    f = compute_map(a, b)\n",
    "    return embedding(e, f)"
   ]
  },
  {
   "cell_type": "code",
   "execution_count": null,
   "metadata": {
    "collapsed": false
   },
   "outputs": [],
   "source": []
  },
  {
   "cell_type": "code",
   "execution_count": null,
   "metadata": {
    "collapsed": true,
    "deletable": true,
    "editable": true
   },
   "outputs": [],
   "source": []
  },
  {
   "cell_type": "code",
   "execution_count": 5,
   "metadata": {
    "collapsed": false,
    "deletable": true,
    "editable": true
   },
   "outputs": [],
   "source": [
    "p = 5\n",
    "k = GF(p)\n",
    "k12 = GF(p^12)\n",
    "k24 = GF(p^24)\n",
    "k48 = GF(p^48)"
   ]
  },
  {
   "cell_type": "code",
   "execution_count": 4,
   "metadata": {
    "collapsed": false,
    "deletable": true,
    "editable": true
   },
   "outputs": [
    {
     "data": {
      "text/plain": [
       "True"
      ]
     },
     "execution_count": 4,
     "metadata": {},
     "output_type": "execute_result"
    }
   ],
   "source": [
    "a, b = allombert_gens(k12, k48)\n",
    "a.minpoly() == b.minpoly()"
   ]
  },
  {
   "cell_type": "code",
   "execution_count": 6,
   "metadata": {
    "collapsed": true,
    "deletable": true,
    "editable": true
   },
   "outputs": [],
   "source": [
    "K12 = ffembed(k12)\n",
    "K24 = ffembed(k24)\n",
    "K48 = ffembed(k48)"
   ]
  },
  {
   "cell_type": "code",
   "execution_count": 14,
   "metadata": {
    "collapsed": false,
    "deletable": true,
    "editable": true
   },
   "outputs": [],
   "source": [
    "compute_root_no_cond(K12)\n",
    "compute_root_compatible1(K48, K12)\n",
    "f = compute_embedding_no_cond(K12, K48)\n",
    "compute_root_compatible2(K24, K48)\n",
    "g = compute_embedding_no_cond(K12, K24)\n",
    "h = compute_embedding_compatible(K24, K48, g, f, K12)\n",
    "hh = compute_embedding_no_cond(K24, K48)"
   ]
  },
  {
   "cell_type": "code",
   "execution_count": 11,
   "metadata": {
    "collapsed": false,
    "deletable": true,
    "editable": true
   },
   "outputs": [],
   "source": [
    "compute_root(K12)\n",
    "compute_root(K48, K12)\n",
    "f = compute_embedding_no_cond(K12, K48)\n",
    "compute_root(K24, K48)\n",
    "g = compute_embedding_no_cond(K12, K24)\n",
    "h = compute_embedding_compatible(K24, K48, g, f, K12)\n",
    "hh = compute_embedding_no_cond(K24, K48)"
   ]
  },
  {
   "cell_type": "code",
   "execution_count": 12,
   "metadata": {
    "collapsed": false,
    "deletable": true,
    "editable": true
   },
   "outputs": [
    {
     "data": {
      "text/plain": [
       "z12"
      ]
     },
     "execution_count": 12,
     "metadata": {},
     "output_type": "execute_result"
    }
   ],
   "source": [
    "z = k12.gen(); z"
   ]
  },
  {
   "cell_type": "code",
   "execution_count": 13,
   "metadata": {
    "collapsed": false,
    "deletable": true,
    "editable": true
   },
   "outputs": [
    {
     "data": {
      "text/plain": [
       "True"
      ]
     },
     "execution_count": 13,
     "metadata": {},
     "output_type": "execute_result"
    }
   ],
   "source": [
    "f(z) == h(g(z))"
   ]
  },
  {
   "cell_type": "code",
   "execution_count": 14,
   "metadata": {
    "collapsed": false,
    "deletable": true,
    "editable": true
   },
   "outputs": [
    {
     "data": {
      "text/plain": [
       "False"
      ]
     },
     "execution_count": 14,
     "metadata": {},
     "output_type": "execute_result"
    }
   ],
   "source": [
    "f(z) == hh(g(z))"
   ]
  },
  {
   "cell_type": "markdown",
   "metadata": {},
   "source": [
    "# Another case : losange"
   ]
  },
  {
   "cell_type": "code",
   "execution_count": 15,
   "metadata": {
    "collapsed": false,
    "deletable": true,
    "editable": true
   },
   "outputs": [],
   "source": [
    "k7 = GF(p^7)\n",
    "k21 = GF(p^21)\n",
    "k14 = GF(p^14)\n",
    "k42 = GF(p^42)\n",
    "\n",
    "K7 = ffembed(k7)\n",
    "K14 = ffembed(k14)\n",
    "K21 = ffembed(k21)\n",
    "K42 = ffembed(k42)"
   ]
  },
  {
   "cell_type": "code",
   "execution_count": 26,
   "metadata": {
    "collapsed": true,
    "deletable": true,
    "editable": true
   },
   "outputs": [],
   "source": [
    "compute_root(K14)\n",
    "compute_root(K21)\n",
    "compute_root(K42, [K14, K21])"
   ]
  },
  {
   "cell_type": "code",
   "execution_count": 31,
   "metadata": {
    "collapsed": true,
    "deletable": true,
    "editable": true
   },
   "outputs": [],
   "source": [
    "C.<t> = k.extension(K42.root(), \"t\")"
   ]
  },
  {
   "cell_type": "code",
   "execution_count": 32,
   "metadata": {
    "collapsed": false,
    "deletable": true,
    "editable": true
   },
   "outputs": [
    {
     "data": {
      "text/plain": [
       "True"
      ]
     },
     "execution_count": 32,
     "metadata": {},
     "output_type": "execute_result"
    }
   ],
   "source": [
    "(t^2).minpoly() == K21.root()"
   ]
  },
  {
   "cell_type": "code",
   "execution_count": 33,
   "metadata": {
    "collapsed": false,
    "deletable": true,
    "editable": true
   },
   "outputs": [
    {
     "data": {
      "text/plain": [
       "True"
      ]
     },
     "execution_count": 33,
     "metadata": {},
     "output_type": "execute_result"
    }
   ],
   "source": [
    "(t^3).minpoly() == K14.root()"
   ]
  },
  {
   "cell_type": "markdown",
   "metadata": {
    "collapsed": true,
    "deletable": true,
    "editable": true
   },
   "source": [
    "# Tests"
   ]
  },
  {
   "cell_type": "code",
   "execution_count": null,
   "metadata": {
    "collapsed": true
   },
   "outputs": [],
   "source": []
  }
 ],
 "metadata": {
  "kernelspec": {
   "display_name": "SageMath 8.1",
   "language": "",
   "name": "sagemath"
  },
  "language_info": {
   "codemirror_mode": {
    "name": "ipython",
    "version": 2
   },
   "file_extension": ".py",
   "mimetype": "text/x-python",
   "name": "python",
   "nbconvert_exporter": "python",
   "pygments_lexer": "ipython2",
   "version": "2.7.14"
  }
 },
 "nbformat": 4,
 "nbformat_minor": 2
}
