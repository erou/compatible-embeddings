{
 "cells": [
  {
   "cell_type": "code",
   "execution_count": 1,
   "metadata": {
    "collapsed": true,
    "deletable": true,
    "editable": true
   },
   "outputs": [],
   "source": [
    "def ext_scalars(k, n):\n",
    "    q = k.order()\n",
    "    assert gcd(n, q) == 1, \"Only multiplicative H90, please!\"\n",
    "    \n",
    "    phi = cyclotomic_polynomial(n, 'z').change_ring(k)\n",
    "    \n",
    "    K = k.extension(n, 'x')\n",
    "    A = K['z']\n",
    "    h = A(phi.factor()[0][0])\n",
    "    \n",
    "    return K, A.quo(h, 'z')"
   ]
  },
  {
   "cell_type": "code",
   "execution_count": 2,
   "metadata": {
    "collapsed": true,
    "deletable": true,
    "editable": true
   },
   "outputs": [],
   "source": [
    "def frob_l(a, i=1):\n",
    "    A = a.parent()\n",
    "    q = a.base_ring().base_ring().order()\n",
    "    return A(list(c^(q^i) for c in a))"
   ]
  },
  {
   "cell_type": "code",
   "execution_count": 3,
   "metadata": {
    "collapsed": true,
    "deletable": true,
    "editable": true
   },
   "outputs": [],
   "source": [
    "def frob_r(a, i=1):\n",
    "    A = a.parent()\n",
    "    z = A.gen()\n",
    "    q = a.base_ring().base_ring().order()\n",
    "    return sum(c*z^(j*q^i) for j, c in enumerate(a))"
   ]
  },
  {
   "cell_type": "code",
   "execution_count": 4,
   "metadata": {
    "collapsed": true,
    "deletable": true,
    "editable": true
   },
   "outputs": [],
   "source": [
    "def is_h90(a, zeta):\n",
    "    return frob_l(a) == zeta * a"
   ]
  },
  {
   "cell_type": "code",
   "execution_count": 5,
   "metadata": {
    "collapsed": true,
    "deletable": true,
    "editable": true
   },
   "outputs": [],
   "source": [
    "def solve_h90(A):\n",
    "    x = A(1)\n",
    "    n = A.base_ring().degree()\n",
    "    z = A.gen()\n",
    "    while not is_h90(x, z):\n",
    "        x = A.random_element()\n",
    "        x = sum(frob_l(x, i)*z^-i for i in range(n))\n",
    "    return x"
   ]
  },
  {
   "cell_type": "code",
   "execution_count": 6,
   "metadata": {
    "collapsed": false,
    "deletable": true,
    "editable": true
   },
   "outputs": [
    {
     "ename": "NameError",
     "evalue": "name 'rnorm' is not defined",
     "output_type": "error",
     "traceback": [
      "\u001b[1;31m---------------------------------------------------------------------------\u001b[0m",
      "\u001b[1;31mNameError\u001b[0m                                 Traceback (most recent call last)",
      "\u001b[1;32m<ipython-input-6-feb20ab5ca45>\u001b[0m in \u001b[0;36m<module>\u001b[1;34m()\u001b[0m\n\u001b[0;32m      3\u001b[0m \u001b[0mh\u001b[0m \u001b[1;33m=\u001b[0m \u001b[0msolve_h90\u001b[0m\u001b[1;33m(\u001b[0m\u001b[0mA\u001b[0m\u001b[1;33m)\u001b[0m\u001b[1;33m\u001b[0m\u001b[0m\n\u001b[0;32m      4\u001b[0m \u001b[0mu\u001b[0m \u001b[1;33m=\u001b[0m \u001b[0mh\u001b[0m\u001b[1;33m*\u001b[0m\u001b[0mfrob_r\u001b[0m\u001b[1;33m(\u001b[0m\u001b[0mh\u001b[0m\u001b[1;33m)\u001b[0m\u001b[1;33m*\u001b[0m\u001b[0mfrob_r\u001b[0m\u001b[1;33m(\u001b[0m\u001b[0mh\u001b[0m\u001b[1;33m,\u001b[0m \u001b[0mInteger\u001b[0m\u001b[1;33m(\u001b[0m\u001b[1;36m2\u001b[0m\u001b[1;33m)\u001b[0m\u001b[1;33m)\u001b[0m\u001b[1;33m\u001b[0m\u001b[0m\n\u001b[1;32m----> 5\u001b[1;33m \u001b[0mv\u001b[0m \u001b[1;33m=\u001b[0m \u001b[0mrnorm\u001b[0m\u001b[1;33m(\u001b[0m\u001b[0mh\u001b[0m\u001b[1;33m,\u001b[0m \u001b[0mInteger\u001b[0m\u001b[1;33m(\u001b[0m\u001b[1;36m3\u001b[0m\u001b[1;33m)\u001b[0m\u001b[1;33m)\u001b[0m\u001b[1;33m\u001b[0m\u001b[0m\n\u001b[0m\u001b[0;32m      6\u001b[0m \u001b[0mis_h90\u001b[0m\u001b[1;33m(\u001b[0m\u001b[0mu\u001b[0m\u001b[1;33m,\u001b[0m \u001b[0mA\u001b[0m\u001b[1;33m.\u001b[0m\u001b[0mgen\u001b[0m\u001b[1;33m(\u001b[0m\u001b[1;33m)\u001b[0m\u001b[1;33m**\u001b[0m\u001b[0mInteger\u001b[0m\u001b[1;33m(\u001b[0m\u001b[1;36m3\u001b[0m\u001b[1;33m)\u001b[0m\u001b[1;33m)\u001b[0m\u001b[1;33m,\u001b[0m \u001b[0mfrob_l\u001b[0m\u001b[1;33m(\u001b[0m\u001b[0mu\u001b[0m\u001b[1;33m,\u001b[0m \u001b[0mInteger\u001b[0m\u001b[1;33m(\u001b[0m\u001b[1;36m3\u001b[0m\u001b[1;33m)\u001b[0m\u001b[1;33m)\u001b[0m \u001b[1;33m==\u001b[0m \u001b[0mu\u001b[0m\u001b[1;33m,\u001b[0m \u001b[0mu\u001b[0m \u001b[1;33m==\u001b[0m \u001b[0mv\u001b[0m\u001b[1;33m\u001b[0m\u001b[0m\n",
      "\u001b[1;31mNameError\u001b[0m: name 'rnorm' is not defined"
     ]
    }
   ],
   "source": [
    "K, A = ext_scalars(GF(7), 9)  # 1 = r₁ < r₂ = 2\n",
    "a = A.random_element()\n",
    "h = solve_h90(A)\n",
    "u = h*frob_r(h)*frob_r(h, 2)\n",
    "v = rnorm(h, 3)\n",
    "is_h90(u, A.gen()^3), frob_l(u, 3) == u, u == v"
   ]
  },
  {
   "cell_type": "code",
   "execution_count": 29,
   "metadata": {
    "collapsed": false,
    "deletable": true,
    "editable": true
   },
   "outputs": [
    {
     "name": "stdout",
     "output_type": "stream",
     "text": [
      "9 3 1 1 1\n"
     ]
    },
    {
     "data": {
      "text/plain": [
       "(True, True, False)"
      ]
     },
     "execution_count": 29,
     "metadata": {},
     "output_type": "execute_result"
    }
   ],
   "source": [
    "K, A = ext_scalars(GF(19), 9)  # 1 = r₁ = r₂\n",
    "a = A.random_element()\n",
    "h = solve_h90(A)\n",
    "u = h*frob_r(h)*frob_r(h, 2)\n",
    "v = rnorm(h, 3)\n",
    "is_h90(u, A.gen()^3), frob_l(u, 3) == u, u == v"
   ]
  },
  {
   "cell_type": "code",
   "execution_count": 41,
   "metadata": {
    "collapsed": false,
    "deletable": true,
    "editable": true
   },
   "outputs": [
    {
     "name": "stdout",
     "output_type": "stream",
     "text": [
      "15 3 4 1 4\n"
     ]
    },
    {
     "data": {
      "text/plain": [
       "(True, True, True)"
      ]
     },
     "execution_count": 41,
     "metadata": {},
     "output_type": "execute_result"
    }
   ],
   "source": [
    "K, A = ext_scalars(GF(7), 15)\n",
    "a = A.random_element()\n",
    "h = solve_h90(A)\n",
    "u = h*frob_r(h, 1)*frob_r(h, 2)*frob_r(h, 3)\n",
    "v = rnorm(h, 3)\n",
    "is_h90(u, A.gen()^10), frob_r(u, 3) == u, u == v"
   ]
  },
  {
   "cell_type": "code",
   "execution_count": 46,
   "metadata": {
    "collapsed": false,
    "deletable": true,
    "editable": true
   },
   "outputs": [
    {
     "name": "stdout",
     "output_type": "stream",
     "text": [
      "15 5 4 4 1\n"
     ]
    },
    {
     "data": {
      "text/plain": [
       "(True, True, False, True, False, True)"
      ]
     },
     "execution_count": 46,
     "metadata": {},
     "output_type": "execute_result"
    }
   ],
   "source": [
    "K, A = ext_scalars(GF(7), 15)\n",
    "a = A.random_element()\n",
    "h = solve_h90(A)\n",
    "u = h*frob_r(h, 4)*frob_r(h, 8)\n",
    "v = rnorm(h, 5)\n",
    "is_h90(u, A.gen()^3), frob_r(u, 4) == u, is_h90(v, A.gen()^3), frob_r(v, 4) == v, u == v, u == h^3"
   ]
  },
  {
   "cell_type": "code",
   "execution_count": 100,
   "metadata": {
    "collapsed": false,
    "deletable": true,
    "editable": true
   },
   "outputs": [
    {
     "data": {
      "text/plain": [
       "(False, False)"
      ]
     },
     "execution_count": 100,
     "metadata": {},
     "output_type": "execute_result"
    }
   ],
   "source": [
    "K, A = ext_scalars(GF(19), 15)\n",
    "a = A.random_element()\n",
    "h = solve_h90(A)\n",
    "u = h*frob_r(h, 1)\n",
    "is_h90(u, A.gen()^5), frob_l(u, 3) == u"
   ]
  },
  {
   "cell_type": "markdown",
   "metadata": {
    "deletable": true,
    "editable": true
   },
   "source": [
    "# More tests"
   ]
  },
  {
   "cell_type": "code",
   "execution_count": 19,
   "metadata": {
    "collapsed": false,
    "deletable": true,
    "editable": true
   },
   "outputs": [
    {
     "data": {
      "text/plain": [
       "(True, False, False)"
      ]
     },
     "execution_count": 19,
     "metadata": {},
     "output_type": "execute_result"
    }
   ],
   "source": [
    "K, A = ext_scalars(GF(19), 21)\n",
    "a = A.random_element()\n",
    "h = solve_h90(A)\n",
    "#u = h*frob_r(h, 1)*frob_r(h, 2)*frob_r(h, 3)*frob_r(h, 4)*frob_r(h, 5)\n",
    "u = h^7\n",
    "v = rnorm(h, 3)\n",
    "is_h90(u, A.gen()^7), frob_r(u, 21) == u, u == v"
   ]
  },
  {
   "cell_type": "code",
   "execution_count": 17,
   "metadata": {
    "collapsed": false,
    "deletable": true,
    "editable": true
   },
   "outputs": [
    {
     "data": {
      "text/plain": [
       "6"
      ]
     },
     "execution_count": 17,
     "metadata": {},
     "output_type": "execute_result"
    }
   ],
   "source": [
    "cyclo_deg(GF(19), 7)"
   ]
  },
  {
   "cell_type": "code",
   "execution_count": 6,
   "metadata": {
    "collapsed": false,
    "deletable": true,
    "editable": true
   },
   "outputs": [],
   "source": [
    "def cyclo_deg(k, n):\n",
    "    return Zmod(n)(k.characteristic()).multiplicative_order()"
   ]
  },
  {
   "cell_type": "code",
   "execution_count": 91,
   "metadata": {
    "collapsed": false,
    "deletable": true,
    "editable": true
   },
   "outputs": [],
   "source": [
    "def rnorm(a, m):\n",
    "    A = a.parent()\n",
    "    n = A.base_ring().degree()\n",
    "    r = A.degree()\n",
    "    q = A.base_ring().base_ring().order()\n",
    "    s = cyclo_deg(GF(q), m)\n",
    "    d = n // m\n",
    "    \n",
    "#    print n, m, r, s, d\n",
    "    return product(frob_r(a, s*j) for j in range(d))"
   ]
  },
  {
   "cell_type": "code",
   "execution_count": 19,
   "metadata": {
    "collapsed": false,
    "deletable": true,
    "editable": true
   },
   "outputs": [],
   "source": [
    "def toto(k, m, n):\n",
    "    q = k.order()\n",
    "    r = cyclo_deg(k, m)\n",
    "    s = cyclo_deg(k, n)\n",
    "    t = (q^s-1)//(q^r-1)\n",
    "    return t, gcd(t, n), n//m\n",
    "\n",
    "def change_basis(elem, basis, d2):\n",
    "    \n",
    "    k = elem.base_ring()\n",
    "    d1 = elem.parent().degree()\n",
    "    A = MatrixSpace(k, d1, d2)()\n",
    "    \n",
    "    for i in range(d2):\n",
    "        L = (basis^i).list()\n",
    "        for j in range(d1):\n",
    "            A[j,i] = L[j]\n",
    "            \n",
    "    S2 = MatrixSpace(k, d1, 1)\n",
    "    B = S2(elem.list())\n",
    "    X = A.solve_right(B)\n",
    "    \n",
    "    return X[0,0]"
   ]
  },
  {
   "cell_type": "code",
   "execution_count": 37,
   "metadata": {
    "collapsed": false,
    "deletable": true,
    "editable": true
   },
   "outputs": [
    {
     "name": "stdout",
     "output_type": "stream",
     "text": [
      "(7, 7)\n",
      "(7, 7)\n",
      "(7, 7)\n",
      "(7, 7)\n",
      "(7, 7)\n",
      "(7, 7)\n",
      "(7, 7)\n"
     ]
    }
   ],
   "source": [
    "for j in range(1, 8):\n",
    "    print toto(GF(29), 7^j, 7^(j+1))"
   ]
  },
  {
   "cell_type": "code",
   "execution_count": 16,
   "metadata": {
    "collapsed": false,
    "deletable": true,
    "editable": true,
    "scrolled": false
   },
   "outputs": [
    {
     "name": "stdout",
     "output_type": "stream",
     "text": [
      "(3, 3, 3)\n",
      "(3, 3, 3)\n",
      "(3, 3, 3)\n",
      "(3, 3, 3)\n",
      "(3, 3, 3)\n",
      "(3, 3, 3)\n",
      "(3, 3, 3)\n",
      "(3, 3, 3)\n",
      "(3, 3, 3)\n",
      "(3, 3, 3)\n",
      "(3, 3, 3)\n",
      "(3, 3, 3)\n",
      "(3, 3, 3)\n",
      "(3, 3, 3)\n",
      "(3, 3, 3)\n",
      "(3, 3, 3)\n",
      "(3, 3, 3)\n",
      "(3, 3, 3)\n",
      "(3, 3, 3)\n",
      "(3, 3, 3)\n",
      "(3, 3, 3)\n",
      "(3, 3, 3)\n",
      "(3, 3, 3)\n"
     ]
    }
   ],
   "source": [
    "for p in primes(5, 100):\n",
    "    print toto(GF(p), 3^3, 3^4)"
   ]
  },
  {
   "cell_type": "code",
   "execution_count": 15,
   "metadata": {
    "collapsed": true,
    "deletable": true,
    "editable": true
   },
   "outputs": [],
   "source": [
    "primes?"
   ]
  },
  {
   "cell_type": "markdown",
   "metadata": {
    "deletable": true,
    "editable": true
   },
   "source": [
    "# An $\\ell$-adic tower"
   ]
  },
  {
   "cell_type": "code",
   "execution_count": 10,
   "metadata": {
    "collapsed": false,
    "deletable": true,
    "editable": true
   },
   "outputs": [
    {
     "data": {
      "text/plain": [
       "2"
      ]
     },
     "execution_count": 10,
     "metadata": {},
     "output_type": "execute_result"
    }
   ],
   "source": [
    "p = 17\n",
    "l = 3\n",
    "cyclo_deg(GF(p), l^2)"
   ]
  },
  {
   "cell_type": "code",
   "execution_count": 11,
   "metadata": {
    "collapsed": false,
    "deletable": true,
    "editable": true
   },
   "outputs": [],
   "source": [
    "k = GF(p)\n",
    "R.<x> = k[]"
   ]
  },
  {
   "cell_type": "code",
   "execution_count": 57,
   "metadata": {
    "collapsed": false,
    "deletable": true,
    "editable": true
   },
   "outputs": [
    {
     "data": {
      "text/plain": [
       "(x^2 + 3*x + 1) * (x^2 + 4*x + 1) * (x^2 + 10*x + 1)"
      ]
     },
     "execution_count": 57,
     "metadata": {},
     "output_type": "execute_result"
    }
   ],
   "source": [
    "f = factor(R(cyclotomic_polynomial(l^2))); f"
   ]
  },
  {
   "cell_type": "code",
   "execution_count": 25,
   "metadata": {
    "collapsed": false,
    "deletable": true,
    "editable": true
   },
   "outputs": [
    {
     "data": {
      "text/plain": [
       "(x^6 + 3*x^3 + 1) * (x^6 + 4*x^3 + 1) * (x^6 + 10*x^3 + 1)"
      ]
     },
     "execution_count": 25,
     "metadata": {},
     "output_type": "execute_result"
    }
   ],
   "source": [
    "factor(R(cyclotomic_polynomial(l^3)))"
   ]
  },
  {
   "cell_type": "code",
   "execution_count": 29,
   "metadata": {
    "collapsed": false,
    "deletable": true,
    "editable": true
   },
   "outputs": [
    {
     "data": {
      "text/plain": [
       "x^6 + 3*x^3 + 1"
      ]
     },
     "execution_count": 29,
     "metadata": {},
     "output_type": "execute_result"
    }
   ],
   "source": [
    "g = gcd(f.substitute(x^l), R(cyclotomic_polynomial(l^3))); g"
   ]
  },
  {
   "cell_type": "code",
   "execution_count": 30,
   "metadata": {
    "collapsed": true,
    "deletable": true,
    "editable": true
   },
   "outputs": [],
   "source": [
    "K.<z> = k.extension(g)"
   ]
  },
  {
   "cell_type": "code",
   "execution_count": 31,
   "metadata": {
    "collapsed": false,
    "deletable": true,
    "editable": true
   },
   "outputs": [
    {
     "data": {
      "text/plain": [
       "x^2 + 3*x + 1"
      ]
     },
     "execution_count": 31,
     "metadata": {},
     "output_type": "execute_result"
    }
   ],
   "source": [
    "(z^l).minpoly()"
   ]
  },
  {
   "cell_type": "code",
   "execution_count": 39,
   "metadata": {
    "collapsed": false,
    "deletable": true,
    "editable": true
   },
   "outputs": [
    {
     "data": {
      "text/plain": [
       "x^2 + 3*x + 1"
      ]
     },
     "execution_count": 39,
     "metadata": {},
     "output_type": "execute_result"
    }
   ],
   "source": [
    "(z^((p^6-1)/(p^2-1))).minpoly()"
   ]
  },
  {
   "cell_type": "code",
   "execution_count": 40,
   "metadata": {
    "collapsed": false,
    "deletable": true,
    "editable": true
   },
   "outputs": [
    {
     "data": {
      "text/plain": [
       "True"
      ]
     },
     "execution_count": 40,
     "metadata": {},
     "output_type": "execute_result"
    }
   ],
   "source": [
    "(z^((p^6-1)/(p^2-1))) == (z^l)"
   ]
  },
  {
   "cell_type": "code",
   "execution_count": 12,
   "metadata": {
    "collapsed": false,
    "deletable": true,
    "editable": true
   },
   "outputs": [],
   "source": [
    "K, A = ext_scalars(GF(p), 3^2)"
   ]
  },
  {
   "cell_type": "code",
   "execution_count": 16,
   "metadata": {
    "collapsed": false,
    "deletable": true,
    "editable": true
   },
   "outputs": [
    {
     "data": {
      "text/plain": [
       "Univariate Polynomial Ring in z over Finite Field in x of size 17^9"
      ]
     },
     "execution_count": 16,
     "metadata": {},
     "output_type": "execute_result"
    }
   ],
   "source": [
    "A.modulus().parent()"
   ]
  },
  {
   "cell_type": "code",
   "execution_count": 67,
   "metadata": {
    "collapsed": false,
    "deletable": true,
    "editable": true
   },
   "outputs": [
    {
     "data": {
      "text/plain": [
       "x^6 + 3*x^3 + 1"
      ]
     },
     "execution_count": 67,
     "metadata": {},
     "output_type": "execute_result"
    }
   ],
   "source": [
    "g = gcd(A.modulus().substitute(x^l), R(cyclotomic_polynomial(l^3))); g"
   ]
  },
  {
   "cell_type": "code",
   "execution_count": 68,
   "metadata": {
    "collapsed": false,
    "deletable": true,
    "editable": true
   },
   "outputs": [
    {
     "data": {
      "text/plain": [
       "(15*x^8 + 2*x^7 + 9*x^6 + 11*x^5 + 8*x^4 + 16*x^3 + 14*x^2 + 10*x + 8)*z + 9*x^8 + 14*x^7 + 5*x^6 + 14*x^5 + 12*x^3 + 4*x^2 + 8"
      ]
     },
     "execution_count": 68,
     "metadata": {},
     "output_type": "execute_result"
    }
   ],
   "source": [
    "h = solve_h90(A); h"
   ]
  },
  {
   "cell_type": "code",
   "execution_count": 74,
   "metadata": {
    "collapsed": false,
    "deletable": true,
    "editable": true
   },
   "outputs": [
    {
     "data": {
      "text/plain": [
       "Finite Field in z4 of size 17^4"
      ]
     },
     "execution_count": 74,
     "metadata": {},
     "output_type": "execute_result"
    }
   ],
   "source": []
  },
  {
   "cell_type": "code",
   "execution_count": 78,
   "metadata": {
    "collapsed": false,
    "deletable": true,
    "editable": true
   },
   "outputs": [],
   "source": [
    "k3 = k.extension(l^3)"
   ]
  },
  {
   "cell_type": "code",
   "execution_count": 83,
   "metadata": {
    "collapsed": true,
    "deletable": true,
    "editable": true
   },
   "outputs": [],
   "source": [
    "R3 = k3['x']"
   ]
  },
  {
   "cell_type": "code",
   "execution_count": 89,
   "metadata": {
    "collapsed": false,
    "deletable": true,
    "editable": true
   },
   "outputs": [
    {
     "data": {
      "text/plain": [
       "x^6 + 3*x^3 + 1"
      ]
     },
     "execution_count": 89,
     "metadata": {},
     "output_type": "execute_result"
    }
   ],
   "source": [
    "g = gcd(A.modulus().change_ring(R3).substitute(R3.gen()^l), R3(cyclotomic_polynomial(l^3))); g"
   ]
  },
  {
   "cell_type": "code",
   "execution_count": 92,
   "metadata": {
    "collapsed": false,
    "deletable": true,
    "editable": true
   },
   "outputs": [],
   "source": [
    "A3 = R3.quo(g, 'z')"
   ]
  },
  {
   "cell_type": "code",
   "execution_count": 94,
   "metadata": {
    "collapsed": false,
    "deletable": true,
    "editable": true
   },
   "outputs": [
    {
     "data": {
      "text/plain": [
       "(9*z27^26 + 12*z27^25 + 12*z27^24 + 9*z27^23 + 4*z27^22 + 8*z27^21 + 14*z27^20 + 15*z27^19 + 7*z27^18 + z27^17 + 13*z27^16 + 9*z27^15 + 5*z27^14 + 6*z27^13 + 15*z27^12 + 8*z27^11 + 4*z27^10 + 5*z27^9 + 10*z27^8 + 13*z27^7 + 6*z27^5 + 10*z27^4 + 2*z27^3 + 10*z27^2 + 12*z27 + 8)*z^5 + (14*z27^26 + 12*z27^25 + 6*z27^24 + 16*z27^23 + 5*z27^22 + 9*z27^21 + 2*z27^20 + 7*z27^19 + 4*z27^18 + 4*z27^17 + 5*z27^16 + 13*z27^15 + z27^14 + 5*z27^13 + 2*z27^12 + 9*z27^11 + 9*z27^10 + 15*z27^9 + 2*z27^8 + 8*z27^6 + 9*z27^5 + 10*z27^4 + 16*z27^3 + 10*z27^2 + 5*z27 + 9)*z^4 + (z27^26 + z27^25 + 6*z27^24 + 6*z27^23 + 9*z27^22 + 5*z27^21 + 7*z27^20 + 7*z27^19 + 16*z27^18 + 7*z27^17 + z27^16 + 11*z27^15 + 10*z27^13 + 9*z27^12 + 13*z27^11 + 11*z27^10 + 12*z27^9 + 3*z27^8 + z27^7 + 5*z27^6 + 15*z27^5 + 7*z27^4 + 13*z27^3 + 16*z27^2 + 4*z27 + 16)*z^3 + (2*z27^26 + 7*z27^25 + z27^24 + 7*z27^23 + 6*z27^22 + 9*z27^21 + 8*z27^20 + 4*z27^19 + 15*z27^18 + 8*z27^17 + z27^16 + 5*z27^15 + 2*z27^14 + 16*z27^13 + 12*z27^12 + 7*z27^11 + 3*z27^10 + 9*z27^9 + 7*z27^8 + 16*z27^7 + z27^6 + 5*z27^5 + 16*z27^4 + 5*z27^3 + 8*z27^2 + 12*z27 + 6)*z^2 + (8*z27^26 + 3*z27^24 + 4*z27^23 + 14*z27^22 + z27^21 + z27^20 + 11*z27^19 + 7*z27^18 + 11*z27^17 + 16*z27^16 + 15*z27^15 + 2*z27^13 + 8*z27^12 + 14*z27^11 + 5*z27^10 + 16*z27^9 + 6*z27^8 + 16*z27^7 + 10*z27^6 + 11*z27^5 + 12*z27^4 + 3*z27^3 + 10*z27^2 + 6*z27 + 1)*z + 3*z27^26 + 3*z27^25 + 8*z27^24 + 16*z27^23 + 2*z27^22 + 16*z27^21 + 5*z27^20 + 5*z27^19 + 2*z27^18 + z27^17 + 4*z27^16 + 14*z27^15 + 16*z27^14 + 15*z27^13 + 12*z27^12 + 11*z27^11 + 3*z27^10 + 2*z27^9 + z27^8 + 16*z27^7 + z27^6 + 13*z27^5 + 8*z27^4 + 8*z27^3 + 6*z27^2 + 2*z27 + 8"
      ]
     },
     "execution_count": 94,
     "metadata": {},
     "output_type": "execute_result"
    }
   ],
   "source": [
    "h3 = solve_h90(A3); h3"
   ]
  },
  {
   "cell_type": "code",
   "execution_count": 99,
   "metadata": {
    "collapsed": false,
    "deletable": true,
    "editable": true
   },
   "outputs": [
    {
     "name": "stdout",
     "output_type": "stream",
     "text": [
      "27 9 6 2 3\n"
     ]
    },
    {
     "data": {
      "text/plain": [
       "(12*z27^26 + 13*z27^25 + 7*z27^24 + 11*z27^23 + 10*z27^22 + 7*z27^21 + 13*z27^20 + 8*z27^19 + 12*z27^18 + z27^16 + 9*z27^15 + 4*z27^14 + 16*z27^13 + 14*z27^12 + 7*z27^11 + 15*z27^10 + 10*z27^9 + 7*z27^8 + 2*z27^7 + 10*z27^6 + 10*z27^5 + 2*z27^3 + 13*z27^2 + 8*z27 + 2)*z^3 + 4*z27^26 + 11*z27^25 + 16*z27^23 + 12*z27^22 + 9*z27^20 + 16*z27^18 + 12*z27^17 + 11*z27^16 + z27^15 + 16*z27^14 + 14*z27^13 + 15*z27^12 + 13*z27^11 + 9*z27^10 + 14*z27^8 + 13*z27^7 + 7*z27^6 + 10*z27^5 + 15*z27^4 + 12*z27^3 + 12*z27^2 + 10*z27 + 13"
      ]
     },
     "execution_count": 99,
     "metadata": {},
     "output_type": "execute_result"
    }
   ],
   "source": [
    "i3 = rnorm(h3, l^2); i3"
   ]
  },
  {
   "cell_type": "code",
   "execution_count": 102,
   "metadata": {
    "collapsed": false,
    "deletable": true,
    "editable": true
   },
   "outputs": [
    {
     "data": {
      "text/plain": [
       "(True, True)"
      ]
     },
     "execution_count": 102,
     "metadata": {},
     "output_type": "execute_result"
    }
   ],
   "source": [
    "frob_l(i3, l^2) == i3, frob_r(i3, 2) == i3"
   ]
  },
  {
   "cell_type": "code",
   "execution_count": 110,
   "metadata": {
    "collapsed": false,
    "deletable": true,
    "editable": true
   },
   "outputs": [
    {
     "data": {
      "text/plain": [
       "4*z^3 + 16"
      ]
     },
     "execution_count": 110,
     "metadata": {},
     "output_type": "execute_result"
    }
   ],
   "source": [
    "i3^(l^2)"
   ]
  },
  {
   "cell_type": "code",
   "execution_count": 119,
   "metadata": {
    "collapsed": false,
    "deletable": true,
    "editable": true
   },
   "outputs": [
    {
     "data": {
      "text/plain": [
       "z + 4"
      ]
     },
     "execution_count": 119,
     "metadata": {},
     "output_type": "execute_result"
    }
   ],
   "source": [
    "ti = (h^(l^2)); ti"
   ]
  },
  {
   "cell_type": "code",
   "execution_count": 112,
   "metadata": {
    "collapsed": false,
    "deletable": true,
    "editable": true
   },
   "outputs": [
    {
     "data": {
      "text/plain": [
       "x^2 + (10*x^8 + 12*x^7 + 5*x^5 + 7*x^4 + 7*x^3 + 13*x + 8)*x + 12"
      ]
     },
     "execution_count": 112,
     "metadata": {},
     "output_type": "execute_result"
    }
   ],
   "source": [
    "h.minpoly()"
   ]
  },
  {
   "cell_type": "code",
   "execution_count": 114,
   "metadata": {
    "collapsed": false,
    "deletable": true,
    "editable": true
   },
   "outputs": [
    {
     "data": {
      "text/plain": [
       "x^2 + (11*z27^26 + 4*z27^24 + z27^23 + 6*z27^22 + 4*z27^21 + 4*z27^20 + 7*z27^19 + 4*z27^18 + 10*z27^17 + 15*z27^16 + 8*z27^15 + 14*z27^14 + 3*z27^13 + 12*z27^12 + 12*z27^11 + 10*z27^10 + 13*z27^9 + 10*z27^8 + 14*z27^7 + 16*z27^6 + 10*z27^5 + 4*z27^4 + 16*z27^3 + 15*z27^2 + 4*z27 + 14)*x + 5"
      ]
     },
     "execution_count": 114,
     "metadata": {},
     "output_type": "execute_result"
    }
   ],
   "source": [
    "i3.minpoly()"
   ]
  },
  {
   "cell_type": "code",
   "execution_count": 126,
   "metadata": {
    "collapsed": false,
    "deletable": true,
    "editable": true
   },
   "outputs": [
    {
     "data": {
      "text/plain": [
       "z + 4"
      ]
     },
     "execution_count": 126,
     "metadata": {},
     "output_type": "execute_result"
    }
   ],
   "source": [
    "C2([k(x) for x in (i3).list()]).polynomial().subs(C2.gen()^(n/m))"
   ]
  },
  {
   "cell_type": "code",
   "execution_count": 122,
   "metadata": {
    "collapsed": false,
    "deletable": true,
    "editable": true
   },
   "outputs": [
    {
     "data": {
      "text/plain": [
       "False"
      ]
     },
     "execution_count": 122,
     "metadata": {},
     "output_type": "execute_result"
    }
   ],
   "source": [
    "h.parent() == i3.parent()"
   ]
  },
  {
   "cell_type": "code",
   "execution_count": 47,
   "metadata": {
    "collapsed": false,
    "deletable": true,
    "editable": true
   },
   "outputs": [
    {
     "ename": "NameError",
     "evalue": "name 'h' is not defined",
     "output_type": "error",
     "traceback": [
      "\u001b[1;31m---------------------------------------------------------------------------\u001b[0m",
      "\u001b[1;31mNameError\u001b[0m                                 Traceback (most recent call last)",
      "\u001b[1;32m<ipython-input-47-b11a9a14cdc9>\u001b[0m in \u001b[0;36m<module>\u001b[1;34m()\u001b[0m\n\u001b[1;32m----> 1\u001b[1;33m \u001b[0ma\u001b[0m \u001b[1;33m=\u001b[0m \u001b[0mR\u001b[0m\u001b[1;33m(\u001b[0m\u001b[1;33m[\u001b[0m\u001b[0mx\u001b[0m \u001b[1;32mfor\u001b[0m \u001b[0mx\u001b[0m \u001b[1;32min\u001b[0m \u001b[1;33m(\u001b[0m\u001b[0mh\u001b[0m\u001b[1;33m**\u001b[0m\u001b[1;33m(\u001b[0m\u001b[0ml\u001b[0m\u001b[1;33m**\u001b[0m\u001b[0mInteger\u001b[0m\u001b[1;33m(\u001b[0m\u001b[1;36m2\u001b[0m\u001b[1;33m)\u001b[0m\u001b[1;33m)\u001b[0m\u001b[1;33m)\u001b[0m\u001b[1;33m.\u001b[0m\u001b[0mlist\u001b[0m\u001b[1;33m(\u001b[0m\u001b[1;33m)\u001b[0m\u001b[1;33m]\u001b[0m\u001b[1;33m)\u001b[0m\u001b[1;33m.\u001b[0m\u001b[0msubs\u001b[0m\u001b[1;33m(\u001b[0m\u001b[0mC2\u001b[0m\u001b[1;33m.\u001b[0m\u001b[0mgen\u001b[0m\u001b[1;33m(\u001b[0m\u001b[1;33m)\u001b[0m\u001b[1;33m**\u001b[0m\u001b[0ml\u001b[0m\u001b[1;33m)\u001b[0m\u001b[1;33m;\u001b[0m \u001b[0ma\u001b[0m\u001b[1;33m\u001b[0m\u001b[0m\n\u001b[0m",
      "\u001b[1;31mNameError\u001b[0m: name 'h' is not defined"
     ]
    }
   ],
   "source": [
    "a = R([x for x in (h^(l^2)).list()]).subs(C2.gen()^l); a"
   ]
  },
  {
   "cell_type": "code",
   "execution_count": 156,
   "metadata": {
    "collapsed": false,
    "deletable": true,
    "editable": true
   },
   "outputs": [
    {
     "data": {
      "text/plain": [
       "4*z^3 + 16"
      ]
     },
     "execution_count": 156,
     "metadata": {},
     "output_type": "execute_result"
    }
   ],
   "source": [
    "b = C2([k(x) for x in (i3^(l^2)).list()]); b"
   ]
  },
  {
   "cell_type": "code",
   "execution_count": 159,
   "metadata": {
    "collapsed": false,
    "deletable": true,
    "editable": true
   },
   "outputs": [
    {
     "data": {
      "text/plain": [
       "13"
      ]
     },
     "execution_count": 159,
     "metadata": {},
     "output_type": "execute_result"
    }
   ],
   "source": [
    "t = a/b; t"
   ]
  },
  {
   "cell_type": "code",
   "execution_count": 162,
   "metadata": {
    "collapsed": false,
    "deletable": true,
    "editable": true
   },
   "outputs": [
    {
     "data": {
      "text/plain": [
       "4"
      ]
     },
     "execution_count": 162,
     "metadata": {},
     "output_type": "execute_result"
    }
   ],
   "source": [
    "rt = t.nth_root(l); rt"
   ]
  },
  {
   "cell_type": "code",
   "execution_count": 167,
   "metadata": {
    "collapsed": false,
    "deletable": true,
    "editable": true
   },
   "outputs": [
    {
     "name": "stdout",
     "output_type": "stream",
     "text": [
      "27 9 6 2 3\n"
     ]
    },
    {
     "data": {
      "text/plain": [
       "(3*z27^26 + 16*z27^25 + 6*z27^24 + 7*z27^23 + 11*z27^22 + 6*z27^21 + 16*z27^20 + 2*z27^19 + 3*z27^18 + 13*z27^16 + 15*z27^15 + z27^14 + 4*z27^13 + 12*z27^12 + 6*z27^11 + 8*z27^10 + 11*z27^9 + 6*z27^8 + 9*z27^7 + 11*z27^6 + 11*z27^5 + 9*z27^3 + 16*z27^2 + 2*z27 + 9)*z^3 + z27^26 + 7*z27^25 + 4*z27^23 + 3*z27^22 + 15*z27^20 + 4*z27^18 + 3*z27^17 + 7*z27^16 + 13*z27^15 + 4*z27^14 + 12*z27^13 + 8*z27^12 + 16*z27^11 + 15*z27^10 + 12*z27^8 + 16*z27^7 + 6*z27^6 + 11*z27^5 + 8*z27^4 + 3*z27^3 + 3*z27^2 + 11*z27 + 16"
      ]
     },
     "execution_count": 167,
     "metadata": {},
     "output_type": "execute_result"
    }
   ],
   "source": [
    "rnorm(4*h3, l^2)"
   ]
  },
  {
   "cell_type": "code",
   "execution_count": 168,
   "metadata": {
    "collapsed": false,
    "deletable": true,
    "editable": true
   },
   "outputs": [
    {
     "name": "stdout",
     "output_type": "stream",
     "text": [
      "27 9 6 2 3\n",
      "27 9 6 2 3\n"
     ]
    },
    {
     "data": {
      "text/plain": [
       "True"
      ]
     },
     "execution_count": 168,
     "metadata": {},
     "output_type": "execute_result"
    }
   ],
   "source": [
    "rnorm(4*h3, l^2) == 13*rnorm(h3, l^2)"
   ]
  },
  {
   "cell_type": "code",
   "execution_count": 9,
   "metadata": {
    "collapsed": true,
    "deletable": true,
    "editable": true
   },
   "outputs": [],
   "source": []
  },
  {
   "cell_type": "code",
   "execution_count": 173,
   "metadata": {
    "collapsed": false,
    "deletable": true,
    "editable": true
   },
   "outputs": [
    {
     "name": "stdout",
     "output_type": "stream",
     "text": [
      "27 9 6 2 3\n"
     ]
    },
    {
     "data": {
      "text/plain": [
       "z27^26 + 7*z27^25 + 4*z27^23 + 3*z27^22 + 15*z27^20 + 4*z27^18 + 3*z27^17 + 7*z27^16 + 13*z27^15 + 4*z27^14 + 12*z27^13 + 8*z27^12 + 16*z27^11 + 15*z27^10 + 12*z27^8 + 16*z27^7 + 6*z27^6 + 11*z27^5 + 8*z27^4 + 3*z27^3 + 3*z27^2 + 11*z27 + 16"
      ]
     },
     "execution_count": 173,
     "metadata": {},
     "output_type": "execute_result"
    }
   ],
   "source": [
    "elem = change_basis(rnorm(4*h3, l^2), A3.gen()^l, 2); elem"
   ]
  },
  {
   "cell_type": "code",
   "execution_count": 174,
   "metadata": {
    "collapsed": false,
    "deletable": true,
    "editable": true
   },
   "outputs": [
    {
     "data": {
      "text/plain": [
       "x^9 + 8*x^7 + 10*x^5 + 4*x^3 + 9*x + 4"
      ]
     },
     "execution_count": 174,
     "metadata": {},
     "output_type": "execute_result"
    }
   ],
   "source": [
    "elem.minpoly()"
   ]
  },
  {
   "cell_type": "code",
   "execution_count": 176,
   "metadata": {
    "collapsed": false,
    "deletable": true,
    "editable": true
   },
   "outputs": [
    {
     "data": {
      "text/plain": [
       "x^9 + 8*x^7 + 10*x^5 + 4*x^3 + 9*x + 4"
      ]
     },
     "execution_count": 176,
     "metadata": {},
     "output_type": "execute_result"
    }
   ],
   "source": [
    "h.list()[0].minpoly()"
   ]
  },
  {
   "cell_type": "markdown",
   "metadata": {
    "deletable": true,
    "editable": true
   },
   "source": [
    "# An algorithm"
   ]
  },
  {
   "cell_type": "code",
   "execution_count": 34,
   "metadata": {
    "collapsed": false,
    "deletable": true,
    "editable": true
   },
   "outputs": [],
   "source": [
    "def testl(p, l, n):\n",
    "    k = GF(p)\n",
    "    k1, A1 = ext_scalars(k, l^n)\n",
    "    M1 = A1.modulus()\n",
    "    R = k['z']\n",
    "    k2 = k.extension(l^(n+1))\n",
    "    R2 = k2['z']\n",
    "    x = R.gen()\n",
    "    M2 = gcd(A1.modulus().change_ring(k).substitute(x^l), R(cyclotomic_polynomial(l^(n+1)))).factor()[0][0]\n",
    "    A2 = R2.quo(M2, 'z')\n",
    "    h1 = solve_h90(A1)\n",
    "    h2 = solve_h90(A2)\n",
    "    i2 = rnorm(h2, l^n)\n",
    "    aa = h1^(l^n)\n",
    "    bb = i2^(l^n)\n",
    "    C = k.extension(M2, 'x')\n",
    "    \n",
    "    a = R([x for x in aa.list()]).subs(C.gen()^l)\n",
    "    b = C([k(x) for x in bb.list()])\n",
    "    \n",
    "    t = a/b\n",
    "    c = t.nth_root(l^(n+1))\n",
    "    return h1, A2(c.polynomial().list())*h2"
   ]
  },
  {
   "cell_type": "code",
   "execution_count": 96,
   "metadata": {
    "collapsed": false,
    "deletable": true,
    "editable": true
   },
   "outputs": [],
   "source": [
    "def is_iso(h1, h2):\n",
    "    l = h2.parent().degree() // h1.parent().degree()\n",
    "    i2 = rnorm(h2, h1.base_ring().degree())\n",
    "    j2 = change_basis(i2, h2.parent().gen()^l, h1.parent().degree())\n",
    "    return h1.list()[0].minpoly() == j2.minpoly()\n",
    "    "
   ]
  },
  {
   "cell_type": "code",
   "execution_count": 15,
   "metadata": {
    "collapsed": false,
    "deletable": true,
    "editable": true
   },
   "outputs": [],
   "source": [
    "p, l, n = 11, 3, 2"
   ]
  },
  {
   "cell_type": "code",
   "execution_count": 360,
   "metadata": {
    "collapsed": false,
    "deletable": true,
    "editable": true
   },
   "outputs": [
    {
     "data": {
      "text/plain": [
       "5"
      ]
     },
     "execution_count": 360,
     "metadata": {},
     "output_type": "execute_result"
    }
   ],
   "source": [
    "h1.base_ring().degree()"
   ]
  },
  {
   "cell_type": "code",
   "execution_count": 18,
   "metadata": {
    "collapsed": false,
    "deletable": true,
    "editable": true
   },
   "outputs": [
    {
     "data": {
      "text/plain": [
       "True"
      ]
     },
     "execution_count": 18,
     "metadata": {},
     "output_type": "execute_result"
    }
   ],
   "source": [
    "h1, h2 = testl(p, l, n)\n",
    "is_iso(h1, h2)"
   ]
  },
  {
   "cell_type": "code",
   "execution_count": 356,
   "metadata": {
    "collapsed": false,
    "deletable": true,
    "editable": true
   },
   "outputs": [
    {
     "data": {
      "text/plain": [
       "True"
      ]
     },
     "execution_count": 356,
     "metadata": {},
     "output_type": "execute_result"
    }
   ],
   "source": [
    "is_iso(h1, h2)"
   ]
  },
  {
   "cell_type": "code",
   "execution_count": 290,
   "metadata": {
    "collapsed": true,
    "deletable": true,
    "editable": true
   },
   "outputs": [],
   "source": [
    "C.<w> = k.extension(m2)"
   ]
  },
  {
   "cell_type": "code",
   "execution_count": 293,
   "metadata": {
    "collapsed": false,
    "deletable": true,
    "editable": true
   },
   "outputs": [
    {
     "data": {
      "text/plain": [
       "x^2 + x + 1"
      ]
     },
     "execution_count": 293,
     "metadata": {},
     "output_type": "execute_result"
    }
   ],
   "source": [
    "(w^l).minpoly()"
   ]
  },
  {
   "cell_type": "code",
   "execution_count": 363,
   "metadata": {
    "collapsed": false,
    "deletable": true,
    "editable": true
   },
   "outputs": [
    {
     "name": "stdout",
     "output_type": "stream",
     "text": [
      "True\n",
      "True\n",
      "True\n",
      "True\n",
      "True\n",
      "True\n",
      "True\n",
      "True\n",
      "True\n",
      "True\n"
     ]
    }
   ],
   "source": [
    "for i in range(10):\n",
    "    h1, h2 = testl(p, l, n)\n",
    "    print is_iso(h1, h2)"
   ]
  },
  {
   "cell_type": "code",
   "execution_count": 1,
   "metadata": {
    "collapsed": false,
    "deletable": true,
    "editable": true
   },
   "outputs": [
    {
     "data": {
      "text/plain": [
       "2^5 * 3^2"
      ]
     },
     "execution_count": 1,
     "metadata": {},
     "output_type": "execute_result"
    }
   ],
   "source": [
    "factor(17^2-1)"
   ]
  },
  {
   "cell_type": "code",
   "execution_count": 47,
   "metadata": {
    "collapsed": false,
    "deletable": true,
    "editable": true
   },
   "outputs": [
    {
     "data": {
      "text/plain": [
       "2613660"
      ]
     },
     "execution_count": 47,
     "metadata": {},
     "output_type": "execute_result"
    }
   ],
   "source": [
    "t = toto(GF(19), 1, 7)[0]; t"
   ]
  },
  {
   "cell_type": "code",
   "execution_count": 7,
   "metadata": {
    "collapsed": false,
    "deletable": true,
    "editable": true
   },
   "outputs": [
    {
     "data": {
      "text/plain": [
       "6"
      ]
     },
     "execution_count": 7,
     "metadata": {},
     "output_type": "execute_result"
    }
   ],
   "source": [
    "cyclo_deg(GF(19), 7)"
   ]
  },
  {
   "cell_type": "code",
   "execution_count": 12,
   "metadata": {
    "collapsed": true,
    "deletable": true,
    "editable": true
   },
   "outputs": [],
   "source": [
    "p = 19\n",
    "K, A = ext_scalars(GF(p), 21)"
   ]
  },
  {
   "cell_type": "code",
   "execution_count": 16,
   "metadata": {
    "collapsed": true,
    "deletable": true,
    "editable": true
   },
   "outputs": [],
   "source": [
    "z = A.gen()"
   ]
  },
  {
   "cell_type": "code",
   "execution_count": 21,
   "metadata": {
    "collapsed": false,
    "deletable": true,
    "editable": true
   },
   "outputs": [
    {
     "data": {
      "text/plain": [
       "1"
      ]
     },
     "execution_count": 21,
     "metadata": {},
     "output_type": "execute_result"
    }
   ],
   "source": [
    "(z^(-6))^"
   ]
  },
  {
   "cell_type": "code",
   "execution_count": 12,
   "metadata": {
    "collapsed": false,
    "deletable": true,
    "editable": true
   },
   "outputs": [],
   "source": [
    "def frob_rc(a, n, m, i=1):\n",
    "    A = a.parent()\n",
    "    z = A.gen()\n",
    "    l = n // m\n",
    "    u, v = xgcd(l, m)[1:]\n",
    "    q = a.base_ring().base_ring().order()\n",
    "    return sum(c*z^(u*l*j)*z^(v*m*j*q^i) for j, c in enumerate(a))\n",
    "\n",
    "def rnormc(a, m):\n",
    "    A = a.parent()\n",
    "    n = a.base_ring().degree()\n",
    "    q = A.base_ring().base_ring().order()\n",
    "    l = n // m\n",
    "    d = cyclo_deg(GF(q), l)\n",
    "    print d, l\n",
    "    return product(frob_rc(a, n, m, j) for j in range(d))"
   ]
  },
  {
   "cell_type": "code",
   "execution_count": 33,
   "metadata": {
    "collapsed": false,
    "deletable": true,
    "editable": true
   },
   "outputs": [
    {
     "data": {
      "text/plain": [
       "21"
      ]
     },
     "execution_count": 33,
     "metadata": {},
     "output_type": "execute_result"
    }
   ],
   "source": [
    "z.base_ring().degree()"
   ]
  },
  {
   "cell_type": "code",
   "execution_count": 38,
   "metadata": {
    "collapsed": false,
    "deletable": true,
    "editable": true
   },
   "outputs": [
    {
     "name": "stdout",
     "output_type": "stream",
     "text": [
      "6 7\n"
     ]
    },
    {
     "data": {
      "text/plain": [
       "1"
      ]
     },
     "execution_count": 38,
     "metadata": {},
     "output_type": "execute_result"
    }
   ],
   "source": [
    "rnormc(z, 3)"
   ]
  },
  {
   "cell_type": "code",
   "execution_count": 51,
   "metadata": {
    "collapsed": false,
    "deletable": true,
    "editable": true
   },
   "outputs": [
    {
     "data": {
      "text/plain": [
       "2^3 * 3 * 5"
      ]
     },
     "execution_count": 51,
     "metadata": {},
     "output_type": "execute_result"
    }
   ],
   "source": [
    "q = 11\n",
    "factor(q^2-1)"
   ]
  },
  {
   "cell_type": "code",
   "execution_count": 54,
   "metadata": {
    "collapsed": false,
    "deletable": true,
    "editable": true
   },
   "outputs": [],
   "source": [
    "k = GF(p)"
   ]
  },
  {
   "cell_type": "code",
   "execution_count": 55,
   "metadata": {
    "collapsed": false,
    "deletable": true,
    "editable": true
   },
   "outputs": [],
   "source": [
    "R.<x> = k[]"
   ]
  },
  {
   "cell_type": "code",
   "execution_count": 63,
   "metadata": {
    "collapsed": false,
    "deletable": true,
    "editable": true
   },
   "outputs": [],
   "source": [
    "f = cyclotomic_polynomial(21).change_ring(k)"
   ]
  },
  {
   "cell_type": "code",
   "execution_count": 64,
   "metadata": {
    "collapsed": false,
    "deletable": true,
    "editable": true
   },
   "outputs": [],
   "source": [
    "f = f.factor()[0][0]"
   ]
  },
  {
   "cell_type": "code",
   "execution_count": 65,
   "metadata": {
    "collapsed": false,
    "deletable": true,
    "editable": true
   },
   "outputs": [
    {
     "data": {
      "text/plain": [
       "x^6 + 7*x^5 + 11*x^4 + x^3 + 7*x^2 + 11*x + 1"
      ]
     },
     "execution_count": 65,
     "metadata": {},
     "output_type": "execute_result"
    }
   ],
   "source": [
    "f"
   ]
  },
  {
   "cell_type": "code",
   "execution_count": 66,
   "metadata": {
    "collapsed": true,
    "deletable": true,
    "editable": true
   },
   "outputs": [],
   "source": [
    "C.<z> = k.extension(f)"
   ]
  },
  {
   "cell_type": "code",
   "execution_count": 68,
   "metadata": {
    "collapsed": false,
    "deletable": true,
    "editable": true
   },
   "outputs": [],
   "source": []
  },
  {
   "cell_type": "code",
   "execution_count": 25,
   "metadata": {
    "collapsed": false,
    "deletable": true,
    "editable": true
   },
   "outputs": [
    {
     "data": {
      "text/plain": [
       "(1, -2)"
      ]
     },
     "execution_count": 25,
     "metadata": {},
     "output_type": "execute_result"
    }
   ],
   "source": [
    "xgcd(7, 3)[1:]"
   ]
  },
  {
   "cell_type": "code",
   "execution_count": 73,
   "metadata": {
    "collapsed": false,
    "deletable": true,
    "editable": true
   },
   "outputs": [
    {
     "data": {
      "text/plain": [
       "12*z^5 + z^4 + 8*z^3 + 7*z^2 + 15*z + 4"
      ]
     },
     "execution_count": 73,
     "metadata": {},
     "output_type": "execute_result"
    }
   ],
   "source": [
    "r = C.random_element()\n",
    "(r^(-2*3))."
   ]
  },
  {
   "cell_type": "code",
   "execution_count": 72,
   "metadata": {
    "collapsed": false,
    "deletable": true,
    "editable": true
   },
   "outputs": [
    {
     "name": "stdout",
     "output_type": "stream",
     "text": [
      "21 1 6 1 21\n"
     ]
    },
    {
     "data": {
      "text/plain": [
       "False"
      ]
     },
     "execution_count": 72,
     "metadata": {},
     "output_type": "execute_result"
    }
   ],
   "source": [
    "K, A = ext_scalars(GF(19), 21)\n",
    "h = solve_h90(A)\n",
    "u = h*frob_r(h, 1)*frob_r(h, 2)*frob_r(h, 3)*frob_r(h, 4)*frob_r(h, 5)\n",
    "i = rnorm(h, 1); i\n",
    "# is_h90(u, A.gen()^7), frob_r(u, 21) == u, u == v\n",
    "i == u"
   ]
  },
  {
   "cell_type": "code",
   "execution_count": 71,
   "metadata": {
    "collapsed": false
   },
   "outputs": [
    {
     "data": {
      "text/plain": [
       "3"
      ]
     },
     "execution_count": 71,
     "metadata": {},
     "output_type": "execute_result"
    }
   ],
   "source": [
    "u"
   ]
  },
  {
   "cell_type": "code",
   "execution_count": 67,
   "metadata": {
    "collapsed": false
   },
   "outputs": [
    {
     "data": {
      "text/plain": [
       "(17*x^6 + 8*x^5 + 13*x^4 + 3*x^3 + x^2 + x + 6)*z^5 + (13*x^6 + 3*x^5 + 6*x^3 + 15*x^2 + 2*x + 18)*z^4 + (8*x^6 + 10*x^5 + 16*x^4 + 3*x^3 + 15*x^2 + 15*x + 14)*z^3 + (15*x^6 + 13*x^5 + 12*x^4 + 3*x^3 + 8*x^2 + 8*x + 12)*z^2 + (4*x^6 + 11*x^5 + 10*x^4 + x^3 + 5*x^2 + 11*x + 7)*z + 4*x^6 + 4*x^5 + 17*x^4 + 16*x^3 + 15*x^2 + 7*x + 7"
      ]
     },
     "execution_count": 67,
     "metadata": {},
     "output_type": "execute_result"
    }
   ],
   "source": [
    "h"
   ]
  },
  {
   "cell_type": "code",
   "execution_count": 60,
   "metadata": {
    "collapsed": false
   },
   "outputs": [
    {
     "data": {
      "text/plain": [
       "9*z^5"
      ]
     },
     "execution_count": 60,
     "metadata": {},
     "output_type": "execute_result"
    }
   ],
   "source": [
    "i^5"
   ]
  },
  {
   "cell_type": "code",
   "execution_count": 61,
   "metadata": {
    "collapsed": false
   },
   "outputs": [
    {
     "data": {
      "text/plain": [
       "5*z^9 + 13*z^8 + 6*z^6 + 8*z^5 + 13*z^4 + 13*z^3 + 17*z^2 + 14*z + 9"
      ]
     },
     "execution_count": 61,
     "metadata": {},
     "output_type": "execute_result"
    }
   ],
   "source": [
    "h^25"
   ]
  },
  {
   "cell_type": "code",
   "execution_count": 89,
   "metadata": {
    "collapsed": false
   },
   "outputs": [
    {
     "data": {
      "text/plain": [
       "18"
      ]
     },
     "execution_count": 89,
     "metadata": {},
     "output_type": "execute_result"
    }
   ],
   "source": [
    "cyclo_deg(GF(11), 3^3)"
   ]
  },
  {
   "cell_type": "code",
   "execution_count": 73,
   "metadata": {
    "collapsed": true
   },
   "outputs": [],
   "source": [
    "z = A.gen()"
   ]
  },
  {
   "cell_type": "code",
   "execution_count": 77,
   "metadata": {
    "collapsed": false
   },
   "outputs": [
    {
     "data": {
      "text/plain": [
       "z"
      ]
     },
     "execution_count": 77,
     "metadata": {},
     "output_type": "execute_result"
    }
   ],
   "source": [
    "h = z\n",
    "h*frob_r(h, 1)*frob_r(h, 2)*frob_r(h, 3)*frob_r(h, 4)*frob_r(h, 5)"
   ]
  },
  {
   "cell_type": "code",
   "execution_count": 78,
   "metadata": {
    "collapsed": false
   },
   "outputs": [
    {
     "name": "stdout",
     "output_type": "stream",
     "text": [
      "21 3 6 1 7\n"
     ]
    },
    {
     "data": {
      "text/plain": [
       "z"
      ]
     },
     "execution_count": 78,
     "metadata": {},
     "output_type": "execute_result"
    }
   ],
   "source": [
    "rnorm(z, 3)"
   ]
  },
  {
   "cell_type": "code",
   "execution_count": 79,
   "metadata": {
    "collapsed": false
   },
   "outputs": [
    {
     "data": {
      "text/plain": [
       "z"
      ]
     },
     "execution_count": 79,
     "metadata": {},
     "output_type": "execute_result"
    }
   ],
   "source": [
    "frob_r(h, 6)"
   ]
  },
  {
   "cell_type": "code",
   "execution_count": 85,
   "metadata": {
    "collapsed": false
   },
   "outputs": [
    {
     "data": {
      "text/plain": [
       "z"
      ]
     },
     "execution_count": 85,
     "metadata": {},
     "output_type": "execute_result"
    }
   ],
   "source": [
    "frob_r(h, 6)"
   ]
  },
  {
   "cell_type": "code",
   "execution_count": 86,
   "metadata": {
    "collapsed": false
   },
   "outputs": [
    {
     "data": {
      "text/plain": [
       "x^6 + 7*x^5 + 11*x^4 + x^3 + 7*x^2 + 11*x + 1"
      ]
     },
     "execution_count": 86,
     "metadata": {},
     "output_type": "execute_result"
    }
   ],
   "source": [
    "(z^.minpoly()"
   ]
  },
  {
   "cell_type": "code",
   "execution_count": 90,
   "metadata": {
    "collapsed": false
   },
   "outputs": [
    {
     "name": "stdout",
     "output_type": "stream",
     "text": [
      "9 3 6 2 3\n"
     ]
    },
    {
     "data": {
      "text/plain": [
       "((7*x^2 + x + 2)*z + 2*x^2 + 9*x + 10,\n",
       " (9*z9^8 + 2*z9^7 + 3*z9^6 + z9^5 + 10*z9^4 + 5*z9^3 + 4*z9^2 + 5*z9 + 1)*z^5 + (10*z9^8 + 9*z9^7 + z9^6 + 3*z9^5 + 10*z9^4 + 6*z9^3 + 10*z9^2 + 7*z9 + 7)*z^4 + (6*z9^8 + 6*z9^7 + 7*z9^6 + 7*z9^5 + 2*z9^4 + 7*z9^3 + 3*z9^2 + 6*z9 + 4)*z^3 + (2*z9^8 + 6*z9^7 + 10*z9^6 + 6*z9^5 + 4*z9^4 + 7*z9^3 + 7*z9^2 + 3*z9)*z^2 + (4*z9^8 + 3*z9^7 + 5*z9^6 + z9^5 + 8*z9^4 + 2*z9^3 + 9*z9 + 3)*z + 5*z9^8 + 7*z9^7 + z9^6 + 6*z9^5 + 10*z9^4 + 6*z9^3 + z9^2 + 10)"
      ]
     },
     "execution_count": 90,
     "metadata": {},
     "output_type": "execute_result"
    }
   ],
   "source": []
  },
  {
   "cell_type": "code",
   "execution_count": 98,
   "metadata": {
    "collapsed": false
   },
   "outputs": [
    {
     "data": {
      "text/plain": [
       "True"
      ]
     },
     "execution_count": 98,
     "metadata": {},
     "output_type": "execute_result"
    }
   ],
   "source": [
    "is_iso(h1, h2)"
   ]
  },
  {
   "cell_type": "code",
   "execution_count": 97,
   "metadata": {
    "collapsed": false
   },
   "outputs": [
    {
     "data": {
      "text/plain": [
       "4"
      ]
     },
     "execution_count": 97,
     "metadata": {},
     "output_type": "execute_result"
    }
   ],
   "source": []
  },
  {
   "cell_type": "code",
   "execution_count": 94,
   "metadata": {
    "collapsed": true
   },
   "outputs": [],
   "source": [
    "l = 4"
   ]
  },
  {
   "cell_type": "code",
   "execution_count": 119,
   "metadata": {
    "collapsed": true
   },
   "outputs": [],
   "source": [
    "\"\"\"\n",
    "Here we find an element h2 solution of H90 in F_p^n compatible with h1.\n",
    "\"\"\"\n",
    "def findh90(h1, n):\n",
    "    k = h1.base_ring().base_ring()\n",
    "    k1, A1 = h1.base_ring(), h1.parent()\n",
    "    M1 = A1.modulus()\n",
    "    R = k['z']\n",
    "    m = k1.degree()\n",
    "    l = n // m\n",
    "    k2 = k.extension(n)\n",
    "    R2 = k2['z']\n",
    "    x = R.gen()\n",
    "    M2 = gcd(M1.change_ring(k).substitute(x^l), R(cyclotomic_polynomial(n))).factor()[0][0]\n",
    "    A2 = R2.quo(M2, 'z')\n",
    "    h2 = solve_h90(A2)\n",
    "    i2 = rnorm(h2, m)\n",
    "    aa = h1^(m)\n",
    "    bb = i2^(m)\n",
    "    C = k.extension(M2, 'x')\n",
    "    \n",
    "    a = R([x for x in aa.list()]).subs(C.gen()^l)\n",
    "    b = C([k(x) for x in bb.list()])\n",
    "    \n",
    "    t = a/b\n",
    "    c = t.nth_root(n)\n",
    "    return A2(c.polynomial().list())*h2"
   ]
  },
  {
   "cell_type": "code",
   "execution_count": 101,
   "metadata": {
    "collapsed": false
   },
   "outputs": [
    {
     "data": {
      "text/plain": [
       "Finite Field in x of size 11^9"
      ]
     },
     "execution_count": 101,
     "metadata": {},
     "output_type": "execute_result"
    }
   ],
   "source": [
    "h1.base_ring()"
   ]
  },
  {
   "cell_type": "code",
   "execution_count": 120,
   "metadata": {
    "collapsed": true
   },
   "outputs": [],
   "source": [
    "h1, h2 = testl(11, 3, 1)"
   ]
  },
  {
   "cell_type": "code",
   "execution_count": 121,
   "metadata": {
    "collapsed": true
   },
   "outputs": [],
   "source": [
    "h2b = findh90(h1, 3^2)"
   ]
  },
  {
   "cell_type": "code",
   "execution_count": 122,
   "metadata": {
    "collapsed": false
   },
   "outputs": [
    {
     "data": {
      "text/plain": [
       "False"
      ]
     },
     "execution_count": 122,
     "metadata": {},
     "output_type": "execute_result"
    }
   ],
   "source": [
    "h2 == h2b"
   ]
  },
  {
   "cell_type": "code",
   "execution_count": 123,
   "metadata": {
    "collapsed": false
   },
   "outputs": [
    {
     "data": {
      "text/plain": [
       "(5*z9^8 + 8*z9^7 + 4*z9^6 + z9^5 + 3*z9^3 + 2*z9^2 + 3*z9 + 6)*z^5 + (3*z9^7 + 3*z9^6 + 10*z9^5 + 6*z9^4 + 8*z9^3 + 4*z9^2 + z9 + 10)*z^4 + (5*z9^8 + z9^7 + 8*z9^6 + 6*z9^5 + 3*z9^4 + 4*z9^3 + 8*z9^2 + 6*z9 + 1)*z^3 + (9*z9^8 + z9^7 + 5*z9^6 + 6*z9^5 + 5*z9^4 + 2*z9^3 + 10*z9^2 + 4*z9 + 5)*z^2 + (6*z9^8 + 4*z9^6 + z9^5 + 7*z9^4 + z9^3 + 10*z9^2 + 5*z9 + 6)*z + 10*z9^8 + 9*z9^7 + 10*z9^6 + 4*z9^5 + 10*z9^4 + 10*z9^3 + 6*z9^2 + 8*z9 + 7"
      ]
     },
     "execution_count": 123,
     "metadata": {},
     "output_type": "execute_result"
    }
   ],
   "source": [
    "h2"
   ]
  },
  {
   "cell_type": "code",
   "execution_count": 124,
   "metadata": {
    "collapsed": false
   },
   "outputs": [
    {
     "data": {
      "text/plain": [
       "(4*z9^8 + 7*z9^7 + 8*z9^6 + 9*z9^5 + 2*z9^4 + 8*z9^3 + 7*z9^2 + 4*z9 + 9)*z^5 + (9*z9^7 + 4*z9^5 + 8*z9^4 + 3*z9^3 + 3*z9^2 + 7*z9 + 8)*z^4 + (7*z9^8 + 4*z9^7 + 6*z9^6 + 4*z9^5 + 8*z9^4 + 6*z9 + 2)*z^3 + (10*z9^8 + 8*z9^7 + 10*z9^6 + 5*z9^5 + 4*z9^4 + 10*z9^3 + 6*z9^2 + z9)*z^2 + (6*z9^8 + 5*z9^7 + 10*z9^6 + 7*z9^5 + 4*z9^4 + 4*z9^3 + 9*z9^2 + 8)*z + 3*z9^8 + 8*z9^5 + 6*z9^4 + 10*z9^3 + 4*z9^2 + 2*z9 + 3"
      ]
     },
     "execution_count": 124,
     "metadata": {},
     "output_type": "execute_result"
    }
   ],
   "source": [
    "h2b"
   ]
  },
  {
   "cell_type": "code",
   "execution_count": 125,
   "metadata": {
    "collapsed": false
   },
   "outputs": [
    {
     "data": {
      "text/plain": [
       "True"
      ]
     },
     "execution_count": 125,
     "metadata": {},
     "output_type": "execute_result"
    }
   ],
   "source": [
    "is_iso(h1, h2)"
   ]
  },
  {
   "cell_type": "code",
   "execution_count": 126,
   "metadata": {
    "collapsed": false
   },
   "outputs": [
    {
     "data": {
      "text/plain": [
       "True"
      ]
     },
     "execution_count": 126,
     "metadata": {},
     "output_type": "execute_result"
    }
   ],
   "source": [
    "is_iso(h1, h2b)"
   ]
  },
  {
   "cell_type": "code",
   "execution_count": 113,
   "metadata": {
    "collapsed": false
   },
   "outputs": [
    {
     "data": {
      "text/plain": [
       "(4*z9^8 + 2*z9^7 + 4*z9^6 + 2*z9^4 + 3*z9^3 + 10*z9^2 + 2*z9 + 7)*z^3 + 9*z9^8 + 6*z9^7 + 2*z9^6 + 8*z9^5 + 4*z9^4 + 7*z9^3 + 3*z9^2 + 7"
      ]
     },
     "execution_count": 113,
     "metadata": {},
     "output_type": "execute_result"
    }
   ],
   "source": [
    "i2 = rnorm(h2b, 3); i2"
   ]
  },
  {
   "cell_type": "code",
   "execution_count": 114,
   "metadata": {
    "collapsed": false
   },
   "outputs": [
    {
     "data": {
      "text/plain": [
       "(3*z9^8 + 4*z9^7 + 6*z9^6 + 6*z9^5 + 8*z9^4 + 10*z9^3 + 8*z9^2 + 5*z9 + 9)*z^3 + 7*z9^8 + 7*z9^7 + 9*z9^6 + 4*z9^5 + 6*z9^4 + 4*z9^3 + 5*z9^2 + 4*z9 + 1"
      ]
     },
     "execution_count": 114,
     "metadata": {},
     "output_type": "execute_result"
    }
   ],
   "source": [
    "i2b = rnorm(h2, 3); i2b"
   ]
  },
  {
   "cell_type": "code",
   "execution_count": 115,
   "metadata": {
    "collapsed": false
   },
   "outputs": [
    {
     "data": {
      "text/plain": [
       "10*z^3 + 10"
      ]
     },
     "execution_count": 115,
     "metadata": {},
     "output_type": "execute_result"
    }
   ],
   "source": [
    "i2^3"
   ]
  },
  {
   "cell_type": "code",
   "execution_count": 118,
   "metadata": {
    "collapsed": false
   },
   "outputs": [
    {
     "data": {
      "text/plain": [
       "7*z^3 + 5"
      ]
     },
     "execution_count": 118,
     "metadata": {},
     "output_type": "execute_result"
    }
   ],
   "source": [
    "i2b^3"
   ]
  },
  {
   "cell_type": "code",
   "execution_count": 130,
   "metadata": {
    "collapsed": true
   },
   "outputs": [],
   "source": [
    "h3 = findh90(h2b, 3^3)"
   ]
  },
  {
   "cell_type": "code",
   "execution_count": 131,
   "metadata": {
    "collapsed": false
   },
   "outputs": [
    {
     "data": {
      "text/plain": [
       "True"
      ]
     },
     "execution_count": 131,
     "metadata": {},
     "output_type": "execute_result"
    }
   ],
   "source": [
    "is_iso(h1, h3)"
   ]
  },
  {
   "cell_type": "code",
   "execution_count": 132,
   "metadata": {
    "collapsed": false
   },
   "outputs": [
    {
     "data": {
      "text/plain": [
       "(10*z9^8 + 3*z9^7 + z9^6 + 4*z9^5 + 2*z9^4 + 9*z9^3 + 7*z9^2 + 9)*z^3 + 8*z9^8 + 2*z9^7 + 10*z9^6 + 4*z9^5 + z9^4 + 2*z9^3 + 2*z9^2 + 10*z9"
      ]
     },
     "execution_count": 132,
     "metadata": {},
     "output_type": "execute_result"
    }
   ],
   "source": [
    "rnorm(h2, 3)"
   ]
  },
  {
   "cell_type": "code",
   "execution_count": 133,
   "metadata": {
    "collapsed": false
   },
   "outputs": [
    {
     "data": {
      "text/plain": [
       "(9*z9^8 + 10*z9^7 + 9*z9^6 + 10*z9^4 + 4*z9^3 + 6*z9^2 + 10*z9 + 2)*z^3 + z9^8 + 8*z9^7 + 10*z9^6 + 7*z9^5 + 9*z9^4 + 2*z9^3 + 4*z9^2 + 2"
      ]
     },
     "execution_count": 133,
     "metadata": {},
     "output_type": "execute_result"
    }
   ],
   "source": [
    "rnorm(h2b, 3)"
   ]
  },
  {
   "cell_type": "code",
   "execution_count": 134,
   "metadata": {
    "collapsed": true
   },
   "outputs": [],
   "source": [
    "def is_iso2(h1, h2):\n",
    "    l = h2.parent().degree() // h1.parent().degree()\n",
    "    i2 = rnorm(h2, h1.base_ring().degree())\n",
    "    j2 = change_basis(i2, h2.parent().gen()^l, h1.parent().degree())\n",
    "    return h1.list()[0], j2\n",
    "    "
   ]
  },
  {
   "cell_type": "code",
   "execution_count": 135,
   "metadata": {
    "collapsed": false
   },
   "outputs": [
    {
     "data": {
      "text/plain": [
       "(9*x, 8*z9^8 + 2*z9^7 + 10*z9^6 + 4*z9^5 + z9^4 + 2*z9^3 + 2*z9^2 + 10*z9)"
      ]
     },
     "execution_count": 135,
     "metadata": {},
     "output_type": "execute_result"
    }
   ],
   "source": [
    "is_iso2(h1, h2)"
   ]
  },
  {
   "cell_type": "code",
   "execution_count": 136,
   "metadata": {
    "collapsed": false
   },
   "outputs": [
    {
     "data": {
      "text/plain": [
       "(9*x, z9^8 + 8*z9^7 + 10*z9^6 + 7*z9^5 + 9*z9^4 + 2*z9^3 + 4*z9^2 + 2)"
      ]
     },
     "execution_count": 136,
     "metadata": {},
     "output_type": "execute_result"
    }
   ],
   "source": [
    "is_iso2(h1, h2b)"
   ]
  },
  {
   "cell_type": "code",
   "execution_count": null,
   "metadata": {
    "collapsed": true
   },
   "outputs": [],
   "source": []
  }
 ],
 "metadata": {
  "kernelspec": {
   "display_name": "SageMath 8.1",
   "language": "",
   "name": "sagemath"
  },
  "language_info": {
   "codemirror_mode": {
    "name": "ipython",
    "version": 2
   },
   "file_extension": ".py",
   "mimetype": "text/x-python",
   "name": "python",
   "nbconvert_exporter": "python",
   "pygments_lexer": "ipython2",
   "version": "2.7.14"
  }
 },
 "nbformat": 4,
 "nbformat_minor": 2
}
