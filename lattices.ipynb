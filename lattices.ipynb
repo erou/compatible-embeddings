{
 "cells": [
  {
   "cell_type": "code",
   "execution_count": 1,
   "metadata": {
    "collapsed": true,
    "deletable": true,
    "editable": true
   },
   "outputs": [],
   "source": [
    "def ext_scalars(k, n):\n",
    "    q = k.order()\n",
    "    assert gcd(n, q) == 1, \"Only multiplicative H90, please!\"\n",
    "    \n",
    "    phi = cyclotomic_polynomial(n, 'z').change_ring(k)\n",
    "    \n",
    "    K = k.extension(n, 'x')\n",
    "    A = K['z']\n",
    "    h = A(phi.factor()[0][0])\n",
    "    \n",
    "    return K, A.quo(h, 'z')"
   ]
  },
  {
   "cell_type": "code",
   "execution_count": 2,
   "metadata": {
    "collapsed": true,
    "deletable": true,
    "editable": true
   },
   "outputs": [],
   "source": [
    "def frob_l(a, i=1):\n",
    "    A = a.parent()\n",
    "    q = a.base_ring().base_ring().order()\n",
    "    return A(list(c^(q^i) for c in a))"
   ]
  },
  {
   "cell_type": "code",
   "execution_count": 3,
   "metadata": {
    "collapsed": true,
    "deletable": true,
    "editable": true
   },
   "outputs": [],
   "source": [
    "def frob_r(a, i=1):\n",
    "    A = a.parent()\n",
    "    z = A.gen()\n",
    "    q = a.base_ring().base_ring().order()\n",
    "    return sum(c*z^(j*q^i) for j, c in enumerate(a))"
   ]
  },
  {
   "cell_type": "code",
   "execution_count": 4,
   "metadata": {
    "collapsed": true,
    "deletable": true,
    "editable": true
   },
   "outputs": [],
   "source": [
    "def is_h90(a, zeta):\n",
    "    return frob_l(a) == zeta * a"
   ]
  },
  {
   "cell_type": "code",
   "execution_count": 5,
   "metadata": {
    "collapsed": true,
    "deletable": true,
    "editable": true
   },
   "outputs": [],
   "source": [
    "def solve_h90(A):\n",
    "    x = A(1)\n",
    "    n = A.base_ring().degree()\n",
    "    z = A.gen()\n",
    "    while not is_h90(x, z):\n",
    "        x = A.random_element()\n",
    "        x = sum(frob_l(x, i)*z^-i for i in range(n))\n",
    "    return x"
   ]
  },
  {
   "cell_type": "code",
   "execution_count": 132,
   "metadata": {
    "collapsed": true
   },
   "outputs": [],
   "source": [
    "def cyclo_deg(k, n):\n",
    "    return Zmod(n)(k.characteristic()).multiplicative_order()\n",
    "\n",
    "def rnorm(a, m):\n",
    "    A = a.parent()\n",
    "    n = A.base_ring().degree()\n",
    "    r = A.degree()\n",
    "    q = A.base_ring().base_ring().order()\n",
    "    s = cyclo_deg(GF(q), m)\n",
    "    d = n // m\n",
    "    \n",
    "#    print n, m, r, s, d\n",
    "    return product(frob_r(a, s*j) for j in range(d))\n",
    "def toto(k, m, n):\n",
    "    q = k.order()\n",
    "    r = cyclo_deg(k, m)\n",
    "    s = cyclo_deg(k, n)\n",
    "    t = (q^s-1)//(q^r-1)\n",
    "    return t, gcd(t, n), n//m\n",
    "\n",
    "def change_basis(elem, basis, d2):\n",
    "    \n",
    "    k = elem.base_ring()\n",
    "    d1 = elem.parent().degree()\n",
    "    A = MatrixSpace(k, d1, d2)()\n",
    "    \n",
    "    for i in range(d2):\n",
    "        L = (basis^i).list()\n",
    "        for j in range(d1):\n",
    "            A[j,i] = L[j]\n",
    "            \n",
    "    S2 = MatrixSpace(k, d1, 1)\n",
    "    B = S2(elem.list())\n",
    "    X = A.solve_right(B)\n",
    "    \n",
    "    return X[0,0]\n",
    "\n",
    "def testl(p, l, n):\n",
    "    k = GF(p)\n",
    "    k1, A1 = ext_scalars(k, l^n)\n",
    "    M1 = A1.modulus()\n",
    "    R = k['z']\n",
    "    k2 = k.extension(l^(n+1))\n",
    "    R2 = k2['z']\n",
    "    x = R.gen()\n",
    "    M2 = gcd(A1.modulus().change_ring(k).substitute(x^l), R(cyclotomic_polynomial(l^(n+1)))).factor()[0][0]\n",
    "    A2 = R2.quo(M2, 'z')\n",
    "    h1 = solve_h90(A1)\n",
    "    h2 = solve_h90(A2)\n",
    "    i2 = rnorm(h2, l^n)\n",
    "    aa = h1^(l^n)\n",
    "    bb = i2^(l^n)\n",
    "    C = k.extension(M2, 'x')\n",
    "    \n",
    "    a = R([x for x in aa.list()]).subs(C.gen()^l)\n",
    "    b = C([k(x) for x in bb.list()])\n",
    "    \n",
    "    t = a/b\n",
    "    c = t.nth_root(l^(n+1))\n",
    "    return h1, A2(c.polynomial().list())*h2\n",
    "\n",
    "def is_iso(h1, h2):\n",
    "    m = h1.base_ring().degree()\n",
    "    n = h2.base_ring().degree()\n",
    "    l = n // m\n",
    "    i2 = rnorm(h2, m)\n",
    "    j2 = change_basis(i2, h2.parent().gen()^l, h1.parent().degree())\n",
    "    return h1.list()[0].minpoly() == j2.minpoly()\n",
    "    \n",
    "def frob_rc(a, n, m, i=1):\n",
    "    A = a.parent()\n",
    "    z = A.gen()\n",
    "    l = n // m\n",
    "    u, v = xgcd(l, m)[1:]\n",
    "    q = a.base_ring().base_ring().order()\n",
    "    return sum(c*z^(u*l*j)*z^(v*m*j*q^i) for j, c in enumerate(a))\n",
    "\n",
    "def rnormc(a, m):\n",
    "    A = a.parent()\n",
    "    n = a.base_ring().degree()\n",
    "    q = A.base_ring().base_ring().order()\n",
    "    l = n // m\n",
    "    d = cyclo_deg(GF(q), l)\n",
    "    print d, l\n",
    "    return product(frob_rc(a, n, m, j) for j in range(d))"
   ]
  },
  {
   "cell_type": "code",
   "execution_count": 6,
   "metadata": {
    "collapsed": false,
    "deletable": true,
    "editable": true
   },
   "outputs": [
    {
     "ename": "NameError",
     "evalue": "name 'rnorm' is not defined",
     "output_type": "error",
     "traceback": [
      "\u001b[1;31m---------------------------------------------------------------------------\u001b[0m",
      "\u001b[1;31mNameError\u001b[0m                                 Traceback (most recent call last)",
      "\u001b[1;32m<ipython-input-6-feb20ab5ca45>\u001b[0m in \u001b[0;36m<module>\u001b[1;34m()\u001b[0m\n\u001b[0;32m      3\u001b[0m \u001b[0mh\u001b[0m \u001b[1;33m=\u001b[0m \u001b[0msolve_h90\u001b[0m\u001b[1;33m(\u001b[0m\u001b[0mA\u001b[0m\u001b[1;33m)\u001b[0m\u001b[1;33m\u001b[0m\u001b[0m\n\u001b[0;32m      4\u001b[0m \u001b[0mu\u001b[0m \u001b[1;33m=\u001b[0m \u001b[0mh\u001b[0m\u001b[1;33m*\u001b[0m\u001b[0mfrob_r\u001b[0m\u001b[1;33m(\u001b[0m\u001b[0mh\u001b[0m\u001b[1;33m)\u001b[0m\u001b[1;33m*\u001b[0m\u001b[0mfrob_r\u001b[0m\u001b[1;33m(\u001b[0m\u001b[0mh\u001b[0m\u001b[1;33m,\u001b[0m \u001b[0mInteger\u001b[0m\u001b[1;33m(\u001b[0m\u001b[1;36m2\u001b[0m\u001b[1;33m)\u001b[0m\u001b[1;33m)\u001b[0m\u001b[1;33m\u001b[0m\u001b[0m\n\u001b[1;32m----> 5\u001b[1;33m \u001b[0mv\u001b[0m \u001b[1;33m=\u001b[0m \u001b[0mrnorm\u001b[0m\u001b[1;33m(\u001b[0m\u001b[0mh\u001b[0m\u001b[1;33m,\u001b[0m \u001b[0mInteger\u001b[0m\u001b[1;33m(\u001b[0m\u001b[1;36m3\u001b[0m\u001b[1;33m)\u001b[0m\u001b[1;33m)\u001b[0m\u001b[1;33m\u001b[0m\u001b[0m\n\u001b[0m\u001b[0;32m      6\u001b[0m \u001b[0mis_h90\u001b[0m\u001b[1;33m(\u001b[0m\u001b[0mu\u001b[0m\u001b[1;33m,\u001b[0m \u001b[0mA\u001b[0m\u001b[1;33m.\u001b[0m\u001b[0mgen\u001b[0m\u001b[1;33m(\u001b[0m\u001b[1;33m)\u001b[0m\u001b[1;33m**\u001b[0m\u001b[0mInteger\u001b[0m\u001b[1;33m(\u001b[0m\u001b[1;36m3\u001b[0m\u001b[1;33m)\u001b[0m\u001b[1;33m)\u001b[0m\u001b[1;33m,\u001b[0m \u001b[0mfrob_l\u001b[0m\u001b[1;33m(\u001b[0m\u001b[0mu\u001b[0m\u001b[1;33m,\u001b[0m \u001b[0mInteger\u001b[0m\u001b[1;33m(\u001b[0m\u001b[1;36m3\u001b[0m\u001b[1;33m)\u001b[0m\u001b[1;33m)\u001b[0m \u001b[1;33m==\u001b[0m \u001b[0mu\u001b[0m\u001b[1;33m,\u001b[0m \u001b[0mu\u001b[0m \u001b[1;33m==\u001b[0m \u001b[0mv\u001b[0m\u001b[1;33m\u001b[0m\u001b[0m\n",
      "\u001b[1;31mNameError\u001b[0m: name 'rnorm' is not defined"
     ]
    }
   ],
   "source": [
    "K, A = ext_scalars(GF(7), 9)  # 1 = r₁ < r₂ = 2\n",
    "a = A.random_element()\n",
    "h = solve_h90(A)\n",
    "u = h*frob_r(h)*frob_r(h, 2)\n",
    "v = rnorm(h, 3)\n",
    "is_h90(u, A.gen()^3), frob_l(u, 3) == u, u == v"
   ]
  },
  {
   "cell_type": "code",
   "execution_count": 29,
   "metadata": {
    "collapsed": false,
    "deletable": true,
    "editable": true
   },
   "outputs": [
    {
     "name": "stdout",
     "output_type": "stream",
     "text": [
      "9 3 1 1 1\n"
     ]
    },
    {
     "data": {
      "text/plain": [
       "(True, True, False)"
      ]
     },
     "execution_count": 29,
     "metadata": {},
     "output_type": "execute_result"
    }
   ],
   "source": [
    "K, A = ext_scalars(GF(19), 9)  # 1 = r₁ = r₂\n",
    "a = A.random_element()\n",
    "h = solve_h90(A)\n",
    "u = h*frob_r(h)*frob_r(h, 2)\n",
    "v = rnorm(h, 3)\n",
    "is_h90(u, A.gen()^3), frob_l(u, 3) == u, u == v"
   ]
  },
  {
   "cell_type": "code",
   "execution_count": 41,
   "metadata": {
    "collapsed": false,
    "deletable": true,
    "editable": true
   },
   "outputs": [
    {
     "name": "stdout",
     "output_type": "stream",
     "text": [
      "15 3 4 1 4\n"
     ]
    },
    {
     "data": {
      "text/plain": [
       "(True, True, True)"
      ]
     },
     "execution_count": 41,
     "metadata": {},
     "output_type": "execute_result"
    }
   ],
   "source": [
    "K, A = ext_scalars(GF(7), 15)\n",
    "a = A.random_element()\n",
    "h = solve_h90(A)\n",
    "u = h*frob_r(h, 1)*frob_r(h, 2)*frob_r(h, 3)\n",
    "v = rnorm(h, 3)\n",
    "is_h90(u, A.gen()^10), frob_r(u, 3) == u, u == v"
   ]
  },
  {
   "cell_type": "code",
   "execution_count": 46,
   "metadata": {
    "collapsed": false,
    "deletable": true,
    "editable": true
   },
   "outputs": [
    {
     "name": "stdout",
     "output_type": "stream",
     "text": [
      "15 5 4 4 1\n"
     ]
    },
    {
     "data": {
      "text/plain": [
       "(True, True, False, True, False, True)"
      ]
     },
     "execution_count": 46,
     "metadata": {},
     "output_type": "execute_result"
    }
   ],
   "source": [
    "K, A = ext_scalars(GF(7), 15)\n",
    "a = A.random_element()\n",
    "h = solve_h90(A)\n",
    "u = h*frob_r(h, 4)*frob_r(h, 8)\n",
    "v = rnorm(h, 5)\n",
    "is_h90(u, A.gen()^3), frob_r(u, 4) == u, is_h90(v, A.gen()^3), frob_r(v, 4) == v, u == v, u == h^3"
   ]
  },
  {
   "cell_type": "code",
   "execution_count": 100,
   "metadata": {
    "collapsed": false,
    "deletable": true,
    "editable": true
   },
   "outputs": [
    {
     "data": {
      "text/plain": [
       "(False, False)"
      ]
     },
     "execution_count": 100,
     "metadata": {},
     "output_type": "execute_result"
    }
   ],
   "source": [
    "K, A = ext_scalars(GF(19), 15)\n",
    "a = A.random_element()\n",
    "h = solve_h90(A)\n",
    "u = h*frob_r(h, 1)\n",
    "is_h90(u, A.gen()^5), frob_l(u, 3) == u"
   ]
  },
  {
   "cell_type": "markdown",
   "metadata": {
    "deletable": true,
    "editable": true
   },
   "source": [
    "# More tests"
   ]
  },
  {
   "cell_type": "code",
   "execution_count": 19,
   "metadata": {
    "collapsed": false,
    "deletable": true,
    "editable": true
   },
   "outputs": [
    {
     "data": {
      "text/plain": [
       "(True, False, False)"
      ]
     },
     "execution_count": 19,
     "metadata": {},
     "output_type": "execute_result"
    }
   ],
   "source": [
    "K, A = ext_scalars(GF(19), 21)\n",
    "a = A.random_element()\n",
    "h = solve_h90(A)\n",
    "#u = h*frob_r(h, 1)*frob_r(h, 2)*frob_r(h, 3)*frob_r(h, 4)*frob_r(h, 5)\n",
    "u = h^7\n",
    "v = rnorm(h, 3)\n",
    "is_h90(u, A.gen()^7), frob_r(u, 21) == u, u == v"
   ]
  },
  {
   "cell_type": "code",
   "execution_count": 17,
   "metadata": {
    "collapsed": false,
    "deletable": true,
    "editable": true
   },
   "outputs": [
    {
     "data": {
      "text/plain": [
       "6"
      ]
     },
     "execution_count": 17,
     "metadata": {},
     "output_type": "execute_result"
    }
   ],
   "source": [
    "cyclo_deg(GF(19), 7)"
   ]
  },
  {
   "cell_type": "code",
   "execution_count": 6,
   "metadata": {
    "collapsed": false,
    "deletable": true,
    "editable": true
   },
   "outputs": [],
   "source": []
  },
  {
   "cell_type": "code",
   "execution_count": 7,
   "metadata": {
    "collapsed": false,
    "deletable": true,
    "editable": true
   },
   "outputs": [],
   "source": []
  },
  {
   "cell_type": "code",
   "execution_count": 8,
   "metadata": {
    "collapsed": false,
    "deletable": true,
    "editable": true
   },
   "outputs": [],
   "source": []
  },
  {
   "cell_type": "code",
   "execution_count": 37,
   "metadata": {
    "collapsed": false,
    "deletable": true,
    "editable": true
   },
   "outputs": [
    {
     "name": "stdout",
     "output_type": "stream",
     "text": [
      "(7, 7)\n",
      "(7, 7)\n",
      "(7, 7)\n",
      "(7, 7)\n",
      "(7, 7)\n",
      "(7, 7)\n",
      "(7, 7)\n"
     ]
    }
   ],
   "source": [
    "for j in range(1, 8):\n",
    "    print toto(GF(29), 7^j, 7^(j+1))"
   ]
  },
  {
   "cell_type": "code",
   "execution_count": 16,
   "metadata": {
    "collapsed": false,
    "deletable": true,
    "editable": true,
    "scrolled": false
   },
   "outputs": [
    {
     "name": "stdout",
     "output_type": "stream",
     "text": [
      "(3, 3, 3)\n",
      "(3, 3, 3)\n",
      "(3, 3, 3)\n",
      "(3, 3, 3)\n",
      "(3, 3, 3)\n",
      "(3, 3, 3)\n",
      "(3, 3, 3)\n",
      "(3, 3, 3)\n",
      "(3, 3, 3)\n",
      "(3, 3, 3)\n",
      "(3, 3, 3)\n",
      "(3, 3, 3)\n",
      "(3, 3, 3)\n",
      "(3, 3, 3)\n",
      "(3, 3, 3)\n",
      "(3, 3, 3)\n",
      "(3, 3, 3)\n",
      "(3, 3, 3)\n",
      "(3, 3, 3)\n",
      "(3, 3, 3)\n",
      "(3, 3, 3)\n",
      "(3, 3, 3)\n",
      "(3, 3, 3)\n"
     ]
    }
   ],
   "source": [
    "for p in primes(5, 100):\n",
    "    print toto(GF(p), 3^3, 3^4)"
   ]
  },
  {
   "cell_type": "code",
   "execution_count": 15,
   "metadata": {
    "collapsed": true,
    "deletable": true,
    "editable": true
   },
   "outputs": [],
   "source": [
    "primes?"
   ]
  },
  {
   "cell_type": "markdown",
   "metadata": {
    "deletable": true,
    "editable": true
   },
   "source": [
    "# An $\\ell$-adic tower"
   ]
  },
  {
   "cell_type": "code",
   "execution_count": 10,
   "metadata": {
    "collapsed": false,
    "deletable": true,
    "editable": true
   },
   "outputs": [
    {
     "data": {
      "text/plain": [
       "2"
      ]
     },
     "execution_count": 10,
     "metadata": {},
     "output_type": "execute_result"
    }
   ],
   "source": [
    "p = 17\n",
    "l = 3\n",
    "cyclo_deg(GF(p), l^2)"
   ]
  },
  {
   "cell_type": "code",
   "execution_count": 11,
   "metadata": {
    "collapsed": false,
    "deletable": true,
    "editable": true
   },
   "outputs": [],
   "source": [
    "k = GF(p)\n",
    "R.<x> = k[]"
   ]
  },
  {
   "cell_type": "code",
   "execution_count": 57,
   "metadata": {
    "collapsed": false,
    "deletable": true,
    "editable": true
   },
   "outputs": [
    {
     "data": {
      "text/plain": [
       "(x^2 + 3*x + 1) * (x^2 + 4*x + 1) * (x^2 + 10*x + 1)"
      ]
     },
     "execution_count": 57,
     "metadata": {},
     "output_type": "execute_result"
    }
   ],
   "source": [
    "f = factor(R(cyclotomic_polynomial(l^2))); f"
   ]
  },
  {
   "cell_type": "code",
   "execution_count": 25,
   "metadata": {
    "collapsed": false,
    "deletable": true,
    "editable": true
   },
   "outputs": [
    {
     "data": {
      "text/plain": [
       "(x^6 + 3*x^3 + 1) * (x^6 + 4*x^3 + 1) * (x^6 + 10*x^3 + 1)"
      ]
     },
     "execution_count": 25,
     "metadata": {},
     "output_type": "execute_result"
    }
   ],
   "source": [
    "factor(R(cyclotomic_polynomial(l^3)))"
   ]
  },
  {
   "cell_type": "code",
   "execution_count": 29,
   "metadata": {
    "collapsed": false,
    "deletable": true,
    "editable": true
   },
   "outputs": [
    {
     "data": {
      "text/plain": [
       "x^6 + 3*x^3 + 1"
      ]
     },
     "execution_count": 29,
     "metadata": {},
     "output_type": "execute_result"
    }
   ],
   "source": [
    "g = gcd(f.substitute(x^l), R(cyclotomic_polynomial(l^3))); g"
   ]
  },
  {
   "cell_type": "code",
   "execution_count": 30,
   "metadata": {
    "collapsed": true,
    "deletable": true,
    "editable": true
   },
   "outputs": [],
   "source": [
    "K.<z> = k.extension(g)"
   ]
  },
  {
   "cell_type": "code",
   "execution_count": 31,
   "metadata": {
    "collapsed": false,
    "deletable": true,
    "editable": true
   },
   "outputs": [
    {
     "data": {
      "text/plain": [
       "x^2 + 3*x + 1"
      ]
     },
     "execution_count": 31,
     "metadata": {},
     "output_type": "execute_result"
    }
   ],
   "source": [
    "(z^l).minpoly()"
   ]
  },
  {
   "cell_type": "code",
   "execution_count": 39,
   "metadata": {
    "collapsed": false,
    "deletable": true,
    "editable": true
   },
   "outputs": [
    {
     "data": {
      "text/plain": [
       "x^2 + 3*x + 1"
      ]
     },
     "execution_count": 39,
     "metadata": {},
     "output_type": "execute_result"
    }
   ],
   "source": [
    "(z^((p^6-1)/(p^2-1))).minpoly()"
   ]
  },
  {
   "cell_type": "code",
   "execution_count": 40,
   "metadata": {
    "collapsed": false,
    "deletable": true,
    "editable": true
   },
   "outputs": [
    {
     "data": {
      "text/plain": [
       "True"
      ]
     },
     "execution_count": 40,
     "metadata": {},
     "output_type": "execute_result"
    }
   ],
   "source": [
    "(z^((p^6-1)/(p^2-1))) == (z^l)"
   ]
  },
  {
   "cell_type": "code",
   "execution_count": 12,
   "metadata": {
    "collapsed": false,
    "deletable": true,
    "editable": true
   },
   "outputs": [],
   "source": [
    "K, A = ext_scalars(GF(p), 3^2)"
   ]
  },
  {
   "cell_type": "code",
   "execution_count": 16,
   "metadata": {
    "collapsed": false,
    "deletable": true,
    "editable": true
   },
   "outputs": [
    {
     "data": {
      "text/plain": [
       "Univariate Polynomial Ring in z over Finite Field in x of size 17^9"
      ]
     },
     "execution_count": 16,
     "metadata": {},
     "output_type": "execute_result"
    }
   ],
   "source": [
    "A.modulus().parent()"
   ]
  },
  {
   "cell_type": "code",
   "execution_count": 67,
   "metadata": {
    "collapsed": false,
    "deletable": true,
    "editable": true
   },
   "outputs": [
    {
     "data": {
      "text/plain": [
       "x^6 + 3*x^3 + 1"
      ]
     },
     "execution_count": 67,
     "metadata": {},
     "output_type": "execute_result"
    }
   ],
   "source": [
    "g = gcd(A.modulus().substitute(x^l), R(cyclotomic_polynomial(l^3))); g"
   ]
  },
  {
   "cell_type": "code",
   "execution_count": 68,
   "metadata": {
    "collapsed": false,
    "deletable": true,
    "editable": true
   },
   "outputs": [
    {
     "data": {
      "text/plain": [
       "(15*x^8 + 2*x^7 + 9*x^6 + 11*x^5 + 8*x^4 + 16*x^3 + 14*x^2 + 10*x + 8)*z + 9*x^8 + 14*x^7 + 5*x^6 + 14*x^5 + 12*x^3 + 4*x^2 + 8"
      ]
     },
     "execution_count": 68,
     "metadata": {},
     "output_type": "execute_result"
    }
   ],
   "source": [
    "h = solve_h90(A); h"
   ]
  },
  {
   "cell_type": "code",
   "execution_count": 74,
   "metadata": {
    "collapsed": false,
    "deletable": true,
    "editable": true
   },
   "outputs": [
    {
     "data": {
      "text/plain": [
       "Finite Field in z4 of size 17^4"
      ]
     },
     "execution_count": 74,
     "metadata": {},
     "output_type": "execute_result"
    }
   ],
   "source": []
  },
  {
   "cell_type": "code",
   "execution_count": 78,
   "metadata": {
    "collapsed": false,
    "deletable": true,
    "editable": true
   },
   "outputs": [],
   "source": [
    "k3 = k.extension(l^3)"
   ]
  },
  {
   "cell_type": "code",
   "execution_count": 83,
   "metadata": {
    "collapsed": true,
    "deletable": true,
    "editable": true
   },
   "outputs": [],
   "source": [
    "R3 = k3['x']"
   ]
  },
  {
   "cell_type": "code",
   "execution_count": 89,
   "metadata": {
    "collapsed": false,
    "deletable": true,
    "editable": true
   },
   "outputs": [
    {
     "data": {
      "text/plain": [
       "x^6 + 3*x^3 + 1"
      ]
     },
     "execution_count": 89,
     "metadata": {},
     "output_type": "execute_result"
    }
   ],
   "source": [
    "g = gcd(A.modulus().change_ring(R3).substitute(R3.gen()^l), R3(cyclotomic_polynomial(l^3))); g"
   ]
  },
  {
   "cell_type": "code",
   "execution_count": 92,
   "metadata": {
    "collapsed": false,
    "deletable": true,
    "editable": true
   },
   "outputs": [],
   "source": [
    "A3 = R3.quo(g, 'z')"
   ]
  },
  {
   "cell_type": "code",
   "execution_count": 94,
   "metadata": {
    "collapsed": false,
    "deletable": true,
    "editable": true
   },
   "outputs": [
    {
     "data": {
      "text/plain": [
       "(9*z27^26 + 12*z27^25 + 12*z27^24 + 9*z27^23 + 4*z27^22 + 8*z27^21 + 14*z27^20 + 15*z27^19 + 7*z27^18 + z27^17 + 13*z27^16 + 9*z27^15 + 5*z27^14 + 6*z27^13 + 15*z27^12 + 8*z27^11 + 4*z27^10 + 5*z27^9 + 10*z27^8 + 13*z27^7 + 6*z27^5 + 10*z27^4 + 2*z27^3 + 10*z27^2 + 12*z27 + 8)*z^5 + (14*z27^26 + 12*z27^25 + 6*z27^24 + 16*z27^23 + 5*z27^22 + 9*z27^21 + 2*z27^20 + 7*z27^19 + 4*z27^18 + 4*z27^17 + 5*z27^16 + 13*z27^15 + z27^14 + 5*z27^13 + 2*z27^12 + 9*z27^11 + 9*z27^10 + 15*z27^9 + 2*z27^8 + 8*z27^6 + 9*z27^5 + 10*z27^4 + 16*z27^3 + 10*z27^2 + 5*z27 + 9)*z^4 + (z27^26 + z27^25 + 6*z27^24 + 6*z27^23 + 9*z27^22 + 5*z27^21 + 7*z27^20 + 7*z27^19 + 16*z27^18 + 7*z27^17 + z27^16 + 11*z27^15 + 10*z27^13 + 9*z27^12 + 13*z27^11 + 11*z27^10 + 12*z27^9 + 3*z27^8 + z27^7 + 5*z27^6 + 15*z27^5 + 7*z27^4 + 13*z27^3 + 16*z27^2 + 4*z27 + 16)*z^3 + (2*z27^26 + 7*z27^25 + z27^24 + 7*z27^23 + 6*z27^22 + 9*z27^21 + 8*z27^20 + 4*z27^19 + 15*z27^18 + 8*z27^17 + z27^16 + 5*z27^15 + 2*z27^14 + 16*z27^13 + 12*z27^12 + 7*z27^11 + 3*z27^10 + 9*z27^9 + 7*z27^8 + 16*z27^7 + z27^6 + 5*z27^5 + 16*z27^4 + 5*z27^3 + 8*z27^2 + 12*z27 + 6)*z^2 + (8*z27^26 + 3*z27^24 + 4*z27^23 + 14*z27^22 + z27^21 + z27^20 + 11*z27^19 + 7*z27^18 + 11*z27^17 + 16*z27^16 + 15*z27^15 + 2*z27^13 + 8*z27^12 + 14*z27^11 + 5*z27^10 + 16*z27^9 + 6*z27^8 + 16*z27^7 + 10*z27^6 + 11*z27^5 + 12*z27^4 + 3*z27^3 + 10*z27^2 + 6*z27 + 1)*z + 3*z27^26 + 3*z27^25 + 8*z27^24 + 16*z27^23 + 2*z27^22 + 16*z27^21 + 5*z27^20 + 5*z27^19 + 2*z27^18 + z27^17 + 4*z27^16 + 14*z27^15 + 16*z27^14 + 15*z27^13 + 12*z27^12 + 11*z27^11 + 3*z27^10 + 2*z27^9 + z27^8 + 16*z27^7 + z27^6 + 13*z27^5 + 8*z27^4 + 8*z27^3 + 6*z27^2 + 2*z27 + 8"
      ]
     },
     "execution_count": 94,
     "metadata": {},
     "output_type": "execute_result"
    }
   ],
   "source": [
    "h3 = solve_h90(A3); h3"
   ]
  },
  {
   "cell_type": "code",
   "execution_count": 99,
   "metadata": {
    "collapsed": false,
    "deletable": true,
    "editable": true
   },
   "outputs": [
    {
     "name": "stdout",
     "output_type": "stream",
     "text": [
      "27 9 6 2 3\n"
     ]
    },
    {
     "data": {
      "text/plain": [
       "(12*z27^26 + 13*z27^25 + 7*z27^24 + 11*z27^23 + 10*z27^22 + 7*z27^21 + 13*z27^20 + 8*z27^19 + 12*z27^18 + z27^16 + 9*z27^15 + 4*z27^14 + 16*z27^13 + 14*z27^12 + 7*z27^11 + 15*z27^10 + 10*z27^9 + 7*z27^8 + 2*z27^7 + 10*z27^6 + 10*z27^5 + 2*z27^3 + 13*z27^2 + 8*z27 + 2)*z^3 + 4*z27^26 + 11*z27^25 + 16*z27^23 + 12*z27^22 + 9*z27^20 + 16*z27^18 + 12*z27^17 + 11*z27^16 + z27^15 + 16*z27^14 + 14*z27^13 + 15*z27^12 + 13*z27^11 + 9*z27^10 + 14*z27^8 + 13*z27^7 + 7*z27^6 + 10*z27^5 + 15*z27^4 + 12*z27^3 + 12*z27^2 + 10*z27 + 13"
      ]
     },
     "execution_count": 99,
     "metadata": {},
     "output_type": "execute_result"
    }
   ],
   "source": [
    "i3 = rnorm(h3, l^2); i3"
   ]
  },
  {
   "cell_type": "code",
   "execution_count": 102,
   "metadata": {
    "collapsed": false,
    "deletable": true,
    "editable": true
   },
   "outputs": [
    {
     "data": {
      "text/plain": [
       "(True, True)"
      ]
     },
     "execution_count": 102,
     "metadata": {},
     "output_type": "execute_result"
    }
   ],
   "source": [
    "frob_l(i3, l^2) == i3, frob_r(i3, 2) == i3"
   ]
  },
  {
   "cell_type": "code",
   "execution_count": 110,
   "metadata": {
    "collapsed": false,
    "deletable": true,
    "editable": true
   },
   "outputs": [
    {
     "data": {
      "text/plain": [
       "4*z^3 + 16"
      ]
     },
     "execution_count": 110,
     "metadata": {},
     "output_type": "execute_result"
    }
   ],
   "source": [
    "i3^(l^2)"
   ]
  },
  {
   "cell_type": "code",
   "execution_count": 119,
   "metadata": {
    "collapsed": false,
    "deletable": true,
    "editable": true
   },
   "outputs": [
    {
     "data": {
      "text/plain": [
       "z + 4"
      ]
     },
     "execution_count": 119,
     "metadata": {},
     "output_type": "execute_result"
    }
   ],
   "source": [
    "ti = (h^(l^2)); ti"
   ]
  },
  {
   "cell_type": "code",
   "execution_count": 112,
   "metadata": {
    "collapsed": false,
    "deletable": true,
    "editable": true
   },
   "outputs": [
    {
     "data": {
      "text/plain": [
       "x^2 + (10*x^8 + 12*x^7 + 5*x^5 + 7*x^4 + 7*x^3 + 13*x + 8)*x + 12"
      ]
     },
     "execution_count": 112,
     "metadata": {},
     "output_type": "execute_result"
    }
   ],
   "source": [
    "h.minpoly()"
   ]
  },
  {
   "cell_type": "code",
   "execution_count": 114,
   "metadata": {
    "collapsed": false,
    "deletable": true,
    "editable": true
   },
   "outputs": [
    {
     "data": {
      "text/plain": [
       "x^2 + (11*z27^26 + 4*z27^24 + z27^23 + 6*z27^22 + 4*z27^21 + 4*z27^20 + 7*z27^19 + 4*z27^18 + 10*z27^17 + 15*z27^16 + 8*z27^15 + 14*z27^14 + 3*z27^13 + 12*z27^12 + 12*z27^11 + 10*z27^10 + 13*z27^9 + 10*z27^8 + 14*z27^7 + 16*z27^6 + 10*z27^5 + 4*z27^4 + 16*z27^3 + 15*z27^2 + 4*z27 + 14)*x + 5"
      ]
     },
     "execution_count": 114,
     "metadata": {},
     "output_type": "execute_result"
    }
   ],
   "source": [
    "i3.minpoly()"
   ]
  },
  {
   "cell_type": "code",
   "execution_count": 126,
   "metadata": {
    "collapsed": false,
    "deletable": true,
    "editable": true
   },
   "outputs": [
    {
     "data": {
      "text/plain": [
       "z + 4"
      ]
     },
     "execution_count": 126,
     "metadata": {},
     "output_type": "execute_result"
    }
   ],
   "source": [
    "C2([k(x) for x in (i3).list()]).polynomial().subs(C2.gen()^(n/m))"
   ]
  },
  {
   "cell_type": "code",
   "execution_count": 122,
   "metadata": {
    "collapsed": false,
    "deletable": true,
    "editable": true
   },
   "outputs": [
    {
     "data": {
      "text/plain": [
       "False"
      ]
     },
     "execution_count": 122,
     "metadata": {},
     "output_type": "execute_result"
    }
   ],
   "source": [
    "h.parent() == i3.parent()"
   ]
  },
  {
   "cell_type": "code",
   "execution_count": 47,
   "metadata": {
    "collapsed": false,
    "deletable": true,
    "editable": true
   },
   "outputs": [
    {
     "ename": "NameError",
     "evalue": "name 'h' is not defined",
     "output_type": "error",
     "traceback": [
      "\u001b[1;31m---------------------------------------------------------------------------\u001b[0m",
      "\u001b[1;31mNameError\u001b[0m                                 Traceback (most recent call last)",
      "\u001b[1;32m<ipython-input-47-b11a9a14cdc9>\u001b[0m in \u001b[0;36m<module>\u001b[1;34m()\u001b[0m\n\u001b[1;32m----> 1\u001b[1;33m \u001b[0ma\u001b[0m \u001b[1;33m=\u001b[0m \u001b[0mR\u001b[0m\u001b[1;33m(\u001b[0m\u001b[1;33m[\u001b[0m\u001b[0mx\u001b[0m \u001b[1;32mfor\u001b[0m \u001b[0mx\u001b[0m \u001b[1;32min\u001b[0m \u001b[1;33m(\u001b[0m\u001b[0mh\u001b[0m\u001b[1;33m**\u001b[0m\u001b[1;33m(\u001b[0m\u001b[0ml\u001b[0m\u001b[1;33m**\u001b[0m\u001b[0mInteger\u001b[0m\u001b[1;33m(\u001b[0m\u001b[1;36m2\u001b[0m\u001b[1;33m)\u001b[0m\u001b[1;33m)\u001b[0m\u001b[1;33m)\u001b[0m\u001b[1;33m.\u001b[0m\u001b[0mlist\u001b[0m\u001b[1;33m(\u001b[0m\u001b[1;33m)\u001b[0m\u001b[1;33m]\u001b[0m\u001b[1;33m)\u001b[0m\u001b[1;33m.\u001b[0m\u001b[0msubs\u001b[0m\u001b[1;33m(\u001b[0m\u001b[0mC2\u001b[0m\u001b[1;33m.\u001b[0m\u001b[0mgen\u001b[0m\u001b[1;33m(\u001b[0m\u001b[1;33m)\u001b[0m\u001b[1;33m**\u001b[0m\u001b[0ml\u001b[0m\u001b[1;33m)\u001b[0m\u001b[1;33m;\u001b[0m \u001b[0ma\u001b[0m\u001b[1;33m\u001b[0m\u001b[0m\n\u001b[0m",
      "\u001b[1;31mNameError\u001b[0m: name 'h' is not defined"
     ]
    }
   ],
   "source": [
    "a = R([x for x in (h^(l^2)).list()]).subs(C2.gen()^l); a"
   ]
  },
  {
   "cell_type": "code",
   "execution_count": 156,
   "metadata": {
    "collapsed": false,
    "deletable": true,
    "editable": true
   },
   "outputs": [
    {
     "data": {
      "text/plain": [
       "4*z^3 + 16"
      ]
     },
     "execution_count": 156,
     "metadata": {},
     "output_type": "execute_result"
    }
   ],
   "source": [
    "b = C2([k(x) for x in (i3^(l^2)).list()]); b"
   ]
  },
  {
   "cell_type": "code",
   "execution_count": 159,
   "metadata": {
    "collapsed": false,
    "deletable": true,
    "editable": true
   },
   "outputs": [
    {
     "data": {
      "text/plain": [
       "13"
      ]
     },
     "execution_count": 159,
     "metadata": {},
     "output_type": "execute_result"
    }
   ],
   "source": [
    "t = a/b; t"
   ]
  },
  {
   "cell_type": "code",
   "execution_count": 162,
   "metadata": {
    "collapsed": false,
    "deletable": true,
    "editable": true
   },
   "outputs": [
    {
     "data": {
      "text/plain": [
       "4"
      ]
     },
     "execution_count": 162,
     "metadata": {},
     "output_type": "execute_result"
    }
   ],
   "source": [
    "rt = t.nth_root(l); rt"
   ]
  },
  {
   "cell_type": "code",
   "execution_count": 167,
   "metadata": {
    "collapsed": false,
    "deletable": true,
    "editable": true
   },
   "outputs": [
    {
     "name": "stdout",
     "output_type": "stream",
     "text": [
      "27 9 6 2 3\n"
     ]
    },
    {
     "data": {
      "text/plain": [
       "(3*z27^26 + 16*z27^25 + 6*z27^24 + 7*z27^23 + 11*z27^22 + 6*z27^21 + 16*z27^20 + 2*z27^19 + 3*z27^18 + 13*z27^16 + 15*z27^15 + z27^14 + 4*z27^13 + 12*z27^12 + 6*z27^11 + 8*z27^10 + 11*z27^9 + 6*z27^8 + 9*z27^7 + 11*z27^6 + 11*z27^5 + 9*z27^3 + 16*z27^2 + 2*z27 + 9)*z^3 + z27^26 + 7*z27^25 + 4*z27^23 + 3*z27^22 + 15*z27^20 + 4*z27^18 + 3*z27^17 + 7*z27^16 + 13*z27^15 + 4*z27^14 + 12*z27^13 + 8*z27^12 + 16*z27^11 + 15*z27^10 + 12*z27^8 + 16*z27^7 + 6*z27^6 + 11*z27^5 + 8*z27^4 + 3*z27^3 + 3*z27^2 + 11*z27 + 16"
      ]
     },
     "execution_count": 167,
     "metadata": {},
     "output_type": "execute_result"
    }
   ],
   "source": [
    "rnorm(4*h3, l^2)"
   ]
  },
  {
   "cell_type": "code",
   "execution_count": 168,
   "metadata": {
    "collapsed": false,
    "deletable": true,
    "editable": true
   },
   "outputs": [
    {
     "name": "stdout",
     "output_type": "stream",
     "text": [
      "27 9 6 2 3\n",
      "27 9 6 2 3\n"
     ]
    },
    {
     "data": {
      "text/plain": [
       "True"
      ]
     },
     "execution_count": 168,
     "metadata": {},
     "output_type": "execute_result"
    }
   ],
   "source": [
    "rnorm(4*h3, l^2) == 13*rnorm(h3, l^2)"
   ]
  },
  {
   "cell_type": "code",
   "execution_count": 9,
   "metadata": {
    "collapsed": true,
    "deletable": true,
    "editable": true
   },
   "outputs": [],
   "source": []
  },
  {
   "cell_type": "code",
   "execution_count": 173,
   "metadata": {
    "collapsed": false,
    "deletable": true,
    "editable": true
   },
   "outputs": [
    {
     "name": "stdout",
     "output_type": "stream",
     "text": [
      "27 9 6 2 3\n"
     ]
    },
    {
     "data": {
      "text/plain": [
       "z27^26 + 7*z27^25 + 4*z27^23 + 3*z27^22 + 15*z27^20 + 4*z27^18 + 3*z27^17 + 7*z27^16 + 13*z27^15 + 4*z27^14 + 12*z27^13 + 8*z27^12 + 16*z27^11 + 15*z27^10 + 12*z27^8 + 16*z27^7 + 6*z27^6 + 11*z27^5 + 8*z27^4 + 3*z27^3 + 3*z27^2 + 11*z27 + 16"
      ]
     },
     "execution_count": 173,
     "metadata": {},
     "output_type": "execute_result"
    }
   ],
   "source": [
    "elem = change_basis(rnorm(4*h3, l^2), A3.gen()^l, 2); elem"
   ]
  },
  {
   "cell_type": "code",
   "execution_count": 174,
   "metadata": {
    "collapsed": false,
    "deletable": true,
    "editable": true
   },
   "outputs": [
    {
     "data": {
      "text/plain": [
       "x^9 + 8*x^7 + 10*x^5 + 4*x^3 + 9*x + 4"
      ]
     },
     "execution_count": 174,
     "metadata": {},
     "output_type": "execute_result"
    }
   ],
   "source": [
    "elem.minpoly()"
   ]
  },
  {
   "cell_type": "code",
   "execution_count": 176,
   "metadata": {
    "collapsed": false,
    "deletable": true,
    "editable": true
   },
   "outputs": [
    {
     "data": {
      "text/plain": [
       "x^9 + 8*x^7 + 10*x^5 + 4*x^3 + 9*x + 4"
      ]
     },
     "execution_count": 176,
     "metadata": {},
     "output_type": "execute_result"
    }
   ],
   "source": [
    "h.list()[0].minpoly()"
   ]
  },
  {
   "cell_type": "markdown",
   "metadata": {
    "deletable": true,
    "editable": true
   },
   "source": [
    "# An algorithm"
   ]
  },
  {
   "cell_type": "code",
   "execution_count": 9,
   "metadata": {
    "collapsed": false,
    "deletable": true,
    "editable": true
   },
   "outputs": [],
   "source": []
  },
  {
   "cell_type": "code",
   "execution_count": 10,
   "metadata": {
    "collapsed": false,
    "deletable": true,
    "editable": true
   },
   "outputs": [],
   "source": []
  },
  {
   "cell_type": "code",
   "execution_count": 64,
   "metadata": {
    "collapsed": false,
    "deletable": true,
    "editable": true
   },
   "outputs": [
    {
     "data": {
      "text/plain": [
       "6"
      ]
     },
     "execution_count": 64,
     "metadata": {},
     "output_type": "execute_result"
    }
   ],
   "source": [
    "p, l, n = 17, 3, 1\n",
    "cyclo_deg(GF(p), l^3)"
   ]
  },
  {
   "cell_type": "code",
   "execution_count": 360,
   "metadata": {
    "collapsed": false,
    "deletable": true,
    "editable": true
   },
   "outputs": [
    {
     "data": {
      "text/plain": [
       "5"
      ]
     },
     "execution_count": 360,
     "metadata": {},
     "output_type": "execute_result"
    }
   ],
   "source": [
    "h1.base_ring().degree()"
   ]
  },
  {
   "cell_type": "code",
   "execution_count": 18,
   "metadata": {
    "collapsed": false,
    "deletable": true,
    "editable": true
   },
   "outputs": [
    {
     "data": {
      "text/plain": [
       "True"
      ]
     },
     "execution_count": 18,
     "metadata": {},
     "output_type": "execute_result"
    }
   ],
   "source": [
    "h1, h2 = testl(p, l, n)\n",
    "is_iso(h1, h2)"
   ]
  },
  {
   "cell_type": "code",
   "execution_count": 356,
   "metadata": {
    "collapsed": false,
    "deletable": true,
    "editable": true
   },
   "outputs": [
    {
     "data": {
      "text/plain": [
       "True"
      ]
     },
     "execution_count": 356,
     "metadata": {},
     "output_type": "execute_result"
    }
   ],
   "source": [
    "is_iso(h1, h2)"
   ]
  },
  {
   "cell_type": "code",
   "execution_count": 290,
   "metadata": {
    "collapsed": true,
    "deletable": true,
    "editable": true
   },
   "outputs": [],
   "source": [
    "C.<w> = k.extension(m2)"
   ]
  },
  {
   "cell_type": "code",
   "execution_count": 293,
   "metadata": {
    "collapsed": false,
    "deletable": true,
    "editable": true
   },
   "outputs": [
    {
     "data": {
      "text/plain": [
       "x^2 + x + 1"
      ]
     },
     "execution_count": 293,
     "metadata": {},
     "output_type": "execute_result"
    }
   ],
   "source": [
    "(w^l).minpoly()"
   ]
  },
  {
   "cell_type": "code",
   "execution_count": 172,
   "metadata": {
    "collapsed": false,
    "deletable": true,
    "editable": true
   },
   "outputs": [
    {
     "name": "stdout",
     "output_type": "stream",
     "text": [
      "True\n"
     ]
    },
    {
     "ename": "ValueError",
     "evalue": "no nth root",
     "output_type": "error",
     "traceback": [
      "\u001b[1;31m---------------------------------------------------------------------------\u001b[0m",
      "\u001b[1;31mValueError\u001b[0m                                Traceback (most recent call last)",
      "\u001b[1;32m<ipython-input-172-a9e9fc8919a1>\u001b[0m in \u001b[0;36m<module>\u001b[1;34m()\u001b[0m\n\u001b[0;32m      1\u001b[0m \u001b[1;32mfor\u001b[0m \u001b[0mi\u001b[0m \u001b[1;32min\u001b[0m \u001b[0mrange\u001b[0m\u001b[1;33m(\u001b[0m\u001b[0mInteger\u001b[0m\u001b[1;33m(\u001b[0m\u001b[1;36m10\u001b[0m\u001b[1;33m)\u001b[0m\u001b[1;33m)\u001b[0m\u001b[1;33m:\u001b[0m\u001b[1;33m\u001b[0m\u001b[0m\n\u001b[1;32m----> 2\u001b[1;33m     \u001b[0mh1\u001b[0m\u001b[1;33m,\u001b[0m \u001b[0mh2\u001b[0m \u001b[1;33m=\u001b[0m \u001b[0mtestl\u001b[0m\u001b[1;33m(\u001b[0m\u001b[0mp\u001b[0m\u001b[1;33m,\u001b[0m \u001b[0ml\u001b[0m\u001b[1;33m,\u001b[0m \u001b[0mn\u001b[0m\u001b[1;33m)\u001b[0m\u001b[1;33m\u001b[0m\u001b[0m\n\u001b[0m\u001b[0;32m      3\u001b[0m     \u001b[1;32mprint\u001b[0m \u001b[0mis_iso\u001b[0m\u001b[1;33m(\u001b[0m\u001b[0mh1\u001b[0m\u001b[1;33m,\u001b[0m \u001b[0mh2\u001b[0m\u001b[1;33m)\u001b[0m\u001b[1;33m\u001b[0m\u001b[0m\n",
      "\u001b[1;32m<ipython-input-132-5119ea215e1b>\u001b[0m in \u001b[0;36mtestl\u001b[1;34m(p, l, n)\u001b[0m\n\u001b[0;32m     57\u001b[0m \u001b[1;33m\u001b[0m\u001b[0m\n\u001b[0;32m     58\u001b[0m     \u001b[0mt\u001b[0m \u001b[1;33m=\u001b[0m \u001b[0ma\u001b[0m\u001b[1;33m/\u001b[0m\u001b[0mb\u001b[0m\u001b[1;33m\u001b[0m\u001b[0m\n\u001b[1;32m---> 59\u001b[1;33m     \u001b[0mc\u001b[0m \u001b[1;33m=\u001b[0m \u001b[0mt\u001b[0m\u001b[1;33m.\u001b[0m\u001b[0mnth_root\u001b[0m\u001b[1;33m(\u001b[0m\u001b[0ml\u001b[0m\u001b[1;33m**\u001b[0m\u001b[1;33m(\u001b[0m\u001b[0mn\u001b[0m\u001b[1;33m+\u001b[0m\u001b[0mInteger\u001b[0m\u001b[1;33m(\u001b[0m\u001b[1;36m1\u001b[0m\u001b[1;33m)\u001b[0m\u001b[1;33m)\u001b[0m\u001b[1;33m)\u001b[0m\u001b[1;33m\u001b[0m\u001b[0m\n\u001b[0m\u001b[0;32m     60\u001b[0m     \u001b[1;32mreturn\u001b[0m \u001b[0mh1\u001b[0m\u001b[1;33m,\u001b[0m \u001b[0mA2\u001b[0m\u001b[1;33m(\u001b[0m\u001b[0mc\u001b[0m\u001b[1;33m.\u001b[0m\u001b[0mpolynomial\u001b[0m\u001b[1;33m(\u001b[0m\u001b[1;33m)\u001b[0m\u001b[1;33m.\u001b[0m\u001b[0mlist\u001b[0m\u001b[1;33m(\u001b[0m\u001b[1;33m)\u001b[0m\u001b[1;33m)\u001b[0m\u001b[1;33m*\u001b[0m\u001b[0mh2\u001b[0m\u001b[1;33m\u001b[0m\u001b[0m\n\u001b[0;32m     61\u001b[0m \u001b[1;33m\u001b[0m\u001b[0m\n",
      "\u001b[1;32m/home/erou/sage/src/sage/rings/finite_rings/element_base.pyx\u001b[0m in \u001b[0;36msage.rings.finite_rings.element_base.FinitePolyExtElement.nth_root (build/cythonized/sage/rings/finite_rings/element_base.c:10370)\u001b[1;34m()\u001b[0m\n\u001b[0;32m    749\u001b[0m         \u001b[1;32mfrom\u001b[0m \u001b[0msage\u001b[0m\u001b[1;33m.\u001b[0m\u001b[0mrings\u001b[0m\u001b[1;33m.\u001b[0m\u001b[0minteger\u001b[0m \u001b[1;32mimport\u001b[0m \u001b[0mInteger\u001b[0m\u001b[1;33m\u001b[0m\u001b[0m\n\u001b[0;32m    750\u001b[0m         \u001b[0mn\u001b[0m \u001b[1;33m=\u001b[0m \u001b[0mInteger\u001b[0m\u001b[1;33m(\u001b[0m\u001b[0mn\u001b[0m\u001b[1;33m)\u001b[0m\u001b[1;33m\u001b[0m\u001b[0m\n\u001b[1;32m--> 751\u001b[1;33m         \u001b[1;32mreturn\u001b[0m \u001b[0mself\u001b[0m\u001b[1;33m.\u001b[0m\u001b[0m_nth_root_common\u001b[0m\u001b[1;33m(\u001b[0m\u001b[0mn\u001b[0m\u001b[1;33m,\u001b[0m \u001b[0mall\u001b[0m\u001b[1;33m,\u001b[0m \u001b[0malgorithm\u001b[0m\u001b[1;33m,\u001b[0m \u001b[0mcunningham\u001b[0m\u001b[1;33m)\u001b[0m\u001b[1;33m\u001b[0m\u001b[0m\n\u001b[0m\u001b[0;32m    752\u001b[0m \u001b[1;33m\u001b[0m\u001b[0m\n\u001b[0;32m    753\u001b[0m     \u001b[1;32mdef\u001b[0m \u001b[0mpth_power\u001b[0m\u001b[1;33m(\u001b[0m\u001b[0mself\u001b[0m\u001b[1;33m,\u001b[0m \u001b[0mint\u001b[0m \u001b[0mk\u001b[0m \u001b[1;33m=\u001b[0m \u001b[1;36m1\u001b[0m\u001b[1;33m)\u001b[0m\u001b[1;33m:\u001b[0m\u001b[1;33m\u001b[0m\u001b[0m\n",
      "\u001b[1;32m/home/erou/sage/src/sage/rings/finite_rings/element_base.pyx\u001b[0m in \u001b[0;36msage.rings.finite_rings.element_base.FiniteRingElement._nth_root_common (build/cythonized/sage/rings/finite_rings/element_base.c:3458)\u001b[1;34m()\u001b[0m\n\u001b[0;32m     70\u001b[0m         \u001b[1;32mif\u001b[0m \u001b[0mself\u001b[0m\u001b[1;33m**\u001b[0m\u001b[0mq1overn\u001b[0m \u001b[1;33m!=\u001b[0m \u001b[1;36m1\u001b[0m\u001b[1;33m:\u001b[0m\u001b[1;33m\u001b[0m\u001b[0m\n\u001b[0;32m     71\u001b[0m             \u001b[1;32mif\u001b[0m \u001b[0mall\u001b[0m\u001b[1;33m:\u001b[0m \u001b[1;32mreturn\u001b[0m \u001b[1;33m[\u001b[0m\u001b[1;33m]\u001b[0m\u001b[1;33m\u001b[0m\u001b[0m\n\u001b[1;32m---> 72\u001b[1;33m             \u001b[1;32melse\u001b[0m\u001b[1;33m:\u001b[0m \u001b[1;32mraise\u001b[0m \u001b[0mValueError\u001b[0m\u001b[1;33m(\u001b[0m\u001b[1;34m\"no nth root\"\u001b[0m\u001b[1;33m)\u001b[0m\u001b[1;33m\u001b[0m\u001b[0m\n\u001b[0m\u001b[0;32m     73\u001b[0m         \u001b[0mself\u001b[0m \u001b[1;33m=\u001b[0m \u001b[0mself\u001b[0m\u001b[1;33m**\u001b[0m\u001b[0malpha\u001b[0m\u001b[1;33m\u001b[0m\u001b[0m\n\u001b[0;32m     74\u001b[0m         \u001b[1;32mif\u001b[0m \u001b[0mcunningham\u001b[0m\u001b[1;33m:\u001b[0m\u001b[1;33m\u001b[0m\u001b[0m\n",
      "\u001b[1;31mValueError\u001b[0m: no nth root"
     ]
    }
   ],
   "source": [
    "for i in range(10):\n",
    "    h1, h2 = testl(p, l, n)\n",
    "    print is_iso(h1, h2)"
   ]
  },
  {
   "cell_type": "code",
   "execution_count": 98,
   "metadata": {
    "collapsed": false,
    "deletable": true,
    "editable": true
   },
   "outputs": [
    {
     "data": {
      "text/plain": [
       "x^2 + x + 1"
      ]
     },
     "execution_count": 98,
     "metadata": {},
     "output_type": "execute_result"
    }
   ],
   "source": [
    "(h2.parent().gen()^3).minpoly()"
   ]
  },
  {
   "cell_type": "code",
   "execution_count": 105,
   "metadata": {
    "collapsed": false,
    "deletable": true,
    "editable": true
   },
   "outputs": [],
   "source": [
    "h1.parent().modulus()\n",
    "k = GF(p)"
   ]
  },
  {
   "cell_type": "code",
   "execution_count": 109,
   "metadata": {
    "collapsed": false,
    "deletable": true,
    "editable": true
   },
   "outputs": [
    {
     "data": {
      "text/plain": [
       "11*z + 10"
      ]
     },
     "execution_count": 109,
     "metadata": {},
     "output_type": "execute_result"
    }
   ],
   "source": [
    "c1 = C([k(x) for x in (h2^9).list()]); c1"
   ]
  },
  {
   "cell_type": "code",
   "execution_count": 113,
   "metadata": {
    "collapsed": false,
    "deletable": true,
    "editable": true
   },
   "outputs": [
    {
     "data": {
      "text/plain": [
       "11*z + 10"
      ]
     },
     "execution_count": 113,
     "metadata": {},
     "output_type": "execute_result"
    }
   ],
   "source": [
    "R = k['z']\n",
    "c2 = R([x for x in (h1^3).list()]).subs(C.gen()^3); c2"
   ]
  },
  {
   "cell_type": "code",
   "execution_count": 117,
   "metadata": {
    "collapsed": false,
    "deletable": true,
    "editable": true
   },
   "outputs": [
    {
     "data": {
      "text/plain": [
       "x^2 + x + 1"
      ]
     },
     "execution_count": 117,
     "metadata": {},
     "output_type": "execute_result"
    }
   ],
   "source": [
    "(C.gen()^3).minpoly()"
   ]
  },
  {
   "cell_type": "code",
   "execution_count": 125,
   "metadata": {
    "collapsed": false,
    "deletable": true,
    "editable": true
   },
   "outputs": [
    {
     "data": {
      "text/plain": [
       "x^3 + 14*x + 13"
      ]
     },
     "execution_count": 125,
     "metadata": {},
     "output_type": "execute_result"
    }
   ],
   "source": [
    "change_basis(h2^3, h2.parent().gen()^3, 2).minpoly()"
   ]
  },
  {
   "cell_type": "code",
   "execution_count": 128,
   "metadata": {
    "collapsed": false,
    "deletable": true,
    "editable": true
   },
   "outputs": [
    {
     "data": {
      "text/plain": [
       "x^3 + 14*x + 13"
      ]
     },
     "execution_count": 128,
     "metadata": {},
     "output_type": "execute_result"
    }
   ],
   "source": [
    "h1.list()[0].minpoly()"
   ]
  },
  {
   "cell_type": "code",
   "execution_count": 129,
   "metadata": {
    "collapsed": false,
    "deletable": true,
    "editable": true
   },
   "outputs": [
    {
     "data": {
      "text/plain": [
       "False"
      ]
     },
     "execution_count": 129,
     "metadata": {},
     "output_type": "execute_result"
    }
   ],
   "source": [
    "is_iso(h1, h2)"
   ]
  },
  {
   "cell_type": "code",
   "execution_count": 131,
   "metadata": {
    "collapsed": false,
    "deletable": true,
    "editable": true
   },
   "outputs": [
    {
     "data": {
      "text/plain": [
       "3"
      ]
     },
     "execution_count": 131,
     "metadata": {},
     "output_type": "execute_result"
    }
   ],
   "source": [
    "h1.base_ring().degree()"
   ]
  },
  {
   "cell_type": "code",
   "execution_count": 51,
   "metadata": {
    "collapsed": false,
    "deletable": true,
    "editable": true
   },
   "outputs": [
    {
     "data": {
      "text/plain": [
       "2^3 * 3 * 5"
      ]
     },
     "execution_count": 51,
     "metadata": {},
     "output_type": "execute_result"
    }
   ],
   "source": [
    "q = 11\n",
    "factor(q^2-1)"
   ]
  },
  {
   "cell_type": "code",
   "execution_count": 54,
   "metadata": {
    "collapsed": false,
    "deletable": true,
    "editable": true
   },
   "outputs": [],
   "source": [
    "k = GF(p)"
   ]
  },
  {
   "cell_type": "code",
   "execution_count": 55,
   "metadata": {
    "collapsed": false,
    "deletable": true,
    "editable": true
   },
   "outputs": [],
   "source": [
    "R.<x> = k[]"
   ]
  },
  {
   "cell_type": "code",
   "execution_count": 63,
   "metadata": {
    "collapsed": false,
    "deletable": true,
    "editable": true
   },
   "outputs": [],
   "source": [
    "f = cyclotomic_polynomial(21).change_ring(k)"
   ]
  },
  {
   "cell_type": "code",
   "execution_count": 64,
   "metadata": {
    "collapsed": false,
    "deletable": true,
    "editable": true
   },
   "outputs": [],
   "source": [
    "f = f.factor()[0][0]"
   ]
  },
  {
   "cell_type": "code",
   "execution_count": 65,
   "metadata": {
    "collapsed": false,
    "deletable": true,
    "editable": true
   },
   "outputs": [
    {
     "data": {
      "text/plain": [
       "x^6 + 7*x^5 + 11*x^4 + x^3 + 7*x^2 + 11*x + 1"
      ]
     },
     "execution_count": 65,
     "metadata": {},
     "output_type": "execute_result"
    }
   ],
   "source": [
    "f"
   ]
  },
  {
   "cell_type": "code",
   "execution_count": 66,
   "metadata": {
    "collapsed": true,
    "deletable": true,
    "editable": true
   },
   "outputs": [],
   "source": [
    "C.<z> = k.extension(f)"
   ]
  },
  {
   "cell_type": "code",
   "execution_count": 68,
   "metadata": {
    "collapsed": false,
    "deletable": true,
    "editable": true
   },
   "outputs": [],
   "source": []
  },
  {
   "cell_type": "code",
   "execution_count": 25,
   "metadata": {
    "collapsed": false,
    "deletable": true,
    "editable": true
   },
   "outputs": [
    {
     "data": {
      "text/plain": [
       "(1, -2)"
      ]
     },
     "execution_count": 25,
     "metadata": {},
     "output_type": "execute_result"
    }
   ],
   "source": [
    "xgcd(7, 3)[1:]"
   ]
  },
  {
   "cell_type": "code",
   "execution_count": 73,
   "metadata": {
    "collapsed": false,
    "deletable": true,
    "editable": true
   },
   "outputs": [
    {
     "data": {
      "text/plain": [
       "12*z^5 + z^4 + 8*z^3 + 7*z^2 + 15*z + 4"
      ]
     },
     "execution_count": 73,
     "metadata": {},
     "output_type": "execute_result"
    }
   ],
   "source": [
    "r = C.random_element()\n",
    "(r^(-2*3))."
   ]
  },
  {
   "cell_type": "code",
   "execution_count": 72,
   "metadata": {
    "collapsed": false,
    "deletable": true,
    "editable": true
   },
   "outputs": [
    {
     "name": "stdout",
     "output_type": "stream",
     "text": [
      "21 1 6 1 21\n"
     ]
    },
    {
     "data": {
      "text/plain": [
       "False"
      ]
     },
     "execution_count": 72,
     "metadata": {},
     "output_type": "execute_result"
    }
   ],
   "source": [
    "K, A = ext_scalars(GF(19), 21)\n",
    "h = solve_h90(A)\n",
    "u = h*frob_r(h, 1)*frob_r(h, 2)*frob_r(h, 3)*frob_r(h, 4)*frob_r(h, 5)\n",
    "i = rnorm(h, 1); i\n",
    "# is_h90(u, A.gen()^7), frob_r(u, 21) == u, u == v\n",
    "i == u"
   ]
  },
  {
   "cell_type": "code",
   "execution_count": 71,
   "metadata": {
    "collapsed": false,
    "deletable": true,
    "editable": true
   },
   "outputs": [
    {
     "data": {
      "text/plain": [
       "3"
      ]
     },
     "execution_count": 71,
     "metadata": {},
     "output_type": "execute_result"
    }
   ],
   "source": [
    "u"
   ]
  },
  {
   "cell_type": "code",
   "execution_count": 67,
   "metadata": {
    "collapsed": false,
    "deletable": true,
    "editable": true
   },
   "outputs": [
    {
     "data": {
      "text/plain": [
       "(17*x^6 + 8*x^5 + 13*x^4 + 3*x^3 + x^2 + x + 6)*z^5 + (13*x^6 + 3*x^5 + 6*x^3 + 15*x^2 + 2*x + 18)*z^4 + (8*x^6 + 10*x^5 + 16*x^4 + 3*x^3 + 15*x^2 + 15*x + 14)*z^3 + (15*x^6 + 13*x^5 + 12*x^4 + 3*x^3 + 8*x^2 + 8*x + 12)*z^2 + (4*x^6 + 11*x^5 + 10*x^4 + x^3 + 5*x^2 + 11*x + 7)*z + 4*x^6 + 4*x^5 + 17*x^4 + 16*x^3 + 15*x^2 + 7*x + 7"
      ]
     },
     "execution_count": 67,
     "metadata": {},
     "output_type": "execute_result"
    }
   ],
   "source": [
    "h"
   ]
  },
  {
   "cell_type": "code",
   "execution_count": 60,
   "metadata": {
    "collapsed": false,
    "deletable": true,
    "editable": true
   },
   "outputs": [
    {
     "data": {
      "text/plain": [
       "9*z^5"
      ]
     },
     "execution_count": 60,
     "metadata": {},
     "output_type": "execute_result"
    }
   ],
   "source": [
    "i^5"
   ]
  },
  {
   "cell_type": "code",
   "execution_count": 61,
   "metadata": {
    "collapsed": false,
    "deletable": true,
    "editable": true
   },
   "outputs": [
    {
     "data": {
      "text/plain": [
       "5*z^9 + 13*z^8 + 6*z^6 + 8*z^5 + 13*z^4 + 13*z^3 + 17*z^2 + 14*z + 9"
      ]
     },
     "execution_count": 61,
     "metadata": {},
     "output_type": "execute_result"
    }
   ],
   "source": [
    "h^25"
   ]
  },
  {
   "cell_type": "code",
   "execution_count": 89,
   "metadata": {
    "collapsed": false,
    "deletable": true,
    "editable": true
   },
   "outputs": [
    {
     "data": {
      "text/plain": [
       "18"
      ]
     },
     "execution_count": 89,
     "metadata": {},
     "output_type": "execute_result"
    }
   ],
   "source": [
    "cyclo_deg(GF(11), 3^3)"
   ]
  },
  {
   "cell_type": "code",
   "execution_count": 73,
   "metadata": {
    "collapsed": true,
    "deletable": true,
    "editable": true
   },
   "outputs": [],
   "source": [
    "z = A.gen()"
   ]
  },
  {
   "cell_type": "code",
   "execution_count": 77,
   "metadata": {
    "collapsed": false,
    "deletable": true,
    "editable": true
   },
   "outputs": [
    {
     "data": {
      "text/plain": [
       "z"
      ]
     },
     "execution_count": 77,
     "metadata": {},
     "output_type": "execute_result"
    }
   ],
   "source": [
    "h = z\n",
    "h*frob_r(h, 1)*frob_r(h, 2)*frob_r(h, 3)*frob_r(h, 4)*frob_r(h, 5)"
   ]
  },
  {
   "cell_type": "code",
   "execution_count": 78,
   "metadata": {
    "collapsed": false,
    "deletable": true,
    "editable": true
   },
   "outputs": [
    {
     "name": "stdout",
     "output_type": "stream",
     "text": [
      "21 3 6 1 7\n"
     ]
    },
    {
     "data": {
      "text/plain": [
       "z"
      ]
     },
     "execution_count": 78,
     "metadata": {},
     "output_type": "execute_result"
    }
   ],
   "source": [
    "rnorm(z, 3)"
   ]
  },
  {
   "cell_type": "code",
   "execution_count": 79,
   "metadata": {
    "collapsed": false,
    "deletable": true,
    "editable": true
   },
   "outputs": [
    {
     "data": {
      "text/plain": [
       "z"
      ]
     },
     "execution_count": 79,
     "metadata": {},
     "output_type": "execute_result"
    }
   ],
   "source": [
    "frob_r(h, 6)"
   ]
  },
  {
   "cell_type": "code",
   "execution_count": 85,
   "metadata": {
    "collapsed": false,
    "deletable": true,
    "editable": true
   },
   "outputs": [
    {
     "data": {
      "text/plain": [
       "z"
      ]
     },
     "execution_count": 85,
     "metadata": {},
     "output_type": "execute_result"
    }
   ],
   "source": [
    "frob_r(h, 6)"
   ]
  },
  {
   "cell_type": "code",
   "execution_count": 86,
   "metadata": {
    "collapsed": false,
    "deletable": true,
    "editable": true
   },
   "outputs": [
    {
     "data": {
      "text/plain": [
       "x^6 + 7*x^5 + 11*x^4 + x^3 + 7*x^2 + 11*x + 1"
      ]
     },
     "execution_count": 86,
     "metadata": {},
     "output_type": "execute_result"
    }
   ],
   "source": [
    "(z^.minpoly()"
   ]
  },
  {
   "cell_type": "code",
   "execution_count": 90,
   "metadata": {
    "collapsed": false,
    "deletable": true,
    "editable": true
   },
   "outputs": [
    {
     "name": "stdout",
     "output_type": "stream",
     "text": [
      "9 3 6 2 3\n"
     ]
    },
    {
     "data": {
      "text/plain": [
       "((7*x^2 + x + 2)*z + 2*x^2 + 9*x + 10,\n",
       " (9*z9^8 + 2*z9^7 + 3*z9^6 + z9^5 + 10*z9^4 + 5*z9^3 + 4*z9^2 + 5*z9 + 1)*z^5 + (10*z9^8 + 9*z9^7 + z9^6 + 3*z9^5 + 10*z9^4 + 6*z9^3 + 10*z9^2 + 7*z9 + 7)*z^4 + (6*z9^8 + 6*z9^7 + 7*z9^6 + 7*z9^5 + 2*z9^4 + 7*z9^3 + 3*z9^2 + 6*z9 + 4)*z^3 + (2*z9^8 + 6*z9^7 + 10*z9^6 + 6*z9^5 + 4*z9^4 + 7*z9^3 + 7*z9^2 + 3*z9)*z^2 + (4*z9^8 + 3*z9^7 + 5*z9^6 + z9^5 + 8*z9^4 + 2*z9^3 + 9*z9 + 3)*z + 5*z9^8 + 7*z9^7 + z9^6 + 6*z9^5 + 10*z9^4 + 6*z9^3 + z9^2 + 10)"
      ]
     },
     "execution_count": 90,
     "metadata": {},
     "output_type": "execute_result"
    }
   ],
   "source": []
  },
  {
   "cell_type": "code",
   "execution_count": 98,
   "metadata": {
    "collapsed": false,
    "deletable": true,
    "editable": true
   },
   "outputs": [
    {
     "data": {
      "text/plain": [
       "True"
      ]
     },
     "execution_count": 98,
     "metadata": {},
     "output_type": "execute_result"
    }
   ],
   "source": [
    "is_iso(h1, h2)"
   ]
  },
  {
   "cell_type": "code",
   "execution_count": 97,
   "metadata": {
    "collapsed": false,
    "deletable": true,
    "editable": true
   },
   "outputs": [
    {
     "data": {
      "text/plain": [
       "4"
      ]
     },
     "execution_count": 97,
     "metadata": {},
     "output_type": "execute_result"
    }
   ],
   "source": []
  },
  {
   "cell_type": "code",
   "execution_count": 94,
   "metadata": {
    "collapsed": true,
    "deletable": true,
    "editable": true
   },
   "outputs": [],
   "source": [
    "l = 4"
   ]
  },
  {
   "cell_type": "code",
   "execution_count": 12,
   "metadata": {
    "collapsed": true,
    "deletable": true,
    "editable": true
   },
   "outputs": [],
   "source": [
    "\"\"\"\n",
    "Here we find an element h2 solution of H90 in F_p^n compatible with h1.\n",
    "\"\"\"\n",
    "def findh90(h1, n):\n",
    "    k = h1.base_ring().base_ring()\n",
    "    k1, A1 = h1.base_ring(), h1.parent()\n",
    "    M1 = A1.modulus()\n",
    "    R = k['z']\n",
    "    m = k1.degree()\n",
    "    l = n // m\n",
    "    k2 = k.extension(n)\n",
    "    R2 = k2['z']\n",
    "    x = R.gen()\n",
    "    M2 = gcd(M1.change_ring(k).substitute(x^l), R(cyclotomic_polynomial(n))).factor()[0][0]\n",
    "    A2 = R2.quo(M2, 'z')\n",
    "    h2 = solve_h90(A2)\n",
    "    i2 = rnorm(h2, m)\n",
    "    aa = h1^(m)\n",
    "    bb = i2^(m)\n",
    "    C = k.extension(M2, 'x')\n",
    "    \n",
    "    a = R([x for x in aa.list()]).subs(C.gen()^l)\n",
    "    b = C([k(x) for x in bb.list()])\n",
    "    \n",
    "    t = a/b\n",
    "    c = t.nth_root(n)\n",
    "    return A2(c.polynomial().list())*h2"
   ]
  },
  {
   "cell_type": "code",
   "execution_count": 101,
   "metadata": {
    "collapsed": false,
    "deletable": true,
    "editable": true
   },
   "outputs": [
    {
     "data": {
      "text/plain": [
       "Finite Field in x of size 11^9"
      ]
     },
     "execution_count": 101,
     "metadata": {},
     "output_type": "execute_result"
    }
   ],
   "source": [
    "h1.base_ring()"
   ]
  },
  {
   "cell_type": "code",
   "execution_count": 120,
   "metadata": {
    "collapsed": true,
    "deletable": true,
    "editable": true
   },
   "outputs": [],
   "source": [
    "h1, h2 = testl(11, 3, 1)"
   ]
  },
  {
   "cell_type": "code",
   "execution_count": 121,
   "metadata": {
    "collapsed": true,
    "deletable": true,
    "editable": true
   },
   "outputs": [],
   "source": [
    "h2b = findh90(h1, 3^2)"
   ]
  },
  {
   "cell_type": "code",
   "execution_count": 122,
   "metadata": {
    "collapsed": false,
    "deletable": true,
    "editable": true
   },
   "outputs": [
    {
     "data": {
      "text/plain": [
       "False"
      ]
     },
     "execution_count": 122,
     "metadata": {},
     "output_type": "execute_result"
    }
   ],
   "source": [
    "h2 == h2b"
   ]
  },
  {
   "cell_type": "code",
   "execution_count": 123,
   "metadata": {
    "collapsed": false,
    "deletable": true,
    "editable": true
   },
   "outputs": [
    {
     "data": {
      "text/plain": [
       "(5*z9^8 + 8*z9^7 + 4*z9^6 + z9^5 + 3*z9^3 + 2*z9^2 + 3*z9 + 6)*z^5 + (3*z9^7 + 3*z9^6 + 10*z9^5 + 6*z9^4 + 8*z9^3 + 4*z9^2 + z9 + 10)*z^4 + (5*z9^8 + z9^7 + 8*z9^6 + 6*z9^5 + 3*z9^4 + 4*z9^3 + 8*z9^2 + 6*z9 + 1)*z^3 + (9*z9^8 + z9^7 + 5*z9^6 + 6*z9^5 + 5*z9^4 + 2*z9^3 + 10*z9^2 + 4*z9 + 5)*z^2 + (6*z9^8 + 4*z9^6 + z9^5 + 7*z9^4 + z9^3 + 10*z9^2 + 5*z9 + 6)*z + 10*z9^8 + 9*z9^7 + 10*z9^6 + 4*z9^5 + 10*z9^4 + 10*z9^3 + 6*z9^2 + 8*z9 + 7"
      ]
     },
     "execution_count": 123,
     "metadata": {},
     "output_type": "execute_result"
    }
   ],
   "source": [
    "h2"
   ]
  },
  {
   "cell_type": "code",
   "execution_count": 124,
   "metadata": {
    "collapsed": false,
    "deletable": true,
    "editable": true
   },
   "outputs": [
    {
     "data": {
      "text/plain": [
       "(4*z9^8 + 7*z9^7 + 8*z9^6 + 9*z9^5 + 2*z9^4 + 8*z9^3 + 7*z9^2 + 4*z9 + 9)*z^5 + (9*z9^7 + 4*z9^5 + 8*z9^4 + 3*z9^3 + 3*z9^2 + 7*z9 + 8)*z^4 + (7*z9^8 + 4*z9^7 + 6*z9^6 + 4*z9^5 + 8*z9^4 + 6*z9 + 2)*z^3 + (10*z9^8 + 8*z9^7 + 10*z9^6 + 5*z9^5 + 4*z9^4 + 10*z9^3 + 6*z9^2 + z9)*z^2 + (6*z9^8 + 5*z9^7 + 10*z9^6 + 7*z9^5 + 4*z9^4 + 4*z9^3 + 9*z9^2 + 8)*z + 3*z9^8 + 8*z9^5 + 6*z9^4 + 10*z9^3 + 4*z9^2 + 2*z9 + 3"
      ]
     },
     "execution_count": 124,
     "metadata": {},
     "output_type": "execute_result"
    }
   ],
   "source": [
    "h2b"
   ]
  },
  {
   "cell_type": "code",
   "execution_count": 125,
   "metadata": {
    "collapsed": false,
    "deletable": true,
    "editable": true
   },
   "outputs": [
    {
     "data": {
      "text/plain": [
       "True"
      ]
     },
     "execution_count": 125,
     "metadata": {},
     "output_type": "execute_result"
    }
   ],
   "source": [
    "is_iso(h1, h2)"
   ]
  },
  {
   "cell_type": "code",
   "execution_count": 126,
   "metadata": {
    "collapsed": false,
    "deletable": true,
    "editable": true
   },
   "outputs": [
    {
     "data": {
      "text/plain": [
       "True"
      ]
     },
     "execution_count": 126,
     "metadata": {},
     "output_type": "execute_result"
    }
   ],
   "source": [
    "is_iso(h1, h2b)"
   ]
  },
  {
   "cell_type": "code",
   "execution_count": 113,
   "metadata": {
    "collapsed": false,
    "deletable": true,
    "editable": true
   },
   "outputs": [
    {
     "data": {
      "text/plain": [
       "(4*z9^8 + 2*z9^7 + 4*z9^6 + 2*z9^4 + 3*z9^3 + 10*z9^2 + 2*z9 + 7)*z^3 + 9*z9^8 + 6*z9^7 + 2*z9^6 + 8*z9^5 + 4*z9^4 + 7*z9^3 + 3*z9^2 + 7"
      ]
     },
     "execution_count": 113,
     "metadata": {},
     "output_type": "execute_result"
    }
   ],
   "source": [
    "i2 = rnorm(h2b, 3); i2"
   ]
  },
  {
   "cell_type": "code",
   "execution_count": 114,
   "metadata": {
    "collapsed": false,
    "deletable": true,
    "editable": true
   },
   "outputs": [
    {
     "data": {
      "text/plain": [
       "(3*z9^8 + 4*z9^7 + 6*z9^6 + 6*z9^5 + 8*z9^4 + 10*z9^3 + 8*z9^2 + 5*z9 + 9)*z^3 + 7*z9^8 + 7*z9^7 + 9*z9^6 + 4*z9^5 + 6*z9^4 + 4*z9^3 + 5*z9^2 + 4*z9 + 1"
      ]
     },
     "execution_count": 114,
     "metadata": {},
     "output_type": "execute_result"
    }
   ],
   "source": [
    "i2b = rnorm(h2, 3); i2b"
   ]
  },
  {
   "cell_type": "code",
   "execution_count": 115,
   "metadata": {
    "collapsed": false,
    "deletable": true,
    "editable": true
   },
   "outputs": [
    {
     "data": {
      "text/plain": [
       "10*z^3 + 10"
      ]
     },
     "execution_count": 115,
     "metadata": {},
     "output_type": "execute_result"
    }
   ],
   "source": [
    "i2^3"
   ]
  },
  {
   "cell_type": "code",
   "execution_count": 118,
   "metadata": {
    "collapsed": false,
    "deletable": true,
    "editable": true
   },
   "outputs": [
    {
     "data": {
      "text/plain": [
       "7*z^3 + 5"
      ]
     },
     "execution_count": 118,
     "metadata": {},
     "output_type": "execute_result"
    }
   ],
   "source": [
    "i2b^3"
   ]
  },
  {
   "cell_type": "code",
   "execution_count": 130,
   "metadata": {
    "collapsed": true,
    "deletable": true,
    "editable": true
   },
   "outputs": [],
   "source": [
    "h3 = findh90(h2b, 3^3)"
   ]
  },
  {
   "cell_type": "code",
   "execution_count": 131,
   "metadata": {
    "collapsed": false,
    "deletable": true,
    "editable": true
   },
   "outputs": [
    {
     "data": {
      "text/plain": [
       "True"
      ]
     },
     "execution_count": 131,
     "metadata": {},
     "output_type": "execute_result"
    }
   ],
   "source": [
    "is_iso(h1, h3)"
   ]
  },
  {
   "cell_type": "code",
   "execution_count": 132,
   "metadata": {
    "collapsed": false,
    "deletable": true,
    "editable": true
   },
   "outputs": [
    {
     "data": {
      "text/plain": [
       "(10*z9^8 + 3*z9^7 + z9^6 + 4*z9^5 + 2*z9^4 + 9*z9^3 + 7*z9^2 + 9)*z^3 + 8*z9^8 + 2*z9^7 + 10*z9^6 + 4*z9^5 + z9^4 + 2*z9^3 + 2*z9^2 + 10*z9"
      ]
     },
     "execution_count": 132,
     "metadata": {},
     "output_type": "execute_result"
    }
   ],
   "source": [
    "rnorm(h2, 3)"
   ]
  },
  {
   "cell_type": "code",
   "execution_count": 133,
   "metadata": {
    "collapsed": false,
    "deletable": true,
    "editable": true
   },
   "outputs": [
    {
     "data": {
      "text/plain": [
       "(9*z9^8 + 10*z9^7 + 9*z9^6 + 10*z9^4 + 4*z9^3 + 6*z9^2 + 10*z9 + 2)*z^3 + z9^8 + 8*z9^7 + 10*z9^6 + 7*z9^5 + 9*z9^4 + 2*z9^3 + 4*z9^2 + 2"
      ]
     },
     "execution_count": 133,
     "metadata": {},
     "output_type": "execute_result"
    }
   ],
   "source": [
    "rnorm(h2b, 3)"
   ]
  },
  {
   "cell_type": "code",
   "execution_count": 134,
   "metadata": {
    "collapsed": true,
    "deletable": true,
    "editable": true
   },
   "outputs": [],
   "source": [
    "def is_iso2(h1, h2):\n",
    "    l = h2.parent().degree() // h1.parent().degree()\n",
    "    i2 = rnorm(h2, h1.base_ring().degree())\n",
    "    j2 = change_basis(i2, h2.parent().gen()^l, h1.parent().degree())\n",
    "    return h1.list()[0], j2\n",
    "    "
   ]
  },
  {
   "cell_type": "code",
   "execution_count": 135,
   "metadata": {
    "collapsed": false,
    "deletable": true,
    "editable": true
   },
   "outputs": [
    {
     "data": {
      "text/plain": [
       "(9*x, 8*z9^8 + 2*z9^7 + 10*z9^6 + 4*z9^5 + z9^4 + 2*z9^3 + 2*z9^2 + 10*z9)"
      ]
     },
     "execution_count": 135,
     "metadata": {},
     "output_type": "execute_result"
    }
   ],
   "source": [
    "is_iso2(h1, h2)"
   ]
  },
  {
   "cell_type": "code",
   "execution_count": 136,
   "metadata": {
    "collapsed": false,
    "deletable": true,
    "editable": true
   },
   "outputs": [
    {
     "data": {
      "text/plain": [
       "(9*x, z9^8 + 8*z9^7 + 10*z9^6 + 7*z9^5 + 9*z9^4 + 2*z9^3 + 4*z9^2 + 2)"
      ]
     },
     "execution_count": 136,
     "metadata": {},
     "output_type": "execute_result"
    }
   ],
   "source": [
    "is_iso2(h1, h2b)"
   ]
  },
  {
   "cell_type": "markdown",
   "metadata": {
    "collapsed": true,
    "deletable": true,
    "editable": true
   },
   "source": [
    "# Composita"
   ]
  },
  {
   "cell_type": "code",
   "execution_count": 10,
   "metadata": {
    "collapsed": true,
    "deletable": true,
    "editable": true
   },
   "outputs": [],
   "source": [
    "p = 5"
   ]
  },
  {
   "cell_type": "code",
   "execution_count": 18,
   "metadata": {
    "collapsed": false,
    "deletable": true,
    "editable": true
   },
   "outputs": [
    {
     "data": {
      "text/plain": [
       "18"
      ]
     },
     "execution_count": 18,
     "metadata": {},
     "output_type": "execute_result"
    }
   ],
   "source": [
    "cyclo_deg(GF(p), 3^3)"
   ]
  },
  {
   "cell_type": "code",
   "execution_count": 17,
   "metadata": {
    "collapsed": false,
    "deletable": true,
    "editable": true
   },
   "outputs": [
    {
     "data": {
      "text/plain": [
       "42"
      ]
     },
     "execution_count": 17,
     "metadata": {},
     "output_type": "execute_result"
    }
   ],
   "source": [
    "cyclo_deg(GF(p), 7^2)"
   ]
  },
  {
   "cell_type": "code",
   "execution_count": 26,
   "metadata": {
    "collapsed": false,
    "deletable": true,
    "editable": true
   },
   "outputs": [
    {
     "data": {
      "text/plain": [
       "6"
      ]
     },
     "execution_count": 26,
     "metadata": {},
     "output_type": "execute_result"
    }
   ],
   "source": [
    "cyclo_deg(GF(p), 7 * 3^2)"
   ]
  },
  {
   "cell_type": "code",
   "execution_count": 13,
   "metadata": {
    "collapsed": true,
    "deletable": true,
    "editable": true
   },
   "outputs": [],
   "source": [
    "def testc(p, m, n):\n",
    "    k = GF(p)\n",
    "    k1, A1 = ext_scalars(k, m)\n",
    "    M1 = A1.modulus()\n",
    "    R = k['z']\n",
    "    k2 = k.extension(n)\n",
    "    R2 = k2['z']\n",
    "    x = R.gen()\n",
    "    l = n // m\n",
    "    M2 = gcd(A1.modulus().change_ring(k).substitute(x^l), R(cyclotomic_polynomial(n))).factor()[0][0]\n",
    "    A2 = R2.quo(M2, 'z')\n",
    "    h1 = solve_h90(A1)\n",
    "    h2 = solve_h90(A2)\n",
    "    i2 = rnorm(h2, m)\n",
    "    aa = h1^m\n",
    "    bb = i2^m\n",
    "    C = k.extension(M2, 'x')\n",
    "    \n",
    "    a = R([x for x in aa.list()]).subs(C.gen()^l)\n",
    "    b = C([k(x) for x in bb.list()])\n",
    "    \n",
    "    t = a/b\n",
    "    c = t.nth_root(n)\n",
    "    return h1, A2(c.polynomial().list())*h2"
   ]
  },
  {
   "cell_type": "code",
   "execution_count": 28,
   "metadata": {
    "collapsed": false,
    "deletable": true,
    "editable": true
   },
   "outputs": [
    {
     "data": {
      "text/plain": [
       "((2*x^62 + 3*x^61 + x^58 + x^56 + 3*x^55 + 2*x^54 + x^53 + x^50 + 4*x^45 + 2*x^44 + 2*x^42 + 3*x^41 + 2*x^40 + 4*x^39 + 2*x^38 + 4*x^37 + 3*x^36 + 4*x^35 + 2*x^34 + x^33 + 4*x^32 + 3*x^31 + 2*x^30 + x^28 + 3*x^27 + 2*x^26 + 2*x^25 + 3*x^24 + 3*x^23 + 4*x^21 + 3*x^20 + 3*x^19 + x^18 + 2*x^17 + 4*x^16 + 3*x^15 + 4*x^14 + 4*x^11 + 4*x^10 + 3*x^8 + 2*x^7 + 2*x^6 + 4*x^5 + 3*x^4 + 3*x^3 + 3*x^2)*z^5 + (2*x^61 + 2*x^60 + 4*x^59 + 3*x^58 + 2*x^56 + 2*x^55 + 4*x^54 + 4*x^52 + 3*x^50 + 4*x^48 + x^47 + x^46 + x^45 + 3*x^44 + x^40 + 2*x^39 + 4*x^38 + 4*x^36 + x^35 + 3*x^30 + 4*x^29 + x^28 + 2*x^27 + 3*x^26 + 3*x^24 + 4*x^23 + 4*x^22 + 4*x^20 + x^19 + 3*x^18 + 4*x^17 + 4*x^15 + 4*x^14 + 4*x^13 + 4*x^12 + 2*x^11 + x^10 + 4*x^9 + 2*x^8 + x^6 + 2*x^5 + 4*x^3 + 2*x^2 + 4)*z^4 + (x^62 + 4*x^61 + x^60 + x^59 + 2*x^58 + x^57 + 3*x^56 + x^53 + 4*x^51 + 3*x^50 + 2*x^48 + 3*x^47 + 2*x^45 + 2*x^44 + 4*x^43 + x^41 + x^39 + 4*x^38 + x^37 + 2*x^36 + x^35 + 2*x^34 + x^33 + x^32 + 4*x^31 + 2*x^30 + 3*x^29 + x^28 + 2*x^27 + 2*x^25 + x^22 + 3*x^21 + 2*x^20 + x^19 + 4*x^18 + 3*x^17 + 3*x^15 + 3*x^14 + 3*x^13 + 2*x^12 + 3*x^11 + x^10 + 2*x^9 + 2*x^8 + 3*x^7 + 3*x^6 + 2*x^4 + 4*x^3 + 2*x^2 + 3*x)*z^3 + (3*x^62 + 3*x^61 + 2*x^60 + 3*x^59 + 4*x^58 + x^57 + 3*x^56 + 2*x^54 + 4*x^53 + 3*x^52 + 4*x^51 + 3*x^49 + 2*x^48 + 4*x^46 + 4*x^45 + 2*x^44 + x^43 + 4*x^40 + 4*x^39 + 4*x^38 + 3*x^37 + 3*x^36 + 4*x^35 + 3*x^34 + 4*x^33 + 2*x^32 + 4*x^31 + x^29 + 4*x^28 + 2*x^27 + x^26 + 4*x^25 + 2*x^24 + 2*x^23 + 3*x^22 + x^21 + x^20 + x^19 + 4*x^18 + 3*x^17 + 4*x^16 + x^15 + 4*x^14 + 3*x^13 + 3*x^12 + 3*x^11 + 4*x^10 + 2*x^9 + 3*x^8 + x^4 + 4*x^3 + 3*x^2 + 2*x)*z^2 + (2*x^62 + x^60 + 4*x^59 + 3*x^57 + 2*x^56 + 4*x^55 + 2*x^54 + 2*x^53 + 4*x^52 + 3*x^51 + 2*x^50 + 2*x^49 + x^48 + 3*x^47 + 4*x^46 + x^44 + 4*x^43 + 3*x^41 + 4*x^40 + 4*x^39 + x^38 + 3*x^37 + 2*x^36 + x^35 + x^34 + 3*x^33 + 3*x^32 + 4*x^31 + x^30 + x^29 + 3*x^28 + 4*x^27 + 3*x^26 + 4*x^24 + 4*x^23 + 3*x^22 + 4*x^20 + 2*x^19 + x^17 + 2*x^16 + 2*x^15 + x^14 + x^13 + x^11 + 3*x^10 + x^9 + 4*x^8 + 3*x^6 + 4*x^5 + 4*x^4 + 3*x^2 + 2*x + 1)*z + 4*x^62 + 4*x^61 + 4*x^60 + x^59 + 4*x^58 + 2*x^57 + 2*x^56 + 3*x^55 + x^54 + 2*x^53 + 3*x^52 + x^51 + 4*x^49 + x^48 + 2*x^47 + 2*x^46 + 3*x^45 + 3*x^44 + 2*x^43 + 4*x^42 + x^41 + 4*x^40 + 3*x^39 + 4*x^38 + 4*x^37 + x^36 + 2*x^35 + 3*x^34 + 4*x^33 + 3*x^31 + 2*x^29 + 3*x^27 + 2*x^26 + 3*x^25 + 3*x^24 + 2*x^23 + 4*x^21 + 3*x^20 + 3*x^18 + 4*x^17 + x^16 + 2*x^15 + 3*x^14 + 4*x^13 + 2*x^12 + 3*x^11 + 4*x^9 + 4*x^6 + x^4 + x^3 + 3*x^2 + 2,\n",
       " (z189^188 + z189^187 + z189^185 + 2*z189^184 + z189^183 + 4*z189^182 + z189^181 + 2*z189^180 + 3*z189^179 + 3*z189^178 + 2*z189^177 + 2*z189^176 + 2*z189^174 + 3*z189^173 + z189^171 + z189^170 + 3*z189^169 + 4*z189^167 + 2*z189^166 + 2*z189^165 + 4*z189^163 + z189^162 + 2*z189^161 + 3*z189^160 + 2*z189^159 + 4*z189^156 + 3*z189^155 + z189^154 + 4*z189^152 + 4*z189^151 + z189^150 + 3*z189^149 + 2*z189^148 + z189^147 + 2*z189^145 + 4*z189^144 + 2*z189^143 + 2*z189^141 + 4*z189^140 + 2*z189^139 + 4*z189^138 + 4*z189^137 + 3*z189^136 + 3*z189^135 + 2*z189^134 + 4*z189^130 + 2*z189^129 + z189^128 + 3*z189^127 + z189^126 + 3*z189^125 + z189^124 + 2*z189^123 + 2*z189^122 + z189^120 + 3*z189^119 + z189^117 + 3*z189^116 + z189^115 + z189^114 + z189^113 + 2*z189^112 + 3*z189^111 + 3*z189^110 + z189^109 + 2*z189^108 + 2*z189^107 + 3*z189^106 + 4*z189^105 + 4*z189^104 + 4*z189^103 + 3*z189^102 + z189^101 + 2*z189^100 + 3*z189^99 + 3*z189^95 + z189^94 + 4*z189^93 + 2*z189^92 + 4*z189^91 + 2*z189^90 + 3*z189^88 + z189^87 + 2*z189^86 + 4*z189^85 + 3*z189^84 + z189^83 + 4*z189^82 + 3*z189^81 + 2*z189^80 + 3*z189^79 + z189^78 + z189^76 + z189^75 + 4*z189^73 + 4*z189^72 + z189^71 + 3*z189^70 + 3*z189^69 + 3*z189^68 + z189^66 + z189^65 + 4*z189^64 + 4*z189^62 + 4*z189^61 + 3*z189^60 + 4*z189^59 + 3*z189^58 + z189^56 + z189^55 + 4*z189^54 + z189^53 + 3*z189^52 + 2*z189^51 + 2*z189^50 + z189^49 + 2*z189^48 + z189^47 + 2*z189^46 + 2*z189^45 + 2*z189^44 + 4*z189^43 + 3*z189^42 + 3*z189^41 + 3*z189^40 + 2*z189^39 + 2*z189^38 + z189^36 + z189^34 + 2*z189^33 + 4*z189^32 + 4*z189^31 + 3*z189^30 + 3*z189^29 + 3*z189^27 + z189^26 + z189^25 + 3*z189^24 + 2*z189^23 + 3*z189^22 + 3*z189^21 + 2*z189^20 + z189^19 + 2*z189^18 + 3*z189^17 + 3*z189^16 + z189^15 + 3*z189^14 + z189^12 + 4*z189^11 + 3*z189^10 + 4*z189^9 + z189^8 + 4*z189^7 + 2*z189^5 + z189^4 + 2*z189^3 + z189)*z^17 + (2*z189^188 + z189^187 + 3*z189^186 + 4*z189^185 + 3*z189^184 + 4*z189^182 + 2*z189^181 + 4*z189^180 + 2*z189^179 + 3*z189^178 + 3*z189^176 + 2*z189^174 + 2*z189^173 + 2*z189^172 + 3*z189^171 + 2*z189^170 + 3*z189^168 + 3*z189^167 + z189^166 + 4*z189^165 + z189^163 + z189^162 + z189^161 + z189^160 + 2*z189^159 + 4*z189^157 + z189^156 + z189^155 + 4*z189^154 + 4*z189^153 + 2*z189^152 + 2*z189^151 + 2*z189^150 + z189^149 + z189^147 + 2*z189^146 + 3*z189^145 + 2*z189^144 + 4*z189^143 + 2*z189^142 + 4*z189^141 + z189^140 + 3*z189^139 + 2*z189^138 + 2*z189^137 + 3*z189^136 + 4*z189^135 + 2*z189^134 + 3*z189^133 + z189^132 + 4*z189^129 + 2*z189^128 + 4*z189^127 + 2*z189^126 + 4*z189^125 + z189^124 + 2*z189^123 + z189^122 + z189^121 + 2*z189^120 + z189^119 + z189^118 + 3*z189^116 + 3*z189^115 + z189^114 + 3*z189^113 + 3*z189^111 + z189^110 + 3*z189^109 + 2*z189^108 + z189^107 + 2*z189^106 + z189^104 + 3*z189^103 + z189^102 + 2*z189^101 + 3*z189^100 + 2*z189^99 + 2*z189^97 + 3*z189^96 + 2*z189^95 + z189^94 + z189^93 + z189^91 + 3*z189^90 + 3*z189^87 + 2*z189^86 + 4*z189^85 + z189^84 + z189^83 + z189^82 + 2*z189^81 + 4*z189^80 + 2*z189^78 + 4*z189^77 + 3*z189^76 + 3*z189^75 + 4*z189^74 + 2*z189^73 + z189^71 + 4*z189^70 + 3*z189^69 + 4*z189^68 + z189^66 + 4*z189^65 + z189^63 + 3*z189^62 + 2*z189^60 + 4*z189^59 + z189^57 + 3*z189^54 + 2*z189^53 + 3*z189^51 + 4*z189^49 + 2*z189^48 + 4*z189^47 + z189^46 + z189^45 + 2*z189^43 + 3*z189^42 + 4*z189^41 + z189^40 + z189^37 + 4*z189^36 + 4*z189^35 + 3*z189^34 + 3*z189^33 + 3*z189^31 + z189^30 + 4*z189^28 + 3*z189^27 + 3*z189^26 + 3*z189^24 + 3*z189^23 + 3*z189^21 + 3*z189^20 + 4*z189^18 + 2*z189^17 + z189^14 + 3*z189^13 + 2*z189^12 + 4*z189^11 + 2*z189^9 + 4*z189^8 + 2*z189^7 + z189^6 + 3*z189^4 + 2*z189^3 + 3*z189^2 + 1)*z^16 + (z189^188 + 2*z189^187 + z189^186 + z189^183 + z189^182 + 4*z189^181 + 2*z189^180 + z189^179 + 4*z189^178 + 2*z189^177 + 3*z189^176 + 2*z189^175 + 2*z189^174 + 3*z189^171 + 3*z189^170 + 3*z189^169 + 2*z189^167 + z189^166 + 2*z189^165 + 3*z189^164 + 4*z189^163 + z189^162 + z189^161 + 4*z189^158 + 4*z189^157 + 2*z189^156 + 2*z189^155 + 2*z189^153 + 3*z189^152 + 3*z189^151 + 2*z189^150 + 3*z189^149 + 4*z189^148 + 4*z189^146 + z189^145 + 4*z189^144 + z189^143 + z189^142 + 2*z189^141 + 3*z189^140 + 3*z189^138 + 2*z189^137 + 2*z189^136 + 3*z189^135 + z189^134 + 2*z189^132 + 2*z189^130 + 4*z189^129 + 4*z189^128 + 2*z189^127 + 4*z189^126 + z189^125 + 2*z189^124 + z189^123 + 2*z189^122 + 2*z189^121 + 4*z189^120 + 4*z189^119 + 2*z189^118 + 2*z189^117 + 3*z189^116 + 4*z189^115 + z189^114 + 2*z189^111 + 4*z189^110 + 3*z189^109 + z189^108 + 3*z189^107 + 2*z189^104 + 3*z189^103 + 3*z189^102 + 3*z189^101 + 3*z189^99 + 4*z189^97 + z189^96 + 4*z189^95 + 3*z189^94 + 4*z189^93 + z189^92 + z189^91 + 3*z189^90 + z189^88 + 3*z189^86 + z189^85 + 3*z189^83 + z189^82 + 4*z189^81 + 3*z189^80 + 4*z189^79 + 2*z189^78 + 4*z189^77 + 2*z189^76 + 3*z189^75 + z189^74 + 4*z189^72 + z189^71 + 2*z189^70 + 4*z189^68 + 4*z189^66 + 2*z189^64 + z189^61 + 4*z189^60 + z189^58 + 2*z189^55 + 4*z189^54 + 2*z189^53 + z189^51 + z189^49 + 2*z189^48 + 4*z189^47 + 4*z189^46 + z189^45 + 4*z189^44 + 4*z189^43 + 3*z189^42 + 3*z189^41 + 4*z189^40 + 2*z189^39 + 3*z189^38 + 3*z189^36 + 2*z189^35 + 3*z189^34 + 4*z189^33 + 2*z189^32 + 2*z189^31 + 4*z189^28 + 2*z189^27 + 2*z189^26 + 4*z189^24 + 3*z189^20 + z189^18 + 4*z189^16 + 4*z189^15 + 4*z189^14 + z189^13 + z189^12 + 3*z189^11 + 4*z189^10 + 3*z189^8 + 3*z189^7 + z189^5 + 2*z189^4 + 2*z189^3 + z189 + 1)*z^15 + (3*z189^186 + z189^185 + 4*z189^184 + 2*z189^181 + z189^177 + 3*z189^176 + 2*z189^175 + z189^173 + 2*z189^171 + 3*z189^170 + 2*z189^169 + z189^167 + 4*z189^166 + z189^164 + 2*z189^163 + 2*z189^162 + z189^160 + 3*z189^157 + 4*z189^156 + 3*z189^155 + 3*z189^154 + z189^153 + 4*z189^152 + 3*z189^150 + 2*z189^149 + z189^148 + 4*z189^147 + 4*z189^144 + 2*z189^143 + z189^141 + 2*z189^140 + 4*z189^138 + 2*z189^137 + 4*z189^136 + z189^134 + 4*z189^133 + 3*z189^132 + z189^131 + 2*z189^129 + 2*z189^128 + 2*z189^127 + 4*z189^126 + z189^125 + 2*z189^124 + z189^123 + 3*z189^122 + 3*z189^121 + z189^120 + 2*z189^119 + z189^118 + 4*z189^117 + 2*z189^115 + 3*z189^114 + z189^113 + z189^112 + z189^111 + 4*z189^110 + 3*z189^109 + z189^107 + 2*z189^106 + z189^105 + z189^104 + 3*z189^103 + 4*z189^102 + 2*z189^101 + 2*z189^99 + z189^96 + z189^95 + 4*z189^94 + 2*z189^93 + 4*z189^90 + 2*z189^89 + 4*z189^88 + 4*z189^86 + z189^85 + z189^84 + 4*z189^83 + 3*z189^82 + 4*z189^81 + z189^80 + z189^78 + 4*z189^77 + 4*z189^76 + z189^69 + z189^64 + 2*z189^63 + 2*z189^62 + 2*z189^61 + 4*z189^60 + z189^56 + z189^55 + 4*z189^53 + z189^52 + 4*z189^51 + z189^50 + 2*z189^49 + 3*z189^48 + 3*z189^47 + 3*z189^46 + 4*z189^45 + 2*z189^44 + 4*z189^43 + 4*z189^42 + 2*z189^41 + 3*z189^40 + 4*z189^39 + 3*z189^38 + 4*z189^33 + 4*z189^32 + 4*z189^30 + 3*z189^28 + 4*z189^27 + 2*z189^26 + 2*z189^25 + z189^23 + z189^22 + 3*z189^20 + 3*z189^19 + 3*z189^18 + z189^17 + 4*z189^15 + 4*z189^13 + 3*z189^12 + z189^11 + 2*z189^9 + 2*z189^8 + z189^7 + 2*z189^6 + z189^5 + 4*z189^4 + 4*z189^3 + 4*z189)*z^14 + (z189^186 + 3*z189^185 + 3*z189^184 + 2*z189^183 + 2*z189^182 + 4*z189^181 + 3*z189^180 + 4*z189^178 + 4*z189^177 + 4*z189^176 + 3*z189^175 + 3*z189^173 + 4*z189^172 + 2*z189^171 + 2*z189^170 + z189^169 + 4*z189^168 + 3*z189^167 + z189^166 + 3*z189^165 + z189^164 + 3*z189^162 + z189^161 + 4*z189^160 + 4*z189^159 + z189^158 + z189^157 + z189^154 + 4*z189^153 + 2*z189^152 + 4*z189^149 + 4*z189^148 + 3*z189^147 + z189^146 + 3*z189^144 + 4*z189^143 + 2*z189^140 + 2*z189^138 + z189^137 + 2*z189^136 + z189^135 + 3*z189^133 + 4*z189^132 + 3*z189^131 + z189^130 + 3*z189^129 + z189^128 + 3*z189^126 + 2*z189^124 + 4*z189^123 + 3*z189^121 + 2*z189^120 + 4*z189^119 + 4*z189^118 + 4*z189^117 + 2*z189^116 + 4*z189^115 + 4*z189^114 + z189^113 + z189^112 + 3*z189^111 + z189^110 + 2*z189^109 + 4*z189^108 + z189^105 + 2*z189^104 + 4*z189^102 + 2*z189^101 + 2*z189^100 + 3*z189^99 + 2*z189^98 + z189^97 + 2*z189^95 + 3*z189^94 + z189^93 + 3*z189^90 + z189^88 + 4*z189^87 + 4*z189^86 + 2*z189^85 + z189^83 + z189^82 + z189^81 + 3*z189^79 + 2*z189^78 + 4*z189^77 + 2*z189^76 + 4*z189^74 + 3*z189^72 + z189^71 + 3*z189^70 + 3*z189^69 + 3*z189^68 + 4*z189^67 + 3*z189^66 + z189^65 + 2*z189^64 + 4*z189^61 + z189^60 + 3*z189^58 + 3*z189^57 + 3*z189^56 + z189^55 + z189^52 + z189^51 + 4*z189^50 + 4*z189^49 + z189^48 + z189^47 + 3*z189^46 + z189^45 + 3*z189^44 + 2*z189^43 + 3*z189^42 + 2*z189^41 + 2*z189^40 + z189^39 + 4*z189^38 + 4*z189^37 + 2*z189^35 + 3*z189^33 + 2*z189^32 + z189^31 + 2*z189^30 + 4*z189^29 + 2*z189^28 + 2*z189^27 + z189^26 + 3*z189^25 + 4*z189^24 + 3*z189^23 + 3*z189^22 + z189^21 + 2*z189^20 + 2*z189^18 + 2*z189^17 + 3*z189^16 + 3*z189^10 + z189^9 + z189^8 + z189^7 + 4*z189^6 + z189^5 + 2*z189^3 + 2*z189^2 + 4*z189)*z^13 + (4*z189^188 + 2*z189^187 + 4*z189^186 + 3*z189^185 + 3*z189^184 + 3*z189^183 + 4*z189^182 + z189^181 + 3*z189^178 + 2*z189^177 + 2*z189^175 + 3*z189^174 + 4*z189^173 + 3*z189^171 + 4*z189^170 + z189^169 + 4*z189^168 + 2*z189^166 + z189^164 + z189^163 + 4*z189^162 + 2*z189^160 + 3*z189^159 + z189^158 + 3*z189^157 + 3*z189^154 + 4*z189^152 + z189^151 + 2*z189^150 + 3*z189^149 + 4*z189^147 + 4*z189^146 + 2*z189^144 + 2*z189^143 + 2*z189^142 + 2*z189^140 + 2*z189^139 + 2*z189^138 + z189^137 + 3*z189^136 + 2*z189^135 + 2*z189^134 + 2*z189^133 + 4*z189^132 + 2*z189^131 + 2*z189^130 + 3*z189^129 + z189^128 + 4*z189^126 + z189^125 + 2*z189^124 + 2*z189^121 + 4*z189^120 + 3*z189^118 + 2*z189^117 + 4*z189^116 + 3*z189^115 + 3*z189^114 + 3*z189^113 + 4*z189^112 + 4*z189^111 + 4*z189^109 + z189^108 + 3*z189^107 + 3*z189^106 + 4*z189^105 + 2*z189^104 + 2*z189^103 + 4*z189^102 + 3*z189^101 + 4*z189^100 + 3*z189^99 + z189^98 + 3*z189^96 + z189^95 + z189^94 + 2*z189^93 + 4*z189^92 + 4*z189^91 + z189^90 + 2*z189^89 + 4*z189^88 + z189^87 + 4*z189^86 + z189^84 + 3*z189^82 + 4*z189^81 + z189^79 + 2*z189^78 + z189^76 + 3*z189^72 + 3*z189^71 + 4*z189^70 + 4*z189^69 + 4*z189^68 + 2*z189^67 + z189^66 + 2*z189^65 + 4*z189^64 + z189^63 + 3*z189^61 + 3*z189^60 + 2*z189^58 + 4*z189^57 + 2*z189^56 + 2*z189^55 + 3*z189^54 + 2*z189^53 + 3*z189^52 + 2*z189^51 + 2*z189^50 + 2*z189^49 + 4*z189^48 + 4*z189^47 + z189^46 + 2*z189^44 + 4*z189^43 + 2*z189^40 + 3*z189^39 + 3*z189^38 + 2*z189^37 + 3*z189^34 + z189^33 + 2*z189^32 + 2*z189^31 + 2*z189^30 + z189^28 + 4*z189^27 + 2*z189^26 + 2*z189^23 + z189^22 + 3*z189^21 + 4*z189^20 + 3*z189^19 + z189^18 + 2*z189^17 + 4*z189^16 + 4*z189^15 + 2*z189^14 + z189^13 + 3*z189^12 + 2*z189^11 + 3*z189^10 + 2*z189^9 + 3*z189^8 + 2*z189^7 + 4*z189^6 + 2*z189^5 + 3*z189^4 + 3*z189^3 + 2*z189^2 + 3*z189 + 1)*z^12 + (z189^187 + 2*z189^186 + 4*z189^185 + 2*z189^184 + 2*z189^183 + 4*z189^182 + 3*z189^181 + 4*z189^180 + 3*z189^179 + 2*z189^178 + 3*z189^177 + 4*z189^175 + z189^174 + 3*z189^173 + 2*z189^172 + 4*z189^171 + 3*z189^168 + z189^167 + z189^166 + 3*z189^165 + 3*z189^164 + z189^163 + z189^162 + 4*z189^161 + 2*z189^159 + 2*z189^158 + 4*z189^157 + 3*z189^155 + z189^154 + 3*z189^153 + 3*z189^152 + 4*z189^150 + 2*z189^149 + 3*z189^147 + 2*z189^146 + z189^144 + 4*z189^143 + 3*z189^142 + 2*z189^139 + 3*z189^138 + 4*z189^137 + 3*z189^136 + 4*z189^135 + z189^134 + 3*z189^133 + 4*z189^132 + 4*z189^131 + 3*z189^130 + 2*z189^129 + 3*z189^128 + 3*z189^127 + 2*z189^126 + 2*z189^124 + 2*z189^123 + 4*z189^122 + 2*z189^121 + z189^120 + 4*z189^118 + 4*z189^117 + 2*z189^115 + 2*z189^113 + 4*z189^112 + 3*z189^109 + z189^108 + z189^105 + z189^104 + 3*z189^103 + z189^101 + 4*z189^100 + 2*z189^99 + 2*z189^98 + z189^97 + z189^96 + z189^94 + 2*z189^93 + 3*z189^92 + 4*z189^91 + 2*z189^90 + 4*z189^88 + 4*z189^87 + 3*z189^86 + z189^84 + z189^83 + z189^82 + 3*z189^80 + z189^78 + 3*z189^77 + 2*z189^76 + z189^75 + 4*z189^74 + 4*z189^73 + 4*z189^72 + 4*z189^69 + 4*z189^66 + z189^65 + z189^63 + 3*z189^62 + z189^61 + 2*z189^59 + 4*z189^58 + 4*z189^57 + z189^55 + 3*z189^54 + 4*z189^52 + 3*z189^51 + 3*z189^50 + 4*z189^48 + z189^47 + 2*z189^46 + 3*z189^45 + 4*z189^44 + 3*z189^41 + z189^40 + z189^39 + 2*z189^38 + 2*z189^37 + z189^36 + 2*z189^35 + z189^34 + 2*z189^33 + 4*z189^32 + 4*z189^30 + 2*z189^28 + 2*z189^27 + 2*z189^26 + 2*z189^24 + 3*z189^23 + 2*z189^22 + 3*z189^21 + z189^20 + 3*z189^19 + 4*z189^18 + 2*z189^17 + z189^16 + 2*z189^15 + 3*z189^13 + 2*z189^10 + 4*z189^9 + z189^8 + 4*z189^7 + 4*z189^6 + 3*z189^5 + z189^4 + 3*z189^3 + 2*z189 + 1)*z^11 + (4*z189^188 + 4*z189^187 + z189^185 + z189^184 + 4*z189^182 + z189^181 + 4*z189^179 + z189^178 + 4*z189^177 + 4*z189^175 + 3*z189^173 + 2*z189^171 + z189^170 + z189^168 + 3*z189^167 + 4*z189^166 + 3*z189^165 + z189^162 + 4*z189^161 + 2*z189^160 + 4*z189^159 + 4*z189^158 + 3*z189^157 + 2*z189^155 + z189^153 + 2*z189^152 + 3*z189^151 + 3*z189^150 + 4*z189^149 + 4*z189^148 + 2*z189^147 + z189^146 + 3*z189^145 + 3*z189^144 + 3*z189^143 + 2*z189^142 + z189^141 + 4*z189^140 + 4*z189^139 + z189^137 + z189^136 + 3*z189^135 + 4*z189^134 + 2*z189^133 + 2*z189^132 + 2*z189^131 + z189^129 + z189^128 + z189^127 + 2*z189^126 + 3*z189^125 + 3*z189^124 + 4*z189^123 + 3*z189^122 + z189^121 + 3*z189^120 + 3*z189^119 + 2*z189^118 + z189^116 + 4*z189^115 + 4*z189^114 + 3*z189^112 + 3*z189^110 + z189^109 + 4*z189^108 + z189^106 + 3*z189^105 + 4*z189^104 + 3*z189^102 + z189^100 + 4*z189^99 + 4*z189^98 + 2*z189^97 + z189^96 + 2*z189^94 + 3*z189^92 + 3*z189^91 + z189^90 + 3*z189^89 + 4*z189^88 + 3*z189^87 + 3*z189^86 + z189^85 + 3*z189^84 + 4*z189^83 + 3*z189^82 + 2*z189^80 + 3*z189^78 + 3*z189^76 + z189^75 + 2*z189^74 + z189^73 + z189^72 + 2*z189^71 + z189^70 + 4*z189^68 + 4*z189^66 + 4*z189^65 + 3*z189^64 + z189^63 + 2*z189^62 + 3*z189^61 + z189^60 + z189^59 + 3*z189^58 + 3*z189^56 + 2*z189^55 + 3*z189^54 + z189^53 + 4*z189^51 + 4*z189^50 + 4*z189^47 + 3*z189^46 + 3*z189^45 + z189^44 + 3*z189^43 + 4*z189^42 + 4*z189^40 + 3*z189^39 + 3*z189^38 + z189^37 + z189^36 + 3*z189^35 + 3*z189^34 + 4*z189^33 + 3*z189^32 + 3*z189^31 + 4*z189^30 + 3*z189^29 + 4*z189^28 + 2*z189^27 + 4*z189^26 + 3*z189^25 + 2*z189^24 + 4*z189^21 + 2*z189^20 + 4*z189^19 + 4*z189^18 + 4*z189^17 + 3*z189^15 + 3*z189^13 + z189^12 + 3*z189^10 + 3*z189^9 + 2*z189^8 + 4*z189^7 + z189^6 + 4*z189^5 + z189^4 + z189^3 + 2*z189 + 4)*z^10 + (3*z189^187 + 3*z189^185 + z189^184 + 3*z189^183 + 4*z189^182 + 3*z189^181 + 3*z189^180 + z189^179 + 3*z189^178 + 3*z189^177 + z189^175 + 3*z189^174 + z189^173 + z189^172 + 4*z189^171 + 3*z189^170 + z189^168 + 2*z189^166 + 2*z189^165 + 2*z189^163 + 4*z189^161 + 2*z189^160 + 4*z189^158 + 3*z189^157 + 3*z189^156 + 3*z189^154 + 3*z189^153 + 3*z189^152 + 2*z189^151 + 4*z189^150 + 4*z189^149 + 2*z189^148 + 2*z189^147 + 4*z189^145 + 3*z189^143 + 3*z189^140 + 4*z189^139 + 4*z189^138 + 4*z189^136 + z189^134 + 4*z189^133 + 3*z189^132 + 3*z189^130 + 4*z189^129 + z189^128 + 4*z189^127 + 4*z189^126 + 2*z189^125 + 2*z189^124 + 4*z189^123 + 2*z189^121 + z189^120 + 3*z189^119 + 4*z189^118 + 3*z189^117 + z189^116 + z189^115 + z189^114 + 2*z189^113 + z189^112 + 4*z189^111 + 3*z189^109 + 3*z189^108 + 2*z189^107 + 4*z189^106 + z189^105 + z189^104 + z189^103 + 4*z189^102 + 4*z189^101 + 3*z189^100 + 3*z189^99 + 4*z189^97 + z189^96 + 3*z189^95 + z189^94 + 3*z189^93 + 4*z189^92 + 3*z189^91 + 2*z189^90 + 3*z189^89 + 4*z189^88 + 2*z189^87 + 3*z189^86 + z189^85 + 4*z189^84 + 3*z189^83 + z189^82 + z189^80 + 4*z189^78 + 4*z189^77 + 4*z189^75 + z189^74 + 3*z189^73 + 4*z189^72 + 3*z189^71 + z189^70 + 3*z189^69 + z189^68 + z189^67 + 2*z189^66 + 4*z189^63 + 3*z189^62 + z189^61 + 2*z189^60 + z189^58 + z189^57 + 2*z189^56 + 2*z189^55 + 2*z189^54 + z189^53 + z189^52 + 2*z189^50 + z189^49 + 4*z189^48 + 4*z189^47 + z189^46 + 3*z189^45 + 3*z189^44 + 4*z189^43 + 3*z189^42 + 3*z189^39 + 2*z189^38 + z189^37 + 2*z189^36 + 2*z189^35 + 3*z189^34 + z189^32 + z189^30 + z189^28 + z189^27 + 4*z189^26 + 2*z189^25 + 2*z189^24 + 2*z189^23 + 2*z189^21 + 2*z189^20 + 3*z189^18 + 3*z189^17 + 3*z189^15 + 2*z189^14 + 4*z189^13 + 2*z189^11 + 3*z189^10 + 2*z189^9 + 2*z189^8 + 2*z189^7 + z189^5 + 2*z189^4 + 4*z189^3 + 2*z189^2 + z189 + 3)*z^9 + (z189^188 + 4*z189^187 + 3*z189^186 + 3*z189^185 + 2*z189^183 + 3*z189^181 + z189^180 + z189^179 + 3*z189^178 + 4*z189^177 + 2*z189^176 + 2*z189^175 + 4*z189^174 + 4*z189^173 + 4*z189^172 + 4*z189^170 + 4*z189^169 + z189^168 + 3*z189^166 + 2*z189^165 + z189^163 + 2*z189^162 + 4*z189^161 + z189^160 + z189^159 + 3*z189^158 + 4*z189^157 + 2*z189^155 + 4*z189^154 + 2*z189^153 + 2*z189^152 + 2*z189^151 + 3*z189^150 + 2*z189^149 + 4*z189^148 + 2*z189^147 + 2*z189^146 + z189^145 + 2*z189^144 + 3*z189^143 + z189^142 + z189^141 + 3*z189^140 + 3*z189^139 + 3*z189^138 + 4*z189^137 + z189^135 + 2*z189^134 + z189^133 + 3*z189^131 + 4*z189^130 + 4*z189^128 + 3*z189^127 + 2*z189^126 + 3*z189^124 + 2*z189^123 + 4*z189^122 + 4*z189^121 + 2*z189^119 + 4*z189^117 + 4*z189^116 + 3*z189^115 + 2*z189^114 + 2*z189^113 + z189^112 + 4*z189^111 + z189^109 + 4*z189^108 + 2*z189^106 + 2*z189^104 + 4*z189^103 + z189^102 + 2*z189^101 + z189^100 + z189^99 + 4*z189^98 + 2*z189^97 + 3*z189^95 + 4*z189^91 + 4*z189^90 + z189^89 + 2*z189^88 + 3*z189^87 + 2*z189^86 + z189^85 + z189^84 + 3*z189^83 + 3*z189^81 + 4*z189^79 + 3*z189^77 + 2*z189^76 + 4*z189^75 + 3*z189^72 + 4*z189^71 + z189^70 + 2*z189^67 + 3*z189^65 + 4*z189^64 + 2*z189^63 + 3*z189^62 + z189^60 + z189^59 + 2*z189^58 + 4*z189^57 + z189^56 + 2*z189^55 + z189^54 + z189^51 + 4*z189^50 + 4*z189^49 + 3*z189^48 + 4*z189^47 + 4*z189^46 + 2*z189^45 + 4*z189^44 + 4*z189^43 + 3*z189^42 + 4*z189^41 + 3*z189^38 + z189^37 + 4*z189^34 + 2*z189^33 + z189^31 + 3*z189^30 + 3*z189^28 + 3*z189^27 + 3*z189^26 + z189^25 + 2*z189^23 + z189^22 + 4*z189^21 + 4*z189^20 + z189^19 + 2*z189^17 + 4*z189^15 + 2*z189^14 + 4*z189^13 + 2*z189^12 + 3*z189^11 + 2*z189^10 + 2*z189^9 + z189^8 + z189^7 + 3*z189^6 + 4*z189^5 + z189^3 + 3*z189^2 + 3*z189 + 4)*z^8 + (4*z189^188 + 4*z189^186 + 3*z189^185 + 4*z189^184 + z189^183 + 4*z189^182 + 2*z189^181 + 4*z189^180 + 4*z189^179 + 3*z189^178 + z189^177 + 2*z189^176 + 3*z189^175 + 2*z189^174 + 4*z189^173 + 4*z189^171 + 3*z189^169 + z189^168 + 4*z189^167 + z189^166 + 2*z189^165 + z189^164 + 3*z189^163 + 2*z189^162 + z189^161 + 2*z189^160 + 2*z189^159 + 2*z189^158 + 3*z189^157 + 2*z189^156 + 3*z189^152 + 2*z189^150 + 2*z189^149 + 3*z189^147 + 4*z189^146 + 4*z189^145 + 4*z189^144 + 2*z189^143 + z189^142 + 3*z189^140 + z189^139 + 4*z189^138 + 3*z189^137 + 2*z189^136 + 4*z189^135 + 4*z189^134 + 4*z189^133 + 4*z189^131 + z189^130 + 3*z189^129 + z189^128 + z189^127 + 4*z189^125 + 2*z189^124 + 2*z189^123 + 3*z189^122 + 3*z189^120 + z189^119 + 4*z189^118 + 4*z189^117 + z189^115 + z189^114 + 3*z189^113 + z189^112 + 2*z189^110 + 2*z189^109 + 4*z189^108 + 2*z189^107 + 2*z189^106 + 3*z189^105 + 3*z189^103 + 4*z189^102 + 4*z189^101 + 3*z189^100 + 4*z189^99 + 4*z189^98 + 4*z189^97 + 4*z189^95 + 3*z189^94 + 4*z189^93 + 2*z189^92 + z189^90 + 2*z189^89 + 2*z189^88 + 4*z189^87 + 2*z189^86 + z189^84 + 3*z189^83 + 2*z189^82 + 4*z189^81 + 2*z189^80 + 4*z189^78 + 2*z189^76 + 2*z189^75 + z189^73 + z189^72 + 2*z189^70 + 4*z189^69 + 4*z189^67 + 3*z189^66 + 2*z189^65 + 4*z189^64 + 2*z189^63 + 2*z189^61 + 2*z189^60 + 3*z189^59 + z189^58 + 2*z189^55 + 2*z189^54 + 3*z189^53 + 3*z189^52 + z189^51 + 3*z189^50 + 4*z189^49 + 4*z189^46 + z189^45 + 3*z189^44 + 4*z189^43 + z189^42 + 4*z189^40 + 4*z189^39 + 2*z189^38 + 4*z189^37 + z189^36 + z189^35 + 4*z189^34 + z189^33 + 4*z189^32 + 3*z189^31 + 4*z189^29 + 4*z189^28 + 3*z189^27 + 3*z189^25 + 3*z189^24 + 4*z189^23 + 2*z189^22 + z189^21 + 3*z189^20 + z189^19 + 2*z189^18 + 3*z189^17 + 4*z189^16 + 2*z189^15 + 2*z189^14 + 3*z189^13 + 3*z189^12 + 3*z189^11 + 2*z189^10 + 4*z189^9 + z189^8 + 2*z189^6 + 3*z189^5 + z189^4 + 3*z189^3 + z189^2 + z189)*z^7 + (z189^188 + z189^185 + 2*z189^183 + 2*z189^182 + z189^181 + 2*z189^177 + 2*z189^174 + 4*z189^173 + 3*z189^171 + 3*z189^168 + 4*z189^167 + z189^165 + 4*z189^163 + 2*z189^162 + 3*z189^161 + 2*z189^160 + 2*z189^159 + 3*z189^158 + 2*z189^157 + z189^155 + 4*z189^154 + 4*z189^153 + 3*z189^152 + 3*z189^151 + 3*z189^150 + z189^149 + 4*z189^148 + 4*z189^147 + 4*z189^146 + 4*z189^144 + 4*z189^143 + 2*z189^142 + 3*z189^141 + 3*z189^139 + z189^137 + 3*z189^136 + 2*z189^135 + 2*z189^134 + 3*z189^131 + z189^130 + 3*z189^129 + z189^128 + 3*z189^127 + z189^126 + 2*z189^125 + 3*z189^124 + 3*z189^122 + 2*z189^121 + 3*z189^119 + 4*z189^118 + 3*z189^117 + z189^116 + 3*z189^114 + 2*z189^112 + 3*z189^111 + 2*z189^110 + 3*z189^109 + 4*z189^108 + 2*z189^107 + 3*z189^106 + 2*z189^105 + 2*z189^104 + 3*z189^102 + z189^101 + 3*z189^100 + 2*z189^99 + z189^98 + 4*z189^96 + z189^95 + 2*z189^94 + 2*z189^93 + 3*z189^92 + 2*z189^91 + z189^90 + 2*z189^88 + 2*z189^87 + 2*z189^86 + 3*z189^85 + 3*z189^84 + 3*z189^83 + 4*z189^82 + 4*z189^81 + 2*z189^80 + 2*z189^78 + 3*z189^75 + z189^74 + 3*z189^72 + 4*z189^71 + 4*z189^70 + 2*z189^69 + 2*z189^68 + z189^67 + z189^66 + z189^65 + 3*z189^64 + z189^63 + 3*z189^61 + 2*z189^60 + z189^59 + 2*z189^57 + 2*z189^55 + 2*z189^53 + 3*z189^52 + 3*z189^51 + 2*z189^50 + z189^49 + 2*z189^44 + 2*z189^43 + 4*z189^41 + 3*z189^40 + z189^39 + 3*z189^37 + z189^36 + 2*z189^35 + 4*z189^32 + 3*z189^31 + z189^29 + z189^28 + 3*z189^26 + z189^24 + 2*z189^22 + 4*z189^20 + 3*z189^19 + 2*z189^18 + 3*z189^17 + z189^16 + 3*z189^15 + z189^14 + 2*z189^13 + z189^12 + 3*z189^11 + 4*z189^9 + 4*z189^7 + z189^5 + 4*z189^4 + 3*z189^3 + z189^2 + 2)*z^6 + (3*z189^186 + z189^185 + z189^184 + 3*z189^182 + 4*z189^180 + 4*z189^179 + z189^178 + 4*z189^177 + 3*z189^174 + 3*z189^173 + 3*z189^171 + 3*z189^170 + z189^169 + 4*z189^168 + 4*z189^167 + 3*z189^166 + 3*z189^165 + 3*z189^164 + 3*z189^163 + z189^162 + 2*z189^160 + 3*z189^158 + 2*z189^157 + 4*z189^156 + 4*z189^155 + 2*z189^154 + z189^153 + 4*z189^150 + 2*z189^149 + z189^148 + 2*z189^147 + 3*z189^145 + 4*z189^144 + 3*z189^143 + 2*z189^142 + 3*z189^138 + 2*z189^137 + 2*z189^136 + 2*z189^135 + 3*z189^133 + 2*z189^131 + 3*z189^130 + 3*z189^127 + 4*z189^125 + 2*z189^122 + 3*z189^120 + 2*z189^119 + 2*z189^115 + 2*z189^114 + z189^113 + 4*z189^112 + z189^111 + 4*z189^110 + 4*z189^109 + 4*z189^107 + 2*z189^106 + z189^103 + 3*z189^101 + 2*z189^100 + 2*z189^99 + 4*z189^98 + 2*z189^97 + z189^94 + 3*z189^93 + 4*z189^92 + 4*z189^91 + 3*z189^90 + z189^89 + 2*z189^88 + 2*z189^86 + 4*z189^85 + 3*z189^84 + z189^83 + 2*z189^82 + z189^80 + z189^79 + 3*z189^78 + z189^76 + 3*z189^75 + z189^74 + 2*z189^73 + 2*z189^72 + 3*z189^70 + z189^69 + 4*z189^68 + z189^67 + z189^66 + 3*z189^65 + 4*z189^64 + z189^63 + 3*z189^62 + 4*z189^61 + z189^59 + z189^58 + 2*z189^57 + 3*z189^56 + 4*z189^55 + 2*z189^53 + 4*z189^52 + 2*z189^51 + 4*z189^50 + 2*z189^49 + 2*z189^47 + 4*z189^45 + z189^44 + 4*z189^43 + 3*z189^42 + z189^41 + 2*z189^40 + 4*z189^38 + 4*z189^37 + 3*z189^36 + 4*z189^35 + 4*z189^34 + 2*z189^33 + 4*z189^32 + z189^31 + z189^30 + 4*z189^28 + 3*z189^27 + z189^26 + z189^24 + 4*z189^23 + 4*z189^22 + 3*z189^21 + 4*z189^20 + 4*z189^19 + 2*z189^15 + 3*z189^14 + 2*z189^11 + 4*z189^10 + z189^9 + 2*z189^8 + 2*z189^6 + 2*z189^5 + 4*z189^4 + 3*z189^3 + 3*z189^2 + 2*z189 + 4)*z^5 + (3*z189^187 + 4*z189^186 + 2*z189^185 + 4*z189^184 + 3*z189^183 + z189^182 + 2*z189^181 + z189^180 + 4*z189^179 + 2*z189^175 + 4*z189^174 + z189^172 + 4*z189^171 + z189^170 + 4*z189^168 + 4*z189^167 + 4*z189^166 + 2*z189^162 + z189^161 + 4*z189^160 + 2*z189^159 + 4*z189^158 + z189^157 + z189^156 + z189^155 + 2*z189^153 + 3*z189^152 + 4*z189^151 + 2*z189^150 + 2*z189^149 + 2*z189^145 + z189^143 + z189^142 + z189^140 + 4*z189^138 + z189^137 + 4*z189^136 + 2*z189^134 + 4*z189^133 + 4*z189^132 + 4*z189^131 + 4*z189^130 + 2*z189^129 + 3*z189^128 + 3*z189^126 + 2*z189^125 + 3*z189^123 + z189^122 + z189^121 + 4*z189^120 + 3*z189^118 + 4*z189^117 + z189^116 + 3*z189^115 + 3*z189^112 + 3*z189^111 + 2*z189^110 + 3*z189^109 + 2*z189^108 + 4*z189^107 + z189^105 + 2*z189^104 + 3*z189^101 + 2*z189^100 + z189^98 + z189^97 + 4*z189^96 + 4*z189^95 + 2*z189^94 + z189^92 + 3*z189^91 + 2*z189^89 + 2*z189^88 + z189^87 + 4*z189^86 + 2*z189^85 + 4*z189^84 + 4*z189^83 + 3*z189^82 + 4*z189^81 + z189^80 + 2*z189^79 + z189^78 + 3*z189^77 + z189^76 + 2*z189^75 + 3*z189^74 + z189^73 + 4*z189^72 + 2*z189^69 + 3*z189^66 + z189^65 + 2*z189^64 + 4*z189^63 + 4*z189^62 + 3*z189^61 + 2*z189^60 + 4*z189^59 + 4*z189^58 + 3*z189^57 + 2*z189^56 + 2*z189^55 + 4*z189^54 + 3*z189^53 + 4*z189^51 + 3*z189^49 + 4*z189^48 + 4*z189^47 + 2*z189^46 + 4*z189^44 + 3*z189^42 + 2*z189^41 + 3*z189^40 + 3*z189^37 + z189^36 + z189^32 + 4*z189^31 + z189^30 + 2*z189^28 + 2*z189^27 + z189^26 + z189^25 + 4*z189^24 + z189^23 + 2*z189^22 + 3*z189^21 + 2*z189^19 + 3*z189^18 + 2*z189^17 + 4*z189^16 + z189^15 + 3*z189^12 + 4*z189^10 + 2*z189^9 + 2*z189^8 + 4*z189^7 + z189^6 + 2*z189^4 + 2*z189^3 + z189^2 + 3*z189 + 4)*z^4 + (2*z189^187 + 3*z189^186 + z189^185 + z189^184 + 3*z189^183 + z189^182 + z189^181 + z189^180 + 2*z189^178 + z189^177 + 3*z189^175 + 4*z189^173 + 4*z189^172 + 2*z189^171 + 2*z189^169 + 2*z189^167 + 4*z189^165 + z189^164 + z189^163 + z189^160 + 2*z189^159 + z189^158 + 2*z189^157 + 3*z189^156 + 3*z189^155 + z189^154 + z189^153 + 2*z189^152 + 4*z189^151 + 2*z189^150 + z189^149 + z189^148 + z189^147 + z189^145 + 4*z189^144 + 3*z189^143 + 3*z189^142 + 2*z189^141 + 4*z189^137 + 2*z189^136 + z189^135 + 3*z189^134 + 3*z189^132 + 4*z189^130 + 2*z189^129 + 3*z189^128 + z189^127 + 2*z189^126 + 2*z189^124 + 4*z189^123 + z189^121 + 2*z189^120 + 3*z189^119 + 4*z189^118 + 4*z189^117 + 4*z189^116 + 2*z189^115 + 4*z189^114 + 4*z189^113 + 2*z189^112 + 2*z189^111 + 2*z189^110 + 4*z189^109 + 3*z189^108 + 4*z189^107 + 4*z189^106 + 4*z189^104 + 2*z189^103 + 4*z189^101 + z189^99 + 4*z189^98 + 2*z189^97 + 4*z189^96 + 2*z189^95 + z189^94 + 2*z189^93 + 3*z189^91 + z189^90 + 2*z189^89 + z189^88 + 4*z189^87 + 3*z189^84 + 3*z189^81 + 3*z189^79 + 3*z189^78 + z189^77 + z189^76 + z189^75 + 4*z189^72 + 2*z189^71 + 4*z189^69 + 4*z189^68 + 2*z189^67 + 2*z189^66 + z189^65 + z189^64 + 3*z189^63 + 2*z189^62 + z189^61 + 4*z189^60 + 2*z189^59 + z189^58 + 3*z189^56 + 4*z189^54 + z189^53 + z189^52 + 3*z189^51 + 2*z189^50 + z189^49 + 3*z189^48 + z189^46 + 3*z189^45 + 2*z189^44 + 3*z189^42 + 2*z189^41 + z189^40 + 4*z189^36 + z189^35 + 4*z189^34 + z189^33 + 4*z189^32 + 2*z189^29 + z189^27 + 3*z189^26 + 4*z189^25 + 4*z189^24 + 3*z189^22 + 4*z189^21 + z189^20 + 2*z189^19 + z189^18 + 2*z189^17 + 2*z189^16 + 2*z189^15 + 4*z189^14 + z189^13 + 4*z189^12 + 4*z189^11 + 2*z189^9 + 3*z189^8 + z189^7 + 3*z189^5 + 4*z189^4 + 3*z189 + 2)*z^3 + (2*z189^187 + 4*z189^185 + 3*z189^184 + 3*z189^183 + 2*z189^182 + 4*z189^181 + z189^180 + z189^179 + 2*z189^178 + 3*z189^177 + 2*z189^176 + 2*z189^175 + 4*z189^174 + 3*z189^173 + 4*z189^172 + z189^171 + z189^170 + 4*z189^169 + z189^168 + z189^167 + 3*z189^166 + 3*z189^165 + z189^164 + 3*z189^162 + 2*z189^161 + 4*z189^160 + 4*z189^159 + 2*z189^158 + 2*z189^157 + 3*z189^156 + z189^155 + 3*z189^153 + z189^152 + 3*z189^149 + z189^148 + 2*z189^147 + 4*z189^145 + 3*z189^144 + 4*z189^143 + 3*z189^142 + 3*z189^139 + 4*z189^138 + 4*z189^136 + z189^135 + z189^132 + 3*z189^131 + 4*z189^129 + 4*z189^128 + 4*z189^127 + 4*z189^126 + 4*z189^125 + 4*z189^124 + 4*z189^123 + 4*z189^121 + 3*z189^120 + z189^119 + 3*z189^118 + 4*z189^117 + 3*z189^114 + 2*z189^112 + z189^111 + 4*z189^110 + z189^109 + 3*z189^108 + 2*z189^107 + 4*z189^106 + 2*z189^105 + 2*z189^104 + 2*z189^103 + 3*z189^102 + 3*z189^101 + z189^100 + z189^98 + 3*z189^96 + 3*z189^95 + 4*z189^94 + z189^93 + 4*z189^92 + z189^91 + 4*z189^90 + z189^89 + 4*z189^88 + 3*z189^87 + 2*z189^86 + 4*z189^85 + 2*z189^84 + 3*z189^83 + 3*z189^81 + 2*z189^80 + 4*z189^79 + 4*z189^78 + z189^77 + 4*z189^76 + 4*z189^75 + z189^74 + 3*z189^73 + z189^72 + 4*z189^71 + 3*z189^69 + 4*z189^68 + z189^67 + 2*z189^66 + 4*z189^65 + 2*z189^64 + 2*z189^63 + 3*z189^62 + 4*z189^61 + 2*z189^60 + 3*z189^59 + 4*z189^58 + z189^57 + z189^56 + 2*z189^55 + 2*z189^54 + z189^53 + 2*z189^52 + 3*z189^50 + 3*z189^48 + z189^47 + z189^46 + 4*z189^45 + 2*z189^44 + 2*z189^43 + 4*z189^42 + z189^39 + 2*z189^38 + 3*z189^36 + 2*z189^35 + 3*z189^34 + 4*z189^33 + 4*z189^31 + 3*z189^30 + 4*z189^29 + 3*z189^28 + 4*z189^27 + z189^26 + z189^24 + z189^22 + 2*z189^20 + 3*z189^17 + 2*z189^16 + 4*z189^15 + 2*z189^14 + 3*z189^13 + z189^12 + 3*z189^11 + 3*z189^10 + 4*z189^9 + 2*z189^8 + 3*z189^7 + z189^6 + z189^5 + z189^4 + 3*z189^3 + 2*z189 + 2)*z^2 + (3*z189^188 + 2*z189^187 + 2*z189^186 + 2*z189^185 + z189^184 + z189^183 + z189^182 + 3*z189^181 + 4*z189^180 + 4*z189^179 + 3*z189^177 + 2*z189^176 + 2*z189^175 + 4*z189^174 + z189^173 + 3*z189^172 + 2*z189^171 + z189^170 + 4*z189^169 + 4*z189^168 + 2*z189^166 + 3*z189^165 + z189^164 + 4*z189^163 + z189^162 + 2*z189^161 + 4*z189^160 + 3*z189^159 + 3*z189^158 + z189^157 + z189^156 + 4*z189^155 + z189^154 + 3*z189^153 + 4*z189^152 + z189^151 + 4*z189^150 + 3*z189^149 + 4*z189^148 + 3*z189^147 + 3*z189^146 + 4*z189^144 + 2*z189^143 + 3*z189^142 + 4*z189^141 + z189^140 + z189^139 + z189^138 + z189^137 + z189^136 + z189^135 + 3*z189^134 + 2*z189^129 + 3*z189^128 + z189^127 + 3*z189^126 + 3*z189^125 + 3*z189^123 + 4*z189^122 + z189^121 + 4*z189^120 + 4*z189^119 + z189^118 + 2*z189^117 + 3*z189^115 + z189^113 + 3*z189^112 + 4*z189^111 + 4*z189^110 + 3*z189^109 + 4*z189^108 + 2*z189^107 + 3*z189^106 + 3*z189^105 + z189^104 + 4*z189^103 + 4*z189^102 + 4*z189^101 + z189^100 + 4*z189^99 + z189^97 + 3*z189^96 + 3*z189^95 + 2*z189^94 + 3*z189^92 + 3*z189^91 + z189^90 + z189^89 + 4*z189^88 + z189^87 + 3*z189^86 + z189^85 + 4*z189^84 + 3*z189^83 + 4*z189^82 + 2*z189^81 + 3*z189^80 + z189^77 + 4*z189^76 + z189^75 + 2*z189^74 + 4*z189^73 + 4*z189^72 + 2*z189^71 + 3*z189^70 + 2*z189^68 + 4*z189^67 + 4*z189^65 + 3*z189^64 + 2*z189^60 + 3*z189^58 + 3*z189^57 + 3*z189^56 + 4*z189^55 + 3*z189^54 + z189^53 + 2*z189^51 + 3*z189^50 + 3*z189^49 + 4*z189^48 + 4*z189^47 + 3*z189^46 + 2*z189^43 + z189^42 + 3*z189^41 + 2*z189^40 + z189^39 + 4*z189^38 + 2*z189^37 + 4*z189^36 + z189^35 + 4*z189^32 + 3*z189^31 + 3*z189^30 + 4*z189^29 + 3*z189^27 + 3*z189^26 + 2*z189^24 + 4*z189^23 + 4*z189^21 + 4*z189^20 + 2*z189^19 + 4*z189^18 + 4*z189^16 + 3*z189^15 + 2*z189^14 + 2*z189^13 + z189^12 + z189^11 + 2*z189^9 + z189^8 + 2*z189^7 + 2*z189^6 + 2*z189^4 + z189^3 + 4*z189^2 + z189 + 3)*z + 4*z189^185 + z189^184 + 3*z189^183 + 4*z189^182 + 3*z189^181 + z189^180 + z189^179 + 2*z189^175 + 4*z189^173 + 4*z189^172 + 4*z189^171 + z189^170 + z189^169 + 4*z189^167 + 4*z189^166 + 3*z189^165 + 3*z189^164 + z189^163 + 4*z189^162 + 3*z189^161 + 2*z189^160 + 3*z189^159 + z189^158 + 2*z189^157 + 3*z189^156 + 3*z189^155 + 4*z189^154 + 3*z189^153 + z189^152 + z189^151 + 2*z189^150 + 4*z189^149 + 2*z189^147 + 3*z189^146 + 2*z189^144 + 2*z189^143 + 3*z189^142 + 4*z189^141 + z189^140 + 3*z189^138 + z189^137 + 2*z189^136 + 2*z189^135 + 3*z189^134 + 2*z189^133 + 4*z189^132 + 4*z189^131 + 4*z189^130 + 2*z189^129 + z189^128 + 4*z189^127 + z189^126 + z189^125 + 2*z189^124 + 3*z189^123 + 4*z189^121 + z189^120 + 3*z189^119 + 3*z189^116 + 4*z189^114 + z189^113 + 3*z189^112 + 4*z189^110 + 3*z189^109 + 3*z189^108 + z189^107 + 3*z189^106 + z189^105 + 3*z189^104 + 2*z189^101 + 4*z189^100 + 4*z189^99 + 2*z189^98 + 4*z189^96 + 3*z189^95 + 2*z189^94 + z189^92 + z189^91 + 3*z189^90 + 3*z189^89 + 4*z189^88 + 4*z189^86 + 2*z189^85 + 3*z189^83 + 4*z189^82 + z189^81 + 2*z189^80 + 3*z189^79 + 4*z189^78 + 3*z189^76 + 4*z189^74 + 2*z189^73 + 3*z189^72 + 2*z189^70 + 2*z189^69 + 3*z189^68 + 3*z189^67 + 2*z189^66 + z189^65 + 4*z189^64 + z189^63 + 3*z189^62 + z189^61 + z189^60 + 3*z189^59 + z189^58 + 2*z189^57 + 2*z189^56 + 2*z189^55 + 4*z189^54 + 4*z189^53 + z189^51 + z189^50 + 2*z189^49 + z189^47 + 2*z189^46 + 2*z189^45 + z189^44 + z189^43 + 4*z189^40 + 3*z189^39 + 4*z189^38 + 2*z189^37 + 4*z189^35 + 3*z189^34 + 4*z189^33 + 3*z189^32 + 3*z189^31 + 3*z189^27 + z189^25 + 2*z189^24 + 4*z189^23 + z189^21 + z189^20 + 3*z189^19 + 4*z189^16 + 2*z189^15 + 3*z189^14 + z189^12 + 2*z189^10 + 2*z189^9 + 2*z189^8 + z189^7 + 2*z189^6 + 4*z189^5 + 4*z189^4 + 3*z189^2 + 3*z189 + 3)"
      ]
     },
     "execution_count": 28,
     "metadata": {},
     "output_type": "execute_result"
    }
   ],
   "source": [
    "testc(p, 7 * 3^2, 7 * 3^3);"
   ]
  },
  {
   "cell_type": "code",
   "execution_count": 30,
   "metadata": {
    "collapsed": false,
    "deletable": true,
    "editable": true
   },
   "outputs": [
    {
     "data": {
      "text/plain": [
       "(2*x^62 + 3*x^61 + x^58 + x^56 + 3*x^55 + 2*x^54 + x^53 + x^50 + 4*x^45 + 2*x^44 + 2*x^42 + 3*x^41 + 2*x^40 + 4*x^39 + 2*x^38 + 4*x^37 + 3*x^36 + 4*x^35 + 2*x^34 + x^33 + 4*x^32 + 3*x^31 + 2*x^30 + x^28 + 3*x^27 + 2*x^26 + 2*x^25 + 3*x^24 + 3*x^23 + 4*x^21 + 3*x^20 + 3*x^19 + x^18 + 2*x^17 + 4*x^16 + 3*x^15 + 4*x^14 + 4*x^11 + 4*x^10 + 3*x^8 + 2*x^7 + 2*x^6 + 4*x^5 + 3*x^4 + 3*x^3 + 3*x^2)*z^5 + (2*x^61 + 2*x^60 + 4*x^59 + 3*x^58 + 2*x^56 + 2*x^55 + 4*x^54 + 4*x^52 + 3*x^50 + 4*x^48 + x^47 + x^46 + x^45 + 3*x^44 + x^40 + 2*x^39 + 4*x^38 + 4*x^36 + x^35 + 3*x^30 + 4*x^29 + x^28 + 2*x^27 + 3*x^26 + 3*x^24 + 4*x^23 + 4*x^22 + 4*x^20 + x^19 + 3*x^18 + 4*x^17 + 4*x^15 + 4*x^14 + 4*x^13 + 4*x^12 + 2*x^11 + x^10 + 4*x^9 + 2*x^8 + x^6 + 2*x^5 + 4*x^3 + 2*x^2 + 4)*z^4 + (x^62 + 4*x^61 + x^60 + x^59 + 2*x^58 + x^57 + 3*x^56 + x^53 + 4*x^51 + 3*x^50 + 2*x^48 + 3*x^47 + 2*x^45 + 2*x^44 + 4*x^43 + x^41 + x^39 + 4*x^38 + x^37 + 2*x^36 + x^35 + 2*x^34 + x^33 + x^32 + 4*x^31 + 2*x^30 + 3*x^29 + x^28 + 2*x^27 + 2*x^25 + x^22 + 3*x^21 + 2*x^20 + x^19 + 4*x^18 + 3*x^17 + 3*x^15 + 3*x^14 + 3*x^13 + 2*x^12 + 3*x^11 + x^10 + 2*x^9 + 2*x^8 + 3*x^7 + 3*x^6 + 2*x^4 + 4*x^3 + 2*x^2 + 3*x)*z^3 + (3*x^62 + 3*x^61 + 2*x^60 + 3*x^59 + 4*x^58 + x^57 + 3*x^56 + 2*x^54 + 4*x^53 + 3*x^52 + 4*x^51 + 3*x^49 + 2*x^48 + 4*x^46 + 4*x^45 + 2*x^44 + x^43 + 4*x^40 + 4*x^39 + 4*x^38 + 3*x^37 + 3*x^36 + 4*x^35 + 3*x^34 + 4*x^33 + 2*x^32 + 4*x^31 + x^29 + 4*x^28 + 2*x^27 + x^26 + 4*x^25 + 2*x^24 + 2*x^23 + 3*x^22 + x^21 + x^20 + x^19 + 4*x^18 + 3*x^17 + 4*x^16 + x^15 + 4*x^14 + 3*x^13 + 3*x^12 + 3*x^11 + 4*x^10 + 2*x^9 + 3*x^8 + x^4 + 4*x^3 + 3*x^2 + 2*x)*z^2 + (2*x^62 + x^60 + 4*x^59 + 3*x^57 + 2*x^56 + 4*x^55 + 2*x^54 + 2*x^53 + 4*x^52 + 3*x^51 + 2*x^50 + 2*x^49 + x^48 + 3*x^47 + 4*x^46 + x^44 + 4*x^43 + 3*x^41 + 4*x^40 + 4*x^39 + x^38 + 3*x^37 + 2*x^36 + x^35 + x^34 + 3*x^33 + 3*x^32 + 4*x^31 + x^30 + x^29 + 3*x^28 + 4*x^27 + 3*x^26 + 4*x^24 + 4*x^23 + 3*x^22 + 4*x^20 + 2*x^19 + x^17 + 2*x^16 + 2*x^15 + x^14 + x^13 + x^11 + 3*x^10 + x^9 + 4*x^8 + 3*x^6 + 4*x^5 + 4*x^4 + 3*x^2 + 2*x + 1)*z + 4*x^62 + 4*x^61 + 4*x^60 + x^59 + 4*x^58 + 2*x^57 + 2*x^56 + 3*x^55 + x^54 + 2*x^53 + 3*x^52 + x^51 + 4*x^49 + x^48 + 2*x^47 + 2*x^46 + 3*x^45 + 3*x^44 + 2*x^43 + 4*x^42 + x^41 + 4*x^40 + 3*x^39 + 4*x^38 + 4*x^37 + x^36 + 2*x^35 + 3*x^34 + 4*x^33 + 3*x^31 + 2*x^29 + 3*x^27 + 2*x^26 + 3*x^25 + 3*x^24 + 2*x^23 + 4*x^21 + 3*x^20 + 3*x^18 + 4*x^17 + x^16 + 2*x^15 + 3*x^14 + 4*x^13 + 2*x^12 + 3*x^11 + 4*x^9 + 4*x^6 + x^4 + x^3 + 3*x^2 + 2"
      ]
     },
     "execution_count": 30,
     "metadata": {},
     "output_type": "execute_result"
    }
   ],
   "source": [
    "h1"
   ]
  },
  {
   "cell_type": "code",
   "execution_count": 32,
   "metadata": {
    "collapsed": false,
    "deletable": true,
    "editable": true
   },
   "outputs": [
    {
     "data": {
      "text/plain": [
       "Univariate Quotient Polynomial Ring in z over Finite Field in z189 of size 5^189 with modulus z^18 + z^12 + 3*z^9 + z^6 + 1"
      ]
     },
     "execution_count": 32,
     "metadata": {},
     "output_type": "execute_result"
    }
   ],
   "source": [
    "h2.parent()"
   ]
  },
  {
   "cell_type": "code",
   "execution_count": 33,
   "metadata": {
    "collapsed": false,
    "deletable": true,
    "editable": true
   },
   "outputs": [
    {
     "data": {
      "text/plain": [
       "189"
      ]
     },
     "execution_count": 33,
     "metadata": {},
     "output_type": "execute_result"
    }
   ],
   "source": [
    "7 * 3^3"
   ]
  },
  {
   "cell_type": "code",
   "execution_count": 34,
   "metadata": {
    "collapsed": false,
    "deletable": true,
    "editable": true
   },
   "outputs": [
    {
     "data": {
      "text/plain": [
       "x^6 + (x^62 + 2*x^61 + 3*x^60 + 2*x^59 + 3*x^58 + 4*x^57 + x^55 + x^54 + x^52 + 3*x^51 + 3*x^50 + 2*x^49 + 4*x^48 + 2*x^47 + 3*x^46 + x^43 + x^42 + 3*x^41 + x^40 + 3*x^39 + 3*x^38 + x^37 + x^36 + 2*x^35 + x^34 + 3*x^33 + 3*x^32 + x^31 + 4*x^30 + 4*x^28 + 3*x^27 + x^26 + 3*x^25 + 2*x^24 + 3*x^22 + 3*x^19 + 2*x^18 + 2*x^17 + 2*x^16 + 2*x^13 + 4*x^11 + 4*x^10 + x^9 + 3*x^8 + 2*x^7 + 4*x^5 + 4*x^4 + x^3 + x + 1)*x^5 + (x^62 + 4*x^61 + x^60 + x^59 + 4*x^57 + 3*x^55 + x^54 + 3*x^53 + 3*x^51 + x^50 + x^48 + x^47 + x^44 + 4*x^43 + 4*x^42 + 2*x^41 + 3*x^40 + 2*x^39 + x^36 + 2*x^35 + 3*x^33 + 4*x^32 + 2*x^30 + 3*x^29 + 4*x^28 + 2*x^27 + 4*x^26 + 3*x^24 + x^22 + 3*x^21 + 2*x^20 + x^19 + 3*x^18 + 3*x^17 + x^15 + 3*x^14 + 3*x^12 + 3*x^11 + x^9 + x^8 + 2*x^6 + 3*x^5 + 4*x^3 + 3*x^2 + 3)*x^4 + (3*x^61 + 2*x^60 + x^59 + 2*x^58 + 4*x^56 + x^55 + 2*x^54 + x^52 + x^50 + x^48 + 2*x^46 + x^45 + 2*x^44 + 3*x^43 + 4*x^42 + x^41 + 3*x^40 + 2*x^39 + x^38 + 2*x^37 + 3*x^36 + 2*x^35 + 2*x^34 + x^33 + x^30 + x^28 + x^27 + 4*x^26 + x^25 + 3*x^24 + 3*x^23 + 4*x^21 + 3*x^19 + 3*x^18 + 3*x^16 + 4*x^15 + 2*x^14 + 4*x^13 + 4*x^11 + 4*x^10 + x^9 + 3*x^8 + x^7 + 3*x^5 + 4*x^4 + 2*x^3 + 3*x^2 + 1)*x^3 + (4*x^62 + x^61 + 3*x^60 + 3*x^58 + 2*x^57 + x^56 + 4*x^55 + 4*x^54 + x^52 + 2*x^51 + 4*x^50 + 4*x^48 + x^47 + 3*x^46 + 4*x^45 + x^44 + x^43 + 2*x^41 + 3*x^40 + 2*x^39 + 2*x^38 + 4*x^37 + 4*x^36 + x^34 + 4*x^31 + 4*x^30 + 4*x^29 + 3*x^28 + 3*x^27 + 4*x^26 + 3*x^24 + 4*x^23 + 2*x^22 + 4*x^20 + 2*x^19 + x^18 + x^15 + 2*x^14 + 3*x^13 + 2*x^12 + 4*x^11 + 4*x^10 + 2*x^9 + x^8 + 4*x^7 + 4*x^6 + 3*x^5 + 4*x^3 + 4*x + 1)*x^2 + (x^61 + 2*x^60 + x^59 + 4*x^58 + 3*x^57 + x^56 + x^54 + x^53 + 3*x^52 + 3*x^51 + 4*x^49 + x^48 + 4*x^47 + x^46 + 4*x^43 + 2*x^42 + 4*x^40 + 2*x^39 + 4*x^38 + 4*x^37 + 4*x^36 + x^35 + 4*x^32 + 3*x^31 + 3*x^29 + x^28 + 3*x^27 + 2*x^26 + 2*x^25 + 3*x^24 + 4*x^22 + 4*x^21 + 4*x^20 + 4*x^19 + x^18 + 3*x^16 + 4*x^15 + 4*x^14 + x^13 + 4*x^11 + 2*x^10 + 2*x^9 + 4*x^8 + 2*x^6 + x^5 + 4*x^4)*x + 3"
      ]
     },
     "execution_count": 34,
     "metadata": {},
     "output_type": "execute_result"
    }
   ],
   "source": [
    "h1.minpoly()"
   ]
  },
  {
   "cell_type": "code",
   "execution_count": 37,
   "metadata": {
    "collapsed": false,
    "deletable": true,
    "editable": true
   },
   "outputs": [
    {
     "data": {
      "text/plain": [
       "x^63 + 3*x^61 + 4*x^59 + x^55 + x^53 + 2*x^51 + 2*x^49 + x^47 + 4*x^45 + 4*x^44 + 3*x^43 + 2*x^42 + 2*x^41 + x^40 + x^39 + x^38 + x^37 + 2*x^36 + 4*x^35 + 3*x^34 + 4*x^33 + 3*x^32 + 2*x^31 + 4*x^30 + 2*x^29 + 4*x^27 + 3*x^26 + 3*x^25 + 2*x^23 + 2*x^22 + 4*x^21 + x^20 + 3*x^19 + x^18 + 4*x^17 + x^16 + 4*x^14 + x^13 + 4*x^12 + 2*x^10 + 2*x^9 + 2*x^8 + 2*x^7 + 3*x^6 + 2*x^5 + 4*x^4 + 4*x^3 + 4*x^2 + 4*x + 4"
      ]
     },
     "execution_count": 37,
     "metadata": {},
     "output_type": "execute_result"
    }
   ],
   "source": [
    "h1.list()[0].minpoly()"
   ]
  },
  {
   "cell_type": "code",
   "execution_count": 54,
   "metadata": {
    "collapsed": false,
    "deletable": true,
    "editable": true
   },
   "outputs": [],
   "source": [
    "i2  = rnorm(h2, 7 * 3^2)"
   ]
  },
  {
   "cell_type": "code",
   "execution_count": 40,
   "metadata": {
    "collapsed": false,
    "deletable": true,
    "editable": true
   },
   "outputs": [
    {
     "data": {
      "text/plain": [
       "False"
      ]
     },
     "execution_count": 40,
     "metadata": {},
     "output_type": "execute_result"
    }
   ],
   "source": [
    "is_iso(h1, h2)"
   ]
  },
  {
   "cell_type": "code",
   "execution_count": 41,
   "metadata": {
    "collapsed": false,
    "deletable": true,
    "editable": true
   },
   "outputs": [
    {
     "data": {
      "text/plain": [
       "3"
      ]
     },
     "execution_count": 41,
     "metadata": {},
     "output_type": "execute_result"
    }
   ],
   "source": [
    "l = h2.parent().degree() // h1.parent().degree(); l"
   ]
  },
  {
   "cell_type": "code",
   "execution_count": 43,
   "metadata": {
    "collapsed": false,
    "deletable": true,
    "editable": true
   },
   "outputs": [
    {
     "data": {
      "text/plain": [
       "2*z^15 + 2*z^12 + 4*z^9 + 4*z^6 + z^3 + 1"
      ]
     },
     "execution_count": 43,
     "metadata": {},
     "output_type": "execute_result"
    }
   ],
   "source": [
    "i2^(7*3^2)"
   ]
  },
  {
   "cell_type": "code",
   "execution_count": 44,
   "metadata": {
    "collapsed": false,
    "deletable": true,
    "editable": true
   },
   "outputs": [
    {
     "data": {
      "text/plain": [
       "2*z^5 + z^4 + 4*z^3 + 2*z^2 + 2*z + 4"
      ]
     },
     "execution_count": 44,
     "metadata": {},
     "output_type": "execute_result"
    }
   ],
   "source": [
    "h1^(7*3^2)"
   ]
  },
  {
   "cell_type": "code",
   "execution_count": 48,
   "metadata": {
    "collapsed": false,
    "deletable": true,
    "editable": true
   },
   "outputs": [
    {
     "data": {
      "text/plain": [
       "2*z189^188 + 2*z189^186 + 3*z189^185 + z189^184 + 4*z189^183 + z189^182 + z189^181 + 2*z189^180 + 3*z189^179 + 2*z189^177 + 3*z189^176 + 3*z189^173 + 3*z189^172 + 2*z189^171 + z189^170 + 4*z189^169 + z189^168 + 3*z189^167 + 3*z189^166 + 3*z189^164 + 3*z189^163 + 4*z189^162 + z189^161 + 4*z189^158 + z189^155 + 2*z189^152 + z189^151 + 4*z189^150 + z189^145 + 4*z189^144 + z189^143 + z189^142 + 4*z189^141 + 4*z189^140 + 4*z189^138 + 3*z189^135 + z189^134 + 4*z189^133 + 2*z189^132 + 2*z189^131 + 3*z189^130 + 4*z189^127 + 4*z189^126 + 4*z189^125 + z189^124 + z189^123 + 4*z189^122 + z189^121 + 3*z189^120 + z189^119 + z189^118 + 2*z189^116 + 2*z189^115 + 2*z189^114 + 3*z189^113 + 4*z189^110 + 3*z189^109 + 2*z189^108 + 4*z189^107 + 4*z189^106 + 2*z189^105 + 4*z189^104 + 3*z189^103 + z189^102 + 3*z189^100 + 3*z189^99 + 4*z189^98 + 3*z189^96 + z189^94 + 2*z189^92 + z189^91 + 2*z189^90 + 4*z189^89 + 2*z189^88 + 4*z189^87 + 2*z189^86 + 4*z189^84 + 2*z189^83 + z189^82 + 4*z189^81 + 2*z189^79 + 3*z189^78 + z189^77 + z189^76 + 4*z189^75 + 4*z189^74 + 2*z189^72 + 2*z189^71 + 3*z189^69 + 3*z189^68 + z189^67 + z189^65 + 4*z189^64 + 2*z189^62 + 2*z189^60 + 3*z189^59 + 2*z189^57 + z189^56 + 4*z189^55 + 3*z189^54 + z189^53 + z189^52 + 4*z189^51 + z189^50 + 4*z189^48 + 3*z189^47 + 3*z189^45 + 2*z189^44 + z189^43 + 4*z189^42 + 3*z189^39 + z189^38 + 2*z189^37 + 2*z189^36 + 2*z189^35 + 3*z189^34 + z189^33 + 3*z189^32 + 2*z189^31 + 2*z189^30 + 4*z189^28 + 2*z189^27 + z189^24 + z189^23 + 2*z189^20 + 4*z189^19 + z189^18 + 3*z189^17 + 4*z189^16 + 2*z189^15 + 4*z189^13 + 3*z189^10 + z189^9 + z189^8 + 2*z189^7 + 3*z189^6 + 3*z189^5 + z189^4 + z189^3 + 2*z189^2 + 2*z189 + 2"
      ]
     },
     "execution_count": 48,
     "metadata": {},
     "output_type": "execute_result"
    }
   ],
   "source": [
    "ele = change_basis(i2, i2.parent().gen()^3, i2.parent().degree()); ele"
   ]
  },
  {
   "cell_type": "code",
   "execution_count": 49,
   "metadata": {
    "collapsed": false,
    "deletable": true,
    "editable": true
   },
   "outputs": [
    {
     "data": {
      "text/plain": [
       "x^63 + 4*x^61 + 4*x^59 + 3*x^57 + 4*x^55 + 3*x^51 + x^49 + 2*x^48 + 2*x^47 + 3*x^46 + 3*x^45 + x^44 + x^43 + 3*x^42 + 4*x^41 + x^40 + 3*x^39 + x^38 + 2*x^37 + 4*x^36 + 2*x^35 + 2*x^34 + x^33 + x^32 + x^30 + 2*x^28 + x^26 + 2*x^24 + 2*x^23 + 4*x^22 + x^21 + 2*x^20 + 3*x^19 + 2*x^18 + 3*x^17 + x^16 + 4*x^15 + x^14 + 4*x^12 + x^11 + 3*x^10 + 3*x^9 + x^7 + 4*x^5 + 2*x^4 + 2*x^3 + x^2 + 1"
      ]
     },
     "execution_count": 49,
     "metadata": {},
     "output_type": "execute_result"
    }
   ],
   "source": [
    "ele.minpoly()"
   ]
  },
  {
   "cell_type": "code",
   "execution_count": 50,
   "metadata": {
    "collapsed": false,
    "deletable": true,
    "editable": true
   },
   "outputs": [
    {
     "data": {
      "text/plain": [
       "x^63 + 3*x^61 + 4*x^59 + x^55 + x^53 + 2*x^51 + 2*x^49 + x^47 + 4*x^45 + 4*x^44 + 3*x^43 + 2*x^42 + 2*x^41 + x^40 + x^39 + x^38 + x^37 + 2*x^36 + 4*x^35 + 3*x^34 + 4*x^33 + 3*x^32 + 2*x^31 + 4*x^30 + 2*x^29 + 4*x^27 + 3*x^26 + 3*x^25 + 2*x^23 + 2*x^22 + 4*x^21 + x^20 + 3*x^19 + x^18 + 4*x^17 + x^16 + 4*x^14 + x^13 + 4*x^12 + 2*x^10 + 2*x^9 + 2*x^8 + 2*x^7 + 3*x^6 + 2*x^5 + 4*x^4 + 4*x^3 + 4*x^2 + 4*x + 4"
      ]
     },
     "execution_count": 50,
     "metadata": {},
     "output_type": "execute_result"
    }
   ],
   "source": [
    "h1.list()[0].minpoly()"
   ]
  },
  {
   "cell_type": "code",
   "execution_count": 178,
   "metadata": {
    "collapsed": false,
    "deletable": true,
    "editable": true
   },
   "outputs": [
    {
     "data": {
      "text/plain": [
       "12"
      ]
     },
     "execution_count": 178,
     "metadata": {},
     "output_type": "execute_result"
    }
   ],
   "source": [
    "p = 17\n",
    "k = GF(p)\n",
    "cyclo_deg(k, 3^3 * 5)"
   ]
  },
  {
   "cell_type": "code",
   "execution_count": 181,
   "metadata": {
    "collapsed": false,
    "deletable": true,
    "editable": true
   },
   "outputs": [
    {
     "name": "stdout",
     "output_type": "stream",
     "text": [
      "True\n",
      "True\n",
      "True\n"
     ]
    },
    {
     "ename": "ValueError",
     "evalue": "no nth root",
     "output_type": "error",
     "traceback": [
      "\u001b[1;31m---------------------------------------------------------------------------\u001b[0m",
      "\u001b[1;31mValueError\u001b[0m                                Traceback (most recent call last)",
      "\u001b[1;32m<ipython-input-181-63364f2f7c5d>\u001b[0m in \u001b[0;36m<module>\u001b[1;34m()\u001b[0m\n\u001b[0;32m      3\u001b[0m \u001b[0ml\u001b[0m \u001b[1;33m=\u001b[0m \u001b[0mn\u001b[0m \u001b[1;33m//\u001b[0m \u001b[0mm\u001b[0m\u001b[1;33m\u001b[0m\u001b[0m\n\u001b[0;32m      4\u001b[0m \u001b[1;32mfor\u001b[0m \u001b[0mi\u001b[0m \u001b[1;32min\u001b[0m \u001b[0mrange\u001b[0m\u001b[1;33m(\u001b[0m\u001b[0mInteger\u001b[0m\u001b[1;33m(\u001b[0m\u001b[1;36m10\u001b[0m\u001b[1;33m)\u001b[0m\u001b[1;33m)\u001b[0m\u001b[1;33m:\u001b[0m\u001b[1;33m\u001b[0m\u001b[0m\n\u001b[1;32m----> 5\u001b[1;33m     \u001b[0mh1\u001b[0m\u001b[1;33m,\u001b[0m \u001b[0mh2\u001b[0m \u001b[1;33m=\u001b[0m \u001b[0mtestc\u001b[0m\u001b[1;33m(\u001b[0m\u001b[0mp\u001b[0m\u001b[1;33m,\u001b[0m \u001b[0mm\u001b[0m\u001b[1;33m,\u001b[0m \u001b[0mn\u001b[0m\u001b[1;33m)\u001b[0m\u001b[1;33m\u001b[0m\u001b[0m\n\u001b[0m\u001b[0;32m      6\u001b[0m     \u001b[1;32mprint\u001b[0m \u001b[0mis_iso\u001b[0m\u001b[1;33m(\u001b[0m\u001b[0mh1\u001b[0m\u001b[1;33m,\u001b[0m \u001b[0mh2\u001b[0m\u001b[1;33m)\u001b[0m\u001b[1;33m\u001b[0m\u001b[0m\n",
      "\u001b[1;32m<ipython-input-13-85f3453348f9>\u001b[0m in \u001b[0;36mtestc\u001b[1;34m(p, m, n)\u001b[0m\n\u001b[0;32m     21\u001b[0m \u001b[1;33m\u001b[0m\u001b[0m\n\u001b[0;32m     22\u001b[0m     \u001b[0mt\u001b[0m \u001b[1;33m=\u001b[0m \u001b[0ma\u001b[0m\u001b[1;33m/\u001b[0m\u001b[0mb\u001b[0m\u001b[1;33m\u001b[0m\u001b[0m\n\u001b[1;32m---> 23\u001b[1;33m     \u001b[0mc\u001b[0m \u001b[1;33m=\u001b[0m \u001b[0mt\u001b[0m\u001b[1;33m.\u001b[0m\u001b[0mnth_root\u001b[0m\u001b[1;33m(\u001b[0m\u001b[0mn\u001b[0m\u001b[1;33m)\u001b[0m\u001b[1;33m\u001b[0m\u001b[0m\n\u001b[0m\u001b[0;32m     24\u001b[0m     \u001b[1;32mreturn\u001b[0m \u001b[0mh1\u001b[0m\u001b[1;33m,\u001b[0m \u001b[0mA2\u001b[0m\u001b[1;33m(\u001b[0m\u001b[0mc\u001b[0m\u001b[1;33m.\u001b[0m\u001b[0mpolynomial\u001b[0m\u001b[1;33m(\u001b[0m\u001b[1;33m)\u001b[0m\u001b[1;33m.\u001b[0m\u001b[0mlist\u001b[0m\u001b[1;33m(\u001b[0m\u001b[1;33m)\u001b[0m\u001b[1;33m)\u001b[0m\u001b[1;33m*\u001b[0m\u001b[0mh2\u001b[0m\u001b[1;33m\u001b[0m\u001b[0m\n",
      "\u001b[1;32m/home/erou/sage/src/sage/rings/finite_rings/element_base.pyx\u001b[0m in \u001b[0;36msage.rings.finite_rings.element_base.FinitePolyExtElement.nth_root (build/cythonized/sage/rings/finite_rings/element_base.c:10370)\u001b[1;34m()\u001b[0m\n\u001b[0;32m    749\u001b[0m         \u001b[1;32mfrom\u001b[0m \u001b[0msage\u001b[0m\u001b[1;33m.\u001b[0m\u001b[0mrings\u001b[0m\u001b[1;33m.\u001b[0m\u001b[0minteger\u001b[0m \u001b[1;32mimport\u001b[0m \u001b[0mInteger\u001b[0m\u001b[1;33m\u001b[0m\u001b[0m\n\u001b[0;32m    750\u001b[0m         \u001b[0mn\u001b[0m \u001b[1;33m=\u001b[0m \u001b[0mInteger\u001b[0m\u001b[1;33m(\u001b[0m\u001b[0mn\u001b[0m\u001b[1;33m)\u001b[0m\u001b[1;33m\u001b[0m\u001b[0m\n\u001b[1;32m--> 751\u001b[1;33m         \u001b[1;32mreturn\u001b[0m \u001b[0mself\u001b[0m\u001b[1;33m.\u001b[0m\u001b[0m_nth_root_common\u001b[0m\u001b[1;33m(\u001b[0m\u001b[0mn\u001b[0m\u001b[1;33m,\u001b[0m \u001b[0mall\u001b[0m\u001b[1;33m,\u001b[0m \u001b[0malgorithm\u001b[0m\u001b[1;33m,\u001b[0m \u001b[0mcunningham\u001b[0m\u001b[1;33m)\u001b[0m\u001b[1;33m\u001b[0m\u001b[0m\n\u001b[0m\u001b[0;32m    752\u001b[0m \u001b[1;33m\u001b[0m\u001b[0m\n\u001b[0;32m    753\u001b[0m     \u001b[1;32mdef\u001b[0m \u001b[0mpth_power\u001b[0m\u001b[1;33m(\u001b[0m\u001b[0mself\u001b[0m\u001b[1;33m,\u001b[0m \u001b[0mint\u001b[0m \u001b[0mk\u001b[0m \u001b[1;33m=\u001b[0m \u001b[1;36m1\u001b[0m\u001b[1;33m)\u001b[0m\u001b[1;33m:\u001b[0m\u001b[1;33m\u001b[0m\u001b[0m\n",
      "\u001b[1;32m/home/erou/sage/src/sage/rings/finite_rings/element_base.pyx\u001b[0m in \u001b[0;36msage.rings.finite_rings.element_base.FiniteRingElement._nth_root_common (build/cythonized/sage/rings/finite_rings/element_base.c:3458)\u001b[1;34m()\u001b[0m\n\u001b[0;32m     70\u001b[0m         \u001b[1;32mif\u001b[0m \u001b[0mself\u001b[0m\u001b[1;33m**\u001b[0m\u001b[0mq1overn\u001b[0m \u001b[1;33m!=\u001b[0m \u001b[1;36m1\u001b[0m\u001b[1;33m:\u001b[0m\u001b[1;33m\u001b[0m\u001b[0m\n\u001b[0;32m     71\u001b[0m             \u001b[1;32mif\u001b[0m \u001b[0mall\u001b[0m\u001b[1;33m:\u001b[0m \u001b[1;32mreturn\u001b[0m \u001b[1;33m[\u001b[0m\u001b[1;33m]\u001b[0m\u001b[1;33m\u001b[0m\u001b[0m\n\u001b[1;32m---> 72\u001b[1;33m             \u001b[1;32melse\u001b[0m\u001b[1;33m:\u001b[0m \u001b[1;32mraise\u001b[0m \u001b[0mValueError\u001b[0m\u001b[1;33m(\u001b[0m\u001b[1;34m\"no nth root\"\u001b[0m\u001b[1;33m)\u001b[0m\u001b[1;33m\u001b[0m\u001b[0m\n\u001b[0m\u001b[0;32m     73\u001b[0m         \u001b[0mself\u001b[0m \u001b[1;33m=\u001b[0m \u001b[0mself\u001b[0m\u001b[1;33m**\u001b[0m\u001b[0malpha\u001b[0m\u001b[1;33m\u001b[0m\u001b[0m\n\u001b[0;32m     74\u001b[0m         \u001b[1;32mif\u001b[0m \u001b[0mcunningham\u001b[0m\u001b[1;33m:\u001b[0m\u001b[1;33m\u001b[0m\u001b[0m\n",
      "\u001b[1;31mValueError\u001b[0m: no nth root"
     ]
    }
   ],
   "source": [
    "m = 3^1 * 5\n",
    "n = 3^2 * 5^1\n",
    "l = n // m\n",
    "for i in range(10):\n",
    "    h1, h2 = testc(p, m, n)\n",
    "    print is_iso(h1, h2)"
   ]
  },
  {
   "cell_type": "code",
   "execution_count": 158,
   "metadata": {
    "collapsed": false,
    "deletable": true,
    "editable": true
   },
   "outputs": [
    {
     "data": {
      "text/plain": [
       "x^75 + 19*x^71 + 4*x^70 + 19*x^69 + 9*x^68 + 18*x^67 + 20*x^66 + 15*x^65 + 20*x^64 + 12*x^63 + 3*x^62 + 10*x^61 + 17*x^60 + 4*x^59 + 14*x^58 + 21*x^57 + 4*x^56 + 6*x^55 + 7*x^54 + 13*x^53 + 17*x^52 + 17*x^51 + 9*x^50 + 4*x^49 + 21*x^48 + 15*x^47 + 8*x^46 + 4*x^45 + 14*x^44 + 21*x^43 + 6*x^42 + 10*x^41 + 22*x^40 + 15*x^39 + 18*x^38 + 22*x^37 + 6*x^36 + 11*x^35 + 12*x^34 + 7*x^33 + 7*x^32 + 20*x^31 + 9*x^30 + 17*x^29 + 13*x^28 + 10*x^27 + 4*x^26 + 4*x^25 + 19*x^24 + 16*x^23 + 7*x^22 + 3*x^21 + 19*x^20 + 18*x^19 + 10*x^18 + 6*x^17 + 6*x^16 + 5*x^15 + 22*x^14 + 20*x^13 + 19*x^12 + 3*x^11 + 13*x^10 + 19*x^9 + 12*x^8 + x^7 + 15*x^6 + 6*x^5 + 14*x^4 + 21*x^3 + 16*x^2 + 10*x + 15"
      ]
     },
     "execution_count": 158,
     "metadata": {},
     "output_type": "execute_result"
    }
   ],
   "source": [
    "h2.list()[0].minpoly()"
   ]
  },
  {
   "cell_type": "code",
   "execution_count": 159,
   "metadata": {
    "collapsed": false,
    "deletable": true,
    "editable": true
   },
   "outputs": [
    {
     "data": {
      "text/plain": [
       "x^15 + x^11 + 12*x^10 + 2*x^9 + 2*x^8 + 14*x^6 + 4*x^5 + 19*x^4 + x^3 + 11*x^2 + 10*x + 6"
      ]
     },
     "execution_count": 159,
     "metadata": {},
     "output_type": "execute_result"
    }
   ],
   "source": [
    "h1.list()[0].minpoly()"
   ]
  },
  {
   "cell_type": "code",
   "execution_count": 140,
   "metadata": {
    "collapsed": false,
    "deletable": true,
    "editable": true
   },
   "outputs": [
    {
     "data": {
      "text/plain": [
       "True"
      ]
     },
     "execution_count": 140,
     "metadata": {},
     "output_type": "execute_result"
    }
   ],
   "source": []
  },
  {
   "cell_type": "code",
   "execution_count": 129,
   "metadata": {
    "collapsed": true,
    "deletable": true,
    "editable": true
   },
   "outputs": [],
   "source": [
    "elem = change_basis(i2, i2.parent().gen()^3, m)"
   ]
  },
  {
   "cell_type": "code",
   "execution_count": 131,
   "metadata": {
    "collapsed": false,
    "deletable": true,
    "editable": true
   },
   "outputs": [
    {
     "data": {
      "text/plain": [
       "x^45 + x^37 + x^33 + x^30 + x^22 + x^17 + x^16 + x^15 + x^13 + x^10 + x^9 + x^8 + x^7 + x^6 + x^5 + x^4 + x^3 + x + 1"
      ]
     },
     "execution_count": 131,
     "metadata": {},
     "output_type": "execute_result"
    }
   ],
   "source": [
    "elem.minpoly()"
   ]
  },
  {
   "cell_type": "code",
   "execution_count": 133,
   "metadata": {
    "collapsed": false,
    "deletable": true,
    "editable": true
   },
   "outputs": [
    {
     "data": {
      "text/plain": [
       "x^45 + x^37 + x^30 + x^9 + x^6 + x^5 + x^3 + x^2 + 1"
      ]
     },
     "execution_count": 133,
     "metadata": {},
     "output_type": "execute_result"
    }
   ],
   "source": [
    "h1.list()[0].minpoly()"
   ]
  },
  {
   "cell_type": "code",
   "execution_count": 134,
   "metadata": {
    "collapsed": false,
    "deletable": true,
    "editable": true
   },
   "outputs": [
    {
     "data": {
      "text/plain": [
       "z^3"
      ]
     },
     "execution_count": 134,
     "metadata": {},
     "output_type": "execute_result"
    }
   ],
   "source": [
    "rnorm(h2.parent().gen(), m)"
   ]
  },
  {
   "cell_type": "code",
   "execution_count": 209,
   "metadata": {
    "collapsed": false,
    "deletable": true,
    "editable": true
   },
   "outputs": [],
   "source": [
    "#k = GF(p)\n",
    "#k1, A1 = ext_scalars(k, m)\n",
    "#M1 = A1.modulus()\n",
    "#R = k['z']\n",
    "#k2 = k.extension(n)\n",
    "R2 = k2['z']\n",
    "x = R.gen()\n",
    "l = n // m\n",
    "M2 = gcd(A1.modulus().change_ring(k).substitute(x^l), R(cyclotomic_polynomial(n))).factor()[0][0]\n",
    "A2 = R2.quo(M2, 'z')"
   ]
  },
  {
   "cell_type": "code",
   "execution_count": 210,
   "metadata": {
    "collapsed": false,
    "deletable": true,
    "editable": true
   },
   "outputs": [
    {
     "data": {
      "text/plain": [
       "z^5"
      ]
     },
     "execution_count": 210,
     "metadata": {},
     "output_type": "execute_result"
    }
   ],
   "source": [
    "rnorm(A2.gen(), m)"
   ]
  },
  {
   "cell_type": "code",
   "execution_count": 211,
   "metadata": {
    "collapsed": false,
    "deletable": true,
    "editable": true
   },
   "outputs": [
    {
     "data": {
      "text/plain": [
       "Finite Field in z225 of size 7^225"
      ]
     },
     "execution_count": 211,
     "metadata": {},
     "output_type": "execute_result"
    }
   ],
   "source": [
    "k2"
   ]
  },
  {
   "cell_type": "code",
   "execution_count": 212,
   "metadata": {
    "collapsed": false,
    "deletable": true,
    "editable": true
   },
   "outputs": [
    {
     "data": {
      "text/plain": [
       "Finite Field in z225 of size 7^225"
      ]
     },
     "execution_count": 212,
     "metadata": {},
     "output_type": "execute_result"
    }
   ],
   "source": [
    "k2"
   ]
  },
  {
   "cell_type": "code",
   "execution_count": 214,
   "metadata": {
    "collapsed": false,
    "deletable": true,
    "editable": true
   },
   "outputs": [
    {
     "data": {
      "text/plain": [
       "True"
      ]
     },
     "execution_count": 214,
     "metadata": {},
     "output_type": "execute_result"
    }
   ],
   "source": []
  },
  {
   "cell_type": "code",
   "execution_count": null,
   "metadata": {
    "collapsed": true,
    "deletable": true,
    "editable": true
   },
   "outputs": [],
   "source": []
  }
 ],
 "metadata": {
  "kernelspec": {
   "display_name": "SageMath 8.1",
   "language": "",
   "name": "sagemath"
  },
  "language_info": {
   "codemirror_mode": {
    "name": "ipython",
    "version": 2
   },
   "file_extension": ".py",
   "mimetype": "text/x-python",
   "name": "python",
   "nbconvert_exporter": "python",
   "pygments_lexer": "ipython2",
   "version": "2.7.14"
  }
 },
 "nbformat": 4,
 "nbformat_minor": 2
}
