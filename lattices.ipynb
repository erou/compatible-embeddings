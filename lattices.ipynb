{
 "cells": [
  {
   "cell_type": "code",
   "execution_count": 1,
   "metadata": {
    "collapsed": true,
    "deletable": true,
    "editable": true
   },
   "outputs": [],
   "source": [
    "def ext_scalars(k, n):\n",
    "    q = k.order()\n",
    "    assert gcd(n, q) == 1, \"Only multiplicative H90, please!\"\n",
    "    \n",
    "    phi = cyclotomic_polynomial(n, 'z').change_ring(k)\n",
    "    \n",
    "    K = k.extension(n, 'x')\n",
    "    A = K['z']\n",
    "    h = A(phi.factor()[0][0])\n",
    "    \n",
    "    return K, A.quo(h, 'z')"
   ]
  },
  {
   "cell_type": "code",
   "execution_count": 2,
   "metadata": {
    "collapsed": true,
    "deletable": true,
    "editable": true
   },
   "outputs": [],
   "source": [
    "def frob_l(a, i=1):\n",
    "    A = a.parent()\n",
    "    q = a.base_ring().base_ring().order()\n",
    "    return A(list(c^(q^i) for c in a))"
   ]
  },
  {
   "cell_type": "code",
   "execution_count": 3,
   "metadata": {
    "collapsed": true,
    "deletable": true,
    "editable": true
   },
   "outputs": [],
   "source": [
    "def frob_r(a, i=1):\n",
    "    A = a.parent()\n",
    "    z = A.gen()\n",
    "    q = a.base_ring().base_ring().order()\n",
    "    return sum(c*z^(j*q^i) for j, c in enumerate(a))"
   ]
  },
  {
   "cell_type": "code",
   "execution_count": 4,
   "metadata": {
    "collapsed": true,
    "deletable": true,
    "editable": true
   },
   "outputs": [],
   "source": [
    "def is_h90(a, zeta):\n",
    "    return frob_l(a) == zeta * a"
   ]
  },
  {
   "cell_type": "code",
   "execution_count": 5,
   "metadata": {
    "collapsed": true,
    "deletable": true,
    "editable": true
   },
   "outputs": [],
   "source": [
    "def solve_h90(A, z = None):\n",
    "    x = A(1)\n",
    "    n = A.base_ring().degree()\n",
    "    if z == None:\n",
    "        z = A.gen()\n",
    "    while not is_h90(x, z):\n",
    "        x = A.random_element()\n",
    "        x = sum(frob_l(x, i)*z^-i for i in range(n))\n",
    "    return x"
   ]
  },
  {
   "cell_type": "code",
   "execution_count": 6,
   "metadata": {
    "collapsed": false,
    "deletable": true,
    "editable": true
   },
   "outputs": [],
   "source": [
    "def cyclo_deg(k, n):\n",
    "    return Zmod(n)(k.characteristic()).multiplicative_order()\n",
    "\n",
    "def rnorm(a, m, n = 0):\n",
    "    A = a.parent()\n",
    "    if n == 0:\n",
    "        n = A.base_ring().degree()\n",
    "    q = A.base_ring().base_ring().order()\n",
    "    s = cyclo_deg(GF(q), m)\n",
    "    d = n // m\n",
    "    \n",
    "    return product(frob_r(a, s*j) for j in range(d))\n",
    "\n",
    "def toto(k, m, n):\n",
    "    q = k.order()\n",
    "    r = cyclo_deg(k, m)\n",
    "    s = cyclo_deg(k, n)\n",
    "    t = (q^s-1)//(q^r-1)\n",
    "    return t, gcd(t, n), n//m\n",
    "\n",
    "def change_basis(elem, basis, d2):\n",
    "    \n",
    "    k = elem.base_ring()\n",
    "    d1 = elem.parent().degree()\n",
    "    A = MatrixSpace(k, d1, d2)()\n",
    "    \n",
    "    for i in range(d2):\n",
    "        L = (basis^i).list()\n",
    "        for j in range(d1):\n",
    "            A[j,i] = L[j]\n",
    "            \n",
    "    S2 = MatrixSpace(k, d1, 1)\n",
    "    B = S2(elem.list())\n",
    "    X = A.solve_right(B)\n",
    "    \n",
    "    return X[0,0]\n",
    "\n",
    "def testl(p, l, n):\n",
    "    k = GF(p)\n",
    "    k1, A1 = ext_scalars(k, l^n)\n",
    "    M1 = A1.modulus()\n",
    "    R = k['z']\n",
    "    k2 = k.extension(l^(n+1))\n",
    "    R2 = k2['z']\n",
    "    x = R.gen()\n",
    "    M2 = gcd(A1.modulus().change_ring(k).substitute(x^l), R(cyclotomic_polynomial(l^(n+1)))).factor()[0][0]\n",
    "    A2 = R2.quo(M2, 'z')\n",
    "    h1 = solve_h90(A1)\n",
    "    h2 = solve_h90(A2)\n",
    "    i2 = rnorm(h2, l^n)\n",
    "    aa = h1^(l^n)\n",
    "    bb = i2^(l^n)\n",
    "    C = k.extension(M2, 'x')\n",
    "    \n",
    "    a = R([x for x in aa.list()]).subs(C.gen()^l)\n",
    "    b = C([k(x) for x in bb.list()])\n",
    "    \n",
    "    t = a/b\n",
    "    c = t.nth_root(l^(n+1))\n",
    "    return h1, A2(c.polynomial().list())*h2\n",
    "\n",
    "def is_iso(h1, h2):\n",
    "    m = h1.base_ring().degree()\n",
    "    n = h2.base_ring().degree()\n",
    "    l = n // m\n",
    "    i2 = rnorm(h2, m)\n",
    "    j2 = change_basis(i2, h2.parent().gen()^l, h1.parent().degree())\n",
    "    return h1.list()[0].minpoly() == j2.minpoly()  \n",
    "    \n",
    "def frob_rc(a, n, m, i=1):\n",
    "    A = a.parent()\n",
    "    z = A.gen()\n",
    "    l = n // m\n",
    "    u, v = xgcd(l, m)[1:]\n",
    "    q = a.base_ring().base_ring().order()\n",
    "    return sum(c*z^(u*l*j)*z^(v*m*j*q^i) for j, c in enumerate(a))\n",
    "\n",
    "def rnormc(a, m):\n",
    "    A = a.parent()\n",
    "    n = a.base_ring().degree()\n",
    "    q = A.base_ring().base_ring().order()\n",
    "    l = n // m\n",
    "    d = cyclo_deg(GF(q), l)\n",
    "    print d, l\n",
    "    return product(frob_rc(a, n, m, j) for j in range(d))\n",
    "\n",
    "\"\"\"\n",
    "Here we find an element h2 solution of H90 in F_p^n compatible with h1.\n",
    "\"\"\"\n",
    "def findh90(h1, n):\n",
    "    k = h1.base_ring().base_ring()\n",
    "    k1, A1 = h1.base_ring(), h1.parent()\n",
    "    M1 = A1.modulus()\n",
    "    R = k['z']\n",
    "    m = k1.degree()\n",
    "    l = n // m\n",
    "    k2 = k.extension(n)\n",
    "    R2 = k2['z']\n",
    "    x = R.gen()\n",
    "    M2 = gcd(M1.change_ring(k).substitute(x^l), R(cyclotomic_polynomial(n))).factor()[0][0]\n",
    "    A2 = R2.quo(M2, 'z')\n",
    "    h2 = solve_h90(A2)\n",
    "    i2 = rnorm(h2, m)\n",
    "    aa = h1^(m)\n",
    "    bb = i2^(m)\n",
    "    C = k.extension(M2, 'x')\n",
    "    \n",
    "    a = R([x for x in aa.list()]).subs(C.gen()^l)\n",
    "    b = C([k(x) for x in bb.list()])\n",
    "    \n",
    "    t = a/b\n",
    "    c = t.nth_root(n)\n",
    "    return A2(c.polynomial().list())*h2\n",
    "\n",
    "\"\"\"\n",
    "Return two elements h1, h2 that are respectively solutions of H90 in \n",
    "A_m = F_p^m ⊗ F_p(ζ_m) for the root 1 ⊗ ζ_m and in A_n for 1 ⊗ ζ_n, such that\n",
    "N(h2) = h1.\n",
    "\"\"\"\n",
    "def testc(p, m, n):\n",
    "    k = GF(p)\n",
    "    k1, A1 = ext_scalars(k, m)\n",
    "    M1 = A1.modulus()\n",
    "    R = k['z']\n",
    "    k2 = k.extension(n)\n",
    "    R2 = k2['z']\n",
    "    x = R.gen()\n",
    "    l = n // m\n",
    "    M2 = gcd(A1.modulus().change_ring(k).substitute(x^l), R(cyclotomic_polynomial(n))).factor()[0][0]\n",
    "    A2 = R2.quo(M2, 'z')\n",
    "    h1 = solve_h90(A1)\n",
    "    h2 = solve_h90(A2)\n",
    "    i2 = rnorm(h2, m)\n",
    "    aa = h1^m\n",
    "    bb = i2^m\n",
    "    C = k.extension(M2, 'x')\n",
    "    \n",
    "    a = R([x for x in aa.list()]).subs(C.gen()^l)\n",
    "    b = C([k(x) for x in bb.list()])\n",
    "    \n",
    "    t = a/b\n",
    "    c = t.nth_root(n)\n",
    "    return h1, A2(c.polynomial().list())*h2"
   ]
  },
  {
   "cell_type": "code",
   "execution_count": 20,
   "metadata": {
    "collapsed": false,
    "deletable": true,
    "editable": true
   },
   "outputs": [
    {
     "data": {
      "text/plain": [
       "(True, True, True)"
      ]
     },
     "execution_count": 20,
     "metadata": {},
     "output_type": "execute_result"
    }
   ],
   "source": [
    "K, A = ext_scalars(GF(7), 9)  # 1 = r₁ < r₂ = 2\n",
    "a = A.random_element()\n",
    "h = solve_h90(A)\n",
    "u = h*frob_r(h)*frob_r(h, 2)\n",
    "v = rnorm(h, 3)\n",
    "is_h90(u, A.gen()^3), frob_l(u, 3) == u, u == v"
   ]
  },
  {
   "cell_type": "code",
   "execution_count": 17,
   "metadata": {
    "collapsed": false,
    "deletable": true,
    "editable": true
   },
   "outputs": [
    {
     "data": {
      "text/plain": [
       "(True, True, True)"
      ]
     },
     "execution_count": 17,
     "metadata": {},
     "output_type": "execute_result"
    }
   ],
   "source": [
    "K, A = ext_scalars(GF(19), 9)  # 1 = r₁ = r₂\n",
    "a = A.random_element()\n",
    "h = solve_h90(A)\n",
    "u = h*frob_r(h)*frob_r(h, 2)\n",
    "v = rnorm(h, 3)\n",
    "is_h90(u, A.gen()^3), frob_l(u, 3) == u, u == v"
   ]
  },
  {
   "cell_type": "code",
   "execution_count": 41,
   "metadata": {
    "collapsed": false,
    "deletable": true,
    "editable": true
   },
   "outputs": [
    {
     "name": "stdout",
     "output_type": "stream",
     "text": [
      "15 3 4 1 4\n"
     ]
    },
    {
     "data": {
      "text/plain": [
       "(True, True, True)"
      ]
     },
     "execution_count": 41,
     "metadata": {},
     "output_type": "execute_result"
    }
   ],
   "source": [
    "K, A = ext_scalars(GF(7), 15)\n",
    "a = A.random_element()\n",
    "h = solve_h90(A)\n",
    "u = h*frob_r(h, 1)*frob_r(h, 2)*frob_r(h, 3)\n",
    "v = rnorm(h, 3)\n",
    "is_h90(u, A.gen()^10), frob_r(u, 3) == u, u == v"
   ]
  },
  {
   "cell_type": "code",
   "execution_count": 46,
   "metadata": {
    "collapsed": false,
    "deletable": true,
    "editable": true
   },
   "outputs": [
    {
     "name": "stdout",
     "output_type": "stream",
     "text": [
      "15 5 4 4 1\n"
     ]
    },
    {
     "data": {
      "text/plain": [
       "(True, True, False, True, False, True)"
      ]
     },
     "execution_count": 46,
     "metadata": {},
     "output_type": "execute_result"
    }
   ],
   "source": [
    "K, A = ext_scalars(GF(7), 15)\n",
    "a = A.random_element()\n",
    "h = solve_h90(A)\n",
    "u = h*frob_r(h, 4)*frob_r(h, 8)\n",
    "v = rnorm(h, 5)\n",
    "is_h90(u, A.gen()^3), frob_r(u, 4) == u, is_h90(v, A.gen()^3), frob_r(v, 4) == v, u == v, u == h^3"
   ]
  },
  {
   "cell_type": "code",
   "execution_count": 100,
   "metadata": {
    "collapsed": false,
    "deletable": true,
    "editable": true
   },
   "outputs": [
    {
     "data": {
      "text/plain": [
       "(False, False)"
      ]
     },
     "execution_count": 100,
     "metadata": {},
     "output_type": "execute_result"
    }
   ],
   "source": [
    "K, A = ext_scalars(GF(19), 15)\n",
    "a = A.random_element()\n",
    "h = solve_h90(A)\n",
    "u = h*frob_r(h, 1)\n",
    "is_h90(u, A.gen()^5), frob_l(u, 3) == u"
   ]
  },
  {
   "cell_type": "markdown",
   "metadata": {
    "deletable": true,
    "editable": true
   },
   "source": [
    "# An $\\ell$-adic tower"
   ]
  },
  {
   "cell_type": "code",
   "execution_count": 27,
   "metadata": {
    "collapsed": false,
    "deletable": true,
    "editable": true
   },
   "outputs": [
    {
     "data": {
      "text/plain": [
       "2"
      ]
     },
     "execution_count": 27,
     "metadata": {},
     "output_type": "execute_result"
    }
   ],
   "source": [
    "p, l, n = 17, 3, 2\n",
    "cyclo_deg(GF(p), l^n)"
   ]
  },
  {
   "cell_type": "code",
   "execution_count": 28,
   "metadata": {
    "collapsed": false,
    "deletable": true,
    "editable": true
   },
   "outputs": [
    {
     "name": "stdout",
     "output_type": "stream",
     "text": [
      "True\n",
      "True\n",
      "True\n",
      "True\n",
      "True\n",
      "True\n",
      "True\n",
      "True\n",
      "True\n",
      "True\n"
     ]
    }
   ],
   "source": [
    "for i in range(10):\n",
    "    h1, h2 = testl(p, l, n)\n",
    "    print is_iso(h1, h2)"
   ]
  },
  {
   "cell_type": "code",
   "execution_count": 16,
   "metadata": {
    "collapsed": false,
    "deletable": true,
    "editable": true
   },
   "outputs": [
    {
     "data": {
      "text/plain": [
       "False"
      ]
     },
     "execution_count": 16,
     "metadata": {},
     "output_type": "execute_result"
    }
   ],
   "source": [
    "h2 == h2b"
   ]
  },
  {
   "cell_type": "code",
   "execution_count": 17,
   "metadata": {
    "collapsed": false,
    "deletable": true,
    "editable": true
   },
   "outputs": [
    {
     "data": {
      "text/plain": [
       "True"
      ]
     },
     "execution_count": 17,
     "metadata": {},
     "output_type": "execute_result"
    }
   ],
   "source": [
    "is_iso(h1, h2b)"
   ]
  },
  {
   "cell_type": "code",
   "execution_count": 18,
   "metadata": {
    "collapsed": true,
    "deletable": true,
    "editable": true
   },
   "outputs": [],
   "source": [
    "h3 = findh90(h2b, 3^3)"
   ]
  },
  {
   "cell_type": "code",
   "execution_count": 19,
   "metadata": {
    "collapsed": false,
    "deletable": true,
    "editable": true
   },
   "outputs": [
    {
     "data": {
      "text/plain": [
       "True"
      ]
     },
     "execution_count": 19,
     "metadata": {},
     "output_type": "execute_result"
    }
   ],
   "source": [
    "is_iso(h1, h3)"
   ]
  },
  {
   "cell_type": "markdown",
   "metadata": {
    "collapsed": true,
    "deletable": true,
    "editable": true
   },
   "source": [
    "# Composita"
   ]
  },
  {
   "cell_type": "code",
   "execution_count": 113,
   "metadata": {
    "collapsed": false,
    "deletable": true,
    "editable": true
   },
   "outputs": [
    {
     "data": {
      "text/plain": [
       "12"
      ]
     },
     "execution_count": 113,
     "metadata": {},
     "output_type": "execute_result"
    }
   ],
   "source": [
    "p = 2\n",
    "k = GF(p)\n",
    "cyclo_deg(k, 3^2*5)"
   ]
  },
  {
   "cell_type": "code",
   "execution_count": 114,
   "metadata": {
    "collapsed": false,
    "deletable": true,
    "editable": true
   },
   "outputs": [
    {
     "name": "stdout",
     "output_type": "stream",
     "text": [
      "True\n",
      "True\n",
      "True\n",
      "True\n",
      "True\n",
      "True\n",
      "True\n",
      "True\n",
      "True\n",
      "True\n"
     ]
    }
   ],
   "source": [
    "m = 3^1 * 5\n",
    "n = 3^2 * 5\n",
    "l = n // m\n",
    "for i in range(10):\n",
    "    h1, h2 = testc(p, m, n)\n",
    "    print is_iso(h1, h2)"
   ]
  },
  {
   "cell_type": "code",
   "execution_count": 115,
   "metadata": {
    "collapsed": false,
    "deletable": true,
    "editable": true
   },
   "outputs": [
    {
     "data": {
      "text/plain": [
       "(x^14 + x^10 + x^7 + x^4 + x^3 + x^2 + x)*z^3 + (x^14 + x^13 + x^10 + x^9 + x^7 + x^5 + x^4 + x^3 + x^2 + 1)*z^2 + (x^14 + x^11 + x^9 + x^8 + x^6 + x^3 + x^2 + x + 1)*z + x^14 + x^13 + x^11 + x^10 + x^9 + x^7 + x^6"
      ]
     },
     "execution_count": 115,
     "metadata": {},
     "output_type": "execute_result"
    }
   ],
   "source": [
    "h1"
   ]
  },
  {
   "cell_type": "code",
   "execution_count": 116,
   "metadata": {
    "collapsed": false,
    "deletable": true,
    "editable": true
   },
   "outputs": [
    {
     "data": {
      "text/plain": [
       "(z45^43 + z45^42 + z45^40 + z45^39 + z45^37 + z45^34 + z45^32 + z45^31 + z45^29 + z45^27 + z45^26 + z45^25 + z45^24 + z45^22 + z45^18 + z45^15 + z45^14 + z45^12 + z45^11 + 1)*z^11 + (z45^44 + z45^41 + z45^39 + z45^38 + z45^36 + z45^35 + z45^33 + z45^32 + z45^30 + z45^28 + z45^25 + z45^22 + z45^20 + z45^17 + z45^14 + z45^12 + z45^7 + z45^6 + z45^2 + 1)*z^10 + (z45^44 + z45^43 + z45^42 + z45^38 + z45^37 + z45^36 + z45^29 + z45^27 + z45^26 + z45^24 + z45^23 + z45^20 + z45^17 + z45^15 + z45^13 + z45^12 + z45^10 + z45^9 + z45^8 + z45^6 + z45^4 + z45^3 + z45)*z^9 + (z45^43 + z45^41 + z45^37 + z45^36 + z45^35 + z45^32 + z45^31 + z45^30 + z45^28 + z45^27 + z45^26 + z45^25 + z45^24 + z45^21 + z45^17 + z45^15 + z45^14 + z45^12 + z45^11 + z45^9 + z45^8 + z45^7 + z45^6 + z45^5 + z45^2 + z45)*z^8 + (z45^42 + z45^41 + z45^39 + z45^38 + z45^37 + z45^36 + z45^34 + z45^32 + z45^28 + z45^27 + z45^26 + z45^24 + z45^21 + z45^19 + z45^18 + z45^16 + z45^15 + z45^14 + z45^13 + z45^12 + z45^8 + z45^5 + z45^4 + z45^2 + z45 + 1)*z^7 + (z45^44 + z45^42 + z45^38 + z45^37 + z45^34 + z45^33 + z45^31 + z45^29 + z45^26 + z45^24 + z45^19 + z45^16 + z45^12 + z45^11 + z45^10 + z45^9 + z45^8 + z45^4 + z45^2)*z^6 + (z45^44 + z45^42 + z45^39 + z45^37 + z45^36 + z45^35 + z45^34 + z45^30 + z45^29 + z45^27 + z45^25 + z45^24 + z45^23 + z45^19 + z45^17 + z45^16 + z45^15 + z45^13 + z45^12 + z45^10 + z45^7 + z45^5 + z45^4)*z^5 + (z45^44 + z45^43 + z45^40 + z45^36 + z45^35 + z45^34 + z45^33 + z45^32 + z45^31 + z45^30 + z45^27 + z45^25 + z45^24 + z45^23 + z45^22 + z45^21 + z45^19 + z45^18 + z45^14 + z45^12 + z45^11 + z45^9 + z45^8 + z45^5 + 1)*z^4 + (z45^42 + z45^39 + z45^38 + z45^37 + z45^36 + z45^34 + z45^33 + z45^31 + z45^28 + z45^27 + z45^25 + z45^20 + z45^19 + z45^17 + z45^13 + z45^9 + z45^6 + z45^3 + z45^2)*z^3 + (z45^44 + z45^42 + z45^41 + z45^36 + z45^35 + z45^34 + z45^33 + z45^32 + z45^29 + z45^27 + z45^26 + z45^25 + z45^20 + z45^18 + z45^17 + z45^15 + z45^14 + z45^12 + z45^11 + z45^10 + z45^5)*z^2 + (z45^44 + z45^43 + z45^40 + z45^37 + z45^32 + z45^30 + z45^26 + z45^24 + z45^22 + z45^21 + z45^19 + z45^17 + z45^13 + z45^11 + z45^9 + z45^3 + z45^2)*z + z45^42 + z45^41 + z45^40 + z45^39 + z45^35 + z45^33 + z45^31 + z45^28 + z45^25 + z45^23 + z45^22 + z45^19 + z45^17 + z45^15 + z45^13 + z45^12 + z45^8 + z45^7 + z45^6 + z45^5 + z45^3"
      ]
     },
     "execution_count": 116,
     "metadata": {},
     "output_type": "execute_result"
    }
   ],
   "source": [
    "h2"
   ]
  },
  {
   "cell_type": "code",
   "execution_count": 7,
   "metadata": {
    "collapsed": false,
    "deletable": true,
    "editable": true
   },
   "outputs": [
    {
     "ename": "NameError",
     "evalue": "name 'h2' is not defined",
     "output_type": "error",
     "traceback": [
      "\u001b[1;31m---------------------------------------------------------------------------\u001b[0m",
      "\u001b[1;31mNameError\u001b[0m                                 Traceback (most recent call last)",
      "\u001b[1;32m<ipython-input-7-ac7e6ecf6942>\u001b[0m in \u001b[0;36m<module>\u001b[1;34m()\u001b[0m\n\u001b[1;32m----> 1\u001b[1;33m \u001b[1;32mfor\u001b[0m \u001b[0mx\u001b[0m \u001b[1;32min\u001b[0m \u001b[0mrnorm\u001b[0m\u001b[1;33m(\u001b[0m\u001b[0mh2\u001b[0m\u001b[1;33m,\u001b[0m \u001b[0mm\u001b[0m\u001b[1;33m)\u001b[0m\u001b[1;33m.\u001b[0m\u001b[0mminpoly\u001b[0m\u001b[1;33m(\u001b[0m\u001b[1;33m)\u001b[0m\u001b[1;33m.\u001b[0m\u001b[0mlist\u001b[0m\u001b[1;33m(\u001b[0m\u001b[1;33m)\u001b[0m\u001b[1;33m:\u001b[0m\u001b[1;33m\u001b[0m\u001b[0m\n\u001b[0m\u001b[0;32m      2\u001b[0m     \u001b[1;32mprint\u001b[0m \u001b[0mx\u001b[0m\u001b[1;33m.\u001b[0m\u001b[0mminpoly\u001b[0m\u001b[1;33m(\u001b[0m\u001b[1;33m)\u001b[0m\u001b[1;33m\u001b[0m\u001b[0m\n",
      "\u001b[1;31mNameError\u001b[0m: name 'h2' is not defined"
     ]
    }
   ],
   "source": [
    "for x in rnorm(h2, m).minpoly().list():\n",
    "    print x.minpoly()"
   ]
  },
  {
   "cell_type": "markdown",
   "metadata": {
    "deletable": true,
    "editable": true
   },
   "source": [
    "# A compatibility test using norms\n",
    "\n",
    "We test if the usage of norms (in the case where it should work) is indeed compatible."
   ]
  },
  {
   "cell_type": "code",
   "execution_count": 7,
   "metadata": {
    "collapsed": true,
    "deletable": true,
    "editable": true
   },
   "outputs": [],
   "source": [
    "def basis_matrix(a, n = None):\n",
    "    K = a.parent()\n",
    "    m = K.degree()\n",
    "    \n",
    "    if n == None:\n",
    "        n = m\n",
    "    \n",
    "    k = K.prime_subfield()\n",
    "    S = MatrixSpace(k, m, n)()\n",
    "    for j in range(n):\n",
    "        L = (a^j).polynomial().list()\n",
    "        i = 0\n",
    "        for l in L:\n",
    "            S[i, j] = l\n",
    "            i += 1\n",
    "    return S\n",
    "\n",
    "def fflist(x):\n",
    "    L = x.polynomial().list()\n",
    "    l = len(L)\n",
    "    k = x.parent()\n",
    "    d = k.degree()\n",
    "    if l < d:\n",
    "        L += (d-l)*[k()]\n",
    "        \n",
    "    return L\n",
    "\n",
    "def compute_map(a, b):\n",
    "    \n",
    "    A = basis_matrix(a)\n",
    "    B = basis_matrix(b, a.parent().degree())\n",
    "    C = B*A^(-1)\n",
    "    \n",
    "    K = b.parent()\n",
    "    k = K.prime_subfield()\n",
    "    S = MatrixSpace(k, a.parent().degree(), 1)\n",
    "\n",
    "    return lambda x : K((C*S(fflist(x))).column(0))\n",
    "\n",
    "def compute_emb(h1, h2):\n",
    "    m = h1.base_ring().degree()\n",
    "    n = h2.base_ring().degree()\n",
    "    l = n // m\n",
    "    i2 = rnorm(h2, m)\n",
    "    j2 = change_basis(i2, h2.parent().gen()^l, h1.parent().degree())\n",
    "    return compute_map(h1.list()[0], j2) "
   ]
  },
  {
   "cell_type": "code",
   "execution_count": 170,
   "metadata": {
    "collapsed": false,
    "deletable": true,
    "editable": true
   },
   "outputs": [
    {
     "data": {
      "text/plain": [
       "True"
      ]
     },
     "execution_count": 170,
     "metadata": {},
     "output_type": "execute_result"
    }
   ],
   "source": [
    "p = 23\n",
    "m, n, o = 15, 45, 135\n",
    "k = GF(p)\n",
    "km, Am = ext_scalars(k, m)\n",
    "hm = solve_h90(Am)\n",
    "hn = findh90(hm, n)\n",
    "ho = findh90(hn, o)\n",
    "\n",
    "f = compute_emb(hm, hn)\n",
    "g = compute_emb(hn, ho)\n",
    "h = compute_emb(hm, ho)\n",
    "\n",
    "g(f(km.gen())) == h(km.gen())"
   ]
  },
  {
   "cell_type": "code",
   "execution_count": 177,
   "metadata": {
    "collapsed": false,
    "deletable": true,
    "editable": true
   },
   "outputs": [
    {
     "name": "stdout",
     "output_type": "stream",
     "text": [
      "x^15 + 18*x^11 + 3*x^10 + 8*x^9 + 16*x^8 + 13*x^6 + 3*x^4 + 17*x^3 + 11*x^2 + 5*x + 5\n",
      "x\n",
      "x\n",
      "x^15 + 22*x^11 + 17*x^10 + 8*x^9 + 20*x^8 + 5*x^7 + 13*x^6 + 9*x^5 + 20*x^4 + 19*x^3 + 8*x^2 + 21*x + 10\n",
      "x\n",
      "x\n",
      "x^15 + 7*x^11 + 5*x^10 + 3*x^9 + 20*x^8 + 7*x^7 + 12*x^6 + 15*x^5 + 20*x^4 + 16*x^3 + 21*x^2 + 5*x + 4\n",
      "x\n",
      "x\n",
      "x^15 + 18*x^11 + 20*x^10 + 8*x^9 + 7*x^8 + 10*x^6 + 20*x^4 + 17*x^3 + 12*x^2 + 5*x + 18\n",
      "x\n",
      "x\n"
     ]
    }
   ],
   "source": [
    "for x in rnorm(hn, m).list():\n",
    "    print(x.minpoly())"
   ]
  },
  {
   "cell_type": "code",
   "execution_count": 182,
   "metadata": {
    "collapsed": false,
    "deletable": true,
    "editable": true,
    "scrolled": true
   },
   "outputs": [
    {
     "name": "stdout",
     "output_type": "stream",
     "text": [
      "x + 1\n",
      "x^15 + 21*x^11 + 2*x^10 + 6*x^9 + 6*x^8 + 19*x^7 + 18*x^6 + 3*x^5 + 13*x^4 + 20*x^3 + 17*x^2 + 4*x + 15\n",
      "x^15 + 22*x^13 + 4*x^12 + 5*x^11 + 3*x^10 + 17*x^9 + 9*x^8 + 20*x^7 + 11*x^6 + 6*x^5 + x^4 + 9*x^3 + 20*x^2 + 9*x + 21\n",
      "x^15 + 21*x^11 + 8*x^10 + 17*x^9 + 2*x^8 + 5*x^7 + 14*x^6 + 8*x^5 + 16*x^4 + 2*x^3 + 6*x^2 + 20*x + 17\n",
      "x + 22\n"
     ]
    }
   ],
   "source": [
    "for x in rnorm(hn, m).minpoly():\n",
    "    print x.minpoly()"
   ]
  },
  {
   "cell_type": "code",
   "execution_count": 183,
   "metadata": {
    "collapsed": false,
    "deletable": true,
    "editable": true,
    "scrolled": true
   },
   "outputs": [
    {
     "name": "stdout",
     "output_type": "stream",
     "text": [
      "x + 1\n",
      "x^15 + 21*x^11 + 2*x^10 + 6*x^9 + 6*x^8 + 19*x^7 + 18*x^6 + 3*x^5 + 13*x^4 + 20*x^3 + 17*x^2 + 4*x + 15\n",
      "x^15 + 22*x^13 + 4*x^12 + 5*x^11 + 3*x^10 + 17*x^9 + 9*x^8 + 20*x^7 + 11*x^6 + 6*x^5 + x^4 + 9*x^3 + 20*x^2 + 9*x + 21\n",
      "x^15 + 21*x^11 + 8*x^10 + 17*x^9 + 2*x^8 + 5*x^7 + 14*x^6 + 8*x^5 + 16*x^4 + 2*x^3 + 6*x^2 + 20*x + 17\n",
      "x + 22\n"
     ]
    }
   ],
   "source": [
    "for x in hm.minpoly():\n",
    "    print x.minpoly()"
   ]
  },
  {
   "cell_type": "markdown",
   "metadata": {
    "deletable": true,
    "editable": true
   },
   "source": [
    "# A compatibility test using CRT"
   ]
  },
  {
   "cell_type": "code",
   "execution_count": 8,
   "metadata": {
    "collapsed": false,
    "deletable": true,
    "editable": true
   },
   "outputs": [],
   "source": [
    "\"\"\"\n",
    "Test function to work around the extension F_{p^l}, F_{p^{lm}}, F_{p^{l²m²}}.\n",
    "\"\"\"\n",
    "def test_comp(p, l, m):\n",
    "    \n",
    "    # We create the prime field, the root ζ_{l²m²}, and the field k(ζ_{l²m²})\n",
    "    \n",
    "    k = GF(p)\n",
    "    R = k['z']\n",
    "    Cyclo = cyclotomic_polynomial(l^2*m^2)\n",
    "    Zl2m2 = Cyclo.change_ring(k).factor()[0][0]\n",
    "    Cl2m2.<z> = k.extension(Zl2m2)\n",
    "    \n",
    "    # We create the other roots using ζ_{l²m²} (we are cheating a bit...)\n",
    "    \n",
    "    zl2 = z^(m^2)\n",
    "    zm2 = z^(l^2)\n",
    "    Zl2 = zl2.minpoly()\n",
    "    Zm2 = zm2.minpoly()\n",
    "    \n",
    "    zl = zl2^l\n",
    "    zm = zm2^m\n",
    "    Zl = zl.minpoly()\n",
    "    Zm = zm.minpoly()\n",
    "    \n",
    "    u1, u2 = xgcd(l, m)[1:3]\n",
    "    zlm = zl^u2 * zm^u1\n",
    "    Zlm = zlm.minpoly()\n",
    "    \n",
    "    # We create the rings and algebras\n",
    "    \n",
    "    kl2m2 = k.extension(l^2*m^2, \"x\")\n",
    "    Rl2m2 = kl2m2[\"T\"]\n",
    "    Al2m2 = Rl2m2.quo(Zl2m2)\n",
    "    \n",
    "    kl2 = k.extension(l^2, \"x\")\n",
    "    Rl2 = kl2[\"T\"]\n",
    "    Al2 = Rl2.quo(Zl2)\n",
    "\n",
    "    km2 = k.extension(m^2, \"x\")\n",
    "    Rm2 = km2[\"T\"]\n",
    "    Am2 = Rm2.quo(Zm2)\n",
    "    \n",
    "    klm = k.extension(l*m, \"x\")\n",
    "    Rlm = klm[\"T\"]\n",
    "    Alm = Rlm.quo(Zlm)\n",
    "    \n",
    "    kl = k.extension(l, \"x\")\n",
    "    Rl = kl[\"T\"]\n",
    "    Al = Rl.quo(Zl)\n",
    "    \n",
    "    km = k.extension(m, \"x\")\n",
    "    Rm = km[\"T\"]\n",
    "    Am = Rm.quo(Zm)\n",
    "    \n",
    "    # We compute the solutions of the Hilbert 90 problems in the first extension of each tower\n",
    "    \n",
    "    hl = solve_h90(Al)\n",
    "    hm = solve_h90(Am)\n",
    "    \n",
    "    # We compute compatible solutions in higher extensions of the two towers\n",
    "    ## l-adic tower\n",
    "    \n",
    "    htmpl2 = solve_h90(Al2)\n",
    "    il2 = rnorm(htmpl2, l)\n",
    "    Cl2 = k.extension(Zl2, 'x')\n",
    "    aal = hl^(l)\n",
    "    bbl = il2^(l)\n",
    "    al = R([x for x in aal.list()]).subs(Cl2.gen()^l)\n",
    "    bl = Cl2([k(x) for x in bbl.list()])\n",
    "    \n",
    "    tl = al/bl\n",
    "    cl = tl.nth_root(l^2)\n",
    "    hl2 = Al2(cl.polynomial().list())*htmpl2\n",
    "    \n",
    "    ## m-adic tower\n",
    "    \n",
    "    htmpm2 = solve_h90(Am2)\n",
    "    im2 = rnorm(htmpm2, m)\n",
    "    Cm2 = k.extension(Zm2, 'x')\n",
    "    aam = hm^(m)\n",
    "    bbm = im2^(m)\n",
    "    am = R([x for x in aam.list()]).subs(Cm2.gen()^m)\n",
    "    bm = Cm2([k(x) for x in bbm.list()])\n",
    "    \n",
    "    tm = am/bm\n",
    "    cm = tm.nth_root(m^2)\n",
    "    hm2 = Am2(cm.polynomial().list())*htmpm2\n",
    "    \n",
    "    # We compute compatible solutions in the composita\n",
    "    ## l × m\n",
    "    \n",
    "    Clm = k.extension(Zlm, 'x')\n",
    "    htmplm = solve_h90(Alm)\n",
    "    alm = Clm([k(x) for x in (htmplm^(l*m)).list()])\n",
    "    blm = Clm([k(x) for x in (hl^l).list()]).polynomial().subs(Clm.gen()^m)\n",
    "    clm = Clm([k(x) for x in (hm^m).list()]).polynomial().subs(Clm.gen()^l)\n",
    "    \n",
    "    tl_lm = (blm*alm^(-1)).nth_root(l)\n",
    "    tm_lm = (clm*alm^(-1)).nth_root(m)\n",
    "    \n",
    "    HL = Alm(tl_lm.polynomial().list())*htmplm^m\n",
    "    HM = Alm(tm_lm.polynomial().list())*htmplm^l\n",
    "    \n",
    "    hlm = (HL^u2)*(HM^u1)\n",
    "    \n",
    "    Tlm_m = lambda x : Alm(((clm/blm)^u2).polynomial().list())*x^l\n",
    "    Tlm_l = lambda x : Alm(((blm/clm)^u1).polynomial().list())*x^m\n",
    "    \n",
    "    ## l² × m²\n",
    "    \n",
    "    v1, v2 = xgcd(l^2, m^2)[1:3]\n",
    "    Cl2m2 = k.extension(Zl2m2, 'x')\n",
    "    \n",
    "    htmpl2m2 = solve_h90(Al2m2) #!# 2/3 of the time here\n",
    "    \n",
    "    al2m2 = Cl2m2([k(x) for x in (htmpl2m2^(l^2*m^2)).list()])\n",
    "    bl2m2 = Cl2m2([k(x) for x in (hl2^(l^2)).list()]).polynomial().subs(Cl2m2.gen()^(m^2))\n",
    "    cl2m2 = Cl2m2([k(x) for x in (hm2^(m^2)).list()]).polynomial().subs(Cl2m2.gen()^(l^2))\n",
    "    \n",
    "    tl2_l2m2 = (bl2m2*al2m2^(-1)).nth_root(l^2) \n",
    "    tm2_l2m2 = (cl2m2*al2m2^(-1)).nth_root(m^2)\n",
    "    \n",
    "    HL2 = Al2m2(tl2_l2m2.polynomial().list())*htmpl2m2^(m^2)\n",
    "    HM2 = Al2m2(tm2_l2m2.polynomial().list())*htmpl2m2^(l^2)\n",
    "    \n",
    "    hl2m2 = (HL2^v2)*(HM2^v1)\n",
    "    \n",
    "    BLM = Cl2m2([k(x) for x in (hl^l).list()]).polynomial().subs(Cl2m2.gen()^(l*m^2))\n",
    "    CLM = Cl2m2([k(x) for x in (hm^m).list()]).polynomial().subs(Cl2m2.gen()^(m*l^2))\n",
    "    \n",
    "    TLM_M = lambda x : Al2m2(((CLM/BLM)^u2).polynomial().list())*x^l\n",
    "    TLM_L = lambda x : Al2m2(((BLM/CLM)^u1).polynomial().list())*x^m\n",
    "    \n",
    "    Tl2m2_m2 = lambda x : Al2m2(((cl2m2/bl2m2)^v2).polynomial().list())*x^(l^2)\n",
    "    Tl2m2_l2 = lambda x : Al2m2(((bl2m2/cl2m2)^v1).polynomial().list())*x^(m^2)\n",
    "    \n",
    "\n",
    "    E1 = rnorm(Tl2m2_l2(hl2m2), l, l^2) # ~ hl #!# (a)\n",
    "    E2 = rnorm(Tl2m2_m2(hl2m2), m, m^2) # ~ hm #!# (a) + here: 1/3 of the time\n",
    "    \n",
    "    E3 = (E1^u2)*(E2^u1) # ~ hlm\n",
    "    E4 = TLM_L(E3) # ~ hl\n",
    "    \n",
    "    return hl2m2, E3\n",
    "    \n",
    "    # WE HAVE E1 == E4 meaning that T_{l²m²/l} = T_{lm/l} ∘ T_{l²m²/lm}\n",
    "\n",
    "    h = compute_map(hl.list()[0], change_basis(E1, E1.parent().gen()^(l*m^2), hl.parent().degree()))\n",
    "    f = compute_map(hl.list()[0], change_basis(Tlm_l(hlm), parent(hlm).gen()^(m), hl.parent().degree()))\n",
    "    g = compute_map(hlm.list()[0], change_basis(E3, E3.parent().gen()^(l*m), hlm.parent().degree()))\n",
    "    \n",
    "    return g(f(kl.gen())) == h(kl.gen())"
   ]
  },
  {
   "cell_type": "code",
   "execution_count": 13,
   "metadata": {
    "collapsed": true,
    "deletable": true,
    "editable": true
   },
   "outputs": [],
   "source": [
    "p = 2\n",
    "k = GF(p)\n",
    "l, m = 3, 5"
   ]
  },
  {
   "cell_type": "code",
   "execution_count": 15,
   "metadata": {
    "collapsed": false,
    "deletable": true,
    "editable": true
   },
   "outputs": [
    {
     "data": {
      "text/plain": [
       "4"
      ]
     },
     "execution_count": 15,
     "metadata": {},
     "output_type": "execute_result"
    }
   ],
   "source": [
    "cyclo_deg(GF(p), l*m)"
   ]
  },
  {
   "cell_type": "code",
   "execution_count": 43,
   "metadata": {
    "collapsed": false,
    "deletable": true,
    "editable": true
   },
   "outputs": [
    {
     "data": {
      "text/plain": [
       "Tbar^30 + 1"
      ]
     },
     "execution_count": 43,
     "metadata": {},
     "output_type": "execute_result"
    }
   ],
   "source": [
    "a, b = test_comp(p, l, m)\n",
    "c = rnorm(a, l*m, l^2*m^2)\n",
    "b/c"
   ]
  },
  {
   "cell_type": "code",
   "execution_count": 44,
   "metadata": {
    "collapsed": false,
    "deletable": true,
    "editable": true
   },
   "outputs": [
    {
     "data": {
      "text/plain": [
       "Tbar^45 + Tbar^15 + 1"
      ]
     },
     "execution_count": 44,
     "metadata": {},
     "output_type": "execute_result"
    }
   ],
   "source": [
    "c/b"
   ]
  },
  {
   "cell_type": "code",
   "execution_count": 25,
   "metadata": {
    "collapsed": true,
    "deletable": true,
    "editable": true
   },
   "outputs": [],
   "source": [
    "c = _"
   ]
  },
  {
   "cell_type": "code",
   "execution_count": 41,
   "metadata": {
    "collapsed": false,
    "deletable": true,
    "editable": true
   },
   "outputs": [
    {
     "data": {
      "text/plain": [
       "Tbar^45"
      ]
     },
     "execution_count": 41,
     "metadata": {},
     "output_type": "execute_result"
    }
   ],
   "source": [
    "b/c"
   ]
  },
  {
   "cell_type": "code",
   "execution_count": 28,
   "metadata": {
    "collapsed": false,
    "deletable": true,
    "editable": true
   },
   "outputs": [],
   "source": [
    "z = parent(a).gen()"
   ]
  },
  {
   "cell_type": "code",
   "execution_count": 32,
   "metadata": {
    "collapsed": false,
    "deletable": true,
    "editable": true
   },
   "outputs": [],
   "source": [
    "zz = rnorm(z, l*m)"
   ]
  },
  {
   "cell_type": "code",
   "execution_count": 37,
   "metadata": {
    "collapsed": false,
    "deletable": true,
    "editable": true
   },
   "outputs": [
    {
     "data": {
      "text/plain": [
       "Tbar^45"
      ]
     },
     "execution_count": 37,
     "metadata": {},
     "output_type": "execute_result"
    }
   ],
   "source": [
    "z^(l^2*m)"
   ]
  },
  {
   "cell_type": "code",
   "execution_count": 34,
   "metadata": {
    "collapsed": false,
    "deletable": true,
    "editable": true
   },
   "outputs": [
    {
     "data": {
      "text/plain": [
       "True"
      ]
     },
     "execution_count": 34,
     "metadata": {},
     "output_type": "execute_result"
    }
   ],
   "source": [
    "zz == rnorm(z, l*m, l^2*m^2)"
   ]
  },
  {
   "cell_type": "markdown",
   "metadata": {
    "collapsed": true,
    "deletable": true,
    "editable": true
   },
   "source": [
    "# Compatibility and traces"
   ]
  },
  {
   "cell_type": "code",
   "execution_count": 1,
   "metadata": {
    "collapsed": true,
    "deletable": true,
    "editable": true
   },
   "outputs": [],
   "source": [
    "p = 5\n",
    "k = GF(p^9)"
   ]
  },
  {
   "cell_type": "code",
   "execution_count": 5,
   "metadata": {
    "collapsed": false,
    "deletable": true,
    "editable": true
   },
   "outputs": [
    {
     "data": {
      "text/plain": [
       "2*z9^8 + z9^6 + z9^5 + 4*z9^4 + 4*z9^3 + 2*z9"
      ]
     },
     "execution_count": 5,
     "metadata": {},
     "output_type": "execute_result"
    }
   ],
   "source": [
    "a = k.random_element(); a"
   ]
  },
  {
   "cell_type": "code",
   "execution_count": 6,
   "metadata": {
    "collapsed": false,
    "deletable": true,
    "editable": true
   },
   "outputs": [
    {
     "data": {
      "text/plain": [
       "2"
      ]
     },
     "execution_count": 6,
     "metadata": {},
     "output_type": "execute_result"
    }
   ],
   "source": [
    "a.trace()"
   ]
  },
  {
   "cell_type": "code",
   "execution_count": 7,
   "metadata": {
    "collapsed": true,
    "deletable": true,
    "editable": true
   },
   "outputs": [],
   "source": [
    "K = k.extension(2)"
   ]
  },
  {
   "cell_type": "code",
   "execution_count": 8,
   "metadata": {
    "collapsed": false,
    "deletable": true,
    "editable": true
   },
   "outputs": [
    {
     "data": {
      "text/plain": [
       "Finite Field in z18 of size 5^18"
      ]
     },
     "execution_count": 8,
     "metadata": {},
     "output_type": "execute_result"
    }
   ],
   "source": [
    "K"
   ]
  },
  {
   "cell_type": "code",
   "execution_count": 9,
   "metadata": {
    "collapsed": true,
    "deletable": true,
    "editable": true
   },
   "outputs": [],
   "source": [
    "b = K.random_element()"
   ]
  },
  {
   "cell_type": "code",
   "execution_count": 11,
   "metadata": {
    "collapsed": false,
    "deletable": true,
    "editable": true
   },
   "outputs": [
    {
     "data": {
      "text/plain": [
       "2"
      ]
     },
     "execution_count": 11,
     "metadata": {},
     "output_type": "execute_result"
    }
   ],
   "source": [
    "b.trace()"
   ]
  },
  {
   "cell_type": "code",
   "execution_count": 12,
   "metadata": {
    "collapsed": true,
    "deletable": true,
    "editable": true
   },
   "outputs": [],
   "source": [
    "a.trace??"
   ]
  },
  {
   "cell_type": "code",
   "execution_count": 35,
   "metadata": {
    "collapsed": true,
    "deletable": true,
    "editable": true
   },
   "outputs": [],
   "source": [
    "def trace_rel(a, m):\n",
    "    k = a.base_ring().base_ring()\n",
    "    p = k.characteristic()\n",
    "    s = cyclo_deg(k, m)\n",
    "    n = a.parent().degree()\n",
    "    return sum(frob_r(a, s*j) for j in range(n/s))"
   ]
  },
  {
   "cell_type": "code",
   "execution_count": 24,
   "metadata": {
    "collapsed": true,
    "deletable": true,
    "editable": true
   },
   "outputs": [],
   "source": [
    "k, A = ext_scalars(GF(p), 9)"
   ]
  },
  {
   "cell_type": "code",
   "execution_count": 26,
   "metadata": {
    "collapsed": false,
    "deletable": true,
    "editable": true
   },
   "outputs": [
    {
     "data": {
      "text/plain": [
       "2"
      ]
     },
     "execution_count": 26,
     "metadata": {},
     "output_type": "execute_result"
    }
   ],
   "source": [
    "trace_rel(A.random_element(), 3)"
   ]
  },
  {
   "cell_type": "code",
   "execution_count": 27,
   "metadata": {
    "collapsed": false,
    "deletable": true,
    "editable": true
   },
   "outputs": [
    {
     "data": {
      "text/plain": [
       "Finite Field of size 5"
      ]
     },
     "execution_count": 27,
     "metadata": {},
     "output_type": "execute_result"
    }
   ],
   "source": [
    "A.random_element().base_ring().base_ring()"
   ]
  },
  {
   "cell_type": "code",
   "execution_count": 28,
   "metadata": {
    "collapsed": false,
    "deletable": true,
    "editable": true
   },
   "outputs": [
    {
     "data": {
      "text/plain": [
       "6"
      ]
     },
     "execution_count": 28,
     "metadata": {},
     "output_type": "execute_result"
    }
   ],
   "source": [
    "A.degree()"
   ]
  },
  {
   "cell_type": "code",
   "execution_count": 33,
   "metadata": {
    "collapsed": false,
    "deletable": true,
    "editable": true
   },
   "outputs": [
    {
     "data": {
      "text/plain": [
       "(3*x^8 + 4*x^6 + x^5 + 4*x^4 + x^2 + x + 1)*z^5 + (4*x^7 + 2*x^6 + 3*x^4 + 4*x^3 + 2)*z^4 + (2*x^8 + 3*x^6 + 4*x^5 + 4*x^4 + 3*x^2 + 4*x + 2)*z^3 + (x^7 + x^6 + 4*x^5 + 2*x^4 + x^3 + 2*x)*z^2 + (x^6 + 2*x^5 + 2*x^4 + 3*x^3 + 4*x^2)*z + 2*x^8 + x^6 + 3*x^4 + 2*x^3 + 3*x^2 + 3*x + 2"
      ]
     },
     "execution_count": 33,
     "metadata": {},
     "output_type": "execute_result"
    }
   ],
   "source": [
    "z = A.random_element(); z"
   ]
  },
  {
   "cell_type": "code",
   "execution_count": 36,
   "metadata": {
    "collapsed": false,
    "deletable": true,
    "editable": true
   },
   "outputs": [
    {
     "data": {
      "text/plain": [
       "(x^8 + 4*x^6 + 2*x^5 + 2*x^4 + 4*x^2 + 2*x + 1)*z^3 + x^8 + 3*x^6 + 4*x^4 + x^3 + 4*x^2 + 4*x + 1"
      ]
     },
     "execution_count": 36,
     "metadata": {},
     "output_type": "execute_result"
    }
   ],
   "source": [
    "trace_rel(z, 3)"
   ]
  },
  {
   "cell_type": "code",
   "execution_count": 9,
   "metadata": {
    "collapsed": true,
    "deletable": true,
    "editable": true
   },
   "outputs": [],
   "source": [
    "def test_trace(p, l, m):\n",
    "\n",
    "    # We create the prime field, the root ζ_{l²m²}, and the field k(ζ_{l²m²})\n",
    "    \n",
    "    k = GF(p)\n",
    "    R = k['z']\n",
    "    Cyclo = cyclotomic_polynomial(l*m)\n",
    "    Zlm = Cyclo.change_ring(k).factor()[0][0]\n",
    "    Clm.<z> = k.extension(Zlm)\n",
    "    \n",
    "    # We create the other roots using ζ_{lm} (we are cheating a bit...)\n",
    "    \n",
    "    zl = z^(m)\n",
    "    zm = z^(l)\n",
    "    Zl = zl.minpoly()\n",
    "    Zm = zm.minpoly()\n",
    "    \n",
    "    # We create the rings and algebras\n",
    "    \n",
    "    klm = k.extension(l*m, \"x\")\n",
    "    Rlm = klm[\"T\"]\n",
    "    Alm = Rlm.quo(Zlm)\n",
    "    \n",
    "    kl = k.extension(l, \"x\")\n",
    "    Rl = kl[\"T\"]\n",
    "    Al = Rl.quo(Zl)\n",
    "    \n",
    "    km = k.extension(m, \"x\")\n",
    "    Rm = km[\"T\"]\n",
    "    Am = Rm.quo(Zm)\n",
    "    \n",
    "    # We compute solutions of Hilbert 90 problem\n",
    "    \n",
    "    hl = solve_h90(Al)\n",
    "    hm = solve_h90(Am)\n",
    "    \n",
    "    glm = solve_h90(Alm)\n",
    "    \n",
    "    # We look at what happens with traces\n",
    "    \n",
    "    gl = trace_rel(glm^m, l)\n",
    "    gm = trace_rel(glm^l, m)\n",
    "    \n",
    "    # We find the constants between hl/hm and gl/gm\n",
    "    \n",
    "    GL = Clm([k(x) for x in (gl^(l)).list()])\n",
    "    HL = Clm([k(x) for x in (hl^l).list()]).polynomial().subs(Clm.gen()^m)\n",
    "    \n",
    "    cl = (HL/GL).nth_root(l)\n",
    "\n",
    "    GM = Clm([k(x) for x in (gm^(m)).list()])\n",
    "    HM = Clm([k(x) for x in (hm^m).list()]).polynomial().subs(Clm.gen()^l)\n",
    "    \n",
    "    cm = (HM/GM).nth_root(m)\n",
    "    \n",
    "    return cl, cm"
   ]
  },
  {
   "cell_type": "code",
   "execution_count": 135,
   "metadata": {
    "collapsed": false,
    "deletable": true,
    "editable": true
   },
   "outputs": [],
   "source": [
    "p, l, m = 17, 3, 5\n",
    "cl, cm = test_trace(p, l, m)"
   ]
  },
  {
   "cell_type": "code",
   "execution_count": 136,
   "metadata": {
    "collapsed": false,
    "deletable": true,
    "editable": true
   },
   "outputs": [
    {
     "data": {
      "text/plain": [
       "(11*z^3 + 16*z^2 + 5*z, 8*z^3 + 5*z^2 + 11*z + 2)"
      ]
     },
     "execution_count": 136,
     "metadata": {},
     "output_type": "execute_result"
    }
   ],
   "source": [
    "cl.nth_root(m), cm.nth_root(l)"
   ]
  },
  {
   "cell_type": "code",
   "execution_count": 117,
   "metadata": {
    "collapsed": false,
    "deletable": true,
    "editable": true
   },
   "outputs": [
    {
     "data": {
      "text/plain": [
       "12"
      ]
     },
     "execution_count": 117,
     "metadata": {},
     "output_type": "execute_result"
    }
   ],
   "source": []
  },
  {
   "cell_type": "code",
   "execution_count": 118,
   "metadata": {
    "collapsed": false,
    "deletable": true,
    "editable": true
   },
   "outputs": [
    {
     "data": {
      "text/plain": [
       "3*z^3 + 3*z^2 + 11*z + 1"
      ]
     },
     "execution_count": 118,
     "metadata": {},
     "output_type": "execute_result"
    }
   ],
   "source": []
  },
  {
   "cell_type": "code",
   "execution_count": 106,
   "metadata": {
    "collapsed": false,
    "deletable": true,
    "editable": true
   },
   "outputs": [
    {
     "data": {
      "text/plain": [
       "(10*z^3 + 5*z^2 + 2*z + 14, 13*z^3 + 5*z^2 + 9*z + 14)"
      ]
     },
     "execution_count": 106,
     "metadata": {},
     "output_type": "execute_result"
    }
   ],
   "source": [
    "cm, cl"
   ]
  },
  {
   "cell_type": "code",
   "execution_count": 51,
   "metadata": {
    "collapsed": false,
    "deletable": true,
    "editable": true
   },
   "outputs": [
    {
     "data": {
      "text/plain": [
       "2*Tbar^3 + 9*Tbar^2 + 3*Tbar + 12"
      ]
     },
     "execution_count": 51,
     "metadata": {},
     "output_type": "execute_result"
    }
   ],
   "source": [
    "gm^m"
   ]
  },
  {
   "cell_type": "code",
   "execution_count": 69,
   "metadata": {
    "collapsed": false,
    "deletable": true,
    "editable": true
   },
   "outputs": [
    {
     "data": {
      "text/plain": [
       "True"
      ]
     },
     "execution_count": 69,
     "metadata": {},
     "output_type": "execute_result"
    }
   ],
   "source": [
    "frob_r(gl, cyclo_deg(GF(p), l)) == gl"
   ]
  },
  {
   "cell_type": "code",
   "execution_count": 63,
   "metadata": {
    "collapsed": false,
    "deletable": true,
    "editable": true
   },
   "outputs": [
    {
     "data": {
      "text/plain": [
       "Univariate Quotient Polynomial Ring in Tbar over Finite Field in x of size 17^15 with modulus T^4 + 5*T^3 + 15*T^2 + 11*T + 1"
      ]
     },
     "execution_count": 63,
     "metadata": {},
     "output_type": "execute_result"
    }
   ],
   "source": [
    "parent(glm)"
   ]
  },
  {
   "cell_type": "code",
   "execution_count": 66,
   "metadata": {
    "collapsed": false,
    "deletable": true,
    "editable": true
   },
   "outputs": [
    {
     "data": {
      "text/plain": [
       "4"
      ]
     },
     "execution_count": 66,
     "metadata": {},
     "output_type": "execute_result"
    }
   ],
   "source": [
    "cyclo_deg(GF(p), m)"
   ]
  },
  {
   "cell_type": "code",
   "execution_count": 96,
   "metadata": {
    "collapsed": true,
    "deletable": true,
    "editable": true
   },
   "outputs": [],
   "source": [
    "k = GF(19)\n",
    "R = k['z']\n",
    "Cyclo = cyclotomic_polynomial(21*9)\n",
    "Zlm = Cyclo.change_ring(k).factor()[0][0]\n",
    "Clm.<z> = k.extension(Zlm)"
   ]
  },
  {
   "cell_type": "code",
   "execution_count": 98,
   "metadata": {
    "collapsed": false,
    "deletable": true,
    "editable": true
   },
   "outputs": [
    {
     "data": {
      "text/plain": [
       "1"
      ]
     },
     "execution_count": 98,
     "metadata": {},
     "output_type": "execute_result"
    }
   ],
   "source": [
    "((z).norm())^9"
   ]
  },
  {
   "cell_type": "code",
   "execution_count": 103,
   "metadata": {
    "collapsed": false,
    "deletable": true,
    "editable": true
   },
   "outputs": [
    {
     "data": {
      "text/plain": [
       "6"
      ]
     },
     "execution_count": 103,
     "metadata": {},
     "output_type": "execute_result"
    }
   ],
   "source": [
    "cyclo_deg(GF(19), 21)"
   ]
  },
  {
   "cell_type": "code",
   "execution_count": 10,
   "metadata": {
    "collapsed": true,
    "deletable": true,
    "editable": true
   },
   "outputs": [],
   "source": [
    "def test_trace2(p, l, n):\n",
    "\n",
    "    k = GF(p)\n",
    "    k1, A1 = ext_scalars(k, l^n)\n",
    "    M1 = A1.modulus()\n",
    "    R = k['z']\n",
    "    k2 = k.extension(l^(n+1))\n",
    "    R2 = k2['z']\n",
    "    x = R.gen()\n",
    "    M2 = gcd(A1.modulus().change_ring(k).substitute(x^l), R(cyclotomic_polynomial(l^(n+1)))).factor()[0][0]\n",
    "    A2 = R2.quo(M2, 'z')\n",
    "    h1 = solve_h90(A1)\n",
    "    h2 = solve_h90(A2)\n",
    "    i2 = trace_rel(h2^l, l^n)\n",
    "    aa = h1^(l^n)\n",
    "    bb = i2^(l^n)\n",
    "    C = k.extension(M2, 'x')\n",
    "    \n",
    "    a = R([x for x in aa.list()]).subs(C.gen()^l)\n",
    "    b = C([k(x) for x in bb.list()])\n",
    "    \n",
    "    t = a/b\n",
    "    c = t.nth_root(l^(n+1))\n",
    "    return h1, A2(c.polynomial().list())*h2"
   ]
  },
  {
   "cell_type": "code",
   "execution_count": 145,
   "metadata": {
    "collapsed": false,
    "deletable": true,
    "editable": true
   },
   "outputs": [],
   "source": [
    "h1, h2 = test_trace2(5, 3, 1)"
   ]
  },
  {
   "cell_type": "code",
   "execution_count": 150,
   "metadata": {
    "collapsed": false,
    "deletable": true,
    "editable": true
   },
   "outputs": [
    {
     "name": "stdout",
     "output_type": "stream",
     "text": [
      "x + 4\n",
      "x^3 + 2*x + 4\n",
      "x + 4\n"
     ]
    }
   ],
   "source": [
    "for x in h1.minpoly():\n",
    "    print x.minpoly()"
   ]
  },
  {
   "cell_type": "code",
   "execution_count": 151,
   "metadata": {
    "collapsed": false,
    "deletable": true,
    "editable": true
   },
   "outputs": [
    {
     "name": "stdout",
     "output_type": "stream",
     "text": [
      "x + 4\n",
      "x^3 + 2*x + 4\n",
      "x + 4\n"
     ]
    }
   ],
   "source": [
    "for x in trace_rel(h2^3, 3).minpoly():\n",
    "    print x.minpoly()"
   ]
  },
  {
   "cell_type": "code",
   "execution_count": 155,
   "metadata": {
    "collapsed": false,
    "deletable": true,
    "editable": true
   },
   "outputs": [
    {
     "data": {
      "text/plain": [
       "True"
      ]
     },
     "execution_count": 155,
     "metadata": {},
     "output_type": "execute_result"
    }
   ],
   "source": [
    "trace_rel(h1, 3) ==  h1"
   ]
  },
  {
   "cell_type": "code",
   "execution_count": 17,
   "metadata": {
    "collapsed": false,
    "deletable": true,
    "editable": true
   },
   "outputs": [
    {
     "data": {
      "text/plain": [
       "4"
      ]
     },
     "execution_count": 17,
     "metadata": {},
     "output_type": "execute_result"
    }
   ],
   "source": [
    "cyclo_deg(GF(5), 13)"
   ]
  },
  {
   "cell_type": "code",
   "execution_count": 13,
   "metadata": {
    "collapsed": false,
    "deletable": true,
    "editable": true
   },
   "outputs": [
    {
     "data": {
      "text/plain": [
       "2^3 * 3^2 * 7 * 31"
      ]
     },
     "execution_count": 13,
     "metadata": {},
     "output_type": "execute_result"
    }
   ],
   "source": [
    "(5^6-1).factor()"
   ]
  },
  {
   "cell_type": "markdown",
   "metadata": {
    "collapsed": true,
    "deletable": true,
    "editable": true
   },
   "source": [
    "# Some tests"
   ]
  },
  {
   "cell_type": "code",
   "execution_count": 7,
   "metadata": {
    "collapsed": false,
    "deletable": true,
    "editable": true
   },
   "outputs": [],
   "source": [
    "p, n = 19, 21\n",
    "K, A = ext_scalars(GF(p), n)  # 1 = r₁ < r₂ = 2\n",
    "h = solve_h90(A)"
   ]
  },
  {
   "cell_type": "code",
   "execution_count": 12,
   "metadata": {
    "collapsed": false,
    "deletable": true,
    "editable": true
   },
   "outputs": [
    {
     "data": {
      "text/plain": [
       "x^6 + 7*x^5 + 11*x^4 + x^3 + 7*x^2 + 11*x + 1"
      ]
     },
     "execution_count": 12,
     "metadata": {},
     "output_type": "execute_result"
    }
   ],
   "source": [
    "((A.gen())).minpoly()"
   ]
  },
  {
   "cell_type": "code",
   "execution_count": 13,
   "metadata": {
    "collapsed": false,
    "deletable": true,
    "editable": true
   },
   "outputs": [
    {
     "data": {
      "text/plain": [
       "2^3 * 3^3 * 5 * 7^3 * 127"
      ]
     },
     "execution_count": 13,
     "metadata": {},
     "output_type": "execute_result"
    }
   ],
   "source": [
    "factor(19^6-1)"
   ]
  },
  {
   "cell_type": "code",
   "execution_count": 49,
   "metadata": {
    "collapsed": false,
    "deletable": true,
    "editable": true
   },
   "outputs": [
    {
     "data": {
      "text/plain": [
       "(11*x^6 + 16*x^5 + 4*x^4 + x^3 + 10*x^2 + 14*x + 5)*z^5 + (5*x^6 + 11*x^5 + 9*x^4 + 2*x^3 + 6*x^2 + 5*x + 4)*z^4 + (18*x^6 + 18*x^5 + 9*x^4 + 5*x^2 + 14*x + 3)*z^3 + (15*x^6 + 11*x^5 + 8*x^4 + 13*x^3 + 4*x + 12)*z^2 + (8*x^6 + 9*x^5 + 16*x^4 + 8*x^3 + 3*x^2 + x + 14)*z + 9*x^6 + 15*x^4 + 12*x^3 + 11"
      ]
     },
     "execution_count": 49,
     "metadata": {},
     "output_type": "execute_result"
    }
   ],
   "source": [
    "h"
   ]
  },
  {
   "cell_type": "code",
   "execution_count": 50,
   "metadata": {
    "collapsed": false,
    "deletable": true,
    "editable": true
   },
   "outputs": [],
   "source": [
    "L = [h^((n^2)*j-n) for j in range(n)]"
   ]
  },
  {
   "cell_type": "code",
   "execution_count": 51,
   "metadata": {
    "collapsed": false,
    "deletable": true,
    "editable": true
   },
   "outputs": [
    {
     "name": "stdout",
     "output_type": "stream",
     "text": [
      "z\n",
      "z\n",
      "z\n",
      "z\n",
      "z\n",
      "z\n",
      "z\n"
     ]
    }
   ],
   "source": [
    "for x in L:\n",
    "    print x^((p^A.degree()-1)/n)"
   ]
  },
  {
   "cell_type": "code",
   "execution_count": 52,
   "metadata": {
    "collapsed": false,
    "deletable": true,
    "editable": true
   },
   "outputs": [
    {
     "data": {
      "text/plain": [
       "[9*z^5 + 6*z^4 + 15*z^3 + 17*z^2 + 16*z + 6,\n",
       " 9*z^5 + 12*z^4 + 7*z^3 + 7*z^2 + 12*z + 10,\n",
       " 12*z^5 + 4*z^4 + 6*z^3 + 16*z^2 + 14*z + 18,\n",
       " 14*z^5 + 9*z^4 + 7*z^3 + 13*z^2 + 18*z + 15,\n",
       " 18*z^4 + 9*z^3 + 13*z^2 + 17*z + 2,\n",
       " 12*z^5 + 3*z^4 + 17*z^3 + z^2 + 6*z + 15,\n",
       " 15*z^5 + 14*z^4 + 9*z^3 + 3*z^2 + z + 10]"
      ]
     },
     "execution_count": 52,
     "metadata": {},
     "output_type": "execute_result"
    }
   ],
   "source": [
    "L"
   ]
  },
  {
   "cell_type": "code",
   "execution_count": 199,
   "metadata": {
    "collapsed": false,
    "deletable": true,
    "editable": true
   },
   "outputs": [
    {
     "data": {
      "text/plain": [
       "590520"
      ]
     },
     "execution_count": 199,
     "metadata": {},
     "output_type": "execute_result"
    }
   ],
   "source": [
    "(p^A.degree()-1)/3"
   ]
  },
  {
   "cell_type": "code",
   "execution_count": 200,
   "metadata": {
    "collapsed": false,
    "deletable": true,
    "editable": true
   },
   "outputs": [
    {
     "data": {
      "text/plain": [
       "590520"
      ]
     },
     "execution_count": 200,
     "metadata": {},
     "output_type": "execute_result"
    }
   ],
   "source": [
    "(p^A.degree()-1)//3"
   ]
  },
  {
   "cell_type": "code",
   "execution_count": 208,
   "metadata": {
    "collapsed": false,
    "deletable": true,
    "editable": true
   },
   "outputs": [
    {
     "name": "stdout",
     "output_type": "stream",
     "text": [
      "2 * 3^2\n",
      "2^3 * 3^2 * 5\n",
      "2 * 3^3 * 127\n",
      "2^4 * 3^2 * 5 * 181\n",
      "2 * 3^2 * 151 * 911\n",
      "2^3 * 3^3 * 5 * 7^3 * 127\n",
      "2 * 3^2 * 701 * 70841\n",
      "2^5 * 3^2 * 5 * 17 * 181 * 3833\n",
      "2 * 3^4 * 127 * 523 * 29989\n"
     ]
    }
   ],
   "source": [
    "for j in range(1,10):\n",
    "    print(factor(p^j-1))"
   ]
  },
  {
   "cell_type": "code",
   "execution_count": 211,
   "metadata": {
    "collapsed": false,
    "deletable": true,
    "editable": true
   },
   "outputs": [
    {
     "data": {
      "text/plain": [
       "6"
      ]
     },
     "execution_count": 211,
     "metadata": {},
     "output_type": "execute_result"
    }
   ],
   "source": [
    "cyclo_deg(GF(p), 7^2)"
   ]
  },
  {
   "cell_type": "code",
   "execution_count": 34,
   "metadata": {
    "collapsed": true,
    "deletable": true,
    "editable": true
   },
   "outputs": [],
   "source": [
    "k = GF(5^10)"
   ]
  },
  {
   "cell_type": "code",
   "execution_count": 36,
   "metadata": {
    "collapsed": false,
    "deletable": true,
    "editable": true
   },
   "outputs": [
    {
     "data": {
      "text/plain": [
       "2^3 * 3 * 11 * 71 * 521"
      ]
     },
     "execution_count": 36,
     "metadata": {},
     "output_type": "execute_result"
    }
   ],
   "source": [
    "factor(5^10-1)"
   ]
  },
  {
   "cell_type": "code",
   "execution_count": 28,
   "metadata": {
    "collapsed": false,
    "deletable": true,
    "editable": true
   },
   "outputs": [
    {
     "data": {
      "text/plain": [
       "2*z3^2 + 3*z3 + 2"
      ]
     },
     "execution_count": 28,
     "metadata": {},
     "output_type": "execute_result"
    }
   ],
   "source": [
    "a = k.random_element(); a"
   ]
  },
  {
   "cell_type": "code",
   "execution_count": 29,
   "metadata": {
    "collapsed": false,
    "deletable": true,
    "editable": true
   },
   "outputs": [
    {
     "data": {
      "text/plain": [
       "2"
      ]
     },
     "execution_count": 29,
     "metadata": {},
     "output_type": "execute_result"
    }
   ],
   "source": [
    "b = a^31; b"
   ]
  },
  {
   "cell_type": "code",
   "execution_count": 30,
   "metadata": {
    "collapsed": false,
    "deletable": true,
    "editable": true
   },
   "outputs": [
    {
     "data": {
      "text/plain": [
       "3"
      ]
     },
     "execution_count": 30,
     "metadata": {},
     "output_type": "execute_result"
    }
   ],
   "source": [
    "b.nth_root(31)"
   ]
  },
  {
   "cell_type": "code",
   "execution_count": 31,
   "metadata": {
    "collapsed": false,
    "deletable": true,
    "editable": true
   },
   "outputs": [
    {
     "data": {
      "text/plain": [
       "2"
      ]
     },
     "execution_count": 31,
     "metadata": {},
     "output_type": "execute_result"
    }
   ],
   "source": [
    "k(3)^31"
   ]
  },
  {
   "cell_type": "code",
   "execution_count": 38,
   "metadata": {
    "collapsed": true,
    "deletable": true,
    "editable": true
   },
   "outputs": [],
   "source": [
    "a.nth_root??"
   ]
  },
  {
   "cell_type": "code",
   "execution_count": 53,
   "metadata": {
    "collapsed": true,
    "deletable": true,
    "editable": true
   },
   "outputs": [],
   "source": [
    "b = solve_h90(A)"
   ]
  },
  {
   "cell_type": "code",
   "execution_count": 7,
   "metadata": {
    "collapsed": true,
    "deletable": true,
    "editable": true
   },
   "outputs": [],
   "source": [
    "def conv(x):\n",
    "    z = x.parent().gen()\n",
    "    M = z.minpoly()\n",
    "    k = x.base_ring().base_ring()\n",
    "    C = k.extension(M, 'z')\n",
    "    return C([k(s) for s in x.list()])"
   ]
  },
  {
   "cell_type": "code",
   "execution_count": 57,
   "metadata": {
    "collapsed": false,
    "deletable": true,
    "editable": true
   },
   "outputs": [
    {
     "data": {
      "text/plain": [
       "x^6 + x^5 + x^4 + x^3 + x^2 + x + 1"
      ]
     },
     "execution_count": 57,
     "metadata": {},
     "output_type": "execute_result"
    }
   ],
   "source": [
    "h.parent().gen().minpoly()"
   ]
  },
  {
   "cell_type": "code",
   "execution_count": 59,
   "metadata": {
    "collapsed": false,
    "deletable": true,
    "editable": true
   },
   "outputs": [],
   "source": [
    "z = h.parent().gen()"
   ]
  },
  {
   "cell_type": "code",
   "execution_count": 61,
   "metadata": {
    "collapsed": false,
    "deletable": true,
    "editable": true
   },
   "outputs": [
    {
     "data": {
      "text/plain": [
       "Finite Field of size 19"
      ]
     },
     "execution_count": 61,
     "metadata": {},
     "output_type": "execute_result"
    }
   ],
   "source": [
    "h.base_ring().base_ring()"
   ]
  },
  {
   "cell_type": "code",
   "execution_count": 74,
   "metadata": {
    "collapsed": false,
    "deletable": true,
    "editable": true
   },
   "outputs": [
    {
     "data": {
      "text/plain": [
       "18*z^5 + 12*z^4 + 3*z^3 + 7*z^2 + 18*z + 7"
      ]
     },
     "execution_count": 74,
     "metadata": {},
     "output_type": "execute_result"
    }
   ],
   "source": [
    "h^n"
   ]
  },
  {
   "cell_type": "code",
   "execution_count": 77,
   "metadata": {
    "collapsed": false,
    "deletable": true,
    "editable": true
   },
   "outputs": [
    {
     "data": {
      "text/plain": [
       "18*z^5 + 12*z^4 + 3*z^3 + 7*z^2 + 18*z + 7"
      ]
     },
     "execution_count": 77,
     "metadata": {},
     "output_type": "execute_result"
    }
   ],
   "source": [
    "t = conv(h^n); t"
   ]
  },
  {
   "cell_type": "code",
   "execution_count": 78,
   "metadata": {
    "collapsed": false,
    "deletable": true,
    "editable": true
   },
   "outputs": [
    {
     "ename": "ValueError",
     "evalue": "no nth root",
     "output_type": "error",
     "traceback": [
      "\u001b[1;31m---------------------------------------------------------------------------\u001b[0m",
      "\u001b[1;31mValueError\u001b[0m                                Traceback (most recent call last)",
      "\u001b[1;32m<ipython-input-78-16a7ac31075d>\u001b[0m in \u001b[0;36m<module>\u001b[1;34m()\u001b[0m\n\u001b[1;32m----> 1\u001b[1;33m \u001b[0mt\u001b[0m\u001b[1;33m.\u001b[0m\u001b[0mnth_root\u001b[0m\u001b[1;33m(\u001b[0m\u001b[0mn\u001b[0m\u001b[1;33m)\u001b[0m\u001b[1;33m\u001b[0m\u001b[0m\n\u001b[0m",
      "\u001b[1;32m/home/erou/sage/src/sage/rings/finite_rings/element_base.pyx\u001b[0m in \u001b[0;36msage.rings.finite_rings.element_base.FinitePolyExtElement.nth_root (build/cythonized/sage/rings/finite_rings/element_base.c:10370)\u001b[1;34m()\u001b[0m\n\u001b[0;32m    749\u001b[0m         \u001b[1;32mfrom\u001b[0m \u001b[0msage\u001b[0m\u001b[1;33m.\u001b[0m\u001b[0mrings\u001b[0m\u001b[1;33m.\u001b[0m\u001b[0minteger\u001b[0m \u001b[1;32mimport\u001b[0m \u001b[0mInteger\u001b[0m\u001b[1;33m\u001b[0m\u001b[0m\n\u001b[0;32m    750\u001b[0m         \u001b[0mn\u001b[0m \u001b[1;33m=\u001b[0m \u001b[0mInteger\u001b[0m\u001b[1;33m(\u001b[0m\u001b[0mn\u001b[0m\u001b[1;33m)\u001b[0m\u001b[1;33m\u001b[0m\u001b[0m\n\u001b[1;32m--> 751\u001b[1;33m         \u001b[1;32mreturn\u001b[0m \u001b[0mself\u001b[0m\u001b[1;33m.\u001b[0m\u001b[0m_nth_root_common\u001b[0m\u001b[1;33m(\u001b[0m\u001b[0mn\u001b[0m\u001b[1;33m,\u001b[0m \u001b[0mall\u001b[0m\u001b[1;33m,\u001b[0m \u001b[0malgorithm\u001b[0m\u001b[1;33m,\u001b[0m \u001b[0mcunningham\u001b[0m\u001b[1;33m)\u001b[0m\u001b[1;33m\u001b[0m\u001b[0m\n\u001b[0m\u001b[0;32m    752\u001b[0m \u001b[1;33m\u001b[0m\u001b[0m\n\u001b[0;32m    753\u001b[0m     \u001b[1;32mdef\u001b[0m \u001b[0mpth_power\u001b[0m\u001b[1;33m(\u001b[0m\u001b[0mself\u001b[0m\u001b[1;33m,\u001b[0m \u001b[0mint\u001b[0m \u001b[0mk\u001b[0m \u001b[1;33m=\u001b[0m \u001b[1;36m1\u001b[0m\u001b[1;33m)\u001b[0m\u001b[1;33m:\u001b[0m\u001b[1;33m\u001b[0m\u001b[0m\n",
      "\u001b[1;32m/home/erou/sage/src/sage/rings/finite_rings/element_base.pyx\u001b[0m in \u001b[0;36msage.rings.finite_rings.element_base.FiniteRingElement._nth_root_common (build/cythonized/sage/rings/finite_rings/element_base.c:3458)\u001b[1;34m()\u001b[0m\n\u001b[0;32m     70\u001b[0m         \u001b[1;32mif\u001b[0m \u001b[0mself\u001b[0m\u001b[1;33m**\u001b[0m\u001b[0mq1overn\u001b[0m \u001b[1;33m!=\u001b[0m \u001b[1;36m1\u001b[0m\u001b[1;33m:\u001b[0m\u001b[1;33m\u001b[0m\u001b[0m\n\u001b[0;32m     71\u001b[0m             \u001b[1;32mif\u001b[0m \u001b[0mall\u001b[0m\u001b[1;33m:\u001b[0m \u001b[1;32mreturn\u001b[0m \u001b[1;33m[\u001b[0m\u001b[1;33m]\u001b[0m\u001b[1;33m\u001b[0m\u001b[0m\n\u001b[1;32m---> 72\u001b[1;33m             \u001b[1;32melse\u001b[0m\u001b[1;33m:\u001b[0m \u001b[1;32mraise\u001b[0m \u001b[0mValueError\u001b[0m\u001b[1;33m(\u001b[0m\u001b[1;34m\"no nth root\"\u001b[0m\u001b[1;33m)\u001b[0m\u001b[1;33m\u001b[0m\u001b[0m\n\u001b[0m\u001b[0;32m     73\u001b[0m         \u001b[0mself\u001b[0m \u001b[1;33m=\u001b[0m \u001b[0mself\u001b[0m\u001b[1;33m**\u001b[0m\u001b[0malpha\u001b[0m\u001b[1;33m\u001b[0m\u001b[0m\n\u001b[0;32m     74\u001b[0m         \u001b[1;32mif\u001b[0m \u001b[0mcunningham\u001b[0m\u001b[1;33m:\u001b[0m\u001b[1;33m\u001b[0m\u001b[0m\n",
      "\u001b[1;31mValueError\u001b[0m: no nth root"
     ]
    }
   ],
   "source": [
    "t.nth_root(n)"
   ]
  },
  {
   "cell_type": "code",
   "execution_count": null,
   "metadata": {
    "collapsed": false,
    "deletable": true,
    "editable": true
   },
   "outputs": [],
   "source": []
  },
  {
   "cell_type": "code",
   "execution_count": 84,
   "metadata": {
    "collapsed": false,
    "deletable": true,
    "editable": true
   },
   "outputs": [
    {
     "data": {
      "text/plain": [
       "12*z^5 + 9*z^4 + 12*z^3 + 16*z^2 + 7*z + 17"
      ]
     },
     "execution_count": 84,
     "metadata": {},
     "output_type": "execute_result"
    }
   ],
   "source": [
    "zz = t.parent().gen().nth_root(n); zz"
   ]
  },
  {
   "cell_type": "code",
   "execution_count": 91,
   "metadata": {
    "collapsed": false,
    "deletable": true,
    "editable": true
   },
   "outputs": [
    {
     "data": {
      "text/plain": [
       "x^6 + 11*x^5 + 3*x^4 + 3*x^2 + 11*x + 1"
      ]
     },
     "execution_count": 91,
     "metadata": {},
     "output_type": "execute_result"
    }
   ],
   "source": [
    "zz.minpoly()"
   ]
  },
  {
   "cell_type": "code",
   "execution_count": 14,
   "metadata": {
    "collapsed": false,
    "deletable": true,
    "editable": true
   },
   "outputs": [
    {
     "data": {
      "text/plain": [
       "37"
      ]
     },
     "execution_count": 14,
     "metadata": {},
     "output_type": "execute_result"
    }
   ],
   "source": [
    "factor(37)"
   ]
  },
  {
   "cell_type": "code",
   "execution_count": 18,
   "metadata": {
    "collapsed": false,
    "deletable": true,
    "editable": true
   },
   "outputs": [
    {
     "data": {
      "text/plain": [
       "3"
      ]
     },
     "execution_count": 18,
     "metadata": {},
     "output_type": "execute_result"
    }
   ],
   "source": [
    "cyclo_deg(GF(37), 7)"
   ]
  },
  {
   "cell_type": "code",
   "execution_count": 19,
   "metadata": {
    "collapsed": false,
    "deletable": true,
    "editable": true
   },
   "outputs": [
    {
     "data": {
      "text/plain": [
       "2^2 * 3^3 * 7 * 67"
      ]
     },
     "execution_count": 19,
     "metadata": {},
     "output_type": "execute_result"
    }
   ],
   "source": [
    "factor(37^3-1)"
   ]
  },
  {
   "cell_type": "code",
   "execution_count": 8,
   "metadata": {
    "collapsed": true,
    "deletable": true,
    "editable": true
   },
   "outputs": [],
   "source": [
    "p, n = 37, 21\n",
    "K, A = ext_scalars(GF(p), n)"
   ]
  },
  {
   "cell_type": "code",
   "execution_count": 9,
   "metadata": {
    "collapsed": false,
    "deletable": true,
    "editable": true
   },
   "outputs": [
    {
     "data": {
      "text/plain": [
       "x^3 + 12*x^2 + 6*x + 36"
      ]
     },
     "execution_count": 9,
     "metadata": {},
     "output_type": "execute_result"
    }
   ],
   "source": [
    "(A.gen()^(1)).minpoly()"
   ]
  },
  {
   "cell_type": "code",
   "execution_count": 10,
   "metadata": {
    "collapsed": true,
    "deletable": true,
    "editable": true
   },
   "outputs": [],
   "source": [
    "h = solve_h90(A)"
   ]
  },
  {
   "cell_type": "code",
   "execution_count": 11,
   "metadata": {
    "collapsed": false,
    "deletable": true,
    "editable": true
   },
   "outputs": [
    {
     "data": {
      "text/plain": [
       "(20*x^20 + 17*x^19 + 9*x^18 + 27*x^17 + 13*x^16 + 12*x^15 + 10*x^13 + 7*x^12 + 8*x^11 + 13*x^10 + 10*x^9 + 28*x^8 + 11*x^7 + 8*x^6 + 20*x^5 + 15*x^4 + 11*x^3 + 15*x^2 + 27*x + 18)*z^2 + (16*x^20 + 22*x^19 + 29*x^18 + 31*x^17 + 7*x^16 + 27*x^15 + 35*x^14 + 6*x^13 + 17*x^12 + 21*x^11 + 15*x^10 + 30*x^8 + 25*x^7 + 33*x^6 + 22*x^5 + 2*x^4 + 9*x^3 + 15*x^2 + 22*x + 12)*z + 34*x^20 + 31*x^19 + 35*x^18 + 10*x^17 + 11*x^16 + 8*x^15 + 36*x^14 + 5*x^13 + 3*x^11 + 36*x^10 + 9*x^9 + 17*x^8 + x^7 + 24*x^6 + 31*x^5 + 14*x^4 + 11*x^3 + 6*x^2 + 15*x + 24"
      ]
     },
     "execution_count": 11,
     "metadata": {},
     "output_type": "execute_result"
    }
   ],
   "source": [
    "h"
   ]
  },
  {
   "cell_type": "code",
   "execution_count": 12,
   "metadata": {
    "collapsed": false,
    "deletable": true,
    "editable": true
   },
   "outputs": [
    {
     "data": {
      "text/plain": [
       "(7*x^20 + 35*x^19 + 2*x^18 + 21*x^17 + 21*x^16 + 5*x^15 + 26*x^14 + 12*x^13 + 23*x^12 + 4*x^11 + 23*x^10 + 16*x^9 + 33*x^8 + 25*x^7 + 26*x^6 + 24*x^5 + 29*x^4 + 18*x^3 + 23*x^2 + 19*x + 16)*z^2 + (34*x^20 + 31*x^19 + x^18 + 8*x^17 + 24*x^16 + 9*x^15 + 8*x^14 + 36*x^13 + 9*x^12 + 17*x^11 + 34*x^10 + 35*x^9 + 10*x^8 + 33*x^7 + 2*x^5 + 11*x^4 + 29*x^3 + 29*x^2 + 19*x + 36)*z + x^20 + 21*x^19 + 15*x^18 + 23*x^17 + 4*x^16 + 8*x^15 + 25*x^14 + x^13 + 10*x^12 + 8*x^11 + 29*x^10 + 27*x^9 + 5*x^8 + 16*x^7 + 31*x^6 + 16*x^5 + 15*x^4 + 3*x^3 + 26*x^2 + 25*x + 10"
      ]
     },
     "execution_count": 12,
     "metadata": {},
     "output_type": "execute_result"
    }
   ],
   "source": [
    "rnorm(h, 7)"
   ]
  },
  {
   "cell_type": "code",
   "execution_count": 13,
   "metadata": {
    "collapsed": false,
    "deletable": true,
    "editable": true
   },
   "outputs": [
    {
     "data": {
      "text/plain": [
       "z"
      ]
     },
     "execution_count": 13,
     "metadata": {},
     "output_type": "execute_result"
    }
   ],
   "source": [
    "rnorm(A.gen(), 3)"
   ]
  },
  {
   "cell_type": "code",
   "execution_count": 14,
   "metadata": {
    "collapsed": false,
    "deletable": true,
    "editable": true
   },
   "outputs": [
    {
     "data": {
      "text/plain": [
       "12"
      ]
     },
     "execution_count": 14,
     "metadata": {},
     "output_type": "execute_result"
    }
   ],
   "source": [
    "conv((A.gen())^7).nth_root(3)"
   ]
  },
  {
   "cell_type": "code",
   "execution_count": 15,
   "metadata": {
    "collapsed": false,
    "deletable": true,
    "editable": true
   },
   "outputs": [
    {
     "data": {
      "text/plain": [
       "21"
      ]
     },
     "execution_count": 15,
     "metadata": {},
     "output_type": "execute_result"
    }
   ],
   "source": [
    "A.base_ring().degree()"
   ]
  },
  {
   "cell_type": "code",
   "execution_count": 16,
   "metadata": {
    "collapsed": false,
    "deletable": true,
    "editable": true
   },
   "outputs": [
    {
     "data": {
      "text/plain": [
       "33"
      ]
     },
     "execution_count": 16,
     "metadata": {},
     "output_type": "execute_result"
    }
   ],
   "source": [
    "product(frob_r(h, j) for j in range(6))"
   ]
  },
  {
   "cell_type": "code",
   "execution_count": 17,
   "metadata": {
    "collapsed": false,
    "deletable": true,
    "editable": true
   },
   "outputs": [
    {
     "data": {
      "text/plain": [
       "33"
      ]
     },
     "execution_count": 17,
     "metadata": {},
     "output_type": "execute_result"
    }
   ],
   "source": [
    "frob_l(_)"
   ]
  },
  {
   "cell_type": "code",
   "execution_count": 18,
   "metadata": {
    "collapsed": false,
    "deletable": true,
    "editable": true
   },
   "outputs": [
    {
     "data": {
      "text/plain": [
       "12"
      ]
     },
     "execution_count": 18,
     "metadata": {},
     "output_type": "execute_result"
    }
   ],
   "source": [
    "cyclo_deg(GF(7), 13)"
   ]
  },
  {
   "cell_type": "code",
   "execution_count": 19,
   "metadata": {
    "collapsed": false,
    "deletable": true,
    "editable": true
   },
   "outputs": [
    {
     "data": {
      "text/plain": [
       "2^5 * 3^2 * 5^2 * 13 * 19 * 43 * 181"
      ]
     },
     "execution_count": 19,
     "metadata": {},
     "output_type": "execute_result"
    }
   ],
   "source": [
    "factor(7^12-1)"
   ]
  },
  {
   "cell_type": "code",
   "execution_count": 27,
   "metadata": {
    "collapsed": false,
    "deletable": true,
    "editable": true
   },
   "outputs": [
    {
     "data": {
      "text/plain": [
       "26*z^2"
      ]
     },
     "execution_count": 27,
     "metadata": {},
     "output_type": "execute_result"
    }
   ],
   "source": [
    "(12*26*(A.gen()))^9"
   ]
  },
  {
   "cell_type": "code",
   "execution_count": 21,
   "metadata": {
    "collapsed": false,
    "deletable": true,
    "editable": true
   },
   "outputs": [
    {
     "data": {
      "text/plain": [
       "26"
      ]
     },
     "execution_count": 21,
     "metadata": {},
     "output_type": "execute_result"
    }
   ],
   "source": [
    "A(12)^3"
   ]
  },
  {
   "cell_type": "code",
   "execution_count": 8,
   "metadata": {
    "collapsed": false,
    "deletable": true,
    "editable": true
   },
   "outputs": [
    {
     "name": "stdout",
     "output_type": "stream",
     "text": [
      "4 6\n",
      "2 6\n",
      "4 3\n"
     ]
    }
   ],
   "source": []
  },
  {
   "cell_type": "code",
   "execution_count": 21,
   "metadata": {
    "collapsed": false,
    "deletable": true,
    "editable": true
   },
   "outputs": [
    {
     "data": {
      "text/plain": [
       "6"
      ]
     },
     "execution_count": 21,
     "metadata": {},
     "output_type": "execute_result"
    }
   ],
   "source": [
    "cyclo_deg(GF(7), 43)"
   ]
  },
  {
   "cell_type": "code",
   "execution_count": null,
   "metadata": {
    "collapsed": true,
    "deletable": true,
    "editable": true
   },
   "outputs": [],
   "source": []
  }
 ],
 "metadata": {
  "kernelspec": {
   "display_name": "SageMath 8.1",
   "language": "",
   "name": "sagemath"
  },
  "language_info": {
   "codemirror_mode": {
    "name": "ipython",
    "version": 2
   },
   "file_extension": ".py",
   "mimetype": "text/x-python",
   "name": "python",
   "nbconvert_exporter": "python",
   "pygments_lexer": "ipython2",
   "version": "2.7.14"
  }
 },
 "nbformat": 4,
 "nbformat_minor": 2
}
