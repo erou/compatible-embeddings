{
 "cells": [
  {
   "cell_type": "code",
   "execution_count": 1,
   "metadata": {
    "collapsed": true,
    "deletable": true,
    "editable": true
   },
   "outputs": [],
   "source": [
    "def ext_scalars(k, n):\n",
    "    q = k.order()\n",
    "    assert gcd(n, q) == 1, \"Only multiplicative H90, please!\"\n",
    "    \n",
    "    phi = cyclotomic_polynomial(n, 'z').change_ring(k)\n",
    "    \n",
    "    K = k.extension(n, 'x')\n",
    "    A = K['z']\n",
    "    h = A(phi.factor()[0][0])\n",
    "    \n",
    "    return K, A.quo(h, 'z')"
   ]
  },
  {
   "cell_type": "code",
   "execution_count": 2,
   "metadata": {
    "collapsed": true,
    "deletable": true,
    "editable": true
   },
   "outputs": [],
   "source": [
    "def frob_l(a, i=1):\n",
    "    A = a.parent()\n",
    "    q = a.base_ring().base_ring().order()\n",
    "    return A(list(c^(q^i) for c in a))"
   ]
  },
  {
   "cell_type": "code",
   "execution_count": 3,
   "metadata": {
    "collapsed": true,
    "deletable": true,
    "editable": true
   },
   "outputs": [],
   "source": [
    "def frob_r(a, i=1):\n",
    "    A = a.parent()\n",
    "    z = A.gen()\n",
    "    q = a.base_ring().base_ring().order()\n",
    "    return sum(c*z^(j*q^i) for j, c in enumerate(a))"
   ]
  },
  {
   "cell_type": "code",
   "execution_count": 4,
   "metadata": {
    "collapsed": true,
    "deletable": true,
    "editable": true
   },
   "outputs": [],
   "source": [
    "def is_h90(a, zeta):\n",
    "    return frob_l(a) == zeta * a"
   ]
  },
  {
   "cell_type": "code",
   "execution_count": 29,
   "metadata": {
    "collapsed": true,
    "deletable": true,
    "editable": true
   },
   "outputs": [],
   "source": [
    "def solve_h90(A):\n",
    "    x = A(1)\n",
    "    n = A.base_ring().degree()\n",
    "    z = A.gen()\n",
    "    while not is_h90(x, z):\n",
    "        x = A.random_element()\n",
    "        x = sum(frob_l(x, i)*z^-i for i in range(n))\n",
    "    return x"
   ]
  },
  {
   "cell_type": "code",
   "execution_count": 6,
   "metadata": {
    "collapsed": false,
    "deletable": true,
    "editable": true
   },
   "outputs": [],
   "source": [
    "def cyclo_deg(k, n):\n",
    "    return Zmod(n)(k.characteristic()).multiplicative_order()\n",
    "\n",
    "def rnorm(a, m, n = 0):\n",
    "    A = a.parent()\n",
    "    if n == 0:\n",
    "        n = A.base_ring().degree()\n",
    "    q = A.base_ring().base_ring().order()\n",
    "    s = cyclo_deg(GF(q), m)\n",
    "    d = n // m\n",
    "    \n",
    "    return product(frob_r(a, s*j) for j in range(d))\n",
    "\n",
    "def toto(k, m, n):\n",
    "    q = k.order()\n",
    "    r = cyclo_deg(k, m)\n",
    "    s = cyclo_deg(k, n)\n",
    "    t = (q^s-1)//(q^r-1)\n",
    "    return t, gcd(t, n), n//m\n",
    "\n",
    "def change_basis(elem, basis, d2):\n",
    "    \n",
    "    k = elem.base_ring()\n",
    "    d1 = elem.parent().degree()\n",
    "    A = MatrixSpace(k, d1, d2)()\n",
    "    \n",
    "    for i in range(d2):\n",
    "        L = (basis^i).list()\n",
    "        for j in range(d1):\n",
    "            A[j,i] = L[j]\n",
    "            \n",
    "    S2 = MatrixSpace(k, d1, 1)\n",
    "    B = S2(elem.list())\n",
    "    X = A.solve_right(B)\n",
    "    \n",
    "    return X[0,0]\n",
    "\n",
    "def testl(p, l, n):\n",
    "    k = GF(p)\n",
    "    k1, A1 = ext_scalars(k, l^n)\n",
    "    M1 = A1.modulus()\n",
    "    R = k['z']\n",
    "    k2 = k.extension(l^(n+1))\n",
    "    R2 = k2['z']\n",
    "    x = R.gen()\n",
    "    M2 = gcd(A1.modulus().change_ring(k).substitute(x^l), R(cyclotomic_polynomial(l^(n+1)))).factor()[0][0]\n",
    "    A2 = R2.quo(M2, 'z')\n",
    "    h1 = solve_h90(A1)\n",
    "    h2 = solve_h90(A2)\n",
    "    i2 = rnorm(h2, l^n)\n",
    "    aa = h1^(l^n)\n",
    "    bb = i2^(l^n)\n",
    "    C = k.extension(M2, 'x')\n",
    "    \n",
    "    a = R([x for x in aa.list()]).subs(C.gen()^l)\n",
    "    b = C([k(x) for x in bb.list()])\n",
    "    \n",
    "    t = a/b\n",
    "    c = t.nth_root(l^(n+1))\n",
    "    return h1, A2(c.polynomial().list())*h2\n",
    "\n",
    "def is_iso(h1, h2):\n",
    "    m = h1.base_ring().degree()\n",
    "    n = h2.base_ring().degree()\n",
    "    l = n // m\n",
    "    i2 = rnorm(h2, m)\n",
    "    j2 = change_basis(i2, h2.parent().gen()^l, h1.parent().degree())\n",
    "    return h1.list()[0].minpoly() == j2.minpoly()  \n",
    "    \n",
    "def frob_rc(a, n, m, i=1):\n",
    "    A = a.parent()\n",
    "    z = A.gen()\n",
    "    l = n // m\n",
    "    u, v = xgcd(l, m)[1:]\n",
    "    q = a.base_ring().base_ring().order()\n",
    "    return sum(c*z^(u*l*j)*z^(v*m*j*q^i) for j, c in enumerate(a))\n",
    "\n",
    "def rnormc(a, m):\n",
    "    A = a.parent()\n",
    "    n = a.base_ring().degree()\n",
    "    q = A.base_ring().base_ring().order()\n",
    "    l = n // m\n",
    "    d = cyclo_deg(GF(q), l)\n",
    "    print d, l\n",
    "    return product(frob_rc(a, n, m, j) for j in range(d))\n",
    "\n",
    "\"\"\"\n",
    "Here we find an element h2 solution of H90 in F_p^n compatible with h1.\n",
    "\"\"\"\n",
    "def findh90(h1, n):\n",
    "    k = h1.base_ring().base_ring()\n",
    "    k1, A1 = h1.base_ring(), h1.parent()\n",
    "    M1 = A1.modulus()\n",
    "    R = k['z']\n",
    "    m = k1.degree()\n",
    "    l = n // m\n",
    "    k2 = k.extension(n)\n",
    "    R2 = k2['z']\n",
    "    x = R.gen()\n",
    "    M2 = gcd(M1.change_ring(k).substitute(x^l), R(cyclotomic_polynomial(n))).factor()[0][0]\n",
    "    A2 = R2.quo(M2, 'z')\n",
    "    h2 = solve_h90(A2)\n",
    "    i2 = rnorm(h2, m)\n",
    "    aa = h1^(m)\n",
    "    bb = i2^(m)\n",
    "    C = k.extension(M2, 'x')\n",
    "    \n",
    "    a = R([x for x in aa.list()]).subs(C.gen()^l)\n",
    "    b = C([k(x) for x in bb.list()])\n",
    "    \n",
    "    t = a/b\n",
    "    c = t.nth_root(n)\n",
    "    return A2(c.polynomial().list())*h2\n",
    "\n",
    "\"\"\"\n",
    "Return two elements h1, h2 that are respectively solutions of H90 in \n",
    "A_m = F_p^m ⊗ F_p(ζ_m) for the root 1 ⊗ ζ_m and in A_n for 1 ⊗ ζ_n, such that\n",
    "N(h2) = h1.\n",
    "\"\"\"\n",
    "def testc(p, m, n):\n",
    "    k = GF(p)\n",
    "    k1, A1 = ext_scalars(k, m)\n",
    "    M1 = A1.modulus()\n",
    "    R = k['z']\n",
    "    k2 = k.extension(n)\n",
    "    R2 = k2['z']\n",
    "    x = R.gen()\n",
    "    l = n // m\n",
    "    M2 = gcd(A1.modulus().change_ring(k).substitute(x^l), R(cyclotomic_polynomial(n))).factor()[0][0]\n",
    "    A2 = R2.quo(M2, 'z')\n",
    "    h1 = solve_h90(A1)\n",
    "    h2 = solve_h90(A2)\n",
    "    i2 = rnorm(h2, m)\n",
    "    aa = h1^m\n",
    "    bb = i2^m\n",
    "    C = k.extension(M2, 'x')\n",
    "    \n",
    "    a = R([x for x in aa.list()]).subs(C.gen()^l)\n",
    "    b = C([k(x) for x in bb.list()])\n",
    "    \n",
    "    t = a/b\n",
    "    c = t.nth_root(n)\n",
    "    return h1, A2(c.polynomial().list())*h2"
   ]
  },
  {
   "cell_type": "code",
   "execution_count": 16,
   "metadata": {
    "collapsed": false,
    "deletable": true,
    "editable": true
   },
   "outputs": [
    {
     "data": {
      "text/plain": [
       "(True, True, True)"
      ]
     },
     "execution_count": 16,
     "metadata": {},
     "output_type": "execute_result"
    }
   ],
   "source": [
    "K, A = ext_scalars(GF(7), 9)  # 1 = r₁ < r₂ = 2\n",
    "a = A.random_element()\n",
    "h = solve_h90(A)\n",
    "u = h*frob_r(h)*frob_r(h, 2)\n",
    "v = rnorm(h, 3)\n",
    "is_h90(u, A.gen()^3), frob_l(u, 3) == u, u == v"
   ]
  },
  {
   "cell_type": "code",
   "execution_count": 17,
   "metadata": {
    "collapsed": false,
    "deletable": true,
    "editable": true
   },
   "outputs": [
    {
     "data": {
      "text/plain": [
       "(True, True, True)"
      ]
     },
     "execution_count": 17,
     "metadata": {},
     "output_type": "execute_result"
    }
   ],
   "source": [
    "K, A = ext_scalars(GF(19), 9)  # 1 = r₁ = r₂\n",
    "a = A.random_element()\n",
    "h = solve_h90(A)\n",
    "u = h*frob_r(h)*frob_r(h, 2)\n",
    "v = rnorm(h, 3)\n",
    "is_h90(u, A.gen()^3), frob_l(u, 3) == u, u == v"
   ]
  },
  {
   "cell_type": "code",
   "execution_count": 41,
   "metadata": {
    "collapsed": false,
    "deletable": true,
    "editable": true
   },
   "outputs": [
    {
     "name": "stdout",
     "output_type": "stream",
     "text": [
      "15 3 4 1 4\n"
     ]
    },
    {
     "data": {
      "text/plain": [
       "(True, True, True)"
      ]
     },
     "execution_count": 41,
     "metadata": {},
     "output_type": "execute_result"
    }
   ],
   "source": [
    "K, A = ext_scalars(GF(7), 15)\n",
    "a = A.random_element()\n",
    "h = solve_h90(A)\n",
    "u = h*frob_r(h, 1)*frob_r(h, 2)*frob_r(h, 3)\n",
    "v = rnorm(h, 3)\n",
    "is_h90(u, A.gen()^10), frob_r(u, 3) == u, u == v"
   ]
  },
  {
   "cell_type": "code",
   "execution_count": 46,
   "metadata": {
    "collapsed": false,
    "deletable": true,
    "editable": true
   },
   "outputs": [
    {
     "name": "stdout",
     "output_type": "stream",
     "text": [
      "15 5 4 4 1\n"
     ]
    },
    {
     "data": {
      "text/plain": [
       "(True, True, False, True, False, True)"
      ]
     },
     "execution_count": 46,
     "metadata": {},
     "output_type": "execute_result"
    }
   ],
   "source": [
    "K, A = ext_scalars(GF(7), 15)\n",
    "a = A.random_element()\n",
    "h = solve_h90(A)\n",
    "u = h*frob_r(h, 4)*frob_r(h, 8)\n",
    "v = rnorm(h, 5)\n",
    "is_h90(u, A.gen()^3), frob_r(u, 4) == u, is_h90(v, A.gen()^3), frob_r(v, 4) == v, u == v, u == h^3"
   ]
  },
  {
   "cell_type": "code",
   "execution_count": 100,
   "metadata": {
    "collapsed": false,
    "deletable": true,
    "editable": true
   },
   "outputs": [
    {
     "data": {
      "text/plain": [
       "(False, False)"
      ]
     },
     "execution_count": 100,
     "metadata": {},
     "output_type": "execute_result"
    }
   ],
   "source": [
    "K, A = ext_scalars(GF(19), 15)\n",
    "a = A.random_element()\n",
    "h = solve_h90(A)\n",
    "u = h*frob_r(h, 1)\n",
    "is_h90(u, A.gen()^5), frob_l(u, 3) == u"
   ]
  },
  {
   "cell_type": "markdown",
   "metadata": {
    "deletable": true,
    "editable": true
   },
   "source": [
    "# An $\\ell$-adic tower"
   ]
  },
  {
   "cell_type": "code",
   "execution_count": 27,
   "metadata": {
    "collapsed": false,
    "deletable": true,
    "editable": true
   },
   "outputs": [
    {
     "data": {
      "text/plain": [
       "2"
      ]
     },
     "execution_count": 27,
     "metadata": {},
     "output_type": "execute_result"
    }
   ],
   "source": [
    "p, l, n = 17, 3, 2\n",
    "cyclo_deg(GF(p), l^n)"
   ]
  },
  {
   "cell_type": "code",
   "execution_count": 28,
   "metadata": {
    "collapsed": false,
    "deletable": true,
    "editable": true
   },
   "outputs": [
    {
     "name": "stdout",
     "output_type": "stream",
     "text": [
      "True\n",
      "True\n",
      "True\n",
      "True\n",
      "True\n",
      "True\n",
      "True\n",
      "True\n",
      "True\n",
      "True\n"
     ]
    }
   ],
   "source": [
    "for i in range(10):\n",
    "    h1, h2 = testl(p, l, n)\n",
    "    print is_iso(h1, h2)"
   ]
  },
  {
   "cell_type": "code",
   "execution_count": 16,
   "metadata": {
    "collapsed": false,
    "deletable": true,
    "editable": true
   },
   "outputs": [
    {
     "data": {
      "text/plain": [
       "False"
      ]
     },
     "execution_count": 16,
     "metadata": {},
     "output_type": "execute_result"
    }
   ],
   "source": [
    "h2 == h2b"
   ]
  },
  {
   "cell_type": "code",
   "execution_count": 17,
   "metadata": {
    "collapsed": false,
    "deletable": true,
    "editable": true
   },
   "outputs": [
    {
     "data": {
      "text/plain": [
       "True"
      ]
     },
     "execution_count": 17,
     "metadata": {},
     "output_type": "execute_result"
    }
   ],
   "source": [
    "is_iso(h1, h2b)"
   ]
  },
  {
   "cell_type": "code",
   "execution_count": 18,
   "metadata": {
    "collapsed": true,
    "deletable": true,
    "editable": true
   },
   "outputs": [],
   "source": [
    "h3 = findh90(h2b, 3^3)"
   ]
  },
  {
   "cell_type": "code",
   "execution_count": 19,
   "metadata": {
    "collapsed": false,
    "deletable": true,
    "editable": true
   },
   "outputs": [
    {
     "data": {
      "text/plain": [
       "True"
      ]
     },
     "execution_count": 19,
     "metadata": {},
     "output_type": "execute_result"
    }
   ],
   "source": [
    "is_iso(h1, h3)"
   ]
  },
  {
   "cell_type": "markdown",
   "metadata": {
    "collapsed": true,
    "deletable": true,
    "editable": true
   },
   "source": [
    "# Composita"
   ]
  },
  {
   "cell_type": "code",
   "execution_count": 113,
   "metadata": {
    "collapsed": false,
    "deletable": true,
    "editable": true
   },
   "outputs": [
    {
     "data": {
      "text/plain": [
       "12"
      ]
     },
     "execution_count": 113,
     "metadata": {},
     "output_type": "execute_result"
    }
   ],
   "source": [
    "p = 2\n",
    "k = GF(p)\n",
    "cyclo_deg(k, 3^2*5)"
   ]
  },
  {
   "cell_type": "code",
   "execution_count": 114,
   "metadata": {
    "collapsed": false,
    "deletable": true,
    "editable": true
   },
   "outputs": [
    {
     "name": "stdout",
     "output_type": "stream",
     "text": [
      "True\n",
      "True\n",
      "True\n",
      "True\n",
      "True\n",
      "True\n",
      "True\n",
      "True\n",
      "True\n",
      "True\n"
     ]
    }
   ],
   "source": [
    "m = 3^1 * 5\n",
    "n = 3^2 * 5\n",
    "l = n // m\n",
    "for i in range(10):\n",
    "    h1, h2 = testc(p, m, n)\n",
    "    print is_iso(h1, h2)"
   ]
  },
  {
   "cell_type": "code",
   "execution_count": 115,
   "metadata": {
    "collapsed": false,
    "deletable": true,
    "editable": true
   },
   "outputs": [
    {
     "data": {
      "text/plain": [
       "(x^14 + x^10 + x^7 + x^4 + x^3 + x^2 + x)*z^3 + (x^14 + x^13 + x^10 + x^9 + x^7 + x^5 + x^4 + x^3 + x^2 + 1)*z^2 + (x^14 + x^11 + x^9 + x^8 + x^6 + x^3 + x^2 + x + 1)*z + x^14 + x^13 + x^11 + x^10 + x^9 + x^7 + x^6"
      ]
     },
     "execution_count": 115,
     "metadata": {},
     "output_type": "execute_result"
    }
   ],
   "source": [
    "h1"
   ]
  },
  {
   "cell_type": "code",
   "execution_count": 116,
   "metadata": {
    "collapsed": false,
    "deletable": true,
    "editable": true
   },
   "outputs": [
    {
     "data": {
      "text/plain": [
       "(z45^43 + z45^42 + z45^40 + z45^39 + z45^37 + z45^34 + z45^32 + z45^31 + z45^29 + z45^27 + z45^26 + z45^25 + z45^24 + z45^22 + z45^18 + z45^15 + z45^14 + z45^12 + z45^11 + 1)*z^11 + (z45^44 + z45^41 + z45^39 + z45^38 + z45^36 + z45^35 + z45^33 + z45^32 + z45^30 + z45^28 + z45^25 + z45^22 + z45^20 + z45^17 + z45^14 + z45^12 + z45^7 + z45^6 + z45^2 + 1)*z^10 + (z45^44 + z45^43 + z45^42 + z45^38 + z45^37 + z45^36 + z45^29 + z45^27 + z45^26 + z45^24 + z45^23 + z45^20 + z45^17 + z45^15 + z45^13 + z45^12 + z45^10 + z45^9 + z45^8 + z45^6 + z45^4 + z45^3 + z45)*z^9 + (z45^43 + z45^41 + z45^37 + z45^36 + z45^35 + z45^32 + z45^31 + z45^30 + z45^28 + z45^27 + z45^26 + z45^25 + z45^24 + z45^21 + z45^17 + z45^15 + z45^14 + z45^12 + z45^11 + z45^9 + z45^8 + z45^7 + z45^6 + z45^5 + z45^2 + z45)*z^8 + (z45^42 + z45^41 + z45^39 + z45^38 + z45^37 + z45^36 + z45^34 + z45^32 + z45^28 + z45^27 + z45^26 + z45^24 + z45^21 + z45^19 + z45^18 + z45^16 + z45^15 + z45^14 + z45^13 + z45^12 + z45^8 + z45^5 + z45^4 + z45^2 + z45 + 1)*z^7 + (z45^44 + z45^42 + z45^38 + z45^37 + z45^34 + z45^33 + z45^31 + z45^29 + z45^26 + z45^24 + z45^19 + z45^16 + z45^12 + z45^11 + z45^10 + z45^9 + z45^8 + z45^4 + z45^2)*z^6 + (z45^44 + z45^42 + z45^39 + z45^37 + z45^36 + z45^35 + z45^34 + z45^30 + z45^29 + z45^27 + z45^25 + z45^24 + z45^23 + z45^19 + z45^17 + z45^16 + z45^15 + z45^13 + z45^12 + z45^10 + z45^7 + z45^5 + z45^4)*z^5 + (z45^44 + z45^43 + z45^40 + z45^36 + z45^35 + z45^34 + z45^33 + z45^32 + z45^31 + z45^30 + z45^27 + z45^25 + z45^24 + z45^23 + z45^22 + z45^21 + z45^19 + z45^18 + z45^14 + z45^12 + z45^11 + z45^9 + z45^8 + z45^5 + 1)*z^4 + (z45^42 + z45^39 + z45^38 + z45^37 + z45^36 + z45^34 + z45^33 + z45^31 + z45^28 + z45^27 + z45^25 + z45^20 + z45^19 + z45^17 + z45^13 + z45^9 + z45^6 + z45^3 + z45^2)*z^3 + (z45^44 + z45^42 + z45^41 + z45^36 + z45^35 + z45^34 + z45^33 + z45^32 + z45^29 + z45^27 + z45^26 + z45^25 + z45^20 + z45^18 + z45^17 + z45^15 + z45^14 + z45^12 + z45^11 + z45^10 + z45^5)*z^2 + (z45^44 + z45^43 + z45^40 + z45^37 + z45^32 + z45^30 + z45^26 + z45^24 + z45^22 + z45^21 + z45^19 + z45^17 + z45^13 + z45^11 + z45^9 + z45^3 + z45^2)*z + z45^42 + z45^41 + z45^40 + z45^39 + z45^35 + z45^33 + z45^31 + z45^28 + z45^25 + z45^23 + z45^22 + z45^19 + z45^17 + z45^15 + z45^13 + z45^12 + z45^8 + z45^7 + z45^6 + z45^5 + z45^3"
      ]
     },
     "execution_count": 116,
     "metadata": {},
     "output_type": "execute_result"
    }
   ],
   "source": [
    "h2"
   ]
  },
  {
   "cell_type": "code",
   "execution_count": 7,
   "metadata": {
    "collapsed": false,
    "deletable": true,
    "editable": true
   },
   "outputs": [
    {
     "ename": "NameError",
     "evalue": "name 'h2' is not defined",
     "output_type": "error",
     "traceback": [
      "\u001b[1;31m---------------------------------------------------------------------------\u001b[0m",
      "\u001b[1;31mNameError\u001b[0m                                 Traceback (most recent call last)",
      "\u001b[1;32m<ipython-input-7-ac7e6ecf6942>\u001b[0m in \u001b[0;36m<module>\u001b[1;34m()\u001b[0m\n\u001b[1;32m----> 1\u001b[1;33m \u001b[1;32mfor\u001b[0m \u001b[0mx\u001b[0m \u001b[1;32min\u001b[0m \u001b[0mrnorm\u001b[0m\u001b[1;33m(\u001b[0m\u001b[0mh2\u001b[0m\u001b[1;33m,\u001b[0m \u001b[0mm\u001b[0m\u001b[1;33m)\u001b[0m\u001b[1;33m.\u001b[0m\u001b[0mminpoly\u001b[0m\u001b[1;33m(\u001b[0m\u001b[1;33m)\u001b[0m\u001b[1;33m.\u001b[0m\u001b[0mlist\u001b[0m\u001b[1;33m(\u001b[0m\u001b[1;33m)\u001b[0m\u001b[1;33m:\u001b[0m\u001b[1;33m\u001b[0m\u001b[0m\n\u001b[0m\u001b[0;32m      2\u001b[0m     \u001b[1;32mprint\u001b[0m \u001b[0mx\u001b[0m\u001b[1;33m.\u001b[0m\u001b[0mminpoly\u001b[0m\u001b[1;33m(\u001b[0m\u001b[1;33m)\u001b[0m\u001b[1;33m\u001b[0m\u001b[0m\n",
      "\u001b[1;31mNameError\u001b[0m: name 'h2' is not defined"
     ]
    }
   ],
   "source": [
    "for x in rnorm(h2, m).minpoly().list():\n",
    "    print x.minpoly()"
   ]
  },
  {
   "cell_type": "markdown",
   "metadata": {
    "deletable": true,
    "editable": true
   },
   "source": [
    "# A compatibility test using norms\n",
    "\n",
    "We test if the usage of norms (in the case where it should work) is indeed compatible."
   ]
  },
  {
   "cell_type": "code",
   "execution_count": 7,
   "metadata": {
    "collapsed": true,
    "deletable": true,
    "editable": true
   },
   "outputs": [],
   "source": [
    "def basis_matrix(a, n = None):\n",
    "    K = a.parent()\n",
    "    m = K.degree()\n",
    "    \n",
    "    if n == None:\n",
    "        n = m\n",
    "    \n",
    "    k = K.prime_subfield()\n",
    "    S = MatrixSpace(k, m, n)()\n",
    "    for j in range(n):\n",
    "        L = (a^j).polynomial().list()\n",
    "        i = 0\n",
    "        for l in L:\n",
    "            S[i, j] = l\n",
    "            i += 1\n",
    "    return S\n",
    "\n",
    "def fflist(x):\n",
    "    L = x.polynomial().list()\n",
    "    l = len(L)\n",
    "    k = x.parent()\n",
    "    d = k.degree()\n",
    "    if l < d:\n",
    "        L += (d-l)*[k()]\n",
    "        \n",
    "    return L\n",
    "\n",
    "def compute_map(a, b):\n",
    "    \n",
    "    A = basis_matrix(a)\n",
    "    B = basis_matrix(b, a.parent().degree())\n",
    "    C = B*A^(-1)\n",
    "    \n",
    "    K = b.parent()\n",
    "    k = K.prime_subfield()\n",
    "    S = MatrixSpace(k, a.parent().degree(), 1)\n",
    "\n",
    "    return lambda x : K((C*S(fflist(x))).column(0))\n",
    "\n",
    "def compute_emb(h1, h2):\n",
    "    m = h1.base_ring().degree()\n",
    "    n = h2.base_ring().degree()\n",
    "    l = n // m\n",
    "    i2 = rnorm(h2, m)\n",
    "    j2 = change_basis(i2, h2.parent().gen()^l, h1.parent().degree())\n",
    "    return compute_map(h1.list()[0], j2) "
   ]
  },
  {
   "cell_type": "code",
   "execution_count": 170,
   "metadata": {
    "collapsed": false,
    "deletable": true,
    "editable": true
   },
   "outputs": [
    {
     "data": {
      "text/plain": [
       "True"
      ]
     },
     "execution_count": 170,
     "metadata": {},
     "output_type": "execute_result"
    }
   ],
   "source": [
    "p = 23\n",
    "m, n, o = 15, 45, 135\n",
    "k = GF(p)\n",
    "km, Am = ext_scalars(k, m)\n",
    "hm = solve_h90(Am)\n",
    "hn = findh90(hm, n)\n",
    "ho = findh90(hn, o)\n",
    "\n",
    "f = compute_emb(hm, hn)\n",
    "g = compute_emb(hn, ho)\n",
    "h = compute_emb(hm, ho)\n",
    "\n",
    "g(f(km.gen())) == h(km.gen())"
   ]
  },
  {
   "cell_type": "code",
   "execution_count": 177,
   "metadata": {
    "collapsed": false,
    "deletable": true,
    "editable": true
   },
   "outputs": [
    {
     "name": "stdout",
     "output_type": "stream",
     "text": [
      "x^15 + 18*x^11 + 3*x^10 + 8*x^9 + 16*x^8 + 13*x^6 + 3*x^4 + 17*x^3 + 11*x^2 + 5*x + 5\n",
      "x\n",
      "x\n",
      "x^15 + 22*x^11 + 17*x^10 + 8*x^9 + 20*x^8 + 5*x^7 + 13*x^6 + 9*x^5 + 20*x^4 + 19*x^3 + 8*x^2 + 21*x + 10\n",
      "x\n",
      "x\n",
      "x^15 + 7*x^11 + 5*x^10 + 3*x^9 + 20*x^8 + 7*x^7 + 12*x^6 + 15*x^5 + 20*x^4 + 16*x^3 + 21*x^2 + 5*x + 4\n",
      "x\n",
      "x\n",
      "x^15 + 18*x^11 + 20*x^10 + 8*x^9 + 7*x^8 + 10*x^6 + 20*x^4 + 17*x^3 + 12*x^2 + 5*x + 18\n",
      "x\n",
      "x\n"
     ]
    }
   ],
   "source": [
    "for x in rnorm(hn, m).list():\n",
    "    print(x.minpoly())"
   ]
  },
  {
   "cell_type": "code",
   "execution_count": 182,
   "metadata": {
    "collapsed": false,
    "deletable": true,
    "editable": true,
    "scrolled": true
   },
   "outputs": [
    {
     "name": "stdout",
     "output_type": "stream",
     "text": [
      "x + 1\n",
      "x^15 + 21*x^11 + 2*x^10 + 6*x^9 + 6*x^8 + 19*x^7 + 18*x^6 + 3*x^5 + 13*x^4 + 20*x^3 + 17*x^2 + 4*x + 15\n",
      "x^15 + 22*x^13 + 4*x^12 + 5*x^11 + 3*x^10 + 17*x^9 + 9*x^8 + 20*x^7 + 11*x^6 + 6*x^5 + x^4 + 9*x^3 + 20*x^2 + 9*x + 21\n",
      "x^15 + 21*x^11 + 8*x^10 + 17*x^9 + 2*x^8 + 5*x^7 + 14*x^6 + 8*x^5 + 16*x^4 + 2*x^3 + 6*x^2 + 20*x + 17\n",
      "x + 22\n"
     ]
    }
   ],
   "source": [
    "for x in rnorm(hn, m).minpoly():\n",
    "    print x.minpoly()"
   ]
  },
  {
   "cell_type": "code",
   "execution_count": 183,
   "metadata": {
    "collapsed": false,
    "deletable": true,
    "editable": true,
    "scrolled": true
   },
   "outputs": [
    {
     "name": "stdout",
     "output_type": "stream",
     "text": [
      "x + 1\n",
      "x^15 + 21*x^11 + 2*x^10 + 6*x^9 + 6*x^8 + 19*x^7 + 18*x^6 + 3*x^5 + 13*x^4 + 20*x^3 + 17*x^2 + 4*x + 15\n",
      "x^15 + 22*x^13 + 4*x^12 + 5*x^11 + 3*x^10 + 17*x^9 + 9*x^8 + 20*x^7 + 11*x^6 + 6*x^5 + x^4 + 9*x^3 + 20*x^2 + 9*x + 21\n",
      "x^15 + 21*x^11 + 8*x^10 + 17*x^9 + 2*x^8 + 5*x^7 + 14*x^6 + 8*x^5 + 16*x^4 + 2*x^3 + 6*x^2 + 20*x + 17\n",
      "x + 22\n"
     ]
    }
   ],
   "source": [
    "for x in hm.minpoly():\n",
    "    print x.minpoly()"
   ]
  },
  {
   "cell_type": "markdown",
   "metadata": {
    "deletable": true,
    "editable": true
   },
   "source": [
    "# A compatibility test using CRT"
   ]
  },
  {
   "cell_type": "code",
   "execution_count": 40,
   "metadata": {
    "collapsed": false,
    "deletable": true,
    "editable": true
   },
   "outputs": [],
   "source": [
    "\"\"\"\n",
    "Test function to work around the extension F_{p^l}, F_{p^{lm}}, F_{p^{l²m²}}.\n",
    "\"\"\"\n",
    "def test_comp(p, l, m):\n",
    "    \n",
    "    start = time.clock()\n",
    "    \n",
    "    # We create the prime field, the root ζ_{l²m²}, and the field k(ζ_{l²m²})\n",
    "    \n",
    "    k = GF(p)\n",
    "    R = k['z']\n",
    "    Cyclo = cyclotomic_polynomial(l^2*m^2)\n",
    "    Zl2m2 = Cyclo.change_ring(k).factor()[0][0]\n",
    "    Cl2m2.<z> = k.extension(Zl2m2)\n",
    "    \n",
    "    # We create the other roots using ζ_{l²m²} (we are cheating a bit...)\n",
    "    \n",
    "    zl2 = z^(m^2)\n",
    "    zm2 = z^(l^2)\n",
    "    Zl2 = zl2.minpoly()\n",
    "    Zm2 = zm2.minpoly()\n",
    "    \n",
    "    zl = zl2^l\n",
    "    zm = zm2^m\n",
    "    Zl = zl.minpoly()\n",
    "    Zm = zm.minpoly()\n",
    "    \n",
    "    u1, u2 = xgcd(l, m)[1:3]\n",
    "    zlm = zl^u2 * zm^u1\n",
    "    Zlm = zlm.minpoly()\n",
    "    \n",
    "    # We create the rings and algebras\n",
    "    \n",
    "    kl2m2 = k.extension(l^2*m^2, \"x\")\n",
    "    Rl2m2 = kl2m2[\"T\"]\n",
    "    Al2m2 = Rl2m2.quo(Zl2m2)\n",
    "    \n",
    "    kl2 = k.extension(l^2, \"x\")\n",
    "    Rl2 = kl2[\"T\"]\n",
    "    Al2 = Rl2.quo(Zl2)\n",
    "\n",
    "    km2 = k.extension(m^2, \"x\")\n",
    "    Rm2 = km2[\"T\"]\n",
    "    Am2 = Rm2.quo(Zm2)\n",
    "    \n",
    "    klm = k.extension(l*m, \"x\")\n",
    "    Rlm = klm[\"T\"]\n",
    "    Alm = Rlm.quo(Zlm)\n",
    "    \n",
    "    kl = k.extension(l, \"x\")\n",
    "    Rl = kl[\"T\"]\n",
    "    Al = Rl.quo(Zl)\n",
    "    \n",
    "    km = k.extension(m, \"x\")\n",
    "    Rm = km[\"T\"]\n",
    "    Am = Rm.quo(Zm)\n",
    "    \n",
    "    # We compute the solutions of the Hilbert 90 problems in the first extension of each tower\n",
    "    \n",
    "    hl = solve_h90(Al)\n",
    "    hm = solve_h90(Am)\n",
    "    \n",
    "    # We compute compatible solutions in higher extensions of the two towers\n",
    "    ## l-adic tower\n",
    "    \n",
    "    htmpl2 = solve_h90(Al2)\n",
    "    il2 = rnorm(htmpl2, l)\n",
    "    Cl2 = k.extension(Zl2, 'x')\n",
    "    aal = hl^(l)\n",
    "    bbl = il2^(l)\n",
    "    al = R([x for x in aal.list()]).subs(Cl2.gen()^l)\n",
    "    bl = Cl2([k(x) for x in bbl.list()])\n",
    "    \n",
    "    tl = al/bl\n",
    "    cl = tl.nth_root(l^2)\n",
    "    hl2 = Al2(cl.polynomial().list())*htmpl2\n",
    "    \n",
    "    ## m-adic tower\n",
    "    \n",
    "    htmpm2 = solve_h90(Am2)\n",
    "    im2 = rnorm(htmpm2, m)\n",
    "    Cm2 = k.extension(Zm2, 'x')\n",
    "    aam = hm^(m)\n",
    "    bbm = im2^(m)\n",
    "    am = R([x for x in aam.list()]).subs(Cm2.gen()^m)\n",
    "    bm = Cm2([k(x) for x in bbm.list()])\n",
    "    \n",
    "    tm = am/bm\n",
    "    cm = tm.nth_root(m^2)\n",
    "    hm2 = Am2(cm.polynomial().list())*htmpm2\n",
    "    \n",
    "    # We compute compatible solutions in the composita\n",
    "    ## l × m\n",
    "    \n",
    "    Clm = k.extension(Zlm, 'x')\n",
    "    htmplm = solve_h90(Alm)\n",
    "    alm = Clm([k(x) for x in (htmplm^(l*m)).list()])\n",
    "    blm = Clm([k(x) for x in (hl^l).list()]).polynomial().subs(Clm.gen()^m)\n",
    "    clm = Clm([k(x) for x in (hm^m).list()]).polynomial().subs(Clm.gen()^l)\n",
    "    \n",
    "    tl_lm = (blm*alm^(-1)).nth_root(l)\n",
    "    tm_lm = (clm*alm^(-1)).nth_root(m)\n",
    "    \n",
    "    HL = Alm(tl_lm.polynomial().list())*htmplm^m\n",
    "    HM = Alm(tm_lm.polynomial().list())*htmplm^l\n",
    "    \n",
    "    print(HL, HM)\n",
    "    \n",
    "    hlm = (HL^u2)*(HM^u1)\n",
    "    \n",
    "    Tlm_m = lambda x : Alm(((clm/blm)^u2).polynomial().list())*x^l\n",
    "    Tlm_l = lambda x : Alm(((blm/clm)^u1).polynomial().list())*x^m\n",
    "    \n",
    "    ## l² × m²\n",
    "    \n",
    "    v1, v2 = xgcd(l^2, m^2)[1:3]\n",
    "    Cl2m2 = k.extension(Zl2m2, 'x')\n",
    "    \n",
    "    htmpl2m2 = solve_h90(Al2m2) #!# 2/3 of the time here\n",
    "    \n",
    "    al2m2 = Cl2m2([k(x) for x in (htmpl2m2^(l^2*m^2)).list()])\n",
    "    bl2m2 = Cl2m2([k(x) for x in (hl2^(l^2)).list()]).polynomial().subs(Cl2m2.gen()^(m^2))\n",
    "    cl2m2 = Cl2m2([k(x) for x in (hm2^(m^2)).list()]).polynomial().subs(Cl2m2.gen()^(l^2))\n",
    "    \n",
    "    tl2_l2m2 = (bl2m2*al2m2^(-1)).nth_root(l^2) \n",
    "    tm2_l2m2 = (cl2m2*al2m2^(-1)).nth_root(m^2)\n",
    "    \n",
    "    HL2 = Al2m2(tl2_l2m2.polynomial().list())*htmpl2m2^(m^2)\n",
    "    HM2 = Al2m2(tm2_l2m2.polynomial().list())*htmpl2m2^(l^2)\n",
    "    \n",
    "    hl2m2 = (HL2^v2)*(HM2^v1)\n",
    "    \n",
    "    BLM = Cl2m2([k(x) for x in (hl^l).list()]).polynomial().subs(Cl2m2.gen()^(l*m^2))\n",
    "    CLM = Cl2m2([k(x) for x in (hm^m).list()]).polynomial().subs(Cl2m2.gen()^(m*l^2))\n",
    "    \n",
    "    TLM_M = lambda x : Al2m2(((CLM/BLM)^u2).polynomial().list())*x^l\n",
    "    TLM_L = lambda x : Al2m2(((BLM/CLM)^u1).polynomial().list())*x^m\n",
    "    \n",
    "    Tl2m2_m2 = lambda x : Al2m2(((cl2m2/bl2m2)^v2).polynomial().list())*x^(l^2)\n",
    "    Tl2m2_l2 = lambda x : Al2m2(((bl2m2/cl2m2)^v1).polynomial().list())*x^(m^2)\n",
    "    \n",
    "\n",
    "    E1 = rnorm(Tl2m2_l2(hl2m2), l, l^2) # ~ hl #!# (a)\n",
    "    E2 = rnorm(Tl2m2_m2(hl2m2), m, m^2) # ~ hm #!# (a) + here: 1/3 of the time\n",
    "    \n",
    "    E3 = (E1^u2)*(E2^u1) # ~ hlm\n",
    "    E4 = TLM_L(E3) # ~ hl\n",
    "    \n",
    "    # WE HAVE E1 == E4 meaning that T_{l²m²/l} = T_{lm/l} ∘ T_{l²m²/lm}\n",
    "\n",
    "    h = compute_map(hl.list()[0], change_basis(E1, E1.parent().gen()^(l*m^2), hl.parent().degree()))\n",
    "    f = compute_map(hl.list()[0], change_basis(Tlm_l(hlm), parent(hlm).gen()^(m), hl.parent().degree()))\n",
    "    g = compute_map(hlm.list()[0], change_basis(E3, E3.parent().gen()^(l*m), hlm.parent().degree()))\n",
    "    \n",
    "    return g(f(kl.gen())) == h(kl.gen())"
   ]
  },
  {
   "cell_type": "code",
   "execution_count": 41,
   "metadata": {
    "collapsed": true,
    "deletable": true,
    "editable": true
   },
   "outputs": [],
   "source": [
    "p = 2\n",
    "k = GF(p)\n",
    "l, m = 3, 5"
   ]
  },
  {
   "cell_type": "code",
   "execution_count": 44,
   "metadata": {
    "collapsed": false,
    "deletable": true,
    "editable": true
   },
   "outputs": [
    {
     "name": "stdout",
     "output_type": "stream",
     "text": [
      "((x^14 + x^13 + x^12 + x^11 + x^10 + x^6 + x^5 + x)*Tbar^2 + (x^14 + x^13 + x^12 + x^11 + x^10 + x^6 + x^5 + x)*Tbar + x^12 + x^10 + x^9 + x^8 + x^6 + x^4, (x^14 + x^12 + x^10 + x^8 + x^5 + x^2)*Tbar^3 + (x^14 + x^13 + x^12 + x^10 + x^8 + x^7 + x^5 + x^4 + x^3 + 1)*Tbar^2 + (x^13 + x^12 + x^9 + x^8 + x^5 + x^4 + x^2 + 1)*Tbar + x^12 + x^11 + x^10 + x^7 + x^5 + x^4 + x^2 + x + 1)\n",
      "True\n",
      "((x^14 + x^13 + x^12 + x^11 + x^10 + x^6 + x^5 + x)*Tbar^2 + (x^14 + x^13 + x^12 + x^11 + x^10 + x^6 + x^5 + x)*Tbar + x^12 + x^10 + x^9 + x^8 + x^6 + x^4, (x^14 + x^11 + x^8 + x^7 + x^4 + x + 1)*Tbar^3 + (x^13 + x^7 + x^4 + x^3 + x^2 + 1)*Tbar^2 + (x^14 + x^10 + x^9 + x^7 + x^3 + x^2)*Tbar + x^13 + x^12 + x^9 + x^8 + x^5 + x^4 + x^2 + 1)\n",
      "True\n",
      "((x^14 + x^13 + x^12 + x^11 + x^10 + x^6 + x^5 + x)*Tbar^2 + (x^14 + x^13 + x^12 + x^11 + x^10 + x^6 + x^5 + x)*Tbar + x^12 + x^10 + x^9 + x^8 + x^6 + x^4, (x^13 + x^7 + x^4 + x^3 + x^2 + 1)*Tbar^3 + (x^14 + x^10 + x^9 + x^7 + x^3 + x^2)*Tbar^2 + (x^14 + x^13 + x^12 + x^11 + x^9 + x^7 + x^5 + x^2 + x)*Tbar + x^14 + x^11 + x^8 + x^7 + x^4 + x + 1)\n",
      "True\n",
      "((x^14 + x^13 + x^11 + x^9 + x^8 + x^5 + x^4 + x)*Tbar^2 + (x^14 + x^13 + x^11 + x^9 + x^8 + x^5 + x^4 + x)*Tbar + x^14 + x^13 + x^12 + x^11 + x^10 + x^6 + x^5 + x, (x^11 + x^10 + x^9 + x^8 + x^4 + x^3 + x^2 + x + 1)*Tbar^3 + (x^14 + x^12 + x^11 + x^9 + x^5 + x^4 + x^3 + x + 1)*Tbar^2 + (x^13 + x^11 + x^10 + x^9 + x^8 + x^7 + x)*Tbar + x^12 + x^9 + x^8 + x^7 + x^5 + x^3)\n",
      "True\n",
      "((x^14 + x^13 + x^11 + x^9 + x^8 + x^5 + x^4 + x)*Tbar^2 + (x^14 + x^13 + x^11 + x^9 + x^8 + x^5 + x^4 + x)*Tbar + x^14 + x^13 + x^12 + x^11 + x^10 + x^6 + x^5 + x, (x^14 + x^13 + x^12 + x^11 + x^9 + x^7 + x^5 + x^2 + x)*Tbar^3 + (x^14 + x^13 + x^11 + x^8 + x^3 + x^2 + x)*Tbar^2 + (x^14 + x^13 + x^10 + x^9 + x^4 + 1)*Tbar + x^14 + x^10 + x^9 + x^7 + x^3 + x^2)\n",
      "True\n",
      "((x^12 + x^10 + x^9 + x^8 + x^6 + x^4)*Tbar^2 + (x^12 + x^10 + x^9 + x^8 + x^6 + x^4)*Tbar + x^14 + x^13 + x^11 + x^9 + x^8 + x^5 + x^4 + x, (x^12 + x^9 + x^8 + x^7 + x^5 + x^3)*Tbar^3 + (x^11 + x^10 + x^9 + x^8 + x^4 + x^3 + x^2 + x + 1)*Tbar^2 + (x^14 + x^12 + x^11 + x^9 + x^5 + x^4 + x^3 + x + 1)*Tbar + x^13 + x^12 + x^11 + x^10 + x^5 + x^3 + x)\n",
      "True\n",
      "((x^14 + x^13 + x^11 + x^9 + x^8 + x^5 + x^4 + x)*Tbar^2 + (x^14 + x^13 + x^11 + x^9 + x^8 + x^5 + x^4 + x)*Tbar + x^14 + x^13 + x^12 + x^11 + x^10 + x^6 + x^5 + x, (x^14 + x^11 + x^8 + x^7 + x^4 + x + 1)*Tbar^3 + (x^13 + x^7 + x^4 + x^3 + x^2 + 1)*Tbar^2 + (x^14 + x^10 + x^9 + x^7 + x^3 + x^2)*Tbar + x^13 + x^12 + x^9 + x^8 + x^5 + x^4 + x^2 + 1)\n",
      "True\n",
      "((x^14 + x^13 + x^11 + x^9 + x^8 + x^5 + x^4 + x)*Tbar^2 + (x^14 + x^13 + x^11 + x^9 + x^8 + x^5 + x^4 + x)*Tbar + x^14 + x^13 + x^12 + x^11 + x^10 + x^6 + x^5 + x, (x^14 + x^12 + x^11 + x^9 + x^5 + x^4 + x^3 + x + 1)*Tbar^3 + (x^13 + x^11 + x^10 + x^9 + x^8 + x^7 + x)*Tbar^2 + (x^12 + x^11 + x^10 + x^7 + x^5 + x^4 + x^2 + x + 1)*Tbar + x^11 + x^10 + x^9 + x^8 + x^4 + x^3 + x^2 + x + 1)\n",
      "True\n"
     ]
    },
    {
     "ename": "ZeroDivisionError",
     "evalue": "division by zero in finite field",
     "output_type": "error",
     "traceback": [
      "\u001b[1;31m---------------------------------------------------------------------------\u001b[0m",
      "\u001b[1;31mZeroDivisionError\u001b[0m                         Traceback (most recent call last)",
      "\u001b[1;32m<ipython-input-44-62beb41290cc>\u001b[0m in \u001b[0;36m<module>\u001b[1;34m()\u001b[0m\n\u001b[0;32m      1\u001b[0m \u001b[1;32mfor\u001b[0m \u001b[0mi\u001b[0m \u001b[1;32min\u001b[0m \u001b[0mrange\u001b[0m\u001b[1;33m(\u001b[0m\u001b[0mInteger\u001b[0m\u001b[1;33m(\u001b[0m\u001b[1;36m10\u001b[0m\u001b[1;33m)\u001b[0m\u001b[1;33m)\u001b[0m\u001b[1;33m:\u001b[0m\u001b[1;33m\u001b[0m\u001b[0m\n\u001b[1;32m----> 2\u001b[1;33m     \u001b[1;32mprint\u001b[0m \u001b[0mtest_comp\u001b[0m\u001b[1;33m(\u001b[0m\u001b[0mp\u001b[0m\u001b[1;33m,\u001b[0m \u001b[0ml\u001b[0m\u001b[1;33m,\u001b[0m \u001b[0mm\u001b[0m\u001b[1;33m)\u001b[0m\u001b[1;33m\u001b[0m\u001b[0m\n\u001b[0m",
      "\u001b[1;32m<ipython-input-40-7aab2de22202>\u001b[0m in \u001b[0;36mtest_comp\u001b[1;34m(p, l, m)\u001b[0m\n\u001b[0;32m     99\u001b[0m     \u001b[0mclm\u001b[0m \u001b[1;33m=\u001b[0m \u001b[0mClm\u001b[0m\u001b[1;33m(\u001b[0m\u001b[1;33m[\u001b[0m\u001b[0mk\u001b[0m\u001b[1;33m(\u001b[0m\u001b[0mx\u001b[0m\u001b[1;33m)\u001b[0m \u001b[1;32mfor\u001b[0m \u001b[0mx\u001b[0m \u001b[1;32min\u001b[0m \u001b[1;33m(\u001b[0m\u001b[0mhm\u001b[0m\u001b[1;33m**\u001b[0m\u001b[0mm\u001b[0m\u001b[1;33m)\u001b[0m\u001b[1;33m.\u001b[0m\u001b[0mlist\u001b[0m\u001b[1;33m(\u001b[0m\u001b[1;33m)\u001b[0m\u001b[1;33m]\u001b[0m\u001b[1;33m)\u001b[0m\u001b[1;33m.\u001b[0m\u001b[0mpolynomial\u001b[0m\u001b[1;33m(\u001b[0m\u001b[1;33m)\u001b[0m\u001b[1;33m.\u001b[0m\u001b[0msubs\u001b[0m\u001b[1;33m(\u001b[0m\u001b[0mClm\u001b[0m\u001b[1;33m.\u001b[0m\u001b[0mgen\u001b[0m\u001b[1;33m(\u001b[0m\u001b[1;33m)\u001b[0m\u001b[1;33m**\u001b[0m\u001b[0ml\u001b[0m\u001b[1;33m)\u001b[0m\u001b[1;33m\u001b[0m\u001b[0m\n\u001b[0;32m    100\u001b[0m \u001b[1;33m\u001b[0m\u001b[0m\n\u001b[1;32m--> 101\u001b[1;33m     \u001b[0mtl_lm\u001b[0m \u001b[1;33m=\u001b[0m \u001b[1;33m(\u001b[0m\u001b[0mblm\u001b[0m\u001b[1;33m*\u001b[0m\u001b[0malm\u001b[0m\u001b[1;33m**\u001b[0m\u001b[1;33m(\u001b[0m\u001b[1;33m-\u001b[0m\u001b[0mInteger\u001b[0m\u001b[1;33m(\u001b[0m\u001b[1;36m1\u001b[0m\u001b[1;33m)\u001b[0m\u001b[1;33m)\u001b[0m\u001b[1;33m)\u001b[0m\u001b[1;33m.\u001b[0m\u001b[0mnth_root\u001b[0m\u001b[1;33m(\u001b[0m\u001b[0ml\u001b[0m\u001b[1;33m)\u001b[0m\u001b[1;33m\u001b[0m\u001b[0m\n\u001b[0m\u001b[0;32m    102\u001b[0m     \u001b[0mtm_lm\u001b[0m \u001b[1;33m=\u001b[0m \u001b[1;33m(\u001b[0m\u001b[0mclm\u001b[0m\u001b[1;33m*\u001b[0m\u001b[0malm\u001b[0m\u001b[1;33m**\u001b[0m\u001b[1;33m(\u001b[0m\u001b[1;33m-\u001b[0m\u001b[0mInteger\u001b[0m\u001b[1;33m(\u001b[0m\u001b[1;36m1\u001b[0m\u001b[1;33m)\u001b[0m\u001b[1;33m)\u001b[0m\u001b[1;33m)\u001b[0m\u001b[1;33m.\u001b[0m\u001b[0mnth_root\u001b[0m\u001b[1;33m(\u001b[0m\u001b[0mm\u001b[0m\u001b[1;33m)\u001b[0m\u001b[1;33m\u001b[0m\u001b[0m\n\u001b[0;32m    103\u001b[0m \u001b[1;33m\u001b[0m\u001b[0m\n",
      "\u001b[1;32m/home/erou/sage/src/sage/rings/finite_rings/element_givaro.pyx\u001b[0m in \u001b[0;36msage.rings.finite_rings.element_givaro.FiniteField_givaroElement.__pow__ (build/cythonized/sage/rings/finite_rings/element_givaro.cpp:13434)\u001b[1;34m()\u001b[0m\n\u001b[0;32m   1283\u001b[0m         \u001b[1;32melif\u001b[0m \u001b[1;33m(\u001b[0m\u001b[0mcache\u001b[0m\u001b[1;33m.\u001b[0m\u001b[0mobjectptr\u001b[0m\u001b[1;33m)\u001b[0m\u001b[1;33m.\u001b[0m\u001b[0misZero\u001b[0m\u001b[1;33m(\u001b[0m\u001b[0mself\u001b[0m\u001b[1;33m.\u001b[0m\u001b[0melement\u001b[0m\u001b[1;33m)\u001b[0m\u001b[1;33m:\u001b[0m\u001b[1;33m\u001b[0m\u001b[0m\n\u001b[0;32m   1284\u001b[0m             \u001b[1;32mif\u001b[0m \u001b[0mexp\u001b[0m \u001b[1;33m<\u001b[0m \u001b[1;36m0\u001b[0m\u001b[1;33m:\u001b[0m\u001b[1;33m\u001b[0m\u001b[0m\n\u001b[1;32m-> 1285\u001b[1;33m                 \u001b[1;32mraise\u001b[0m \u001b[0mZeroDivisionError\u001b[0m\u001b[1;33m(\u001b[0m\u001b[1;34m'division by zero in finite field'\u001b[0m\u001b[1;33m)\u001b[0m\u001b[1;33m\u001b[0m\u001b[0m\n\u001b[0m\u001b[0;32m   1286\u001b[0m             \u001b[1;32mreturn\u001b[0m \u001b[0mmake_FiniteField_givaroElement\u001b[0m\u001b[1;33m(\u001b[0m\u001b[0mcache\u001b[0m\u001b[1;33m,\u001b[0m \u001b[0mcache\u001b[0m\u001b[1;33m.\u001b[0m\u001b[0mobjectptr\u001b[0m\u001b[1;33m.\u001b[0m\u001b[0mzero\u001b[0m\u001b[1;33m)\u001b[0m\u001b[1;33m\u001b[0m\u001b[0m\n\u001b[0;32m   1287\u001b[0m \u001b[1;33m\u001b[0m\u001b[0m\n",
      "\u001b[1;31mZeroDivisionError\u001b[0m: division by zero in finite field"
     ]
    }
   ],
   "source": [
    "for i in range(10):\n",
    "    print test_comp(p, l, m)"
   ]
  },
  {
   "cell_type": "code",
   "execution_count": 24,
   "metadata": {
    "collapsed": false,
    "deletable": true,
    "editable": true
   },
   "outputs": [
    {
     "data": {
      "text/plain": [
       "20"
      ]
     },
     "execution_count": 24,
     "metadata": {},
     "output_type": "execute_result"
    }
   ],
   "source": [
    "cyclo_deg(GF(2), 5^2)"
   ]
  },
  {
   "cell_type": "code",
   "execution_count": 60,
   "metadata": {
    "collapsed": false,
    "deletable": true,
    "editable": true
   },
   "outputs": [],
   "source": [
    "K.<x> = k.extension(l)"
   ]
  },
  {
   "cell_type": "code",
   "execution_count": 27,
   "metadata": {
    "collapsed": false,
    "deletable": true,
    "editable": true
   },
   "outputs": [],
   "source": [
    "import time"
   ]
  },
  {
   "cell_type": "code",
   "execution_count": 49,
   "metadata": {
    "collapsed": false,
    "deletable": true,
    "editable": true
   },
   "outputs": [
    {
     "name": "stdout",
     "output_type": "stream",
     "text": [
      "x + 7\n",
      "x^3 + 21*x + 15\n",
      "x + 22\n"
     ]
    }
   ],
   "source": [
    "for x in hl.minpoly():\n",
    "    print x.minpoly()"
   ]
  },
  {
   "cell_type": "code",
   "execution_count": 20,
   "metadata": {
    "collapsed": false,
    "deletable": true,
    "editable": true
   },
   "outputs": [
    {
     "name": "stdout",
     "output_type": "stream",
     "text": [
      "x + 8\n",
      "x^3 + x + 4\n",
      "x + 22\n"
     ]
    }
   ],
   "source": []
  },
  {
   "cell_type": "code",
   "execution_count": 37,
   "metadata": {
    "collapsed": false,
    "deletable": true,
    "editable": true
   },
   "outputs": [
    {
     "data": {
      "text/plain": [
       "x^3 + 4*x + 9"
      ]
     },
     "execution_count": 37,
     "metadata": {},
     "output_type": "execute_result"
    }
   ],
   "source": [
    "g.minpoly()"
   ]
  },
  {
   "cell_type": "code",
   "execution_count": 39,
   "metadata": {
    "collapsed": false,
    "deletable": true,
    "editable": true
   },
   "outputs": [
    {
     "data": {
      "text/plain": [
       "x^3 + 4*x + 9"
      ]
     },
     "execution_count": 39,
     "metadata": {},
     "output_type": "execute_result"
    }
   ],
   "source": [
    "hl[0].minpoly()"
   ]
  },
  {
   "cell_type": "code",
   "execution_count": 37,
   "metadata": {
    "collapsed": false,
    "deletable": true,
    "editable": true
   },
   "outputs": [
    {
     "name": "stdout",
     "output_type": "stream",
     "text": [
      "x + 19\n",
      "x^5 + 18*x^3 + 17*x^2 + 14*x + 15\n",
      "x^5 + 16*x^4 + 21*x^3 + 11*x^2 + 9*x + 12\n",
      "x^5 + 16*x^3 + 4*x^2 + 15*x + 21\n",
      "x + 22\n"
     ]
    }
   ],
   "source": [
    "for x in HL.minpoly():\n",
    "    print x.minpoly()"
   ]
  },
  {
   "cell_type": "code",
   "execution_count": 35,
   "metadata": {
    "collapsed": false,
    "deletable": true,
    "editable": true
   },
   "outputs": [
    {
     "data": {
      "text/plain": [
       "True"
      ]
     },
     "execution_count": 35,
     "metadata": {},
     "output_type": "execute_result"
    }
   ],
   "source": [
    "HL == T(hlm)"
   ]
  },
  {
   "cell_type": "code",
   "execution_count": 34,
   "metadata": {
    "collapsed": false,
    "deletable": true,
    "editable": true
   },
   "outputs": [
    {
     "name": "stdout",
     "output_type": "stream",
     "text": [
      "c\n"
     ]
    }
   ],
   "source": [
    "if not 0:\n",
    "    print \"c\""
   ]
  },
  {
   "cell_type": "code",
   "execution_count": 17,
   "metadata": {
    "collapsed": false,
    "deletable": true,
    "editable": true
   },
   "outputs": [],
   "source": [
    "M.<x,y> = PolynomialRing(QQ, \"x, y\", order = 'lex')"
   ]
  },
  {
   "cell_type": "code",
   "execution_count": 18,
   "metadata": {
    "collapsed": false,
    "deletable": true,
    "editable": true
   },
   "outputs": [
    {
     "data": {
      "text/plain": [
       "False"
      ]
     },
     "execution_count": 18,
     "metadata": {},
     "output_type": "execute_result"
    }
   ],
   "source": [
    "x <y "
   ]
  },
  {
   "cell_type": "code",
   "execution_count": 19,
   "metadata": {
    "collapsed": false,
    "deletable": true,
    "editable": true
   },
   "outputs": [
    {
     "data": {
      "text/plain": [
       "True"
      ]
     },
     "execution_count": 19,
     "metadata": {},
     "output_type": "execute_result"
    }
   ],
   "source": [
    "x > y\n"
   ]
  },
  {
   "cell_type": "code",
   "execution_count": 20,
   "metadata": {
    "collapsed": true,
    "deletable": true,
    "editable": true
   },
   "outputs": [],
   "source": [
    "P = x*y - x -y"
   ]
  },
  {
   "cell_type": "code",
   "execution_count": 21,
   "metadata": {
    "collapsed": false,
    "deletable": true,
    "editable": true
   },
   "outputs": [
    {
     "data": {
      "text/plain": [
       "0"
      ]
     },
     "execution_count": 21,
     "metadata": {},
     "output_type": "execute_result"
    }
   ],
   "source": [
    "x^10 % P % x^3 "
   ]
  },
  {
   "cell_type": "code",
   "execution_count": 22,
   "metadata": {
    "collapsed": false,
    "deletable": true,
    "editable": true
   },
   "outputs": [
    {
     "data": {
      "text/plain": [
       "x^10"
      ]
     },
     "execution_count": 22,
     "metadata": {},
     "output_type": "execute_result"
    }
   ],
   "source": [
    "x^10 % P"
   ]
  },
  {
   "cell_type": "code",
   "execution_count": 23,
   "metadata": {
    "collapsed": false,
    "deletable": true,
    "editable": true
   },
   "outputs": [
    {
     "data": {
      "text/plain": [
       "y^10"
      ]
     },
     "execution_count": 23,
     "metadata": {},
     "output_type": "execute_result"
    }
   ],
   "source": [
    "y^10 % P\n"
   ]
  },
  {
   "cell_type": "code",
   "execution_count": 29,
   "metadata": {
    "collapsed": false,
    "deletable": true,
    "editable": true
   },
   "outputs": [
    {
     "name": "stdout",
     "output_type": "stream",
     "text": [
      "\u001b[33mpip is configured with locations that require TLS/SSL, however the ssl module in Python is not available.\u001b[0m\n",
      "Collecting openssl\n",
      "  Could not fetch URL https://pypi.python.org/simple/openssl/: There was a problem confirming the ssl certificate: Can't connect to HTTPS URL because the SSL module is not available. - skipping\n",
      "\u001b[31m  Could not find a version that satisfies the requirement openssl (from versions: )\u001b[0m\n",
      "\u001b[31mNo matching distribution found for openssl\u001b[0m\n"
     ]
    }
   ],
   "source": [
    "! pip install openssl"
   ]
  },
  {
   "cell_type": "code",
   "execution_count": 26,
   "metadata": {
    "collapsed": false,
    "deletable": true,
    "editable": true
   },
   "outputs": [
    {
     "name": "stdout",
     "output_type": "stream",
     "text": [
      "Solving environment: - \b\b\\ \b\b| \b\b/ \b\b- \b\b\\ \b\b| \b\b/ \b\b- \b\b\\ \b\b| \b\b/ \b\b- \b\b\\ \b\b| \b\b/ \b\b- \b\b\\ \b\b| \b\b/ \b\b- \b\b\\ \b\b| \b\b/ \b\b- \b\b\\ \b\b| \b\b/ \b\b- \b\b\\ \b\b| \b\b/ \b\b- \b\b\\ \b\b| \b\b/ \b\b- \b\b\\ \b\b| \b\b/ \b\b- \b\b\\ \b\b| \b\b/ \b\b- \b\b\\ \b\b| \b\b/ \b\b- \b\b\\ \b\b| \b\b/ \b\b- \b\b\\ \b\b| \b\b/ \b\b- \b\b\\ \b\b| \b\b/ \b\b- \b\b\\ \b\b| \b\b/ \b\b- \b\b\\ \b\b| \b\b/ \b\b- \b\b\\ \b\b| \b\b/ \b\b- \b\b\\ \b\b| \b\b/ \b\b- \b\b\\ \b\b| \b\b/ \b\b- \b\b\\ \b\bfailed\n",
      "\n",
      "PackagesNotFoundError: The following packages are not available from current channels:\n",
      "\n",
      "  - line-profiler\n",
      "\n",
      "Current channels:\n",
      "\n",
      "  - https://repo.anaconda.com/pkgs/main/linux-64\n",
      "  - https://repo.anaconda.com/pkgs/main/noarch\n",
      "  - https://repo.anaconda.com/pkgs/free/linux-64\n",
      "  - https://repo.anaconda.com/pkgs/free/noarch\n",
      "  - https://repo.anaconda.com/pkgs/r/linux-64\n",
      "  - https://repo.anaconda.com/pkgs/r/noarch\n",
      "  - https://repo.anaconda.com/pkgs/pro/linux-64\n",
      "  - https://repo.anaconda.com/pkgs/pro/noarch\n",
      "\n",
      "To search for alternate channels that may provide the conda package you're\n",
      "looking for, navigate to\n",
      "\n",
      "    https://anaconda.org\n",
      "\n",
      "and use the search bar at the top of the page.\n",
      "\n",
      "\n"
     ]
    }
   ],
   "source": [
    "! conda install line-profiler"
   ]
  },
  {
   "cell_type": "markdown",
   "metadata": {
    "collapsed": true,
    "deletable": true,
    "editable": true
   },
   "source": [
    "# Profiling"
   ]
  },
  {
   "cell_type": "code",
   "execution_count": 10,
   "metadata": {
    "collapsed": false,
    "deletable": true,
    "editable": true
   },
   "outputs": [
    {
     "name": "stdout",
     "output_type": "stream",
     "text": [
      "CPU times: user 10.9 s, sys: 32 ms, total: 11 s\n",
      "Wall time: 11 s\n"
     ]
    }
   ],
   "source": [
    "%time K, A = ext_scalars(GF(23), 225)"
   ]
  },
  {
   "cell_type": "code",
   "execution_count": 16,
   "metadata": {
    "collapsed": false,
    "deletable": true,
    "editable": true
   },
   "outputs": [
    {
     "data": {
      "text/plain": [
       "60"
      ]
     },
     "execution_count": 16,
     "metadata": {},
     "output_type": "execute_result"
    }
   ],
   "source": [
    "A.degree()"
   ]
  },
  {
   "cell_type": "code",
   "execution_count": 17,
   "metadata": {
    "collapsed": false,
    "deletable": true,
    "editable": true
   },
   "outputs": [
    {
     "data": {
      "text/plain": [
       "13500"
      ]
     },
     "execution_count": 17,
     "metadata": {},
     "output_type": "execute_result"
    }
   ],
   "source": [
    "60*225"
   ]
  },
  {
   "cell_type": "code",
   "execution_count": 20,
   "metadata": {
    "collapsed": false,
    "deletable": true,
    "editable": true
   },
   "outputs": [
    {
     "name": "stdout",
     "output_type": "stream",
     "text": [
      "CPU times: user 2.8 s, sys: 12 ms, total: 2.81 s\n",
      "Wall time: 2.8 s\n"
     ]
    },
    {
     "data": {
      "text/plain": [
       "(19*x^224 + 19*x^223 + 22*x^222 + 9*x^221 + 9*x^219 + 10*x^217 + 5*x^216 + 6*x^215 + 13*x^214 + 9*x^213 + 18*x^212 + 11*x^211 + x^210 + 8*x^209 + 13*x^208 + 17*x^207 + 9*x^206 + 9*x^205 + 18*x^204 + 2*x^203 + 22*x^202 + 3*x^201 + 10*x^199 + 8*x^198 + 10*x^197 + x^196 + 21*x^194 + 13*x^193 + 9*x^192 + 2*x^191 + 10*x^190 + 16*x^189 + 20*x^188 + 14*x^187 + 8*x^186 + 7*x^185 + 8*x^184 + 9*x^183 + 17*x^182 + 17*x^181 + 3*x^180 + 2*x^179 + 12*x^178 + 10*x^177 + 5*x^176 + 15*x^175 + 13*x^172 + 14*x^171 + 10*x^170 + 16*x^169 + 4*x^168 + 11*x^166 + 2*x^164 + 15*x^163 + 5*x^162 + 5*x^161 + 21*x^160 + 9*x^159 + 19*x^158 + 18*x^157 + 4*x^156 + 14*x^155 + x^154 + 11*x^153 + 20*x^152 + 14*x^151 + 10*x^150 + 12*x^149 + 17*x^148 + 22*x^147 + 10*x^146 + 17*x^145 + 14*x^144 + 5*x^143 + 20*x^142 + 2*x^141 + 15*x^140 + 10*x^139 + 11*x^138 + 4*x^137 + 4*x^136 + 8*x^135 + 17*x^134 + 8*x^133 + 2*x^132 + 13*x^131 + 20*x^130 + 8*x^129 + 21*x^128 + 6*x^127 + 21*x^126 + 6*x^125 + 11*x^124 + 9*x^123 + 13*x^122 + 15*x^121 + 21*x^120 + 8*x^119 + 14*x^118 + 6*x^117 + 3*x^116 + 21*x^115 + x^114 + 16*x^113 + 19*x^112 + 2*x^111 + 5*x^110 + 4*x^109 + 9*x^108 + 15*x^107 + 17*x^106 + 2*x^105 + 5*x^104 + 17*x^103 + 2*x^102 + 11*x^101 + 21*x^100 + 14*x^99 + 19*x^98 + 3*x^97 + 3*x^96 + 11*x^95 + 9*x^94 + 6*x^93 + 8*x^92 + 10*x^91 + 21*x^90 + 19*x^89 + x^88 + 8*x^87 + 10*x^86 + x^85 + 15*x^84 + 15*x^83 + 22*x^82 + 13*x^81 + 9*x^80 + 15*x^79 + 21*x^78 + 15*x^76 + 13*x^75 + 15*x^74 + 6*x^73 + x^72 + 10*x^71 + 20*x^70 + x^69 + 4*x^68 + 17*x^67 + 4*x^66 + 20*x^65 + 3*x^64 + 5*x^63 + 5*x^62 + 6*x^61 + 19*x^60 + 21*x^59 + 20*x^58 + 11*x^57 + 13*x^56 + 7*x^55 + 2*x^54 + 20*x^53 + 2*x^52 + 19*x^51 + 2*x^50 + 19*x^48 + 6*x^47 + 8*x^46 + 16*x^45 + 12*x^44 + 7*x^43 + 18*x^42 + 13*x^41 + 20*x^40 + x^39 + 15*x^38 + 10*x^37 + 6*x^36 + 8*x^35 + x^34 + 10*x^33 + 5*x^32 + 21*x^30 + 10*x^29 + 5*x^28 + 12*x^27 + 10*x^26 + 5*x^24 + 3*x^23 + 6*x^22 + 14*x^21 + 12*x^20 + 10*x^19 + 21*x^18 + 4*x^17 + 11*x^16 + 22*x^15 + 8*x^13 + 11*x^12 + 14*x^11 + 20*x^10 + 16*x^9 + 3*x^8 + 4*x^7 + 22*x^6 + 9*x^5 + 2*x^4 + 2*x^3 + 22*x^2 + 3*x + 6)*z^59 + (6*x^224 + 6*x^223 + 17*x^222 + 5*x^221 + 9*x^220 + 21*x^219 + x^217 + 15*x^216 + 10*x^215 + 22*x^214 + 13*x^213 + 2*x^212 + 4*x^211 + 3*x^210 + 12*x^209 + 17*x^208 + 16*x^207 + 5*x^206 + 7*x^205 + 6*x^204 + 19*x^203 + 6*x^202 + 6*x^201 + 12*x^200 + 5*x^199 + 3*x^198 + 6*x^196 + 7*x^194 + 2*x^193 + 15*x^192 + 13*x^191 + 11*x^190 + 5*x^189 + 19*x^188 + 11*x^187 + 12*x^186 + 7*x^185 + 17*x^184 + 3*x^183 + 8*x^182 + 13*x^181 + 10*x^180 + 17*x^179 + 5*x^178 + 12*x^177 + 11*x^176 + 6*x^175 + 10*x^174 + 15*x^173 + 11*x^172 + 20*x^171 + 22*x^170 + 20*x^169 + 6*x^168 + 14*x^167 + 19*x^166 + 10*x^165 + 14*x^164 + 14*x^163 + x^162 + 16*x^161 + x^159 + 16*x^158 + 4*x^157 + 18*x^156 + 5*x^155 + 15*x^154 + 6*x^153 + 21*x^152 + 5*x^151 + 6*x^150 + 10*x^149 + 22*x^148 + 16*x^147 + 20*x^146 + 6*x^145 + 9*x^144 + 9*x^143 + 6*x^142 + x^141 + 12*x^140 + 21*x^139 + 22*x^138 + 19*x^137 + 12*x^136 + 15*x^135 + 3*x^134 + 8*x^133 + 2*x^132 + 18*x^131 + 21*x^130 + 3*x^129 + 5*x^128 + 4*x^127 + 2*x^125 + 11*x^124 + x^123 + 22*x^121 + 5*x^120 + 22*x^119 + 3*x^118 + 22*x^117 + 11*x^116 + 3*x^115 + 11*x^114 + 12*x^113 + 15*x^112 + 4*x^111 + x^110 + 4*x^109 + 3*x^108 + 12*x^106 + 13*x^105 + 6*x^104 + 5*x^103 + 11*x^102 + 22*x^101 + 2*x^100 + 14*x^99 + 21*x^98 + 19*x^97 + 9*x^96 + 15*x^94 + 8*x^93 + x^92 + x^91 + 10*x^90 + 2*x^89 + 21*x^88 + 2*x^86 + 10*x^85 + 3*x^84 + 13*x^83 + 4*x^82 + 14*x^81 + 11*x^80 + 3*x^79 + 9*x^78 + 21*x^77 + 18*x^76 + 7*x^75 + 5*x^74 + 22*x^73 + 15*x^72 + 19*x^71 + 12*x^70 + 5*x^69 + 22*x^68 + x^66 + 13*x^65 + 11*x^64 + 3*x^63 + 18*x^62 + 10*x^61 + 14*x^60 + 20*x^59 + 9*x^58 + 22*x^57 + 15*x^56 + 6*x^55 + 8*x^54 + 19*x^53 + 14*x^52 + 5*x^51 + 8*x^50 + 17*x^49 + 4*x^48 + 21*x^47 + 5*x^46 + 16*x^45 + 19*x^44 + 21*x^43 + 10*x^42 + 12*x^41 + 7*x^40 + 11*x^39 + 4*x^38 + 22*x^37 + 7*x^36 + 17*x^35 + 5*x^34 + 6*x^33 + 6*x^32 + 15*x^31 + 8*x^30 + 13*x^29 + 20*x^28 + 4*x^27 + 5*x^26 + 14*x^25 + 11*x^24 + 19*x^23 + 8*x^22 + 14*x^21 + 7*x^20 + 2*x^19 + 6*x^18 + 22*x^17 + 22*x^16 + 20*x^15 + 16*x^14 + 12*x^13 + 4*x^12 + 16*x^11 + 19*x^10 + 8*x^9 + 2*x^8 + 18*x^7 + 3*x^5 + 20*x^3 + 5*x^2 + 8*x + 7)*z^58 + (17*x^224 + 4*x^223 + 14*x^222 + 7*x^221 + 4*x^220 + 21*x^219 + 3*x^218 + 5*x^217 + 14*x^216 + 16*x^215 + 4*x^214 + 19*x^213 + 14*x^212 + 18*x^211 + 5*x^210 + 18*x^209 + 15*x^208 + 5*x^207 + 16*x^206 + 4*x^205 + 8*x^204 + 17*x^203 + 18*x^202 + 4*x^201 + 15*x^200 + 4*x^199 + 17*x^198 + 3*x^197 + 12*x^196 + 12*x^195 + 22*x^194 + 21*x^193 + 3*x^192 + 6*x^191 + 14*x^190 + 15*x^189 + 21*x^188 + 14*x^187 + 20*x^186 + 22*x^185 + 21*x^184 + 17*x^183 + 15*x^182 + 3*x^181 + 15*x^180 + 11*x^179 + 22*x^178 + 11*x^177 + 19*x^176 + 8*x^175 + 21*x^174 + 17*x^173 + 19*x^172 + 8*x^171 + 21*x^170 + 2*x^168 + 21*x^167 + 3*x^166 + 17*x^165 + 8*x^164 + 21*x^163 + 17*x^162 + 6*x^161 + 2*x^160 + 12*x^159 + 9*x^158 + 20*x^157 + 18*x^156 + 2*x^155 + 10*x^154 + 14*x^153 + 8*x^152 + 10*x^151 + 22*x^150 + 21*x^149 + 11*x^148 + 18*x^147 + 22*x^146 + x^144 + 16*x^143 + 13*x^142 + 10*x^141 + 4*x^140 + 15*x^139 + 9*x^138 + 11*x^137 + 15*x^136 + 3*x^135 + 19*x^133 + 11*x^132 + 17*x^131 + 11*x^130 + 3*x^129 + 10*x^128 + 18*x^127 + 14*x^126 + 14*x^125 + 12*x^124 + 10*x^123 + 18*x^122 + x^121 + 22*x^120 + 13*x^119 + 16*x^118 + 3*x^117 + 2*x^116 + 4*x^115 + 9*x^114 + 21*x^113 + 3*x^112 + 4*x^111 + 18*x^110 + 17*x^109 + 16*x^108 + 4*x^107 + 4*x^106 + x^105 + 20*x^104 + 15*x^103 + 2*x^102 + 5*x^101 + 21*x^100 + 9*x^99 + 7*x^98 + 20*x^97 + 6*x^95 + 14*x^94 + 12*x^93 + 21*x^92 + 14*x^91 + 2*x^90 + 6*x^89 + x^88 + 20*x^87 + 17*x^85 + 2*x^84 + 9*x^83 + 12*x^82 + 19*x^81 + 21*x^80 + x^79 + 9*x^78 + 10*x^77 + 4*x^76 + 10*x^75 + 9*x^74 + 2*x^73 + 15*x^72 + x^71 + 16*x^69 + 8*x^68 + 4*x^67 + 7*x^66 + 9*x^65 + 17*x^64 + 15*x^63 + 20*x^62 + 17*x^61 + x^60 + 21*x^59 + 7*x^58 + 2*x^57 + 15*x^56 + 19*x^55 + 19*x^54 + 9*x^53 + 20*x^52 + 14*x^51 + 12*x^49 + 2*x^48 + 10*x^47 + 5*x^46 + 20*x^45 + 8*x^44 + 15*x^43 + 7*x^42 + 8*x^41 + 13*x^40 + 12*x^39 + 7*x^38 + 4*x^37 + 14*x^36 + 7*x^35 + 18*x^34 + 9*x^33 + 5*x^32 + x^31 + x^29 + 9*x^28 + 19*x^27 + 6*x^26 + 10*x^25 + 15*x^24 + 19*x^23 + 14*x^22 + 11*x^21 + 2*x^19 + 9*x^18 + 18*x^17 + 5*x^16 + 2*x^15 + 18*x^14 + 2*x^13 + 11*x^12 + 17*x^11 + 19*x^10 + 7*x^9 + x^8 + 14*x^7 + 22*x^6 + 18*x^5 + 22*x^4 + x^3 + 14*x^2 + 5*x + 16)*z^57 + (8*x^224 + 3*x^223 + 6*x^222 + 18*x^221 + 18*x^220 + 6*x^219 + 5*x^218 + 9*x^217 + 7*x^216 + 12*x^215 + 22*x^214 + 21*x^213 + 3*x^212 + 22*x^211 + 3*x^210 + 13*x^209 + 9*x^208 + x^207 + 20*x^206 + 13*x^205 + 7*x^204 + 8*x^203 + 7*x^202 + 15*x^201 + 2*x^200 + 5*x^199 + 15*x^198 + 5*x^197 + 4*x^196 + 12*x^194 + 8*x^193 + 10*x^192 + 11*x^191 + x^190 + 18*x^189 + 11*x^188 + 19*x^187 + 19*x^186 + 20*x^185 + 11*x^184 + 16*x^183 + 5*x^182 + 14*x^181 + 9*x^180 + x^179 + 13*x^177 + 2*x^176 + x^175 + 12*x^174 + 5*x^173 + 20*x^172 + 9*x^171 + 18*x^170 + 13*x^169 + 20*x^168 + 9*x^167 + 3*x^166 + 2*x^165 + 7*x^164 + 18*x^163 + 9*x^162 + 22*x^161 + 11*x^160 + 4*x^159 + 18*x^158 + 11*x^157 + 12*x^156 + 4*x^155 + 10*x^154 + 3*x^153 + 12*x^152 + 20*x^151 + 16*x^149 + 7*x^148 + 14*x^147 + 17*x^146 + 14*x^144 + 7*x^143 + 19*x^142 + 2*x^141 + 3*x^140 + x^139 + 5*x^138 + 17*x^137 + 16*x^136 + 5*x^135 + 8*x^134 + 4*x^133 + 22*x^132 + 15*x^131 + 13*x^130 + x^129 + x^128 + 6*x^127 + 10*x^126 + 16*x^125 + 8*x^124 + 14*x^123 + 19*x^121 + x^120 + 6*x^119 + 4*x^118 + 15*x^117 + 12*x^116 + 21*x^115 + 11*x^114 + 3*x^113 + 4*x^111 + 19*x^110 + 13*x^109 + 15*x^108 + 15*x^107 + 20*x^106 + 2*x^105 + 7*x^104 + 17*x^103 + 6*x^102 + 22*x^101 + 16*x^100 + 6*x^99 + 21*x^98 + 8*x^97 + 20*x^96 + 6*x^95 + 21*x^94 + 8*x^93 + 12*x^92 + 15*x^91 + 2*x^90 + 19*x^89 + 15*x^88 + 3*x^87 + 9*x^86 + x^85 + 6*x^84 + 7*x^83 + 21*x^82 + 6*x^81 + 5*x^80 + 16*x^79 + 21*x^78 + 7*x^77 + 19*x^76 + 21*x^75 + 13*x^74 + x^73 + x^72 + 17*x^71 + 14*x^70 + 18*x^69 + 9*x^68 + 9*x^67 + 19*x^66 + 19*x^65 + 7*x^64 + 10*x^63 + 20*x^62 + 19*x^61 + 12*x^60 + 21*x^59 + 22*x^58 + 9*x^57 + 11*x^56 + 11*x^55 + 4*x^54 + 22*x^53 + 5*x^52 + 8*x^51 + 13*x^49 + 11*x^48 + 22*x^47 + 9*x^46 + 17*x^45 + 5*x^44 + 16*x^43 + 12*x^42 + 5*x^41 + 15*x^40 + 6*x^38 + 13*x^37 + 18*x^35 + 9*x^34 + 21*x^32 + 6*x^31 + 8*x^30 + 16*x^29 + 8*x^28 + 6*x^27 + 21*x^26 + 14*x^25 + 11*x^24 + 16*x^23 + 12*x^22 + 14*x^21 + 16*x^20 + 3*x^19 + 6*x^18 + 14*x^17 + x^16 + 12*x^15 + 14*x^14 + 17*x^13 + 8*x^12 + 20*x^11 + 12*x^10 + 8*x^9 + 19*x^8 + 22*x^7 + 11*x^6 + 10*x^5 + 5*x^4 + 8*x^2 + 19*x + 2)*z^56 + (16*x^224 + 21*x^223 + 21*x^222 + 9*x^221 + 2*x^220 + 15*x^219 + 20*x^218 + 19*x^217 + 5*x^216 + 8*x^215 + x^214 + 3*x^212 + 2*x^211 + 22*x^210 + 8*x^209 + 12*x^208 + 20*x^207 + 20*x^206 + 13*x^205 + 11*x^204 + 14*x^203 + 15*x^202 + 6*x^201 + 19*x^200 + 12*x^199 + 20*x^198 + 8*x^197 + 8*x^196 + 8*x^195 + 11*x^194 + 13*x^193 + 20*x^192 + 3*x^191 + 22*x^190 + 22*x^189 + 20*x^188 + 20*x^187 + 21*x^186 + 16*x^185 + 2*x^184 + 19*x^183 + 5*x^182 + x^181 + 16*x^180 + 15*x^179 + 20*x^178 + 22*x^177 + 14*x^176 + 11*x^175 + 16*x^174 + 8*x^173 + 12*x^172 + 22*x^171 + 4*x^170 + 19*x^169 + 3*x^168 + 19*x^167 + 8*x^166 + 13*x^165 + 9*x^164 + 15*x^163 + 11*x^162 + 5*x^161 + 11*x^160 + 3*x^159 + 5*x^158 + 22*x^157 + 10*x^156 + 9*x^155 + 21*x^154 + 9*x^153 + 7*x^152 + 3*x^151 + 15*x^150 + 13*x^149 + 7*x^148 + 18*x^147 + x^146 + 22*x^145 + 21*x^144 + 3*x^143 + 8*x^142 + 11*x^141 + 5*x^140 + 10*x^139 + 20*x^138 + 13*x^137 + 13*x^136 + 7*x^135 + 2*x^134 + 18*x^133 + 20*x^132 + 21*x^131 + 18*x^130 + x^129 + 7*x^128 + 21*x^127 + 18*x^126 + 13*x^125 + 2*x^124 + 19*x^123 + 21*x^122 + 16*x^121 + 4*x^120 + 15*x^119 + 7*x^118 + 19*x^117 + 20*x^116 + 2*x^115 + 6*x^114 + 7*x^113 + 20*x^112 + 18*x^111 + 12*x^110 + 15*x^109 + 20*x^108 + 22*x^107 + 12*x^106 + 10*x^105 + 16*x^104 + 5*x^103 + 13*x^102 + 10*x^101 + 20*x^100 + x^99 + 4*x^98 + x^97 + 15*x^96 + 16*x^95 + 15*x^94 + 4*x^93 + 3*x^92 + 5*x^91 + 11*x^90 + 19*x^89 + 22*x^88 + 10*x^86 + 6*x^85 + 3*x^84 + 5*x^83 + 14*x^82 + 5*x^81 + 10*x^80 + 8*x^78 + 11*x^77 + 3*x^76 + 14*x^75 + 4*x^74 + 13*x^73 + 20*x^72 + 20*x^71 + 2*x^70 + 8*x^69 + 11*x^68 + 9*x^67 + 4*x^66 + 19*x^65 + 13*x^64 + 12*x^63 + 10*x^62 + 5*x^61 + 14*x^60 + 9*x^59 + 20*x^58 + 9*x^57 + 14*x^56 + 11*x^55 + 14*x^54 + 3*x^53 + 9*x^52 + 12*x^51 + 2*x^50 + x^49 + 3*x^48 + 22*x^47 + 19*x^46 + 5*x^45 + 15*x^44 + 16*x^43 + x^41 + 8*x^40 + 12*x^39 + 20*x^38 + 16*x^37 + 8*x^36 + 5*x^35 + 5*x^34 + 3*x^33 + 16*x^32 + 3*x^31 + 11*x^30 + 10*x^29 + 12*x^28 + 9*x^27 + 14*x^26 + 9*x^25 + 19*x^24 + 3*x^23 + 16*x^22 + 12*x^21 + 17*x^20 + 14*x^19 + 22*x^18 + 9*x^17 + 10*x^16 + 16*x^15 + 17*x^13 + 15*x^11 + 20*x^10 + 2*x^9 + 20*x^8 + 10*x^7 + 10*x^6 + 16*x^5 + 20*x^4 + 17*x^3 + 13*x^2 + 5*x + 8)*z^55 + (18*x^223 + 21*x^222 + 2*x^221 + 12*x^220 + 20*x^219 + 11*x^218 + 16*x^217 + 22*x^216 + 10*x^215 + 7*x^214 + 6*x^213 + 5*x^212 + 9*x^211 + 16*x^210 + 6*x^209 + 3*x^208 + 6*x^207 + 6*x^206 + 17*x^205 + 9*x^204 + 11*x^203 + 12*x^202 + x^201 + 22*x^199 + 14*x^198 + 19*x^197 + 13*x^196 + x^195 + 8*x^194 + 5*x^193 + 19*x^191 + 8*x^190 + 9*x^188 + 20*x^187 + x^186 + 5*x^185 + 10*x^184 + 18*x^183 + 14*x^182 + 14*x^181 + 11*x^180 + 12*x^179 + x^178 + 13*x^177 + 16*x^176 + 17*x^175 + 11*x^174 + x^173 + 18*x^172 + 9*x^170 + 6*x^169 + 11*x^168 + 7*x^167 + 13*x^166 + 4*x^165 + 22*x^164 + 22*x^163 + 5*x^162 + 6*x^161 + x^160 + 9*x^159 + 16*x^158 + 5*x^157 + 9*x^155 + 10*x^154 + 11*x^153 + 5*x^152 + 20*x^151 + 13*x^150 + 4*x^149 + 17*x^148 + 10*x^147 + 13*x^146 + 20*x^145 + 2*x^144 + 18*x^143 + 17*x^142 + 17*x^141 + 7*x^140 + 22*x^139 + 18*x^138 + 20*x^134 + 12*x^133 + 7*x^132 + 17*x^131 + 22*x^130 + 19*x^129 + 15*x^128 + 17*x^127 + 4*x^126 + 4*x^125 + 21*x^124 + 2*x^123 + x^122 + 4*x^121 + 14*x^120 + 11*x^119 + 19*x^118 + 14*x^117 + 3*x^116 + 20*x^115 + 9*x^114 + 21*x^113 + x^112 + 19*x^111 + 6*x^110 + 8*x^109 + 9*x^108 + 22*x^107 + 8*x^106 + 15*x^105 + 11*x^103 + 22*x^102 + 13*x^100 + 15*x^99 + 19*x^98 + 15*x^97 + 2*x^96 + 17*x^95 + 22*x^94 + 21*x^93 + 9*x^92 + 12*x^91 + 12*x^90 + 17*x^89 + 12*x^88 + 9*x^87 + 22*x^86 + 14*x^85 + 13*x^84 + 15*x^83 + 15*x^82 + 14*x^80 + 5*x^79 + 18*x^78 + 10*x^77 + 22*x^76 + 6*x^75 + 11*x^74 + 10*x^73 + 7*x^72 + 5*x^71 + 2*x^70 + 10*x^69 + 11*x^68 + 10*x^67 + 18*x^66 + 20*x^65 + 18*x^64 + 9*x^63 + 18*x^62 + 7*x^61 + 6*x^60 + 20*x^59 + 6*x^58 + 4*x^57 + 15*x^56 + 13*x^55 + 10*x^54 + 14*x^53 + 15*x^52 + 6*x^51 + 21*x^50 + 14*x^49 + 21*x^48 + 11*x^47 + 18*x^46 + 3*x^45 + 14*x^44 + 4*x^43 + 15*x^42 + 12*x^41 + 12*x^40 + 21*x^39 + 12*x^38 + 11*x^37 + 18*x^36 + 11*x^35 + 4*x^34 + 17*x^31 + 16*x^30 + 5*x^29 + 4*x^28 + 21*x^27 + 15*x^26 + 20*x^25 + x^24 + 14*x^23 + 12*x^22 + 12*x^21 + 2*x^20 + 10*x^19 + 22*x^18 + 14*x^17 + 17*x^16 + 21*x^15 + 21*x^14 + 22*x^13 + 6*x^11 + 5*x^10 + 11*x^9 + 14*x^8 + 3*x^7 + 5*x^6 + 16*x^5 + 17*x^4 + 4*x^3 + 22*x^2 + 9*x + 21)*z^54 + (22*x^224 + 22*x^223 + 18*x^222 + 10*x^221 + 10*x^220 + 8*x^219 + 22*x^218 + 7*x^217 + 14*x^216 + x^215 + 18*x^214 + 10*x^213 + 21*x^211 + 22*x^210 + 8*x^209 + 19*x^208 + 12*x^207 + 16*x^206 + 22*x^205 + 21*x^204 + 19*x^202 + 13*x^201 + 20*x^200 + x^199 + 2*x^198 + 9*x^196 + 15*x^195 + 11*x^194 + 18*x^193 + 19*x^192 + 7*x^191 + 2*x^190 + 2*x^189 + 9*x^188 + 8*x^187 + 3*x^186 + 22*x^185 + 9*x^184 + 22*x^183 + 16*x^182 + 2*x^181 + 14*x^180 + 3*x^179 + 11*x^178 + 15*x^177 + 12*x^176 + 16*x^175 + 20*x^174 + 17*x^173 + 21*x^172 + 20*x^171 + 11*x^170 + 6*x^169 + 15*x^168 + 8*x^167 + 16*x^166 + 4*x^165 + 4*x^164 + 12*x^163 + 5*x^162 + 3*x^161 + 22*x^160 + 2*x^159 + 13*x^157 + 2*x^156 + 6*x^155 + 9*x^154 + 12*x^153 + 17*x^152 + 22*x^151 + 9*x^150 + 5*x^149 + 22*x^148 + 5*x^147 + 14*x^146 + 8*x^145 + 22*x^144 + 13*x^143 + 3*x^142 + 21*x^141 + 21*x^140 + 13*x^139 + 2*x^138 + 13*x^137 + 3*x^136 + x^135 + 7*x^134 + 7*x^132 + 22*x^131 + 20*x^130 + 8*x^129 + 2*x^128 + 11*x^127 + 19*x^126 + 14*x^125 + 13*x^124 + 14*x^123 + 5*x^122 + 12*x^121 + 13*x^120 + 13*x^119 + 11*x^118 + x^117 + 8*x^116 + 5*x^115 + 18*x^114 + 21*x^113 + 19*x^112 + 18*x^111 + 8*x^110 + 13*x^109 + 19*x^108 + 22*x^107 + 16*x^106 + 3*x^105 + 19*x^104 + 14*x^103 + 18*x^102 + 16*x^101 + 2*x^100 + 3*x^99 + 17*x^98 + 21*x^97 + 6*x^96 + 2*x^95 + 5*x^94 + 10*x^93 + 21*x^92 + 12*x^91 + 19*x^90 + 2*x^89 + x^88 + 21*x^87 + 2*x^86 + 18*x^85 + 14*x^84 + 21*x^83 + 18*x^82 + 19*x^81 + 11*x^80 + 19*x^79 + 19*x^78 + 13*x^77 + 13*x^76 + 15*x^75 + 14*x^74 + 11*x^73 + 18*x^72 + 8*x^71 + 22*x^70 + 8*x^69 + 16*x^68 + 15*x^67 + 19*x^66 + 3*x^65 + 8*x^64 + 21*x^63 + 2*x^62 + 8*x^61 + 6*x^60 + 16*x^59 + 16*x^58 + 11*x^57 + 14*x^56 + 20*x^55 + 18*x^54 + 16*x^53 + 9*x^52 + 15*x^51 + 22*x^50 + 10*x^49 + 16*x^48 + 6*x^47 + 17*x^46 + 19*x^45 + 10*x^44 + 5*x^43 + 3*x^42 + 10*x^41 + 9*x^40 + 6*x^39 + 18*x^38 + 22*x^37 + 16*x^36 + 11*x^35 + 11*x^34 + 22*x^33 + 6*x^32 + 21*x^31 + 15*x^30 + 13*x^29 + 22*x^28 + 4*x^27 + 8*x^26 + 16*x^25 + 6*x^24 + 16*x^23 + 10*x^22 + 19*x^21 + 18*x^20 + x^19 + 8*x^18 + 12*x^17 + 4*x^16 + 3*x^15 + x^14 + 10*x^13 + 5*x^12 + 18*x^11 + 6*x^10 + 19*x^9 + 10*x^8 + 20*x^7 + 3*x^6 + 5*x^5 + 9*x^4 + 4*x^3 + 6*x^2 + 9*x + 1)*z^53 + (16*x^224 + 18*x^223 + 17*x^221 + 12*x^220 + 7*x^219 + 10*x^218 + 6*x^216 + x^215 + x^214 + 15*x^213 + 2*x^212 + 14*x^211 + 14*x^210 + 2*x^209 + 8*x^208 + 16*x^207 + 5*x^206 + 20*x^205 + 5*x^204 + 4*x^203 + 20*x^202 + 13*x^201 + 4*x^200 + 3*x^199 + 22*x^198 + 11*x^197 + 20*x^196 + 12*x^195 + 21*x^194 + 13*x^193 + 19*x^192 + 3*x^191 + 10*x^190 + 14*x^189 + 9*x^188 + 18*x^187 + x^186 + 4*x^185 + 2*x^184 + 20*x^183 + 7*x^182 + 16*x^181 + x^180 + 22*x^179 + 21*x^178 + 12*x^176 + 5*x^175 + 3*x^174 + 13*x^173 + 5*x^172 + 20*x^171 + 18*x^170 + 4*x^169 + 12*x^168 + 9*x^167 + 7*x^166 + 12*x^165 + 21*x^164 + 10*x^162 + x^161 + x^160 + 2*x^159 + 15*x^158 + 16*x^157 + 9*x^156 + 20*x^155 + 12*x^154 + 10*x^153 + 9*x^152 + 15*x^151 + 15*x^150 + 13*x^149 + 22*x^148 + 4*x^147 + 6*x^146 + 16*x^145 + 19*x^144 + 3*x^143 + 15*x^142 + 2*x^141 + 22*x^140 + 16*x^139 + 8*x^138 + 2*x^137 + 16*x^135 + 15*x^134 + 13*x^133 + 3*x^132 + 7*x^131 + 21*x^130 + 4*x^129 + 9*x^128 + 22*x^127 + 13*x^126 + 19*x^125 + 4*x^124 + 7*x^123 + 7*x^122 + 18*x^121 + 14*x^120 + 5*x^119 + 19*x^118 + 16*x^117 + 16*x^116 + 15*x^115 + 18*x^114 + 20*x^113 + 21*x^112 + 3*x^111 + 17*x^110 + 15*x^109 + 9*x^108 + 19*x^107 + 4*x^105 + 21*x^104 + 22*x^103 + 2*x^102 + 11*x^101 + 12*x^100 + 8*x^99 + 9*x^98 + 13*x^97 + 12*x^96 + 19*x^95 + 17*x^94 + 20*x^93 + 20*x^92 + 16*x^91 + 18*x^90 + 2*x^89 + 3*x^88 + 15*x^87 + 9*x^86 + 5*x^85 + 17*x^84 + 8*x^83 + 7*x^82 + 14*x^81 + 21*x^80 + 8*x^78 + 15*x^77 + 15*x^76 + 18*x^75 + 3*x^74 + 22*x^73 + 11*x^72 + 6*x^71 + 7*x^70 + 17*x^68 + 17*x^67 + 14*x^66 + 20*x^65 + 6*x^64 + 3*x^63 + 10*x^62 + 14*x^61 + 10*x^60 + 19*x^59 + x^58 + 5*x^57 + 7*x^56 + 2*x^55 + 3*x^54 + 13*x^53 + 9*x^52 + 13*x^51 + 2*x^50 + 12*x^49 + 3*x^48 + 6*x^46 + 15*x^45 + 17*x^44 + 6*x^43 + 21*x^42 + 20*x^41 + 16*x^40 + 22*x^39 + 21*x^38 + 13*x^37 + 2*x^36 + 22*x^35 + 13*x^34 + 17*x^33 + 11*x^31 + 20*x^30 + 21*x^29 + 7*x^28 + 8*x^27 + 5*x^26 + x^25 + 3*x^24 + 2*x^23 + 4*x^22 + 2*x^21 + x^20 + 6*x^19 + 6*x^18 + 19*x^16 + 18*x^15 + x^14 + 3*x^13 + 16*x^12 + 3*x^11 + 17*x^10 + 17*x^9 + 8*x^8 + 10*x^7 + 4*x^6 + 16*x^5 + 14*x^4 + 22*x^3 + 21*x^2 + 20*x + 9)*z^52 + (16*x^224 + 13*x^223 + 12*x^222 + 10*x^220 + 10*x^219 + 21*x^218 + 12*x^217 + x^216 + 7*x^215 + 12*x^214 + 16*x^213 + 8*x^212 + x^211 + 2*x^210 + 2*x^209 + 10*x^206 + 9*x^205 + 14*x^204 + 6*x^203 + 20*x^202 + 15*x^201 + 22*x^200 + 10*x^199 + 2*x^198 + 18*x^197 + 13*x^196 + 9*x^195 + 18*x^194 + 17*x^193 + 8*x^192 + 12*x^191 + 8*x^190 + 19*x^189 + 17*x^188 + 20*x^187 + 6*x^186 + x^185 + 21*x^184 + 4*x^183 + 22*x^182 + 4*x^181 + 2*x^180 + 8*x^179 + 19*x^178 + 14*x^177 + 6*x^176 + 10*x^175 + 12*x^174 + 20*x^172 + 16*x^171 + 21*x^170 + 7*x^169 + 22*x^168 + 2*x^167 + 21*x^166 + 16*x^165 + 6*x^164 + 17*x^163 + 22*x^162 + 15*x^161 + 3*x^160 + 19*x^159 + 12*x^158 + 22*x^157 + 7*x^156 + 8*x^155 + 19*x^154 + 15*x^153 + 9*x^152 + 21*x^151 + 4*x^150 + 17*x^147 + 14*x^146 + 17*x^145 + 19*x^143 + 12*x^142 + 5*x^141 + 4*x^139 + 17*x^138 + 8*x^137 + 11*x^136 + 5*x^135 + 18*x^134 + 17*x^133 + 20*x^132 + 22*x^131 + 10*x^130 + 3*x^129 + 20*x^128 + 12*x^127 + 7*x^126 + 22*x^125 + 5*x^124 + 11*x^123 + 12*x^122 + 15*x^121 + 5*x^120 + 21*x^119 + 11*x^118 + 17*x^117 + 10*x^116 + 5*x^115 + 8*x^114 + 15*x^113 + 4*x^112 + 11*x^111 + 10*x^109 + 15*x^108 + 13*x^107 + 19*x^106 + 13*x^105 + 16*x^104 + 13*x^103 + 16*x^102 + 11*x^101 + 20*x^100 + 5*x^99 + 16*x^98 + 8*x^97 + 14*x^96 + x^95 + 6*x^93 + 15*x^92 + 16*x^91 + 17*x^90 + 16*x^89 + 11*x^88 + 13*x^87 + 18*x^86 + 16*x^85 + 15*x^84 + 9*x^83 + 20*x^82 + 12*x^81 + 17*x^80 + 7*x^79 + 19*x^77 + 11*x^76 + 22*x^75 + 18*x^74 + 13*x^73 + 3*x^72 + 14*x^71 + 6*x^70 + 20*x^69 + 14*x^68 + 10*x^67 + 21*x^66 + x^65 + 3*x^64 + 19*x^63 + 17*x^62 + 8*x^61 + 22*x^60 + 16*x^59 + 8*x^58 + 10*x^57 + 21*x^56 + 21*x^55 + 5*x^54 + x^53 + 20*x^52 + 7*x^51 + 20*x^50 + 11*x^49 + 22*x^48 + 9*x^47 + 10*x^46 + 4*x^45 + 14*x^44 + 8*x^43 + 21*x^42 + 2*x^41 + x^40 + 22*x^39 + 15*x^38 + 7*x^37 + 20*x^36 + 17*x^35 + 12*x^34 + 21*x^32 + 17*x^31 + 2*x^30 + 6*x^29 + 17*x^28 + 18*x^27 + 3*x^26 + 16*x^25 + 19*x^24 + 12*x^23 + 4*x^22 + 9*x^21 + 12*x^20 + x^19 + 2*x^18 + 4*x^17 + 17*x^16 + 10*x^15 + x^14 + 16*x^13 + 7*x^12 + 20*x^11 + 11*x^10 + 15*x^9 + 13*x^8 + 13*x^7 + 16*x^6 + 5*x^5 + 20*x^4 + 18*x^3 + 15*x^2)*z^51 + (19*x^224 + 21*x^223 + 21*x^222 + 12*x^221 + 12*x^220 + 8*x^219 + 15*x^218 + 4*x^217 + 7*x^216 + 3*x^215 + 19*x^213 + 2*x^212 + 5*x^211 + 22*x^210 + 11*x^209 + 8*x^208 + 13*x^207 + x^206 + 5*x^205 + 21*x^204 + 12*x^203 + 22*x^202 + 8*x^201 + 17*x^200 + 3*x^199 + 20*x^198 + 16*x^197 + 7*x^196 + 11*x^195 + 4*x^194 + 15*x^193 + 4*x^192 + 9*x^191 + 2*x^190 + 5*x^189 + 18*x^187 + 14*x^186 + 4*x^185 + x^184 + 10*x^183 + 8*x^182 + 13*x^181 + 3*x^180 + 12*x^179 + 15*x^178 + 10*x^177 + 6*x^176 + 16*x^175 + 3*x^174 + 22*x^173 + 14*x^172 + 16*x^171 + 21*x^170 + 3*x^169 + 4*x^168 + 9*x^167 + 10*x^166 + 13*x^165 + 3*x^164 + 19*x^163 + 16*x^162 + 16*x^161 + 10*x^160 + 18*x^159 + 6*x^158 + x^157 + 5*x^156 + x^155 + 21*x^154 + x^153 + 18*x^151 + 7*x^149 + 15*x^148 + 17*x^147 + 2*x^146 + 12*x^145 + 22*x^144 + 6*x^143 + 17*x^141 + 22*x^140 + 11*x^139 + 2*x^138 + 5*x^137 + 2*x^136 + 21*x^135 + 18*x^134 + 3*x^133 + 20*x^132 + 5*x^131 + 17*x^130 + 22*x^129 + 13*x^128 + 22*x^127 + 11*x^126 + 18*x^125 + 8*x^124 + 17*x^123 + 13*x^122 + 8*x^121 + 22*x^120 + 20*x^119 + 12*x^118 + 16*x^117 + 7*x^116 + 13*x^115 + 7*x^114 + 4*x^113 + 16*x^112 + 14*x^111 + 22*x^110 + 14*x^109 + 8*x^108 + 3*x^107 + 3*x^106 + 17*x^105 + 10*x^104 + 10*x^103 + 18*x^102 + 10*x^101 + 17*x^100 + 7*x^99 + 2*x^98 + 8*x^97 + 22*x^96 + 12*x^95 + 22*x^94 + 22*x^93 + 20*x^92 + 13*x^91 + 5*x^90 + 5*x^89 + 10*x^88 + 21*x^87 + 2*x^86 + 5*x^85 + 4*x^84 + x^83 + 2*x^82 + 2*x^81 + 9*x^80 + 6*x^79 + 11*x^78 + 14*x^77 + 9*x^76 + 13*x^75 + 13*x^74 + 19*x^73 + x^72 + 13*x^71 + 3*x^70 + 8*x^69 + 16*x^65 + 17*x^64 + 20*x^63 + 17*x^62 + 10*x^61 + 12*x^60 + 2*x^59 + 20*x^58 + 18*x^57 + 19*x^56 + 20*x^55 + 13*x^54 + 22*x^52 + 10*x^51 + 16*x^50 + 21*x^49 + 9*x^48 + 11*x^47 + 11*x^46 + 5*x^45 + 5*x^44 + 22*x^43 + 2*x^42 + 16*x^41 + 10*x^40 + 11*x^39 + 3*x^38 + 19*x^37 + 17*x^36 + 9*x^35 + 13*x^34 + 22*x^33 + 19*x^32 + 13*x^31 + 16*x^30 + 11*x^29 + 16*x^28 + 16*x^27 + 4*x^26 + 20*x^25 + 4*x^24 + 9*x^23 + 16*x^22 + 21*x^21 + 4*x^20 + 11*x^19 + 19*x^18 + 11*x^17 + 15*x^16 + 6*x^15 + 10*x^14 + 9*x^13 + 13*x^12 + 3*x^11 + 16*x^10 + 18*x^8 + 4*x^7 + 4*x^6 + 21*x^5 + 5*x^4 + 11*x^3 + 9*x + 7)*z^50 + (x^224 + 15*x^223 + 2*x^222 + 2*x^221 + 2*x^220 + 12*x^219 + 20*x^217 + 22*x^216 + 19*x^215 + 15*x^214 + 6*x^213 + 17*x^212 + 9*x^211 + 22*x^210 + 11*x^209 + 16*x^208 + 9*x^207 + 8*x^206 + 10*x^205 + 8*x^204 + 15*x^203 + 6*x^202 + 10*x^201 + 13*x^200 + 14*x^199 + 13*x^198 + 13*x^197 + 7*x^196 + 16*x^195 + 17*x^194 + 15*x^193 + 17*x^192 + 17*x^191 + 8*x^190 + 15*x^189 + 8*x^188 + 8*x^187 + x^186 + x^185 + 20*x^183 + 6*x^182 + 7*x^181 + 10*x^180 + 20*x^179 + x^178 + 12*x^177 + 13*x^176 + 17*x^175 + 22*x^174 + x^173 + 21*x^172 + 19*x^171 + 9*x^170 + 21*x^169 + 21*x^167 + 9*x^166 + 22*x^165 + 5*x^164 + 5*x^163 + 16*x^162 + 7*x^161 + 9*x^160 + 4*x^159 + 9*x^158 + 5*x^157 + 20*x^156 + 5*x^155 + 22*x^154 + 9*x^153 + 21*x^152 + 4*x^151 + 5*x^150 + 10*x^149 + 10*x^148 + 20*x^147 + 22*x^146 + 20*x^145 + 3*x^144 + 13*x^143 + 3*x^142 + 6*x^141 + 16*x^140 + 8*x^139 + 22*x^138 + 17*x^137 + 13*x^136 + 7*x^135 + 4*x^134 + 5*x^133 + 22*x^132 + 20*x^131 + 16*x^130 + 20*x^129 + 10*x^128 + 6*x^127 + 18*x^126 + 15*x^125 + 6*x^124 + 22*x^123 + 11*x^122 + 9*x^121 + x^120 + 7*x^119 + 19*x^118 + 9*x^117 + 20*x^116 + 13*x^115 + 3*x^114 + 2*x^113 + 5*x^112 + 8*x^111 + 20*x^110 + 20*x^109 + x^108 + 8*x^107 + 3*x^106 + 18*x^105 + 17*x^104 + x^103 + 11*x^102 + 5*x^101 + 7*x^100 + 13*x^99 + 21*x^98 + 12*x^97 + 4*x^96 + 17*x^95 + 11*x^94 + 7*x^93 + 9*x^92 + x^91 + 19*x^90 + 2*x^89 + 18*x^88 + 6*x^87 + 12*x^86 + 14*x^85 + 3*x^84 + 21*x^83 + 19*x^82 + 21*x^81 + 21*x^80 + 14*x^79 + 20*x^78 + 5*x^77 + 18*x^76 + 5*x^75 + 6*x^74 + 11*x^73 + 7*x^72 + 21*x^71 + 10*x^70 + 3*x^69 + 9*x^68 + 12*x^67 + 16*x^66 + 13*x^65 + 12*x^64 + 10*x^63 + 20*x^62 + 20*x^61 + 20*x^60 + x^59 + 21*x^58 + 16*x^57 + 19*x^56 + 9*x^55 + 11*x^54 + 15*x^53 + 11*x^51 + 13*x^50 + 6*x^49 + 12*x^48 + 6*x^47 + 22*x^46 + 8*x^45 + 10*x^44 + 20*x^43 + 4*x^42 + 5*x^41 + 2*x^40 + 9*x^39 + 6*x^38 + 2*x^37 + 2*x^36 + 22*x^35 + x^34 + 16*x^33 + 2*x^32 + 19*x^31 + 16*x^30 + 8*x^29 + 2*x^28 + 14*x^27 + 3*x^26 + 12*x^25 + 10*x^24 + 17*x^23 + 16*x^22 + 21*x^20 + 8*x^19 + 14*x^18 + 7*x^17 + 17*x^16 + 13*x^15 + 11*x^14 + 12*x^13 + 13*x^12 + 19*x^11 + 9*x^10 + 12*x^9 + 20*x^8 + 9*x^7 + 9*x^6 + 5*x^5 + 19*x^4 + 13*x^3 + 14*x^2 + 16*x + 18)*z^49 + (5*x^224 + 22*x^223 + 14*x^222 + 17*x^221 + 15*x^220 + 20*x^219 + 16*x^218 + 16*x^217 + 14*x^216 + x^215 + 2*x^214 + 5*x^212 + x^211 + 10*x^210 + 14*x^209 + 7*x^208 + 7*x^207 + 2*x^206 + 19*x^205 + 8*x^204 + 5*x^203 + x^202 + 16*x^201 + 20*x^200 + 19*x^199 + 6*x^197 + 3*x^196 + 11*x^195 + 8*x^194 + 20*x^193 + 19*x^192 + 13*x^191 + 15*x^190 + 14*x^189 + 18*x^188 + 21*x^187 + 9*x^186 + 13*x^185 + 21*x^184 + 16*x^183 + 6*x^182 + 12*x^180 + 7*x^179 + 10*x^178 + 2*x^177 + 17*x^175 + 8*x^174 + 6*x^172 + x^171 + 17*x^170 + 13*x^169 + 13*x^168 + 16*x^167 + 9*x^166 + 7*x^165 + 10*x^164 + 5*x^163 + x^162 + x^161 + 10*x^160 + 5*x^159 + 11*x^158 + 7*x^157 + x^156 + 17*x^155 + 13*x^154 + 17*x^153 + 16*x^152 + 7*x^151 + x^150 + 22*x^149 + 19*x^148 + 19*x^147 + 5*x^146 + 9*x^145 + 20*x^144 + 17*x^143 + 19*x^142 + 7*x^141 + 10*x^140 + 17*x^139 + 11*x^138 + 22*x^137 + 11*x^136 + 13*x^135 + 18*x^134 + 14*x^133 + 11*x^132 + 13*x^131 + 10*x^130 + 5*x^129 + 8*x^128 + 16*x^127 + 7*x^126 + 17*x^125 + 17*x^124 + 9*x^123 + 14*x^122 + 11*x^121 + 20*x^119 + 6*x^118 + 20*x^117 + 10*x^116 + 6*x^115 + 10*x^114 + 10*x^113 + 3*x^111 + 22*x^110 + 14*x^109 + 21*x^107 + 19*x^106 + 2*x^105 + 16*x^104 + 4*x^103 + 6*x^102 + 19*x^101 + 18*x^100 + 14*x^98 + 15*x^97 + 15*x^96 + 9*x^95 + 22*x^94 + 11*x^93 + 8*x^92 + 13*x^91 + x^89 + 12*x^88 + 5*x^87 + 2*x^86 + 21*x^85 + 13*x^84 + 13*x^83 + 8*x^82 + 4*x^81 + x^80 + 7*x^79 + 18*x^78 + 19*x^77 + 16*x^76 + 20*x^75 + x^74 + 8*x^73 + 11*x^72 + 6*x^71 + 13*x^70 + 6*x^69 + 14*x^68 + 3*x^67 + 21*x^66 + 12*x^65 + 13*x^64 + 5*x^63 + 10*x^62 + 7*x^61 + 6*x^60 + 17*x^59 + 11*x^58 + 5*x^56 + 10*x^55 + 7*x^54 + 7*x^53 + 2*x^52 + 7*x^51 + 5*x^50 + 21*x^49 + 2*x^48 + 16*x^47 + 18*x^46 + 21*x^45 + 12*x^44 + 2*x^43 + 19*x^42 + x^41 + 15*x^40 + 9*x^39 + 9*x^38 + 16*x^37 + 2*x^36 + 10*x^35 + 21*x^34 + 3*x^33 + 14*x^32 + 3*x^31 + 2*x^30 + 16*x^28 + 12*x^27 + 18*x^26 + 10*x^25 + 11*x^24 + 21*x^23 + x^22 + 3*x^21 + 20*x^20 + 17*x^19 + x^18 + 13*x^17 + 16*x^16 + 18*x^15 + 18*x^14 + 22*x^13 + 6*x^12 + 2*x^11 + 9*x^10 + 22*x^9 + 15*x^8 + 8*x^7 + 13*x^6 + 21*x^5 + 4*x^4 + 19*x^3 + 4*x + 19)*z^48 + (x^224 + 11*x^223 + 9*x^222 + 3*x^221 + 17*x^220 + 10*x^219 + 16*x^218 + 8*x^217 + 4*x^216 + 3*x^215 + 3*x^214 + 6*x^213 + 4*x^212 + 15*x^211 + 10*x^210 + 12*x^209 + 19*x^208 + 7*x^207 + 2*x^206 + 16*x^205 + 3*x^204 + 11*x^203 + 4*x^202 + 22*x^201 + 16*x^200 + 20*x^199 + 11*x^198 + 16*x^197 + 12*x^196 + 19*x^195 + x^194 + 15*x^193 + 7*x^192 + 4*x^191 + 10*x^190 + 6*x^189 + 22*x^188 + 22*x^187 + 10*x^186 + 22*x^185 + 14*x^184 + 22*x^183 + 11*x^182 + 16*x^181 + 15*x^179 + 2*x^178 + 19*x^177 + 2*x^176 + 21*x^175 + 20*x^174 + 15*x^173 + 6*x^172 + 11*x^171 + 9*x^170 + 14*x^169 + 19*x^168 + 3*x^166 + 11*x^165 + 6*x^164 + 18*x^163 + 10*x^162 + 6*x^161 + 12*x^160 + 15*x^159 + 14*x^158 + 18*x^157 + 20*x^156 + 19*x^155 + 4*x^154 + 19*x^153 + 10*x^152 + 22*x^151 + 7*x^150 + 5*x^149 + 14*x^148 + 13*x^147 + 19*x^146 + 13*x^145 + 21*x^144 + 16*x^143 + 16*x^141 + 5*x^140 + 10*x^139 + 4*x^138 + 6*x^137 + 21*x^136 + 16*x^135 + 9*x^134 + 22*x^133 + 12*x^132 + 12*x^131 + 14*x^130 + 12*x^129 + 6*x^128 + 10*x^127 + 6*x^126 + 22*x^125 + 21*x^123 + 18*x^122 + 22*x^121 + 20*x^120 + 13*x^119 + x^118 + 9*x^117 + 6*x^116 + 15*x^115 + 13*x^114 + 15*x^113 + 2*x^112 + 4*x^111 + 2*x^110 + 21*x^109 + 7*x^108 + 9*x^106 + 3*x^105 + 6*x^104 + 22*x^103 + 5*x^102 + 19*x^101 + 17*x^100 + 10*x^99 + 12*x^98 + 19*x^97 + 5*x^96 + 11*x^95 + 19*x^94 + 6*x^93 + 2*x^92 + 4*x^91 + 7*x^90 + 3*x^89 + 6*x^88 + 16*x^87 + 14*x^86 + 19*x^85 + 19*x^84 + 6*x^83 + 13*x^82 + 6*x^81 + 9*x^80 + 9*x^79 + 17*x^78 + 8*x^77 + 4*x^76 + 13*x^73 + 17*x^72 + 14*x^71 + 2*x^70 + 10*x^69 + 20*x^68 + 4*x^67 + 7*x^65 + 6*x^64 + 10*x^63 + 6*x^62 + 8*x^61 + 7*x^60 + 9*x^59 + 5*x^58 + 5*x^57 + 22*x^56 + 11*x^55 + 7*x^54 + 19*x^53 + 6*x^52 + x^51 + 14*x^50 + 13*x^49 + 2*x^48 + 3*x^47 + 16*x^46 + 17*x^45 + 18*x^44 + 9*x^43 + 21*x^42 + 15*x^41 + 10*x^40 + 13*x^39 + 3*x^38 + 10*x^37 + 15*x^36 + 6*x^35 + 13*x^33 + 13*x^32 + 2*x^30 + 3*x^29 + 13*x^28 + 12*x^27 + 11*x^26 + 17*x^25 + 19*x^24 + 14*x^23 + 3*x^22 + 12*x^21 + 5*x^20 + 16*x^19 + 7*x^18 + 15*x^17 + 18*x^16 + 10*x^15 + 5*x^14 + 16*x^13 + 22*x^12 + 17*x^11 + 4*x^10 + 11*x^9 + 4*x^8 + 18*x^7 + 4*x^6 + 16*x^5 + 14*x^4 + 21*x^3 + 18*x^2 + 16*x + 16)*z^47 + (12*x^224 + 13*x^223 + 17*x^222 + 3*x^221 + 11*x^220 + 8*x^219 + 16*x^218 + 17*x^217 + 3*x^216 + 6*x^215 + 12*x^214 + 17*x^213 + 3*x^212 + 15*x^211 + 16*x^210 + 10*x^209 + 10*x^208 + 17*x^207 + 12*x^206 + 9*x^205 + 12*x^204 + 6*x^203 + 18*x^202 + 21*x^201 + 7*x^200 + 22*x^199 + 17*x^198 + 22*x^197 + 5*x^196 + 20*x^195 + 4*x^194 + 4*x^193 + 14*x^192 + 16*x^191 + 2*x^190 + 5*x^189 + 8*x^188 + 7*x^187 + 12*x^186 + 22*x^185 + 2*x^184 + 12*x^183 + 19*x^182 + 17*x^181 + 12*x^180 + 7*x^179 + 6*x^178 + 6*x^177 + 6*x^176 + 14*x^175 + 10*x^174 + 9*x^173 + 12*x^172 + 15*x^171 + 4*x^170 + 16*x^169 + 12*x^168 + 4*x^167 + 16*x^166 + 10*x^165 + 6*x^164 + 6*x^163 + 10*x^162 + 18*x^161 + 7*x^160 + 20*x^159 + 12*x^158 + 8*x^157 + 3*x^156 + 22*x^155 + 6*x^153 + x^152 + 3*x^151 + 17*x^150 + 12*x^149 + 10*x^148 + 20*x^147 + 17*x^146 + 18*x^145 + 3*x^144 + 2*x^143 + x^142 + 11*x^141 + 2*x^140 + 8*x^139 + 2*x^138 + 7*x^137 + 3*x^136 + x^135 + 22*x^134 + 4*x^133 + x^132 + 15*x^131 + 19*x^130 + 19*x^129 + 2*x^128 + 17*x^127 + 13*x^126 + 19*x^125 + 3*x^124 + 13*x^123 + 2*x^122 + 21*x^121 + 12*x^120 + 10*x^119 + 5*x^118 + 13*x^117 + 21*x^116 + 10*x^115 + 2*x^114 + 4*x^112 + 10*x^111 + 4*x^110 + 8*x^109 + 3*x^108 + 16*x^107 + 5*x^106 + 2*x^105 + 7*x^104 + 9*x^103 + 22*x^102 + 14*x^101 + 14*x^100 + x^99 + 19*x^98 + 12*x^97 + 15*x^96 + 10*x^94 + 9*x^93 + 2*x^92 + 4*x^91 + 11*x^90 + 4*x^89 + 14*x^87 + 22*x^86 + 21*x^85 + 7*x^84 + 19*x^83 + 5*x^82 + 3*x^81 + 14*x^80 + 11*x^79 + 15*x^78 + 22*x^77 + 8*x^76 + 6*x^75 + 8*x^74 + 3*x^73 + 11*x^72 + 5*x^71 + 17*x^70 + 12*x^69 + 5*x^68 + 9*x^67 + 16*x^66 + 20*x^65 + 7*x^64 + 11*x^63 + 21*x^62 + 19*x^61 + 8*x^59 + 8*x^58 + 14*x^57 + 2*x^56 + 8*x^55 + 6*x^54 + 17*x^53 + 8*x^52 + 9*x^51 + 12*x^50 + 3*x^49 + 18*x^48 + 6*x^47 + 12*x^46 + 10*x^45 + 21*x^44 + x^43 + 6*x^42 + 8*x^41 + 14*x^40 + x^39 + 2*x^38 + 9*x^37 + 19*x^36 + 18*x^35 + 21*x^33 + 7*x^32 + 4*x^31 + 17*x^30 + 14*x^29 + 17*x^28 + 22*x^27 + 12*x^26 + 13*x^25 + 17*x^24 + 20*x^23 + 11*x^22 + 15*x^21 + 12*x^20 + 7*x^19 + 17*x^17 + 5*x^16 + 13*x^15 + 8*x^14 + 11*x^13 + 5*x^12 + 2*x^11 + 2*x^10 + x^9 + 11*x^8 + 9*x^7 + 14*x^6 + 8*x^5 + 2*x^4 + 4*x^3 + 7*x^2 + 4*x + 5)*z^46 + (11*x^224 + 12*x^223 + 21*x^222 + 20*x^221 + 22*x^220 + 5*x^219 + 11*x^218 + 3*x^217 + 19*x^216 + 12*x^215 + 14*x^214 + 5*x^213 + 3*x^212 + 9*x^211 + 10*x^210 + 14*x^209 + 5*x^208 + 21*x^207 + x^206 + 8*x^205 + x^204 + 11*x^203 + x^202 + 4*x^201 + x^200 + 19*x^199 + 3*x^198 + 2*x^197 + 13*x^196 + 14*x^195 + 2*x^194 + x^193 + 6*x^192 + 14*x^191 + 8*x^190 + 4*x^189 + 17*x^188 + 10*x^187 + 6*x^186 + 15*x^185 + 2*x^184 + 12*x^183 + 10*x^182 + 6*x^181 + 10*x^180 + 2*x^178 + 14*x^177 + 7*x^176 + 5*x^175 + 8*x^174 + 14*x^173 + 4*x^171 + 22*x^169 + 18*x^168 + 17*x^167 + 15*x^166 + 15*x^165 + 15*x^164 + 18*x^163 + 15*x^162 + 20*x^161 + 4*x^160 + 7*x^159 + 16*x^158 + 11*x^157 + 15*x^156 + 8*x^155 + 14*x^154 + 7*x^153 + 11*x^152 + 19*x^151 + 10*x^150 + 14*x^149 + 5*x^148 + 7*x^147 + 5*x^146 + 18*x^145 + 15*x^144 + 8*x^143 + 15*x^142 + 20*x^141 + 9*x^140 + 5*x^139 + 21*x^137 + 6*x^136 + 9*x^135 + 13*x^134 + 11*x^133 + 5*x^132 + x^131 + 4*x^130 + 4*x^129 + 8*x^128 + 13*x^127 + 2*x^126 + 20*x^125 + 15*x^124 + 14*x^123 + 8*x^122 + 9*x^121 + 19*x^120 + 3*x^119 + 9*x^118 + 16*x^117 + 5*x^116 + 14*x^115 + 22*x^114 + 11*x^113 + 15*x^112 + 21*x^111 + 21*x^109 + 22*x^108 + 6*x^107 + 6*x^106 + 9*x^105 + 7*x^104 + 7*x^103 + 15*x^102 + 19*x^101 + 20*x^100 + 14*x^98 + 6*x^97 + 19*x^96 + 19*x^95 + 3*x^94 + 18*x^93 + 14*x^92 + 18*x^91 + 17*x^90 + 13*x^89 + 15*x^88 + 15*x^87 + 2*x^86 + 4*x^85 + 2*x^84 + 22*x^83 + 11*x^82 + 3*x^81 + 3*x^80 + 10*x^79 + 21*x^78 + 18*x^77 + 16*x^76 + 14*x^75 + 4*x^74 + 21*x^73 + 6*x^71 + 16*x^70 + 2*x^69 + 17*x^68 + 6*x^67 + 21*x^66 + 8*x^65 + 7*x^64 + 5*x^63 + 10*x^62 + 15*x^61 + 10*x^60 + 12*x^59 + 21*x^58 + 6*x^57 + 21*x^56 + x^55 + 7*x^54 + 5*x^53 + 12*x^52 + 13*x^51 + 18*x^50 + 3*x^49 + 3*x^48 + 11*x^47 + 16*x^46 + 6*x^45 + 22*x^44 + 15*x^43 + 21*x^42 + 14*x^40 + 19*x^39 + 5*x^38 + 5*x^36 + 14*x^35 + 21*x^34 + 3*x^33 + 18*x^32 + 9*x^31 + 6*x^30 + 5*x^29 + 13*x^28 + 6*x^27 + 9*x^26 + 12*x^25 + 5*x^23 + 8*x^22 + 7*x^21 + 22*x^20 + 12*x^19 + x^18 + 2*x^17 + 19*x^16 + 2*x^15 + 7*x^14 + 16*x^13 + 14*x^12 + 22*x^11 + 16*x^10 + 20*x^9 + 13*x^8 + 16*x^7 + 5*x^6 + 21*x^5 + 11*x^4 + 20*x^3 + 8*x^2 + x + 3)*z^45 + (15*x^224 + 21*x^223 + 4*x^222 + 20*x^221 + 14*x^220 + 17*x^219 + 17*x^218 + 13*x^217 + x^216 + 7*x^215 + 17*x^214 + 21*x^213 + 19*x^212 + x^211 + 4*x^210 + 21*x^209 + 15*x^208 + 18*x^207 + 17*x^206 + 16*x^205 + 3*x^204 + 19*x^203 + 3*x^202 + 10*x^201 + 20*x^200 + 6*x^199 + 9*x^198 + x^197 + 9*x^196 + 3*x^195 + 9*x^194 + x^193 + 5*x^192 + 14*x^191 + x^190 + 3*x^189 + 6*x^188 + 22*x^187 + 11*x^186 + 13*x^185 + x^184 + 9*x^183 + 22*x^182 + 4*x^181 + 2*x^180 + x^179 + 15*x^178 + 15*x^177 + 16*x^176 + 9*x^175 + 17*x^174 + 12*x^173 + x^172 + 22*x^170 + 14*x^169 + 4*x^168 + 10*x^166 + 19*x^165 + 6*x^164 + 4*x^163 + 9*x^162 + 3*x^161 + 12*x^160 + 7*x^159 + x^158 + 11*x^157 + 3*x^156 + x^155 + 21*x^154 + 5*x^153 + 14*x^152 + 9*x^151 + 9*x^150 + 5*x^149 + 11*x^148 + 10*x^147 + 9*x^146 + 20*x^145 + 8*x^144 + 17*x^143 + 12*x^142 + 21*x^141 + 12*x^139 + 16*x^138 + x^136 + 6*x^135 + 15*x^134 + 2*x^133 + 20*x^132 + 9*x^131 + x^130 + 13*x^129 + 19*x^128 + 14*x^127 + 12*x^126 + 16*x^125 + 12*x^124 + 17*x^123 + 11*x^122 + x^121 + 12*x^120 + 4*x^119 + 7*x^118 + 20*x^117 + 9*x^116 + 10*x^115 + 2*x^114 + x^113 + 18*x^111 + 2*x^110 + 9*x^109 + 2*x^108 + 9*x^107 + 5*x^106 + 6*x^105 + 7*x^104 + 11*x^102 + 16*x^101 + 15*x^100 + 15*x^99 + 13*x^98 + 3*x^97 + 5*x^96 + 15*x^95 + 4*x^94 + x^93 + 18*x^92 + 11*x^91 + 20*x^90 + 8*x^89 + 13*x^88 + 2*x^87 + 12*x^86 + 3*x^85 + 6*x^84 + 19*x^83 + 3*x^82 + 21*x^81 + 13*x^80 + 18*x^79 + 8*x^78 + 19*x^77 + 5*x^76 + 20*x^75 + 13*x^74 + 17*x^73 + 17*x^72 + 15*x^71 + 11*x^70 + 17*x^69 + 8*x^68 + x^67 + 18*x^66 + 22*x^65 + 21*x^64 + 5*x^63 + 18*x^62 + 3*x^61 + 5*x^60 + 22*x^59 + 10*x^58 + 18*x^57 + 7*x^56 + 11*x^55 + 12*x^54 + 4*x^53 + 22*x^52 + 17*x^51 + 18*x^50 + 19*x^49 + 19*x^48 + 18*x^47 + 13*x^46 + 22*x^45 + 10*x^44 + 6*x^43 + 15*x^42 + 16*x^41 + 10*x^40 + 11*x^39 + 18*x^38 + 3*x^37 + 16*x^36 + 6*x^35 + 19*x^34 + 10*x^33 + 12*x^32 + x^31 + 17*x^30 + 19*x^29 + 20*x^28 + 6*x^27 + 7*x^26 + 12*x^25 + x^24 + 8*x^23 + 6*x^22 + 6*x^21 + 9*x^20 + 8*x^19 + 19*x^18 + 12*x^17 + 4*x^16 + 18*x^15 + 15*x^14 + 21*x^13 + 13*x^12 + 18*x^11 + 13*x^10 + 22*x^9 + 17*x^8 + 13*x^7 + 9*x^6 + 5*x^5 + 19*x^4 + 4*x^3 + 8*x^2 + 12*x + 18)*z^44 + (14*x^224 + 10*x^223 + 14*x^222 + x^221 + 8*x^220 + 13*x^219 + 17*x^218 + 19*x^217 + 11*x^216 + 20*x^215 + 6*x^214 + 10*x^213 + 7*x^212 + 19*x^211 + 14*x^210 + 17*x^209 + 12*x^208 + 13*x^207 + 11*x^206 + 7*x^205 + 10*x^204 + 15*x^203 + 6*x^202 + 9*x^201 + 4*x^200 + 4*x^199 + 4*x^198 + 14*x^197 + 11*x^196 + x^195 + 3*x^194 + 21*x^193 + 4*x^192 + 10*x^191 + 10*x^190 + 3*x^189 + 9*x^188 + 5*x^187 + 21*x^186 + 17*x^185 + 3*x^184 + 20*x^183 + 5*x^182 + 7*x^181 + 5*x^180 + 22*x^178 + x^177 + x^176 + 6*x^175 + 14*x^174 + 7*x^171 + 17*x^170 + 13*x^169 + 14*x^168 + 14*x^167 + 12*x^166 + 14*x^165 + 19*x^164 + 16*x^163 + 3*x^162 + 13*x^161 + 2*x^160 + 2*x^159 + 17*x^158 + 19*x^157 + 7*x^156 + 14*x^155 + 10*x^154 + 18*x^153 + 10*x^152 + 8*x^151 + 6*x^150 + 19*x^149 + 16*x^147 + 12*x^146 + 18*x^145 + 9*x^144 + 9*x^143 + 22*x^141 + 13*x^140 + 20*x^139 + 18*x^138 + x^137 + 13*x^136 + 14*x^135 + x^134 + 12*x^133 + 4*x^132 + 6*x^131 + 14*x^130 + 14*x^129 + 17*x^128 + 11*x^127 + 8*x^126 + 14*x^125 + 5*x^124 + 15*x^123 + 5*x^122 + 11*x^121 + x^120 + 14*x^119 + 14*x^118 + 16*x^117 + 20*x^116 + 11*x^115 + 16*x^114 + 14*x^113 + 6*x^111 + 18*x^110 + 16*x^109 + 9*x^108 + 3*x^107 + 9*x^106 + 3*x^105 + 22*x^104 + 18*x^103 + 19*x^102 + 22*x^100 + 21*x^99 + 9*x^98 + 6*x^97 + 19*x^96 + 9*x^95 + 8*x^94 + 3*x^93 + 17*x^92 + 9*x^91 + 20*x^90 + 20*x^89 + 3*x^88 + 5*x^87 + 11*x^86 + 18*x^85 + 20*x^84 + 5*x^83 + 7*x^82 + 6*x^81 + 12*x^79 + 18*x^78 + 19*x^77 + 4*x^76 + 11*x^75 + 15*x^74 + 2*x^73 + 11*x^72 + 6*x^71 + 5*x^70 + 4*x^69 + 13*x^68 + 16*x^67 + 22*x^66 + 4*x^64 + 3*x^63 + 15*x^62 + 14*x^61 + 8*x^60 + 3*x^59 + 8*x^58 + 9*x^57 + 2*x^56 + 8*x^55 + 7*x^54 + 7*x^53 + 15*x^52 + 22*x^51 + 13*x^50 + 19*x^49 + 9*x^48 + 15*x^47 + 5*x^46 + 18*x^45 + 16*x^44 + 17*x^42 + 2*x^41 + 19*x^40 + 12*x^39 + 8*x^38 + 8*x^37 + 15*x^36 + 21*x^35 + 13*x^34 + 15*x^33 + 3*x^32 + 11*x^31 + 18*x^30 + 21*x^29 + 13*x^28 + 5*x^27 + 10*x^26 + 11*x^25 + 4*x^24 + 21*x^23 + 8*x^22 + 5*x^21 + 18*x^20 + 9*x^19 + 11*x^18 + 19*x^17 + 11*x^16 + 4*x^15 + 12*x^14 + x^13 + 15*x^12 + 9*x^11 + 8*x^10 + 15*x^9 + 17*x^8 + 5*x^7 + 18*x^6 + 16*x^5 + 12*x^4 + 13*x^3 + 19*x^2 + 7*x + 16)*z^43 + (21*x^224 + 13*x^223 + 12*x^222 + 12*x^221 + 18*x^220 + 10*x^219 + 6*x^218 + 3*x^217 + 17*x^216 + 16*x^215 + 7*x^214 + 13*x^213 + 22*x^212 + 6*x^211 + 17*x^210 + 17*x^209 + 21*x^208 + 9*x^207 + 14*x^206 + 15*x^205 + 11*x^204 + 4*x^203 + 2*x^202 + 22*x^201 + 14*x^200 + 14*x^199 + 13*x^198 + 11*x^197 + 12*x^196 + 15*x^195 + 11*x^194 + 10*x^193 + 5*x^192 + 9*x^191 + 14*x^190 + 13*x^189 + 5*x^188 + 10*x^187 + 19*x^186 + 9*x^185 + 15*x^184 + 7*x^183 + 19*x^181 + 11*x^180 + 19*x^179 + 20*x^177 + x^176 + 7*x^175 + 8*x^174 + 16*x^173 + 7*x^172 + 8*x^171 + 10*x^170 + 15*x^169 + 22*x^168 + 12*x^167 + 21*x^166 + 22*x^165 + 12*x^163 + x^162 + 12*x^160 + 9*x^159 + 12*x^158 + 4*x^157 + 10*x^156 + 18*x^155 + 15*x^154 + 16*x^153 + 7*x^152 + 11*x^151 + 11*x^150 + 4*x^149 + 13*x^148 + 15*x^147 + 17*x^146 + 6*x^145 + 17*x^144 + 4*x^143 + 20*x^142 + 16*x^141 + 6*x^140 + 18*x^139 + 4*x^138 + 18*x^137 + 17*x^136 + 4*x^135 + 5*x^134 + 4*x^133 + 2*x^132 + 19*x^131 + 14*x^130 + 19*x^129 + 11*x^128 + 20*x^127 + 19*x^126 + 13*x^125 + 8*x^124 + 21*x^123 + 9*x^121 + 10*x^120 + x^119 + 2*x^118 + 17*x^117 + 13*x^116 + 3*x^115 + 21*x^114 + 7*x^112 + 7*x^111 + 20*x^110 + x^109 + 15*x^108 + 21*x^107 + 15*x^105 + 4*x^104 + 19*x^103 + 9*x^102 + 22*x^101 + 13*x^100 + 6*x^99 + 21*x^97 + 18*x^96 + 7*x^95 + 14*x^94 + 20*x^93 + 9*x^92 + 4*x^91 + 15*x^90 + 16*x^89 + 13*x^88 + 22*x^87 + 17*x^86 + 12*x^85 + 19*x^84 + 17*x^83 + 6*x^82 + x^81 + x^80 + 16*x^79 + 3*x^78 + 10*x^77 + 5*x^76 + 15*x^75 + 9*x^74 + 19*x^73 + 7*x^72 + 7*x^71 + 7*x^69 + 16*x^67 + 3*x^66 + 20*x^65 + 5*x^64 + 10*x^63 + 12*x^62 + 4*x^60 + 18*x^59 + 13*x^58 + 17*x^57 + 4*x^56 + 14*x^55 + 21*x^54 + 22*x^53 + 17*x^52 + 12*x^51 + 2*x^50 + 15*x^49 + 15*x^48 + 6*x^47 + 7*x^46 + 17*x^45 + 5*x^44 + 22*x^43 + x^42 + x^41 + 13*x^40 + 22*x^39 + 6*x^38 + 10*x^37 + 2*x^36 + 3*x^35 + x^34 + 2*x^33 + 6*x^32 + 8*x^31 + 12*x^30 + 4*x^29 + 20*x^28 + 11*x^27 + 21*x^26 + 22*x^25 + 3*x^24 + 15*x^22 + 13*x^21 + 8*x^20 + 18*x^19 + 12*x^18 + x^17 + 14*x^16 + 20*x^15 + 4*x^14 + 14*x^13 + 4*x^12 + 14*x^11 + 12*x^9 + 17*x^8 + 17*x^7 + 2*x^6 + 3*x^5 + 13*x^4 + x^3 + 10*x^2 + 16*x + 11)*z^42 + (8*x^224 + 8*x^223 + 13*x^222 + 6*x^221 + 5*x^220 + 22*x^219 + 13*x^218 + 15*x^217 + 8*x^216 + 17*x^215 + 17*x^214 + 9*x^213 + 15*x^212 + 9*x^211 + 11*x^210 + 6*x^209 + 5*x^208 + 5*x^207 + 2*x^206 + 11*x^205 + 16*x^204 + 22*x^203 + 13*x^201 + 18*x^199 + 10*x^198 + 17*x^197 + 18*x^196 + 10*x^195 + x^194 + 9*x^192 + 3*x^191 + 10*x^190 + 15*x^189 + 14*x^188 + 6*x^187 + 8*x^186 + 3*x^185 + 6*x^184 + 18*x^183 + 11*x^182 + 6*x^181 + 16*x^180 + 9*x^179 + 5*x^178 + 12*x^177 + 9*x^176 + 14*x^175 + 11*x^174 + 6*x^173 + 21*x^172 + 2*x^171 + 9*x^170 + 9*x^169 + 19*x^168 + 12*x^167 + 19*x^166 + 17*x^165 + 13*x^164 + 19*x^163 + 17*x^162 + 3*x^161 + 4*x^160 + 20*x^159 + 15*x^158 + 16*x^157 + 18*x^156 + 22*x^155 + 8*x^154 + x^153 + 9*x^152 + 12*x^151 + 10*x^150 + 14*x^149 + 17*x^148 + 12*x^147 + 11*x^146 + 11*x^145 + 6*x^144 + 18*x^143 + 22*x^142 + x^141 + 15*x^140 + 13*x^139 + 6*x^138 + 5*x^137 + 12*x^136 + 6*x^135 + 8*x^134 + 19*x^133 + 5*x^132 + 10*x^131 + 14*x^130 + 6*x^129 + 13*x^128 + 5*x^127 + 20*x^126 + 20*x^125 + 12*x^124 + 16*x^123 + 12*x^122 + 7*x^121 + 4*x^120 + 10*x^119 + 4*x^118 + 20*x^117 + 21*x^116 + 15*x^115 + 7*x^114 + 20*x^113 + 13*x^112 + 8*x^111 + 11*x^110 + 11*x^109 + 6*x^108 + 7*x^107 + 22*x^106 + 15*x^105 + 16*x^104 + 7*x^103 + 14*x^102 + 20*x^101 + 14*x^100 + 15*x^99 + 13*x^98 + 15*x^97 + 19*x^96 + 20*x^95 + 12*x^94 + 22*x^93 + 10*x^92 + 20*x^91 + 4*x^90 + 13*x^89 + 19*x^88 + 17*x^87 + 9*x^86 + 9*x^85 + 20*x^84 + 12*x^83 + 3*x^82 + 11*x^81 + 20*x^80 + 10*x^79 + x^78 + 22*x^77 + 11*x^76 + 3*x^75 + 8*x^74 + 4*x^73 + 17*x^72 + 14*x^70 + 17*x^69 + 8*x^68 + 17*x^67 + 11*x^66 + 15*x^65 + 22*x^63 + 13*x^62 + 14*x^61 + 18*x^60 + 4*x^59 + 12*x^58 + 12*x^57 + 9*x^56 + 20*x^55 + 7*x^54 + 18*x^53 + 3*x^51 + 6*x^50 + 2*x^49 + 16*x^48 + 16*x^47 + 13*x^46 + 13*x^45 + 6*x^44 + 11*x^43 + 15*x^42 + 12*x^41 + 3*x^40 + 11*x^39 + 8*x^38 + 6*x^37 + 17*x^36 + 10*x^35 + 16*x^34 + 20*x^33 + 10*x^32 + x^31 + 19*x^30 + 8*x^29 + 13*x^25 + 16*x^24 + 15*x^23 + 8*x^22 + 17*x^21 + 21*x^20 + 17*x^19 + 15*x^18 + 20*x^17 + 10*x^16 + 10*x^15 + 6*x^14 + 16*x^13 + 14*x^11 + x^10 + 5*x^9 + 20*x^8 + 10*x^7 + 15*x^6 + 5*x^5 + 21*x^4 + 12*x^3 + 22*x^2 + 8*x + 16)*z^41 + (12*x^224 + 7*x^223 + x^222 + 3*x^221 + 7*x^220 + 17*x^219 + 4*x^218 + 8*x^217 + 4*x^216 + 16*x^215 + 6*x^214 + 4*x^213 + 12*x^212 + 13*x^211 + 15*x^210 + 9*x^209 + 16*x^208 + 12*x^207 + 5*x^206 + 20*x^205 + 22*x^204 + 8*x^203 + 17*x^202 + 13*x^201 + 3*x^200 + 18*x^199 + 6*x^198 + x^197 + 3*x^196 + 13*x^195 + x^194 + 22*x^193 + 5*x^192 + 13*x^190 + 6*x^189 + 13*x^188 + 2*x^186 + 19*x^185 + 15*x^184 + 15*x^183 + x^182 + 21*x^181 + 4*x^180 + 3*x^179 + 5*x^178 + 15*x^177 + x^176 + 2*x^175 + 7*x^174 + 8*x^173 + 22*x^172 + 2*x^171 + 17*x^170 + 22*x^169 + 10*x^168 + 6*x^167 + 8*x^166 + 11*x^165 + 19*x^164 + 7*x^163 + 19*x^162 + 18*x^161 + 16*x^160 + 7*x^159 + 8*x^158 + 2*x^157 + 13*x^155 + 10*x^154 + 6*x^153 + 3*x^152 + x^151 + 12*x^150 + 14*x^149 + 10*x^148 + 11*x^147 + 7*x^146 + 15*x^145 + 7*x^144 + 22*x^143 + 13*x^142 + 7*x^141 + 3*x^140 + 14*x^139 + 22*x^138 + x^137 + 14*x^136 + 20*x^135 + 9*x^134 + 7*x^133 + 4*x^131 + 13*x^130 + 22*x^129 + 16*x^128 + 20*x^127 + 12*x^126 + 8*x^125 + 17*x^124 + 8*x^123 + 11*x^122 + 5*x^121 + 13*x^120 + 5*x^119 + x^118 + 9*x^117 + 22*x^116 + 8*x^115 + 12*x^114 + 20*x^113 + 17*x^112 + 11*x^111 + 8*x^110 + 15*x^109 + x^108 + 22*x^107 + 5*x^106 + 19*x^105 + 9*x^104 + 3*x^103 + 5*x^102 + 7*x^101 + 18*x^100 + 18*x^99 + 20*x^98 + x^97 + 5*x^96 + 21*x^95 + 21*x^94 + 14*x^93 + 17*x^92 + 3*x^91 + 13*x^90 + x^89 + 16*x^88 + 2*x^87 + 11*x^86 + 14*x^85 + 13*x^84 + 17*x^83 + 5*x^82 + 7*x^81 + 13*x^80 + 4*x^79 + 15*x^78 + 3*x^77 + 3*x^76 + x^75 + 14*x^74 + 2*x^73 + 19*x^72 + 15*x^71 + 3*x^70 + 17*x^69 + 2*x^68 + 7*x^67 + 19*x^66 + 13*x^65 + 9*x^64 + 10*x^63 + 5*x^62 + 16*x^61 + 2*x^60 + 13*x^59 + 19*x^58 + 16*x^56 + 9*x^55 + 3*x^54 + 19*x^53 + 19*x^52 + 14*x^51 + 5*x^50 + 11*x^49 + 2*x^48 + 18*x^47 + 19*x^46 + 3*x^45 + 8*x^44 + 7*x^43 + x^42 + 12*x^41 + 12*x^40 + 7*x^39 + x^38 + 9*x^37 + 7*x^36 + 17*x^35 + 7*x^34 + 17*x^33 + 3*x^32 + 15*x^31 + 3*x^30 + 3*x^29 + 2*x^28 + 8*x^27 + 18*x^26 + 3*x^25 + 22*x^24 + 12*x^23 + 4*x^22 + 14*x^21 + 15*x^20 + 3*x^18 + 3*x^17 + 9*x^16 + 20*x^15 + 16*x^14 + 21*x^13 + 13*x^12 + 19*x^10 + 17*x^9 + 19*x^8 + 10*x^7 + x^6 + 6*x^5 + 17*x^4 + 7*x^3 + 10*x^2 + 15*x + 12)*z^40 + (10*x^224 + 19*x^223 + 6*x^222 + 3*x^221 + 22*x^220 + 8*x^219 + 3*x^218 + 19*x^217 + 22*x^216 + 17*x^215 + x^214 + 17*x^213 + 15*x^212 + 10*x^211 + 19*x^210 + 9*x^209 + 3*x^208 + 6*x^207 + 15*x^206 + 19*x^205 + 12*x^204 + 9*x^203 + 8*x^202 + 16*x^201 + 21*x^200 + 15*x^199 + 4*x^198 + 16*x^197 + 22*x^196 + 16*x^195 + 3*x^194 + 2*x^193 + 4*x^192 + 17*x^190 + 8*x^189 + 11*x^188 + 17*x^187 + 22*x^186 + 6*x^185 + 10*x^184 + x^182 + 14*x^181 + 19*x^180 + x^179 + 13*x^178 + 15*x^177 + 15*x^176 + 21*x^175 + 5*x^174 + 8*x^173 + 8*x^172 + 8*x^170 + x^169 + 10*x^168 + 19*x^167 + x^166 + 7*x^165 + x^164 + x^163 + 12*x^162 + 6*x^161 + 4*x^160 + 21*x^159 + 9*x^158 + 5*x^157 + 12*x^156 + 3*x^155 + 11*x^154 + 21*x^153 + 11*x^152 + x^151 + 22*x^150 + 21*x^149 + 14*x^148 + 12*x^146 + 4*x^145 + 12*x^144 + 12*x^143 + 12*x^142 + 10*x^141 + 5*x^140 + 19*x^139 + 16*x^138 + x^137 + 19*x^136 + 8*x^135 + 18*x^133 + x^132 + 13*x^131 + 18*x^130 + 5*x^129 + 19*x^128 + 9*x^127 + 16*x^126 + 12*x^125 + 16*x^124 + 12*x^123 + 21*x^122 + 16*x^121 + 11*x^120 + 9*x^119 + 15*x^118 + 14*x^117 + 12*x^116 + 9*x^115 + 3*x^114 + 11*x^113 + 20*x^112 + 3*x^111 + 20*x^110 + 4*x^109 + 9*x^108 + 13*x^106 + 7*x^105 + 15*x^104 + 20*x^103 + 4*x^102 + 20*x^101 + 9*x^100 + 14*x^99 + 20*x^98 + 15*x^97 + 9*x^96 + 22*x^95 + 8*x^94 + 12*x^93 + x^92 + 15*x^91 + 16*x^90 + 7*x^89 + x^88 + 16*x^87 + 15*x^86 + 13*x^85 + 12*x^84 + 6*x^83 + 12*x^82 + 22*x^81 + 20*x^80 + 4*x^79 + 8*x^78 + 10*x^77 + 16*x^76 + 22*x^75 + 20*x^74 + 14*x^73 + 16*x^72 + 9*x^71 + 13*x^70 + 4*x^69 + 21*x^68 + 2*x^66 + 21*x^65 + 15*x^64 + 22*x^63 + 20*x^62 + 2*x^61 + 3*x^60 + 17*x^59 + 3*x^58 + 12*x^57 + 11*x^56 + 19*x^55 + 15*x^54 + 12*x^53 + 11*x^52 + 2*x^51 + 10*x^50 + 22*x^49 + 5*x^48 + 5*x^47 + 20*x^46 + 17*x^44 + 14*x^43 + 4*x^42 + 16*x^41 + 4*x^40 + 16*x^39 + 22*x^38 + 11*x^37 + 3*x^35 + 4*x^34 + 5*x^33 + 3*x^32 + x^31 + 18*x^30 + 14*x^29 + 13*x^28 + 14*x^27 + 4*x^26 + 16*x^25 + 9*x^24 + 12*x^22 + 17*x^21 + 18*x^20 + 10*x^19 + 5*x^18 + 5*x^17 + 14*x^16 + 21*x^15 + 9*x^14 + 15*x^13 + 18*x^12 + 3*x^11 + 7*x^10 + 5*x^9 + 21*x^8 + 18*x^7 + 16*x^6 + 10*x^5 + 10*x^4 + 11*x^3 + 11*x^2 + 17*x + 19)*z^39 + (21*x^224 + 6*x^223 + 11*x^222 + 16*x^221 + 21*x^220 + 21*x^219 + x^218 + 4*x^217 + 14*x^216 + 12*x^215 + 20*x^214 + 15*x^213 + 10*x^212 + 3*x^211 + 20*x^210 + 17*x^209 + 20*x^208 + 22*x^207 + 12*x^206 + 14*x^205 + 22*x^202 + 2*x^201 + 8*x^200 + x^199 + 14*x^198 + 17*x^197 + 3*x^196 + 6*x^195 + 2*x^194 + 2*x^192 + 16*x^190 + 14*x^189 + 12*x^188 + 11*x^186 + 18*x^185 + 5*x^184 + 20*x^183 + 16*x^182 + 22*x^181 + x^180 + 2*x^179 + 19*x^178 + 7*x^177 + 18*x^176 + 5*x^175 + 15*x^174 + 22*x^173 + 8*x^172 + 3*x^171 + 7*x^170 + 8*x^169 + 19*x^168 + 12*x^167 + 5*x^166 + 9*x^165 + x^164 + 19*x^163 + 12*x^162 + 22*x^161 + 17*x^160 + 6*x^159 + 22*x^158 + 4*x^157 + 16*x^156 + 8*x^155 + 7*x^154 + 18*x^153 + 8*x^152 + 9*x^151 + 3*x^150 + 2*x^149 + 5*x^148 + 15*x^146 + 19*x^145 + 10*x^144 + 16*x^143 + 4*x^142 + 5*x^141 + 16*x^140 + 8*x^138 + 12*x^137 + 16*x^136 + 21*x^135 + 6*x^134 + 14*x^133 + 15*x^132 + 2*x^131 + 2*x^130 + 15*x^129 + 22*x^128 + x^127 + 13*x^126 + 13*x^125 + 16*x^124 + 3*x^123 + 9*x^122 + x^121 + 11*x^119 + 11*x^118 + 10*x^117 + 14*x^116 + 12*x^115 + 13*x^114 + x^113 + 21*x^112 + 11*x^111 + 5*x^110 + 12*x^109 + 5*x^108 + 12*x^107 + 13*x^105 + 15*x^104 + 2*x^102 + 19*x^101 + 2*x^100 + 15*x^99 + 15*x^98 + 12*x^97 + 17*x^96 + 15*x^95 + 18*x^94 + 11*x^93 + 16*x^92 + 5*x^91 + 7*x^90 + 14*x^89 + 20*x^88 + 17*x^87 + 17*x^86 + 19*x^85 + 5*x^84 + 11*x^83 + 10*x^82 + 21*x^81 + x^80 + 5*x^79 + 9*x^78 + x^77 + 9*x^76 + 18*x^75 + 4*x^74 + 10*x^73 + 14*x^72 + 18*x^71 + 7*x^70 + 5*x^69 + 4*x^68 + x^67 + 9*x^66 + 13*x^65 + 22*x^64 + 21*x^63 + 13*x^62 + 11*x^61 + 5*x^60 + x^59 + 16*x^58 + 8*x^57 + 12*x^56 + 9*x^55 + 17*x^54 + 21*x^53 + 15*x^52 + 3*x^51 + 22*x^50 + 6*x^49 + 18*x^48 + 4*x^47 + 12*x^46 + 6*x^45 + 16*x^44 + 11*x^42 + 3*x^41 + 5*x^40 + 10*x^39 + 9*x^38 + 11*x^37 + 18*x^36 + 16*x^35 + 6*x^34 + 9*x^33 + 16*x^32 + 13*x^31 + 5*x^30 + x^29 + 11*x^28 + 13*x^27 + 11*x^25 + 19*x^24 + 19*x^23 + 11*x^22 + 14*x^21 + 6*x^20 + 11*x^19 + 8*x^18 + 9*x^17 + 9*x^16 + 20*x^15 + 4*x^14 + 5*x^13 + 9*x^12 + 7*x^11 + 22*x^10 + 6*x^9 + 8*x^8 + 21*x^7 + 22*x^6 + 18*x^5 + 15*x^3 + 7*x^2 + 3*x + 15)*z^38 + (9*x^224 + 4*x^223 + 7*x^222 + 21*x^221 + 13*x^220 + 12*x^219 + 18*x^218 + x^217 + 20*x^216 + 14*x^215 + 13*x^214 + 4*x^213 + 14*x^212 + 4*x^211 + 17*x^210 + 9*x^209 + 7*x^208 + 4*x^207 + 21*x^206 + 14*x^205 + 9*x^204 + 22*x^203 + 13*x^202 + 9*x^201 + 19*x^200 + 16*x^198 + 3*x^197 + 18*x^196 + 13*x^195 + 6*x^194 + 7*x^193 + 8*x^192 + 9*x^191 + 13*x^190 + 11*x^189 + 6*x^188 + 8*x^187 + 13*x^186 + 12*x^185 + 5*x^184 + 12*x^183 + 22*x^182 + 14*x^181 + 9*x^180 + 9*x^179 + 22*x^178 + 2*x^177 + 4*x^176 + 7*x^175 + 9*x^174 + 20*x^173 + 4*x^172 + 13*x^171 + 8*x^170 + x^169 + 5*x^168 + 5*x^167 + 21*x^166 + 4*x^165 + 5*x^164 + 15*x^163 + 3*x^162 + 10*x^161 + 12*x^160 + 16*x^159 + 14*x^158 + 17*x^157 + 5*x^156 + 10*x^155 + x^154 + 10*x^153 + 11*x^152 + 10*x^151 + 13*x^150 + 21*x^149 + 11*x^148 + 17*x^147 + 22*x^146 + 13*x^145 + 15*x^144 + 13*x^143 + 11*x^142 + 8*x^140 + 15*x^139 + 11*x^138 + 3*x^137 + 11*x^136 + 21*x^135 + 12*x^134 + 16*x^133 + 11*x^132 + 12*x^131 + 19*x^130 + 22*x^129 + 9*x^128 + x^127 + 17*x^126 + 20*x^125 + 17*x^124 + 19*x^123 + 15*x^122 + 19*x^121 + 19*x^120 + x^119 + 2*x^118 + 7*x^117 + 13*x^116 + 13*x^114 + 6*x^113 + 10*x^112 + 18*x^111 + 6*x^110 + 7*x^109 + 17*x^108 + 20*x^107 + 13*x^106 + 21*x^105 + 14*x^104 + 19*x^103 + 3*x^102 + 10*x^101 + 13*x^100 + 4*x^99 + 14*x^98 + 18*x^97 + 11*x^96 + 9*x^95 + 18*x^93 + 7*x^91 + 22*x^89 + 19*x^88 + 16*x^87 + 17*x^86 + 16*x^85 + 7*x^84 + x^83 + 12*x^82 + 12*x^81 + 14*x^80 + 19*x^79 + 2*x^78 + 3*x^77 + 14*x^76 + 21*x^75 + 20*x^74 + 21*x^73 + 11*x^72 + 4*x^71 + 9*x^70 + 5*x^69 + 11*x^68 + 20*x^67 + 13*x^66 + 15*x^65 + 19*x^64 + 18*x^63 + 19*x^62 + 11*x^61 + 12*x^60 + 17*x^58 + 4*x^57 + 15*x^56 + 6*x^55 + 4*x^54 + 11*x^53 + x^52 + 3*x^51 + 7*x^49 + 4*x^48 + x^47 + 12*x^46 + 17*x^45 + 10*x^44 + 19*x^43 + 5*x^41 + 8*x^40 + 7*x^39 + 2*x^38 + 8*x^37 + 10*x^36 + 19*x^35 + 3*x^34 + 17*x^33 + 11*x^32 + 19*x^31 + 13*x^30 + 17*x^28 + 18*x^27 + 15*x^26 + 22*x^25 + 2*x^24 + 3*x^23 + 15*x^22 + x^21 + 2*x^20 + 8*x^19 + 15*x^18 + 22*x^17 + 4*x^16 + 4*x^15 + 2*x^13 + 21*x^11 + 11*x^10 + 11*x^9 + 13*x^8 + 20*x^7 + 9*x^6 + 18*x^4 + 20*x^3 + 18*x^2 + 6*x + 9)*z^37 + (2*x^224 + 20*x^223 + 17*x^222 + 5*x^221 + 20*x^220 + 3*x^219 + 9*x^218 + 10*x^217 + 10*x^216 + 13*x^215 + 22*x^214 + 10*x^213 + 6*x^212 + 14*x^211 + 18*x^210 + 2*x^209 + 2*x^208 + 16*x^207 + 6*x^206 + 14*x^205 + 18*x^204 + 16*x^203 + 15*x^202 + 16*x^201 + 14*x^199 + 15*x^198 + 21*x^197 + 19*x^196 + 12*x^195 + 17*x^194 + 9*x^193 + 20*x^192 + 19*x^191 + 7*x^190 + 22*x^189 + x^188 + 4*x^187 + 17*x^185 + 20*x^184 + 19*x^183 + 13*x^182 + 15*x^181 + 16*x^180 + 2*x^179 + 13*x^178 + 6*x^177 + 13*x^176 + 22*x^175 + 13*x^174 + 17*x^173 + 15*x^172 + 9*x^171 + 21*x^170 + 11*x^169 + 8*x^168 + 15*x^167 + 2*x^166 + 13*x^164 + 9*x^163 + 22*x^162 + 9*x^161 + 6*x^160 + 17*x^159 + 12*x^157 + 22*x^156 + 14*x^155 + 15*x^154 + 3*x^153 + 2*x^152 + 6*x^151 + 6*x^150 + x^149 + 16*x^148 + 12*x^147 + 6*x^146 + 22*x^145 + 8*x^144 + 9*x^143 + 7*x^142 + 20*x^141 + 2*x^140 + 19*x^139 + 22*x^138 + 18*x^137 + 6*x^136 + 19*x^135 + 17*x^134 + 13*x^133 + 17*x^132 + 18*x^131 + 6*x^130 + 13*x^129 + 5*x^128 + 19*x^127 + 9*x^126 + 7*x^125 + 21*x^124 + 22*x^123 + 10*x^122 + 13*x^121 + 2*x^120 + 13*x^119 + 16*x^117 + 17*x^116 + 2*x^115 + 20*x^114 + 2*x^112 + 3*x^111 + 2*x^110 + 22*x^109 + 9*x^108 + 7*x^107 + 3*x^106 + 18*x^105 + 11*x^103 + 18*x^102 + 10*x^101 + 21*x^100 + 4*x^99 + 8*x^98 + 17*x^97 + 13*x^95 + 10*x^94 + 2*x^93 + 15*x^92 + 12*x^91 + 12*x^90 + 13*x^89 + 19*x^88 + 15*x^87 + 18*x^85 + 8*x^84 + 5*x^83 + 9*x^82 + 3*x^81 + 11*x^80 + 16*x^79 + 16*x^78 + 8*x^77 + 16*x^76 + 15*x^75 + 8*x^74 + 10*x^73 + 18*x^72 + 2*x^71 + 9*x^70 + 6*x^69 + 10*x^68 + 17*x^67 + 4*x^66 + 21*x^65 + 15*x^64 + 10*x^63 + 10*x^62 + 20*x^61 + 3*x^60 + 18*x^59 + 13*x^58 + 19*x^57 + x^56 + 2*x^55 + 2*x^54 + 12*x^53 + 4*x^52 + 6*x^51 + 8*x^50 + 8*x^49 + 15*x^48 + 4*x^47 + 2*x^46 + 13*x^45 + 15*x^44 + 3*x^43 + 9*x^42 + 11*x^41 + 14*x^40 + 16*x^39 + 10*x^38 + 7*x^37 + 2*x^36 + 4*x^35 + 2*x^34 + 16*x^33 + 13*x^32 + x^31 + 3*x^30 + 2*x^29 + 2*x^28 + 17*x^27 + 12*x^26 + 13*x^25 + 2*x^24 + 22*x^23 + 22*x^22 + 19*x^21 + 4*x^20 + x^19 + x^18 + 20*x^17 + 8*x^16 + x^15 + 4*x^14 + 9*x^13 + 15*x^11 + 9*x^9 + 6*x^8 + 13*x^7 + 8*x^5 + 19*x^4 + 20*x^3 + 2*x^2 + 21*x + 9)*z^36 + (11*x^224 + 16*x^223 + 8*x^222 + 17*x^221 + 12*x^220 + 7*x^219 + 22*x^218 + 16*x^217 + 17*x^216 + 9*x^215 + 15*x^214 + 6*x^213 + 8*x^212 + 8*x^211 + 2*x^210 + 17*x^209 + 22*x^208 + 13*x^207 + 19*x^206 + 18*x^205 + 10*x^204 + 6*x^203 + 12*x^202 + 14*x^201 + 8*x^200 + 4*x^199 + 13*x^198 + 13*x^197 + 2*x^196 + 11*x^195 + 22*x^194 + 12*x^193 + 2*x^192 + 16*x^191 + 4*x^190 + 17*x^189 + 12*x^188 + 20*x^187 + 11*x^186 + 22*x^185 + 12*x^184 + 13*x^183 + 14*x^182 + 22*x^181 + 12*x^180 + 9*x^179 + 20*x^177 + 18*x^176 + 9*x^175 + 7*x^174 + 16*x^173 + 16*x^172 + 15*x^170 + 10*x^169 + 21*x^168 + 9*x^167 + 15*x^166 + 10*x^165 + 14*x^164 + 5*x^163 + 2*x^162 + 12*x^161 + 22*x^160 + 22*x^159 + 15*x^158 + 3*x^157 + 20*x^156 + 11*x^155 + 13*x^154 + 9*x^153 + 2*x^152 + 13*x^151 + 7*x^150 + 15*x^149 + 3*x^148 + 7*x^147 + 20*x^146 + 5*x^145 + x^144 + 15*x^143 + 9*x^142 + 11*x^141 + 2*x^140 + x^139 + 22*x^138 + 11*x^136 + 7*x^135 + 20*x^134 + x^133 + 13*x^132 + 19*x^131 + 3*x^130 + 14*x^129 + 14*x^128 + 22*x^127 + 10*x^126 + 5*x^125 + 17*x^123 + x^122 + 3*x^121 + 13*x^119 + 3*x^117 + 6*x^116 + 2*x^115 + 22*x^114 + 16*x^113 + 3*x^112 + 4*x^111 + 11*x^110 + x^109 + 8*x^108 + 18*x^107 + 4*x^106 + 12*x^105 + 9*x^104 + 19*x^103 + x^102 + 6*x^101 + 5*x^100 + 16*x^99 + 16*x^98 + 14*x^97 + 5*x^96 + 2*x^95 + 6*x^94 + 6*x^93 + 14*x^92 + 3*x^91 + 18*x^90 + 19*x^89 + 17*x^88 + 6*x^87 + 12*x^85 + 2*x^84 + 4*x^83 + 6*x^82 + 10*x^81 + 4*x^80 + 7*x^79 + 3*x^78 + 16*x^77 + 5*x^75 + 15*x^74 + x^73 + 7*x^72 + 11*x^70 + 5*x^69 + 5*x^68 + 6*x^67 + 16*x^66 + 17*x^65 + 5*x^63 + 4*x^62 + 2*x^61 + 12*x^60 + 13*x^59 + 14*x^58 + 15*x^57 + 11*x^56 + 4*x^55 + 6*x^54 + 12*x^53 + 10*x^52 + 6*x^51 + 6*x^50 + 6*x^49 + 5*x^48 + 3*x^47 + 6*x^46 + 20*x^45 + 21*x^43 + 10*x^42 + 3*x^41 + 10*x^40 + 7*x^39 + 2*x^38 + 7*x^37 + 9*x^36 + 10*x^35 + 20*x^34 + x^33 + 2*x^32 + 16*x^31 + 5*x^30 + 20*x^29 + 12*x^27 + 2*x^26 + 13*x^25 + 21*x^24 + 6*x^23 + 12*x^22 + 22*x^21 + 13*x^20 + 4*x^19 + 7*x^18 + 20*x^17 + 22*x^16 + 6*x^15 + 10*x^14 + 19*x^13 + 9*x^12 + 13*x^11 + 3*x^10 + 20*x^9 + 2*x^8 + 20*x^7 + 5*x^6 + 10*x^5 + 20*x^4 + 15*x^3 + 15*x^2 + 5*x + 5)*z^35 + (16*x^224 + 4*x^223 + 5*x^222 + 22*x^220 + 11*x^219 + 5*x^218 + 19*x^217 + 12*x^216 + 5*x^215 + 3*x^213 + 21*x^212 + 6*x^211 + 10*x^210 + 17*x^209 + 10*x^208 + 3*x^207 + 20*x^206 + 20*x^205 + x^204 + 6*x^203 + 3*x^202 + 6*x^201 + 13*x^200 + 10*x^199 + 20*x^198 + 13*x^197 + 3*x^196 + 15*x^195 + 13*x^194 + 4*x^193 + 8*x^192 + 2*x^191 + 15*x^190 + 15*x^189 + 20*x^188 + x^187 + 2*x^186 + 5*x^185 + 7*x^184 + 10*x^183 + 5*x^182 + 21*x^181 + 19*x^180 + 15*x^179 + 15*x^178 + 14*x^177 + 16*x^176 + 8*x^175 + 14*x^174 + 16*x^172 + 9*x^171 + 14*x^170 + 6*x^169 + 13*x^168 + 4*x^167 + 14*x^166 + 2*x^165 + 17*x^164 + 10*x^163 + 17*x^162 + 4*x^161 + 10*x^160 + 8*x^159 + 16*x^158 + 9*x^157 + 7*x^156 + 12*x^155 + x^154 + 15*x^152 + 20*x^151 + 7*x^150 + 22*x^149 + 21*x^148 + 15*x^147 + 9*x^146 + 10*x^145 + 5*x^144 + 9*x^143 + 19*x^141 + 12*x^140 + 11*x^139 + 21*x^138 + 9*x^137 + x^136 + 4*x^135 + 20*x^134 + 15*x^133 + 8*x^132 + 10*x^130 + 7*x^129 + 5*x^128 + 5*x^127 + 17*x^126 + 9*x^125 + 13*x^124 + x^123 + 22*x^122 + 20*x^121 + 4*x^120 + 12*x^119 + 4*x^118 + 8*x^117 + 10*x^116 + 8*x^115 + 5*x^114 + 10*x^113 + 5*x^112 + 12*x^111 + 9*x^110 + 22*x^109 + x^108 + 13*x^107 + 21*x^106 + 10*x^105 + 8*x^104 + 2*x^103 + 10*x^102 + 2*x^101 + 17*x^100 + 17*x^99 + 13*x^98 + x^97 + 17*x^96 + 10*x^95 + 19*x^94 + 9*x^93 + 7*x^92 + 19*x^91 + x^90 + 17*x^89 + 13*x^88 + 14*x^87 + 10*x^86 + 19*x^85 + 10*x^84 + 14*x^83 + 6*x^82 + 2*x^81 + 3*x^80 + 22*x^79 + 11*x^78 + 8*x^77 + 7*x^76 + 15*x^75 + 6*x^74 + 12*x^73 + 16*x^72 + 11*x^71 + 9*x^70 + 19*x^69 + 13*x^68 + 22*x^67 + 12*x^66 + 20*x^65 + 14*x^64 + 15*x^63 + 14*x^62 + 16*x^61 + 3*x^60 + 9*x^59 + x^58 + 3*x^57 + 5*x^56 + 14*x^55 + 10*x^54 + 12*x^53 + 7*x^52 + 3*x^51 + 20*x^50 + 19*x^49 + x^48 + 7*x^47 + 15*x^46 + 14*x^45 + 16*x^44 + 17*x^43 + 4*x^42 + 9*x^41 + 17*x^40 + 18*x^39 + 8*x^38 + x^37 + 9*x^36 + 20*x^35 + 22*x^34 + 19*x^33 + 9*x^32 + 12*x^31 + 3*x^30 + 2*x^29 + 3*x^28 + 6*x^27 + 13*x^26 + 18*x^25 + 5*x^24 + 21*x^23 + 9*x^22 + 6*x^21 + 16*x^20 + 20*x^19 + 20*x^18 + 9*x^17 + 10*x^16 + 21*x^14 + 13*x^13 + 17*x^12 + 15*x^11 + 20*x^10 + 9*x^9 + 6*x^8 + x^7 + 17*x^5 + 20*x^4 + 8*x^3 + 13*x^2 + 16*x + 14)*z^34 + (2*x^224 + 6*x^223 + 5*x^222 + 19*x^221 + x^220 + 20*x^219 + 12*x^218 + 12*x^217 + 4*x^216 + 3*x^215 + 21*x^214 + 4*x^213 + 4*x^212 + 8*x^211 + 12*x^210 + 12*x^209 + 12*x^208 + x^207 + 9*x^206 + 11*x^205 + 9*x^204 + 9*x^203 + 16*x^202 + 5*x^201 + 10*x^200 + 12*x^199 + 12*x^198 + 3*x^197 + 2*x^196 + 6*x^195 + 3*x^194 + 22*x^193 + 2*x^192 + 18*x^191 + 4*x^190 + 21*x^189 + 20*x^188 + 9*x^187 + x^186 + 10*x^185 + 13*x^184 + 15*x^183 + 21*x^182 + 3*x^181 + 10*x^180 + 13*x^179 + 20*x^178 + 6*x^177 + 12*x^176 + 19*x^175 + 16*x^174 + 19*x^173 + 8*x^172 + 4*x^171 + 5*x^170 + 9*x^169 + 6*x^168 + 2*x^167 + 10*x^166 + 5*x^165 + 7*x^164 + 4*x^163 + 11*x^162 + 9*x^160 + 9*x^159 + 13*x^158 + x^157 + 21*x^156 + 4*x^154 + 19*x^153 + 16*x^152 + 18*x^151 + 12*x^150 + 3*x^149 + 4*x^148 + 7*x^147 + 7*x^146 + 12*x^145 + 16*x^143 + 8*x^142 + 2*x^141 + 22*x^140 + 4*x^139 + 9*x^138 + 22*x^137 + 12*x^136 + 14*x^133 + 21*x^132 + 13*x^131 + 14*x^130 + 13*x^128 + 21*x^127 + x^126 + 22*x^125 + 7*x^124 + 13*x^123 + 11*x^122 + 8*x^121 + 8*x^120 + 16*x^119 + 11*x^118 + 15*x^117 + 16*x^116 + 15*x^115 + 9*x^114 + 2*x^113 + 19*x^112 + 3*x^111 + x^110 + 2*x^109 + 2*x^108 + 6*x^107 + 11*x^106 + 13*x^105 + 16*x^104 + 6*x^103 + 3*x^102 + 21*x^101 + 18*x^100 + 17*x^99 + 13*x^98 + 22*x^97 + 10*x^96 + 12*x^94 + 9*x^93 + 6*x^92 + 18*x^91 + 7*x^90 + 8*x^89 + 21*x^88 + 4*x^87 + 17*x^86 + 13*x^85 + 22*x^84 + 6*x^83 + 21*x^82 + 14*x^81 + 8*x^80 + 6*x^79 + 19*x^78 + 17*x^77 + 7*x^76 + x^75 + 8*x^74 + 20*x^73 + 20*x^72 + 17*x^71 + 2*x^70 + 18*x^69 + 2*x^68 + 4*x^67 + 3*x^66 + 12*x^65 + 8*x^64 + 20*x^63 + 19*x^62 + 20*x^61 + 5*x^60 + 22*x^59 + 22*x^58 + 3*x^57 + 3*x^56 + 19*x^55 + 13*x^54 + 7*x^53 + 20*x^52 + 9*x^51 + 3*x^50 + 9*x^49 + 15*x^48 + 3*x^47 + 4*x^46 + 3*x^44 + 7*x^43 + 13*x^42 + x^41 + 20*x^39 + 17*x^38 + 15*x^37 + 7*x^36 + 4*x^35 + 12*x^33 + 21*x^32 + 4*x^31 + 9*x^30 + 16*x^29 + 14*x^28 + x^27 + 2*x^26 + 16*x^25 + 18*x^24 + 17*x^23 + 3*x^22 + 3*x^21 + 18*x^20 + x^19 + 16*x^18 + 22*x^17 + 16*x^16 + 6*x^14 + 20*x^13 + 7*x^11 + 17*x^10 + 15*x^9 + 10*x^8 + 2*x^7 + 11*x^6 + 19*x^5 + 2*x^3 + 7*x^2 + 19*x + 1)*z^33 + (x^224 + 14*x^223 + 14*x^222 + x^221 + 4*x^220 + 16*x^219 + 18*x^218 + 6*x^217 + 13*x^216 + 14*x^215 + 22*x^214 + 17*x^212 + 19*x^211 + 22*x^210 + 3*x^209 + 16*x^206 + 18*x^205 + x^204 + 12*x^203 + 8*x^202 + 8*x^201 + 14*x^200 + 16*x^199 + 19*x^198 + 17*x^197 + 21*x^196 + 3*x^195 + 8*x^194 + 11*x^193 + 7*x^192 + 8*x^191 + 11*x^190 + 15*x^189 + 2*x^188 + x^187 + 6*x^186 + 14*x^185 + 22*x^184 + 19*x^183 + 3*x^182 + 20*x^181 + 22*x^180 + 21*x^179 + 6*x^178 + 5*x^177 + 16*x^176 + 7*x^175 + 18*x^174 + 10*x^172 + 19*x^171 + 13*x^170 + 2*x^169 + 16*x^167 + 10*x^166 + 8*x^165 + 18*x^164 + 11*x^163 + 5*x^162 + 18*x^161 + 5*x^160 + 4*x^159 + 3*x^158 + 22*x^157 + 15*x^156 + 16*x^155 + 12*x^154 + 21*x^153 + 8*x^152 + 16*x^151 + 21*x^150 + 6*x^149 + 11*x^148 + 17*x^147 + 11*x^146 + 12*x^145 + 8*x^143 + 4*x^142 + x^141 + 11*x^140 + 14*x^139 + 10*x^138 + x^137 + 4*x^136 + 14*x^135 + 12*x^134 + 19*x^133 + 2*x^131 + 21*x^130 + 4*x^129 + 11*x^128 + 16*x^127 + 18*x^126 + x^125 + 12*x^124 + 16*x^123 + 14*x^122 + 12*x^121 + 3*x^120 + 14*x^119 + 7*x^118 + 20*x^117 + 11*x^116 + 3*x^115 + 10*x^114 + 8*x^113 + 11*x^112 + 13*x^111 + 8*x^110 + 12*x^109 + x^107 + 6*x^106 + 5*x^104 + 10*x^103 + 5*x^102 + 7*x^100 + 12*x^99 + 9*x^98 + 8*x^97 + 7*x^96 + 12*x^95 + 22*x^94 + 9*x^93 + 5*x^92 + 15*x^91 + 20*x^90 + 18*x^89 + 6*x^88 + 8*x^87 + 16*x^86 + 8*x^85 + 22*x^84 + 8*x^82 + 16*x^81 + 21*x^80 + 15*x^79 + 18*x^78 + 16*x^77 + 15*x^76 + 20*x^74 + 19*x^73 + 14*x^72 + 4*x^71 + 15*x^70 + 12*x^69 + x^68 + 2*x^67 + 2*x^66 + 16*x^65 + 9*x^64 + 3*x^63 + 3*x^62 + 3*x^61 + 15*x^60 + 10*x^59 + 19*x^58 + 8*x^56 + 3*x^55 + 3*x^54 + 11*x^53 + 7*x^52 + 17*x^51 + 8*x^50 + 6*x^49 + 11*x^48 + 22*x^47 + 17*x^46 + 20*x^45 + 9*x^44 + 6*x^43 + 3*x^42 + 10*x^41 + 9*x^40 + 5*x^39 + 13*x^38 + 3*x^36 + 7*x^35 + 12*x^34 + 3*x^33 + 10*x^32 + 15*x^31 + 2*x^30 + 5*x^29 + 19*x^28 + 13*x^27 + 9*x^26 + 17*x^25 + 19*x^24 + 20*x^23 + 17*x^22 + 15*x^21 + 20*x^20 + x^19 + 12*x^18 + 5*x^17 + x^15 + 20*x^14 + 10*x^13 + 16*x^12 + 7*x^11 + 9*x^10 + 21*x^9 + x^8 + 15*x^7 + 13*x^6 + 2*x^5 + 18*x^4 + 22*x^3 + 6*x^2 + 21*x + 22)*z^32 + (18*x^224 + 11*x^223 + 5*x^222 + 19*x^221 + 15*x^220 + 20*x^219 + 18*x^218 + 16*x^217 + 16*x^216 + 6*x^215 + 11*x^214 + 13*x^213 + 20*x^212 + 18*x^211 + 14*x^210 + 7*x^209 + 10*x^208 + 16*x^207 + 4*x^206 + 17*x^205 + 20*x^203 + 22*x^202 + 12*x^201 + 11*x^200 + 3*x^199 + 10*x^198 + 6*x^197 + 12*x^196 + 2*x^195 + 6*x^194 + 13*x^193 + 9*x^192 + 3*x^190 + 10*x^189 + 21*x^188 + 9*x^187 + 13*x^186 + 14*x^185 + 12*x^184 + 11*x^182 + 16*x^181 + 17*x^180 + 18*x^179 + 11*x^178 + 21*x^177 + 11*x^176 + 15*x^175 + 4*x^174 + 14*x^173 + 20*x^172 + 15*x^171 + 19*x^170 + 18*x^169 + 9*x^168 + 6*x^167 + 14*x^166 + x^165 + 4*x^164 + 19*x^163 + 19*x^162 + 5*x^161 + x^160 + 2*x^159 + 3*x^158 + 18*x^157 + 15*x^155 + x^154 + 4*x^153 + x^152 + 20*x^151 + 11*x^150 + x^149 + 7*x^148 + 14*x^147 + 11*x^146 + 22*x^145 + 5*x^144 + 6*x^143 + 12*x^142 + 8*x^141 + 22*x^140 + x^138 + 16*x^137 + 5*x^136 + 20*x^135 + 5*x^134 + 22*x^133 + 18*x^132 + 16*x^131 + 19*x^130 + 7*x^129 + x^128 + 16*x^127 + 15*x^126 + 15*x^125 + 7*x^124 + 12*x^123 + 18*x^122 + 12*x^121 + 20*x^120 + 9*x^119 + x^118 + 9*x^117 + 20*x^116 + 6*x^115 + x^114 + 18*x^113 + 10*x^112 + 22*x^111 + 10*x^110 + 2*x^109 + 5*x^108 + 22*x^107 + 16*x^106 + 19*x^105 + 13*x^104 + 7*x^103 + 21*x^102 + 19*x^101 + 18*x^100 + 17*x^99 + 16*x^98 + 13*x^97 + 14*x^96 + 17*x^95 + 19*x^94 + 19*x^93 + 13*x^92 + 10*x^91 + 9*x^90 + 12*x^89 + 2*x^88 + 13*x^87 + 22*x^86 + 22*x^85 + 21*x^84 + 6*x^83 + 10*x^82 + 10*x^81 + 16*x^80 + 14*x^79 + 20*x^78 + 16*x^77 + 15*x^76 + 6*x^75 + 2*x^74 + 4*x^73 + 11*x^72 + 22*x^71 + 17*x^69 + 13*x^68 + 13*x^67 + 5*x^65 + 13*x^64 + 17*x^63 + 19*x^62 + 16*x^61 + 4*x^60 + 20*x^59 + 10*x^58 + 18*x^57 + 5*x^56 + 14*x^55 + 17*x^54 + 19*x^53 + 17*x^52 + 9*x^51 + 19*x^50 + 14*x^49 + 4*x^48 + 22*x^47 + 9*x^46 + 15*x^45 + 10*x^44 + 17*x^43 + 20*x^42 + 11*x^41 + 18*x^40 + 18*x^39 + 4*x^38 + 14*x^37 + 3*x^36 + 11*x^35 + 11*x^33 + 19*x^32 + 2*x^31 + 10*x^30 + 10*x^29 + 14*x^28 + 17*x^27 + 19*x^26 + 21*x^25 + 3*x^24 + 10*x^23 + 14*x^22 + 6*x^20 + 21*x^19 + 18*x^18 + 19*x^17 + 2*x^16 + 7*x^15 + 7*x^14 + 13*x^13 + 2*x^12 + 8*x^11 + 9*x^10 + 6*x^9 + 5*x^8 + 12*x^7 + 9*x^6 + 6*x^5 + 12*x^4 + 15*x^3 + 19*x^2 + 6*x + 15)*z^31 + (18*x^224 + 9*x^223 + 17*x^222 + 17*x^221 + 21*x^220 + 21*x^219 + 12*x^218 + 6*x^217 + 3*x^216 + 9*x^215 + 5*x^213 + 16*x^212 + 12*x^211 + 4*x^210 + 14*x^209 + 9*x^208 + 21*x^207 + 7*x^206 + 6*x^205 + 14*x^204 + 15*x^203 + 4*x^202 + 16*x^200 + 9*x^199 + 21*x^198 + 7*x^197 + 18*x^196 + 6*x^195 + 5*x^194 + 12*x^192 + 18*x^191 + 16*x^190 + 10*x^189 + 6*x^188 + 16*x^187 + x^186 + 19*x^185 + 5*x^184 + x^183 + 15*x^182 + 6*x^181 + 8*x^180 + x^179 + 8*x^178 + 18*x^177 + 21*x^175 + 13*x^174 + 7*x^173 + 6*x^172 + 13*x^171 + 8*x^170 + 22*x^169 + 13*x^168 + 8*x^167 + 9*x^166 + 3*x^165 + 3*x^164 + 12*x^163 + 18*x^162 + 22*x^161 + 22*x^160 + 21*x^158 + 12*x^157 + 8*x^156 + 10*x^155 + 17*x^154 + 15*x^153 + 15*x^152 + 11*x^151 + 15*x^150 + 15*x^149 + 17*x^148 + 9*x^147 + 12*x^146 + 9*x^145 + 16*x^143 + 12*x^142 + 20*x^141 + 10*x^139 + 3*x^138 + 17*x^137 + 2*x^136 + 7*x^135 + 9*x^134 + 8*x^133 + 2*x^132 + 19*x^131 + 12*x^130 + 15*x^129 + 12*x^128 + 17*x^127 + 11*x^126 + x^125 + 18*x^124 + 2*x^123 + 2*x^122 + 18*x^121 + 13*x^120 + 6*x^119 + 17*x^118 + 4*x^117 + 9*x^116 + 20*x^115 + 3*x^114 + 5*x^113 + 2*x^112 + 15*x^111 + 11*x^110 + 4*x^109 + 13*x^108 + 14*x^107 + 5*x^106 + 7*x^105 + 18*x^104 + 19*x^103 + 12*x^102 + 17*x^101 + 2*x^99 + x^98 + 11*x^97 + 15*x^96 + 11*x^95 + x^94 + 11*x^93 + 22*x^92 + 9*x^91 + 19*x^90 + 19*x^89 + 3*x^88 + 22*x^87 + 21*x^86 + 16*x^85 + 15*x^84 + 16*x^83 + 11*x^82 + 20*x^81 + 8*x^80 + 17*x^79 + 20*x^78 + 20*x^76 + 9*x^75 + 10*x^74 + 8*x^73 + 20*x^72 + 3*x^71 + 16*x^70 + 2*x^69 + 13*x^68 + 6*x^67 + 11*x^66 + 5*x^65 + 11*x^64 + 8*x^63 + 6*x^62 + 19*x^61 + 13*x^59 + 12*x^58 + 8*x^57 + 14*x^56 + 7*x^55 + 17*x^54 + 13*x^53 + 4*x^52 + 20*x^51 + 11*x^50 + 9*x^49 + 3*x^48 + 17*x^47 + 20*x^46 + 11*x^45 + 6*x^44 + 3*x^43 + 17*x^42 + 7*x^41 + 20*x^40 + 18*x^39 + 16*x^38 + 7*x^37 + 22*x^36 + 21*x^35 + 10*x^34 + 17*x^33 + 11*x^32 + 9*x^31 + 19*x^30 + 21*x^29 + 12*x^28 + 13*x^27 + 7*x^26 + 20*x^25 + 19*x^24 + 20*x^23 + 21*x^22 + 13*x^21 + 14*x^20 + 15*x^19 + 2*x^18 + 12*x^17 + 13*x^16 + x^15 + 7*x^14 + 20*x^13 + 20*x^12 + 4*x^11 + 4*x^10 + 20*x^9 + 9*x^8 + 7*x^7 + 16*x^6 + x^5 + 16*x^4 + 5*x^3 + 9*x^2 + 3*x + 6)*z^30 + (22*x^224 + 16*x^223 + 4*x^221 + 18*x^220 + 6*x^219 + 3*x^218 + 18*x^217 + 12*x^216 + 22*x^215 + 21*x^214 + 16*x^213 + 8*x^212 + 12*x^211 + 4*x^210 + 21*x^209 + 16*x^208 + 22*x^207 + 17*x^206 + 7*x^205 + 3*x^204 + 8*x^203 + 13*x^202 + 21*x^201 + 16*x^200 + 4*x^198 + 22*x^197 + 9*x^196 + x^195 + 14*x^194 + 3*x^193 + 5*x^192 + 21*x^190 + 5*x^189 + 3*x^188 + 10*x^187 + 16*x^186 + 21*x^185 + 4*x^184 + 11*x^182 + 20*x^181 + 13*x^180 + 4*x^178 + 10*x^177 + 22*x^176 + 6*x^175 + 19*x^174 + x^173 + 5*x^172 + 22*x^171 + 14*x^170 + 18*x^169 + x^168 + 3*x^167 + 14*x^166 + 20*x^165 + 13*x^164 + 20*x^163 + 3*x^162 + 11*x^161 + 12*x^160 + 9*x^159 + 21*x^158 + x^157 + 18*x^156 + 22*x^155 + 6*x^154 + 17*x^153 + 20*x^152 + 14*x^150 + 20*x^148 + 9*x^147 + 10*x^146 + 18*x^145 + 8*x^144 + 19*x^143 + 2*x^142 + 5*x^141 + 13*x^140 + 19*x^139 + 7*x^138 + 21*x^137 + 4*x^136 + 12*x^135 + 17*x^134 + 12*x^133 + x^132 + 16*x^131 + 12*x^130 + 18*x^129 + 11*x^128 + 9*x^127 + 10*x^126 + 8*x^124 + x^123 + 8*x^122 + 17*x^121 + 2*x^119 + 15*x^118 + 16*x^117 + 4*x^116 + 19*x^115 + 17*x^114 + 9*x^113 + 5*x^112 + 3*x^111 + 2*x^110 + 15*x^109 + 4*x^107 + 21*x^106 + 16*x^105 + 21*x^104 + 8*x^103 + 5*x^102 + 5*x^101 + 12*x^100 + 15*x^99 + x^98 + 21*x^97 + 8*x^96 + 12*x^95 + 11*x^94 + 19*x^93 + 22*x^92 + 13*x^91 + 12*x^90 + 7*x^89 + 11*x^88 + 18*x^87 + 11*x^86 + 18*x^85 + 12*x^84 + 17*x^83 + 21*x^82 + 16*x^81 + 5*x^80 + 15*x^79 + 7*x^78 + 3*x^77 + 13*x^76 + 10*x^75 + 16*x^74 + 15*x^72 + 3*x^71 + 17*x^70 + 16*x^69 + x^68 + 5*x^67 + 9*x^66 + 20*x^65 + 17*x^63 + 20*x^62 + 13*x^61 + 5*x^60 + 22*x^59 + 19*x^58 + 20*x^57 + x^56 + 13*x^55 + 14*x^54 + 20*x^53 + 19*x^52 + 22*x^51 + x^50 + 12*x^49 + 4*x^48 + 9*x^47 + 8*x^46 + 11*x^45 + 11*x^44 + 3*x^43 + 10*x^42 + 18*x^41 + 16*x^40 + 18*x^39 + 17*x^38 + 17*x^37 + 7*x^36 + 16*x^35 + 21*x^34 + 14*x^33 + 4*x^32 + 5*x^31 + 18*x^30 + 17*x^28 + 20*x^27 + 20*x^26 + 21*x^25 + 2*x^24 + 20*x^23 + 9*x^22 + 13*x^21 + 13*x^20 + 12*x^19 + 20*x^18 + 13*x^17 + 16*x^16 + 18*x^15 + 16*x^14 + 9*x^13 + 7*x^12 + 4*x^10 + 12*x^9 + 13*x^8 + x^7 + 4*x^6 + 7*x^5 + 20*x^4 + 2*x^3 + 16)*z^29 + (16*x^224 + 17*x^223 + 9*x^222 + 22*x^221 + x^220 + x^219 + 12*x^218 + 12*x^217 + 17*x^216 + 22*x^215 + 15*x^214 + 18*x^213 + 19*x^211 + 22*x^210 + 2*x^209 + 8*x^208 + 17*x^207 + 16*x^206 + 20*x^205 + 13*x^204 + 20*x^203 + 18*x^202 + 19*x^201 + 3*x^200 + 13*x^199 + x^198 + x^197 + 18*x^196 + 9*x^195 + 20*x^194 + 18*x^193 + 15*x^192 + 22*x^191 + 8*x^190 + 9*x^189 + 9*x^188 + 4*x^187 + 16*x^186 + 14*x^185 + 10*x^184 + 8*x^183 + 20*x^182 + 14*x^181 + 6*x^180 + 19*x^179 + 8*x^178 + 14*x^177 + 19*x^176 + 3*x^175 + 9*x^174 + 17*x^173 + 8*x^172 + x^171 + 15*x^170 + 11*x^169 + 9*x^168 + 5*x^167 + 4*x^166 + 10*x^165 + 7*x^164 + 14*x^163 + 2*x^162 + 18*x^161 + 6*x^160 + 10*x^159 + 10*x^158 + 14*x^157 + x^156 + 11*x^155 + x^154 + 8*x^153 + 22*x^152 + 9*x^151 + 9*x^150 + 7*x^149 + 5*x^148 + 5*x^147 + 7*x^146 + 16*x^145 + 6*x^144 + 22*x^143 + 13*x^142 + 9*x^141 + 10*x^140 + 19*x^139 + 9*x^138 + 18*x^137 + 17*x^136 + 7*x^135 + 11*x^134 + 19*x^133 + 20*x^132 + x^131 + 17*x^130 + 17*x^129 + 8*x^128 + 5*x^127 + 17*x^126 + 8*x^125 + 5*x^124 + 20*x^123 + x^122 + 13*x^121 + 18*x^119 + x^118 + 16*x^117 + 20*x^116 + 3*x^115 + 9*x^114 + 7*x^112 + 21*x^111 + 3*x^110 + 13*x^109 + 12*x^108 + 5*x^107 + 4*x^106 + 18*x^105 + 16*x^104 + 6*x^102 + 2*x^100 + 11*x^99 + 9*x^98 + 20*x^97 + 10*x^96 + 8*x^95 + 22*x^94 + 19*x^93 + 11*x^92 + 15*x^91 + 20*x^90 + 12*x^89 + 21*x^88 + 20*x^87 + 2*x^86 + 5*x^85 + 15*x^82 + 4*x^81 + 18*x^80 + 11*x^79 + 2*x^78 + 6*x^77 + 11*x^76 + 8*x^75 + 7*x^74 + 9*x^73 + 15*x^72 + 22*x^70 + 11*x^69 + 2*x^68 + 4*x^66 + 18*x^65 + 5*x^64 + 10*x^63 + 22*x^61 + 10*x^60 + 21*x^59 + 8*x^58 + 20*x^57 + 7*x^56 + 14*x^55 + 14*x^54 + 15*x^53 + 4*x^52 + 4*x^51 + 11*x^50 + 2*x^49 + 15*x^48 + 19*x^47 + x^46 + 17*x^45 + 21*x^44 + 17*x^42 + x^41 + 17*x^39 + 22*x^38 + 5*x^37 + 4*x^36 + 6*x^35 + 10*x^34 + 22*x^33 + 22*x^32 + 8*x^31 + 8*x^30 + 10*x^29 + 19*x^28 + x^27 + 9*x^26 + 6*x^25 + 20*x^24 + 7*x^23 + 18*x^22 + 7*x^21 + 6*x^20 + 18*x^19 + 15*x^18 + 10*x^17 + 20*x^16 + 13*x^15 + 3*x^14 + 10*x^13 + 18*x^12 + 21*x^11 + 9*x^10 + 4*x^9 + 4*x^7 + 20*x^6 + 21*x^5 + 21*x^4 + 21*x^3 + 20*x^2 + 4*x + 5)*z^28 + (x^224 + 11*x^223 + 7*x^222 + 4*x^221 + 19*x^220 + 2*x^219 + 21*x^218 + 22*x^217 + 2*x^215 + 20*x^214 + 7*x^213 + 18*x^212 + 5*x^211 + x^210 + 12*x^209 + 12*x^208 + 7*x^207 + 7*x^206 + 8*x^205 + 8*x^204 + 3*x^203 + 18*x^202 + 12*x^201 + 6*x^200 + 7*x^199 + 12*x^197 + 20*x^196 + 6*x^195 + 2*x^194 + 14*x^193 + 22*x^192 + 4*x^191 + 5*x^190 + 19*x^189 + 7*x^188 + 4*x^187 + 18*x^186 + 4*x^185 + 21*x^184 + 11*x^183 + 14*x^182 + 18*x^181 + 20*x^180 + 13*x^179 + 10*x^178 + 15*x^176 + 16*x^175 + 22*x^174 + 13*x^173 + 11*x^172 + 7*x^171 + 8*x^170 + 17*x^169 + 10*x^168 + 17*x^167 + 13*x^166 + 7*x^165 + 11*x^164 + 22*x^163 + x^162 + 21*x^161 + 14*x^160 + 18*x^159 + 12*x^158 + x^157 + 17*x^156 + 17*x^155 + 17*x^154 + 22*x^153 + 18*x^152 + 5*x^151 + 17*x^150 + 3*x^149 + 7*x^148 + 16*x^147 + 14*x^146 + 12*x^145 + 7*x^144 + 5*x^143 + 8*x^142 + 2*x^141 + 15*x^140 + 18*x^139 + 10*x^138 + 19*x^137 + 3*x^136 + 10*x^135 + 7*x^133 + 16*x^132 + 22*x^131 + 17*x^130 + 4*x^129 + 18*x^128 + 10*x^127 + 2*x^126 + 2*x^125 + 11*x^124 + 13*x^123 + 22*x^122 + 16*x^121 + 3*x^120 + 9*x^119 + 12*x^118 + 18*x^117 + 17*x^115 + 14*x^114 + 19*x^113 + 15*x^112 + 22*x^111 + 17*x^110 + 22*x^109 + 5*x^108 + 7*x^107 + 2*x^106 + 3*x^105 + 6*x^104 + 13*x^103 + 4*x^102 + 10*x^101 + 16*x^100 + 6*x^99 + 18*x^98 + 6*x^97 + 15*x^96 + 12*x^94 + 20*x^93 + 7*x^92 + 15*x^91 + 15*x^90 + 22*x^88 + 14*x^87 + 15*x^86 + 12*x^85 + 3*x^84 + 16*x^83 + 15*x^82 + 6*x^81 + 8*x^80 + 15*x^79 + 18*x^78 + 9*x^77 + 2*x^76 + 7*x^75 + 14*x^74 + 2*x^73 + 2*x^72 + 17*x^71 + 5*x^70 + 9*x^69 + 2*x^68 + 7*x^67 + 20*x^66 + x^64 + 6*x^63 + 21*x^62 + 15*x^61 + 6*x^60 + 11*x^59 + 19*x^58 + 2*x^57 + 20*x^56 + 6*x^55 + 3*x^54 + 4*x^53 + 12*x^52 + 9*x^51 + 7*x^50 + 16*x^49 + 15*x^48 + 18*x^47 + 10*x^46 + 4*x^45 + 4*x^44 + 18*x^43 + 18*x^42 + 16*x^41 + 11*x^40 + 22*x^39 + 17*x^38 + 2*x^37 + 19*x^36 + 6*x^35 + 19*x^34 + 15*x^33 + 22*x^32 + 19*x^31 + x^30 + x^29 + 20*x^28 + 7*x^27 + 22*x^26 + 13*x^25 + 6*x^24 + 11*x^23 + 8*x^22 + 6*x^21 + 21*x^20 + 2*x^19 + 9*x^18 + 22*x^17 + 15*x^15 + 17*x^14 + 16*x^13 + 5*x^12 + 18*x^11 + 17*x^10 + 16*x^9 + 4*x^8 + 9*x^7 + x^6 + 19*x^5 + 11*x^4 + 4*x^3 + 20*x^2 + x + 15)*z^27 + (3*x^224 + 14*x^223 + 20*x^222 + 14*x^221 + 20*x^220 + 2*x^219 + 18*x^218 + 14*x^217 + 20*x^216 + 11*x^215 + 6*x^214 + 15*x^213 + 20*x^212 + 17*x^211 + 7*x^210 + 17*x^209 + 20*x^208 + 20*x^207 + 6*x^206 + 19*x^205 + 7*x^204 + 17*x^203 + 2*x^202 + 21*x^201 + 19*x^200 + 22*x^199 + x^198 + 5*x^197 + 11*x^196 + 3*x^195 + 2*x^194 + 14*x^193 + 4*x^192 + 16*x^191 + 5*x^190 + 8*x^189 + 19*x^188 + x^187 + 17*x^186 + 2*x^185 + 12*x^184 + 19*x^183 + 9*x^182 + 3*x^181 + 16*x^180 + 8*x^179 + 13*x^178 + 9*x^177 + 13*x^176 + 10*x^175 + 20*x^174 + 3*x^173 + 17*x^172 + 20*x^171 + 18*x^170 + 10*x^169 + 10*x^167 + 5*x^166 + 7*x^165 + 8*x^164 + 21*x^163 + 11*x^162 + 15*x^161 + 21*x^160 + 8*x^159 + 15*x^158 + 19*x^157 + 8*x^156 + 11*x^155 + 16*x^154 + 20*x^153 + 7*x^150 + 3*x^149 + 19*x^148 + 2*x^147 + 2*x^145 + 15*x^144 + 9*x^143 + 21*x^142 + 16*x^141 + 10*x^140 + 7*x^139 + 12*x^138 + x^136 + 15*x^135 + 12*x^134 + 21*x^133 + 9*x^131 + 22*x^130 + 15*x^129 + 11*x^128 + 8*x^127 + 15*x^125 + 4*x^124 + 16*x^123 + 6*x^122 + 13*x^121 + 15*x^120 + 17*x^119 + x^118 + 11*x^117 + 19*x^115 + 14*x^114 + 8*x^113 + 15*x^112 + 5*x^111 + 19*x^110 + 21*x^109 + 16*x^108 + 4*x^107 + 11*x^106 + 3*x^104 + 5*x^103 + 13*x^102 + 15*x^100 + 4*x^99 + 15*x^98 + 10*x^97 + 14*x^95 + 15*x^94 + 9*x^93 + 2*x^92 + 8*x^90 + 11*x^89 + 6*x^87 + 12*x^86 + 8*x^84 + 3*x^83 + x^82 + x^81 + 17*x^80 + 6*x^79 + 9*x^78 + 20*x^77 + 5*x^76 + 6*x^75 + 11*x^74 + 12*x^73 + 12*x^72 + 12*x^71 + 2*x^70 + 2*x^69 + 8*x^68 + 14*x^67 + 11*x^66 + 16*x^65 + 11*x^64 + x^63 + 8*x^62 + 5*x^61 + 22*x^60 + 21*x^59 + 19*x^58 + 15*x^57 + 8*x^56 + 9*x^55 + 5*x^53 + 5*x^52 + 14*x^51 + 7*x^50 + 9*x^49 + 15*x^48 + 2*x^47 + 21*x^46 + 19*x^45 + 9*x^44 + x^43 + 13*x^42 + 21*x^41 + 5*x^40 + 11*x^39 + x^36 + 6*x^35 + 5*x^34 + 12*x^33 + 16*x^32 + 11*x^31 + 12*x^30 + 13*x^29 + 7*x^28 + 4*x^27 + 18*x^26 + 20*x^25 + 3*x^24 + 18*x^23 + 9*x^20 + 21*x^18 + 13*x^16 + 6*x^15 + 9*x^14 + 5*x^13 + 21*x^12 + 16*x^11 + 21*x^10 + 19*x^9 + 21*x^8 + 21*x^7 + 5*x^6 + 5*x^5 + 2*x^4 + 19*x^3 + 19*x^2 + 5*x + 10)*z^26 + (4*x^224 + 5*x^223 + x^222 + 17*x^221 + 3*x^220 + 3*x^219 + 4*x^218 + 15*x^217 + 7*x^216 + 16*x^215 + 9*x^214 + 19*x^213 + 22*x^212 + 16*x^211 + 22*x^210 + 21*x^208 + 3*x^207 + 10*x^206 + 8*x^205 + 3*x^204 + 8*x^203 + 21*x^202 + 12*x^201 + x^200 + 11*x^199 + 3*x^198 + 6*x^197 + 7*x^196 + 22*x^195 + 21*x^194 + 4*x^193 + 13*x^192 + 19*x^191 + 19*x^190 + 10*x^189 + 5*x^188 + 13*x^187 + 20*x^186 + 19*x^185 + 9*x^184 + 10*x^183 + 20*x^182 + 11*x^181 + 16*x^180 + 22*x^179 + 21*x^178 + x^177 + 10*x^176 + 20*x^175 + 18*x^174 + 16*x^173 + 5*x^172 + 16*x^171 + 3*x^170 + 15*x^169 + 3*x^168 + 9*x^167 + 7*x^166 + 11*x^165 + 13*x^164 + 12*x^163 + 8*x^162 + 6*x^161 + x^160 + 4*x^159 + 9*x^158 + 8*x^156 + 14*x^155 + 3*x^154 + 14*x^153 + 12*x^152 + 19*x^151 + 22*x^150 + 14*x^149 + 17*x^148 + 21*x^147 + 8*x^146 + 4*x^145 + 6*x^144 + 18*x^143 + 12*x^142 + 6*x^141 + x^140 + 7*x^139 + 14*x^138 + 14*x^137 + 18*x^136 + 19*x^135 + 16*x^134 + 12*x^133 + 13*x^132 + 3*x^131 + 5*x^130 + 21*x^128 + 15*x^127 + 18*x^126 + 12*x^125 + 15*x^124 + 14*x^123 + 16*x^122 + 4*x^121 + 13*x^120 + 14*x^119 + 13*x^118 + 4*x^117 + 21*x^116 + 19*x^115 + 3*x^114 + 3*x^113 + 20*x^111 + 4*x^110 + 4*x^109 + 5*x^108 + 17*x^107 + 2*x^106 + x^105 + x^104 + 3*x^103 + 17*x^102 + 16*x^101 + x^100 + 13*x^99 + 21*x^98 + 17*x^97 + 17*x^96 + 5*x^95 + 3*x^94 + 13*x^93 + 22*x^92 + 15*x^91 + 5*x^90 + 22*x^89 + 7*x^88 + 22*x^87 + 6*x^86 + 20*x^85 + 15*x^84 + 14*x^83 + 5*x^82 + 21*x^81 + 20*x^80 + 12*x^79 + 20*x^78 + 19*x^77 + 13*x^76 + 6*x^74 + x^73 + 4*x^72 + 12*x^71 + 5*x^70 + 4*x^69 + 13*x^68 + 4*x^67 + 3*x^66 + 4*x^65 + 14*x^64 + 17*x^63 + 8*x^62 + 10*x^61 + 16*x^60 + 13*x^59 + 13*x^58 + 22*x^57 + x^56 + 10*x^55 + 9*x^54 + 11*x^53 + 8*x^52 + 6*x^51 + 17*x^49 + 12*x^48 + 12*x^47 + 19*x^46 + x^45 + 12*x^44 + 22*x^43 + 17*x^42 + 11*x^41 + 19*x^40 + 17*x^39 + 7*x^38 + 16*x^37 + 5*x^36 + 5*x^35 + 4*x^34 + 7*x^33 + 21*x^32 + 5*x^31 + 9*x^30 + 17*x^29 + 18*x^28 + 14*x^27 + 7*x^26 + 19*x^25 + 20*x^24 + 10*x^23 + 18*x^22 + 18*x^21 + 17*x^20 + 2*x^19 + 17*x^18 + 11*x^17 + 22*x^14 + 11*x^13 + 6*x^12 + x^11 + 15*x^10 + 13*x^9 + 6*x^8 + 12*x^7 + 7*x^6 + 3*x^5 + 6*x^4 + 20*x^3 + 9*x^2 + 22*x + 16)*z^25 + (19*x^224 + 8*x^223 + 13*x^222 + 22*x^220 + x^219 + 13*x^218 + 9*x^217 + 2*x^216 + 20*x^215 + 19*x^214 + 9*x^213 + 7*x^212 + 5*x^211 + 22*x^210 + 15*x^209 + 6*x^208 + 15*x^207 + 13*x^206 + 21*x^205 + 9*x^204 + 8*x^203 + 21*x^202 + 2*x^201 + 17*x^200 + 9*x^199 + 6*x^198 + 15*x^197 + 3*x^196 + 6*x^195 + 5*x^194 + 15*x^193 + 22*x^192 + 17*x^191 + 3*x^190 + x^189 + 8*x^187 + x^185 + 8*x^184 + 6*x^183 + x^182 + 15*x^181 + 21*x^180 + 20*x^179 + 15*x^178 + 19*x^177 + 11*x^176 + x^175 + 12*x^174 + 6*x^173 + 19*x^172 + 12*x^170 + 15*x^169 + 4*x^168 + 4*x^167 + 14*x^166 + 20*x^165 + 15*x^164 + 7*x^163 + 7*x^162 + 7*x^161 + 7*x^160 + 16*x^159 + 16*x^158 + 17*x^157 + 22*x^156 + 6*x^155 + 7*x^154 + 20*x^153 + 22*x^152 + 21*x^151 + 16*x^150 + 6*x^148 + 2*x^147 + x^146 + 8*x^145 + 2*x^144 + 18*x^143 + 9*x^142 + 21*x^141 + 15*x^140 + 21*x^139 + 11*x^138 + 2*x^137 + 12*x^136 + 21*x^135 + 5*x^134 + 6*x^133 + 18*x^132 + 19*x^131 + 9*x^130 + 16*x^129 + 7*x^128 + 21*x^127 + x^126 + 13*x^125 + 17*x^124 + 10*x^123 + 13*x^122 + 16*x^121 + 15*x^120 + 20*x^118 + 17*x^117 + x^116 + 16*x^115 + 16*x^114 + 19*x^113 + 7*x^112 + 19*x^111 + 8*x^110 + 4*x^109 + 18*x^107 + 15*x^106 + 10*x^105 + 22*x^104 + 21*x^103 + 4*x^102 + 18*x^101 + 10*x^100 + 4*x^99 + 17*x^97 + x^96 + 17*x^95 + 21*x^94 + 20*x^93 + 19*x^92 + 8*x^91 + x^90 + 2*x^89 + 3*x^88 + 3*x^87 + 8*x^86 + 4*x^85 + 10*x^84 + 2*x^83 + 12*x^82 + 21*x^81 + 13*x^80 + 22*x^79 + 21*x^78 + 4*x^77 + 5*x^76 + 4*x^75 + 22*x^74 + 21*x^73 + 11*x^72 + 21*x^71 + 8*x^69 + 4*x^68 + 9*x^67 + 10*x^66 + 19*x^65 + 13*x^64 + 11*x^63 + 12*x^62 + 5*x^61 + 19*x^60 + 12*x^59 + 6*x^58 + x^57 + 16*x^56 + 4*x^55 + 19*x^54 + 8*x^53 + 3*x^52 + 15*x^51 + 20*x^50 + 5*x^49 + 7*x^48 + 14*x^47 + 7*x^45 + 10*x^44 + 22*x^43 + 19*x^42 + 9*x^41 + 15*x^40 + 4*x^39 + 20*x^38 + 11*x^37 + 16*x^36 + 13*x^35 + 15*x^34 + 22*x^33 + 12*x^32 + 14*x^31 + 8*x^30 + 20*x^29 + 2*x^28 + 16*x^27 + 4*x^26 + 12*x^25 + 14*x^23 + 11*x^22 + 9*x^21 + 2*x^20 + 12*x^19 + 5*x^18 + 2*x^17 + 8*x^16 + 8*x^15 + 21*x^14 + 21*x^13 + 4*x^12 + x^11 + 20*x^10 + 9*x^9 + 3*x^8 + 13*x^7 + 22*x^6 + 2*x^5 + 20*x^4 + 10*x^3 + 21*x^2 + 22*x + 1)*z^24 + (x^224 + 11*x^222 + 13*x^221 + 14*x^220 + 4*x^219 + 14*x^218 + 21*x^217 + 7*x^216 + 6*x^215 + 18*x^214 + 5*x^213 + 21*x^212 + 6*x^211 + 20*x^210 + 16*x^209 + 16*x^208 + 5*x^207 + 10*x^206 + 21*x^205 + 19*x^204 + 6*x^203 + 20*x^202 + 2*x^201 + 9*x^200 + 5*x^199 + 20*x^198 + 8*x^196 + 14*x^195 + x^193 + 8*x^192 + 13*x^191 + 19*x^190 + 6*x^189 + 12*x^188 + 18*x^187 + 12*x^186 + 10*x^185 + 6*x^184 + 2*x^183 + 7*x^182 + 18*x^181 + 10*x^180 + 12*x^179 + 16*x^178 + 12*x^177 + 8*x^176 + 4*x^175 + 10*x^174 + 12*x^173 + 21*x^172 + 9*x^171 + 12*x^170 + 7*x^169 + 2*x^167 + 7*x^166 + 5*x^165 + 22*x^164 + 15*x^162 + 3*x^161 + 20*x^160 + 12*x^159 + 19*x^158 + 5*x^157 + 15*x^156 + 7*x^155 + 9*x^154 + 5*x^153 + 11*x^152 + 5*x^151 + 19*x^150 + 16*x^149 + 17*x^148 + 12*x^146 + 5*x^145 + 9*x^144 + 21*x^143 + 21*x^142 + 7*x^141 + 6*x^140 + 21*x^139 + 8*x^138 + 15*x^137 + 5*x^136 + 3*x^135 + 18*x^134 + 22*x^132 + 9*x^131 + 20*x^130 + 3*x^129 + 21*x^127 + 9*x^126 + 19*x^125 + 16*x^124 + 5*x^123 + 7*x^122 + 20*x^121 + 13*x^120 + 13*x^119 + 18*x^118 + 17*x^117 + 6*x^116 + 20*x^115 + 6*x^114 + x^113 + 22*x^112 + 9*x^111 + 17*x^110 + 16*x^109 + 2*x^108 + 10*x^107 + 2*x^106 + 3*x^105 + 5*x^104 + 17*x^103 + 9*x^101 + 3*x^100 + 21*x^99 + 20*x^98 + 16*x^97 + 18*x^96 + 4*x^95 + x^94 + x^93 + 20*x^92 + 18*x^91 + 3*x^90 + 4*x^89 + 11*x^88 + 4*x^87 + 8*x^86 + 15*x^85 + 22*x^84 + 6*x^83 + 12*x^82 + 7*x^81 + 18*x^80 + 18*x^79 + 15*x^78 + x^77 + 6*x^76 + 20*x^75 + 16*x^74 + 7*x^73 + 20*x^72 + 6*x^71 + 20*x^70 + 10*x^68 + 11*x^67 + 15*x^66 + 15*x^65 + 9*x^64 + 15*x^63 + 13*x^62 + 6*x^61 + 12*x^60 + 8*x^59 + x^58 + 10*x^57 + 22*x^56 + 14*x^55 + 7*x^54 + 2*x^52 + 19*x^51 + 10*x^49 + 17*x^48 + 17*x^47 + 17*x^46 + 11*x^45 + 15*x^44 + 22*x^43 + 12*x^42 + 12*x^41 + 5*x^40 + 20*x^39 + 2*x^38 + 16*x^37 + 18*x^36 + 9*x^35 + 4*x^34 + 3*x^33 + 10*x^32 + 7*x^31 + 7*x^30 + 11*x^29 + 19*x^28 + 3*x^27 + 4*x^26 + 6*x^25 + 21*x^24 + 14*x^23 + 22*x^22 + 9*x^21 + 14*x^20 + 14*x^18 + 19*x^17 + 11*x^16 + 6*x^15 + 7*x^14 + 12*x^13 + 14*x^12 + 12*x^11 + 20*x^10 + 12*x^9 + 8*x^8 + 12*x^7 + 2*x^5 + 6*x^4 + 16*x^3 + 8*x^2 + 7*x + 22)*z^23 + (20*x^224 + 20*x^223 + 18*x^222 + 8*x^221 + x^220 + 4*x^219 + 6*x^218 + 11*x^217 + 21*x^216 + 4*x^215 + 21*x^214 + 6*x^213 + 9*x^212 + 11*x^211 + x^210 + 11*x^209 + 3*x^208 + 11*x^207 + 12*x^206 + 9*x^205 + 22*x^204 + 21*x^203 + 19*x^202 + 16*x^201 + 22*x^199 + 7*x^198 + 15*x^197 + 15*x^196 + 6*x^195 + 20*x^194 + 22*x^193 + 21*x^192 + 17*x^191 + 14*x^190 + 10*x^189 + 16*x^188 + 2*x^187 + 11*x^186 + 11*x^185 + 21*x^184 + 13*x^183 + 16*x^182 + 10*x^180 + 22*x^179 + 8*x^178 + 6*x^177 + 2*x^176 + 9*x^174 + 18*x^173 + 8*x^172 + 9*x^171 + 10*x^170 + 19*x^169 + x^168 + 14*x^167 + 20*x^166 + 3*x^165 + 2*x^164 + 9*x^163 + 8*x^162 + 22*x^161 + 15*x^160 + 21*x^159 + 3*x^158 + 22*x^157 + 18*x^156 + 14*x^154 + 20*x^153 + 2*x^151 + 7*x^150 + 13*x^149 + 9*x^148 + 14*x^147 + 17*x^146 + 5*x^145 + 15*x^144 + 7*x^143 + 12*x^142 + 18*x^141 + 15*x^140 + 8*x^139 + 2*x^138 + 7*x^137 + 9*x^136 + 15*x^135 + 16*x^134 + 13*x^133 + 19*x^132 + 13*x^131 + 21*x^130 + 10*x^129 + 5*x^128 + 4*x^127 + 7*x^126 + 22*x^125 + 20*x^124 + 13*x^123 + 17*x^121 + 22*x^120 + 19*x^119 + 22*x^118 + 13*x^117 + 6*x^116 + 9*x^115 + 11*x^114 + 8*x^113 + 22*x^112 + 4*x^111 + 7*x^110 + 18*x^109 + 11*x^108 + 10*x^107 + 12*x^106 + 17*x^105 + 3*x^104 + 10*x^103 + 20*x^102 + 18*x^101 + 6*x^100 + 5*x^99 + 9*x^98 + 14*x^97 + 3*x^96 + 20*x^95 + 21*x^94 + 21*x^93 + 2*x^92 + 8*x^91 + 12*x^90 + 4*x^89 + 3*x^88 + 9*x^87 + 14*x^86 + 3*x^85 + 2*x^84 + 19*x^83 + 12*x^82 + 13*x^81 + 2*x^80 + 7*x^79 + 3*x^78 + 11*x^77 + 15*x^76 + 2*x^75 + 22*x^74 + 19*x^73 + 4*x^72 + 14*x^71 + 6*x^70 + 17*x^69 + 5*x^68 + 6*x^66 + 6*x^64 + 17*x^63 + 10*x^62 + 21*x^61 + 17*x^60 + 3*x^59 + 19*x^58 + 7*x^57 + x^56 + 22*x^55 + 5*x^54 + 12*x^53 + 9*x^52 + 13*x^51 + 2*x^50 + 20*x^48 + 4*x^47 + 16*x^46 + x^45 + 15*x^44 + 17*x^43 + 20*x^42 + 19*x^41 + 8*x^39 + 14*x^38 + 8*x^37 + 20*x^36 + 19*x^35 + 15*x^34 + 12*x^33 + 22*x^32 + 3*x^31 + x^30 + 20*x^29 + 2*x^28 + 5*x^27 + 17*x^26 + 5*x^25 + 19*x^24 + x^23 + 13*x^22 + 16*x^21 + 5*x^20 + 13*x^19 + 5*x^18 + 13*x^16 + 4*x^15 + 18*x^14 + x^13 + 5*x^12 + 12*x^11 + 6*x^10 + 10*x^9 + 6*x^8 + 16*x^7 + 16*x^6 + 19*x^5 + 9*x^4 + 17*x^3 + 19*x^2 + 11*x + 1)*z^22 + (5*x^224 + 13*x^223 + 3*x^222 + 14*x^220 + 11*x^219 + 18*x^218 + 5*x^217 + 4*x^216 + 4*x^215 + 17*x^214 + 16*x^213 + 5*x^212 + 12*x^211 + 12*x^209 + 10*x^208 + 3*x^207 + 9*x^206 + 9*x^205 + 11*x^204 + 15*x^203 + 6*x^202 + 13*x^201 + 16*x^200 + 10*x^199 + 13*x^198 + 9*x^197 + 10*x^196 + 7*x^195 + 12*x^194 + 18*x^193 + x^192 + 6*x^191 + 14*x^190 + 21*x^189 + 5*x^188 + 2*x^186 + 16*x^185 + x^184 + 20*x^183 + 5*x^182 + 5*x^181 + 2*x^180 + 2*x^179 + 17*x^178 + 5*x^177 + x^176 + 19*x^175 + 18*x^174 + 2*x^173 + 12*x^172 + 22*x^171 + 6*x^170 + 3*x^169 + 5*x^168 + 5*x^167 + x^166 + x^165 + 14*x^164 + 6*x^163 + 2*x^162 + 10*x^161 + 16*x^160 + 16*x^159 + 7*x^158 + 20*x^157 + 10*x^156 + 16*x^155 + 10*x^154 + 21*x^153 + 8*x^151 + 10*x^150 + 10*x^149 + 22*x^148 + 21*x^147 + 8*x^146 + 15*x^145 + 12*x^144 + 11*x^143 + 14*x^142 + 10*x^141 + 8*x^140 + 18*x^139 + 15*x^137 + 20*x^136 + 9*x^135 + 15*x^134 + 8*x^133 + 9*x^132 + 20*x^131 + 6*x^129 + 9*x^128 + 5*x^126 + 7*x^124 + 20*x^123 + 3*x^122 + 12*x^121 + 20*x^120 + 16*x^119 + 15*x^118 + 16*x^117 + 22*x^116 + 4*x^115 + 19*x^114 + 7*x^113 + 7*x^112 + 15*x^111 + 12*x^110 + 21*x^109 + 6*x^108 + 6*x^107 + 2*x^106 + 18*x^105 + 19*x^104 + 14*x^103 + 8*x^102 + 15*x^101 + 17*x^100 + 4*x^99 + 10*x^98 + 6*x^97 + 6*x^96 + 21*x^95 + 17*x^94 + 21*x^93 + 10*x^92 + 22*x^91 + 21*x^90 + 9*x^89 + 5*x^88 + 20*x^87 + 15*x^86 + 8*x^85 + 2*x^84 + 5*x^83 + 22*x^82 + 5*x^81 + x^80 + 2*x^79 + 22*x^78 + 12*x^77 + 3*x^76 + 3*x^75 + x^74 + 5*x^73 + 22*x^72 + 4*x^70 + 5*x^69 + 19*x^68 + 21*x^67 + 20*x^66 + 4*x^65 + 9*x^64 + 12*x^63 + 7*x^62 + 17*x^61 + 4*x^60 + 2*x^59 + 12*x^58 + 3*x^57 + 4*x^56 + 12*x^55 + 10*x^54 + 20*x^53 + 13*x^52 + 4*x^51 + x^50 + x^49 + 6*x^48 + 21*x^47 + 9*x^46 + 19*x^45 + 21*x^44 + 16*x^43 + 9*x^42 + 18*x^41 + x^40 + 22*x^39 + 19*x^38 + 15*x^37 + 9*x^36 + 2*x^35 + 22*x^34 + 7*x^33 + 17*x^32 + 4*x^31 + 7*x^30 + 5*x^29 + 18*x^28 + 14*x^27 + 8*x^26 + 10*x^25 + 8*x^24 + 10*x^23 + 2*x^21 + x^20 + 15*x^19 + 3*x^18 + 13*x^17 + 21*x^16 + 10*x^15 + x^14 + 17*x^13 + 6*x^12 + 13*x^11 + 21*x^10 + x^9 + 16*x^8 + 6*x^7 + 6*x^6 + 13*x^5 + 8*x^4 + 8*x^3 + 3*x^2 + x)*z^21 + (10*x^224 + 4*x^223 + 13*x^222 + 7*x^221 + 13*x^220 + 2*x^219 + 16*x^218 + 3*x^217 + 2*x^216 + 16*x^215 + 9*x^214 + 8*x^213 + 3*x^212 + 22*x^211 + 11*x^210 + 16*x^209 + 18*x^208 + 18*x^207 + 13*x^206 + 13*x^205 + 18*x^204 + 14*x^203 + 5*x^202 + 4*x^201 + 11*x^200 + 20*x^199 + 17*x^197 + 14*x^196 + 2*x^195 + 9*x^194 + 11*x^193 + 7*x^192 + 3*x^191 + 13*x^190 + 17*x^189 + 15*x^188 + 21*x^187 + 17*x^186 + 7*x^185 + 4*x^184 + 20*x^183 + 18*x^182 + 11*x^181 + 14*x^180 + 3*x^179 + 3*x^178 + 7*x^177 + 14*x^176 + 22*x^174 + 4*x^173 + 22*x^172 + 14*x^171 + 7*x^170 + 6*x^169 + 20*x^168 + 13*x^167 + 6*x^166 + 21*x^165 + 14*x^164 + 17*x^163 + 6*x^162 + 8*x^160 + 9*x^159 + 2*x^158 + 8*x^157 + 10*x^156 + 9*x^155 + 9*x^154 + 4*x^153 + 13*x^152 + x^151 + 11*x^150 + 3*x^149 + 10*x^148 + 9*x^147 + 13*x^146 + 13*x^145 + 12*x^144 + 21*x^143 + 22*x^142 + 9*x^141 + 10*x^140 + 17*x^139 + 8*x^138 + 21*x^137 + x^136 + 18*x^135 + 20*x^133 + 14*x^132 + 22*x^131 + 2*x^130 + 22*x^129 + 5*x^128 + 18*x^127 + 15*x^126 + 19*x^125 + 16*x^124 + 21*x^123 + 21*x^122 + 14*x^121 + 16*x^120 + 3*x^119 + 3*x^118 + 6*x^117 + 19*x^116 + x^114 + 2*x^113 + 13*x^112 + 5*x^111 + 18*x^110 + 5*x^108 + 16*x^107 + 18*x^106 + 18*x^105 + 3*x^104 + 18*x^103 + 10*x^102 + 20*x^100 + 5*x^99 + 7*x^98 + 8*x^97 + 18*x^96 + 6*x^95 + 12*x^94 + 15*x^93 + 3*x^92 + 12*x^91 + 17*x^90 + 8*x^89 + 15*x^87 + 7*x^86 + 14*x^84 + 2*x^83 + 18*x^82 + x^81 + 14*x^80 + 10*x^79 + 21*x^78 + 10*x^77 + 20*x^76 + 6*x^75 + 11*x^74 + 3*x^72 + 15*x^71 + 17*x^70 + 6*x^69 + 6*x^68 + 4*x^66 + 13*x^65 + 14*x^64 + 21*x^63 + 20*x^62 + x^61 + 11*x^60 + 7*x^59 + 15*x^57 + 18*x^56 + 6*x^55 + 18*x^54 + 15*x^53 + 14*x^52 + x^51 + 6*x^50 + 4*x^49 + 4*x^48 + 9*x^47 + 14*x^46 + 14*x^45 + 13*x^44 + 10*x^43 + 22*x^42 + 21*x^41 + 15*x^40 + 17*x^39 + 14*x^38 + 7*x^37 + 3*x^36 + 2*x^35 + 16*x^34 + 16*x^33 + 6*x^32 + 9*x^31 + 9*x^30 + 3*x^29 + 16*x^28 + 20*x^27 + 20*x^26 + 19*x^25 + 16*x^24 + 10*x^22 + 16*x^21 + x^20 + 5*x^19 + 7*x^18 + 20*x^17 + 3*x^16 + 9*x^15 + 12*x^14 + 22*x^13 + 14*x^12 + 20*x^11 + 14*x^10 + 16*x^9 + 18*x^8 + 3*x^7 + 2*x^6 + 12*x^5 + 20*x^4 + 3*x^3 + 20*x^2 + 6*x + 2)*z^20 + (5*x^224 + 4*x^223 + 15*x^222 + 11*x^221 + 3*x^220 + 4*x^219 + 6*x^218 + 9*x^217 + 6*x^216 + 20*x^215 + 13*x^214 + 3*x^213 + 9*x^212 + 10*x^211 + 7*x^210 + 17*x^209 + 8*x^208 + 2*x^207 + 15*x^205 + 10*x^204 + 22*x^203 + 20*x^202 + 4*x^201 + 13*x^200 + 14*x^199 + 6*x^198 + 17*x^197 + 9*x^196 + 11*x^195 + 17*x^194 + 7*x^193 + 17*x^192 + 10*x^191 + 12*x^189 + 9*x^188 + 19*x^187 + 12*x^186 + 5*x^185 + 13*x^184 + 21*x^183 + 21*x^182 + 5*x^181 + 2*x^180 + 21*x^178 + 2*x^177 + 12*x^176 + 9*x^175 + 16*x^174 + 16*x^173 + 14*x^172 + 3*x^171 + 13*x^170 + 9*x^169 + 9*x^168 + 2*x^167 + 20*x^166 + 22*x^165 + 22*x^164 + 3*x^163 + 3*x^162 + 8*x^161 + 18*x^160 + 20*x^159 + 10*x^158 + 10*x^157 + 6*x^156 + 2*x^155 + 7*x^154 + 19*x^153 + 20*x^152 + x^151 + 13*x^150 + 14*x^149 + 5*x^148 + 15*x^147 + 11*x^146 + 2*x^145 + 17*x^144 + 16*x^143 + 9*x^142 + 6*x^141 + 18*x^140 + 15*x^139 + 4*x^138 + 3*x^137 + 22*x^136 + 21*x^135 + 21*x^134 + 7*x^133 + 10*x^132 + 13*x^131 + 17*x^130 + 21*x^129 + 12*x^128 + 4*x^127 + 5*x^126 + x^125 + 14*x^124 + 19*x^123 + 17*x^122 + 11*x^121 + 7*x^120 + 18*x^119 + 15*x^118 + 3*x^117 + 4*x^116 + 5*x^115 + 18*x^114 + 13*x^113 + 15*x^112 + 2*x^111 + 4*x^110 + 21*x^109 + x^108 + 16*x^107 + 4*x^106 + 18*x^105 + 14*x^104 + 18*x^103 + 13*x^102 + 18*x^101 + 17*x^100 + 10*x^99 + 18*x^98 + 7*x^97 + 20*x^96 + 8*x^95 + 10*x^94 + 15*x^93 + 8*x^92 + 10*x^91 + 18*x^89 + 21*x^88 + 10*x^87 + 8*x^86 + 15*x^85 + 2*x^84 + 5*x^83 + 10*x^82 + 18*x^81 + 11*x^80 + 20*x^79 + 19*x^78 + 10*x^77 + 11*x^76 + 10*x^75 + 11*x^74 + 6*x^73 + 15*x^72 + 14*x^71 + 19*x^70 + 11*x^69 + 16*x^68 + 19*x^67 + 5*x^66 + x^65 + 8*x^64 + 22*x^63 + 13*x^62 + 11*x^61 + 5*x^60 + 3*x^59 + 5*x^58 + 8*x^57 + 16*x^56 + 18*x^55 + 16*x^54 + 8*x^53 + 19*x^52 + 13*x^51 + 6*x^50 + 14*x^49 + 8*x^48 + 13*x^46 + 18*x^45 + 11*x^44 + 7*x^43 + 2*x^42 + 21*x^41 + 9*x^40 + 12*x^39 + x^38 + 18*x^37 + 22*x^36 + 10*x^35 + 8*x^34 + 14*x^33 + 19*x^32 + 3*x^31 + 21*x^30 + 8*x^29 + 18*x^28 + 21*x^27 + 4*x^26 + 4*x^25 + 17*x^24 + 4*x^23 + 3*x^22 + 14*x^21 + 11*x^20 + 7*x^19 + 5*x^18 + 14*x^17 + 20*x^16 + 13*x^14 + 20*x^13 + 10*x^12 + 2*x^11 + 12*x^10 + 17*x^9 + x^8 + 21*x^7 + 21*x^6 + 5*x^5 + 3*x^4 + 19*x^3 + 11*x^2 + 15*x + 15)*z^19 + (22*x^224 + 22*x^223 + 9*x^222 + 16*x^221 + 17*x^220 + 19*x^219 + 16*x^218 + 18*x^217 + 17*x^216 + 8*x^215 + 15*x^214 + 4*x^213 + 4*x^212 + x^211 + 9*x^210 + 13*x^209 + 14*x^208 + 9*x^207 + 3*x^206 + 21*x^205 + 14*x^204 + 20*x^203 + 12*x^202 + 6*x^201 + 18*x^200 + 13*x^199 + 11*x^198 + 20*x^197 + 19*x^196 + 7*x^195 + 15*x^194 + 17*x^193 + 18*x^192 + 10*x^191 + 16*x^190 + 10*x^189 + 5*x^188 + 5*x^187 + 2*x^186 + 22*x^184 + 14*x^183 + 12*x^182 + 13*x^181 + 21*x^180 + 3*x^179 + 16*x^178 + 22*x^177 + 19*x^176 + 18*x^175 + x^174 + 21*x^173 + 6*x^172 + 16*x^171 + 10*x^170 + 6*x^169 + 17*x^167 + 8*x^166 + 8*x^165 + x^164 + 9*x^163 + 7*x^162 + 9*x^161 + 10*x^160 + 22*x^159 + 6*x^157 + 21*x^156 + 2*x^155 + 12*x^154 + 19*x^153 + 7*x^152 + 5*x^151 + 17*x^150 + 10*x^149 + 16*x^148 + 21*x^147 + 17*x^146 + 12*x^145 + 4*x^144 + 4*x^143 + 6*x^141 + 17*x^140 + 20*x^139 + 17*x^138 + 5*x^137 + 5*x^136 + 8*x^135 + 3*x^134 + 5*x^133 + 14*x^132 + 2*x^131 + 3*x^130 + 10*x^129 + 20*x^128 + 19*x^127 + 10*x^126 + 7*x^125 + 7*x^124 + 9*x^123 + 15*x^122 + 10*x^121 + 19*x^120 + 10*x^119 + 22*x^117 + 14*x^116 + 9*x^115 + 21*x^114 + 14*x^113 + 6*x^112 + 20*x^111 + 8*x^110 + 17*x^109 + 6*x^108 + 20*x^107 + 11*x^106 + 12*x^105 + 21*x^104 + 10*x^103 + 8*x^102 + 16*x^101 + 15*x^100 + 14*x^99 + 4*x^98 + 19*x^97 + 2*x^96 + 2*x^95 + 6*x^94 + 22*x^93 + 21*x^92 + x^91 + 12*x^90 + 16*x^89 + 6*x^88 + 17*x^87 + x^86 + 2*x^85 + 18*x^84 + 6*x^83 + 8*x^82 + 17*x^81 + 19*x^80 + 11*x^79 + 22*x^78 + 3*x^77 + 8*x^76 + x^75 + 16*x^74 + 12*x^73 + 17*x^72 + 14*x^71 + 19*x^70 + 19*x^69 + 15*x^68 + x^67 + 14*x^66 + 3*x^65 + 15*x^64 + 10*x^63 + 18*x^62 + 19*x^61 + 9*x^60 + 8*x^59 + 6*x^58 + 18*x^57 + 4*x^56 + x^55 + 5*x^54 + 13*x^53 + 17*x^52 + 5*x^50 + 18*x^49 + x^48 + 8*x^47 + 17*x^46 + 20*x^45 + 17*x^44 + 16*x^43 + 13*x^42 + 11*x^41 + 6*x^40 + 2*x^39 + 18*x^38 + 9*x^37 + 20*x^36 + 8*x^35 + 21*x^34 + 14*x^33 + 9*x^32 + 12*x^31 + 20*x^30 + 18*x^29 + 5*x^28 + 14*x^27 + 22*x^26 + 5*x^25 + 16*x^24 + x^23 + 2*x^22 + 18*x^21 + 9*x^20 + 9*x^19 + 9*x^18 + 20*x^17 + 20*x^16 + x^15 + 21*x^14 + 7*x^13 + 12*x^12 + 22*x^11 + 19*x^10 + 7*x^9 + 5*x^8 + 4*x^7 + 22*x^6 + 6*x^5 + 18*x^4 + 15*x^3 + 21*x^2 + 14*x + 16)*z^18 + (17*x^224 + 8*x^223 + x^222 + 21*x^221 + 19*x^220 + 14*x^219 + 19*x^218 + 9*x^217 + 14*x^216 + 6*x^215 + 16*x^214 + 17*x^213 + 7*x^212 + 5*x^211 + 7*x^210 + 12*x^209 + 18*x^208 + 11*x^206 + 5*x^205 + 5*x^204 + x^203 + 7*x^202 + 4*x^201 + 2*x^200 + 21*x^199 + 19*x^198 + 11*x^197 + 5*x^196 + 3*x^195 + 12*x^194 + 11*x^193 + 2*x^192 + 6*x^191 + 2*x^190 + 18*x^189 + 9*x^187 + x^186 + 7*x^185 + 18*x^184 + 8*x^183 + 5*x^182 + 6*x^181 + 13*x^180 + 17*x^179 + x^178 + 16*x^177 + 8*x^176 + 3*x^174 + 19*x^173 + 3*x^172 + 11*x^171 + 14*x^170 + 15*x^169 + 15*x^168 + 16*x^167 + 5*x^166 + 16*x^165 + x^164 + 5*x^163 + 14*x^162 + 4*x^161 + 2*x^160 + 21*x^159 + 9*x^158 + 10*x^157 + 3*x^156 + 11*x^155 + 22*x^154 + x^153 + 14*x^152 + 13*x^151 + 11*x^150 + 22*x^149 + 2*x^148 + 3*x^147 + 20*x^146 + 6*x^145 + 18*x^144 + 12*x^143 + 16*x^142 + 16*x^141 + 17*x^140 + 12*x^139 + 8*x^137 + 3*x^136 + 14*x^135 + 11*x^134 + 2*x^133 + 3*x^132 + 21*x^131 + 4*x^130 + 15*x^129 + 5*x^128 + 22*x^127 + 20*x^126 + 15*x^125 + 19*x^124 + 17*x^123 + 18*x^122 + 7*x^121 + 19*x^120 + 21*x^119 + 8*x^118 + x^117 + 12*x^115 + 5*x^114 + 8*x^113 + 20*x^112 + 9*x^111 + 16*x^110 + 13*x^109 + 5*x^108 + 8*x^107 + 15*x^106 + 12*x^105 + 15*x^104 + 5*x^103 + 5*x^102 + 10*x^101 + x^100 + 5*x^99 + 8*x^98 + 5*x^96 + 8*x^95 + 4*x^94 + 22*x^93 + 17*x^92 + 2*x^91 + 12*x^90 + 17*x^89 + 9*x^88 + 12*x^86 + 20*x^85 + 20*x^84 + 11*x^83 + 2*x^82 + 19*x^81 + 6*x^80 + 14*x^79 + 5*x^78 + 22*x^77 + 12*x^76 + 19*x^75 + 12*x^74 + 5*x^73 + 21*x^72 + 15*x^71 + 16*x^70 + 22*x^69 + 4*x^68 + 21*x^67 + 15*x^66 + 12*x^65 + 18*x^64 + 16*x^63 + 2*x^62 + 9*x^61 + 21*x^60 + 19*x^59 + 6*x^58 + 18*x^57 + 19*x^56 + 5*x^55 + 18*x^54 + 12*x^53 + 6*x^52 + 2*x^51 + 22*x^50 + 17*x^49 + 9*x^48 + 14*x^47 + 15*x^46 + 4*x^45 + 12*x^44 + 18*x^43 + 11*x^42 + 20*x^41 + 8*x^40 + 17*x^39 + 7*x^38 + 21*x^37 + 21*x^36 + 20*x^35 + 11*x^34 + 6*x^33 + 10*x^32 + 6*x^31 + 8*x^30 + 9*x^29 + 21*x^28 + 2*x^27 + 19*x^26 + 21*x^25 + 22*x^24 + 2*x^23 + 10*x^22 + 7*x^21 + 17*x^20 + 22*x^19 + 22*x^18 + 14*x^17 + 9*x^16 + 16*x^15 + 15*x^14 + 11*x^13 + 18*x^12 + 13*x^11 + 21*x^10 + 3*x^9 + 11*x^8 + 4*x^7 + 12*x^6 + 11*x^5 + 11*x^4 + 14*x^3 + 20*x^2 + 18*x + 7)*z^17 + (7*x^224 + 16*x^223 + 19*x^222 + 20*x^221 + 2*x^220 + 10*x^219 + 11*x^218 + 2*x^217 + 7*x^216 + 16*x^215 + x^214 + 14*x^213 + 8*x^212 + 16*x^211 + 13*x^210 + 15*x^209 + 6*x^208 + 6*x^207 + 9*x^206 + 19*x^205 + 21*x^204 + 5*x^203 + 22*x^202 + 20*x^201 + 6*x^200 + 21*x^199 + 12*x^197 + 16*x^196 + 17*x^195 + 21*x^194 + 18*x^193 + 3*x^192 + 21*x^191 + 8*x^190 + 7*x^189 + 11*x^188 + 12*x^187 + 3*x^185 + 22*x^184 + 3*x^183 + 16*x^182 + 5*x^181 + 6*x^180 + 11*x^179 + 5*x^178 + 17*x^177 + 6*x^176 + 4*x^174 + 13*x^173 + 7*x^171 + 15*x^170 + 11*x^169 + 21*x^168 + 18*x^167 + 3*x^166 + 14*x^165 + 12*x^164 + 11*x^163 + 7*x^162 + 10*x^161 + 3*x^160 + 13*x^159 + 6*x^158 + 20*x^157 + 13*x^156 + 19*x^155 + 11*x^154 + 5*x^153 + 22*x^152 + 18*x^151 + 17*x^150 + 9*x^149 + 11*x^148 + 18*x^147 + 11*x^146 + x^145 + 6*x^144 + 22*x^143 + 22*x^142 + 22*x^141 + 9*x^140 + 17*x^139 + 7*x^138 + 10*x^137 + 3*x^136 + 19*x^135 + 6*x^134 + 6*x^133 + 14*x^132 + 14*x^131 + 13*x^130 + 3*x^129 + 22*x^128 + 5*x^127 + 18*x^126 + 9*x^125 + 13*x^123 + 10*x^122 + 11*x^121 + 12*x^120 + 16*x^119 + 21*x^118 + 2*x^117 + 20*x^116 + 22*x^115 + 7*x^114 + 3*x^113 + 21*x^112 + 2*x^111 + 5*x^110 + 20*x^109 + 10*x^108 + 13*x^107 + 22*x^106 + 4*x^105 + 16*x^104 + 9*x^103 + 8*x^101 + 15*x^100 + 14*x^99 + 22*x^98 + 17*x^97 + 12*x^96 + 5*x^95 + 2*x^94 + 7*x^93 + 6*x^92 + 20*x^91 + 22*x^90 + 5*x^89 + 22*x^88 + 5*x^87 + 5*x^86 + 22*x^85 + 2*x^84 + 20*x^83 + 2*x^82 + 9*x^81 + 21*x^80 + 12*x^79 + 20*x^78 + 21*x^77 + x^76 + 3*x^75 + 3*x^74 + 15*x^73 + 9*x^72 + 16*x^71 + 6*x^70 + 7*x^69 + 11*x^68 + 15*x^67 + 22*x^66 + 2*x^65 + 13*x^64 + 21*x^63 + 22*x^62 + 2*x^61 + 11*x^59 + 4*x^58 + 20*x^57 + 22*x^56 + 11*x^55 + 4*x^54 + 13*x^53 + 2*x^52 + 19*x^51 + x^50 + 14*x^49 + 16*x^48 + x^47 + 2*x^46 + 10*x^45 + 8*x^44 + 2*x^43 + 20*x^42 + 8*x^41 + 18*x^40 + 12*x^39 + 18*x^38 + 4*x^37 + 6*x^36 + 14*x^35 + 8*x^34 + 18*x^33 + 21*x^32 + 21*x^31 + x^30 + 7*x^29 + 10*x^28 + 8*x^27 + 5*x^26 + 16*x^25 + 15*x^24 + 12*x^23 + 7*x^22 + x^21 + 15*x^20 + x^19 + 13*x^18 + 12*x^17 + 15*x^16 + 17*x^15 + 12*x^14 + 8*x^13 + 13*x^12 + 15*x^11 + 5*x^10 + 17*x^9 + 19*x^8 + 14*x^7 + 21*x^6 + 18*x^5 + 11*x^4 + 15*x^3 + 20*x^2 + 22*x + 19)*z^16 + (14*x^224 + 6*x^223 + 18*x^222 + 14*x^221 + 13*x^219 + 16*x^218 + 3*x^217 + 9*x^216 + 19*x^215 + 21*x^214 + 17*x^213 + 10*x^211 + 13*x^210 + 17*x^209 + 14*x^208 + 9*x^206 + 10*x^205 + 19*x^204 + 17*x^203 + 9*x^202 + 4*x^201 + 6*x^200 + 14*x^199 + 20*x^198 + 7*x^197 + 13*x^196 + 21*x^195 + 16*x^194 + 2*x^193 + 20*x^192 + 4*x^191 + 4*x^189 + 11*x^188 + 6*x^187 + 8*x^186 + 17*x^185 + 21*x^184 + 7*x^183 + 4*x^182 + 11*x^181 + 5*x^179 + 15*x^178 + 16*x^177 + 15*x^176 + 16*x^175 + 6*x^174 + 5*x^173 + 4*x^172 + 15*x^171 + 11*x^170 + 8*x^169 + 21*x^168 + 13*x^167 + 8*x^166 + 22*x^165 + 8*x^164 + 11*x^163 + 17*x^162 + 20*x^161 + 9*x^160 + 3*x^159 + 13*x^158 + 8*x^157 + 9*x^156 + 12*x^155 + 5*x^154 + 13*x^153 + 10*x^152 + 3*x^151 + 20*x^150 + 12*x^149 + 6*x^148 + 19*x^147 + 11*x^146 + 3*x^145 + 19*x^144 + 15*x^143 + 9*x^142 + 4*x^141 + 19*x^140 + 19*x^139 + x^138 + 11*x^137 + 15*x^136 + 17*x^135 + 10*x^134 + 17*x^133 + 3*x^132 + 20*x^131 + 10*x^130 + 18*x^129 + 20*x^128 + 10*x^127 + 17*x^126 + 19*x^125 + 20*x^123 + 11*x^122 + 8*x^121 + 12*x^120 + x^118 + 11*x^117 + 6*x^116 + 20*x^115 + 9*x^114 + 16*x^113 + 10*x^112 + 16*x^111 + 13*x^110 + 18*x^109 + 8*x^108 + 22*x^107 + 12*x^106 + 18*x^105 + 6*x^104 + 11*x^103 + 12*x^102 + 17*x^101 + 13*x^100 + 2*x^99 + 20*x^98 + 22*x^97 + 14*x^96 + 6*x^95 + 6*x^94 + 12*x^93 + 9*x^92 + 10*x^91 + 3*x^90 + 17*x^89 + 4*x^88 + 15*x^87 + 10*x^86 + 19*x^85 + 7*x^84 + x^83 + 18*x^82 + 12*x^80 + 15*x^79 + 22*x^78 + 4*x^77 + 4*x^76 + 9*x^75 + 11*x^74 + 11*x^73 + 21*x^72 + 4*x^71 + 11*x^70 + 15*x^69 + 6*x^68 + x^67 + 21*x^66 + 3*x^65 + 15*x^64 + 6*x^63 + 15*x^62 + 18*x^61 + 22*x^60 + 13*x^59 + 2*x^58 + 9*x^57 + 19*x^56 + x^55 + 6*x^54 + 16*x^53 + x^52 + 10*x^51 + 14*x^50 + 21*x^49 + 3*x^48 + 20*x^47 + 2*x^46 + 17*x^45 + 2*x^44 + 8*x^43 + 9*x^42 + 9*x^41 + 9*x^40 + 6*x^39 + 11*x^38 + 4*x^37 + 17*x^36 + 15*x^35 + 4*x^34 + 22*x^33 + 3*x^32 + 13*x^31 + 8*x^30 + 4*x^29 + 17*x^28 + 15*x^27 + 17*x^26 + 19*x^25 + 7*x^24 + 22*x^23 + 3*x^22 + 7*x^21 + 5*x^20 + 3*x^19 + 8*x^18 + 21*x^17 + 12*x^16 + 2*x^15 + 22*x^14 + 18*x^13 + 18*x^12 + 11*x^11 + 2*x^10 + 18*x^9 + 12*x^8 + 7*x^7 + 12*x^6 + 10*x^5 + 17*x^4 + 8*x^3 + 3*x^2 + 3*x)*z^15 + (20*x^224 + 22*x^223 + 2*x^222 + 15*x^221 + 20*x^220 + 2*x^219 + 22*x^218 + 4*x^217 + 2*x^216 + 10*x^215 + 17*x^214 + 16*x^212 + 2*x^211 + 19*x^210 + 11*x^209 + 14*x^208 + 18*x^207 + 6*x^206 + 11*x^205 + 18*x^204 + 16*x^203 + 2*x^202 + 12*x^201 + 7*x^200 + 6*x^199 + 6*x^198 + 2*x^197 + 21*x^196 + 13*x^195 + 6*x^194 + x^193 + 14*x^192 + 8*x^191 + 19*x^190 + 5*x^189 + 10*x^188 + 6*x^187 + 13*x^186 + 5*x^185 + x^184 + 10*x^183 + 3*x^182 + 7*x^181 + 15*x^180 + 5*x^179 + 16*x^178 + 13*x^177 + x^176 + 9*x^175 + 20*x^174 + 5*x^173 + 22*x^172 + 9*x^171 + 8*x^170 + 8*x^169 + 15*x^168 + 22*x^167 + 16*x^166 + 13*x^165 + 12*x^164 + 3*x^163 + 2*x^162 + 9*x^161 + 7*x^160 + 3*x^159 + 6*x^158 + 12*x^157 + 2*x^156 + 8*x^155 + 3*x^154 + 20*x^153 + 2*x^152 + 16*x^151 + 3*x^150 + 18*x^149 + 7*x^148 + 5*x^147 + 19*x^146 + 16*x^145 + 15*x^144 + x^143 + x^142 + 4*x^141 + 3*x^139 + 12*x^138 + 18*x^137 + 5*x^136 + 16*x^135 + 8*x^134 + 9*x^133 + 2*x^132 + 9*x^131 + 18*x^130 + 14*x^129 + 5*x^128 + 18*x^126 + 2*x^125 + 5*x^124 + 10*x^123 + 6*x^122 + 18*x^121 + 4*x^119 + 14*x^118 + 16*x^117 + 12*x^116 + 11*x^115 + 10*x^114 + 13*x^113 + 16*x^112 + 18*x^111 + 20*x^110 + 15*x^109 + 5*x^108 + x^107 + 20*x^106 + 17*x^105 + 21*x^104 + 2*x^103 + 16*x^102 + 10*x^101 + 10*x^100 + 17*x^99 + 11*x^98 + 9*x^97 + 22*x^96 + 5*x^94 + 20*x^93 + 22*x^92 + 8*x^91 + 18*x^90 + 15*x^89 + 10*x^88 + 13*x^87 + 19*x^86 + 14*x^85 + 15*x^84 + 7*x^83 + 14*x^82 + 3*x^81 + 17*x^80 + 15*x^79 + 20*x^78 + 20*x^77 + 20*x^76 + 7*x^75 + 13*x^74 + 17*x^73 + 5*x^72 + 20*x^69 + 16*x^68 + 7*x^67 + x^66 + 15*x^65 + x^64 + 12*x^63 + 6*x^62 + x^60 + 7*x^58 + x^57 + 4*x^56 + 15*x^55 + 4*x^53 + 4*x^52 + 18*x^51 + 5*x^49 + 4*x^48 + 19*x^47 + 2*x^46 + 13*x^45 + 3*x^44 + 7*x^43 + 13*x^42 + 14*x^41 + 3*x^40 + 7*x^39 + 9*x^38 + 9*x^37 + 2*x^36 + 9*x^35 + 14*x^34 + 11*x^33 + 14*x^32 + 2*x^31 + 7*x^30 + 9*x^29 + 16*x^28 + 4*x^27 + 21*x^26 + x^25 + 6*x^24 + 4*x^22 + 12*x^21 + 11*x^20 + 5*x^19 + 17*x^18 + 20*x^17 + 22*x^16 + 17*x^15 + 14*x^14 + 9*x^13 + 19*x^12 + 10*x^11 + 18*x^10 + 4*x^9 + 10*x^8 + 16*x^7 + 22*x^6 + 10*x^4 + 12*x^3 + 22*x^2 + 19*x + 3)*z^14 + (7*x^224 + 20*x^223 + 5*x^222 + x^221 + 8*x^220 + 14*x^219 + 14*x^218 + 12*x^217 + 16*x^216 + 22*x^215 + 17*x^214 + 2*x^213 + 18*x^212 + 14*x^211 + 11*x^210 + 15*x^209 + 10*x^208 + 4*x^207 + 5*x^206 + 16*x^205 + 5*x^204 + 12*x^203 + 5*x^202 + 4*x^201 + 11*x^200 + 4*x^199 + 21*x^198 + 4*x^197 + 8*x^196 + 8*x^195 + x^194 + 6*x^193 + 13*x^192 + 5*x^191 + 20*x^189 + 11*x^188 + 4*x^187 + 2*x^186 + 12*x^185 + 18*x^184 + 12*x^183 + 15*x^182 + 16*x^181 + x^180 + 10*x^179 + 11*x^178 + 15*x^177 + 11*x^176 + 19*x^175 + 12*x^174 + 14*x^173 + 13*x^172 + 18*x^171 + 7*x^170 + 17*x^169 + 12*x^168 + 8*x^167 + 5*x^166 + 3*x^165 + 22*x^164 + 16*x^163 + x^162 + 20*x^161 + 20*x^160 + 20*x^159 + 12*x^158 + 10*x^157 + 2*x^156 + 11*x^155 + 2*x^154 + 4*x^153 + 8*x^152 + x^151 + 15*x^150 + 17*x^149 + 9*x^148 + 20*x^147 + 22*x^146 + 9*x^144 + 16*x^143 + 3*x^142 + 12*x^140 + 18*x^139 + 17*x^138 + 16*x^137 + 17*x^136 + 19*x^135 + 6*x^134 + 4*x^133 + 14*x^132 + 11*x^131 + 19*x^130 + 13*x^129 + 16*x^128 + 19*x^127 + 15*x^126 + 22*x^125 + 11*x^124 + 17*x^123 + 17*x^122 + 15*x^121 + 16*x^120 + 3*x^119 + 9*x^118 + 22*x^117 + 2*x^116 + 14*x^115 + 16*x^114 + 16*x^113 + 8*x^112 + 19*x^111 + 21*x^110 + 21*x^109 + 18*x^108 + x^107 + 2*x^106 + 11*x^104 + 13*x^103 + 20*x^102 + 13*x^101 + 15*x^100 + 12*x^99 + 5*x^98 + 19*x^97 + 7*x^95 + 21*x^94 + x^93 + 12*x^92 + 11*x^91 + 17*x^90 + 18*x^89 + 19*x^88 + 5*x^87 + 10*x^86 + 5*x^85 + 15*x^84 + 6*x^83 + 12*x^82 + 21*x^81 + 9*x^80 + 20*x^79 + 15*x^78 + 9*x^76 + 13*x^75 + 21*x^74 + 12*x^73 + 20*x^72 + 8*x^71 + 7*x^70 + 20*x^69 + 20*x^68 + 17*x^67 + 4*x^66 + 3*x^65 + 13*x^64 + 17*x^63 + 9*x^61 + 22*x^60 + 19*x^59 + 2*x^58 + 6*x^57 + 19*x^56 + 13*x^55 + x^54 + 12*x^53 + 16*x^52 + 18*x^51 + 16*x^50 + 20*x^49 + 22*x^47 + 12*x^46 + 19*x^45 + 14*x^44 + 21*x^43 + 3*x^42 + 2*x^41 + 17*x^40 + 13*x^39 + 11*x^38 + x^37 + 3*x^36 + 6*x^35 + 5*x^34 + 18*x^33 + 11*x^32 + 11*x^31 + 6*x^30 + 8*x^28 + 14*x^27 + 9*x^26 + 12*x^24 + 16*x^23 + 2*x^22 + x^21 + 14*x^20 + 7*x^19 + 19*x^18 + 13*x^17 + 14*x^16 + 10*x^15 + 4*x^14 + 7*x^13 + 6*x^12 + x^11 + 6*x^10 + 17*x^9 + 17*x^8 + 4*x^7 + 2*x^6 + 6*x^4 + 11*x^3 + 9*x^2 + 18*x + 20)*z^13 + (11*x^224 + 12*x^223 + 3*x^222 + 13*x^221 + 2*x^220 + 13*x^218 + 2*x^217 + 17*x^216 + x^215 + 18*x^214 + 6*x^213 + 17*x^212 + 11*x^211 + 15*x^210 + 17*x^209 + 8*x^208 + 2*x^207 + 2*x^206 + 17*x^205 + 12*x^204 + 18*x^203 + 8*x^202 + 2*x^201 + 21*x^200 + x^199 + 18*x^198 + 22*x^197 + 15*x^196 + 17*x^195 + 15*x^194 + 4*x^193 + 10*x^192 + 13*x^191 + x^190 + 9*x^189 + 21*x^187 + 12*x^186 + 3*x^185 + 13*x^184 + 22*x^183 + 14*x^182 + 17*x^181 + 18*x^180 + 3*x^179 + 17*x^178 + 4*x^177 + 11*x^176 + 22*x^175 + 8*x^174 + 18*x^172 + 19*x^171 + 10*x^170 + 5*x^169 + 11*x^168 + 16*x^167 + 22*x^166 + 13*x^165 + 4*x^164 + 5*x^163 + 16*x^162 + 18*x^161 + 11*x^160 + 4*x^159 + 22*x^158 + 15*x^157 + x^156 + 4*x^155 + 12*x^154 + 15*x^153 + 12*x^152 + 15*x^151 + 21*x^150 + 21*x^149 + x^148 + 15*x^147 + 2*x^146 + 15*x^145 + 20*x^144 + 5*x^143 + 18*x^142 + x^141 + 15*x^140 + 18*x^139 + 14*x^138 + 9*x^136 + 22*x^135 + 9*x^134 + 14*x^133 + 6*x^132 + 16*x^131 + 4*x^130 + 18*x^129 + 6*x^128 + 19*x^127 + 16*x^126 + 18*x^125 + 3*x^124 + 20*x^123 + 12*x^121 + 14*x^120 + 18*x^119 + 11*x^117 + 13*x^116 + 17*x^115 + 3*x^114 + 8*x^113 + 18*x^112 + 22*x^111 + 18*x^110 + 14*x^109 + 9*x^108 + 7*x^107 + 2*x^106 + 12*x^105 + 10*x^104 + x^103 + 6*x^102 + x^101 + 2*x^100 + 13*x^99 + 9*x^98 + 3*x^96 + 15*x^95 + 2*x^94 + 16*x^93 + 8*x^92 + 5*x^91 + 20*x^90 + 10*x^89 + 15*x^88 + 13*x^87 + 4*x^86 + 6*x^85 + 10*x^84 + 13*x^83 + 13*x^82 + 17*x^81 + 4*x^80 + 2*x^79 + 20*x^78 + 4*x^77 + 16*x^76 + 7*x^75 + 14*x^74 + 7*x^73 + 3*x^72 + 2*x^71 + 14*x^70 + 8*x^69 + x^68 + 16*x^67 + 9*x^66 + 18*x^65 + 9*x^64 + 17*x^63 + 8*x^62 + 15*x^61 + 21*x^60 + 10*x^59 + 19*x^58 + 2*x^57 + 3*x^56 + 15*x^55 + 4*x^54 + 6*x^53 + 12*x^52 + 15*x^51 + 3*x^50 + 5*x^49 + 3*x^48 + 21*x^47 + 3*x^46 + 17*x^45 + 5*x^44 + 10*x^43 + 20*x^42 + 10*x^41 + 11*x^40 + 19*x^39 + 3*x^38 + 4*x^37 + 17*x^36 + 22*x^35 + 4*x^34 + 2*x^33 + 12*x^32 + x^31 + 22*x^30 + 3*x^29 + 22*x^28 + 12*x^27 + 18*x^26 + 18*x^25 + 11*x^24 + 18*x^23 + 18*x^22 + 3*x^21 + 20*x^20 + 22*x^19 + 14*x^18 + 6*x^17 + 10*x^16 + 14*x^15 + x^14 + 19*x^13 + 3*x^12 + 7*x^10 + 8*x^9 + 15*x^8 + 7*x^7 + 19*x^6 + 6*x^5 + 9*x^4 + 21*x^3 + 9*x^2 + 17*x + 22)*z^12 + (2*x^224 + 8*x^223 + 8*x^222 + 12*x^221 + 7*x^220 + 18*x^219 + 22*x^218 + x^217 + 22*x^216 + 7*x^215 + 16*x^214 + 18*x^213 + 10*x^212 + 8*x^211 + 11*x^210 + 6*x^209 + 20*x^208 + 22*x^207 + 6*x^206 + 8*x^205 + 15*x^204 + 2*x^203 + 22*x^202 + 7*x^201 + 4*x^200 + 3*x^198 + 19*x^197 + 20*x^196 + 9*x^195 + 17*x^194 + 13*x^193 + 5*x^192 + 4*x^191 + 2*x^190 + 3*x^189 + 13*x^188 + 8*x^187 + 10*x^186 + 20*x^185 + 22*x^184 + 9*x^183 + 5*x^182 + 7*x^181 + 6*x^180 + 7*x^179 + x^178 + x^177 + 17*x^176 + 15*x^175 + 10*x^174 + 15*x^173 + 8*x^172 + 7*x^171 + 22*x^170 + 4*x^169 + 5*x^168 + 16*x^167 + x^166 + 21*x^165 + 7*x^164 + 17*x^163 + 19*x^162 + 6*x^161 + x^160 + 15*x^159 + 5*x^158 + 11*x^157 + 15*x^156 + 16*x^155 + 7*x^154 + 17*x^153 + 6*x^152 + 14*x^151 + 3*x^150 + 13*x^149 + 21*x^148 + 8*x^147 + x^146 + 8*x^145 + 16*x^144 + 12*x^143 + 9*x^142 + 2*x^141 + 18*x^140 + 16*x^139 + 10*x^138 + 18*x^137 + 14*x^136 + 9*x^135 + 14*x^134 + 11*x^133 + 19*x^132 + 14*x^131 + 14*x^130 + 22*x^129 + 13*x^128 + x^127 + 22*x^126 + x^125 + 20*x^124 + 20*x^123 + 19*x^122 + 21*x^121 + 19*x^120 + 15*x^119 + 8*x^118 + 4*x^117 + x^116 + 22*x^114 + 11*x^113 + x^112 + 6*x^111 + 15*x^110 + 7*x^109 + 14*x^108 + 14*x^107 + 20*x^106 + 4*x^105 + 8*x^104 + 8*x^103 + 13*x^102 + 7*x^101 + 12*x^100 + 16*x^99 + 19*x^98 + 20*x^97 + 5*x^96 + 15*x^95 + 4*x^94 + 12*x^93 + 12*x^92 + 7*x^91 + 22*x^90 + 3*x^89 + 9*x^88 + 4*x^87 + 2*x^86 + 21*x^85 + 12*x^84 + 18*x^83 + 9*x^82 + 16*x^81 + 22*x^80 + 20*x^79 + 9*x^78 + 9*x^77 + 12*x^76 + 16*x^75 + 10*x^74 + 5*x^73 + 3*x^72 + 2*x^71 + x^70 + 8*x^69 + 12*x^68 + 3*x^67 + 22*x^66 + 21*x^64 + 12*x^63 + 9*x^62 + 21*x^61 + 18*x^60 + 17*x^58 + 21*x^57 + 6*x^56 + 14*x^55 + 20*x^54 + 7*x^53 + 20*x^52 + 18*x^51 + 4*x^50 + 15*x^49 + 10*x^48 + x^47 + 13*x^46 + 15*x^45 + 19*x^44 + 20*x^43 + 5*x^42 + 6*x^41 + x^40 + 5*x^39 + 19*x^38 + 3*x^37 + 12*x^36 + 19*x^35 + 14*x^34 + 2*x^33 + 21*x^32 + x^31 + 16*x^30 + 8*x^29 + 4*x^28 + 17*x^27 + 15*x^26 + 15*x^25 + 19*x^24 + 10*x^23 + 14*x^20 + 7*x^19 + 19*x^18 + 22*x^17 + 22*x^16 + 12*x^15 + 10*x^14 + 14*x^13 + 13*x^12 + 4*x^11 + 9*x^10 + 12*x^9 + 6*x^8 + 20*x^7 + 7*x^6 + 14*x^5 + 22*x^4 + 5*x^3 + 14*x^2 + 14*x + 7)*z^11 + (13*x^224 + 19*x^223 + 12*x^222 + 7*x^221 + 20*x^220 + 2*x^219 + 6*x^218 + 18*x^217 + 21*x^216 + 16*x^214 + 12*x^213 + 7*x^212 + 7*x^211 + 19*x^210 + 2*x^209 + 12*x^208 + 10*x^207 + 17*x^206 + x^205 + 12*x^204 + 16*x^203 + 17*x^202 + x^201 + 21*x^199 + 14*x^198 + 14*x^197 + 22*x^196 + 22*x^195 + 7*x^194 + 18*x^193 + 2*x^192 + 12*x^191 + 12*x^190 + 6*x^189 + 18*x^188 + 3*x^187 + 7*x^186 + 13*x^185 + 19*x^184 + 13*x^183 + 9*x^182 + 15*x^181 + 12*x^180 + 18*x^179 + 19*x^178 + 15*x^177 + 15*x^176 + 4*x^175 + 20*x^174 + 7*x^173 + x^172 + 5*x^171 + 2*x^170 + 18*x^169 + 13*x^168 + 2*x^167 + 22*x^166 + 21*x^165 + 3*x^163 + 15*x^162 + 6*x^161 + 3*x^160 + 7*x^159 + 8*x^158 + 21*x^157 + 6*x^156 + 4*x^155 + 21*x^154 + 21*x^153 + x^152 + 20*x^151 + 7*x^150 + 8*x^149 + 11*x^148 + 12*x^147 + 2*x^146 + 2*x^145 + 12*x^144 + 19*x^142 + 4*x^141 + 14*x^140 + 19*x^139 + 22*x^138 + 13*x^137 + 9*x^136 + 7*x^135 + 5*x^134 + 6*x^133 + 10*x^132 + 6*x^131 + 12*x^130 + 9*x^129 + 15*x^128 + 11*x^127 + 2*x^126 + 22*x^125 + 22*x^124 + 15*x^122 + x^120 + 11*x^119 + 20*x^118 + 3*x^117 + 17*x^116 + 22*x^115 + 18*x^114 + 14*x^113 + 7*x^112 + 20*x^111 + 21*x^110 + 2*x^109 + 19*x^108 + 10*x^107 + 17*x^106 + 5*x^105 + 14*x^104 + 4*x^103 + 15*x^102 + 12*x^101 + 7*x^100 + 11*x^99 + x^98 + 18*x^96 + 11*x^95 + 17*x^94 + 6*x^93 + 6*x^92 + 17*x^91 + 20*x^90 + 12*x^89 + 9*x^88 + 11*x^87 + 17*x^86 + 21*x^85 + x^84 + 7*x^82 + 19*x^81 + 3*x^80 + 8*x^79 + 14*x^78 + 21*x^77 + 13*x^76 + 13*x^75 + 16*x^74 + 6*x^73 + 12*x^72 + 10*x^71 + 11*x^70 + 9*x^69 + 18*x^68 + x^67 + 4*x^66 + 20*x^65 + 13*x^64 + 8*x^62 + 17*x^61 + 15*x^60 + 6*x^59 + 3*x^58 + 2*x^57 + 15*x^56 + 6*x^55 + 2*x^54 + 8*x^53 + 18*x^52 + x^51 + x^50 + 19*x^49 + 12*x^48 + 16*x^47 + 4*x^46 + 5*x^45 + x^44 + 19*x^43 + 19*x^42 + 5*x^41 + 7*x^40 + 12*x^38 + 2*x^36 + 21*x^35 + 7*x^34 + x^33 + 13*x^32 + x^31 + 12*x^30 + 3*x^29 + 4*x^28 + 2*x^27 + 14*x^26 + 6*x^25 + 15*x^24 + 7*x^22 + 20*x^21 + 8*x^20 + 13*x^19 + x^18 + 16*x^17 + 3*x^16 + 4*x^15 + 18*x^14 + 10*x^13 + 22*x^12 + 5*x^11 + 15*x^10 + 6*x^8 + 12*x^7 + 15*x^6 + 16*x^5 + 7*x^4 + 5*x^2 + 6*x + 8)*z^10 + (12*x^224 + 5*x^223 + 5*x^222 + 13*x^221 + 6*x^220 + 17*x^219 + x^218 + 2*x^217 + 8*x^216 + 18*x^215 + 21*x^214 + 21*x^213 + 15*x^212 + 18*x^211 + 6*x^210 + 20*x^209 + 11*x^208 + 2*x^207 + x^206 + 21*x^205 + 22*x^204 + 17*x^203 + 13*x^201 + 21*x^200 + 6*x^199 + 7*x^198 + 20*x^197 + 20*x^196 + 3*x^195 + 12*x^194 + 8*x^193 + 14*x^192 + 19*x^191 + 21*x^190 + 13*x^189 + 18*x^188 + 3*x^187 + 21*x^186 + 6*x^185 + 16*x^184 + 7*x^183 + 16*x^182 + 8*x^181 + 2*x^180 + 17*x^179 + 6*x^178 + 18*x^177 + 8*x^176 + x^174 + 10*x^173 + x^172 + 13*x^171 + 12*x^170 + 8*x^169 + 18*x^168 + 16*x^165 + 11*x^164 + 8*x^163 + 8*x^162 + 20*x^161 + 13*x^160 + 2*x^159 + 19*x^158 + 19*x^157 + 17*x^156 + 12*x^155 + 22*x^154 + 14*x^153 + 9*x^152 + 6*x^151 + 9*x^150 + 15*x^149 + 6*x^147 + 9*x^146 + 8*x^145 + 16*x^144 + x^143 + 5*x^142 + 13*x^141 + 11*x^140 + 18*x^138 + 9*x^137 + 12*x^136 + x^135 + 11*x^134 + 4*x^133 + x^132 + 3*x^131 + 18*x^130 + 3*x^129 + 10*x^128 + 10*x^127 + 20*x^126 + 9*x^124 + 5*x^123 + 7*x^122 + 17*x^121 + 12*x^120 + 4*x^119 + 4*x^118 + 9*x^117 + 15*x^116 + 20*x^115 + 2*x^114 + x^111 + 5*x^110 + x^109 + 15*x^108 + 17*x^107 + 13*x^106 + 4*x^105 + 12*x^104 + 19*x^103 + 6*x^102 + 6*x^101 + 6*x^100 + 11*x^99 + x^98 + 17*x^97 + 6*x^96 + 6*x^95 + 22*x^94 + 6*x^93 + 14*x^92 + 4*x^91 + 20*x^90 + 15*x^89 + 14*x^88 + 16*x^87 + x^86 + 20*x^85 + 10*x^84 + 21*x^83 + 21*x^82 + 2*x^81 + 13*x^80 + 22*x^79 + 13*x^78 + 17*x^77 + 3*x^76 + 17*x^75 + 21*x^74 + 5*x^73 + 13*x^72 + 18*x^71 + 16*x^70 + 13*x^69 + 9*x^68 + 6*x^67 + 21*x^66 + 9*x^65 + 22*x^64 + 3*x^63 + 20*x^62 + 10*x^61 + 17*x^60 + 20*x^59 + 20*x^58 + 16*x^57 + 2*x^56 + 22*x^55 + 14*x^54 + 11*x^53 + 2*x^52 + 21*x^51 + 13*x^50 + 13*x^49 + 2*x^48 + 10*x^47 + 11*x^46 + 12*x^45 + 16*x^44 + 2*x^43 + 4*x^42 + 2*x^41 + 7*x^40 + 3*x^39 + x^38 + 22*x^37 + 20*x^36 + 3*x^35 + 11*x^34 + 12*x^33 + 5*x^32 + 8*x^31 + 7*x^30 + 6*x^29 + 6*x^26 + 4*x^25 + 8*x^24 + 7*x^21 + 7*x^20 + 18*x^19 + 22*x^18 + 6*x^17 + 7*x^16 + 22*x^15 + 19*x^14 + 17*x^13 + 21*x^12 + 18*x^11 + 4*x^10 + 10*x^8 + 7*x^7 + 11*x^6 + 14*x^5 + 17*x^4 + 13*x^3 + 20*x^2 + 16)*z^9 + (15*x^224 + 11*x^223 + 8*x^222 + 16*x^221 + 10*x^220 + 15*x^219 + 11*x^218 + 22*x^217 + 8*x^216 + 22*x^215 + 19*x^214 + 16*x^213 + 3*x^212 + 3*x^211 + 20*x^210 + 6*x^209 + 12*x^208 + 3*x^207 + 20*x^206 + 11*x^205 + 13*x^204 + 17*x^203 + 9*x^202 + 2*x^201 + 16*x^200 + 9*x^199 + 16*x^198 + 11*x^197 + 5*x^196 + 10*x^195 + x^194 + 17*x^192 + 13*x^191 + 9*x^190 + 13*x^189 + 20*x^188 + 12*x^187 + 6*x^186 + 8*x^185 + 2*x^184 + 4*x^183 + x^181 + 18*x^180 + 5*x^179 + 2*x^177 + 4*x^176 + 3*x^175 + 19*x^174 + 18*x^173 + 14*x^172 + 4*x^171 + 4*x^170 + 20*x^169 + 14*x^168 + 20*x^167 + 19*x^166 + 3*x^165 + 10*x^164 + 8*x^163 + 8*x^162 + 21*x^161 + 9*x^160 + 12*x^159 + 8*x^158 + 16*x^157 + 17*x^156 + 19*x^155 + 17*x^154 + 7*x^153 + 14*x^152 + 12*x^151 + 16*x^150 + 7*x^149 + 7*x^148 + 4*x^147 + 14*x^146 + 6*x^145 + 21*x^144 + 13*x^143 + 22*x^142 + 10*x^141 + 8*x^140 + 14*x^139 + 22*x^138 + 13*x^137 + 3*x^136 + 6*x^135 + 22*x^134 + 21*x^133 + 12*x^132 + 18*x^131 + 4*x^130 + 14*x^129 + 15*x^128 + 14*x^127 + 20*x^125 + 19*x^124 + 15*x^123 + 22*x^122 + 12*x^121 + 7*x^120 + 3*x^119 + 22*x^118 + 5*x^117 + 18*x^116 + 16*x^115 + 13*x^114 + 21*x^113 + 6*x^112 + 16*x^111 + 5*x^110 + 4*x^109 + 5*x^107 + 14*x^106 + 13*x^105 + 5*x^104 + 8*x^103 + 7*x^102 + 21*x^100 + 22*x^99 + 22*x^98 + 14*x^96 + x^95 + 14*x^94 + 18*x^93 + 16*x^92 + 8*x^91 + 22*x^90 + 18*x^89 + 16*x^88 + 9*x^87 + 14*x^86 + 7*x^85 + 16*x^84 + 8*x^83 + 20*x^82 + 18*x^81 + 9*x^80 + 14*x^79 + 7*x^78 + 14*x^77 + 22*x^76 + x^75 + 2*x^74 + 19*x^73 + 3*x^72 + 8*x^71 + 20*x^70 + 17*x^69 + 16*x^68 + 21*x^67 + 4*x^66 + 14*x^65 + 16*x^64 + 12*x^63 + 11*x^62 + 14*x^61 + 11*x^60 + x^59 + 15*x^58 + 11*x^57 + 16*x^56 + 12*x^55 + 5*x^54 + 16*x^53 + 8*x^52 + 13*x^51 + 10*x^50 + 7*x^49 + 6*x^48 + 5*x^47 + 16*x^46 + 5*x^45 + 19*x^44 + 3*x^43 + 18*x^42 + 4*x^41 + x^40 + 21*x^39 + 8*x^38 + 16*x^37 + 2*x^36 + 2*x^35 + 18*x^34 + 19*x^33 + 8*x^32 + 3*x^31 + 16*x^30 + 15*x^29 + 4*x^28 + 11*x^26 + 8*x^25 + 4*x^24 + 8*x^23 + 2*x^22 + 19*x^21 + 18*x^20 + 22*x^19 + 20*x^18 + 21*x^17 + 9*x^16 + 21*x^15 + 3*x^14 + 17*x^13 + 17*x^12 + 2*x^11 + 22*x^10 + 7*x^9 + 19*x^8 + 3*x^7 + 20*x^6 + 8*x^5 + 17*x^4 + 14*x^3 + 22*x^2 + 6*x + 15)*z^8 + (8*x^224 + 13*x^223 + 14*x^221 + 9*x^220 + 12*x^219 + 14*x^218 + 14*x^217 + 7*x^216 + 9*x^215 + 5*x^213 + 7*x^212 + 3*x^211 + 12*x^209 + 22*x^208 + 13*x^207 + 8*x^206 + 14*x^205 + 6*x^204 + 16*x^203 + 14*x^202 + 18*x^201 + 15*x^200 + 22*x^199 + 5*x^198 + 8*x^197 + 15*x^196 + 2*x^195 + 8*x^194 + 4*x^193 + 10*x^192 + 3*x^191 + 4*x^190 + 9*x^189 + 9*x^188 + 16*x^187 + 16*x^186 + 21*x^185 + 6*x^184 + 11*x^183 + 10*x^181 + 19*x^180 + 19*x^179 + 18*x^178 + 4*x^177 + 13*x^176 + 12*x^175 + 3*x^174 + 2*x^173 + 11*x^172 + 12*x^171 + 12*x^170 + 19*x^169 + 12*x^168 + 7*x^167 + 12*x^166 + 3*x^165 + 7*x^164 + 19*x^163 + 2*x^162 + 4*x^161 + 5*x^160 + 21*x^159 + 15*x^158 + 5*x^157 + 15*x^156 + 14*x^155 + 14*x^154 + x^153 + 7*x^152 + 4*x^151 + 21*x^150 + 18*x^149 + 8*x^148 + 9*x^147 + 4*x^146 + 4*x^145 + 6*x^144 + 11*x^143 + 6*x^142 + 13*x^141 + 17*x^140 + 10*x^139 + 18*x^138 + 19*x^137 + 20*x^135 + 17*x^134 + 4*x^133 + 13*x^132 + x^131 + 10*x^130 + 18*x^129 + 20*x^128 + 15*x^127 + 17*x^126 + 5*x^125 + 10*x^124 + 8*x^123 + 20*x^122 + 15*x^121 + 4*x^120 + 10*x^119 + 14*x^118 + 8*x^117 + 2*x^116 + x^115 + 9*x^114 + 12*x^113 + 15*x^112 + 4*x^111 + 11*x^110 + 21*x^109 + 10*x^108 + 3*x^107 + 15*x^106 + 10*x^105 + 14*x^104 + 20*x^103 + 8*x^102 + 6*x^101 + 11*x^100 + 13*x^99 + 3*x^98 + 12*x^97 + 19*x^96 + 20*x^95 + 3*x^94 + 8*x^93 + 21*x^92 + 5*x^91 + 15*x^90 + 10*x^89 + 8*x^88 + 14*x^87 + 2*x^86 + 22*x^85 + 3*x^83 + 19*x^82 + x^81 + 9*x^80 + 13*x^79 + 16*x^78 + 13*x^77 + 4*x^76 + 3*x^75 + 11*x^74 + 13*x^73 + 14*x^72 + 2*x^71 + 9*x^70 + 20*x^69 + 21*x^68 + 21*x^67 + x^66 + 20*x^65 + 3*x^64 + 4*x^63 + 9*x^61 + 9*x^60 + 13*x^58 + 3*x^57 + 21*x^56 + 10*x^55 + 15*x^54 + 20*x^53 + 9*x^52 + 22*x^51 + 20*x^50 + 12*x^49 + 12*x^48 + 16*x^47 + 20*x^46 + 13*x^45 + 14*x^44 + 13*x^43 + 12*x^42 + 21*x^41 + 18*x^40 + 16*x^39 + 19*x^38 + 6*x^37 + 20*x^36 + 21*x^35 + 3*x^34 + 10*x^32 + 21*x^31 + 21*x^30 + 4*x^29 + 9*x^28 + 13*x^27 + x^26 + 17*x^25 + 8*x^24 + 19*x^23 + 10*x^22 + 17*x^21 + 11*x^20 + 6*x^19 + 18*x^18 + 19*x^17 + 19*x^16 + 12*x^15 + 7*x^14 + 14*x^12 + 18*x^11 + 3*x^10 + 3*x^9 + 3*x^8 + 10*x^7 + 15*x^5 + 6*x^4 + 17*x^3 + 22*x^2 + 13*x + 21)*z^7 + (20*x^224 + 14*x^223 + 19*x^222 + 9*x^221 + 4*x^220 + 3*x^219 + 17*x^218 + 13*x^217 + 8*x^216 + 11*x^214 + x^213 + 20*x^212 + 18*x^210 + 2*x^209 + 10*x^208 + 8*x^207 + 3*x^206 + 21*x^205 + 18*x^203 + 9*x^202 + 7*x^201 + 22*x^200 + 8*x^199 + 4*x^198 + 8*x^197 + 3*x^196 + 14*x^195 + 11*x^194 + 7*x^193 + 22*x^192 + 6*x^191 + 20*x^190 + 7*x^189 + 3*x^188 + 10*x^187 + 18*x^186 + 7*x^184 + 10*x^183 + 12*x^182 + 19*x^181 + 12*x^180 + 8*x^179 + 14*x^178 + 15*x^177 + 15*x^175 + 10*x^174 + 7*x^173 + 11*x^172 + 16*x^171 + 9*x^170 + 10*x^169 + 20*x^167 + 11*x^166 + 3*x^165 + 22*x^164 + 10*x^163 + 8*x^162 + 20*x^161 + 12*x^160 + 5*x^159 + 22*x^158 + 13*x^157 + 21*x^156 + 7*x^154 + 15*x^153 + 19*x^152 + 14*x^151 + 4*x^150 + 22*x^149 + 6*x^148 + 13*x^147 + 4*x^146 + 5*x^145 + 17*x^144 + 11*x^143 + 19*x^141 + 13*x^140 + 17*x^139 + 3*x^138 + x^137 + 2*x^136 + 16*x^135 + x^134 + 12*x^133 + 7*x^132 + 21*x^131 + 13*x^130 + 20*x^129 + 4*x^128 + 8*x^127 + 21*x^126 + 16*x^125 + 10*x^124 + 17*x^123 + 18*x^122 + 6*x^121 + x^120 + 13*x^119 + 12*x^118 + 8*x^117 + 6*x^116 + 5*x^115 + 8*x^114 + 10*x^113 + 15*x^112 + 10*x^111 + 2*x^110 + 16*x^108 + 5*x^107 + 20*x^106 + 15*x^105 + 16*x^104 + 8*x^103 + 13*x^102 + 11*x^101 + 8*x^100 + 21*x^99 + 5*x^98 + 3*x^97 + 16*x^96 + 5*x^95 + 2*x^94 + 17*x^93 + 2*x^92 + 10*x^91 + 15*x^90 + 16*x^89 + 19*x^88 + 6*x^87 + 12*x^86 + 4*x^84 + 3*x^83 + 14*x^82 + 19*x^81 + 19*x^79 + 7*x^78 + 14*x^77 + 22*x^76 + 14*x^75 + 5*x^74 + 7*x^73 + 10*x^72 + 6*x^70 + 14*x^69 + 2*x^68 + 19*x^67 + x^66 + 9*x^65 + 9*x^64 + 22*x^63 + 17*x^62 + 15*x^61 + 5*x^60 + 16*x^58 + 7*x^57 + 11*x^56 + 6*x^55 + x^54 + 4*x^53 + 20*x^52 + 18*x^51 + 6*x^50 + 14*x^49 + 5*x^48 + 11*x^47 + 11*x^46 + 8*x^45 + 5*x^44 + 12*x^43 + 7*x^42 + 20*x^41 + 6*x^40 + 22*x^39 + 13*x^38 + 16*x^37 + 13*x^36 + 11*x^35 + x^34 + 3*x^33 + 16*x^32 + 4*x^31 + 12*x^30 + x^29 + 9*x^28 + 19*x^27 + 2*x^26 + 8*x^25 + 12*x^24 + 21*x^23 + 20*x^21 + x^19 + 11*x^18 + 5*x^17 + 14*x^16 + 17*x^15 + 16*x^14 + 2*x^13 + 20*x^12 + 7*x^11 + 11*x^10 + x^9 + 14*x^8 + 22*x^7 + 2*x^6 + 17*x^5 + 10*x^4 + 18*x^3 + 18*x^2 + 18*x + 1)*z^6 + (3*x^224 + 8*x^223 + 9*x^222 + 7*x^221 + 18*x^220 + 10*x^219 + 12*x^218 + 9*x^217 + 12*x^216 + 4*x^215 + 12*x^214 + x^213 + 15*x^212 + 17*x^211 + 3*x^210 + 22*x^209 + 20*x^208 + 10*x^207 + 13*x^206 + 17*x^205 + 16*x^204 + 22*x^203 + 9*x^202 + 12*x^201 + 13*x^200 + 11*x^199 + 11*x^198 + 18*x^197 + 7*x^196 + 8*x^195 + 9*x^194 + 22*x^193 + 5*x^192 + 16*x^191 + 4*x^190 + 17*x^189 + 6*x^188 + 7*x^187 + 16*x^186 + 10*x^185 + 19*x^184 + 20*x^183 + 11*x^182 + 14*x^180 + x^179 + 2*x^177 + 13*x^176 + 22*x^175 + 20*x^174 + 17*x^173 + 6*x^172 + 15*x^171 + 5*x^170 + x^169 + 6*x^168 + 21*x^167 + 12*x^166 + 4*x^165 + 5*x^164 + 13*x^163 + 13*x^162 + 14*x^161 + 14*x^160 + 10*x^159 + x^158 + 16*x^157 + 10*x^156 + 11*x^155 + 12*x^154 + 20*x^153 + 22*x^152 + 2*x^151 + 20*x^150 + 19*x^149 + 5*x^148 + 5*x^147 + 8*x^146 + 13*x^145 + 19*x^144 + 15*x^143 + 14*x^142 + 17*x^141 + 12*x^140 + 9*x^139 + 15*x^138 + 6*x^137 + 15*x^136 + 2*x^135 + 11*x^134 + 6*x^133 + 2*x^132 + 22*x^131 + 18*x^130 + 4*x^129 + 2*x^128 + 19*x^127 + 4*x^126 + 2*x^125 + 3*x^124 + 18*x^123 + 4*x^122 + 10*x^121 + 21*x^120 + 8*x^119 + 14*x^118 + 7*x^117 + 8*x^116 + 15*x^115 + 17*x^114 + 10*x^113 + 21*x^112 + 11*x^111 + x^110 + 8*x^109 + x^108 + 9*x^107 + 8*x^106 + 10*x^105 + 14*x^103 + 2*x^102 + 11*x^101 + 9*x^100 + 3*x^99 + 5*x^98 + 11*x^97 + 20*x^96 + 7*x^95 + 2*x^94 + 16*x^93 + 5*x^91 + 7*x^90 + 5*x^89 + 13*x^88 + 5*x^87 + 10*x^86 + 19*x^84 + 20*x^83 + 13*x^82 + 7*x^81 + 16*x^79 + 6*x^78 + x^77 + 20*x^76 + 13*x^75 + 21*x^74 + 13*x^73 + 22*x^72 + 8*x^71 + 18*x^69 + 9*x^68 + 15*x^67 + 8*x^66 + 2*x^65 + 7*x^64 + 22*x^63 + 12*x^62 + 3*x^61 + 10*x^60 + 15*x^59 + 15*x^58 + 21*x^57 + 17*x^56 + 5*x^55 + 9*x^54 + 14*x^53 + 4*x^52 + 19*x^51 + 3*x^50 + 11*x^49 + 19*x^48 + 7*x^47 + 13*x^46 + 7*x^45 + 12*x^44 + 4*x^43 + 17*x^42 + 19*x^41 + 2*x^40 + 9*x^39 + 19*x^38 + 4*x^37 + 13*x^36 + 17*x^35 + 10*x^34 + 15*x^33 + 22*x^32 + 13*x^31 + 5*x^30 + 2*x^29 + 5*x^28 + 21*x^27 + 8*x^25 + 9*x^24 + 14*x^23 + 7*x^22 + 4*x^21 + 22*x^20 + 13*x^19 + 6*x^18 + 11*x^17 + 15*x^16 + 19*x^15 + 11*x^14 + 12*x^13 + 4*x^12 + 7*x^11 + 15*x^9 + 2*x^8 + 9*x^7 + 13*x^6 + 10*x^5 + 22*x^4 + 5*x^3 + 8*x^2 + 7)*z^5 + (19*x^224 + 2*x^223 + 22*x^222 + 6*x^221 + 17*x^220 + 20*x^219 + 2*x^218 + 13*x^217 + 2*x^216 + x^215 + 3*x^214 + 5*x^213 + 9*x^212 + 10*x^211 + 15*x^210 + 17*x^209 + 21*x^208 + 4*x^207 + 13*x^206 + 15*x^205 + 3*x^204 + 17*x^203 + x^202 + 14*x^201 + 15*x^200 + 18*x^199 + 2*x^198 + 20*x^197 + 4*x^196 + 21*x^195 + 16*x^194 + 16*x^193 + 4*x^192 + 17*x^191 + 14*x^190 + 5*x^189 + 13*x^188 + 14*x^187 + 4*x^186 + 16*x^185 + 14*x^184 + 11*x^182 + 22*x^181 + 13*x^180 + 20*x^179 + 21*x^178 + 12*x^177 + 9*x^176 + 12*x^175 + 4*x^174 + 18*x^173 + 16*x^172 + 21*x^171 + 11*x^170 + 18*x^169 + 15*x^168 + 18*x^167 + 9*x^166 + 2*x^165 + 21*x^164 + 3*x^163 + 22*x^162 + 14*x^161 + 4*x^160 + 21*x^159 + 6*x^158 + 5*x^157 + 9*x^156 + 12*x^155 + 15*x^154 + 11*x^153 + 22*x^152 + 14*x^151 + 13*x^150 + 12*x^149 + 2*x^148 + 21*x^147 + 3*x^146 + 16*x^145 + 6*x^144 + 8*x^143 + 2*x^142 + 3*x^141 + 5*x^140 + 11*x^139 + 15*x^138 + 4*x^137 + x^136 + 17*x^135 + 5*x^134 + 6*x^133 + 13*x^132 + 5*x^131 + 16*x^130 + 12*x^129 + 12*x^128 + 16*x^127 + 18*x^126 + 10*x^125 + 9*x^124 + 7*x^123 + 3*x^122 + x^121 + 16*x^120 + 3*x^119 + 21*x^118 + 20*x^117 + 3*x^116 + 15*x^114 + 19*x^113 + 7*x^112 + 14*x^111 + 16*x^110 + 2*x^109 + 11*x^108 + 13*x^107 + 13*x^106 + 21*x^105 + 6*x^103 + 6*x^102 + 16*x^101 + 13*x^100 + 11*x^99 + 3*x^98 + 9*x^97 + 13*x^96 + 20*x^95 + 16*x^94 + 8*x^93 + 17*x^92 + 7*x^91 + 19*x^90 + 4*x^89 + 10*x^88 + 13*x^87 + 20*x^86 + 20*x^84 + 21*x^83 + 5*x^82 + 21*x^81 + 4*x^80 + 3*x^79 + 10*x^78 + 14*x^77 + 2*x^76 + 13*x^75 + 11*x^74 + 10*x^73 + 19*x^72 + x^71 + 14*x^70 + 7*x^68 + 8*x^67 + x^66 + 5*x^65 + 14*x^64 + 13*x^63 + 19*x^62 + 10*x^61 + 17*x^60 + 2*x^59 + 12*x^58 + 21*x^57 + 21*x^56 + 21*x^55 + 15*x^54 + 7*x^53 + 16*x^52 + 10*x^51 + 17*x^50 + 15*x^49 + 9*x^48 + 22*x^47 + 15*x^46 + 10*x^45 + 8*x^44 + x^43 + 22*x^42 + 3*x^40 + 15*x^39 + 12*x^38 + 19*x^37 + 6*x^36 + 14*x^35 + 12*x^34 + 19*x^33 + 10*x^32 + 11*x^31 + 20*x^30 + 11*x^29 + 16*x^28 + 21*x^27 + x^26 + 10*x^25 + 4*x^24 + 19*x^23 + 19*x^22 + 3*x^21 + 9*x^20 + 22*x^19 + 12*x^18 + 19*x^17 + 13*x^16 + 4*x^15 + 21*x^13 + 3*x^12 + 11*x^11 + 17*x^10 + 4*x^9 + 12*x^8 + 14*x^7 + 15*x^6 + 9*x^5 + 19*x^4 + 13*x^3 + 2*x^2 + 6*x + 5)*z^4 + (4*x^224 + 14*x^223 + x^222 + 5*x^221 + 16*x^220 + 9*x^219 + 15*x^218 + 5*x^217 + 9*x^215 + 21*x^214 + 11*x^213 + 17*x^212 + 7*x^211 + 7*x^210 + 7*x^209 + 4*x^208 + 6*x^207 + 5*x^206 + 22*x^205 + 15*x^204 + 15*x^203 + 2*x^202 + 13*x^201 + 16*x^200 + 19*x^199 + 19*x^198 + 15*x^197 + 15*x^196 + 12*x^195 + 3*x^194 + 21*x^193 + 19*x^192 + 22*x^191 + 18*x^190 + 10*x^189 + 14*x^188 + x^187 + 10*x^185 + 7*x^184 + 19*x^183 + 16*x^182 + 6*x^181 + 19*x^180 + 14*x^179 + 9*x^178 + 9*x^177 + 21*x^176 + 6*x^175 + 2*x^173 + 3*x^172 + 14*x^171 + 9*x^170 + 18*x^169 + 12*x^168 + 12*x^167 + 21*x^166 + 21*x^165 + 8*x^164 + 12*x^163 + 10*x^162 + 16*x^161 + 18*x^160 + x^159 + 2*x^158 + 15*x^157 + 13*x^156 + 19*x^155 + 20*x^154 + 4*x^153 + 12*x^152 + 7*x^151 + 13*x^150 + 9*x^149 + 10*x^148 + 2*x^146 + 5*x^145 + 18*x^144 + 13*x^143 + 20*x^142 + 12*x^141 + x^140 + 21*x^138 + 14*x^137 + 7*x^136 + 21*x^135 + 12*x^134 + 6*x^133 + 5*x^132 + 6*x^131 + 3*x^130 + 8*x^129 + 17*x^128 + 22*x^127 + 11*x^126 + 14*x^125 + 3*x^124 + 16*x^123 + 13*x^122 + 7*x^121 + 12*x^120 + 3*x^119 + 3*x^118 + 2*x^117 + 17*x^116 + 13*x^115 + 16*x^114 + 18*x^113 + x^112 + 15*x^111 + 8*x^110 + 15*x^109 + 15*x^108 + 20*x^107 + 8*x^106 + x^105 + 6*x^104 + 11*x^103 + 21*x^101 + 4*x^100 + 15*x^99 + 13*x^98 + 9*x^97 + 22*x^96 + 13*x^95 + 21*x^94 + 6*x^93 + 2*x^92 + 9*x^91 + 16*x^90 + 8*x^89 + 13*x^88 + 14*x^87 + 11*x^86 + 12*x^85 + 16*x^84 + 22*x^82 + 11*x^81 + 8*x^80 + 4*x^79 + 7*x^78 + 14*x^77 + 9*x^76 + 11*x^75 + 10*x^74 + 11*x^73 + x^72 + 19*x^71 + 17*x^70 + 11*x^69 + 11*x^68 + 13*x^67 + 9*x^66 + 12*x^65 + 3*x^64 + 13*x^63 + 18*x^62 + 21*x^61 + 2*x^60 + 5*x^58 + 15*x^57 + 8*x^56 + 19*x^55 + 16*x^54 + 11*x^53 + 3*x^52 + 19*x^51 + 20*x^50 + 17*x^49 + 19*x^48 + 8*x^47 + 6*x^45 + 17*x^44 + 7*x^43 + 4*x^42 + 10*x^41 + 10*x^40 + 3*x^39 + 3*x^38 + 6*x^37 + 5*x^36 + 6*x^35 + 11*x^33 + 5*x^32 + 13*x^31 + 17*x^30 + 22*x^29 + 22*x^28 + 3*x^27 + 5*x^25 + 20*x^23 + 12*x^22 + 9*x^21 + 11*x^20 + 16*x^19 + 6*x^17 + 2*x^16 + 6*x^15 + 2*x^14 + 6*x^13 + 6*x^12 + 13*x^11 + 9*x^10 + 12*x^8 + 7*x^7 + 21*x^6 + 14*x^5 + 12*x^4 + 21*x^3 + 9*x^2 + 7*x + 5)*z^3 + (3*x^224 + 17*x^223 + 8*x^222 + 15*x^221 + 3*x^220 + 8*x^219 + 10*x^218 + 13*x^217 + 5*x^216 + 15*x^215 + 18*x^214 + 14*x^213 + 11*x^212 + 5*x^211 + 14*x^210 + 11*x^209 + 9*x^208 + 15*x^207 + 10*x^206 + 22*x^205 + 2*x^203 + 22*x^202 + 4*x^201 + 9*x^200 + 14*x^199 + 9*x^198 + 3*x^197 + 16*x^196 + 6*x^195 + x^194 + 11*x^193 + 2*x^192 + 21*x^191 + 21*x^190 + 10*x^189 + 13*x^188 + 10*x^187 + 12*x^186 + 16*x^184 + 20*x^183 + 5*x^182 + 3*x^181 + 2*x^180 + 21*x^179 + 5*x^178 + 17*x^177 + 18*x^176 + 17*x^175 + 13*x^174 + 10*x^173 + 8*x^172 + 13*x^171 + 16*x^170 + 19*x^169 + 15*x^168 + 6*x^167 + 20*x^166 + 8*x^165 + 15*x^164 + 4*x^163 + 19*x^162 + 12*x^161 + 14*x^160 + 5*x^159 + 16*x^158 + 4*x^157 + 6*x^156 + x^155 + x^154 + 3*x^153 + 15*x^152 + 5*x^150 + 14*x^149 + 17*x^148 + 7*x^147 + 6*x^146 + 14*x^145 + 3*x^144 + 18*x^143 + x^142 + 21*x^141 + 13*x^140 + 18*x^139 + x^138 + 13*x^137 + 14*x^136 + 10*x^135 + 17*x^134 + 19*x^133 + 20*x^132 + 16*x^131 + 14*x^130 + 9*x^129 + 16*x^128 + 7*x^127 + 13*x^125 + 17*x^124 + 3*x^123 + 20*x^122 + 2*x^121 + 14*x^120 + 3*x^119 + 2*x^118 + 8*x^117 + 17*x^116 + 21*x^114 + 10*x^113 + 12*x^112 + 7*x^111 + 13*x^110 + 8*x^109 + 4*x^108 + 12*x^107 + 17*x^106 + x^105 + 4*x^104 + 11*x^103 + 11*x^102 + 2*x^101 + 20*x^100 + 11*x^99 + 22*x^98 + 13*x^97 + 21*x^96 + 14*x^95 + 3*x^94 + 21*x^93 + 19*x^92 + 5*x^91 + 10*x^90 + 5*x^89 + 12*x^88 + 7*x^87 + 21*x^86 + 21*x^85 + x^84 + 21*x^83 + 2*x^82 + 11*x^81 + 9*x^80 + 21*x^79 + 7*x^78 + 4*x^77 + 2*x^76 + 9*x^75 + 19*x^74 + 5*x^73 + 9*x^72 + 20*x^71 + 11*x^70 + 13*x^69 + 9*x^68 + 15*x^67 + 12*x^66 + 8*x^65 + 2*x^64 + 16*x^63 + 20*x^62 + 2*x^61 + 13*x^60 + 20*x^59 + 18*x^58 + 7*x^57 + 5*x^56 + 19*x^55 + 21*x^54 + 13*x^53 + 5*x^52 + x^51 + 13*x^50 + 3*x^49 + 8*x^48 + 4*x^47 + 17*x^46 + 19*x^45 + 5*x^44 + 7*x^43 + 10*x^42 + 10*x^41 + 19*x^40 + 14*x^39 + 2*x^38 + 21*x^37 + 9*x^36 + 7*x^35 + 11*x^34 + 9*x^33 + 18*x^32 + 8*x^30 + 11*x^29 + 5*x^28 + 22*x^26 + 12*x^25 + 12*x^24 + 4*x^23 + 11*x^22 + 18*x^21 + 5*x^20 + 18*x^19 + 10*x^18 + 13*x^15 + 2*x^14 + 21*x^13 + 13*x^12 + 10*x^11 + 15*x^10 + x^9 + 11*x^8 + 12*x^7 + 20*x^6 + 11*x^5 + 19*x^4 + 4*x^2 + 13*x + 11)*z^2 + (16*x^224 + 14*x^223 + 22*x^222 + x^221 + 22*x^220 + 13*x^219 + 12*x^218 + 16*x^217 + 6*x^216 + 15*x^215 + 12*x^214 + 17*x^213 + 6*x^212 + 2*x^211 + 15*x^210 + 20*x^209 + 5*x^208 + 10*x^207 + 9*x^206 + 6*x^205 + 14*x^204 + 18*x^203 + 5*x^202 + 16*x^201 + 22*x^199 + 7*x^198 + 9*x^197 + 18*x^196 + 5*x^195 + 8*x^194 + 21*x^193 + 10*x^192 + 11*x^191 + 18*x^190 + 17*x^188 + 17*x^187 + 10*x^186 + 6*x^185 + 10*x^184 + 16*x^183 + 9*x^182 + 4*x^181 + 17*x^180 + 17*x^179 + 21*x^178 + 8*x^177 + 7*x^176 + 7*x^175 + x^174 + 8*x^173 + 11*x^172 + 14*x^171 + 22*x^170 + x^169 + 9*x^168 + 22*x^167 + 11*x^165 + 11*x^164 + 21*x^163 + 6*x^162 + 9*x^161 + 3*x^160 + 20*x^159 + 2*x^158 + 6*x^157 + 22*x^156 + x^155 + 9*x^154 + 7*x^153 + 21*x^152 + 16*x^151 + 22*x^150 + 5*x^149 + 17*x^148 + 8*x^147 + 16*x^146 + 22*x^145 + 12*x^144 + 7*x^143 + 2*x^142 + 3*x^140 + 9*x^139 + 20*x^138 + 2*x^137 + 4*x^136 + 7*x^135 + 2*x^134 + 14*x^133 + 12*x^132 + 2*x^131 + 9*x^130 + 6*x^129 + 11*x^128 + 2*x^127 + 2*x^126 + 15*x^125 + 2*x^124 + 14*x^123 + 16*x^122 + 21*x^121 + 13*x^120 + 3*x^119 + 16*x^117 + 4*x^115 + 18*x^114 + 20*x^113 + 3*x^112 + 5*x^111 + 5*x^110 + 17*x^109 + 5*x^108 + 20*x^107 + 12*x^106 + 11*x^105 + 8*x^104 + x^103 + 14*x^102 + 3*x^101 + 8*x^100 + 15*x^99 + 8*x^98 + 16*x^97 + 22*x^96 + 11*x^95 + 9*x^94 + x^93 + 18*x^92 + 18*x^91 + 13*x^90 + 22*x^89 + 11*x^88 + 3*x^87 + 17*x^86 + 17*x^85 + 9*x^84 + 14*x^83 + 5*x^82 + 5*x^81 + 10*x^80 + 13*x^79 + 6*x^78 + 3*x^77 + 21*x^76 + 21*x^75 + 4*x^74 + 5*x^73 + 10*x^72 + 19*x^71 + 8*x^70 + 14*x^69 + 9*x^68 + 8*x^67 + 10*x^66 + x^65 + 12*x^64 + x^63 + 20*x^62 + 21*x^61 + 4*x^60 + 10*x^59 + 9*x^58 + 3*x^57 + 16*x^56 + 9*x^55 + 4*x^54 + 5*x^53 + 9*x^52 + 16*x^50 + 19*x^49 + 21*x^48 + 3*x^47 + 16*x^45 + 14*x^44 + 9*x^43 + 15*x^42 + x^41 + 6*x^40 + 15*x^39 + 9*x^38 + 7*x^37 + 21*x^36 + x^35 + 4*x^34 + 6*x^33 + 21*x^32 + 20*x^31 + 18*x^30 + 3*x^29 + 10*x^28 + 9*x^27 + 12*x^26 + 14*x^25 + 10*x^24 + 2*x^23 + 20*x^22 + 4*x^21 + 21*x^20 + 17*x^19 + 21*x^18 + 18*x^17 + 8*x^16 + 21*x^15 + x^14 + 14*x^13 + 6*x^12 + 19*x^11 + x^10 + 7*x^9 + 8*x^8 + 3*x^6 + 2*x^5 + 10*x^4 + 18*x^3 + 16*x^2 + 17*x + 12)*z + 21*x^224 + 11*x^223 + 4*x^222 + 18*x^221 + 10*x^220 + 2*x^219 + 14*x^218 + 17*x^217 + 8*x^216 + 3*x^215 + 17*x^214 + 10*x^213 + x^212 + 19*x^211 + 20*x^210 + 12*x^209 + 21*x^208 + 11*x^207 + 15*x^206 + 5*x^205 + 17*x^204 + 17*x^203 + 22*x^202 + 20*x^201 + 15*x^200 + 7*x^199 + 17*x^198 + 4*x^197 + 6*x^196 + 21*x^195 + 17*x^194 + 8*x^193 + 17*x^192 + 4*x^191 + 7*x^190 + 7*x^188 + 10*x^187 + 20*x^186 + 2*x^185 + 22*x^184 + 12*x^183 + 12*x^182 + 13*x^181 + 13*x^180 + 19*x^179 + 22*x^178 + 7*x^177 + 7*x^176 + 6*x^175 + 7*x^174 + 4*x^173 + 14*x^172 + 3*x^171 + 16*x^170 + 15*x^169 + 5*x^168 + 10*x^167 + 19*x^166 + 11*x^165 + 14*x^164 + 20*x^163 + 10*x^162 + 8*x^161 + 14*x^160 + 7*x^159 + 11*x^158 + 22*x^157 + 16*x^156 + 10*x^155 + 13*x^154 + 5*x^153 + 6*x^152 + 20*x^151 + 4*x^149 + 20*x^148 + 14*x^147 + 17*x^146 + 14*x^145 + 20*x^144 + 16*x^143 + 11*x^142 + 21*x^141 + 12*x^140 + 16*x^139 + 5*x^138 + 7*x^137 + 16*x^136 + x^135 + 15*x^134 + 3*x^133 + 17*x^132 + 6*x^131 + 4*x^130 + 14*x^129 + 5*x^128 + 12*x^127 + 15*x^126 + 6*x^125 + 19*x^124 + 4*x^123 + 21*x^122 + x^121 + 3*x^120 + 2*x^119 + 17*x^118 + 4*x^117 + x^116 + 11*x^115 + 8*x^114 + 4*x^113 + 14*x^112 + 9*x^111 + 11*x^110 + 19*x^109 + 21*x^108 + 4*x^107 + 9*x^106 + 20*x^105 + 14*x^104 + 22*x^103 + 7*x^102 + 20*x^101 + 15*x^100 + 16*x^99 + 17*x^98 + 8*x^97 + 21*x^96 + 16*x^95 + 5*x^94 + 9*x^93 + 8*x^92 + 11*x^91 + 2*x^90 + 4*x^88 + 21*x^87 + 11*x^86 + 19*x^85 + 11*x^84 + x^83 + 8*x^82 + 2*x^81 + 19*x^80 + 4*x^79 + 20*x^78 + 15*x^77 + 13*x^76 + 3*x^75 + 9*x^74 + 8*x^73 + 21*x^72 + 17*x^71 + 4*x^70 + 8*x^68 + 22*x^67 + 5*x^66 + 17*x^65 + 19*x^63 + 7*x^62 + 7*x^61 + 12*x^60 + 11*x^59 + 8*x^58 + 9*x^57 + 15*x^56 + 14*x^55 + 16*x^54 + 6*x^53 + 6*x^52 + 18*x^51 + 9*x^50 + 3*x^49 + 17*x^48 + 6*x^47 + 22*x^46 + 15*x^45 + 7*x^44 + 19*x^43 + 7*x^42 + 13*x^41 + 19*x^40 + 5*x^39 + 16*x^38 + 21*x^37 + 5*x^35 + 7*x^34 + 2*x^33 + 7*x^32 + 3*x^31 + 10*x^30 + 15*x^29 + 21*x^28 + 2*x^27 + 6*x^25 + x^24 + 9*x^23 + 13*x^22 + x^20 + 18*x^19 + 9*x^18 + 13*x^17 + 20*x^16 + 18*x^15 + 2*x^14 + 8*x^13 + 9*x^12 + 17*x^11 + 15*x^10 + 7*x^9 + 8*x^8 + x^7 + 20*x^6 + 4*x^4 + 7*x^3 + 2*x^2 + 9*x + 3"
      ]
     },
     "execution_count": 20,
     "metadata": {},
     "output_type": "execute_result"
    }
   ],
   "source": [
    "%time frob_l(A.random_element(), 200)"
   ]
  },
  {
   "cell_type": "code",
   "execution_count": null,
   "metadata": {
    "collapsed": true,
    "deletable": true,
    "editable": true
   },
   "outputs": [],
   "source": []
  }
 ],
 "metadata": {
  "kernelspec": {
   "display_name": "SageMath 8.1",
   "language": "",
   "name": "sagemath"
  },
  "language_info": {
   "codemirror_mode": {
    "name": "ipython",
    "version": 2
   },
   "file_extension": ".py",
   "mimetype": "text/x-python",
   "name": "python",
   "nbconvert_exporter": "python",
   "pygments_lexer": "ipython2",
   "version": "2.7.14"
  }
 },
 "nbformat": 4,
 "nbformat_minor": 2
}
