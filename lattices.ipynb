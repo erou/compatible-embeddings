{
 "cells": [
  {
   "cell_type": "code",
   "execution_count": 1,
   "metadata": {
    "collapsed": true,
    "deletable": true,
    "editable": true
   },
   "outputs": [],
   "source": [
    "def ext_scalars(k, n):\n",
    "    q = k.order()\n",
    "    assert gcd(n, q) == 1, \"Only multiplicative H90, please!\"\n",
    "    \n",
    "    phi = cyclotomic_polynomial(n, 'z').change_ring(k)\n",
    "    \n",
    "    K = k.extension(n, 'x')\n",
    "    A = K['z']\n",
    "    h = A(phi.factor()[0][0])\n",
    "    \n",
    "    return K, A.quo(h, 'z')"
   ]
  },
  {
   "cell_type": "code",
   "execution_count": 2,
   "metadata": {
    "collapsed": true,
    "deletable": true,
    "editable": true
   },
   "outputs": [],
   "source": [
    "def frob_l(a, i=1):\n",
    "    A = a.parent()\n",
    "    q = a.base_ring().base_ring().order()\n",
    "    return A(list(c^(q^i) for c in a))"
   ]
  },
  {
   "cell_type": "code",
   "execution_count": 3,
   "metadata": {
    "collapsed": true,
    "deletable": true,
    "editable": true
   },
   "outputs": [],
   "source": [
    "def frob_r(a, i=1):\n",
    "    A = a.parent()\n",
    "    z = A.gen()\n",
    "    q = a.base_ring().base_ring().order()\n",
    "    return sum(c*z^(j*q^i) for j, c in enumerate(a))"
   ]
  },
  {
   "cell_type": "code",
   "execution_count": 4,
   "metadata": {
    "collapsed": true,
    "deletable": true,
    "editable": true
   },
   "outputs": [],
   "source": [
    "def is_h90(a, zeta):\n",
    "    return frob_l(a) == zeta * a"
   ]
  },
  {
   "cell_type": "code",
   "execution_count": 5,
   "metadata": {
    "collapsed": true,
    "deletable": true,
    "editable": true
   },
   "outputs": [],
   "source": [
    "def solve_h90(A):\n",
    "    x = A(1)\n",
    "    n = A.base_ring().degree()\n",
    "    z = A.gen()\n",
    "    while not is_h90(x, z):\n",
    "        x = A.random_element()\n",
    "        x = sum(frob_l(x, i)*z^-i for i in range(n))\n",
    "    return x"
   ]
  },
  {
   "cell_type": "code",
   "execution_count": 6,
   "metadata": {
    "collapsed": false,
    "deletable": true,
    "editable": true
   },
   "outputs": [],
   "source": [
    "def cyclo_deg(k, n):\n",
    "    return Zmod(n)(k.characteristic()).multiplicative_order()\n",
    "\n",
    "def rnorm(a, m):\n",
    "    A = a.parent()\n",
    "    n = A.base_ring().degree()\n",
    "    r = A.degree()\n",
    "    q = A.base_ring().base_ring().order()\n",
    "    s = cyclo_deg(GF(q), m)\n",
    "    d = n // m\n",
    "    \n",
    "#    print n, m, r, s, d\n",
    "    return product(frob_r(a, s*j) for j in range(d))\n",
    "def toto(k, m, n):\n",
    "    q = k.order()\n",
    "    r = cyclo_deg(k, m)\n",
    "    s = cyclo_deg(k, n)\n",
    "    t = (q^s-1)//(q^r-1)\n",
    "    return t, gcd(t, n), n//m\n",
    "\n",
    "def change_basis(elem, basis, d2):\n",
    "    \n",
    "    k = elem.base_ring()\n",
    "    d1 = elem.parent().degree()\n",
    "    A = MatrixSpace(k, d1, d2)()\n",
    "    \n",
    "    for i in range(d2):\n",
    "        L = (basis^i).list()\n",
    "        for j in range(d1):\n",
    "            A[j,i] = L[j]\n",
    "            \n",
    "    S2 = MatrixSpace(k, d1, 1)\n",
    "    B = S2(elem.list())\n",
    "    X = A.solve_right(B)\n",
    "    \n",
    "    return X[0,0]\n",
    "\n",
    "def testl(p, l, n):\n",
    "    k = GF(p)\n",
    "    k1, A1 = ext_scalars(k, l^n)\n",
    "    M1 = A1.modulus()\n",
    "    R = k['z']\n",
    "    k2 = k.extension(l^(n+1))\n",
    "    R2 = k2['z']\n",
    "    x = R.gen()\n",
    "    M2 = gcd(A1.modulus().change_ring(k).substitute(x^l), R(cyclotomic_polynomial(l^(n+1)))).factor()[0][0]\n",
    "    A2 = R2.quo(M2, 'z')\n",
    "    h1 = solve_h90(A1)\n",
    "    h2 = solve_h90(A2)\n",
    "    i2 = rnorm(h2, l^n)\n",
    "    aa = h1^(l^n)\n",
    "    bb = i2^(l^n)\n",
    "    C = k.extension(M2, 'x')\n",
    "    \n",
    "    a = R([x for x in aa.list()]).subs(C.gen()^l)\n",
    "    b = C([k(x) for x in bb.list()])\n",
    "    \n",
    "    t = a/b\n",
    "    c = t.nth_root(l^(n+1))\n",
    "    return h1, A2(c.polynomial().list())*h2\n",
    "\n",
    "def is_iso(h1, h2):\n",
    "    m = h1.base_ring().degree()\n",
    "    n = h2.base_ring().degree()\n",
    "    l = n // m\n",
    "    i2 = rnorm(h2, m)\n",
    "    j2 = change_basis(i2, h2.parent().gen()^l, h1.parent().degree())\n",
    "    return h1.list()[0].minpoly() == j2.minpoly()  \n",
    "    \n",
    "def frob_rc(a, n, m, i=1):\n",
    "    A = a.parent()\n",
    "    z = A.gen()\n",
    "    l = n // m\n",
    "    u, v = xgcd(l, m)[1:]\n",
    "    q = a.base_ring().base_ring().order()\n",
    "    return sum(c*z^(u*l*j)*z^(v*m*j*q^i) for j, c in enumerate(a))\n",
    "\n",
    "def rnormc(a, m):\n",
    "    A = a.parent()\n",
    "    n = a.base_ring().degree()\n",
    "    q = A.base_ring().base_ring().order()\n",
    "    l = n // m\n",
    "    d = cyclo_deg(GF(q), l)\n",
    "    print d, l\n",
    "    return product(frob_rc(a, n, m, j) for j in range(d))\n",
    "\n",
    "\"\"\"\n",
    "Here we find an element h2 solution of H90 in F_p^n compatible with h1.\n",
    "\"\"\"\n",
    "def findh90(h1, n):\n",
    "    k = h1.base_ring().base_ring()\n",
    "    k1, A1 = h1.base_ring(), h1.parent()\n",
    "    M1 = A1.modulus()\n",
    "    R = k['z']\n",
    "    m = k1.degree()\n",
    "    l = n // m\n",
    "    k2 = k.extension(n)\n",
    "    R2 = k2['z']\n",
    "    x = R.gen()\n",
    "    M2 = gcd(M1.change_ring(k).substitute(x^l), R(cyclotomic_polynomial(n))).factor()[0][0]\n",
    "    A2 = R2.quo(M2, 'z')\n",
    "    h2 = solve_h90(A2)\n",
    "    i2 = rnorm(h2, m)\n",
    "    aa = h1^(m)\n",
    "    bb = i2^(m)\n",
    "    C = k.extension(M2, 'x')\n",
    "    \n",
    "    a = R([x for x in aa.list()]).subs(C.gen()^l)\n",
    "    b = C([k(x) for x in bb.list()])\n",
    "    \n",
    "    t = a/b\n",
    "    c = t.nth_root(n)\n",
    "    return A2(c.polynomial().list())*h2\n",
    "\n",
    "\"\"\"\n",
    "Return two elements h1, h2 that are respectively solutions of H90 in \n",
    "A_m = F_p^m ⊗ F_p(ζ_m) for the root 1 ⊗ ζ_m and in A_n for 1 ⊗ ζ_n, such that\n",
    "N(h2) = h1.\n",
    "\"\"\"\n",
    "def testc(p, m, n):\n",
    "    k = GF(p)\n",
    "    k1, A1 = ext_scalars(k, m)\n",
    "    M1 = A1.modulus()\n",
    "    R = k['z']\n",
    "    k2 = k.extension(n)\n",
    "    R2 = k2['z']\n",
    "    x = R.gen()\n",
    "    l = n // m\n",
    "    M2 = gcd(A1.modulus().change_ring(k).substitute(x^l), R(cyclotomic_polynomial(n))).factor()[0][0]\n",
    "    A2 = R2.quo(M2, 'z')\n",
    "    h1 = solve_h90(A1)\n",
    "    h2 = solve_h90(A2)\n",
    "    i2 = rnorm(h2, m)\n",
    "    aa = h1^m\n",
    "    bb = i2^m\n",
    "    C = k.extension(M2, 'x')\n",
    "    \n",
    "    a = R([x for x in aa.list()]).subs(C.gen()^l)\n",
    "    b = C([k(x) for x in bb.list()])\n",
    "    \n",
    "    t = a/b\n",
    "    c = t.nth_root(n)\n",
    "    return h1, A2(c.polynomial().list())*h2"
   ]
  },
  {
   "cell_type": "code",
   "execution_count": 9,
   "metadata": {
    "collapsed": false,
    "deletable": true,
    "editable": true
   },
   "outputs": [
    {
     "data": {
      "text/plain": [
       "3"
      ]
     },
     "execution_count": 9,
     "metadata": {},
     "output_type": "execute_result"
    }
   ],
   "source": [
    "K, A = ext_scalars(GF(7), 9)  # 1 = r₁ < r₂ = 2\n",
    "a = A.random_element()\n",
    "h = solve_h90(A)\n",
    "u = h*frob_r(h)*frob_r(h, 2)\n",
    "v = rnorm(h, 3)\n",
    "is_h90(u, A.gen()^3), frob_l(u, 3) == u, u == v\n",
    "A.degree()"
   ]
  },
  {
   "cell_type": "code",
   "execution_count": 29,
   "metadata": {
    "collapsed": false,
    "deletable": true,
    "editable": true
   },
   "outputs": [
    {
     "name": "stdout",
     "output_type": "stream",
     "text": [
      "9 3 1 1 1\n"
     ]
    },
    {
     "data": {
      "text/plain": [
       "(True, True, False)"
      ]
     },
     "execution_count": 29,
     "metadata": {},
     "output_type": "execute_result"
    }
   ],
   "source": [
    "K, A = ext_scalars(GF(19), 9)  # 1 = r₁ = r₂\n",
    "a = A.random_element()\n",
    "h = solve_h90(A)\n",
    "u = h*frob_r(h)*frob_r(h, 2)\n",
    "v = rnorm(h, 3)\n",
    "is_h90(u, A.gen()^3), frob_l(u, 3) == u, u == v"
   ]
  },
  {
   "cell_type": "code",
   "execution_count": 41,
   "metadata": {
    "collapsed": false,
    "deletable": true,
    "editable": true
   },
   "outputs": [
    {
     "name": "stdout",
     "output_type": "stream",
     "text": [
      "15 3 4 1 4\n"
     ]
    },
    {
     "data": {
      "text/plain": [
       "(True, True, True)"
      ]
     },
     "execution_count": 41,
     "metadata": {},
     "output_type": "execute_result"
    }
   ],
   "source": [
    "K, A = ext_scalars(GF(7), 15)\n",
    "a = A.random_element()\n",
    "h = solve_h90(A)\n",
    "u = h*frob_r(h, 1)*frob_r(h, 2)*frob_r(h, 3)\n",
    "v = rnorm(h, 3)\n",
    "is_h90(u, A.gen()^10), frob_r(u, 3) == u, u == v"
   ]
  },
  {
   "cell_type": "code",
   "execution_count": 46,
   "metadata": {
    "collapsed": false,
    "deletable": true,
    "editable": true
   },
   "outputs": [
    {
     "name": "stdout",
     "output_type": "stream",
     "text": [
      "15 5 4 4 1\n"
     ]
    },
    {
     "data": {
      "text/plain": [
       "(True, True, False, True, False, True)"
      ]
     },
     "execution_count": 46,
     "metadata": {},
     "output_type": "execute_result"
    }
   ],
   "source": [
    "K, A = ext_scalars(GF(7), 15)\n",
    "a = A.random_element()\n",
    "h = solve_h90(A)\n",
    "u = h*frob_r(h, 4)*frob_r(h, 8)\n",
    "v = rnorm(h, 5)\n",
    "is_h90(u, A.gen()^3), frob_r(u, 4) == u, is_h90(v, A.gen()^3), frob_r(v, 4) == v, u == v, u == h^3"
   ]
  },
  {
   "cell_type": "code",
   "execution_count": 100,
   "metadata": {
    "collapsed": false,
    "deletable": true,
    "editable": true
   },
   "outputs": [
    {
     "data": {
      "text/plain": [
       "(False, False)"
      ]
     },
     "execution_count": 100,
     "metadata": {},
     "output_type": "execute_result"
    }
   ],
   "source": [
    "K, A = ext_scalars(GF(19), 15)\n",
    "a = A.random_element()\n",
    "h = solve_h90(A)\n",
    "u = h*frob_r(h, 1)\n",
    "is_h90(u, A.gen()^5), frob_l(u, 3) == u"
   ]
  },
  {
   "cell_type": "markdown",
   "metadata": {
    "deletable": true,
    "editable": true
   },
   "source": [
    "# An $\\ell$-adic tower"
   ]
  },
  {
   "cell_type": "code",
   "execution_count": 94,
   "metadata": {
    "collapsed": false,
    "deletable": true,
    "editable": true
   },
   "outputs": [
    {
     "data": {
      "text/plain": [
       "2"
      ]
     },
     "execution_count": 94,
     "metadata": {},
     "output_type": "execute_result"
    }
   ],
   "source": [
    "p, l, n = 17, 3, 2\n",
    "cyclo_deg(GF(p), l^n)"
   ]
  },
  {
   "cell_type": "code",
   "execution_count": 95,
   "metadata": {
    "collapsed": false,
    "deletable": true,
    "editable": true
   },
   "outputs": [
    {
     "name": "stdout",
     "output_type": "stream",
     "text": [
      "True\n",
      "True\n",
      "True\n",
      "True\n",
      "True\n",
      "True\n",
      "True\n",
      "True\n",
      "True\n",
      "True\n"
     ]
    }
   ],
   "source": [
    "for i in range(10):\n",
    "    h1, h2 = testl(p, l, n)\n",
    "    print is_iso(h1, h2)"
   ]
  },
  {
   "cell_type": "code",
   "execution_count": 16,
   "metadata": {
    "collapsed": false,
    "deletable": true,
    "editable": true
   },
   "outputs": [
    {
     "data": {
      "text/plain": [
       "False"
      ]
     },
     "execution_count": 16,
     "metadata": {},
     "output_type": "execute_result"
    }
   ],
   "source": [
    "h2 == h2b"
   ]
  },
  {
   "cell_type": "code",
   "execution_count": 17,
   "metadata": {
    "collapsed": false,
    "deletable": true,
    "editable": true
   },
   "outputs": [
    {
     "data": {
      "text/plain": [
       "True"
      ]
     },
     "execution_count": 17,
     "metadata": {},
     "output_type": "execute_result"
    }
   ],
   "source": [
    "is_iso(h1, h2b)"
   ]
  },
  {
   "cell_type": "code",
   "execution_count": 18,
   "metadata": {
    "collapsed": true,
    "deletable": true,
    "editable": true
   },
   "outputs": [],
   "source": [
    "h3 = findh90(h2b, 3^3)"
   ]
  },
  {
   "cell_type": "code",
   "execution_count": 19,
   "metadata": {
    "collapsed": false,
    "deletable": true,
    "editable": true
   },
   "outputs": [
    {
     "data": {
      "text/plain": [
       "True"
      ]
     },
     "execution_count": 19,
     "metadata": {},
     "output_type": "execute_result"
    }
   ],
   "source": [
    "is_iso(h1, h3)"
   ]
  },
  {
   "cell_type": "markdown",
   "metadata": {
    "collapsed": true,
    "deletable": true,
    "editable": true
   },
   "source": [
    "# Composita"
   ]
  },
  {
   "cell_type": "code",
   "execution_count": 113,
   "metadata": {
    "collapsed": false,
    "deletable": true,
    "editable": true
   },
   "outputs": [
    {
     "data": {
      "text/plain": [
       "12"
      ]
     },
     "execution_count": 113,
     "metadata": {},
     "output_type": "execute_result"
    }
   ],
   "source": [
    "p = 2\n",
    "k = GF(p)\n",
    "cyclo_deg(k, 3^2*5)"
   ]
  },
  {
   "cell_type": "code",
   "execution_count": 114,
   "metadata": {
    "collapsed": false,
    "deletable": true,
    "editable": true
   },
   "outputs": [
    {
     "name": "stdout",
     "output_type": "stream",
     "text": [
      "True\n",
      "True\n",
      "True\n",
      "True\n",
      "True\n",
      "True\n",
      "True\n",
      "True\n",
      "True\n",
      "True\n"
     ]
    }
   ],
   "source": [
    "m = 3^1 * 5\n",
    "n = 3^2 * 5\n",
    "l = n // m\n",
    "for i in range(10):\n",
    "    h1, h2 = testc(p, m, n)\n",
    "    print is_iso(h1, h2)"
   ]
  },
  {
   "cell_type": "code",
   "execution_count": 115,
   "metadata": {
    "collapsed": false,
    "deletable": true,
    "editable": true
   },
   "outputs": [
    {
     "data": {
      "text/plain": [
       "(x^14 + x^10 + x^7 + x^4 + x^3 + x^2 + x)*z^3 + (x^14 + x^13 + x^10 + x^9 + x^7 + x^5 + x^4 + x^3 + x^2 + 1)*z^2 + (x^14 + x^11 + x^9 + x^8 + x^6 + x^3 + x^2 + x + 1)*z + x^14 + x^13 + x^11 + x^10 + x^9 + x^7 + x^6"
      ]
     },
     "execution_count": 115,
     "metadata": {},
     "output_type": "execute_result"
    }
   ],
   "source": [
    "h1"
   ]
  },
  {
   "cell_type": "code",
   "execution_count": 116,
   "metadata": {
    "collapsed": false,
    "deletable": true,
    "editable": true
   },
   "outputs": [
    {
     "data": {
      "text/plain": [
       "(z45^43 + z45^42 + z45^40 + z45^39 + z45^37 + z45^34 + z45^32 + z45^31 + z45^29 + z45^27 + z45^26 + z45^25 + z45^24 + z45^22 + z45^18 + z45^15 + z45^14 + z45^12 + z45^11 + 1)*z^11 + (z45^44 + z45^41 + z45^39 + z45^38 + z45^36 + z45^35 + z45^33 + z45^32 + z45^30 + z45^28 + z45^25 + z45^22 + z45^20 + z45^17 + z45^14 + z45^12 + z45^7 + z45^6 + z45^2 + 1)*z^10 + (z45^44 + z45^43 + z45^42 + z45^38 + z45^37 + z45^36 + z45^29 + z45^27 + z45^26 + z45^24 + z45^23 + z45^20 + z45^17 + z45^15 + z45^13 + z45^12 + z45^10 + z45^9 + z45^8 + z45^6 + z45^4 + z45^3 + z45)*z^9 + (z45^43 + z45^41 + z45^37 + z45^36 + z45^35 + z45^32 + z45^31 + z45^30 + z45^28 + z45^27 + z45^26 + z45^25 + z45^24 + z45^21 + z45^17 + z45^15 + z45^14 + z45^12 + z45^11 + z45^9 + z45^8 + z45^7 + z45^6 + z45^5 + z45^2 + z45)*z^8 + (z45^42 + z45^41 + z45^39 + z45^38 + z45^37 + z45^36 + z45^34 + z45^32 + z45^28 + z45^27 + z45^26 + z45^24 + z45^21 + z45^19 + z45^18 + z45^16 + z45^15 + z45^14 + z45^13 + z45^12 + z45^8 + z45^5 + z45^4 + z45^2 + z45 + 1)*z^7 + (z45^44 + z45^42 + z45^38 + z45^37 + z45^34 + z45^33 + z45^31 + z45^29 + z45^26 + z45^24 + z45^19 + z45^16 + z45^12 + z45^11 + z45^10 + z45^9 + z45^8 + z45^4 + z45^2)*z^6 + (z45^44 + z45^42 + z45^39 + z45^37 + z45^36 + z45^35 + z45^34 + z45^30 + z45^29 + z45^27 + z45^25 + z45^24 + z45^23 + z45^19 + z45^17 + z45^16 + z45^15 + z45^13 + z45^12 + z45^10 + z45^7 + z45^5 + z45^4)*z^5 + (z45^44 + z45^43 + z45^40 + z45^36 + z45^35 + z45^34 + z45^33 + z45^32 + z45^31 + z45^30 + z45^27 + z45^25 + z45^24 + z45^23 + z45^22 + z45^21 + z45^19 + z45^18 + z45^14 + z45^12 + z45^11 + z45^9 + z45^8 + z45^5 + 1)*z^4 + (z45^42 + z45^39 + z45^38 + z45^37 + z45^36 + z45^34 + z45^33 + z45^31 + z45^28 + z45^27 + z45^25 + z45^20 + z45^19 + z45^17 + z45^13 + z45^9 + z45^6 + z45^3 + z45^2)*z^3 + (z45^44 + z45^42 + z45^41 + z45^36 + z45^35 + z45^34 + z45^33 + z45^32 + z45^29 + z45^27 + z45^26 + z45^25 + z45^20 + z45^18 + z45^17 + z45^15 + z45^14 + z45^12 + z45^11 + z45^10 + z45^5)*z^2 + (z45^44 + z45^43 + z45^40 + z45^37 + z45^32 + z45^30 + z45^26 + z45^24 + z45^22 + z45^21 + z45^19 + z45^17 + z45^13 + z45^11 + z45^9 + z45^3 + z45^2)*z + z45^42 + z45^41 + z45^40 + z45^39 + z45^35 + z45^33 + z45^31 + z45^28 + z45^25 + z45^23 + z45^22 + z45^19 + z45^17 + z45^15 + z45^13 + z45^12 + z45^8 + z45^7 + z45^6 + z45^5 + z45^3"
      ]
     },
     "execution_count": 116,
     "metadata": {},
     "output_type": "execute_result"
    }
   ],
   "source": [
    "h2"
   ]
  },
  {
   "cell_type": "code",
   "execution_count": 7,
   "metadata": {
    "collapsed": false,
    "deletable": true,
    "editable": true
   },
   "outputs": [
    {
     "ename": "NameError",
     "evalue": "name 'h2' is not defined",
     "output_type": "error",
     "traceback": [
      "\u001b[1;31m---------------------------------------------------------------------------\u001b[0m",
      "\u001b[1;31mNameError\u001b[0m                                 Traceback (most recent call last)",
      "\u001b[1;32m<ipython-input-7-ac7e6ecf6942>\u001b[0m in \u001b[0;36m<module>\u001b[1;34m()\u001b[0m\n\u001b[1;32m----> 1\u001b[1;33m \u001b[1;32mfor\u001b[0m \u001b[0mx\u001b[0m \u001b[1;32min\u001b[0m \u001b[0mrnorm\u001b[0m\u001b[1;33m(\u001b[0m\u001b[0mh2\u001b[0m\u001b[1;33m,\u001b[0m \u001b[0mm\u001b[0m\u001b[1;33m)\u001b[0m\u001b[1;33m.\u001b[0m\u001b[0mminpoly\u001b[0m\u001b[1;33m(\u001b[0m\u001b[1;33m)\u001b[0m\u001b[1;33m.\u001b[0m\u001b[0mlist\u001b[0m\u001b[1;33m(\u001b[0m\u001b[1;33m)\u001b[0m\u001b[1;33m:\u001b[0m\u001b[1;33m\u001b[0m\u001b[0m\n\u001b[0m\u001b[0;32m      2\u001b[0m     \u001b[1;32mprint\u001b[0m \u001b[0mx\u001b[0m\u001b[1;33m.\u001b[0m\u001b[0mminpoly\u001b[0m\u001b[1;33m(\u001b[0m\u001b[1;33m)\u001b[0m\u001b[1;33m\u001b[0m\u001b[0m\n",
      "\u001b[1;31mNameError\u001b[0m: name 'h2' is not defined"
     ]
    }
   ],
   "source": [
    "for x in rnorm(h2, m).minpoly().list():\n",
    "    print x.minpoly()"
   ]
  },
  {
   "cell_type": "markdown",
   "metadata": {
    "deletable": true,
    "editable": true
   },
   "source": [
    "# A compatibility test using norms\n",
    "\n",
    "We test if the usage of norms (in the case where it should work) is indeed compatible."
   ]
  },
  {
   "cell_type": "code",
   "execution_count": 7,
   "metadata": {
    "collapsed": true,
    "deletable": true,
    "editable": true
   },
   "outputs": [],
   "source": [
    "def basis_matrix(a, n = None):\n",
    "    K = a.parent()\n",
    "    m = K.degree()\n",
    "    \n",
    "    if n == None:\n",
    "        n = m\n",
    "    \n",
    "    k = K.prime_subfield()\n",
    "    S = MatrixSpace(k, m, n)()\n",
    "    for j in range(n):\n",
    "        L = (a^j).polynomial().list()\n",
    "        i = 0\n",
    "        for l in L:\n",
    "            S[i, j] = l\n",
    "            i += 1\n",
    "    return S\n",
    "\n",
    "def fflist(x):\n",
    "    L = x.polynomial().list()\n",
    "    l = len(L)\n",
    "    k = x.parent()\n",
    "    d = k.degree()\n",
    "    if l < d:\n",
    "        L += (d-l)*[k()]\n",
    "        \n",
    "    return L\n",
    "\n",
    "def compute_map(a, b):\n",
    "    \n",
    "    A = basis_matrix(a)\n",
    "    B = basis_matrix(b, a.parent().degree())\n",
    "    C = B*A^(-1)\n",
    "    \n",
    "    K = b.parent()\n",
    "    k = K.prime_subfield()\n",
    "    S = MatrixSpace(k, a.parent().degree(), 1)\n",
    "\n",
    "    return lambda x : K((C*S(fflist(x))).column(0))\n",
    "\n",
    "def compute_emb(h1, h2):\n",
    "    m = h1.base_ring().degree()\n",
    "    n = h2.base_ring().degree()\n",
    "    l = n // m\n",
    "    i2 = rnorm(h2, m)\n",
    "    j2 = change_basis(i2, h2.parent().gen()^l, h1.parent().degree())\n",
    "    return compute_map(h1.list()[0], j2) "
   ]
  },
  {
   "cell_type": "code",
   "execution_count": 170,
   "metadata": {
    "collapsed": false,
    "deletable": true,
    "editable": true
   },
   "outputs": [
    {
     "data": {
      "text/plain": [
       "True"
      ]
     },
     "execution_count": 170,
     "metadata": {},
     "output_type": "execute_result"
    }
   ],
   "source": [
    "p = 23\n",
    "m, n, o = 15, 45, 135\n",
    "k = GF(p)\n",
    "km, Am = ext_scalars(k, m)\n",
    "hm = solve_h90(Am)\n",
    "hn = findh90(hm, n)\n",
    "ho = findh90(hn, o)\n",
    "\n",
    "f = compute_emb(hm, hn)\n",
    "g = compute_emb(hn, ho)\n",
    "h = compute_emb(hm, ho)\n",
    "\n",
    "g(f(km.gen())) == h(km.gen())"
   ]
  },
  {
   "cell_type": "code",
   "execution_count": 177,
   "metadata": {
    "collapsed": false,
    "deletable": true,
    "editable": true
   },
   "outputs": [
    {
     "name": "stdout",
     "output_type": "stream",
     "text": [
      "x^15 + 18*x^11 + 3*x^10 + 8*x^9 + 16*x^8 + 13*x^6 + 3*x^4 + 17*x^3 + 11*x^2 + 5*x + 5\n",
      "x\n",
      "x\n",
      "x^15 + 22*x^11 + 17*x^10 + 8*x^9 + 20*x^8 + 5*x^7 + 13*x^6 + 9*x^5 + 20*x^4 + 19*x^3 + 8*x^2 + 21*x + 10\n",
      "x\n",
      "x\n",
      "x^15 + 7*x^11 + 5*x^10 + 3*x^9 + 20*x^8 + 7*x^7 + 12*x^6 + 15*x^5 + 20*x^4 + 16*x^3 + 21*x^2 + 5*x + 4\n",
      "x\n",
      "x\n",
      "x^15 + 18*x^11 + 20*x^10 + 8*x^9 + 7*x^8 + 10*x^6 + 20*x^4 + 17*x^3 + 12*x^2 + 5*x + 18\n",
      "x\n",
      "x\n"
     ]
    }
   ],
   "source": [
    "for x in rnorm(hn, m).list():\n",
    "    print(x.minpoly())"
   ]
  },
  {
   "cell_type": "code",
   "execution_count": 182,
   "metadata": {
    "collapsed": false,
    "deletable": true,
    "editable": true,
    "scrolled": true
   },
   "outputs": [
    {
     "name": "stdout",
     "output_type": "stream",
     "text": [
      "x + 1\n",
      "x^15 + 21*x^11 + 2*x^10 + 6*x^9 + 6*x^8 + 19*x^7 + 18*x^6 + 3*x^5 + 13*x^4 + 20*x^3 + 17*x^2 + 4*x + 15\n",
      "x^15 + 22*x^13 + 4*x^12 + 5*x^11 + 3*x^10 + 17*x^9 + 9*x^8 + 20*x^7 + 11*x^6 + 6*x^5 + x^4 + 9*x^3 + 20*x^2 + 9*x + 21\n",
      "x^15 + 21*x^11 + 8*x^10 + 17*x^9 + 2*x^8 + 5*x^7 + 14*x^6 + 8*x^5 + 16*x^4 + 2*x^3 + 6*x^2 + 20*x + 17\n",
      "x + 22\n"
     ]
    }
   ],
   "source": [
    "for x in rnorm(hn, m).minpoly():\n",
    "    print x.minpoly()"
   ]
  },
  {
   "cell_type": "code",
   "execution_count": 183,
   "metadata": {
    "collapsed": false,
    "deletable": true,
    "editable": true,
    "scrolled": true
   },
   "outputs": [
    {
     "name": "stdout",
     "output_type": "stream",
     "text": [
      "x + 1\n",
      "x^15 + 21*x^11 + 2*x^10 + 6*x^9 + 6*x^8 + 19*x^7 + 18*x^6 + 3*x^5 + 13*x^4 + 20*x^3 + 17*x^2 + 4*x + 15\n",
      "x^15 + 22*x^13 + 4*x^12 + 5*x^11 + 3*x^10 + 17*x^9 + 9*x^8 + 20*x^7 + 11*x^6 + 6*x^5 + x^4 + 9*x^3 + 20*x^2 + 9*x + 21\n",
      "x^15 + 21*x^11 + 8*x^10 + 17*x^9 + 2*x^8 + 5*x^7 + 14*x^6 + 8*x^5 + 16*x^4 + 2*x^3 + 6*x^2 + 20*x + 17\n",
      "x + 22\n"
     ]
    }
   ],
   "source": [
    "for x in hm.minpoly():\n",
    "    print x.minpoly()"
   ]
  },
  {
   "cell_type": "markdown",
   "metadata": {
    "deletable": true,
    "editable": true
   },
   "source": [
    "# A compatibility test using CRT"
   ]
  },
  {
   "cell_type": "code",
   "execution_count": 40,
   "metadata": {
    "collapsed": false,
    "deletable": true,
    "editable": true
   },
   "outputs": [],
   "source": [
    "\"\"\"\n",
    "Test function to work around the extension F_{p^l}, F_{p^{lm}}, F_{p^{l²m²}}.\n",
    "\"\"\"\n",
    "def test_comp(p, l, m):\n",
    "    \n",
    "    # We create the prime field, the root ζ_{l²m²}, and the field k(ζ_{l²m²})\n",
    "    \n",
    "    k = GF(p)\n",
    "    R = k['z']\n",
    "    Cyclo = cyclotomic_polynomial(l^2*m^2)\n",
    "    Zl2m2 = Cyclo.change_ring(k).factor()[0][0]\n",
    "    Cl2m2.<z> = k.extension(Zl2m2)\n",
    "    \n",
    "    # We create the other roots using ζ_{l²m²} (we are cheating a bit...)\n",
    "    \n",
    "    zl2 = z^(m^2)\n",
    "    zm2 = z^(l^2)\n",
    "    Zl2 = zl2.minpoly()\n",
    "    Zm2 = zm2.minpoly()\n",
    "    \n",
    "    zl = zl2^l\n",
    "    zm = zm2^m\n",
    "    Zl = zl.minpoly()\n",
    "    Zm = zm.minpoly()\n",
    "    \n",
    "    u1, u2 = xgcd(l, m)[1:3]\n",
    "    zlm = zl^u2 * zm^u1\n",
    "    Zlm = zlm.minpoly()\n",
    "    \n",
    "    # We create the rings and algebras\n",
    "    \n",
    "    kl2m2 = k.extension(l^2*m^2, \"x\")\n",
    "    Rl2m2 = kl2m2[\"T\"]\n",
    "    Al2m2 = Rl2m2.quo(Zl2m2)\n",
    "    \n",
    "    kl2 = k.extension(l^2, \"x\")\n",
    "    Rl2 = kl2[\"T\"]\n",
    "    Al2 = Rl2.quo(Zl2)\n",
    "\n",
    "    km2 = k.extension(m^2, \"x\")\n",
    "    Rm2 = km2[\"T\"]\n",
    "    Am2 = Rm2.quo(Zm2)\n",
    "    \n",
    "    klm = k.extension(l*m, \"x\")\n",
    "    Rlm = klm[\"T\"]\n",
    "    Alm = Rlm.quo(Zlm)\n",
    "    \n",
    "    kl = k.extension(l, \"x\")\n",
    "    Rl = kl[\"T\"]\n",
    "    Al = Rl.quo(Zl)\n",
    "    \n",
    "    km = k.extension(m, \"x\")\n",
    "    Rm = km[\"T\"]\n",
    "    Am = Rm.quo(Zm)\n",
    "    \n",
    "    # We compute the solutions of the Hilbert 90 problems in the first extension of each tower\n",
    "    \n",
    "    hl = solve_h90(Al)\n",
    "    hm = solve_h90(Am)\n",
    "    \n",
    "    # We compute compatible solutions in higher extensions of the two towers\n",
    "    ## l-adic tower\n",
    "    \n",
    "    htmpl2 = solve_h90(Al2)\n",
    "    il2 = rnorm(htmpl2, l)\n",
    "    Cl2 = k.extension(Zl2, 'x')\n",
    "    aal = hl^(l)\n",
    "    bbl = il2^(l)\n",
    "    al = R([x for x in aal.list()]).subs(Cl2.gen()^l)\n",
    "    bl = Cl2([k(x) for x in bbl.list()])\n",
    "    \n",
    "    tl = al/bl\n",
    "    cl = tl.nth_root(l^2)\n",
    "    hl2 = Al2(cl.polynomial().list())*htmpl2\n",
    "    \n",
    "    ## m-adic tower\n",
    "    \n",
    "    htmpm2 = solve_h90(Am2)\n",
    "    im2 = rnorm(htmpm2, m)\n",
    "    Cm2 = k.extension(Zm2, 'x')\n",
    "    aam = hm^(m)\n",
    "    bbm = im2^(m)\n",
    "    am = R([x for x in aam.list()]).subs(Cm2.gen()^m)\n",
    "    bm = Cm2([k(x) for x in bbm.list()])\n",
    "    \n",
    "    tm = am/bm\n",
    "    cm = tm.nth_root(m^2)\n",
    "    hm2 = Am2(cm.polynomial().list())*htmpm2\n",
    "    \n",
    "    # We compute compatible solutions in the composita\n",
    "    ## l × m\n",
    "    \n",
    "    Clm = k.extension(Zlm, 'x')\n",
    "    htmplm = solve_h90(Alm)\n",
    "    alm = Clm([k(x) for x in (htmplm^(l*m)).list()])\n",
    "    blm = Clm([k(x) for x in (hl^l).list()]).polynomial().subs(Clm.gen()^m)\n",
    "    clm = Clm([k(x) for x in (hm^m).list()]).polynomial().subs(Clm.gen()^l)\n",
    "    \n",
    "    tl_lm = (blm*alm^(-1)).nth_root(l)\n",
    "    tm_lm = (clm*alm^(-1)).nth_root(m)\n",
    "    \n",
    "    hlm = Alm(tl_lm.polynomial().list())*htmplm^(m*u2)+Alm(tm_lm.polynomial().list())*htmplm^(l*u1)\n",
    "    \n",
    "    Tlm_m = lambda x : Alm((clm/blm).polynomial().list())*x^l\n",
    "    Tlm_l = lambda x : Alm((blm/clm).polynomial().list())*x^m\n",
    "    \n",
    "    return hlm, hl, Tlm_l\n",
    "\n",
    "    ## l² × m²\n",
    "    \n",
    "    v1, v2 = xgcd(l^2, m^2)[1:3]\n",
    "    Cl2m2 = k.extension(Zl2m2, 'x')\n",
    "    htmpl2m2 = solve_h90(Al2m2)\n",
    "    al2m2 = Cl2m2([k(x) for x in (htmpl2m2^(l^2*m^2)).list()])\n",
    "    bl2m2 = Cl2m2([k(x) for x in (hl2^(l^2)).list()]).polynomial().subs(Cl2m2.gen()^(m^2))\n",
    "    cl2m2 = Cl2m2([k(x) for x in (hm2^(m^2)).list()]).polynomial().subs(Cl2m2.gen()^(l^2))\n",
    "    \n",
    "    tl2_l2m2 = (bl2m2*al2m2^(-1)).nth_root(l^2)\n",
    "    tm2_l2m2 = (cl2m2*al2m2^(-1)).nth_root(m^2)\n",
    "    \n",
    "    hl2m2 = Al2m2(tl2_l2m2.polynomial().list())*htmpl2m2^(m^2*v1)+Al2m2(tm2_l2m2.polynomial().list())*htmpl2m2^(l^2*v2)\n",
    "    \n",
    "    return hl2m2"
   ]
  },
  {
   "cell_type": "code",
   "execution_count": 11,
   "metadata": {
    "collapsed": true,
    "deletable": true,
    "editable": true
   },
   "outputs": [],
   "source": [
    "p = 23\n",
    "k = GF(p)\n",
    "l, m = 3, 5"
   ]
  },
  {
   "cell_type": "code",
   "execution_count": 101,
   "metadata": {
    "collapsed": false,
    "deletable": true,
    "editable": true
   },
   "outputs": [
    {
     "data": {
      "text/plain": [
       "(x^60 + 6*x^45 + 21*x^30 + 16*x^15 + 1, 1)"
      ]
     },
     "execution_count": 101,
     "metadata": {},
     "output_type": "execute_result"
    }
   ],
   "source": [
    "P.change_ring(k).factor()[0]"
   ]
  },
  {
   "cell_type": "code",
   "execution_count": 43,
   "metadata": {
    "collapsed": false,
    "deletable": true,
    "editable": true
   },
   "outputs": [
    {
     "name": "stdout",
     "output_type": "stream",
     "text": [
      "CPU times: user 11.8 s, sys: 28 ms, total: 11.9 s\n",
      "Wall time: 11.8 s\n"
     ]
    }
   ],
   "source": [
    "%time hlm, hl, Tlm_l = test_comp(p, l, m)"
   ]
  },
  {
   "cell_type": "code",
   "execution_count": 44,
   "metadata": {
    "collapsed": false
   },
   "outputs": [
    {
     "data": {
      "text/plain": [
       "False"
      ]
     },
     "execution_count": 44,
     "metadata": {},
     "output_type": "execute_result"
    }
   ],
   "source": [
    "is_h90(hlm, parent(hlm).gen())"
   ]
  },
  {
   "cell_type": "markdown",
   "metadata": {},
   "source": [
    "Too bad, it should be true."
   ]
  },
  {
   "cell_type": "code",
   "execution_count": null,
   "metadata": {
    "collapsed": true
   },
   "outputs": [],
   "source": []
  }
 ],
 "metadata": {
  "kernelspec": {
   "display_name": "SageMath 8.1",
   "language": "",
   "name": "sagemath"
  },
  "language_info": {
   "codemirror_mode": {
    "name": "ipython",
    "version": 2
   },
   "file_extension": ".py",
   "mimetype": "text/x-python",
   "name": "python",
   "nbconvert_exporter": "python",
   "pygments_lexer": "ipython2",
   "version": "2.7.14"
  }
 },
 "nbformat": 4,
 "nbformat_minor": 2
}
